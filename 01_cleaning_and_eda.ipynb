{
 "cells": [
  {
   "cell_type": "markdown",
   "id": "5c113bbf-9067-4c8e-80cd-77cd9d306e3d",
   "metadata": {},
   "source": [
    "## Imports and Functions"
   ]
  },
  {
   "cell_type": "code",
   "execution_count": 17,
   "id": "2c58fbea-8a0f-4d17-8349-cd485df9102a",
   "metadata": {},
   "outputs": [],
   "source": [
    "import numpy as np\n",
    "import pandas as pd\n",
    "import matplotlib.pyplot as plt\n",
    "import seaborn as sns\n",
    "\n",
    "from sklearn.model_selection import train_test_split\n",
    "\n",
    "# imputation\n",
    "from sklearn.experimental import enable_iterative_imputer \n",
    "from sklearn.impute import IterativeImputer\n",
    "from sklearn.linear_model import LinearRegression"
   ]
  },
  {
   "cell_type": "code",
   "execution_count": 18,
   "id": "4d35038a-bade-446c-b87d-411e0f58e473",
   "metadata": {},
   "outputs": [],
   "source": [
    "def clean_col(col_name):\n",
    "    '''\n",
    "    Rename columns to be more Pythonic:\n",
    "    - lowercase\n",
    "    - underscore between words\n",
    "    - replace some language with more descriptive examples\n",
    "    \n",
    "    Return revised column name.\n",
    "    '''\n",
    "    col_name = col_name.lower()\n",
    "    col_name = col_name.replace('pct','_pct')\n",
    "    col_name = col_name.replace('state','st')\n",
    "    col_name = col_name.replace('acstot','')\n",
    "    col_name = col_name.replace('minor','poc')\n",
    "    col_name = col_name.replace('less','sub_')\n",
    "    col_name = col_name.replace('lowinc','low_inc')\n",
    "    col_name = col_name.replace('ling','ling_')\n",
    "    col_name = col_name.replace('under5','under_5')\n",
    "    col_name = col_name.replace('over64','over_64')\n",
    "    col_name = col_name.replace('vuleo_pct','dem_index')\n",
    "    col_name = col_name.replace('pre1960','pre_1960')\n",
    "    col_name = col_name.replace('ptraf','traffic_prox')\n",
    "    col_name = col_name.replace('dslpm','diesel_pm')\n",
    "    col_name = col_name.replace('pnpl','npl_prox')\n",
    "    col_name = col_name.replace('prmp','rmp_prox')\n",
    "    col_name = col_name.replace('ptsdf','waste_prox')\n",
    "    col_name = col_name.replace('resp','resp_index')\n",
    "    col_name = col_name.replace('pwdis','waste_water')\n",
    "    col_name = col_name.replace('25','_25')\n",
    "    col_name = col_name.replace('ust','undgrd_stor')\n",
    "    \n",
    "    return col_name\n",
    "    "
   ]
  },
  {
   "cell_type": "markdown",
   "id": "383e3b90-adab-4fe3-93ac-c4ab86062590",
   "metadata": {},
   "source": [
    "---\n",
    "## Basic Cleaning"
   ]
  },
  {
   "cell_type": "code",
   "execution_count": 19,
   "id": "e2bfefee-3d6b-45f9-b523-d4caa79d96fa",
   "metadata": {},
   "outputs": [
    {
     "name": "stderr",
     "output_type": "stream",
     "text": [
      "C:\\Users\\Vishnu\\AppData\\Local\\Temp\\ipykernel_5556\\2832420063.py:1: DtypeWarning: Columns (128,129,130,131) have mixed types. Specify dtype option on import or set low_memory=False.\n",
      "  raw_data = pd.read_csv('./EJSCREEN_2021_StatePctile_Tracts.csv')\n"
     ]
    }
   ],
   "source": [
    "raw_data = pd.read_csv('./EJSCREEN_2021_StatePctile_Tracts.csv')"
   ]
  },
  {
   "cell_type": "markdown",
   "id": "f90e464d-31d4-4cae-ada9-731631c32e5e",
   "metadata": {},
   "source": [
    "Columns beginning with `B_` and `T_` provide information for creating specialized images. This is not necessary for our exploratory data analysis so we will drop these columns. Columns beginning with `P_` and `D_` contain percentile and index data. These can be reconstructed from other columns without much difficulty, so we will drop these as well.\n",
    "\n",
    "There is also identification and shape data that we do not need for eda. These columns are located in the first two and last two columns. We will drop these columns, too."
   ]
  },
  {
   "cell_type": "code",
   "execution_count": 20,
   "id": "d5771b7a-6999-491d-8a1f-2dbd94166f3c",
   "metadata": {
    "scrolled": true
   },
   "outputs": [
    {
     "data": {
      "text/plain": [
       "['STATE_NAME',\n",
       " 'ST_ABBREV',\n",
       " 'REGION',\n",
       " 'ACSTOTPOP',\n",
       " 'MINORPCT',\n",
       " 'LOWINCPCT',\n",
       " 'LESSHSPCT',\n",
       " 'LINGISOPCT',\n",
       " 'UNDER5PCT',\n",
       " 'OVER64PCT',\n",
       " 'UNEMPPCT',\n",
       " 'VULEOPCT',\n",
       " 'PRE1960PCT',\n",
       " 'DSLPM',\n",
       " 'CANCER',\n",
       " 'RESP',\n",
       " 'PTRAF',\n",
       " 'PWDIS',\n",
       " 'PNPL',\n",
       " 'PRMP',\n",
       " 'PTSDF',\n",
       " 'OZONE',\n",
       " 'PM25',\n",
       " 'UST']"
      ]
     },
     "execution_count": 20,
     "metadata": {},
     "output_type": "execute_result"
    }
   ],
   "source": [
    "# initial columns of interest\n",
    "# cut columns related to image data, clean the rest\n",
    "init_cols = [col for col in raw_data.columns if col[:2] not in 'P_B_T_D_']\n",
    "\n",
    "# drop OBJECTID - repeated index col\n",
    "# drop Shape cols\n",
    "init_cols = init_cols[2:-2]\n",
    "init_cols"
   ]
  },
  {
   "cell_type": "markdown",
   "id": "5e7aa5c3-acdf-42bf-b864-fa84daa88a30",
   "metadata": {},
   "source": [
    "Below we change the column labels to lower case and include an underscore to between the `PCT` (representing percent) to make the columns a bit more readable."
   ]
  },
  {
   "cell_type": "code",
   "execution_count": 21,
   "id": "49a25eb7-4c6f-4847-9ef8-22c6ce5fa796",
   "metadata": {},
   "outputs": [],
   "source": [
    "env = raw_data[init_cols].copy()\n",
    "env.columns = [clean_col(col) for col in env.columns]"
   ]
  },
  {
   "cell_type": "markdown",
   "id": "e09bf4e7-a8d1-4731-ba0b-c4599f58e0b4",
   "metadata": {},
   "source": [
    "To check the results, we list out the revised column names."
   ]
  },
  {
   "cell_type": "code",
   "execution_count": 22,
   "id": "e3322910-9236-4c68-8ae2-5cc7706e1640",
   "metadata": {},
   "outputs": [
    {
     "data": {
      "text/plain": [
       "Index(['st_name', 'st_abbrev', 'region', 'pop', 'poc_pct', 'low_inc_pct',\n",
       "       'sub_hs_pct', 'ling_iso_pct', 'under_5_pct', 'over_64_pct', 'unemp_pct',\n",
       "       'dem_index', 'pre_1960_pct', 'diesel_pm', 'cancer', 'resp_index',\n",
       "       'traffic_prox', 'waste_water', 'npl_prox', 'rmp_prox', 'waste_prox',\n",
       "       'ozone', 'pm_25', 'undgrd_stor'],\n",
       "      dtype='object')"
      ]
     },
     "execution_count": 22,
     "metadata": {},
     "output_type": "execute_result"
    }
   ],
   "source": [
    "env.columns"
   ]
  },
  {
   "cell_type": "markdown",
   "id": "ff117acc-bc46-4d4c-9c60-5d65195db994",
   "metadata": {},
   "source": [
    "There are few hundred rows of data where the numeric entries consist entirely of zeros or missing values. These rows will be impossible to work with and should be removed."
   ]
  },
  {
   "cell_type": "code",
   "execution_count": 23,
   "id": "6c226215-176c-4862-adbe-dadacca86050",
   "metadata": {},
   "outputs": [],
   "source": [
    "# drop rows containing no information (consisting of ALL zeros and nulls)\n",
    "\n",
    "# identify location of first and last numeric columns\n",
    "pop_index = env.columns.get_loc('pop')\n",
    "stor_index = env.columns.get_loc('undgrd_stor')\n",
    "\n",
    "# count nulls within a row\n",
    "nulls_in_row = env.iloc[:,pop_index:stor_index+1].isnull().sum(axis = 1)\n",
    "# count zeros within a row\n",
    "zeros_in_row = (env.iloc[:,pop_index:stor_index+1] == 0).sum(axis = 1)\n",
    "\n",
    "# if zeros and nulls sum to number of numeric columns, drop the row\n",
    "total_num_cols = env.iloc[:,pop_index:stor_index+1].shape[1]\n",
    "env.drop(index = env[nulls_in_row + zeros_in_row == total_num_cols].index, inplace = True)"
   ]
  },
  {
   "cell_type": "markdown",
   "id": "cdcf36ee-c4ff-420f-879d-1e209d2098e5",
   "metadata": {},
   "source": [
    "One of our major goals is to predict the air toxics cancer risk given by the `cancer` column. Since this column is especially valuable to us, we want to avoid imputing missing values within it. Below we see it contains 246 missing values."
   ]
  },
  {
   "cell_type": "code",
   "execution_count": 24,
   "id": "2ffed361-9c0a-48d8-aacf-64ac87a36a74",
   "metadata": {},
   "outputs": [
    {
     "data": {
      "text/plain": [
       "st_name             0\n",
       "st_abbrev           0\n",
       "region              0\n",
       "pop                 0\n",
       "poc_pct             0\n",
       "low_inc_pct         0\n",
       "sub_hs_pct          0\n",
       "ling_iso_pct        0\n",
       "under_5_pct         0\n",
       "over_64_pct         0\n",
       "unemp_pct           0\n",
       "dem_index           0\n",
       "pre_1960_pct        0\n",
       "diesel_pm         246\n",
       "cancer            246\n",
       "resp_index        246\n",
       "traffic_prox     2343\n",
       "waste_water     19644\n",
       "npl_prox            0\n",
       "rmp_prox            0\n",
       "waste_prox          0\n",
       "ozone            1383\n",
       "pm_25            1383\n",
       "undgrd_stor         0\n",
       "dtype: int64"
      ]
     },
     "execution_count": 24,
     "metadata": {},
     "output_type": "execute_result"
    }
   ],
   "source": [
    "env.isnull().sum()"
   ]
  },
  {
   "cell_type": "markdown",
   "id": "9fe7f8e0-8e82-45d2-a593-6ccfa3aad864",
   "metadata": {},
   "source": [
    "Before we drop the rows missing `cancer` data, we check to see if the entries seem genuinely random and that we are not introducing any blatant bias to our dataset. Since the states of these entries seem reasonably distributed, it feels fair to assume they are random."
   ]
  },
  {
   "cell_type": "code",
   "execution_count": 25,
   "id": "f69809ab-22ef-44e7-912b-bc09707a75a4",
   "metadata": {},
   "outputs": [
    {
     "data": {
      "text/plain": [
       "New York          31\n",
       "Florida           26\n",
       "California        18\n",
       "Texas             16\n",
       "Michigan          13\n",
       "Virginia          12\n",
       "Louisiana         12\n",
       "North Carolina    10\n",
       "Tennessee          8\n",
       "Colorado           7\n",
       "Pennsylvania       7\n",
       "Georgia            7\n",
       "Nevada             7\n",
       "South Carolina     6\n",
       "Illinois           6\n",
       "Arizona            6\n",
       "Massachusetts      5\n",
       "Kentucky           5\n",
       "Mississippi        4\n",
       "Maryland           4\n",
       "Kansas             4\n",
       "New Hampshire      3\n",
       "Utah               3\n",
       "Ohio               3\n",
       "Oregon             3\n",
       "Washington         3\n",
       "Wisconsin          3\n",
       "New Jersey         2\n",
       "Iowa               2\n",
       "Missouri           2\n",
       "Vermont            1\n",
       "Alabama            1\n",
       "New Mexico         1\n",
       "Minnesota          1\n",
       "Indiana            1\n",
       "Delaware           1\n",
       "Connecticut        1\n",
       "Wyoming            1\n",
       "Name: st_name, dtype: int64"
      ]
     },
     "execution_count": 25,
     "metadata": {},
     "output_type": "execute_result"
    }
   ],
   "source": [
    "env.loc[env['cancer'].isna(), 'st_name'].value_counts()"
   ]
  },
  {
   "cell_type": "code",
   "execution_count": 26,
   "id": "f96bbcd9-9ca2-452c-92f3-09b7d7310361",
   "metadata": {},
   "outputs": [],
   "source": [
    "env.dropna(subset = ['cancer'], inplace = True)"
   ]
  },
  {
   "cell_type": "code",
   "execution_count": 31,
   "id": "e613bafd",
   "metadata": {},
   "outputs": [],
   "source": [
    "env.drop(columns = ['dem_index', 'waste_water'], inplace = True)"
   ]
  },
  {
   "cell_type": "markdown",
   "id": "ef79994e-3438-4c87-91a0-56a59dffd73f",
   "metadata": {},
   "source": [
    "Conveniently, dropping the rows with missing `cancer` values coincided with rows missing `diesel_pm` and `resp_index`."
   ]
  },
  {
   "cell_type": "code",
   "execution_count": 32,
   "id": "061dd2dc-2186-471b-aa30-da459fdb55af",
   "metadata": {},
   "outputs": [
    {
     "data": {
      "text/plain": [
       "st_name            0\n",
       "st_abbrev          0\n",
       "region             0\n",
       "pop                0\n",
       "poc_pct            0\n",
       "low_inc_pct        0\n",
       "sub_hs_pct         0\n",
       "ling_iso_pct       0\n",
       "under_5_pct        0\n",
       "over_64_pct        0\n",
       "unemp_pct          0\n",
       "pre_1960_pct       0\n",
       "diesel_pm          0\n",
       "cancer             0\n",
       "resp_index         0\n",
       "traffic_prox    2103\n",
       "npl_prox           0\n",
       "rmp_prox           0\n",
       "waste_prox         0\n",
       "ozone           1383\n",
       "pm_25           1383\n",
       "undgrd_stor        0\n",
       "dtype: int64"
      ]
     },
     "execution_count": 32,
     "metadata": {},
     "output_type": "execute_result"
    }
   ],
   "source": [
    "env.isnull().sum()"
   ]
  },
  {
   "cell_type": "markdown",
   "id": "7a9fb81c-2b72-4d2d-8306-8dd82a37fd19",
   "metadata": {},
   "source": [
    "Another thing to be cautious of is that several columns are based on percentages of the population. These percentages can be somewhat deceptive for rows containing lower populations. For example, 100% of the population being minority feels more meaningful when the population size is 2416 than if the population size is 8. For this reason we want to filter out rows with especially small population sizes.\n",
    "\n",
    "Additionally, each row represents a Census tract. Census tracts generally have a population size above 1,200. Rows with a population size below 1,200 correspond to tribal data. We do not want to eliminate the tribal data, especially with the history of environmental injustice towards indigenous people. For this reason, we will set a population size of 30 as a lower bound for the data. This way, we can feel more confident in interpreting percentages and still keep as much of the tribal data as possible.\n",
    "\n",
    "Below we verify that the data corresponding to population sizes below 30 is reasonably distributed across all states."
   ]
  },
  {
   "cell_type": "code",
   "execution_count": 35,
   "id": "e5c18a08-535d-45ff-83e7-26611805875e",
   "metadata": {},
   "outputs": [
    {
     "data": {
      "text/plain": [
       "New York          34\n",
       "Florida           19\n",
       "California        18\n",
       "Texas             15\n",
       "Pennsylvania      15\n",
       "Puerto Rico       10\n",
       "Virginia          10\n",
       "Tennessee          9\n",
       "Hawaii             8\n",
       "Kansas             6\n",
       "Michigan           6\n",
       "North Carolina     5\n",
       "Massachusetts      4\n",
       "Missouri           4\n",
       "Louisiana          4\n",
       "Arizona            4\n",
       "Ohio               3\n",
       "Alabama            3\n",
       "Kentucky           3\n",
       "Maryland           2\n",
       "New Jersey         2\n",
       "Indiana            2\n",
       "Georgia            2\n",
       "Rhode Island       1\n",
       "Washington         1\n",
       "Arkansas           1\n",
       "South Carolina     1\n",
       "Montana            1\n",
       "Idaho              1\n",
       "Nebraska           1\n",
       "Oklahoma           1\n",
       "Alaska             1\n",
       "Illinois           1\n",
       "Nevada             1\n",
       "Oregon             1\n",
       "Name: st_name, dtype: int64"
      ]
     },
     "execution_count": 35,
     "metadata": {},
     "output_type": "execute_result"
    }
   ],
   "source": [
    "env.loc[env['pop'] <= 30, 'st_name'].value_counts()"
   ]
  },
  {
   "cell_type": "code",
   "execution_count": 37,
   "id": "2353ff63",
   "metadata": {},
   "outputs": [],
   "source": [
    "env = env[env['pop']>=30]"
   ]
  },
  {
   "cell_type": "code",
   "execution_count": 38,
   "id": "df21a25e",
   "metadata": {
    "scrolled": true
   },
   "outputs": [
    {
     "data": {
      "text/html": [
       "<div>\n",
       "<style scoped>\n",
       "    .dataframe tbody tr th:only-of-type {\n",
       "        vertical-align: middle;\n",
       "    }\n",
       "\n",
       "    .dataframe tbody tr th {\n",
       "        vertical-align: top;\n",
       "    }\n",
       "\n",
       "    .dataframe thead th {\n",
       "        text-align: right;\n",
       "    }\n",
       "</style>\n",
       "<table border=\"1\" class=\"dataframe\">\n",
       "  <thead>\n",
       "    <tr style=\"text-align: right;\">\n",
       "      <th></th>\n",
       "      <th>st_name</th>\n",
       "      <th>st_abbrev</th>\n",
       "      <th>region</th>\n",
       "      <th>pop</th>\n",
       "      <th>poc_pct</th>\n",
       "      <th>low_inc_pct</th>\n",
       "      <th>sub_hs_pct</th>\n",
       "      <th>ling_iso_pct</th>\n",
       "      <th>under_5_pct</th>\n",
       "      <th>over_64_pct</th>\n",
       "      <th>...</th>\n",
       "      <th>diesel_pm</th>\n",
       "      <th>cancer</th>\n",
       "      <th>resp_index</th>\n",
       "      <th>traffic_prox</th>\n",
       "      <th>npl_prox</th>\n",
       "      <th>rmp_prox</th>\n",
       "      <th>waste_prox</th>\n",
       "      <th>ozone</th>\n",
       "      <th>pm_25</th>\n",
       "      <th>undgrd_stor</th>\n",
       "    </tr>\n",
       "  </thead>\n",
       "  <tbody>\n",
       "    <tr>\n",
       "      <th>0</th>\n",
       "      <td>Alabama</td>\n",
       "      <td>AL</td>\n",
       "      <td>4</td>\n",
       "      <td>1993</td>\n",
       "      <td>0.167587</td>\n",
       "      <td>0.274962</td>\n",
       "      <td>0.125472</td>\n",
       "      <td>0.000000</td>\n",
       "      <td>0.057702</td>\n",
       "      <td>0.132464</td>\n",
       "      <td>...</td>\n",
       "      <td>0.175377</td>\n",
       "      <td>40.0</td>\n",
       "      <td>0.5</td>\n",
       "      <td>35.919960</td>\n",
       "      <td>0.066752</td>\n",
       "      <td>0.077960</td>\n",
       "      <td>0.500305</td>\n",
       "      <td>37.010497</td>\n",
       "      <td>9.152519</td>\n",
       "      <td>0.412039</td>\n",
       "    </tr>\n",
       "    <tr>\n",
       "      <th>1</th>\n",
       "      <td>Alabama</td>\n",
       "      <td>AL</td>\n",
       "      <td>4</td>\n",
       "      <td>1959</td>\n",
       "      <td>0.617152</td>\n",
       "      <td>0.435927</td>\n",
       "      <td>0.148254</td>\n",
       "      <td>0.000000</td>\n",
       "      <td>0.050536</td>\n",
       "      <td>0.144972</td>\n",
       "      <td>...</td>\n",
       "      <td>0.193126</td>\n",
       "      <td>40.0</td>\n",
       "      <td>0.5</td>\n",
       "      <td>159.744710</td>\n",
       "      <td>0.072665</td>\n",
       "      <td>0.082735</td>\n",
       "      <td>0.818620</td>\n",
       "      <td>37.038957</td>\n",
       "      <td>9.183280</td>\n",
       "      <td>2.461319</td>\n",
       "    </tr>\n",
       "    <tr>\n",
       "      <th>2</th>\n",
       "      <td>Alabama</td>\n",
       "      <td>AL</td>\n",
       "      <td>4</td>\n",
       "      <td>3507</td>\n",
       "      <td>0.348446</td>\n",
       "      <td>0.293128</td>\n",
       "      <td>0.149701</td>\n",
       "      <td>0.000000</td>\n",
       "      <td>0.027659</td>\n",
       "      <td>0.160251</td>\n",
       "      <td>...</td>\n",
       "      <td>0.224637</td>\n",
       "      <td>40.0</td>\n",
       "      <td>0.5</td>\n",
       "      <td>169.977159</td>\n",
       "      <td>0.075655</td>\n",
       "      <td>0.082532</td>\n",
       "      <td>1.299859</td>\n",
       "      <td>37.069151</td>\n",
       "      <td>9.207049</td>\n",
       "      <td>1.987063</td>\n",
       "    </tr>\n",
       "    <tr>\n",
       "      <th>3</th>\n",
       "      <td>Alabama</td>\n",
       "      <td>AL</td>\n",
       "      <td>4</td>\n",
       "      <td>3878</td>\n",
       "      <td>0.103146</td>\n",
       "      <td>0.216864</td>\n",
       "      <td>0.081583</td>\n",
       "      <td>0.023881</td>\n",
       "      <td>0.041774</td>\n",
       "      <td>0.244714</td>\n",
       "      <td>...</td>\n",
       "      <td>0.270230</td>\n",
       "      <td>40.0</td>\n",
       "      <td>0.5</td>\n",
       "      <td>500.544361</td>\n",
       "      <td>0.084317</td>\n",
       "      <td>0.087633</td>\n",
       "      <td>2.056273</td>\n",
       "      <td>37.087437</td>\n",
       "      <td>9.231752</td>\n",
       "      <td>3.362111</td>\n",
       "    </tr>\n",
       "    <tr>\n",
       "      <th>4</th>\n",
       "      <td>Alabama</td>\n",
       "      <td>AL</td>\n",
       "      <td>4</td>\n",
       "      <td>10596</td>\n",
       "      <td>0.290959</td>\n",
       "      <td>0.203222</td>\n",
       "      <td>0.079653</td>\n",
       "      <td>0.019630</td>\n",
       "      <td>0.047659</td>\n",
       "      <td>0.138071</td>\n",
       "      <td>...</td>\n",
       "      <td>0.301774</td>\n",
       "      <td>40.0</td>\n",
       "      <td>0.5</td>\n",
       "      <td>220.210382</td>\n",
       "      <td>0.093815</td>\n",
       "      <td>0.090465</td>\n",
       "      <td>1.082545</td>\n",
       "      <td>37.123515</td>\n",
       "      <td>9.242796</td>\n",
       "      <td>2.222632</td>\n",
       "    </tr>\n",
       "    <tr>\n",
       "      <th>...</th>\n",
       "      <td>...</td>\n",
       "      <td>...</td>\n",
       "      <td>...</td>\n",
       "      <td>...</td>\n",
       "      <td>...</td>\n",
       "      <td>...</td>\n",
       "      <td>...</td>\n",
       "      <td>...</td>\n",
       "      <td>...</td>\n",
       "      <td>...</td>\n",
       "      <td>...</td>\n",
       "      <td>...</td>\n",
       "      <td>...</td>\n",
       "      <td>...</td>\n",
       "      <td>...</td>\n",
       "      <td>...</td>\n",
       "      <td>...</td>\n",
       "      <td>...</td>\n",
       "      <td>...</td>\n",
       "      <td>...</td>\n",
       "      <td>...</td>\n",
       "    </tr>\n",
       "    <tr>\n",
       "      <th>73996</th>\n",
       "      <td>Puerto Rico</td>\n",
       "      <td>PR</td>\n",
       "      <td>2</td>\n",
       "      <td>6113</td>\n",
       "      <td>0.998528</td>\n",
       "      <td>0.821821</td>\n",
       "      <td>0.141336</td>\n",
       "      <td>0.782748</td>\n",
       "      <td>0.034189</td>\n",
       "      <td>0.132504</td>\n",
       "      <td>...</td>\n",
       "      <td>0.019051</td>\n",
       "      <td>20.0</td>\n",
       "      <td>0.2</td>\n",
       "      <td>124.806305</td>\n",
       "      <td>0.056280</td>\n",
       "      <td>0.726861</td>\n",
       "      <td>1.591806</td>\n",
       "      <td>NaN</td>\n",
       "      <td>NaN</td>\n",
       "      <td>0.000000</td>\n",
       "    </tr>\n",
       "    <tr>\n",
       "      <th>73997</th>\n",
       "      <td>Puerto Rico</td>\n",
       "      <td>PR</td>\n",
       "      <td>2</td>\n",
       "      <td>2388</td>\n",
       "      <td>0.992044</td>\n",
       "      <td>0.656198</td>\n",
       "      <td>0.169355</td>\n",
       "      <td>0.635171</td>\n",
       "      <td>0.069095</td>\n",
       "      <td>0.147404</td>\n",
       "      <td>...</td>\n",
       "      <td>0.020953</td>\n",
       "      <td>20.0</td>\n",
       "      <td>0.2</td>\n",
       "      <td>980.891997</td>\n",
       "      <td>0.058924</td>\n",
       "      <td>0.850649</td>\n",
       "      <td>1.486320</td>\n",
       "      <td>NaN</td>\n",
       "      <td>NaN</td>\n",
       "      <td>0.000000</td>\n",
       "    </tr>\n",
       "    <tr>\n",
       "      <th>73998</th>\n",
       "      <td>Puerto Rico</td>\n",
       "      <td>PR</td>\n",
       "      <td>2</td>\n",
       "      <td>2126</td>\n",
       "      <td>0.998119</td>\n",
       "      <td>0.808090</td>\n",
       "      <td>0.182512</td>\n",
       "      <td>0.680067</td>\n",
       "      <td>0.039511</td>\n",
       "      <td>0.210254</td>\n",
       "      <td>...</td>\n",
       "      <td>0.017332</td>\n",
       "      <td>20.0</td>\n",
       "      <td>0.2</td>\n",
       "      <td>247.918471</td>\n",
       "      <td>0.056189</td>\n",
       "      <td>0.585214</td>\n",
       "      <td>0.961161</td>\n",
       "      <td>NaN</td>\n",
       "      <td>NaN</td>\n",
       "      <td>0.000000</td>\n",
       "    </tr>\n",
       "    <tr>\n",
       "      <th>73999</th>\n",
       "      <td>Puerto Rico</td>\n",
       "      <td>PR</td>\n",
       "      <td>2</td>\n",
       "      <td>4397</td>\n",
       "      <td>1.000000</td>\n",
       "      <td>0.763475</td>\n",
       "      <td>0.133858</td>\n",
       "      <td>0.583131</td>\n",
       "      <td>0.082101</td>\n",
       "      <td>0.173073</td>\n",
       "      <td>...</td>\n",
       "      <td>0.018709</td>\n",
       "      <td>20.0</td>\n",
       "      <td>0.2</td>\n",
       "      <td>94.823564</td>\n",
       "      <td>0.065705</td>\n",
       "      <td>1.565644</td>\n",
       "      <td>0.762340</td>\n",
       "      <td>NaN</td>\n",
       "      <td>NaN</td>\n",
       "      <td>0.123067</td>\n",
       "    </tr>\n",
       "    <tr>\n",
       "      <th>74000</th>\n",
       "      <td>Puerto Rico</td>\n",
       "      <td>PR</td>\n",
       "      <td>2</td>\n",
       "      <td>2225</td>\n",
       "      <td>1.000000</td>\n",
       "      <td>0.879021</td>\n",
       "      <td>0.347826</td>\n",
       "      <td>0.833109</td>\n",
       "      <td>0.049888</td>\n",
       "      <td>0.253933</td>\n",
       "      <td>...</td>\n",
       "      <td>0.024788</td>\n",
       "      <td>20.0</td>\n",
       "      <td>0.2</td>\n",
       "      <td>217.770653</td>\n",
       "      <td>0.058567</td>\n",
       "      <td>0.565497</td>\n",
       "      <td>0.561430</td>\n",
       "      <td>NaN</td>\n",
       "      <td>NaN</td>\n",
       "      <td>0.000000</td>\n",
       "    </tr>\n",
       "  </tbody>\n",
       "</table>\n",
       "<p>73220 rows × 22 columns</p>\n",
       "</div>"
      ],
      "text/plain": [
       "           st_name st_abbrev  region    pop   poc_pct  low_inc_pct  \\\n",
       "0          Alabama        AL       4   1993  0.167587     0.274962   \n",
       "1          Alabama        AL       4   1959  0.617152     0.435927   \n",
       "2          Alabama        AL       4   3507  0.348446     0.293128   \n",
       "3          Alabama        AL       4   3878  0.103146     0.216864   \n",
       "4          Alabama        AL       4  10596  0.290959     0.203222   \n",
       "...            ...       ...     ...    ...       ...          ...   \n",
       "73996  Puerto Rico        PR       2   6113  0.998528     0.821821   \n",
       "73997  Puerto Rico        PR       2   2388  0.992044     0.656198   \n",
       "73998  Puerto Rico        PR       2   2126  0.998119     0.808090   \n",
       "73999  Puerto Rico        PR       2   4397  1.000000     0.763475   \n",
       "74000  Puerto Rico        PR       2   2225  1.000000     0.879021   \n",
       "\n",
       "       sub_hs_pct  ling_iso_pct  under_5_pct  over_64_pct  ...  diesel_pm  \\\n",
       "0        0.125472      0.000000     0.057702     0.132464  ...   0.175377   \n",
       "1        0.148254      0.000000     0.050536     0.144972  ...   0.193126   \n",
       "2        0.149701      0.000000     0.027659     0.160251  ...   0.224637   \n",
       "3        0.081583      0.023881     0.041774     0.244714  ...   0.270230   \n",
       "4        0.079653      0.019630     0.047659     0.138071  ...   0.301774   \n",
       "...           ...           ...          ...          ...  ...        ...   \n",
       "73996    0.141336      0.782748     0.034189     0.132504  ...   0.019051   \n",
       "73997    0.169355      0.635171     0.069095     0.147404  ...   0.020953   \n",
       "73998    0.182512      0.680067     0.039511     0.210254  ...   0.017332   \n",
       "73999    0.133858      0.583131     0.082101     0.173073  ...   0.018709   \n",
       "74000    0.347826      0.833109     0.049888     0.253933  ...   0.024788   \n",
       "\n",
       "       cancer  resp_index  traffic_prox  npl_prox  rmp_prox  waste_prox  \\\n",
       "0        40.0         0.5     35.919960  0.066752  0.077960    0.500305   \n",
       "1        40.0         0.5    159.744710  0.072665  0.082735    0.818620   \n",
       "2        40.0         0.5    169.977159  0.075655  0.082532    1.299859   \n",
       "3        40.0         0.5    500.544361  0.084317  0.087633    2.056273   \n",
       "4        40.0         0.5    220.210382  0.093815  0.090465    1.082545   \n",
       "...       ...         ...           ...       ...       ...         ...   \n",
       "73996    20.0         0.2    124.806305  0.056280  0.726861    1.591806   \n",
       "73997    20.0         0.2    980.891997  0.058924  0.850649    1.486320   \n",
       "73998    20.0         0.2    247.918471  0.056189  0.585214    0.961161   \n",
       "73999    20.0         0.2     94.823564  0.065705  1.565644    0.762340   \n",
       "74000    20.0         0.2    217.770653  0.058567  0.565497    0.561430   \n",
       "\n",
       "           ozone     pm_25  undgrd_stor  \n",
       "0      37.010497  9.152519     0.412039  \n",
       "1      37.038957  9.183280     2.461319  \n",
       "2      37.069151  9.207049     1.987063  \n",
       "3      37.087437  9.231752     3.362111  \n",
       "4      37.123515  9.242796     2.222632  \n",
       "...          ...       ...          ...  \n",
       "73996        NaN       NaN     0.000000  \n",
       "73997        NaN       NaN     0.000000  \n",
       "73998        NaN       NaN     0.000000  \n",
       "73999        NaN       NaN     0.123067  \n",
       "74000        NaN       NaN     0.000000  \n",
       "\n",
       "[73220 rows x 22 columns]"
      ]
     },
     "execution_count": 38,
     "metadata": {},
     "output_type": "execute_result"
    }
   ],
   "source": [
    "env"
   ]
  },
  {
   "cell_type": "markdown",
   "id": "7cf0aa64",
   "metadata": {},
   "source": [
    "-------------------------------------"
   ]
  },
  {
   "cell_type": "markdown",
   "id": "41e7bb42",
   "metadata": {},
   "source": [
    "### EDA Visulization"
   ]
  },
  {
   "cell_type": "code",
   "execution_count": 107,
   "id": "2ae20e62",
   "metadata": {},
   "outputs": [
    {
     "data": {
      "image/png": "[encoded data removed]",
      "text/plain": [
       "<Figure size 1080x1080 with 1 Axes>"
      ]
     },
     "metadata": {
      "needs_background": "light"
     },
     "output_type": "display_data"
    }
   ],
   "source": [
    "plt.figure(figsize = (15,15))\n",
    "sns.histplot(data = env.sort_values(by = 'region'), y = 'st_name', hue = 'region', palette = 'Blues_r');\n",
    "#env.groupby('region')['st_name'].value_counts().sort_values(ascending = False).plot(kind = 'barh')\n",
    "#env['st_name'].value_counts().plot(kind = 'barh')\n"
   ]
  },
  {
   "cell_type": "markdown",
   "id": "aecd3cc9",
   "metadata": {},
   "source": [
    "Region vs Environmnetal Factors"
   ]
  },
  {
   "cell_type": "code",
   "execution_count": 114,
   "id": "a0dd532b",
   "metadata": {},
   "outputs": [],
   "source": [
    "env.drop([73723], inplace = True)"
   ]
  },
  {
   "cell_type": "code",
   "execution_count": 115,
   "id": "b633772d",
   "metadata": {
    "scrolled": false
   },
   "outputs": [
    {
     "name": "stderr",
     "output_type": "stream",
     "text": [
      "C:\\Users\\Vishnu\\anaconda3\\lib\\site-packages\\seaborn\\_decorators.py:36: FutureWarning: Pass the following variables as keyword args: x, y. From version 0.12, the only valid positional argument will be `data`, and passing other arguments without an explicit keyword will result in an error or misinterpretation.\n",
      "  warnings.warn(\n"
     ]
    },
    {
     "data": {
      "image/png": "[encoded data removed]",
      "text/plain": [
       "<Figure size 720x720 with 1 Axes>"
      ]
     },
     "metadata": {
      "needs_background": "light"
     },
     "output_type": "display_data"
    }
   ],
   "source": [
    "plt.figure(figsize = (10,10))\n",
    "sns.boxplot(env['region'], env['cancer']);"
   ]
  },
  {
   "cell_type": "code",
   "execution_count": 64,
   "id": "5b635ee9",
   "metadata": {},
   "outputs": [
    {
     "name": "stderr",
     "output_type": "stream",
     "text": [
      "C:\\Users\\Vishnu\\anaconda3\\lib\\site-packages\\seaborn\\_decorators.py:36: FutureWarning: Pass the following variables as keyword args: x, y. From version 0.12, the only valid positional argument will be `data`, and passing other arguments without an explicit keyword will result in an error or misinterpretation.\n",
      "  warnings.warn(\n"
     ]
    },
    {
     "data": {
      "image/png": "[encoded data removed]",
      "text/plain": [
       "<Figure size 720x720 with 1 Axes>"
      ]
     },
     "metadata": {
      "needs_background": "light"
     },
     "output_type": "display_data"
    }
   ],
   "source": [
    "plt.figure(figsize = (10,10))\n",
    "sns.boxplot(env['region'], env['diesel_pm']);"
   ]
  },
  {
   "cell_type": "code",
   "execution_count": 65,
   "id": "6a44a510",
   "metadata": {
    "scrolled": false
   },
   "outputs": [
    {
     "name": "stderr",
     "output_type": "stream",
     "text": [
      "C:\\Users\\Vishnu\\anaconda3\\lib\\site-packages\\seaborn\\_decorators.py:36: FutureWarning: Pass the following variables as keyword args: x, y. From version 0.12, the only valid positional argument will be `data`, and passing other arguments without an explicit keyword will result in an error or misinterpretation.\n",
      "  warnings.warn(\n"
     ]
    },
    {
     "data": {
      "image/png": "[encoded data removed]",
      "text/plain": [
       "<Figure size 720x720 with 1 Axes>"
      ]
     },
     "metadata": {
      "needs_background": "light"
     },
     "output_type": "display_data"
    }
   ],
   "source": [
    "plt.figure(figsize = (10,10))\n",
    "sns.boxplot(env['region'], env['resp_index']);"
   ]
  },
  {
   "cell_type": "code",
   "execution_count": 71,
   "id": "7c061852",
   "metadata": {},
   "outputs": [
    {
     "name": "stderr",
     "output_type": "stream",
     "text": [
      "C:\\Users\\Vishnu\\anaconda3\\lib\\site-packages\\seaborn\\_decorators.py:36: FutureWarning: Pass the following variables as keyword args: x, y. From version 0.12, the only valid positional argument will be `data`, and passing other arguments without an explicit keyword will result in an error or misinterpretation.\n",
      "  warnings.warn(\n"
     ]
    },
    {
     "data": {
      "image/png": "[encoded data removed]",
      "text/plain": [
       "<Figure size 720x720 with 1 Axes>"
      ]
     },
     "metadata": {
      "needs_background": "light"
     },
     "output_type": "display_data"
    }
   ],
   "source": [
    "plt.figure(figsize = (10,10))\n",
    "sns.boxplot(env['region'], env['npl_prox']);"
   ]
  },
  {
   "cell_type": "code",
   "execution_count": 69,
   "id": "2f0886a0",
   "metadata": {},
   "outputs": [
    {
     "name": "stderr",
     "output_type": "stream",
     "text": [
      "C:\\Users\\Vishnu\\anaconda3\\lib\\site-packages\\seaborn\\_decorators.py:36: FutureWarning: Pass the following variables as keyword args: x, y. From version 0.12, the only valid positional argument will be `data`, and passing other arguments without an explicit keyword will result in an error or misinterpretation.\n",
      "  warnings.warn(\n"
     ]
    },
    {
     "data": {
      "image/png": "[encoded data removed]",
      "text/plain": [
       "<Figure size 720x720 with 1 Axes>"
      ]
     },
     "metadata": {
      "needs_background": "light"
     },
     "output_type": "display_data"
    }
   ],
   "source": [
    "plt.figure(figsize = (10,10))\n",
    "sns.boxplot(env['region'], env['rmp_prox']);"
   ]
  },
  {
   "cell_type": "code",
   "execution_count": 70,
   "id": "e1da8e57",
   "metadata": {
    "scrolled": true
   },
   "outputs": [
    {
     "name": "stderr",
     "output_type": "stream",
     "text": [
      "C:\\Users\\Vishnu\\anaconda3\\lib\\site-packages\\seaborn\\_decorators.py:36: FutureWarning: Pass the following variables as keyword args: x, y. From version 0.12, the only valid positional argument will be `data`, and passing other arguments without an explicit keyword will result in an error or misinterpretation.\n",
      "  warnings.warn(\n"
     ]
    },
    {
     "data": {
      "image/png": "[encoded data removed]",
      "text/plain": [
       "<Figure size 720x720 with 1 Axes>"
      ]
     },
     "metadata": {
      "needs_background": "light"
     },
     "output_type": "display_data"
    }
   ],
   "source": [
    "plt.figure(figsize = (10,10))\n",
    "sns.boxplot(env['region'], env['traffic_prox']);"
   ]
  },
  {
   "cell_type": "code",
   "execution_count": 72,
   "id": "b574f3c1",
   "metadata": {
    "scrolled": true
   },
   "outputs": [
    {
     "name": "stderr",
     "output_type": "stream",
     "text": [
      "C:\\Users\\Vishnu\\anaconda3\\lib\\site-packages\\seaborn\\_decorators.py:36: FutureWarning: Pass the following variables as keyword args: x, y. From version 0.12, the only valid positional argument will be `data`, and passing other arguments without an explicit keyword will result in an error or misinterpretation.\n",
      "  warnings.warn(\n"
     ]
    },
    {
     "data": {
      "image/png": "[encoded data removed]",
      "text/plain": [
       "<Figure size 720x720 with 1 Axes>"
      ]
     },
     "metadata": {
      "needs_background": "light"
     },
     "output_type": "display_data"
    }
   ],
   "source": [
    "plt.figure(figsize = (10,10))\n",
    "sns.boxplot(env['region'], env['waste_prox']);"
   ]
  },
  {
   "cell_type": "code",
   "execution_count": 108,
   "id": "296172aa",
   "metadata": {},
   "outputs": [
    {
     "name": "stderr",
     "output_type": "stream",
     "text": [
      "C:\\Users\\Vishnu\\anaconda3\\lib\\site-packages\\seaborn\\_decorators.py:36: FutureWarning: Pass the following variables as keyword args: x, y. From version 0.12, the only valid positional argument will be `data`, and passing other arguments without an explicit keyword will result in an error or misinterpretation.\n",
      "  warnings.warn(\n"
     ]
    },
    {
     "data": {
      "image/png": "[encoded data removed]",
      "text/plain": [
       "<Figure size 720x720 with 1 Axes>"
      ]
     },
     "metadata": {
      "needs_background": "light"
     },
     "output_type": "display_data"
    }
   ],
   "source": [
    "plt.figure(figsize = (10,10))\n",
    "sns.boxplot(env['region'], env['undgrd_stor']);"
   ]
  },
  {
   "cell_type": "markdown",
   "id": "b87dccd2",
   "metadata": {},
   "source": [
    "Region vs Demographic factor boxplots"
   ]
  },
  {
   "cell_type": "code",
   "execution_count": 120,
   "id": "050e1579",
   "metadata": {},
   "outputs": [
    {
     "name": "stderr",
     "output_type": "stream",
     "text": [
      "C:\\Users\\Vishnu\\anaconda3\\lib\\site-packages\\seaborn\\_decorators.py:36: FutureWarning: Pass the following variables as keyword args: x, y. From version 0.12, the only valid positional argument will be `data`, and passing other arguments without an explicit keyword will result in an error or misinterpretation.\n",
      "  warnings.warn(\n"
     ]
    },
    {
     "data": {
      "image/png": "[encoded data removed]",
      "text/plain": [
       "<Figure size 720x720 with 1 Axes>"
      ]
     },
     "metadata": {
      "needs_background": "light"
     },
     "output_type": "display_data"
    }
   ],
   "source": [
    "plt.figure(figsize = (10,10))\n",
    "sns.boxplot(env['region'], env['pop']);"
   ]
  },
  {
   "cell_type": "code",
   "execution_count": 122,
   "id": "25117985",
   "metadata": {},
   "outputs": [
    {
     "data": {
      "text/html": [
       "<div>\n",
       "<style scoped>\n",
       "    .dataframe tbody tr th:only-of-type {\n",
       "        vertical-align: middle;\n",
       "    }\n",
       "\n",
       "    .dataframe tbody tr th {\n",
       "        vertical-align: top;\n",
       "    }\n",
       "\n",
       "    .dataframe thead th {\n",
       "        text-align: right;\n",
       "    }\n",
       "</style>\n",
       "<table border=\"1\" class=\"dataframe\">\n",
       "  <thead>\n",
       "    <tr style=\"text-align: right;\">\n",
       "      <th></th>\n",
       "      <th>count</th>\n",
       "      <th>mean</th>\n",
       "      <th>std</th>\n",
       "      <th>min</th>\n",
       "      <th>25%</th>\n",
       "      <th>50%</th>\n",
       "      <th>75%</th>\n",
       "      <th>max</th>\n",
       "    </tr>\n",
       "    <tr>\n",
       "      <th>region</th>\n",
       "      <th></th>\n",
       "      <th></th>\n",
       "      <th></th>\n",
       "      <th></th>\n",
       "      <th></th>\n",
       "      <th></th>\n",
       "      <th></th>\n",
       "      <th></th>\n",
       "    </tr>\n",
       "  </thead>\n",
       "  <tbody>\n",
       "    <tr>\n",
       "      <th>1</th>\n",
       "      <td>3357.0</td>\n",
       "      <td>0.252845</td>\n",
       "      <td>0.247699</td>\n",
       "      <td>0.00000</td>\n",
       "      <td>0.071048</td>\n",
       "      <td>0.149312</td>\n",
       "      <td>0.350768</td>\n",
       "      <td>1.000000</td>\n",
       "    </tr>\n",
       "    <tr>\n",
       "      <th>2</th>\n",
       "      <td>7720.0</td>\n",
       "      <td>0.509903</td>\n",
       "      <td>0.353195</td>\n",
       "      <td>0.00000</td>\n",
       "      <td>0.175422</td>\n",
       "      <td>0.443389</td>\n",
       "      <td>0.904438</td>\n",
       "      <td>1.000000</td>\n",
       "    </tr>\n",
       "    <tr>\n",
       "      <th>3</th>\n",
       "      <td>7336.0</td>\n",
       "      <td>0.327717</td>\n",
       "      <td>0.290602</td>\n",
       "      <td>0.00000</td>\n",
       "      <td>0.085472</td>\n",
       "      <td>0.230732</td>\n",
       "      <td>0.504293</td>\n",
       "      <td>1.000000</td>\n",
       "    </tr>\n",
       "    <tr>\n",
       "      <th>4</th>\n",
       "      <td>13796.0</td>\n",
       "      <td>0.383142</td>\n",
       "      <td>0.281531</td>\n",
       "      <td>0.00000</td>\n",
       "      <td>0.144674</td>\n",
       "      <td>0.315469</td>\n",
       "      <td>0.576817</td>\n",
       "      <td>1.000000</td>\n",
       "    </tr>\n",
       "    <tr>\n",
       "      <th>5</th>\n",
       "      <td>13035.0</td>\n",
       "      <td>0.283263</td>\n",
       "      <td>0.285461</td>\n",
       "      <td>0.00000</td>\n",
       "      <td>0.069548</td>\n",
       "      <td>0.164111</td>\n",
       "      <td>0.398925</td>\n",
       "      <td>1.000000</td>\n",
       "    </tr>\n",
       "    <tr>\n",
       "      <th>6</th>\n",
       "      <td>8575.0</td>\n",
       "      <td>0.512756</td>\n",
       "      <td>0.279952</td>\n",
       "      <td>0.00000</td>\n",
       "      <td>0.274027</td>\n",
       "      <td>0.475126</td>\n",
       "      <td>0.760019</td>\n",
       "      <td>1.000000</td>\n",
       "    </tr>\n",
       "    <tr>\n",
       "      <th>7</th>\n",
       "      <td>3501.0</td>\n",
       "      <td>0.210558</td>\n",
       "      <td>0.221507</td>\n",
       "      <td>0.00000</td>\n",
       "      <td>0.061475</td>\n",
       "      <td>0.128232</td>\n",
       "      <td>0.264438</td>\n",
       "      <td>1.000000</td>\n",
       "    </tr>\n",
       "    <tr>\n",
       "      <th>8</th>\n",
       "      <td>2655.0</td>\n",
       "      <td>0.243526</td>\n",
       "      <td>0.196344</td>\n",
       "      <td>0.00000</td>\n",
       "      <td>0.103636</td>\n",
       "      <td>0.180891</td>\n",
       "      <td>0.323793</td>\n",
       "      <td>0.991048</td>\n",
       "    </tr>\n",
       "    <tr>\n",
       "      <th>9</th>\n",
       "      <td>10512.0</td>\n",
       "      <td>0.585996</td>\n",
       "      <td>0.264917</td>\n",
       "      <td>0.00000</td>\n",
       "      <td>0.357073</td>\n",
       "      <td>0.589939</td>\n",
       "      <td>0.832241</td>\n",
       "      <td>1.000000</td>\n",
       "    </tr>\n",
       "    <tr>\n",
       "      <th>10</th>\n",
       "      <td>2732.0</td>\n",
       "      <td>0.273580</td>\n",
       "      <td>0.177767</td>\n",
       "      <td>0.01481</td>\n",
       "      <td>0.142564</td>\n",
       "      <td>0.225720</td>\n",
       "      <td>0.367580</td>\n",
       "      <td>0.973592</td>\n",
       "    </tr>\n",
       "  </tbody>\n",
       "</table>\n",
       "</div>"
      ],
      "text/plain": [
       "          count      mean       std      min       25%       50%       75%  \\\n",
       "region                                                                       \n",
       "1        3357.0  0.252845  0.247699  0.00000  0.071048  0.149312  0.350768   \n",
       "2        7720.0  0.509903  0.353195  0.00000  0.175422  0.443389  0.904438   \n",
       "3        7336.0  0.327717  0.290602  0.00000  0.085472  0.230732  0.504293   \n",
       "4       13796.0  0.383142  0.281531  0.00000  0.144674  0.315469  0.576817   \n",
       "5       13035.0  0.283263  0.285461  0.00000  0.069548  0.164111  0.398925   \n",
       "6        8575.0  0.512756  0.279952  0.00000  0.274027  0.475126  0.760019   \n",
       "7        3501.0  0.210558  0.221507  0.00000  0.061475  0.128232  0.264438   \n",
       "8        2655.0  0.243526  0.196344  0.00000  0.103636  0.180891  0.323793   \n",
       "9       10512.0  0.585996  0.264917  0.00000  0.357073  0.589939  0.832241   \n",
       "10       2732.0  0.273580  0.177767  0.01481  0.142564  0.225720  0.367580   \n",
       "\n",
       "             max  \n",
       "region            \n",
       "1       1.000000  \n",
       "2       1.000000  \n",
       "3       1.000000  \n",
       "4       1.000000  \n",
       "5       1.000000  \n",
       "6       1.000000  \n",
       "7       1.000000  \n",
       "8       0.991048  \n",
       "9       1.000000  \n",
       "10      0.973592  "
      ]
     },
     "execution_count": 122,
     "metadata": {},
     "output_type": "execute_result"
    }
   ],
   "source": [
    "env.groupby('region')['poc_pct'].describe()"
   ]
  },
  {
   "cell_type": "code",
   "execution_count": 121,
   "id": "4874f1bb",
   "metadata": {},
   "outputs": [
    {
     "name": "stderr",
     "output_type": "stream",
     "text": [
      "C:\\Users\\Vishnu\\anaconda3\\lib\\site-packages\\seaborn\\_decorators.py:36: FutureWarning: Pass the following variables as keyword args: x, y. From version 0.12, the only valid positional argument will be `data`, and passing other arguments without an explicit keyword will result in an error or misinterpretation.\n",
      "  warnings.warn(\n"
     ]
    },
    {
     "data": {
      "image/png": "[encoded data removed]",
      "text/plain": [
       "<Figure size 720x720 with 1 Axes>"
      ]
     },
     "metadata": {
      "needs_background": "light"
     },
     "output_type": "display_data"
    }
   ],
   "source": [
    "plt.figure(figsize = (10,10))\n",
    "sns.boxplot(env['region'], env['poc_pct']);"
   ]
  },
  {
   "cell_type": "markdown",
   "id": "ba4c1a6a",
   "metadata": {},
   "source": [
    "Environmental factors boxplot"
   ]
  },
  {
   "cell_type": "code",
   "execution_count": 87,
   "id": "2c8ab095",
   "metadata": {
    "scrolled": false
   },
   "outputs": [
    {
     "data": {
      "image/png": "[encoded data removed]",
      "text/plain": [
       "<Figure size 720x720 with 1 Axes>"
      ]
     },
     "metadata": {
      "needs_background": "light"
     },
     "output_type": "display_data"
    }
   ],
   "source": [
    "plt.figure(figsize = (10,10))\n",
    "plt.boxplot(env['diesel_pm']);"
   ]
  },
  {
   "cell_type": "code",
   "execution_count": 88,
   "id": "4e01fc96",
   "metadata": {},
   "outputs": [
    {
     "data": {
      "image/png": "[encoded data removed]",
      "text/plain": [
       "<Figure size 720x720 with 1 Axes>"
      ]
     },
     "metadata": {
      "needs_background": "light"
     },
     "output_type": "display_data"
    }
   ],
   "source": [
    "plt.figure(figsize = (10,10))\n",
    "plt.boxplot(env['resp_index']);"
   ]
  },
  {
   "cell_type": "code",
   "execution_count": 91,
   "id": "99f60489",
   "metadata": {},
   "outputs": [
    {
     "data": {
      "image/png": "[encoded data removed]",
      "text/plain": [
       "<Figure size 720x720 with 1 Axes>"
      ]
     },
     "metadata": {
      "needs_background": "light"
     },
     "output_type": "display_data"
    }
   ],
   "source": [
    "plt.figure(figsize = (10,10))\n",
    "plt.boxplot(env['npl_prox']);"
   ]
  },
  {
   "cell_type": "code",
   "execution_count": 92,
   "id": "4bf01254",
   "metadata": {
    "scrolled": false
   },
   "outputs": [
    {
     "data": {
      "image/png": "[encoded data removed]",
      "text/plain": [
       "<Figure size 720x720 with 1 Axes>"
      ]
     },
     "metadata": {
      "needs_background": "light"
     },
     "output_type": "display_data"
    }
   ],
   "source": [
    "plt.figure(figsize = (10,10))\n",
    "plt.boxplot(env['rmp_prox']);"
   ]
  },
  {
   "cell_type": "code",
   "execution_count": 118,
   "id": "c1f868fb",
   "metadata": {},
   "outputs": [
    {
     "data": {
      "image/png": "[encoded data removed]",
      "text/plain": [
       "<Figure size 720x720 with 1 Axes>"
      ]
     },
     "metadata": {
      "needs_background": "light"
     },
     "output_type": "display_data"
    }
   ],
   "source": [
    "plt.figure(figsize = (10,10))\n",
    "plt.boxplot( env['waste_prox']);"
   ]
  },
  {
   "cell_type": "code",
   "execution_count": 111,
   "id": "ed7d337b",
   "metadata": {},
   "outputs": [
    {
     "data": {
      "image/png": "[encoded data removed]",
      "text/plain": [
       "<Figure size 720x720 with 1 Axes>"
      ]
     },
     "metadata": {
      "needs_background": "light"
     },
     "output_type": "display_data"
    }
   ],
   "source": [
    "plt.figure(figsize = (10,10))\n",
    "plt.boxplot(env['undgrd_stor']);"
   ]
  },
  {
   "cell_type": "markdown",
   "id": "623196b5-a468-4ce2-b10d-06a4c882716a",
   "metadata": {},
   "source": [
    "---\n",
    "\n",
    "## Imputing"
   ]
  },
  {
   "cell_type": "code",
   "execution_count": 43,
   "id": "a89e0f46",
   "metadata": {},
   "outputs": [],
   "source": [
    "cols_to_impute = ['traffic_prox', 'ozone', 'pm_25']"
   ]
  },
  {
   "cell_type": "code",
   "execution_count": 53,
   "id": "a5e2943d-704d-4778-9b55-ebc65e8373fc",
   "metadata": {},
   "outputs": [
    {
     "data": {
      "image/png": "[encoded data removed]",
      "text/plain": [
       "<Figure size 864x1152 with 3 Axes>"
      ]
     },
     "metadata": {
      "needs_background": "light"
     },
     "output_type": "display_data"
    }
   ],
   "source": [
    "plt.figure(figsize = (12,16))\n",
    "\n",
    "for i in range(3):\n",
    "    plt.subplot(3,1,i+1)\n",
    "    col_name = cols_to_impute[i]\n",
    "    plt.title(f'{col_name}', size = 20)\n",
    "    plt.hist(env[col_name], bins = 40)\n",
    "    plt.axvline(env[col_name].mean(), color = 'red')\n",
    "    "
   ]
  },
  {
   "cell_type": "code",
   "execution_count": 45,
   "id": "a398f6b0-af76-476f-96f5-ba91f01b0098",
   "metadata": {},
   "outputs": [],
   "source": [
    "# may want to one-hot-encode region to impute using regression \n",
    "X = env.drop(columns = ['cancer', 'st_name', 'st_abbrev'])\n",
    "y = env['cancer']"
   ]
  },
  {
   "cell_type": "code",
   "execution_count": 46,
   "id": "8d51e717-5438-49e5-9f6e-43f0091f5fbc",
   "metadata": {},
   "outputs": [],
   "source": [
    "X_train, X_val, Y_train, Y_val = train_test_split(X,y, test_size = 0.2, random_state = 13)"
   ]
  },
  {
   "cell_type": "code",
   "execution_count": 47,
   "id": "afa2755e-5efb-46a4-9a8f-f58234bc6a24",
   "metadata": {},
   "outputs": [],
   "source": [
    "it = IterativeImputer(estimator = LinearRegression())\n",
    "X_train_missing = it.fit_transform(X_train)\n",
    "X_val_missing = it.transform(X_val)\n",
    "\n",
    "X_train_imputed = pd.DataFrame(X_train_missing, columns = it.get_feature_names_out())\n",
    "X_val_imputed = pd.DataFrame(X_val_missing, columns = it.get_feature_names_out())"
   ]
  },
  {
   "cell_type": "code",
   "execution_count": 48,
   "id": "96533e08-677e-47af-85d0-81d817391691",
   "metadata": {},
   "outputs": [],
   "source": [
    "X_imputed = pd.concat([X_train_imputed, X_val_imputed])"
   ]
  },
  {
   "cell_type": "code",
   "execution_count": 56,
   "id": "07f1dfc5",
   "metadata": {},
   "outputs": [
    {
     "data": {
      "text/html": [
       "<div>\n",
       "<style scoped>\n",
       "    .dataframe tbody tr th:only-of-type {\n",
       "        vertical-align: middle;\n",
       "    }\n",
       "\n",
       "    .dataframe tbody tr th {\n",
       "        vertical-align: top;\n",
       "    }\n",
       "\n",
       "    .dataframe thead th {\n",
       "        text-align: right;\n",
       "    }\n",
       "</style>\n",
       "<table border=\"1\" class=\"dataframe\">\n",
       "  <thead>\n",
       "    <tr style=\"text-align: right;\">\n",
       "      <th></th>\n",
       "      <th>region</th>\n",
       "      <th>pop</th>\n",
       "      <th>poc_pct</th>\n",
       "      <th>low_inc_pct</th>\n",
       "      <th>sub_hs_pct</th>\n",
       "      <th>ling_iso_pct</th>\n",
       "      <th>under_5_pct</th>\n",
       "      <th>over_64_pct</th>\n",
       "      <th>unemp_pct</th>\n",
       "      <th>pre_1960_pct</th>\n",
       "      <th>diesel_pm</th>\n",
       "      <th>resp_index</th>\n",
       "      <th>traffic_prox</th>\n",
       "      <th>npl_prox</th>\n",
       "      <th>rmp_prox</th>\n",
       "      <th>waste_prox</th>\n",
       "      <th>ozone</th>\n",
       "      <th>pm_25</th>\n",
       "      <th>undgrd_stor</th>\n",
       "    </tr>\n",
       "  </thead>\n",
       "  <tbody>\n",
       "    <tr>\n",
       "      <th>0</th>\n",
       "      <td>7.0</td>\n",
       "      <td>3750.0</td>\n",
       "      <td>0.553600</td>\n",
       "      <td>0.640612</td>\n",
       "      <td>0.242503</td>\n",
       "      <td>0.079492</td>\n",
       "      <td>0.065067</td>\n",
       "      <td>0.110400</td>\n",
       "      <td>0.107692</td>\n",
       "      <td>0.512092</td>\n",
       "      <td>0.209577</td>\n",
       "      <td>0.2</td>\n",
       "      <td>123.412870</td>\n",
       "      <td>0.007801</td>\n",
       "      <td>2.381615</td>\n",
       "      <td>0.309566</td>\n",
       "      <td>47.600859</td>\n",
       "      <td>5.101388</td>\n",
       "      <td>0.688106</td>\n",
       "    </tr>\n",
       "    <tr>\n",
       "      <th>1</th>\n",
       "      <td>9.0</td>\n",
       "      <td>2432.0</td>\n",
       "      <td>0.264391</td>\n",
       "      <td>0.172770</td>\n",
       "      <td>0.084580</td>\n",
       "      <td>0.012658</td>\n",
       "      <td>0.056332</td>\n",
       "      <td>0.201480</td>\n",
       "      <td>0.048276</td>\n",
       "      <td>0.377483</td>\n",
       "      <td>0.231124</td>\n",
       "      <td>0.3</td>\n",
       "      <td>200.258914</td>\n",
       "      <td>0.014354</td>\n",
       "      <td>0.158916</td>\n",
       "      <td>1.061513</td>\n",
       "      <td>50.220350</td>\n",
       "      <td>9.545971</td>\n",
       "      <td>0.000000</td>\n",
       "    </tr>\n",
       "    <tr>\n",
       "      <th>2</th>\n",
       "      <td>2.0</td>\n",
       "      <td>5112.0</td>\n",
       "      <td>1.000000</td>\n",
       "      <td>0.623860</td>\n",
       "      <td>0.136271</td>\n",
       "      <td>0.635332</td>\n",
       "      <td>0.083529</td>\n",
       "      <td>0.220462</td>\n",
       "      <td>0.184030</td>\n",
       "      <td>0.091610</td>\n",
       "      <td>0.324060</td>\n",
       "      <td>0.3</td>\n",
       "      <td>909.172097</td>\n",
       "      <td>0.060895</td>\n",
       "      <td>0.366397</td>\n",
       "      <td>0.212795</td>\n",
       "      <td>37.347142</td>\n",
       "      <td>7.866922</td>\n",
       "      <td>0.000000</td>\n",
       "    </tr>\n",
       "    <tr>\n",
       "      <th>3</th>\n",
       "      <td>2.0</td>\n",
       "      <td>3608.0</td>\n",
       "      <td>0.640798</td>\n",
       "      <td>0.199945</td>\n",
       "      <td>0.126428</td>\n",
       "      <td>0.241935</td>\n",
       "      <td>0.086475</td>\n",
       "      <td>0.138581</td>\n",
       "      <td>0.037924</td>\n",
       "      <td>0.694304</td>\n",
       "      <td>0.981088</td>\n",
       "      <td>0.5</td>\n",
       "      <td>1016.885926</td>\n",
       "      <td>0.150639</td>\n",
       "      <td>0.201567</td>\n",
       "      <td>7.302953</td>\n",
       "      <td>42.326775</td>\n",
       "      <td>8.459017</td>\n",
       "      <td>17.575510</td>\n",
       "    </tr>\n",
       "    <tr>\n",
       "      <th>4</th>\n",
       "      <td>5.0</td>\n",
       "      <td>2157.0</td>\n",
       "      <td>0.146036</td>\n",
       "      <td>0.408622</td>\n",
       "      <td>0.159951</td>\n",
       "      <td>0.000000</td>\n",
       "      <td>0.044506</td>\n",
       "      <td>0.176634</td>\n",
       "      <td>0.062274</td>\n",
       "      <td>0.584806</td>\n",
       "      <td>0.459562</td>\n",
       "      <td>0.3</td>\n",
       "      <td>507.215257</td>\n",
       "      <td>0.096643</td>\n",
       "      <td>2.580467</td>\n",
       "      <td>3.232083</td>\n",
       "      <td>44.366948</td>\n",
       "      <td>9.811063</td>\n",
       "      <td>14.198668</td>\n",
       "    </tr>\n",
       "    <tr>\n",
       "      <th>...</th>\n",
       "      <td>...</td>\n",
       "      <td>...</td>\n",
       "      <td>...</td>\n",
       "      <td>...</td>\n",
       "      <td>...</td>\n",
       "      <td>...</td>\n",
       "      <td>...</td>\n",
       "      <td>...</td>\n",
       "      <td>...</td>\n",
       "      <td>...</td>\n",
       "      <td>...</td>\n",
       "      <td>...</td>\n",
       "      <td>...</td>\n",
       "      <td>...</td>\n",
       "      <td>...</td>\n",
       "      <td>...</td>\n",
       "      <td>...</td>\n",
       "      <td>...</td>\n",
       "      <td>...</td>\n",
       "    </tr>\n",
       "    <tr>\n",
       "      <th>14639</th>\n",
       "      <td>9.0</td>\n",
       "      <td>7723.0</td>\n",
       "      <td>0.700505</td>\n",
       "      <td>0.503820</td>\n",
       "      <td>0.417053</td>\n",
       "      <td>0.124496</td>\n",
       "      <td>0.065778</td>\n",
       "      <td>0.139583</td>\n",
       "      <td>0.084431</td>\n",
       "      <td>0.166357</td>\n",
       "      <td>0.045699</td>\n",
       "      <td>0.2</td>\n",
       "      <td>226.719930</td>\n",
       "      <td>0.023839</td>\n",
       "      <td>0.233248</td>\n",
       "      <td>0.172160</td>\n",
       "      <td>65.474430</td>\n",
       "      <td>7.908413</td>\n",
       "      <td>0.446184</td>\n",
       "    </tr>\n",
       "    <tr>\n",
       "      <th>14640</th>\n",
       "      <td>5.0</td>\n",
       "      <td>4880.0</td>\n",
       "      <td>0.138320</td>\n",
       "      <td>0.421540</td>\n",
       "      <td>0.097633</td>\n",
       "      <td>0.005695</td>\n",
       "      <td>0.034631</td>\n",
       "      <td>0.212910</td>\n",
       "      <td>0.040121</td>\n",
       "      <td>0.437387</td>\n",
       "      <td>0.098050</td>\n",
       "      <td>0.2</td>\n",
       "      <td>316.480141</td>\n",
       "      <td>0.036292</td>\n",
       "      <td>1.582920</td>\n",
       "      <td>1.339756</td>\n",
       "      <td>42.455680</td>\n",
       "      <td>8.057988</td>\n",
       "      <td>6.064641</td>\n",
       "    </tr>\n",
       "    <tr>\n",
       "      <th>14641</th>\n",
       "      <td>4.0</td>\n",
       "      <td>5739.0</td>\n",
       "      <td>0.682523</td>\n",
       "      <td>0.156996</td>\n",
       "      <td>0.024469</td>\n",
       "      <td>0.082448</td>\n",
       "      <td>0.086600</td>\n",
       "      <td>0.158041</td>\n",
       "      <td>0.036487</td>\n",
       "      <td>0.021885</td>\n",
       "      <td>0.557958</td>\n",
       "      <td>0.4</td>\n",
       "      <td>817.339558</td>\n",
       "      <td>0.071257</td>\n",
       "      <td>0.121257</td>\n",
       "      <td>0.140995</td>\n",
       "      <td>30.931589</td>\n",
       "      <td>8.025802</td>\n",
       "      <td>1.608018</td>\n",
       "    </tr>\n",
       "    <tr>\n",
       "      <th>14642</th>\n",
       "      <td>4.0</td>\n",
       "      <td>5038.0</td>\n",
       "      <td>0.877332</td>\n",
       "      <td>0.592615</td>\n",
       "      <td>0.206917</td>\n",
       "      <td>0.000000</td>\n",
       "      <td>0.083168</td>\n",
       "      <td>0.110361</td>\n",
       "      <td>0.034879</td>\n",
       "      <td>0.217959</td>\n",
       "      <td>0.145124</td>\n",
       "      <td>0.4</td>\n",
       "      <td>30.610702</td>\n",
       "      <td>0.010745</td>\n",
       "      <td>0.266778</td>\n",
       "      <td>1.053595</td>\n",
       "      <td>35.352782</td>\n",
       "      <td>7.089313</td>\n",
       "      <td>6.467010</td>\n",
       "    </tr>\n",
       "    <tr>\n",
       "      <th>14643</th>\n",
       "      <td>6.0</td>\n",
       "      <td>679.0</td>\n",
       "      <td>0.681885</td>\n",
       "      <td>0.652850</td>\n",
       "      <td>0.024138</td>\n",
       "      <td>0.015924</td>\n",
       "      <td>0.141384</td>\n",
       "      <td>0.022091</td>\n",
       "      <td>0.041139</td>\n",
       "      <td>0.102339</td>\n",
       "      <td>0.486393</td>\n",
       "      <td>0.4</td>\n",
       "      <td>3091.866070</td>\n",
       "      <td>0.082648</td>\n",
       "      <td>0.260850</td>\n",
       "      <td>3.253643</td>\n",
       "      <td>48.142254</td>\n",
       "      <td>9.981505</td>\n",
       "      <td>4.445095</td>\n",
       "    </tr>\n",
       "  </tbody>\n",
       "</table>\n",
       "<p>73220 rows × 19 columns</p>\n",
       "</div>"
      ],
      "text/plain": [
       "       region     pop   poc_pct  low_inc_pct  sub_hs_pct  ling_iso_pct  \\\n",
       "0         7.0  3750.0  0.553600     0.640612    0.242503      0.079492   \n",
       "1         9.0  2432.0  0.264391     0.172770    0.084580      0.012658   \n",
       "2         2.0  5112.0  1.000000     0.623860    0.136271      0.635332   \n",
       "3         2.0  3608.0  0.640798     0.199945    0.126428      0.241935   \n",
       "4         5.0  2157.0  0.146036     0.408622    0.159951      0.000000   \n",
       "...       ...     ...       ...          ...         ...           ...   \n",
       "14639     9.0  7723.0  0.700505     0.503820    0.417053      0.124496   \n",
       "14640     5.0  4880.0  0.138320     0.421540    0.097633      0.005695   \n",
       "14641     4.0  5739.0  0.682523     0.156996    0.024469      0.082448   \n",
       "14642     4.0  5038.0  0.877332     0.592615    0.206917      0.000000   \n",
       "14643     6.0   679.0  0.681885     0.652850    0.024138      0.015924   \n",
       "\n",
       "       under_5_pct  over_64_pct  unemp_pct  pre_1960_pct  diesel_pm  \\\n",
       "0         0.065067     0.110400   0.107692      0.512092   0.209577   \n",
       "1         0.056332     0.201480   0.048276      0.377483   0.231124   \n",
       "2         0.083529     0.220462   0.184030      0.091610   0.324060   \n",
       "3         0.086475     0.138581   0.037924      0.694304   0.981088   \n",
       "4         0.044506     0.176634   0.062274      0.584806   0.459562   \n",
       "...            ...          ...        ...           ...        ...   \n",
       "14639     0.065778     0.139583   0.084431      0.166357   0.045699   \n",
       "14640     0.034631     0.212910   0.040121      0.437387   0.098050   \n",
       "14641     0.086600     0.158041   0.036487      0.021885   0.557958   \n",
       "14642     0.083168     0.110361   0.034879      0.217959   0.145124   \n",
       "14643     0.141384     0.022091   0.041139      0.102339   0.486393   \n",
       "\n",
       "       resp_index  traffic_prox  npl_prox  rmp_prox  waste_prox      ozone  \\\n",
       "0             0.2    123.412870  0.007801  2.381615    0.309566  47.600859   \n",
       "1             0.3    200.258914  0.014354  0.158916    1.061513  50.220350   \n",
       "2             0.3    909.172097  0.060895  0.366397    0.212795  37.347142   \n",
       "3             0.5   1016.885926  0.150639  0.201567    7.302953  42.326775   \n",
       "4             0.3    507.215257  0.096643  2.580467    3.232083  44.366948   \n",
       "...           ...           ...       ...       ...         ...        ...   \n",
       "14639         0.2    226.719930  0.023839  0.233248    0.172160  65.474430   \n",
       "14640         0.2    316.480141  0.036292  1.582920    1.339756  42.455680   \n",
       "14641         0.4    817.339558  0.071257  0.121257    0.140995  30.931589   \n",
       "14642         0.4     30.610702  0.010745  0.266778    1.053595  35.352782   \n",
       "14643         0.4   3091.866070  0.082648  0.260850    3.253643  48.142254   \n",
       "\n",
       "          pm_25  undgrd_stor  \n",
       "0      5.101388     0.688106  \n",
       "1      9.545971     0.000000  \n",
       "2      7.866922     0.000000  \n",
       "3      8.459017    17.575510  \n",
       "4      9.811063    14.198668  \n",
       "...         ...          ...  \n",
       "14639  7.908413     0.446184  \n",
       "14640  8.057988     6.064641  \n",
       "14641  8.025802     1.608018  \n",
       "14642  7.089313     6.467010  \n",
       "14643  9.981505     4.445095  \n",
       "\n",
       "[73220 rows x 19 columns]"
      ]
     },
     "execution_count": 56,
     "metadata": {},
     "output_type": "execute_result"
    }
   ],
   "source": [
    "X_imputed"
   ]
  },
  {
   "cell_type": "code",
   "execution_count": 52,
   "id": "bf9a988d-c8c8-47c5-90a2-f4682d07fb26",
   "metadata": {},
   "outputs": [
    {
     "data": {
      "image/png": "[encoded data removed]",
      "text/plain": [
       "<Figure size 864x1152 with 3 Axes>"
      ]
     },
     "metadata": {
      "needs_background": "light"
     },
     "output_type": "display_data"
    }
   ],
   "source": [
    "cols_to_impute = ['traffic_prox', 'ozone', 'pm_25']\n",
    "\n",
    "plt.figure(figsize = (12,16))\n",
    "\n",
    "for i in range(3):\n",
    "    plt.subplot(3,1,i+1)\n",
    "    col_name = cols_to_impute[i]\n",
    "    plt.title(f'{col_name}', size = 20)\n",
    "    plt.hist(X_imputed[col_name], bins = 40)\n",
    "    plt.axvline(X_imputed[col_name].mean(), color = 'red')\n",
    "    "
   ]
  },
  {
   "cell_type": "code",
   "execution_count": null,
   "id": "bf4a4a4b-1d69-495f-9dd8-60969481462e",
   "metadata": {},
   "outputs": [],
   "source": []
  },
  {
   "cell_type": "markdown",
   "id": "38979095-f62b-4da7-9cd4-9a80aafe31eb",
   "metadata": {},
   "source": [
    "---\n",
    "\n",
    "## For the Team"
   ]
  },
  {
   "cell_type": "markdown",
   "id": "05948cce-01d7-4115-9079-484b2f1337fb",
   "metadata": {},
   "source": [
    "Below is code showing that if we drop the null values outside of `waste_water`, we eliminate Puerto Rico, Hawaii, and Alaska from the entire dataset. These three territories seem to only be missing `ozone` and `pm_25` data."
   ]
  },
  {
   "cell_type": "code",
   "execution_count": 118,
   "id": "aa0625f7-81aa-4130-9c50-9dfed2605949",
   "metadata": {},
   "outputs": [],
   "source": [
    "# collect rows where there are any missing values\n",
    "# besides waste_water with 20,000 missing values\n",
    "\n",
    "# na_rows are the incdices of null values\n",
    "# has_na is the dataset containing null\n",
    "na_rows = env.select_dtypes(include = 'number').drop(columns = ['waste_water']).isna().any(axis = 1)\n",
    "has_na = env[na_rows]"
   ]
  },
  {
   "cell_type": "code",
   "execution_count": 130,
   "id": "0db473d9-f6bf-4202-98c3-ddfd234b9c97",
   "metadata": {},
   "outputs": [
    {
     "data": {
      "text/plain": [
       "PR    895\n",
       "HI    321\n",
       "AK    167\n",
       "KY    122\n",
       "TX    122\n",
       "MI    118\n",
       "NC    106\n",
       "OH     86\n",
       "NY     81\n",
       "ME     79\n",
       "Name: st_abbrev, dtype: int64"
      ]
     },
     "execution_count": 130,
     "metadata": {},
     "output_type": "execute_result"
    }
   ],
   "source": [
    "# 10 states with the most null values in the dataset currently\n",
    "null_states = has_na['st_abbrev'].value_counts().head(10).index\n",
    "has_na['st_abbrev'].value_counts().head(10)"
   ]
  },
  {
   "cell_type": "code",
   "execution_count": 131,
   "id": "b368a5d4-c737-4e49-a0db-76ba1fa75ec6",
   "metadata": {},
   "outputs": [
    {
     "data": {
      "text/plain": [
       "PR     895\n",
       "HI     321\n",
       "AK     167\n",
       "KY    1110\n",
       "TX    5238\n",
       "MI    2756\n",
       "NC    2174\n",
       "OH    2943\n",
       "NY    4870\n",
       "ME     351\n",
       "Name: st_abbrev, dtype: int64"
      ]
     },
     "execution_count": 131,
     "metadata": {},
     "output_type": "execute_result"
    }
   ],
   "source": [
    "# the total number of appearances of these states in the entire dataset\n",
    "env['st_abbrev'].value_counts()[null_states]"
   ]
  },
  {
   "cell_type": "markdown",
   "id": "6d871ab8-8a7a-4902-8717-89e9145cad36",
   "metadata": {},
   "source": [
    "Another thing to note about these three groups is that their nulls are primarily located in in the `ozone` and `pm_25` columns."
   ]
  },
  {
   "cell_type": "code",
   "execution_count": 139,
   "id": "f4566a11-8518-4ce4-a69e-49c70c7c4fff",
   "metadata": {
    "scrolled": true
   },
   "outputs": [
    {
     "name": "stdout",
     "output_type": "stream",
     "text": [
      "PR\n",
      "st_name           0\n",
      "st_abbrev         0\n",
      "region            0\n",
      "pop               0\n",
      "poc_pct           0\n",
      "low_inc_pct       0\n",
      "sub_hs_pct        0\n",
      "ling_iso_pct      0\n",
      "under_5_pct       0\n",
      "over_64_pct       0\n",
      "unemp_pct         0\n",
      "dem_index         0\n",
      "pre_1960_pct      0\n",
      "diesel_pm         0\n",
      "cancer            0\n",
      "resp_index        0\n",
      "traffic_prox      7\n",
      "waste_water     120\n",
      "npl_prox          0\n",
      "rmp_prox          0\n",
      "waste_prox        0\n",
      "ozone           895\n",
      "pm_25           895\n",
      "undgrd_stor       0\n",
      "dtype: int64 \n",
      "\n",
      "\n",
      "HI\n",
      "st_name           0\n",
      "st_abbrev         0\n",
      "region            0\n",
      "pop               0\n",
      "poc_pct           0\n",
      "low_inc_pct       0\n",
      "sub_hs_pct        0\n",
      "ling_iso_pct      0\n",
      "under_5_pct       0\n",
      "over_64_pct       0\n",
      "unemp_pct         0\n",
      "dem_index         0\n",
      "pre_1960_pct      0\n",
      "diesel_pm         0\n",
      "cancer            0\n",
      "resp_index        0\n",
      "traffic_prox     10\n",
      "waste_water     120\n",
      "npl_prox          0\n",
      "rmp_prox          0\n",
      "waste_prox        0\n",
      "ozone           321\n",
      "pm_25           321\n",
      "undgrd_stor       0\n",
      "dtype: int64 \n",
      "\n",
      "\n",
      "AK\n",
      "st_name           0\n",
      "st_abbrev         0\n",
      "region            0\n",
      "pop               0\n",
      "poc_pct           0\n",
      "low_inc_pct       0\n",
      "sub_hs_pct        0\n",
      "ling_iso_pct      0\n",
      "under_5_pct       0\n",
      "over_64_pct       0\n",
      "unemp_pct         0\n",
      "dem_index         0\n",
      "pre_1960_pct      0\n",
      "diesel_pm         0\n",
      "cancer            0\n",
      "resp_index        0\n",
      "traffic_prox     33\n",
      "waste_water     167\n",
      "npl_prox          0\n",
      "rmp_prox          0\n",
      "waste_prox        0\n",
      "ozone           167\n",
      "pm_25           167\n",
      "undgrd_stor       0\n",
      "dtype: int64 \n",
      "\n",
      "\n"
     ]
    }
   ],
   "source": [
    "for territory in ['PR', 'HI', 'AK']:\n",
    "    print(territory)\n",
    "    print(env[env['st_abbrev'] == territory].isnull().sum(), '\\n\\n')"
   ]
  },
  {
   "cell_type": "markdown",
   "id": "230f98fa",
   "metadata": {},
   "source": [
    "----"
   ]
  },
  {
   "cell_type": "code",
   "execution_count": null,
   "id": "9e537b3a",
   "metadata": {},
   "outputs": [],
   "source": []
  }
 ],
 "metadata": {
  "kernelspec": {
   "display_name": "Python 3 (ipykernel)",
   "language": "python",
   "name": "python3"
  },
  "language_info": {
   "codemirror_mode": {
    "name": "ipython",
    "version": 3
   },
   "file_extension": ".py",
   "mimetype": "text/x-python",
   "name": "python",
   "nbconvert_exporter": "python",
   "pygments_lexer": "ipython3",
   "version": "3.9.12"
  }
 },
 "nbformat": 4,
 "nbformat_minor": 5
}
