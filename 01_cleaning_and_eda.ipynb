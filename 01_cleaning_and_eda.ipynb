{
 "cells": [
  {
   "cell_type": "markdown",
   "id": "5c113bbf-9067-4c8e-80cd-77cd9d306e3d",
   "metadata": {},
   "source": [
    "## Imports and Functions"
   ]
  },
  {
   "cell_type": "code",
   "execution_count": 143,
   "id": "2c58fbea-8a0f-4d17-8349-cd485df9102a",
   "metadata": {},
   "outputs": [],
   "source": [
    "import numpy as np\n",
    "import pandas as pd\n",
    "import matplotlib.pyplot as plt\n",
    "import seaborn as sns\n",
    "\n",
    "from sklearn.model_selection import train_test_split\n",
    "\n",
    "# imputation\n",
    "from sklearn.experimental import enable_iterative_imputer \n",
    "from sklearn.impute import IterativeImputer\n",
    "from sklearn.linear_model import LinearRegression"
   ]
  },
  {
   "cell_type": "code",
   "execution_count": 144,
   "id": "4d35038a-bade-446c-b87d-411e0f58e473",
   "metadata": {},
   "outputs": [],
   "source": [
    "def clean_col(col_name):\n",
    "    '''\n",
    "    Rename columns to be more Pythonic:\n",
    "    - lowercase\n",
    "    - underscore between words\n",
    "    - replace some language with more descriptive examples\n",
    "    \n",
    "    Return revised column name.\n",
    "    '''\n",
    "    col_name = col_name.lower()\n",
    "    col_name = col_name.replace('pct','_pct')\n",
    "    col_name = col_name.replace('state','st')\n",
    "    col_name = col_name.replace('acstot','')\n",
    "    col_name = col_name.replace('minor','poc')\n",
    "    col_name = col_name.replace('less','sub_')\n",
    "    col_name = col_name.replace('lowinc','low_inc')\n",
    "    col_name = col_name.replace('ling','ling_')\n",
    "    col_name = col_name.replace('under5','under_5')\n",
    "    col_name = col_name.replace('over64','over_64')\n",
    "    col_name = col_name.replace('vuleo_pct','dem_index')\n",
    "    col_name = col_name.replace('pre1960','pre_1960')\n",
    "    col_name = col_name.replace('ptraf','traffic_prox')\n",
    "    col_name = col_name.replace('dslpm','diesel_pm')\n",
    "    col_name = col_name.replace('pnpl','npl_prox')\n",
    "    col_name = col_name.replace('prmp','rmp_prox')\n",
    "    col_name = col_name.replace('ptsdf','waste_prox')\n",
    "    col_name = col_name.replace('resp','resp_index')\n",
    "    col_name = col_name.replace('pwdis','waste_water')\n",
    "    col_name = col_name.replace('25','_25')\n",
    "    col_name = col_name.replace('ust','undgrd_stor')\n",
    "    \n",
    "    return col_name\n",
    "    "
   ]
  },
  {
   "cell_type": "markdown",
   "id": "383e3b90-adab-4fe3-93ac-c4ab86062590",
   "metadata": {},
   "source": [
    "---\n",
    "## Basic Cleaning"
   ]
  },
  {
   "cell_type": "code",
   "execution_count": 145,
   "id": "e2bfefee-3d6b-45f9-b523-d4caa79d96fa",
   "metadata": {},
   "outputs": [
    {
     "name": "stderr",
     "output_type": "stream",
     "text": [
      "C:\\Users\\Vishnu\\AppData\\Local\\Temp\\ipykernel_12692\\2832420063.py:1: DtypeWarning: Columns (128,129,130,131) have mixed types. Specify dtype option on import or set low_memory=False.\n",
      "  raw_data = pd.read_csv('./EJSCREEN_2021_StatePctile_Tracts.csv')\n"
     ]
    }
   ],
   "source": [
    "raw_data = pd.read_csv('./EJSCREEN_2021_StatePctile_Tracts.csv')"
   ]
  },
  {
   "cell_type": "markdown",
   "id": "f90e464d-31d4-4cae-ada9-731631c32e5e",
   "metadata": {},
   "source": [
    "Columns beginning with `B_` and `T_` provide information for creating specialized images. This is not necessary for our exploratory data analysis so we will drop these columns. Columns beginning with `P_` and `D_` contain percentile and index data. These can be reconstructed from other columns without much difficulty, so we will drop these as well.\n",
    "\n",
    "There is also identification and shape data that we do not need for eda. These columns are located in the first two and last two columns. We will drop these columns, too."
   ]
  },
  {
   "cell_type": "code",
   "execution_count": 146,
   "id": "d5771b7a-6999-491d-8a1f-2dbd94166f3c",
   "metadata": {
    "scrolled": true
   },
   "outputs": [
    {
     "data": {
      "text/plain": [
       "['STATE_NAME',\n",
       " 'ST_ABBREV',\n",
       " 'REGION',\n",
       " 'ACSTOTPOP',\n",
       " 'MINORPCT',\n",
       " 'LOWINCPCT',\n",
       " 'LESSHSPCT',\n",
       " 'LINGISOPCT',\n",
       " 'UNDER5PCT',\n",
       " 'OVER64PCT',\n",
       " 'UNEMPPCT',\n",
       " 'VULEOPCT',\n",
       " 'PRE1960PCT',\n",
       " 'DSLPM',\n",
       " 'CANCER',\n",
       " 'RESP',\n",
       " 'PTRAF',\n",
       " 'PWDIS',\n",
       " 'PNPL',\n",
       " 'PRMP',\n",
       " 'PTSDF',\n",
       " 'OZONE',\n",
       " 'PM25',\n",
       " 'UST']"
      ]
     },
     "execution_count": 146,
     "metadata": {},
     "output_type": "execute_result"
    }
   ],
   "source": [
    "# initial columns of interest\n",
    "# cut columns related to image data, clean the rest\n",
    "init_cols = [col for col in raw_data.columns if col[:2] not in 'P_B_T_D_']\n",
    "\n",
    "# drop OBJECTID - repeated index col\n",
    "# drop Shape cols\n",
    "init_cols = init_cols[2:-2]\n",
    "init_cols"
   ]
  },
  {
   "cell_type": "markdown",
   "id": "5e7aa5c3-acdf-42bf-b864-fa84daa88a30",
   "metadata": {},
   "source": [
    "Below we change the column labels to lower case and include an underscore to between the `PCT` (representing percent) to make the columns a bit more readable."
   ]
  },
  {
   "cell_type": "code",
   "execution_count": 147,
   "id": "49a25eb7-4c6f-4847-9ef8-22c6ce5fa796",
   "metadata": {},
   "outputs": [],
   "source": [
    "env = raw_data[init_cols].copy()\n",
    "env.columns = [clean_col(col) for col in env.columns]"
   ]
  },
  {
   "cell_type": "markdown",
   "id": "e09bf4e7-a8d1-4731-ba0b-c4599f58e0b4",
   "metadata": {},
   "source": [
    "To check the results, we list out the revised column names."
   ]
  },
  {
   "cell_type": "code",
   "execution_count": 148,
   "id": "e3322910-9236-4c68-8ae2-5cc7706e1640",
   "metadata": {},
   "outputs": [
    {
     "data": {
      "text/plain": [
       "Index(['st_name', 'st_abbrev', 'region', 'pop', 'poc_pct', 'low_inc_pct',\n",
       "       'sub_hs_pct', 'ling_iso_pct', 'under_5_pct', 'over_64_pct', 'unemp_pct',\n",
       "       'dem_index', 'pre_1960_pct', 'diesel_pm', 'cancer', 'resp_index',\n",
       "       'traffic_prox', 'waste_water', 'npl_prox', 'rmp_prox', 'waste_prox',\n",
       "       'ozone', 'pm_25', 'undgrd_stor'],\n",
       "      dtype='object')"
      ]
     },
     "execution_count": 148,
     "metadata": {},
     "output_type": "execute_result"
    }
   ],
   "source": [
    "env.columns"
   ]
  },
  {
   "cell_type": "markdown",
   "id": "ff117acc-bc46-4d4c-9c60-5d65195db994",
   "metadata": {},
   "source": [
    "There are few hundred rows of data where the numeric entries consist entirely of zeros or missing values. These rows will be impossible to work with and should be removed."
   ]
  },
  {
   "cell_type": "code",
   "execution_count": 149,
   "id": "6c226215-176c-4862-adbe-dadacca86050",
   "metadata": {},
   "outputs": [],
   "source": [
    "# drop rows containing no information (consisting of ALL zeros and nulls)\n",
    "\n",
    "# identify location of first and last numeric columns\n",
    "pop_index = env.columns.get_loc('pop')\n",
    "stor_index = env.columns.get_loc('undgrd_stor')\n",
    "\n",
    "# count nulls within a row\n",
    "nulls_in_row = env.iloc[:,pop_index:stor_index+1].isnull().sum(axis = 1)\n",
    "# count zeros within a row\n",
    "zeros_in_row = (env.iloc[:,pop_index:stor_index+1] == 0).sum(axis = 1)\n",
    "\n",
    "# if zeros and nulls sum to number of numeric columns, drop the row\n",
    "total_num_cols = env.iloc[:,pop_index:stor_index+1].shape[1]\n",
    "env.drop(index = env[nulls_in_row + zeros_in_row == total_num_cols].index, inplace = True)"
   ]
  },
  {
   "cell_type": "markdown",
   "id": "cdcf36ee-c4ff-420f-879d-1e209d2098e5",
   "metadata": {},
   "source": [
    "One of our major goals is to predict the air toxics cancer risk given by the `cancer` column. Since this column is especially valuable to us, we want to avoid imputing missing values within it. Below we see it contains 246 missing values."
   ]
  },
  {
   "cell_type": "code",
   "execution_count": 150,
   "id": "2ffed361-9c0a-48d8-aacf-64ac87a36a74",
   "metadata": {},
   "outputs": [
    {
     "data": {
      "text/plain": [
       "st_name             0\n",
       "st_abbrev           0\n",
       "region              0\n",
       "pop                 0\n",
       "poc_pct             0\n",
       "low_inc_pct         0\n",
       "sub_hs_pct          0\n",
       "ling_iso_pct        0\n",
       "under_5_pct         0\n",
       "over_64_pct         0\n",
       "unemp_pct           0\n",
       "dem_index           0\n",
       "pre_1960_pct        0\n",
       "diesel_pm         246\n",
       "cancer            246\n",
       "resp_index        246\n",
       "traffic_prox     2343\n",
       "waste_water     19644\n",
       "npl_prox            0\n",
       "rmp_prox            0\n",
       "waste_prox          0\n",
       "ozone            1383\n",
       "pm_25            1383\n",
       "undgrd_stor         0\n",
       "dtype: int64"
      ]
     },
     "execution_count": 150,
     "metadata": {},
     "output_type": "execute_result"
    }
   ],
   "source": [
    "env.isnull().sum()"
   ]
  },
  {
   "cell_type": "markdown",
   "id": "9fe7f8e0-8e82-45d2-a593-6ccfa3aad864",
   "metadata": {},
   "source": [
    "Before we drop the rows missing `cancer` data, we check to see if the entries seem genuinely random and that we are not introducing any blatant bias to our dataset. Since the states of these entries seem reasonably distributed, it feels fair to assume they are random."
   ]
  },
  {
   "cell_type": "code",
   "execution_count": 151,
   "id": "f69809ab-22ef-44e7-912b-bc09707a75a4",
   "metadata": {},
   "outputs": [
    {
     "data": {
      "text/plain": [
       "New York          31\n",
       "Florida           26\n",
       "California        18\n",
       "Texas             16\n",
       "Michigan          13\n",
       "Virginia          12\n",
       "Louisiana         12\n",
       "North Carolina    10\n",
       "Tennessee          8\n",
       "Colorado           7\n",
       "Pennsylvania       7\n",
       "Georgia            7\n",
       "Nevada             7\n",
       "South Carolina     6\n",
       "Illinois           6\n",
       "Arizona            6\n",
       "Massachusetts      5\n",
       "Kentucky           5\n",
       "Mississippi        4\n",
       "Maryland           4\n",
       "Kansas             4\n",
       "New Hampshire      3\n",
       "Utah               3\n",
       "Ohio               3\n",
       "Oregon             3\n",
       "Washington         3\n",
       "Wisconsin          3\n",
       "New Jersey         2\n",
       "Iowa               2\n",
       "Missouri           2\n",
       "Vermont            1\n",
       "Alabama            1\n",
       "New Mexico         1\n",
       "Minnesota          1\n",
       "Indiana            1\n",
       "Delaware           1\n",
       "Connecticut        1\n",
       "Wyoming            1\n",
       "Name: st_name, dtype: int64"
      ]
     },
     "execution_count": 151,
     "metadata": {},
     "output_type": "execute_result"
    }
   ],
   "source": [
    "env.loc[env['cancer'].isna(), 'st_name'].value_counts()"
   ]
  },
  {
   "cell_type": "code",
   "execution_count": 152,
   "id": "f96bbcd9-9ca2-452c-92f3-09b7d7310361",
   "metadata": {},
   "outputs": [],
   "source": [
    "env.dropna(subset = ['cancer'], inplace = True)"
   ]
  },
  {
   "cell_type": "code",
   "execution_count": 153,
   "id": "e613bafd",
   "metadata": {},
   "outputs": [],
   "source": [
    "env.drop(columns = ['dem_index', 'waste_water'], inplace = True)"
   ]
  },
  {
   "cell_type": "markdown",
   "id": "ef79994e-3438-4c87-91a0-56a59dffd73f",
   "metadata": {},
   "source": [
    "Conveniently, dropping the rows with missing `cancer` values coincided with rows missing `diesel_pm` and `resp_index`."
   ]
  },
  {
   "cell_type": "code",
   "execution_count": 154,
   "id": "061dd2dc-2186-471b-aa30-da459fdb55af",
   "metadata": {},
   "outputs": [
    {
     "data": {
      "text/plain": [
       "st_name            0\n",
       "st_abbrev          0\n",
       "region             0\n",
       "pop                0\n",
       "poc_pct            0\n",
       "low_inc_pct        0\n",
       "sub_hs_pct         0\n",
       "ling_iso_pct       0\n",
       "under_5_pct        0\n",
       "over_64_pct        0\n",
       "unemp_pct          0\n",
       "pre_1960_pct       0\n",
       "diesel_pm          0\n",
       "cancer             0\n",
       "resp_index         0\n",
       "traffic_prox    2103\n",
       "npl_prox           0\n",
       "rmp_prox           0\n",
       "waste_prox         0\n",
       "ozone           1383\n",
       "pm_25           1383\n",
       "undgrd_stor        0\n",
       "dtype: int64"
      ]
     },
     "execution_count": 154,
     "metadata": {},
     "output_type": "execute_result"
    }
   ],
   "source": [
    "env.isnull().sum()"
   ]
  },
  {
   "cell_type": "markdown",
   "id": "7a9fb81c-2b72-4d2d-8306-8dd82a37fd19",
   "metadata": {},
   "source": [
    "Another thing to be cautious of is that several columns are based on percentages of the population. These percentages can be somewhat deceptive for rows containing lower populations. For example, 100% of the population being minority feels more meaningful when the population size is 2416 than if the population size is 8. For this reason we want to filter out rows with especially small population sizes.\n",
    "\n",
    "Additionally, each row represents a Census tract. Census tracts generally have a population size above 1,200. Rows with a population size below 1,200 correspond to tribal data. We do not want to eliminate the tribal data, especially with the history of environmental injustice towards indigenous people. For this reason, we will set a population size of 30 as a lower bound for the data. This way, we can feel more confident in interpreting percentages and still keep as much of the tribal data as possible.\n",
    "\n",
    "Below we verify that the data corresponding to population sizes below 30 is reasonably distributed across all states."
   ]
  },
  {
   "cell_type": "code",
   "execution_count": 155,
   "id": "e5c18a08-535d-45ff-83e7-26611805875e",
   "metadata": {},
   "outputs": [
    {
     "data": {
      "text/plain": [
       "New York          34\n",
       "Florida           19\n",
       "California        18\n",
       "Texas             15\n",
       "Pennsylvania      15\n",
       "Puerto Rico       10\n",
       "Virginia          10\n",
       "Tennessee          9\n",
       "Hawaii             8\n",
       "Kansas             6\n",
       "Michigan           6\n",
       "North Carolina     5\n",
       "Massachusetts      4\n",
       "Missouri           4\n",
       "Louisiana          4\n",
       "Arizona            4\n",
       "Ohio               3\n",
       "Alabama            3\n",
       "Kentucky           3\n",
       "Maryland           2\n",
       "New Jersey         2\n",
       "Indiana            2\n",
       "Georgia            2\n",
       "Rhode Island       1\n",
       "Washington         1\n",
       "Arkansas           1\n",
       "South Carolina     1\n",
       "Montana            1\n",
       "Idaho              1\n",
       "Nebraska           1\n",
       "Oklahoma           1\n",
       "Alaska             1\n",
       "Illinois           1\n",
       "Nevada             1\n",
       "Oregon             1\n",
       "Name: st_name, dtype: int64"
      ]
     },
     "execution_count": 155,
     "metadata": {},
     "output_type": "execute_result"
    }
   ],
   "source": [
    "env.loc[env['pop'] <= 30, 'st_name'].value_counts()"
   ]
  },
  {
   "cell_type": "code",
   "execution_count": 156,
   "id": "adb1ccd3",
   "metadata": {},
   "outputs": [],
   "source": [
    "env = env[env['pop']>=30]"
   ]
  },
  {
   "cell_type": "code",
   "execution_count": 195,
   "id": "1647c8e4",
   "metadata": {},
   "outputs": [
    {
     "data": {
      "text/plain": [
       "(73134, 22)"
      ]
     },
     "execution_count": 195,
     "metadata": {},
     "output_type": "execute_result"
    }
   ],
   "source": [
    "dem_info = env.loc[:,'pop':'unemp_pct']\n",
    "env[(dem_info == 0).sum(axis = 1) < 5].shape # drop"
   ]
  },
  {
   "cell_type": "markdown",
   "id": "726f5624",
   "metadata": {},
   "source": [
    "-------------------------------------"
   ]
  },
  {
   "cell_type": "markdown",
   "id": "8b789e4f",
   "metadata": {},
   "source": [
    "## EDA Visulization"
   ]
  },
  {
   "cell_type": "code",
   "execution_count": 196,
   "id": "d35a2349",
   "metadata": {},
   "outputs": [
    {
     "data": {
      "image/png": "[encoded data removed]",
      "text/plain": [
       "<Figure size 1080x1080 with 1 Axes>"
      ]
     },
     "metadata": {
      "needs_background": "light"
     },
     "output_type": "display_data"
    }
   ],
   "source": [
    "plt.figure(figsize = (15,15))\n",
    "sns.histplot(data = env.sort_values(by = 'region'), y = 'st_name', hue = 'region', palette = 'Blues_r');\n",
    "#env.groupby('region')['st_name'].value_counts().sort_values(ascending = False).plot(kind = 'barh')\n",
    "#env['st_name'].value_counts().plot(kind = 'barh')\n"
   ]
  },
  {
   "cell_type": "markdown",
   "id": "3a889565",
   "metadata": {},
   "source": [
    "Region vs Environmnetal Factors"
   ]
  },
  {
   "cell_type": "code",
   "execution_count": 197,
   "id": "f1527cf2",
   "metadata": {},
   "outputs": [
    {
     "data": {
      "text/html": [
       "<div>\n",
       "<style scoped>\n",
       "    .dataframe tbody tr th:only-of-type {\n",
       "        vertical-align: middle;\n",
       "    }\n",
       "\n",
       "    .dataframe tbody tr th {\n",
       "        vertical-align: top;\n",
       "    }\n",
       "\n",
       "    .dataframe thead th {\n",
       "        text-align: right;\n",
       "    }\n",
       "</style>\n",
       "<table border=\"1\" class=\"dataframe\">\n",
       "  <thead>\n",
       "    <tr style=\"text-align: right;\">\n",
       "      <th></th>\n",
       "      <th>count</th>\n",
       "      <th>mean</th>\n",
       "      <th>std</th>\n",
       "      <th>min</th>\n",
       "      <th>25%</th>\n",
       "      <th>50%</th>\n",
       "      <th>75%</th>\n",
       "      <th>max</th>\n",
       "    </tr>\n",
       "    <tr>\n",
       "      <th>region</th>\n",
       "      <th></th>\n",
       "      <th></th>\n",
       "      <th></th>\n",
       "      <th></th>\n",
       "      <th></th>\n",
       "      <th></th>\n",
       "      <th></th>\n",
       "      <th></th>\n",
       "    </tr>\n",
       "  </thead>\n",
       "  <tbody>\n",
       "    <tr>\n",
       "      <th>1</th>\n",
       "      <td>3357.0</td>\n",
       "      <td>23.068216</td>\n",
       "      <td>4.888427</td>\n",
       "      <td>10.0</td>\n",
       "      <td>20.0</td>\n",
       "      <td>20.0</td>\n",
       "      <td>30.0</td>\n",
       "      <td>50.0</td>\n",
       "    </tr>\n",
       "    <tr>\n",
       "      <th>2</th>\n",
       "      <td>7720.0</td>\n",
       "      <td>28.117876</td>\n",
       "      <td>11.432860</td>\n",
       "      <td>10.0</td>\n",
       "      <td>20.0</td>\n",
       "      <td>30.0</td>\n",
       "      <td>30.0</td>\n",
       "      <td>700.0</td>\n",
       "    </tr>\n",
       "    <tr>\n",
       "      <th>3</th>\n",
       "      <td>7336.0</td>\n",
       "      <td>30.845147</td>\n",
       "      <td>10.837840</td>\n",
       "      <td>20.0</td>\n",
       "      <td>30.0</td>\n",
       "      <td>30.0</td>\n",
       "      <td>30.0</td>\n",
       "      <td>200.0</td>\n",
       "    </tr>\n",
       "    <tr>\n",
       "      <th>4</th>\n",
       "      <td>13796.0</td>\n",
       "      <td>30.542186</td>\n",
       "      <td>6.771497</td>\n",
       "      <td>10.0</td>\n",
       "      <td>30.0</td>\n",
       "      <td>30.0</td>\n",
       "      <td>30.0</td>\n",
       "      <td>200.0</td>\n",
       "    </tr>\n",
       "    <tr>\n",
       "      <th>5</th>\n",
       "      <td>13035.0</td>\n",
       "      <td>24.428078</td>\n",
       "      <td>6.398433</td>\n",
       "      <td>10.0</td>\n",
       "      <td>20.0</td>\n",
       "      <td>20.0</td>\n",
       "      <td>30.0</td>\n",
       "      <td>200.0</td>\n",
       "    </tr>\n",
       "    <tr>\n",
       "      <th>6</th>\n",
       "      <td>8575.0</td>\n",
       "      <td>31.867055</td>\n",
       "      <td>17.937794</td>\n",
       "      <td>10.0</td>\n",
       "      <td>30.0</td>\n",
       "      <td>30.0</td>\n",
       "      <td>30.0</td>\n",
       "      <td>1000.0</td>\n",
       "    </tr>\n",
       "    <tr>\n",
       "      <th>7</th>\n",
       "      <td>3501.0</td>\n",
       "      <td>25.389889</td>\n",
       "      <td>6.849250</td>\n",
       "      <td>10.0</td>\n",
       "      <td>20.0</td>\n",
       "      <td>30.0</td>\n",
       "      <td>30.0</td>\n",
       "      <td>200.0</td>\n",
       "    </tr>\n",
       "    <tr>\n",
       "      <th>8</th>\n",
       "      <td>2655.0</td>\n",
       "      <td>21.884746</td>\n",
       "      <td>11.035681</td>\n",
       "      <td>8.0</td>\n",
       "      <td>20.0</td>\n",
       "      <td>20.0</td>\n",
       "      <td>30.0</td>\n",
       "      <td>200.0</td>\n",
       "    </tr>\n",
       "    <tr>\n",
       "      <th>9</th>\n",
       "      <td>10512.0</td>\n",
       "      <td>30.359494</td>\n",
       "      <td>9.670051</td>\n",
       "      <td>9.0</td>\n",
       "      <td>30.0</td>\n",
       "      <td>30.0</td>\n",
       "      <td>40.0</td>\n",
       "      <td>200.0</td>\n",
       "    </tr>\n",
       "    <tr>\n",
       "      <th>10</th>\n",
       "      <td>2732.0</td>\n",
       "      <td>32.075403</td>\n",
       "      <td>10.867001</td>\n",
       "      <td>8.0</td>\n",
       "      <td>30.0</td>\n",
       "      <td>30.0</td>\n",
       "      <td>40.0</td>\n",
       "      <td>200.0</td>\n",
       "    </tr>\n",
       "  </tbody>\n",
       "</table>\n",
       "</div>"
      ],
      "text/plain": [
       "          count       mean        std   min   25%   50%   75%     max\n",
       "region                                                               \n",
       "1        3357.0  23.068216   4.888427  10.0  20.0  20.0  30.0    50.0\n",
       "2        7720.0  28.117876  11.432860  10.0  20.0  30.0  30.0   700.0\n",
       "3        7336.0  30.845147  10.837840  20.0  30.0  30.0  30.0   200.0\n",
       "4       13796.0  30.542186   6.771497  10.0  30.0  30.0  30.0   200.0\n",
       "5       13035.0  24.428078   6.398433  10.0  20.0  20.0  30.0   200.0\n",
       "6        8575.0  31.867055  17.937794  10.0  30.0  30.0  30.0  1000.0\n",
       "7        3501.0  25.389889   6.849250  10.0  20.0  30.0  30.0   200.0\n",
       "8        2655.0  21.884746  11.035681   8.0  20.0  20.0  30.0   200.0\n",
       "9       10512.0  30.359494   9.670051   9.0  30.0  30.0  40.0   200.0\n",
       "10       2732.0  32.075403  10.867001   8.0  30.0  30.0  40.0   200.0"
      ]
     },
     "execution_count": 197,
     "metadata": {},
     "output_type": "execute_result"
    }
   ],
   "source": [
    "env.groupby('region')['cancer'].describe()"
   ]
  },
  {
   "cell_type": "code",
   "execution_count": 198,
   "id": "52d8fb53",
   "metadata": {
    "scrolled": false
   },
   "outputs": [
    {
     "name": "stderr",
     "output_type": "stream",
     "text": [
      "C:\\Users\\Vishnu\\anaconda3\\lib\\site-packages\\seaborn\\_decorators.py:36: FutureWarning: Pass the following variables as keyword args: x, y. From version 0.12, the only valid positional argument will be `data`, and passing other arguments without an explicit keyword will result in an error or misinterpretation.\n",
      "  warnings.warn(\n"
     ]
    },
    {
     "data": {
      "image/png": "[encoded data removed]",
      "text/plain": [
       "<Figure size 720x720 with 1 Axes>"
      ]
     },
     "metadata": {
      "needs_background": "light"
     },
     "output_type": "display_data"
    }
   ],
   "source": [
    "plt.figure(figsize = (10,10))\n",
    "sns.boxplot(env['region'], env['cancer']);"
   ]
  },
  {
   "cell_type": "code",
   "execution_count": 199,
   "id": "625dc2a3",
   "metadata": {},
   "outputs": [
    {
     "ename": "KeyError",
     "evalue": "'[73723] not found in axis'",
     "output_type": "error",
     "traceback": [
      "\u001b[1;31m---------------------------------------------------------------------------\u001b[0m",
      "\u001b[1;31mKeyError\u001b[0m                                  Traceback (most recent call last)",
      "Input \u001b[1;32mIn [199]\u001b[0m, in \u001b[0;36m<cell line: 1>\u001b[1;34m()\u001b[0m\n\u001b[1;32m----> 1\u001b[0m \u001b[43menv\u001b[49m\u001b[38;5;241;43m.\u001b[39;49m\u001b[43mdrop\u001b[49m\u001b[43m(\u001b[49m\u001b[43m[\u001b[49m\u001b[38;5;241;43m73723\u001b[39;49m\u001b[43m]\u001b[49m\u001b[43m,\u001b[49m\u001b[43m \u001b[49m\u001b[43minplace\u001b[49m\u001b[43m \u001b[49m\u001b[38;5;241;43m=\u001b[39;49m\u001b[43m \u001b[49m\u001b[38;5;28;43;01mTrue\u001b[39;49;00m\u001b[43m)\u001b[49m\n",
      "File \u001b[1;32m~\\anaconda3\\lib\\site-packages\\pandas\\util\\_decorators.py:311\u001b[0m, in \u001b[0;36mdeprecate_nonkeyword_arguments.<locals>.decorate.<locals>.wrapper\u001b[1;34m(*args, **kwargs)\u001b[0m\n\u001b[0;32m    305\u001b[0m \u001b[38;5;28;01mif\u001b[39;00m \u001b[38;5;28mlen\u001b[39m(args) \u001b[38;5;241m>\u001b[39m num_allow_args:\n\u001b[0;32m    306\u001b[0m     warnings\u001b[38;5;241m.\u001b[39mwarn(\n\u001b[0;32m    307\u001b[0m         msg\u001b[38;5;241m.\u001b[39mformat(arguments\u001b[38;5;241m=\u001b[39marguments),\n\u001b[0;32m    308\u001b[0m         \u001b[38;5;167;01mFutureWarning\u001b[39;00m,\n\u001b[0;32m    309\u001b[0m         stacklevel\u001b[38;5;241m=\u001b[39mstacklevel,\n\u001b[0;32m    310\u001b[0m     )\n\u001b[1;32m--> 311\u001b[0m \u001b[38;5;28;01mreturn\u001b[39;00m func(\u001b[38;5;241m*\u001b[39margs, \u001b[38;5;241m*\u001b[39m\u001b[38;5;241m*\u001b[39mkwargs)\n",
      "File \u001b[1;32m~\\anaconda3\\lib\\site-packages\\pandas\\core\\frame.py:4954\u001b[0m, in \u001b[0;36mDataFrame.drop\u001b[1;34m(self, labels, axis, index, columns, level, inplace, errors)\u001b[0m\n\u001b[0;32m   4806\u001b[0m \u001b[38;5;129m@deprecate_nonkeyword_arguments\u001b[39m(version\u001b[38;5;241m=\u001b[39m\u001b[38;5;28;01mNone\u001b[39;00m, allowed_args\u001b[38;5;241m=\u001b[39m[\u001b[38;5;124m\"\u001b[39m\u001b[38;5;124mself\u001b[39m\u001b[38;5;124m\"\u001b[39m, \u001b[38;5;124m\"\u001b[39m\u001b[38;5;124mlabels\u001b[39m\u001b[38;5;124m\"\u001b[39m])\n\u001b[0;32m   4807\u001b[0m \u001b[38;5;28;01mdef\u001b[39;00m \u001b[38;5;21mdrop\u001b[39m(\n\u001b[0;32m   4808\u001b[0m     \u001b[38;5;28mself\u001b[39m,\n\u001b[1;32m   (...)\u001b[0m\n\u001b[0;32m   4815\u001b[0m     errors: \u001b[38;5;28mstr\u001b[39m \u001b[38;5;241m=\u001b[39m \u001b[38;5;124m\"\u001b[39m\u001b[38;5;124mraise\u001b[39m\u001b[38;5;124m\"\u001b[39m,\n\u001b[0;32m   4816\u001b[0m ):\n\u001b[0;32m   4817\u001b[0m     \u001b[38;5;124;03m\"\"\"\u001b[39;00m\n\u001b[0;32m   4818\u001b[0m \u001b[38;5;124;03m    Drop specified labels from rows or columns.\u001b[39;00m\n\u001b[0;32m   4819\u001b[0m \n\u001b[1;32m   (...)\u001b[0m\n\u001b[0;32m   4952\u001b[0m \u001b[38;5;124;03m            weight  1.0     0.8\u001b[39;00m\n\u001b[0;32m   4953\u001b[0m \u001b[38;5;124;03m    \"\"\"\u001b[39;00m\n\u001b[1;32m-> 4954\u001b[0m     \u001b[38;5;28;01mreturn\u001b[39;00m \u001b[38;5;28;43msuper\u001b[39;49m\u001b[43m(\u001b[49m\u001b[43m)\u001b[49m\u001b[38;5;241;43m.\u001b[39;49m\u001b[43mdrop\u001b[49m\u001b[43m(\u001b[49m\n\u001b[0;32m   4955\u001b[0m \u001b[43m        \u001b[49m\u001b[43mlabels\u001b[49m\u001b[38;5;241;43m=\u001b[39;49m\u001b[43mlabels\u001b[49m\u001b[43m,\u001b[49m\n\u001b[0;32m   4956\u001b[0m \u001b[43m        \u001b[49m\u001b[43maxis\u001b[49m\u001b[38;5;241;43m=\u001b[39;49m\u001b[43maxis\u001b[49m\u001b[43m,\u001b[49m\n\u001b[0;32m   4957\u001b[0m \u001b[43m        \u001b[49m\u001b[43mindex\u001b[49m\u001b[38;5;241;43m=\u001b[39;49m\u001b[43mindex\u001b[49m\u001b[43m,\u001b[49m\n\u001b[0;32m   4958\u001b[0m \u001b[43m        \u001b[49m\u001b[43mcolumns\u001b[49m\u001b[38;5;241;43m=\u001b[39;49m\u001b[43mcolumns\u001b[49m\u001b[43m,\u001b[49m\n\u001b[0;32m   4959\u001b[0m \u001b[43m        \u001b[49m\u001b[43mlevel\u001b[49m\u001b[38;5;241;43m=\u001b[39;49m\u001b[43mlevel\u001b[49m\u001b[43m,\u001b[49m\n\u001b[0;32m   4960\u001b[0m \u001b[43m        \u001b[49m\u001b[43minplace\u001b[49m\u001b[38;5;241;43m=\u001b[39;49m\u001b[43minplace\u001b[49m\u001b[43m,\u001b[49m\n\u001b[0;32m   4961\u001b[0m \u001b[43m        \u001b[49m\u001b[43merrors\u001b[49m\u001b[38;5;241;43m=\u001b[39;49m\u001b[43merrors\u001b[49m\u001b[43m,\u001b[49m\n\u001b[0;32m   4962\u001b[0m \u001b[43m    \u001b[49m\u001b[43m)\u001b[49m\n",
      "File \u001b[1;32m~\\anaconda3\\lib\\site-packages\\pandas\\core\\generic.py:4267\u001b[0m, in \u001b[0;36mNDFrame.drop\u001b[1;34m(self, labels, axis, index, columns, level, inplace, errors)\u001b[0m\n\u001b[0;32m   4265\u001b[0m \u001b[38;5;28;01mfor\u001b[39;00m axis, labels \u001b[38;5;129;01min\u001b[39;00m axes\u001b[38;5;241m.\u001b[39mitems():\n\u001b[0;32m   4266\u001b[0m     \u001b[38;5;28;01mif\u001b[39;00m labels \u001b[38;5;129;01mis\u001b[39;00m \u001b[38;5;129;01mnot\u001b[39;00m \u001b[38;5;28;01mNone\u001b[39;00m:\n\u001b[1;32m-> 4267\u001b[0m         obj \u001b[38;5;241m=\u001b[39m \u001b[43mobj\u001b[49m\u001b[38;5;241;43m.\u001b[39;49m\u001b[43m_drop_axis\u001b[49m\u001b[43m(\u001b[49m\u001b[43mlabels\u001b[49m\u001b[43m,\u001b[49m\u001b[43m \u001b[49m\u001b[43maxis\u001b[49m\u001b[43m,\u001b[49m\u001b[43m \u001b[49m\u001b[43mlevel\u001b[49m\u001b[38;5;241;43m=\u001b[39;49m\u001b[43mlevel\u001b[49m\u001b[43m,\u001b[49m\u001b[43m \u001b[49m\u001b[43merrors\u001b[49m\u001b[38;5;241;43m=\u001b[39;49m\u001b[43merrors\u001b[49m\u001b[43m)\u001b[49m\n\u001b[0;32m   4269\u001b[0m \u001b[38;5;28;01mif\u001b[39;00m inplace:\n\u001b[0;32m   4270\u001b[0m     \u001b[38;5;28mself\u001b[39m\u001b[38;5;241m.\u001b[39m_update_inplace(obj)\n",
      "File \u001b[1;32m~\\anaconda3\\lib\\site-packages\\pandas\\core\\generic.py:4311\u001b[0m, in \u001b[0;36mNDFrame._drop_axis\u001b[1;34m(self, labels, axis, level, errors, consolidate, only_slice)\u001b[0m\n\u001b[0;32m   4309\u001b[0m         new_axis \u001b[38;5;241m=\u001b[39m axis\u001b[38;5;241m.\u001b[39mdrop(labels, level\u001b[38;5;241m=\u001b[39mlevel, errors\u001b[38;5;241m=\u001b[39merrors)\n\u001b[0;32m   4310\u001b[0m     \u001b[38;5;28;01melse\u001b[39;00m:\n\u001b[1;32m-> 4311\u001b[0m         new_axis \u001b[38;5;241m=\u001b[39m \u001b[43maxis\u001b[49m\u001b[38;5;241;43m.\u001b[39;49m\u001b[43mdrop\u001b[49m\u001b[43m(\u001b[49m\u001b[43mlabels\u001b[49m\u001b[43m,\u001b[49m\u001b[43m \u001b[49m\u001b[43merrors\u001b[49m\u001b[38;5;241;43m=\u001b[39;49m\u001b[43merrors\u001b[49m\u001b[43m)\u001b[49m\n\u001b[0;32m   4312\u001b[0m     indexer \u001b[38;5;241m=\u001b[39m axis\u001b[38;5;241m.\u001b[39mget_indexer(new_axis)\n\u001b[0;32m   4314\u001b[0m \u001b[38;5;66;03m# Case for non-unique axis\u001b[39;00m\n\u001b[0;32m   4315\u001b[0m \u001b[38;5;28;01melse\u001b[39;00m:\n",
      "File \u001b[1;32m~\\anaconda3\\lib\\site-packages\\pandas\\core\\indexes\\base.py:6644\u001b[0m, in \u001b[0;36mIndex.drop\u001b[1;34m(self, labels, errors)\u001b[0m\n\u001b[0;32m   6642\u001b[0m \u001b[38;5;28;01mif\u001b[39;00m mask\u001b[38;5;241m.\u001b[39many():\n\u001b[0;32m   6643\u001b[0m     \u001b[38;5;28;01mif\u001b[39;00m errors \u001b[38;5;241m!=\u001b[39m \u001b[38;5;124m\"\u001b[39m\u001b[38;5;124mignore\u001b[39m\u001b[38;5;124m\"\u001b[39m:\n\u001b[1;32m-> 6644\u001b[0m         \u001b[38;5;28;01mraise\u001b[39;00m \u001b[38;5;167;01mKeyError\u001b[39;00m(\u001b[38;5;124mf\u001b[39m\u001b[38;5;124m\"\u001b[39m\u001b[38;5;132;01m{\u001b[39;00m\u001b[38;5;28mlist\u001b[39m(labels[mask])\u001b[38;5;132;01m}\u001b[39;00m\u001b[38;5;124m not found in axis\u001b[39m\u001b[38;5;124m\"\u001b[39m)\n\u001b[0;32m   6645\u001b[0m     indexer \u001b[38;5;241m=\u001b[39m indexer[\u001b[38;5;241m~\u001b[39mmask]\n\u001b[0;32m   6646\u001b[0m \u001b[38;5;28;01mreturn\u001b[39;00m \u001b[38;5;28mself\u001b[39m\u001b[38;5;241m.\u001b[39mdelete(indexer)\n",
      "\u001b[1;31mKeyError\u001b[0m: '[73723] not found in axis'"
     ]
    }
   ],
   "source": [
    "env.drop([73723], inplace = True)"
   ]
  },
  {
   "cell_type": "code",
   "execution_count": 200,
   "id": "30b047d8",
   "metadata": {},
   "outputs": [
    {
     "name": "stderr",
     "output_type": "stream",
     "text": [
      "C:\\Users\\Vishnu\\anaconda3\\lib\\site-packages\\seaborn\\_decorators.py:36: FutureWarning: Pass the following variables as keyword args: x, y. From version 0.12, the only valid positional argument will be `data`, and passing other arguments without an explicit keyword will result in an error or misinterpretation.\n",
      "  warnings.warn(\n"
     ]
    },
    {
     "data": {
      "image/png": "[encoded data removed]",
      "text/plain": [
       "<Figure size 720x720 with 1 Axes>"
      ]
     },
     "metadata": {
      "needs_background": "light"
     },
     "output_type": "display_data"
    }
   ],
   "source": [
    "plt.figure(figsize = (10,10))\n",
    "sns.boxplot(env['region'], env['cancer']);"
   ]
  },
  {
   "cell_type": "code",
   "execution_count": 201,
   "id": "19a08592",
   "metadata": {},
   "outputs": [
    {
     "data": {
      "text/html": [
       "<div>\n",
       "<style scoped>\n",
       "    .dataframe tbody tr th:only-of-type {\n",
       "        vertical-align: middle;\n",
       "    }\n",
       "\n",
       "    .dataframe tbody tr th {\n",
       "        vertical-align: top;\n",
       "    }\n",
       "\n",
       "    .dataframe thead th {\n",
       "        text-align: right;\n",
       "    }\n",
       "</style>\n",
       "<table border=\"1\" class=\"dataframe\">\n",
       "  <thead>\n",
       "    <tr style=\"text-align: right;\">\n",
       "      <th></th>\n",
       "      <th>count</th>\n",
       "      <th>mean</th>\n",
       "      <th>std</th>\n",
       "      <th>min</th>\n",
       "      <th>25%</th>\n",
       "      <th>50%</th>\n",
       "      <th>75%</th>\n",
       "      <th>max</th>\n",
       "    </tr>\n",
       "    <tr>\n",
       "      <th>region</th>\n",
       "      <th></th>\n",
       "      <th></th>\n",
       "      <th></th>\n",
       "      <th></th>\n",
       "      <th></th>\n",
       "      <th></th>\n",
       "      <th></th>\n",
       "      <th></th>\n",
       "    </tr>\n",
       "  </thead>\n",
       "  <tbody>\n",
       "    <tr>\n",
       "      <th>1</th>\n",
       "      <td>3357.0</td>\n",
       "      <td>0.226067</td>\n",
       "      <td>0.166967</td>\n",
       "      <td>0.014337</td>\n",
       "      <td>0.116459</td>\n",
       "      <td>0.191493</td>\n",
       "      <td>0.277327</td>\n",
       "      <td>1.053983</td>\n",
       "    </tr>\n",
       "    <tr>\n",
       "      <th>2</th>\n",
       "      <td>7720.0</td>\n",
       "      <td>0.546520</td>\n",
       "      <td>0.464182</td>\n",
       "      <td>0.005776</td>\n",
       "      <td>0.171305</td>\n",
       "      <td>0.360294</td>\n",
       "      <td>0.873405</td>\n",
       "      <td>1.927320</td>\n",
       "    </tr>\n",
       "    <tr>\n",
       "      <th>3</th>\n",
       "      <td>7336.0</td>\n",
       "      <td>0.271259</td>\n",
       "      <td>0.131953</td>\n",
       "      <td>0.043552</td>\n",
       "      <td>0.161809</td>\n",
       "      <td>0.257579</td>\n",
       "      <td>0.368201</td>\n",
       "      <td>1.025638</td>\n",
       "    </tr>\n",
       "    <tr>\n",
       "      <th>4</th>\n",
       "      <td>13796.0</td>\n",
       "      <td>0.258878</td>\n",
       "      <td>0.155497</td>\n",
       "      <td>0.042090</td>\n",
       "      <td>0.132362</td>\n",
       "      <td>0.223871</td>\n",
       "      <td>0.346081</td>\n",
       "      <td>1.155929</td>\n",
       "    </tr>\n",
       "    <tr>\n",
       "      <th>5</th>\n",
       "      <td>13035.0</td>\n",
       "      <td>0.287581</td>\n",
       "      <td>0.191005</td>\n",
       "      <td>0.021070</td>\n",
       "      <td>0.157425</td>\n",
       "      <td>0.254062</td>\n",
       "      <td>0.370956</td>\n",
       "      <td>1.818186</td>\n",
       "    </tr>\n",
       "    <tr>\n",
       "      <th>6</th>\n",
       "      <td>8575.0</td>\n",
       "      <td>0.227053</td>\n",
       "      <td>0.145687</td>\n",
       "      <td>0.010226</td>\n",
       "      <td>0.115237</td>\n",
       "      <td>0.204725</td>\n",
       "      <td>0.295032</td>\n",
       "      <td>1.026167</td>\n",
       "    </tr>\n",
       "    <tr>\n",
       "      <th>7</th>\n",
       "      <td>3501.0</td>\n",
       "      <td>0.219458</td>\n",
       "      <td>0.133724</td>\n",
       "      <td>0.032283</td>\n",
       "      <td>0.109737</td>\n",
       "      <td>0.184288</td>\n",
       "      <td>0.294335</td>\n",
       "      <td>0.782373</td>\n",
       "    </tr>\n",
       "    <tr>\n",
       "      <th>8</th>\n",
       "      <td>2655.0</td>\n",
       "      <td>0.202088</td>\n",
       "      <td>0.167258</td>\n",
       "      <td>0.006761</td>\n",
       "      <td>0.056834</td>\n",
       "      <td>0.172190</td>\n",
       "      <td>0.300742</td>\n",
       "      <td>1.531864</td>\n",
       "    </tr>\n",
       "    <tr>\n",
       "      <th>9</th>\n",
       "      <td>10512.0</td>\n",
       "      <td>0.335886</td>\n",
       "      <td>0.189603</td>\n",
       "      <td>0.000519</td>\n",
       "      <td>0.186890</td>\n",
       "      <td>0.325176</td>\n",
       "      <td>0.472524</td>\n",
       "      <td>1.150039</td>\n",
       "    </tr>\n",
       "    <tr>\n",
       "      <th>10</th>\n",
       "      <td>2732.0</td>\n",
       "      <td>0.303747</td>\n",
       "      <td>0.225517</td>\n",
       "      <td>0.000002</td>\n",
       "      <td>0.110176</td>\n",
       "      <td>0.262555</td>\n",
       "      <td>0.460971</td>\n",
       "      <td>1.050522</td>\n",
       "    </tr>\n",
       "  </tbody>\n",
       "</table>\n",
       "</div>"
      ],
      "text/plain": [
       "          count      mean       std       min       25%       50%       75%  \\\n",
       "region                                                                        \n",
       "1        3357.0  0.226067  0.166967  0.014337  0.116459  0.191493  0.277327   \n",
       "2        7720.0  0.546520  0.464182  0.005776  0.171305  0.360294  0.873405   \n",
       "3        7336.0  0.271259  0.131953  0.043552  0.161809  0.257579  0.368201   \n",
       "4       13796.0  0.258878  0.155497  0.042090  0.132362  0.223871  0.346081   \n",
       "5       13035.0  0.287581  0.191005  0.021070  0.157425  0.254062  0.370956   \n",
       "6        8575.0  0.227053  0.145687  0.010226  0.115237  0.204725  0.295032   \n",
       "7        3501.0  0.219458  0.133724  0.032283  0.109737  0.184288  0.294335   \n",
       "8        2655.0  0.202088  0.167258  0.006761  0.056834  0.172190  0.300742   \n",
       "9       10512.0  0.335886  0.189603  0.000519  0.186890  0.325176  0.472524   \n",
       "10       2732.0  0.303747  0.225517  0.000002  0.110176  0.262555  0.460971   \n",
       "\n",
       "             max  \n",
       "region            \n",
       "1       1.053983  \n",
       "2       1.927320  \n",
       "3       1.025638  \n",
       "4       1.155929  \n",
       "5       1.818186  \n",
       "6       1.026167  \n",
       "7       0.782373  \n",
       "8       1.531864  \n",
       "9       1.150039  \n",
       "10      1.050522  "
      ]
     },
     "execution_count": 201,
     "metadata": {},
     "output_type": "execute_result"
    }
   ],
   "source": [
    "env.groupby('region')['diesel_pm'].describe()"
   ]
  },
  {
   "cell_type": "code",
   "execution_count": 202,
   "id": "905356ef",
   "metadata": {},
   "outputs": [
    {
     "name": "stderr",
     "output_type": "stream",
     "text": [
      "C:\\Users\\Vishnu\\anaconda3\\lib\\site-packages\\seaborn\\_decorators.py:36: FutureWarning: Pass the following variables as keyword args: x, y. From version 0.12, the only valid positional argument will be `data`, and passing other arguments without an explicit keyword will result in an error or misinterpretation.\n",
      "  warnings.warn(\n"
     ]
    },
    {
     "data": {
      "image/png": "[encoded data removed]",
      "text/plain": [
       "<Figure size 720x720 with 1 Axes>"
      ]
     },
     "metadata": {
      "needs_background": "light"
     },
     "output_type": "display_data"
    }
   ],
   "source": [
    "plt.figure(figsize = (10,10))\n",
    "sns.boxplot(env['region'], env['diesel_pm']);"
   ]
  },
  {
   "cell_type": "code",
   "execution_count": 203,
   "id": "09d59e40",
   "metadata": {},
   "outputs": [
    {
     "data": {
      "text/html": [
       "<div>\n",
       "<style scoped>\n",
       "    .dataframe tbody tr th:only-of-type {\n",
       "        vertical-align: middle;\n",
       "    }\n",
       "\n",
       "    .dataframe tbody tr th {\n",
       "        vertical-align: top;\n",
       "    }\n",
       "\n",
       "    .dataframe thead th {\n",
       "        text-align: right;\n",
       "    }\n",
       "</style>\n",
       "<table border=\"1\" class=\"dataframe\">\n",
       "  <thead>\n",
       "    <tr style=\"text-align: right;\">\n",
       "      <th></th>\n",
       "      <th>count</th>\n",
       "      <th>mean</th>\n",
       "      <th>std</th>\n",
       "      <th>min</th>\n",
       "      <th>25%</th>\n",
       "      <th>50%</th>\n",
       "      <th>75%</th>\n",
       "      <th>max</th>\n",
       "    </tr>\n",
       "    <tr>\n",
       "      <th>region</th>\n",
       "      <th></th>\n",
       "      <th></th>\n",
       "      <th></th>\n",
       "      <th></th>\n",
       "      <th></th>\n",
       "      <th></th>\n",
       "      <th></th>\n",
       "      <th></th>\n",
       "    </tr>\n",
       "  </thead>\n",
       "  <tbody>\n",
       "    <tr>\n",
       "      <th>1</th>\n",
       "      <td>3357.0</td>\n",
       "      <td>0.275842</td>\n",
       "      <td>0.067057</td>\n",
       "      <td>0.10</td>\n",
       "      <td>0.2</td>\n",
       "      <td>0.3</td>\n",
       "      <td>0.3</td>\n",
       "      <td>0.7</td>\n",
       "    </tr>\n",
       "    <tr>\n",
       "      <th>2</th>\n",
       "      <td>7720.0</td>\n",
       "      <td>0.368122</td>\n",
       "      <td>0.144863</td>\n",
       "      <td>0.10</td>\n",
       "      <td>0.2</td>\n",
       "      <td>0.3</td>\n",
       "      <td>0.5</td>\n",
       "      <td>0.9</td>\n",
       "    </tr>\n",
       "    <tr>\n",
       "      <th>3</th>\n",
       "      <td>7336.0</td>\n",
       "      <td>0.344670</td>\n",
       "      <td>0.076148</td>\n",
       "      <td>0.20</td>\n",
       "      <td>0.3</td>\n",
       "      <td>0.3</td>\n",
       "      <td>0.4</td>\n",
       "      <td>1.0</td>\n",
       "    </tr>\n",
       "    <tr>\n",
       "      <th>4</th>\n",
       "      <td>13796.0</td>\n",
       "      <td>0.397434</td>\n",
       "      <td>0.090149</td>\n",
       "      <td>0.10</td>\n",
       "      <td>0.3</td>\n",
       "      <td>0.4</td>\n",
       "      <td>0.4</td>\n",
       "      <td>2.0</td>\n",
       "    </tr>\n",
       "    <tr>\n",
       "      <th>5</th>\n",
       "      <td>13035.0</td>\n",
       "      <td>0.301649</td>\n",
       "      <td>0.086815</td>\n",
       "      <td>0.10</td>\n",
       "      <td>0.2</td>\n",
       "      <td>0.3</td>\n",
       "      <td>0.3</td>\n",
       "      <td>2.0</td>\n",
       "    </tr>\n",
       "    <tr>\n",
       "      <th>6</th>\n",
       "      <td>8575.0</td>\n",
       "      <td>0.373691</td>\n",
       "      <td>0.099582</td>\n",
       "      <td>0.10</td>\n",
       "      <td>0.3</td>\n",
       "      <td>0.4</td>\n",
       "      <td>0.4</td>\n",
       "      <td>1.0</td>\n",
       "    </tr>\n",
       "    <tr>\n",
       "      <th>7</th>\n",
       "      <td>3501.0</td>\n",
       "      <td>0.323108</td>\n",
       "      <td>0.093718</td>\n",
       "      <td>0.10</td>\n",
       "      <td>0.2</td>\n",
       "      <td>0.3</td>\n",
       "      <td>0.4</td>\n",
       "      <td>0.7</td>\n",
       "    </tr>\n",
       "    <tr>\n",
       "      <th>8</th>\n",
       "      <td>2655.0</td>\n",
       "      <td>0.294603</td>\n",
       "      <td>0.201258</td>\n",
       "      <td>0.07</td>\n",
       "      <td>0.2</td>\n",
       "      <td>0.3</td>\n",
       "      <td>0.4</td>\n",
       "      <td>2.0</td>\n",
       "    </tr>\n",
       "    <tr>\n",
       "      <th>9</th>\n",
       "      <td>10512.0</td>\n",
       "      <td>0.406046</td>\n",
       "      <td>0.193776</td>\n",
       "      <td>0.09</td>\n",
       "      <td>0.3</td>\n",
       "      <td>0.4</td>\n",
       "      <td>0.5</td>\n",
       "      <td>4.0</td>\n",
       "    </tr>\n",
       "    <tr>\n",
       "      <th>10</th>\n",
       "      <td>2732.0</td>\n",
       "      <td>0.461823</td>\n",
       "      <td>0.195208</td>\n",
       "      <td>0.10</td>\n",
       "      <td>0.4</td>\n",
       "      <td>0.5</td>\n",
       "      <td>0.5</td>\n",
       "      <td>5.0</td>\n",
       "    </tr>\n",
       "  </tbody>\n",
       "</table>\n",
       "</div>"
      ],
      "text/plain": [
       "          count      mean       std   min  25%  50%  75%  max\n",
       "region                                                       \n",
       "1        3357.0  0.275842  0.067057  0.10  0.2  0.3  0.3  0.7\n",
       "2        7720.0  0.368122  0.144863  0.10  0.2  0.3  0.5  0.9\n",
       "3        7336.0  0.344670  0.076148  0.20  0.3  0.3  0.4  1.0\n",
       "4       13796.0  0.397434  0.090149  0.10  0.3  0.4  0.4  2.0\n",
       "5       13035.0  0.301649  0.086815  0.10  0.2  0.3  0.3  2.0\n",
       "6        8575.0  0.373691  0.099582  0.10  0.3  0.4  0.4  1.0\n",
       "7        3501.0  0.323108  0.093718  0.10  0.2  0.3  0.4  0.7\n",
       "8        2655.0  0.294603  0.201258  0.07  0.2  0.3  0.4  2.0\n",
       "9       10512.0  0.406046  0.193776  0.09  0.3  0.4  0.5  4.0\n",
       "10       2732.0  0.461823  0.195208  0.10  0.4  0.5  0.5  5.0"
      ]
     },
     "execution_count": 203,
     "metadata": {},
     "output_type": "execute_result"
    }
   ],
   "source": [
    "env.groupby('region')['resp_index'].describe()"
   ]
  },
  {
   "cell_type": "code",
   "execution_count": 204,
   "id": "d425e34a",
   "metadata": {
    "scrolled": false
   },
   "outputs": [
    {
     "name": "stderr",
     "output_type": "stream",
     "text": [
      "C:\\Users\\Vishnu\\anaconda3\\lib\\site-packages\\seaborn\\_decorators.py:36: FutureWarning: Pass the following variables as keyword args: x, y. From version 0.12, the only valid positional argument will be `data`, and passing other arguments without an explicit keyword will result in an error or misinterpretation.\n",
      "  warnings.warn(\n"
     ]
    },
    {
     "data": {
      "image/png": "[encoded data removed]",
      "text/plain": [
       "<Figure size 720x720 with 1 Axes>"
      ]
     },
     "metadata": {
      "needs_background": "light"
     },
     "output_type": "display_data"
    }
   ],
   "source": [
    "plt.figure(figsize = (10,10))\n",
    "sns.boxplot(env['region'], env['resp_index']);"
   ]
  },
  {
   "cell_type": "code",
   "execution_count": 205,
   "id": "c24b76fc",
   "metadata": {},
   "outputs": [
    {
     "data": {
      "text/html": [
       "<div>\n",
       "<style scoped>\n",
       "    .dataframe tbody tr th:only-of-type {\n",
       "        vertical-align: middle;\n",
       "    }\n",
       "\n",
       "    .dataframe tbody tr th {\n",
       "        vertical-align: top;\n",
       "    }\n",
       "\n",
       "    .dataframe thead th {\n",
       "        text-align: right;\n",
       "    }\n",
       "</style>\n",
       "<table border=\"1\" class=\"dataframe\">\n",
       "  <thead>\n",
       "    <tr style=\"text-align: right;\">\n",
       "      <th></th>\n",
       "      <th>count</th>\n",
       "      <th>mean</th>\n",
       "      <th>std</th>\n",
       "      <th>min</th>\n",
       "      <th>25%</th>\n",
       "      <th>50%</th>\n",
       "      <th>75%</th>\n",
       "      <th>max</th>\n",
       "    </tr>\n",
       "    <tr>\n",
       "      <th>region</th>\n",
       "      <th></th>\n",
       "      <th></th>\n",
       "      <th></th>\n",
       "      <th></th>\n",
       "      <th></th>\n",
       "      <th></th>\n",
       "      <th></th>\n",
       "      <th></th>\n",
       "    </tr>\n",
       "  </thead>\n",
       "  <tbody>\n",
       "    <tr>\n",
       "      <th>1</th>\n",
       "      <td>3357.0</td>\n",
       "      <td>0.148498</td>\n",
       "      <td>0.215141</td>\n",
       "      <td>0.009093</td>\n",
       "      <td>0.053225</td>\n",
       "      <td>0.080969</td>\n",
       "      <td>0.141127</td>\n",
       "      <td>2.486735</td>\n",
       "    </tr>\n",
       "    <tr>\n",
       "      <th>2</th>\n",
       "      <td>7720.0</td>\n",
       "      <td>0.272974</td>\n",
       "      <td>0.404658</td>\n",
       "      <td>0.011798</td>\n",
       "      <td>0.074214</td>\n",
       "      <td>0.140211</td>\n",
       "      <td>0.257349</td>\n",
       "      <td>6.363388</td>\n",
       "    </tr>\n",
       "    <tr>\n",
       "      <th>3</th>\n",
       "      <td>7336.0</td>\n",
       "      <td>0.159773</td>\n",
       "      <td>0.277022</td>\n",
       "      <td>0.010161</td>\n",
       "      <td>0.043934</td>\n",
       "      <td>0.081809</td>\n",
       "      <td>0.157764</td>\n",
       "      <td>5.048768</td>\n",
       "    </tr>\n",
       "    <tr>\n",
       "      <th>4</th>\n",
       "      <td>13796.0</td>\n",
       "      <td>0.087562</td>\n",
       "      <td>0.176336</td>\n",
       "      <td>0.005681</td>\n",
       "      <td>0.016600</td>\n",
       "      <td>0.036446</td>\n",
       "      <td>0.087648</td>\n",
       "      <td>5.559691</td>\n",
       "    </tr>\n",
       "    <tr>\n",
       "      <th>5</th>\n",
       "      <td>13035.0</td>\n",
       "      <td>0.127770</td>\n",
       "      <td>0.238035</td>\n",
       "      <td>0.004282</td>\n",
       "      <td>0.031357</td>\n",
       "      <td>0.057234</td>\n",
       "      <td>0.116781</td>\n",
       "      <td>4.357276</td>\n",
       "    </tr>\n",
       "    <tr>\n",
       "      <th>6</th>\n",
       "      <td>8575.0</td>\n",
       "      <td>0.083387</td>\n",
       "      <td>0.154929</td>\n",
       "      <td>0.003554</td>\n",
       "      <td>0.017602</td>\n",
       "      <td>0.038268</td>\n",
       "      <td>0.088247</td>\n",
       "      <td>2.718384</td>\n",
       "    </tr>\n",
       "    <tr>\n",
       "      <th>7</th>\n",
       "      <td>3501.0</td>\n",
       "      <td>0.099986</td>\n",
       "      <td>0.171839</td>\n",
       "      <td>0.004685</td>\n",
       "      <td>0.019352</td>\n",
       "      <td>0.049258</td>\n",
       "      <td>0.110062</td>\n",
       "      <td>1.940754</td>\n",
       "    </tr>\n",
       "    <tr>\n",
       "      <th>8</th>\n",
       "      <td>2655.0</td>\n",
       "      <td>0.108026</td>\n",
       "      <td>0.209046</td>\n",
       "      <td>0.001986</td>\n",
       "      <td>0.012594</td>\n",
       "      <td>0.035537</td>\n",
       "      <td>0.122474</td>\n",
       "      <td>3.902370</td>\n",
       "    </tr>\n",
       "    <tr>\n",
       "      <th>9</th>\n",
       "      <td>10512.0</td>\n",
       "      <td>0.151237</td>\n",
       "      <td>0.383251</td>\n",
       "      <td>0.002591</td>\n",
       "      <td>0.034519</td>\n",
       "      <td>0.070647</td>\n",
       "      <td>0.140431</td>\n",
       "      <td>8.059139</td>\n",
       "    </tr>\n",
       "    <tr>\n",
       "      <th>10</th>\n",
       "      <td>2732.0</td>\n",
       "      <td>0.132963</td>\n",
       "      <td>0.240367</td>\n",
       "      <td>0.001130</td>\n",
       "      <td>0.021721</td>\n",
       "      <td>0.061974</td>\n",
       "      <td>0.143823</td>\n",
       "      <td>3.538859</td>\n",
       "    </tr>\n",
       "  </tbody>\n",
       "</table>\n",
       "</div>"
      ],
      "text/plain": [
       "          count      mean       std       min       25%       50%       75%  \\\n",
       "region                                                                        \n",
       "1        3357.0  0.148498  0.215141  0.009093  0.053225  0.080969  0.141127   \n",
       "2        7720.0  0.272974  0.404658  0.011798  0.074214  0.140211  0.257349   \n",
       "3        7336.0  0.159773  0.277022  0.010161  0.043934  0.081809  0.157764   \n",
       "4       13796.0  0.087562  0.176336  0.005681  0.016600  0.036446  0.087648   \n",
       "5       13035.0  0.127770  0.238035  0.004282  0.031357  0.057234  0.116781   \n",
       "6        8575.0  0.083387  0.154929  0.003554  0.017602  0.038268  0.088247   \n",
       "7        3501.0  0.099986  0.171839  0.004685  0.019352  0.049258  0.110062   \n",
       "8        2655.0  0.108026  0.209046  0.001986  0.012594  0.035537  0.122474   \n",
       "9       10512.0  0.151237  0.383251  0.002591  0.034519  0.070647  0.140431   \n",
       "10       2732.0  0.132963  0.240367  0.001130  0.021721  0.061974  0.143823   \n",
       "\n",
       "             max  \n",
       "region            \n",
       "1       2.486735  \n",
       "2       6.363388  \n",
       "3       5.048768  \n",
       "4       5.559691  \n",
       "5       4.357276  \n",
       "6       2.718384  \n",
       "7       1.940754  \n",
       "8       3.902370  \n",
       "9       8.059139  \n",
       "10      3.538859  "
      ]
     },
     "execution_count": 205,
     "metadata": {},
     "output_type": "execute_result"
    }
   ],
   "source": [
    "env.groupby('region')['npl_prox'].describe()"
   ]
  },
  {
   "cell_type": "code",
   "execution_count": 206,
   "id": "70777366",
   "metadata": {
    "scrolled": true
   },
   "outputs": [
    {
     "name": "stderr",
     "output_type": "stream",
     "text": [
      "C:\\Users\\Vishnu\\anaconda3\\lib\\site-packages\\seaborn\\_decorators.py:36: FutureWarning: Pass the following variables as keyword args: x, y. From version 0.12, the only valid positional argument will be `data`, and passing other arguments without an explicit keyword will result in an error or misinterpretation.\n",
      "  warnings.warn(\n"
     ]
    },
    {
     "data": {
      "image/png": "[encoded data removed]",
      "text/plain": [
       "<Figure size 720x720 with 1 Axes>"
      ]
     },
     "metadata": {
      "needs_background": "light"
     },
     "output_type": "display_data"
    }
   ],
   "source": [
    "plt.figure(figsize = (10,10))\n",
    "sns.boxplot(env['region'], env['npl_prox']);"
   ]
  },
  {
   "cell_type": "code",
   "execution_count": 207,
   "id": "b58e0798",
   "metadata": {},
   "outputs": [
    {
     "data": {
      "text/html": [
       "<div>\n",
       "<style scoped>\n",
       "    .dataframe tbody tr th:only-of-type {\n",
       "        vertical-align: middle;\n",
       "    }\n",
       "\n",
       "    .dataframe tbody tr th {\n",
       "        vertical-align: top;\n",
       "    }\n",
       "\n",
       "    .dataframe thead th {\n",
       "        text-align: right;\n",
       "    }\n",
       "</style>\n",
       "<table border=\"1\" class=\"dataframe\">\n",
       "  <thead>\n",
       "    <tr style=\"text-align: right;\">\n",
       "      <th></th>\n",
       "      <th>count</th>\n",
       "      <th>mean</th>\n",
       "      <th>std</th>\n",
       "      <th>min</th>\n",
       "      <th>25%</th>\n",
       "      <th>50%</th>\n",
       "      <th>75%</th>\n",
       "      <th>max</th>\n",
       "    </tr>\n",
       "    <tr>\n",
       "      <th>region</th>\n",
       "      <th></th>\n",
       "      <th></th>\n",
       "      <th></th>\n",
       "      <th></th>\n",
       "      <th></th>\n",
       "      <th></th>\n",
       "      <th></th>\n",
       "      <th></th>\n",
       "    </tr>\n",
       "  </thead>\n",
       "  <tbody>\n",
       "    <tr>\n",
       "      <th>1</th>\n",
       "      <td>3357.0</td>\n",
       "      <td>0.627114</td>\n",
       "      <td>0.832889</td>\n",
       "      <td>0.010558</td>\n",
       "      <td>0.112076</td>\n",
       "      <td>0.268582</td>\n",
       "      <td>0.823060</td>\n",
       "      <td>8.644721</td>\n",
       "    </tr>\n",
       "    <tr>\n",
       "      <th>2</th>\n",
       "      <td>7720.0</td>\n",
       "      <td>0.657790</td>\n",
       "      <td>0.920397</td>\n",
       "      <td>0.017307</td>\n",
       "      <td>0.139541</td>\n",
       "      <td>0.296897</td>\n",
       "      <td>0.807416</td>\n",
       "      <td>12.598708</td>\n",
       "    </tr>\n",
       "    <tr>\n",
       "      <th>3</th>\n",
       "      <td>7336.0</td>\n",
       "      <td>0.692741</td>\n",
       "      <td>0.934125</td>\n",
       "      <td>0.017727</td>\n",
       "      <td>0.133649</td>\n",
       "      <td>0.297870</td>\n",
       "      <td>0.884169</td>\n",
       "      <td>10.213013</td>\n",
       "    </tr>\n",
       "    <tr>\n",
       "      <th>4</th>\n",
       "      <td>13796.0</td>\n",
       "      <td>0.650873</td>\n",
       "      <td>0.912723</td>\n",
       "      <td>0.012017</td>\n",
       "      <td>0.119578</td>\n",
       "      <td>0.271187</td>\n",
       "      <td>0.820013</td>\n",
       "      <td>10.153860</td>\n",
       "    </tr>\n",
       "    <tr>\n",
       "      <th>5</th>\n",
       "      <td>13035.0</td>\n",
       "      <td>0.911866</td>\n",
       "      <td>1.149144</td>\n",
       "      <td>0.007896</td>\n",
       "      <td>0.173214</td>\n",
       "      <td>0.480331</td>\n",
       "      <td>1.219877</td>\n",
       "      <td>13.530489</td>\n",
       "    </tr>\n",
       "    <tr>\n",
       "      <th>6</th>\n",
       "      <td>8575.0</td>\n",
       "      <td>0.885095</td>\n",
       "      <td>1.208804</td>\n",
       "      <td>0.006326</td>\n",
       "      <td>0.158753</td>\n",
       "      <td>0.427368</td>\n",
       "      <td>1.151974</td>\n",
       "      <td>15.815071</td>\n",
       "    </tr>\n",
       "    <tr>\n",
       "      <th>7</th>\n",
       "      <td>3501.0</td>\n",
       "      <td>1.063387</td>\n",
       "      <td>1.154421</td>\n",
       "      <td>0.012358</td>\n",
       "      <td>0.229379</td>\n",
       "      <td>0.691585</td>\n",
       "      <td>1.441658</td>\n",
       "      <td>10.210545</td>\n",
       "    </tr>\n",
       "    <tr>\n",
       "      <th>8</th>\n",
       "      <td>2655.0</td>\n",
       "      <td>0.645403</td>\n",
       "      <td>0.808022</td>\n",
       "      <td>0.008881</td>\n",
       "      <td>0.143800</td>\n",
       "      <td>0.324704</td>\n",
       "      <td>0.848488</td>\n",
       "      <td>7.588711</td>\n",
       "    </tr>\n",
       "    <tr>\n",
       "      <th>9</th>\n",
       "      <td>10512.0</td>\n",
       "      <td>1.012133</td>\n",
       "      <td>1.464256</td>\n",
       "      <td>0.005603</td>\n",
       "      <td>0.182054</td>\n",
       "      <td>0.483199</td>\n",
       "      <td>1.238353</td>\n",
       "      <td>17.607654</td>\n",
       "    </tr>\n",
       "    <tr>\n",
       "      <th>10</th>\n",
       "      <td>2732.0</td>\n",
       "      <td>0.661854</td>\n",
       "      <td>0.937269</td>\n",
       "      <td>0.001413</td>\n",
       "      <td>0.102103</td>\n",
       "      <td>0.250774</td>\n",
       "      <td>0.892126</td>\n",
       "      <td>9.071066</td>\n",
       "    </tr>\n",
       "  </tbody>\n",
       "</table>\n",
       "</div>"
      ],
      "text/plain": [
       "          count      mean       std       min       25%       50%       75%  \\\n",
       "region                                                                        \n",
       "1        3357.0  0.627114  0.832889  0.010558  0.112076  0.268582  0.823060   \n",
       "2        7720.0  0.657790  0.920397  0.017307  0.139541  0.296897  0.807416   \n",
       "3        7336.0  0.692741  0.934125  0.017727  0.133649  0.297870  0.884169   \n",
       "4       13796.0  0.650873  0.912723  0.012017  0.119578  0.271187  0.820013   \n",
       "5       13035.0  0.911866  1.149144  0.007896  0.173214  0.480331  1.219877   \n",
       "6        8575.0  0.885095  1.208804  0.006326  0.158753  0.427368  1.151974   \n",
       "7        3501.0  1.063387  1.154421  0.012358  0.229379  0.691585  1.441658   \n",
       "8        2655.0  0.645403  0.808022  0.008881  0.143800  0.324704  0.848488   \n",
       "9       10512.0  1.012133  1.464256  0.005603  0.182054  0.483199  1.238353   \n",
       "10       2732.0  0.661854  0.937269  0.001413  0.102103  0.250774  0.892126   \n",
       "\n",
       "              max  \n",
       "region             \n",
       "1        8.644721  \n",
       "2       12.598708  \n",
       "3       10.213013  \n",
       "4       10.153860  \n",
       "5       13.530489  \n",
       "6       15.815071  \n",
       "7       10.210545  \n",
       "8        7.588711  \n",
       "9       17.607654  \n",
       "10       9.071066  "
      ]
     },
     "execution_count": 207,
     "metadata": {},
     "output_type": "execute_result"
    }
   ],
   "source": [
    "env.groupby('region')['rmp_prox'].describe()"
   ]
  },
  {
   "cell_type": "code",
   "execution_count": 208,
   "id": "c8b8f7cc",
   "metadata": {
    "scrolled": true
   },
   "outputs": [
    {
     "name": "stderr",
     "output_type": "stream",
     "text": [
      "C:\\Users\\Vishnu\\anaconda3\\lib\\site-packages\\seaborn\\_decorators.py:36: FutureWarning: Pass the following variables as keyword args: x, y. From version 0.12, the only valid positional argument will be `data`, and passing other arguments without an explicit keyword will result in an error or misinterpretation.\n",
      "  warnings.warn(\n"
     ]
    },
    {
     "data": {
      "image/png": "[encoded data removed]",
      "text/plain": [
       "<Figure size 720x720 with 1 Axes>"
      ]
     },
     "metadata": {
      "needs_background": "light"
     },
     "output_type": "display_data"
    }
   ],
   "source": [
    "plt.figure(figsize = (10,10))\n",
    "sns.boxplot(env['region'], env['rmp_prox']);"
   ]
  },
  {
   "cell_type": "code",
   "execution_count": 209,
   "id": "cc2c4c4e",
   "metadata": {},
   "outputs": [
    {
     "data": {
      "text/html": [
       "<div>\n",
       "<style scoped>\n",
       "    .dataframe tbody tr th:only-of-type {\n",
       "        vertical-align: middle;\n",
       "    }\n",
       "\n",
       "    .dataframe tbody tr th {\n",
       "        vertical-align: top;\n",
       "    }\n",
       "\n",
       "    .dataframe thead th {\n",
       "        text-align: right;\n",
       "    }\n",
       "</style>\n",
       "<table border=\"1\" class=\"dataframe\">\n",
       "  <thead>\n",
       "    <tr style=\"text-align: right;\">\n",
       "      <th></th>\n",
       "      <th>count</th>\n",
       "      <th>mean</th>\n",
       "      <th>std</th>\n",
       "      <th>min</th>\n",
       "      <th>25%</th>\n",
       "      <th>50%</th>\n",
       "      <th>75%</th>\n",
       "      <th>max</th>\n",
       "    </tr>\n",
       "    <tr>\n",
       "      <th>region</th>\n",
       "      <th></th>\n",
       "      <th></th>\n",
       "      <th></th>\n",
       "      <th></th>\n",
       "      <th></th>\n",
       "      <th></th>\n",
       "      <th></th>\n",
       "      <th></th>\n",
       "    </tr>\n",
       "  </thead>\n",
       "  <tbody>\n",
       "    <tr>\n",
       "      <th>1</th>\n",
       "      <td>3222.0</td>\n",
       "      <td>1369.734995</td>\n",
       "      <td>3263.981754</td>\n",
       "      <td>0.001668</td>\n",
       "      <td>125.406449</td>\n",
       "      <td>443.629669</td>\n",
       "      <td>1294.440622</td>\n",
       "      <td>42063.593145</td>\n",
       "    </tr>\n",
       "    <tr>\n",
       "      <th>2</th>\n",
       "      <td>7629.0</td>\n",
       "      <td>844.734166</td>\n",
       "      <td>1230.907451</td>\n",
       "      <td>0.001149</td>\n",
       "      <td>143.718871</td>\n",
       "      <td>414.348028</td>\n",
       "      <td>1001.828629</td>\n",
       "      <td>15135.219025</td>\n",
       "    </tr>\n",
       "    <tr>\n",
       "      <th>3</th>\n",
       "      <td>7126.0</td>\n",
       "      <td>731.628996</td>\n",
       "      <td>1306.674450</td>\n",
       "      <td>0.000727</td>\n",
       "      <td>95.801752</td>\n",
       "      <td>335.997770</td>\n",
       "      <td>834.108525</td>\n",
       "      <td>23072.081354</td>\n",
       "    </tr>\n",
       "    <tr>\n",
       "      <th>4</th>\n",
       "      <td>13250.0</td>\n",
       "      <td>456.932081</td>\n",
       "      <td>923.830148</td>\n",
       "      <td>0.000410</td>\n",
       "      <td>42.836194</td>\n",
       "      <td>172.427178</td>\n",
       "      <td>511.352441</td>\n",
       "      <td>25481.534146</td>\n",
       "    </tr>\n",
       "    <tr>\n",
       "      <th>5</th>\n",
       "      <td>12667.0</td>\n",
       "      <td>683.484472</td>\n",
       "      <td>1186.324616</td>\n",
       "      <td>0.000630</td>\n",
       "      <td>94.179447</td>\n",
       "      <td>311.600862</td>\n",
       "      <td>778.792340</td>\n",
       "      <td>22114.272146</td>\n",
       "    </tr>\n",
       "    <tr>\n",
       "      <th>6</th>\n",
       "      <td>8265.0</td>\n",
       "      <td>531.263034</td>\n",
       "      <td>915.325500</td>\n",
       "      <td>0.000241</td>\n",
       "      <td>77.641233</td>\n",
       "      <td>232.216401</td>\n",
       "      <td>571.843703</td>\n",
       "      <td>13313.271626</td>\n",
       "    </tr>\n",
       "    <tr>\n",
       "      <th>7</th>\n",
       "      <td>3341.0</td>\n",
       "      <td>441.773827</td>\n",
       "      <td>840.764204</td>\n",
       "      <td>0.000720</td>\n",
       "      <td>37.013493</td>\n",
       "      <td>177.080107</td>\n",
       "      <td>479.181209</td>\n",
       "      <td>12819.730868</td>\n",
       "    </tr>\n",
       "    <tr>\n",
       "      <th>8</th>\n",
       "      <td>2594.0</td>\n",
       "      <td>511.500505</td>\n",
       "      <td>765.781108</td>\n",
       "      <td>0.000149</td>\n",
       "      <td>66.896687</td>\n",
       "      <td>268.767918</td>\n",
       "      <td>635.148714</td>\n",
       "      <td>11935.137537</td>\n",
       "    </tr>\n",
       "    <tr>\n",
       "      <th>9</th>\n",
       "      <td>10402.0</td>\n",
       "      <td>1350.174502</td>\n",
       "      <td>2530.574913</td>\n",
       "      <td>0.000032</td>\n",
       "      <td>121.805246</td>\n",
       "      <td>428.688108</td>\n",
       "      <td>1373.450050</td>\n",
       "      <td>34647.430696</td>\n",
       "    </tr>\n",
       "    <tr>\n",
       "      <th>10</th>\n",
       "      <td>2644.0</td>\n",
       "      <td>606.747077</td>\n",
       "      <td>1141.266147</td>\n",
       "      <td>0.000612</td>\n",
       "      <td>78.900862</td>\n",
       "      <td>266.070940</td>\n",
       "      <td>673.166483</td>\n",
       "      <td>16281.571501</td>\n",
       "    </tr>\n",
       "  </tbody>\n",
       "</table>\n",
       "</div>"
      ],
      "text/plain": [
       "          count         mean          std       min         25%         50%  \\\n",
       "region                                                                        \n",
       "1        3222.0  1369.734995  3263.981754  0.001668  125.406449  443.629669   \n",
       "2        7629.0   844.734166  1230.907451  0.001149  143.718871  414.348028   \n",
       "3        7126.0   731.628996  1306.674450  0.000727   95.801752  335.997770   \n",
       "4       13250.0   456.932081   923.830148  0.000410   42.836194  172.427178   \n",
       "5       12667.0   683.484472  1186.324616  0.000630   94.179447  311.600862   \n",
       "6        8265.0   531.263034   915.325500  0.000241   77.641233  232.216401   \n",
       "7        3341.0   441.773827   840.764204  0.000720   37.013493  177.080107   \n",
       "8        2594.0   511.500505   765.781108  0.000149   66.896687  268.767918   \n",
       "9       10402.0  1350.174502  2530.574913  0.000032  121.805246  428.688108   \n",
       "10       2644.0   606.747077  1141.266147  0.000612   78.900862  266.070940   \n",
       "\n",
       "                75%           max  \n",
       "region                             \n",
       "1       1294.440622  42063.593145  \n",
       "2       1001.828629  15135.219025  \n",
       "3        834.108525  23072.081354  \n",
       "4        511.352441  25481.534146  \n",
       "5        778.792340  22114.272146  \n",
       "6        571.843703  13313.271626  \n",
       "7        479.181209  12819.730868  \n",
       "8        635.148714  11935.137537  \n",
       "9       1373.450050  34647.430696  \n",
       "10       673.166483  16281.571501  "
      ]
     },
     "execution_count": 209,
     "metadata": {},
     "output_type": "execute_result"
    }
   ],
   "source": [
    "env.groupby('region')['traffic_prox'].describe()"
   ]
  },
  {
   "cell_type": "code",
   "execution_count": 210,
   "id": "a39b24ba",
   "metadata": {
    "scrolled": true
   },
   "outputs": [
    {
     "name": "stderr",
     "output_type": "stream",
     "text": [
      "C:\\Users\\Vishnu\\anaconda3\\lib\\site-packages\\seaborn\\_decorators.py:36: FutureWarning: Pass the following variables as keyword args: x, y. From version 0.12, the only valid positional argument will be `data`, and passing other arguments without an explicit keyword will result in an error or misinterpretation.\n",
      "  warnings.warn(\n"
     ]
    },
    {
     "data": {
      "image/png": "[encoded data removed]",
      "text/plain": [
       "<Figure size 720x720 with 1 Axes>"
      ]
     },
     "metadata": {
      "needs_background": "light"
     },
     "output_type": "display_data"
    }
   ],
   "source": [
    "plt.figure(figsize = (10,10))\n",
    "sns.boxplot(env['region'], env['traffic_prox']);"
   ]
  },
  {
   "cell_type": "code",
   "execution_count": 211,
   "id": "db6acba2",
   "metadata": {},
   "outputs": [
    {
     "data": {
      "text/html": [
       "<div>\n",
       "<style scoped>\n",
       "    .dataframe tbody tr th:only-of-type {\n",
       "        vertical-align: middle;\n",
       "    }\n",
       "\n",
       "    .dataframe tbody tr th {\n",
       "        vertical-align: top;\n",
       "    }\n",
       "\n",
       "    .dataframe thead th {\n",
       "        text-align: right;\n",
       "    }\n",
       "</style>\n",
       "<table border=\"1\" class=\"dataframe\">\n",
       "  <thead>\n",
       "    <tr style=\"text-align: right;\">\n",
       "      <th></th>\n",
       "      <th>count</th>\n",
       "      <th>mean</th>\n",
       "      <th>std</th>\n",
       "      <th>min</th>\n",
       "      <th>25%</th>\n",
       "      <th>50%</th>\n",
       "      <th>75%</th>\n",
       "      <th>max</th>\n",
       "    </tr>\n",
       "    <tr>\n",
       "      <th>region</th>\n",
       "      <th></th>\n",
       "      <th></th>\n",
       "      <th></th>\n",
       "      <th></th>\n",
       "      <th></th>\n",
       "      <th></th>\n",
       "      <th></th>\n",
       "      <th></th>\n",
       "    </tr>\n",
       "  </thead>\n",
       "  <tbody>\n",
       "    <tr>\n",
       "      <th>1</th>\n",
       "      <td>3357.0</td>\n",
       "      <td>3.962331</td>\n",
       "      <td>6.807005</td>\n",
       "      <td>0.010797</td>\n",
       "      <td>0.408347</td>\n",
       "      <td>1.921894</td>\n",
       "      <td>4.459744</td>\n",
       "      <td>57.751593</td>\n",
       "    </tr>\n",
       "    <tr>\n",
       "      <th>2</th>\n",
       "      <td>7720.0</td>\n",
       "      <td>4.717458</td>\n",
       "      <td>6.434878</td>\n",
       "      <td>0.019681</td>\n",
       "      <td>0.483750</td>\n",
       "      <td>2.340819</td>\n",
       "      <td>6.232107</td>\n",
       "      <td>47.000513</td>\n",
       "    </tr>\n",
       "    <tr>\n",
       "      <th>3</th>\n",
       "      <td>7336.0</td>\n",
       "      <td>2.076710</td>\n",
       "      <td>3.794244</td>\n",
       "      <td>0.012833</td>\n",
       "      <td>0.183873</td>\n",
       "      <td>0.724028</td>\n",
       "      <td>2.333923</td>\n",
       "      <td>46.925941</td>\n",
       "    </tr>\n",
       "    <tr>\n",
       "      <th>4</th>\n",
       "      <td>13796.0</td>\n",
       "      <td>0.687424</td>\n",
       "      <td>1.106015</td>\n",
       "      <td>0.010753</td>\n",
       "      <td>0.101108</td>\n",
       "      <td>0.227139</td>\n",
       "      <td>0.797039</td>\n",
       "      <td>14.643542</td>\n",
       "    </tr>\n",
       "    <tr>\n",
       "      <th>5</th>\n",
       "      <td>13035.0</td>\n",
       "      <td>1.913553</td>\n",
       "      <td>2.489093</td>\n",
       "      <td>0.007322</td>\n",
       "      <td>0.205958</td>\n",
       "      <td>1.045881</td>\n",
       "      <td>2.637826</td>\n",
       "      <td>26.455067</td>\n",
       "    </tr>\n",
       "    <tr>\n",
       "      <th>6</th>\n",
       "      <td>8575.0</td>\n",
       "      <td>0.910102</td>\n",
       "      <td>1.307430</td>\n",
       "      <td>0.004855</td>\n",
       "      <td>0.104356</td>\n",
       "      <td>0.360134</td>\n",
       "      <td>1.194626</td>\n",
       "      <td>13.606208</td>\n",
       "    </tr>\n",
       "    <tr>\n",
       "      <th>7</th>\n",
       "      <td>3501.0</td>\n",
       "      <td>1.081273</td>\n",
       "      <td>1.475052</td>\n",
       "      <td>0.007000</td>\n",
       "      <td>0.068772</td>\n",
       "      <td>0.415955</td>\n",
       "      <td>1.509446</td>\n",
       "      <td>9.450530</td>\n",
       "    </tr>\n",
       "    <tr>\n",
       "      <th>8</th>\n",
       "      <td>2655.0</td>\n",
       "      <td>0.738265</td>\n",
       "      <td>0.941759</td>\n",
       "      <td>0.004952</td>\n",
       "      <td>0.063137</td>\n",
       "      <td>0.355191</td>\n",
       "      <td>1.076731</td>\n",
       "      <td>7.191161</td>\n",
       "    </tr>\n",
       "    <tr>\n",
       "      <th>9</th>\n",
       "      <td>10512.0</td>\n",
       "      <td>4.533289</td>\n",
       "      <td>4.557115</td>\n",
       "      <td>0.005430</td>\n",
       "      <td>1.143693</td>\n",
       "      <td>2.983536</td>\n",
       "      <td>6.575305</td>\n",
       "      <td>35.643179</td>\n",
       "    </tr>\n",
       "    <tr>\n",
       "      <th>10</th>\n",
       "      <td>2732.0</td>\n",
       "      <td>1.648064</td>\n",
       "      <td>2.816257</td>\n",
       "      <td>0.001280</td>\n",
       "      <td>0.097046</td>\n",
       "      <td>0.529078</td>\n",
       "      <td>2.029459</td>\n",
       "      <td>25.703982</td>\n",
       "    </tr>\n",
       "  </tbody>\n",
       "</table>\n",
       "</div>"
      ],
      "text/plain": [
       "          count      mean       std       min       25%       50%       75%  \\\n",
       "region                                                                        \n",
       "1        3357.0  3.962331  6.807005  0.010797  0.408347  1.921894  4.459744   \n",
       "2        7720.0  4.717458  6.434878  0.019681  0.483750  2.340819  6.232107   \n",
       "3        7336.0  2.076710  3.794244  0.012833  0.183873  0.724028  2.333923   \n",
       "4       13796.0  0.687424  1.106015  0.010753  0.101108  0.227139  0.797039   \n",
       "5       13035.0  1.913553  2.489093  0.007322  0.205958  1.045881  2.637826   \n",
       "6        8575.0  0.910102  1.307430  0.004855  0.104356  0.360134  1.194626   \n",
       "7        3501.0  1.081273  1.475052  0.007000  0.068772  0.415955  1.509446   \n",
       "8        2655.0  0.738265  0.941759  0.004952  0.063137  0.355191  1.076731   \n",
       "9       10512.0  4.533289  4.557115  0.005430  1.143693  2.983536  6.575305   \n",
       "10       2732.0  1.648064  2.816257  0.001280  0.097046  0.529078  2.029459   \n",
       "\n",
       "              max  \n",
       "region             \n",
       "1       57.751593  \n",
       "2       47.000513  \n",
       "3       46.925941  \n",
       "4       14.643542  \n",
       "5       26.455067  \n",
       "6       13.606208  \n",
       "7        9.450530  \n",
       "8        7.191161  \n",
       "9       35.643179  \n",
       "10      25.703982  "
      ]
     },
     "execution_count": 211,
     "metadata": {},
     "output_type": "execute_result"
    }
   ],
   "source": [
    "env.groupby('region')['waste_prox'].describe()"
   ]
  },
  {
   "cell_type": "code",
   "execution_count": 212,
   "id": "0d75fef1",
   "metadata": {
    "scrolled": true
   },
   "outputs": [
    {
     "name": "stderr",
     "output_type": "stream",
     "text": [
      "C:\\Users\\Vishnu\\anaconda3\\lib\\site-packages\\seaborn\\_decorators.py:36: FutureWarning: Pass the following variables as keyword args: x, y. From version 0.12, the only valid positional argument will be `data`, and passing other arguments without an explicit keyword will result in an error or misinterpretation.\n",
      "  warnings.warn(\n"
     ]
    },
    {
     "data": {
      "image/png": "[encoded data removed]",
      "text/plain": [
       "<Figure size 720x720 with 1 Axes>"
      ]
     },
     "metadata": {
      "needs_background": "light"
     },
     "output_type": "display_data"
    }
   ],
   "source": [
    "plt.figure(figsize = (10,10))\n",
    "sns.boxplot(env['region'], env['waste_prox']);"
   ]
  },
  {
   "cell_type": "code",
   "execution_count": 213,
   "id": "9daf2e62",
   "metadata": {},
   "outputs": [
    {
     "data": {
      "text/html": [
       "<div>\n",
       "<style scoped>\n",
       "    .dataframe tbody tr th:only-of-type {\n",
       "        vertical-align: middle;\n",
       "    }\n",
       "\n",
       "    .dataframe tbody tr th {\n",
       "        vertical-align: top;\n",
       "    }\n",
       "\n",
       "    .dataframe thead th {\n",
       "        text-align: right;\n",
       "    }\n",
       "</style>\n",
       "<table border=\"1\" class=\"dataframe\">\n",
       "  <thead>\n",
       "    <tr style=\"text-align: right;\">\n",
       "      <th></th>\n",
       "      <th>count</th>\n",
       "      <th>mean</th>\n",
       "      <th>std</th>\n",
       "      <th>min</th>\n",
       "      <th>25%</th>\n",
       "      <th>50%</th>\n",
       "      <th>75%</th>\n",
       "      <th>max</th>\n",
       "    </tr>\n",
       "    <tr>\n",
       "      <th>region</th>\n",
       "      <th></th>\n",
       "      <th></th>\n",
       "      <th></th>\n",
       "      <th></th>\n",
       "      <th></th>\n",
       "      <th></th>\n",
       "      <th></th>\n",
       "      <th></th>\n",
       "    </tr>\n",
       "  </thead>\n",
       "  <tbody>\n",
       "    <tr>\n",
       "      <th>1</th>\n",
       "      <td>3357.0</td>\n",
       "      <td>3.191507</td>\n",
       "      <td>4.513291</td>\n",
       "      <td>0.0</td>\n",
       "      <td>0.380192</td>\n",
       "      <td>1.526609</td>\n",
       "      <td>4.261739</td>\n",
       "      <td>46.799733</td>\n",
       "    </tr>\n",
       "    <tr>\n",
       "      <th>2</th>\n",
       "      <td>7720.0</td>\n",
       "      <td>9.236194</td>\n",
       "      <td>13.271907</td>\n",
       "      <td>0.0</td>\n",
       "      <td>0.466997</td>\n",
       "      <td>3.488034</td>\n",
       "      <td>13.119708</td>\n",
       "      <td>154.788486</td>\n",
       "    </tr>\n",
       "    <tr>\n",
       "      <th>3</th>\n",
       "      <td>7336.0</td>\n",
       "      <td>2.917941</td>\n",
       "      <td>4.364976</td>\n",
       "      <td>0.0</td>\n",
       "      <td>0.337259</td>\n",
       "      <td>1.426891</td>\n",
       "      <td>3.694851</td>\n",
       "      <td>68.460827</td>\n",
       "    </tr>\n",
       "    <tr>\n",
       "      <th>4</th>\n",
       "      <td>13796.0</td>\n",
       "      <td>3.855132</td>\n",
       "      <td>6.310283</td>\n",
       "      <td>0.0</td>\n",
       "      <td>0.349804</td>\n",
       "      <td>1.562551</td>\n",
       "      <td>4.530755</td>\n",
       "      <td>81.917067</td>\n",
       "    </tr>\n",
       "    <tr>\n",
       "      <th>5</th>\n",
       "      <td>13035.0</td>\n",
       "      <td>5.568955</td>\n",
       "      <td>8.270690</td>\n",
       "      <td>0.0</td>\n",
       "      <td>0.530529</td>\n",
       "      <td>2.444811</td>\n",
       "      <td>7.048410</td>\n",
       "      <td>84.781368</td>\n",
       "    </tr>\n",
       "    <tr>\n",
       "      <th>6</th>\n",
       "      <td>8575.0</td>\n",
       "      <td>2.228575</td>\n",
       "      <td>2.494650</td>\n",
       "      <td>0.0</td>\n",
       "      <td>0.360188</td>\n",
       "      <td>1.527009</td>\n",
       "      <td>3.286078</td>\n",
       "      <td>31.114518</td>\n",
       "    </tr>\n",
       "    <tr>\n",
       "      <th>7</th>\n",
       "      <td>3501.0</td>\n",
       "      <td>2.770881</td>\n",
       "      <td>4.456675</td>\n",
       "      <td>0.0</td>\n",
       "      <td>0.160509</td>\n",
       "      <td>1.185027</td>\n",
       "      <td>3.594017</td>\n",
       "      <td>69.679229</td>\n",
       "    </tr>\n",
       "    <tr>\n",
       "      <th>8</th>\n",
       "      <td>2655.0</td>\n",
       "      <td>2.789964</td>\n",
       "      <td>4.311574</td>\n",
       "      <td>0.0</td>\n",
       "      <td>0.221216</td>\n",
       "      <td>1.416580</td>\n",
       "      <td>3.703715</td>\n",
       "      <td>78.076904</td>\n",
       "    </tr>\n",
       "    <tr>\n",
       "      <th>9</th>\n",
       "      <td>10512.0</td>\n",
       "      <td>3.498885</td>\n",
       "      <td>4.535379</td>\n",
       "      <td>0.0</td>\n",
       "      <td>0.597303</td>\n",
       "      <td>2.088123</td>\n",
       "      <td>4.550748</td>\n",
       "      <td>54.782787</td>\n",
       "    </tr>\n",
       "    <tr>\n",
       "      <th>10</th>\n",
       "      <td>2732.0</td>\n",
       "      <td>4.514342</td>\n",
       "      <td>8.118450</td>\n",
       "      <td>0.0</td>\n",
       "      <td>0.285207</td>\n",
       "      <td>1.724661</td>\n",
       "      <td>5.424745</td>\n",
       "      <td>109.648379</td>\n",
       "    </tr>\n",
       "  </tbody>\n",
       "</table>\n",
       "</div>"
      ],
      "text/plain": [
       "          count      mean        std  min       25%       50%        75%  \\\n",
       "region                                                                     \n",
       "1        3357.0  3.191507   4.513291  0.0  0.380192  1.526609   4.261739   \n",
       "2        7720.0  9.236194  13.271907  0.0  0.466997  3.488034  13.119708   \n",
       "3        7336.0  2.917941   4.364976  0.0  0.337259  1.426891   3.694851   \n",
       "4       13796.0  3.855132   6.310283  0.0  0.349804  1.562551   4.530755   \n",
       "5       13035.0  5.568955   8.270690  0.0  0.530529  2.444811   7.048410   \n",
       "6        8575.0  2.228575   2.494650  0.0  0.360188  1.527009   3.286078   \n",
       "7        3501.0  2.770881   4.456675  0.0  0.160509  1.185027   3.594017   \n",
       "8        2655.0  2.789964   4.311574  0.0  0.221216  1.416580   3.703715   \n",
       "9       10512.0  3.498885   4.535379  0.0  0.597303  2.088123   4.550748   \n",
       "10       2732.0  4.514342   8.118450  0.0  0.285207  1.724661   5.424745   \n",
       "\n",
       "               max  \n",
       "region              \n",
       "1        46.799733  \n",
       "2       154.788486  \n",
       "3        68.460827  \n",
       "4        81.917067  \n",
       "5        84.781368  \n",
       "6        31.114518  \n",
       "7        69.679229  \n",
       "8        78.076904  \n",
       "9        54.782787  \n",
       "10      109.648379  "
      ]
     },
     "execution_count": 213,
     "metadata": {},
     "output_type": "execute_result"
    }
   ],
   "source": [
    "env.groupby('region')['undgrd_stor'].describe()"
   ]
  },
  {
   "cell_type": "code",
   "execution_count": 214,
   "id": "422deaef",
   "metadata": {
    "scrolled": true
   },
   "outputs": [
    {
     "name": "stderr",
     "output_type": "stream",
     "text": [
      "C:\\Users\\Vishnu\\anaconda3\\lib\\site-packages\\seaborn\\_decorators.py:36: FutureWarning: Pass the following variables as keyword args: x, y. From version 0.12, the only valid positional argument will be `data`, and passing other arguments without an explicit keyword will result in an error or misinterpretation.\n",
      "  warnings.warn(\n"
     ]
    },
    {
     "data": {
      "image/png": "[encoded data removed]",
      "text/plain": [
       "<Figure size 720x720 with 1 Axes>"
      ]
     },
     "metadata": {
      "needs_background": "light"
     },
     "output_type": "display_data"
    }
   ],
   "source": [
    "plt.figure(figsize = (10,10))\n",
    "sns.boxplot(env['region'], env['undgrd_stor']);"
   ]
  },
  {
   "cell_type": "markdown",
   "id": "291d1358",
   "metadata": {},
   "source": [
    "Region vs Demographic factor boxplots"
   ]
  },
  {
   "cell_type": "code",
   "execution_count": 215,
   "id": "08232201",
   "metadata": {},
   "outputs": [
    {
     "data": {
      "text/html": [
       "<div>\n",
       "<style scoped>\n",
       "    .dataframe tbody tr th:only-of-type {\n",
       "        vertical-align: middle;\n",
       "    }\n",
       "\n",
       "    .dataframe tbody tr th {\n",
       "        vertical-align: top;\n",
       "    }\n",
       "\n",
       "    .dataframe thead th {\n",
       "        text-align: right;\n",
       "    }\n",
       "</style>\n",
       "<table border=\"1\" class=\"dataframe\">\n",
       "  <thead>\n",
       "    <tr style=\"text-align: right;\">\n",
       "      <th></th>\n",
       "      <th>count</th>\n",
       "      <th>mean</th>\n",
       "      <th>std</th>\n",
       "      <th>min</th>\n",
       "      <th>25%</th>\n",
       "      <th>50%</th>\n",
       "      <th>75%</th>\n",
       "      <th>max</th>\n",
       "    </tr>\n",
       "    <tr>\n",
       "      <th>region</th>\n",
       "      <th></th>\n",
       "      <th></th>\n",
       "      <th></th>\n",
       "      <th></th>\n",
       "      <th></th>\n",
       "      <th></th>\n",
       "      <th></th>\n",
       "      <th></th>\n",
       "    </tr>\n",
       "  </thead>\n",
       "  <tbody>\n",
       "    <tr>\n",
       "      <th>1</th>\n",
       "      <td>3357.0</td>\n",
       "      <td>4405.933870</td>\n",
       "      <td>1738.274272</td>\n",
       "      <td>32.0</td>\n",
       "      <td>3103.00</td>\n",
       "      <td>4259.0</td>\n",
       "      <td>5544.00</td>\n",
       "      <td>13198.0</td>\n",
       "    </tr>\n",
       "    <tr>\n",
       "      <th>2</th>\n",
       "      <td>7720.0</td>\n",
       "      <td>4114.349741</td>\n",
       "      <td>1889.078512</td>\n",
       "      <td>36.0</td>\n",
       "      <td>2734.75</td>\n",
       "      <td>3873.5</td>\n",
       "      <td>5179.25</td>\n",
       "      <td>28109.0</td>\n",
       "    </tr>\n",
       "    <tr>\n",
       "      <th>3</th>\n",
       "      <td>7336.0</td>\n",
       "      <td>4189.207061</td>\n",
       "      <td>1867.913015</td>\n",
       "      <td>40.0</td>\n",
       "      <td>2824.00</td>\n",
       "      <td>3944.0</td>\n",
       "      <td>5273.00</td>\n",
       "      <td>19438.0</td>\n",
       "    </tr>\n",
       "    <tr>\n",
       "      <th>4</th>\n",
       "      <td>13796.0</td>\n",
       "      <td>4755.624674</td>\n",
       "      <td>2586.544723</td>\n",
       "      <td>61.0</td>\n",
       "      <td>3024.00</td>\n",
       "      <td>4346.0</td>\n",
       "      <td>5952.25</td>\n",
       "      <td>39928.0</td>\n",
       "    </tr>\n",
       "    <tr>\n",
       "      <th>5</th>\n",
       "      <td>13035.0</td>\n",
       "      <td>4020.747219</td>\n",
       "      <td>1948.545004</td>\n",
       "      <td>32.0</td>\n",
       "      <td>2694.00</td>\n",
       "      <td>3727.0</td>\n",
       "      <td>5006.00</td>\n",
       "      <td>29089.0</td>\n",
       "    </tr>\n",
       "    <tr>\n",
       "      <th>6</th>\n",
       "      <td>8575.0</td>\n",
       "      <td>4892.050262</td>\n",
       "      <td>3049.525011</td>\n",
       "      <td>34.0</td>\n",
       "      <td>2968.50</td>\n",
       "      <td>4371.0</td>\n",
       "      <td>6058.50</td>\n",
       "      <td>72041.0</td>\n",
       "    </tr>\n",
       "    <tr>\n",
       "      <th>7</th>\n",
       "      <td>3501.0</td>\n",
       "      <td>4018.734647</td>\n",
       "      <td>1972.405778</td>\n",
       "      <td>76.0</td>\n",
       "      <td>2661.00</td>\n",
       "      <td>3660.0</td>\n",
       "      <td>4979.00</td>\n",
       "      <td>32179.0</td>\n",
       "    </tr>\n",
       "    <tr>\n",
       "      <th>8</th>\n",
       "      <td>2655.0</td>\n",
       "      <td>4507.052731</td>\n",
       "      <td>2485.030756</td>\n",
       "      <td>53.0</td>\n",
       "      <td>2863.00</td>\n",
       "      <td>4156.0</td>\n",
       "      <td>5631.00</td>\n",
       "      <td>46482.0</td>\n",
       "    </tr>\n",
       "    <tr>\n",
       "      <th>9</th>\n",
       "      <td>10512.0</td>\n",
       "      <td>4825.321728</td>\n",
       "      <td>2227.258107</td>\n",
       "      <td>31.0</td>\n",
       "      <td>3400.00</td>\n",
       "      <td>4532.0</td>\n",
       "      <td>5869.00</td>\n",
       "      <td>38754.0</td>\n",
       "    </tr>\n",
       "    <tr>\n",
       "      <th>10</th>\n",
       "      <td>2732.0</td>\n",
       "      <td>5120.308565</td>\n",
       "      <td>2347.900217</td>\n",
       "      <td>65.0</td>\n",
       "      <td>3524.75</td>\n",
       "      <td>4843.0</td>\n",
       "      <td>6352.00</td>\n",
       "      <td>28516.0</td>\n",
       "    </tr>\n",
       "  </tbody>\n",
       "</table>\n",
       "</div>"
      ],
      "text/plain": [
       "          count         mean          std   min      25%     50%      75%  \\\n",
       "region                                                                      \n",
       "1        3357.0  4405.933870  1738.274272  32.0  3103.00  4259.0  5544.00   \n",
       "2        7720.0  4114.349741  1889.078512  36.0  2734.75  3873.5  5179.25   \n",
       "3        7336.0  4189.207061  1867.913015  40.0  2824.00  3944.0  5273.00   \n",
       "4       13796.0  4755.624674  2586.544723  61.0  3024.00  4346.0  5952.25   \n",
       "5       13035.0  4020.747219  1948.545004  32.0  2694.00  3727.0  5006.00   \n",
       "6        8575.0  4892.050262  3049.525011  34.0  2968.50  4371.0  6058.50   \n",
       "7        3501.0  4018.734647  1972.405778  76.0  2661.00  3660.0  4979.00   \n",
       "8        2655.0  4507.052731  2485.030756  53.0  2863.00  4156.0  5631.00   \n",
       "9       10512.0  4825.321728  2227.258107  31.0  3400.00  4532.0  5869.00   \n",
       "10       2732.0  5120.308565  2347.900217  65.0  3524.75  4843.0  6352.00   \n",
       "\n",
       "            max  \n",
       "region           \n",
       "1       13198.0  \n",
       "2       28109.0  \n",
       "3       19438.0  \n",
       "4       39928.0  \n",
       "5       29089.0  \n",
       "6       72041.0  \n",
       "7       32179.0  \n",
       "8       46482.0  \n",
       "9       38754.0  \n",
       "10      28516.0  "
      ]
     },
     "execution_count": 215,
     "metadata": {},
     "output_type": "execute_result"
    }
   ],
   "source": [
    "env.groupby('region')['pop'].describe()"
   ]
  },
  {
   "cell_type": "code",
   "execution_count": 216,
   "id": "9b7fff31",
   "metadata": {},
   "outputs": [
    {
     "name": "stderr",
     "output_type": "stream",
     "text": [
      "C:\\Users\\Vishnu\\anaconda3\\lib\\site-packages\\seaborn\\_decorators.py:36: FutureWarning: Pass the following variables as keyword args: x, y. From version 0.12, the only valid positional argument will be `data`, and passing other arguments without an explicit keyword will result in an error or misinterpretation.\n",
      "  warnings.warn(\n"
     ]
    },
    {
     "data": {
      "image/png": "[encoded data removed]",
      "text/plain": [
       "<Figure size 720x720 with 1 Axes>"
      ]
     },
     "metadata": {
      "needs_background": "light"
     },
     "output_type": "display_data"
    }
   ],
   "source": [
    "plt.figure(figsize = (10,10))\n",
    "sns.boxplot(env['region'], env['pop']);"
   ]
  },
  {
   "cell_type": "code",
   "execution_count": 217,
   "id": "d69ce39b",
   "metadata": {},
   "outputs": [
    {
     "data": {
      "text/html": [
       "<div>\n",
       "<style scoped>\n",
       "    .dataframe tbody tr th:only-of-type {\n",
       "        vertical-align: middle;\n",
       "    }\n",
       "\n",
       "    .dataframe tbody tr th {\n",
       "        vertical-align: top;\n",
       "    }\n",
       "\n",
       "    .dataframe thead th {\n",
       "        text-align: right;\n",
       "    }\n",
       "</style>\n",
       "<table border=\"1\" class=\"dataframe\">\n",
       "  <thead>\n",
       "    <tr style=\"text-align: right;\">\n",
       "      <th></th>\n",
       "      <th>count</th>\n",
       "      <th>mean</th>\n",
       "      <th>std</th>\n",
       "      <th>min</th>\n",
       "      <th>25%</th>\n",
       "      <th>50%</th>\n",
       "      <th>75%</th>\n",
       "      <th>max</th>\n",
       "    </tr>\n",
       "    <tr>\n",
       "      <th>region</th>\n",
       "      <th></th>\n",
       "      <th></th>\n",
       "      <th></th>\n",
       "      <th></th>\n",
       "      <th></th>\n",
       "      <th></th>\n",
       "      <th></th>\n",
       "      <th></th>\n",
       "    </tr>\n",
       "  </thead>\n",
       "  <tbody>\n",
       "    <tr>\n",
       "      <th>1</th>\n",
       "      <td>3357.0</td>\n",
       "      <td>0.252845</td>\n",
       "      <td>0.247699</td>\n",
       "      <td>0.00000</td>\n",
       "      <td>0.071048</td>\n",
       "      <td>0.149312</td>\n",
       "      <td>0.350768</td>\n",
       "      <td>1.000000</td>\n",
       "    </tr>\n",
       "    <tr>\n",
       "      <th>2</th>\n",
       "      <td>7720.0</td>\n",
       "      <td>0.509903</td>\n",
       "      <td>0.353195</td>\n",
       "      <td>0.00000</td>\n",
       "      <td>0.175422</td>\n",
       "      <td>0.443389</td>\n",
       "      <td>0.904438</td>\n",
       "      <td>1.000000</td>\n",
       "    </tr>\n",
       "    <tr>\n",
       "      <th>3</th>\n",
       "      <td>7336.0</td>\n",
       "      <td>0.327717</td>\n",
       "      <td>0.290602</td>\n",
       "      <td>0.00000</td>\n",
       "      <td>0.085472</td>\n",
       "      <td>0.230732</td>\n",
       "      <td>0.504293</td>\n",
       "      <td>1.000000</td>\n",
       "    </tr>\n",
       "    <tr>\n",
       "      <th>4</th>\n",
       "      <td>13796.0</td>\n",
       "      <td>0.383142</td>\n",
       "      <td>0.281531</td>\n",
       "      <td>0.00000</td>\n",
       "      <td>0.144674</td>\n",
       "      <td>0.315469</td>\n",
       "      <td>0.576817</td>\n",
       "      <td>1.000000</td>\n",
       "    </tr>\n",
       "    <tr>\n",
       "      <th>5</th>\n",
       "      <td>13035.0</td>\n",
       "      <td>0.283263</td>\n",
       "      <td>0.285461</td>\n",
       "      <td>0.00000</td>\n",
       "      <td>0.069548</td>\n",
       "      <td>0.164111</td>\n",
       "      <td>0.398925</td>\n",
       "      <td>1.000000</td>\n",
       "    </tr>\n",
       "    <tr>\n",
       "      <th>6</th>\n",
       "      <td>8575.0</td>\n",
       "      <td>0.512756</td>\n",
       "      <td>0.279952</td>\n",
       "      <td>0.00000</td>\n",
       "      <td>0.274027</td>\n",
       "      <td>0.475126</td>\n",
       "      <td>0.760019</td>\n",
       "      <td>1.000000</td>\n",
       "    </tr>\n",
       "    <tr>\n",
       "      <th>7</th>\n",
       "      <td>3501.0</td>\n",
       "      <td>0.210558</td>\n",
       "      <td>0.221507</td>\n",
       "      <td>0.00000</td>\n",
       "      <td>0.061475</td>\n",
       "      <td>0.128232</td>\n",
       "      <td>0.264438</td>\n",
       "      <td>1.000000</td>\n",
       "    </tr>\n",
       "    <tr>\n",
       "      <th>8</th>\n",
       "      <td>2655.0</td>\n",
       "      <td>0.243526</td>\n",
       "      <td>0.196344</td>\n",
       "      <td>0.00000</td>\n",
       "      <td>0.103636</td>\n",
       "      <td>0.180891</td>\n",
       "      <td>0.323793</td>\n",
       "      <td>0.991048</td>\n",
       "    </tr>\n",
       "    <tr>\n",
       "      <th>9</th>\n",
       "      <td>10512.0</td>\n",
       "      <td>0.585996</td>\n",
       "      <td>0.264917</td>\n",
       "      <td>0.00000</td>\n",
       "      <td>0.357073</td>\n",
       "      <td>0.589939</td>\n",
       "      <td>0.832241</td>\n",
       "      <td>1.000000</td>\n",
       "    </tr>\n",
       "    <tr>\n",
       "      <th>10</th>\n",
       "      <td>2732.0</td>\n",
       "      <td>0.273580</td>\n",
       "      <td>0.177767</td>\n",
       "      <td>0.01481</td>\n",
       "      <td>0.142564</td>\n",
       "      <td>0.225720</td>\n",
       "      <td>0.367580</td>\n",
       "      <td>0.973592</td>\n",
       "    </tr>\n",
       "  </tbody>\n",
       "</table>\n",
       "</div>"
      ],
      "text/plain": [
       "          count      mean       std      min       25%       50%       75%  \\\n",
       "region                                                                       \n",
       "1        3357.0  0.252845  0.247699  0.00000  0.071048  0.149312  0.350768   \n",
       "2        7720.0  0.509903  0.353195  0.00000  0.175422  0.443389  0.904438   \n",
       "3        7336.0  0.327717  0.290602  0.00000  0.085472  0.230732  0.504293   \n",
       "4       13796.0  0.383142  0.281531  0.00000  0.144674  0.315469  0.576817   \n",
       "5       13035.0  0.283263  0.285461  0.00000  0.069548  0.164111  0.398925   \n",
       "6        8575.0  0.512756  0.279952  0.00000  0.274027  0.475126  0.760019   \n",
       "7        3501.0  0.210558  0.221507  0.00000  0.061475  0.128232  0.264438   \n",
       "8        2655.0  0.243526  0.196344  0.00000  0.103636  0.180891  0.323793   \n",
       "9       10512.0  0.585996  0.264917  0.00000  0.357073  0.589939  0.832241   \n",
       "10       2732.0  0.273580  0.177767  0.01481  0.142564  0.225720  0.367580   \n",
       "\n",
       "             max  \n",
       "region            \n",
       "1       1.000000  \n",
       "2       1.000000  \n",
       "3       1.000000  \n",
       "4       1.000000  \n",
       "5       1.000000  \n",
       "6       1.000000  \n",
       "7       1.000000  \n",
       "8       0.991048  \n",
       "9       1.000000  \n",
       "10      0.973592  "
      ]
     },
     "execution_count": 217,
     "metadata": {},
     "output_type": "execute_result"
    }
   ],
   "source": [
    "env.groupby('region')['poc_pct'].describe()"
   ]
  },
  {
   "cell_type": "code",
   "execution_count": 218,
   "id": "ac7d9928",
   "metadata": {
    "scrolled": false
   },
   "outputs": [
    {
     "name": "stderr",
     "output_type": "stream",
     "text": [
      "C:\\Users\\Vishnu\\anaconda3\\lib\\site-packages\\seaborn\\_decorators.py:36: FutureWarning: Pass the following variables as keyword args: x, y. From version 0.12, the only valid positional argument will be `data`, and passing other arguments without an explicit keyword will result in an error or misinterpretation.\n",
      "  warnings.warn(\n"
     ]
    },
    {
     "data": {
      "image/png": "[encoded data removed]",
      "text/plain": [
       "<Figure size 720x720 with 1 Axes>"
      ]
     },
     "metadata": {
      "needs_background": "light"
     },
     "output_type": "display_data"
    }
   ],
   "source": [
    "plt.figure(figsize = (10,10))\n",
    "sns.boxplot(env['region'], env['poc_pct']);"
   ]
  },
  {
   "cell_type": "code",
   "execution_count": 219,
   "id": "0e0e1ac2",
   "metadata": {},
   "outputs": [
    {
     "data": {
      "text/html": [
       "<div>\n",
       "<style scoped>\n",
       "    .dataframe tbody tr th:only-of-type {\n",
       "        vertical-align: middle;\n",
       "    }\n",
       "\n",
       "    .dataframe tbody tr th {\n",
       "        vertical-align: top;\n",
       "    }\n",
       "\n",
       "    .dataframe thead th {\n",
       "        text-align: right;\n",
       "    }\n",
       "</style>\n",
       "<table border=\"1\" class=\"dataframe\">\n",
       "  <thead>\n",
       "    <tr style=\"text-align: right;\">\n",
       "      <th></th>\n",
       "      <th>count</th>\n",
       "      <th>mean</th>\n",
       "      <th>std</th>\n",
       "      <th>min</th>\n",
       "      <th>25%</th>\n",
       "      <th>50%</th>\n",
       "      <th>75%</th>\n",
       "      <th>max</th>\n",
       "    </tr>\n",
       "    <tr>\n",
       "      <th>region</th>\n",
       "      <th></th>\n",
       "      <th></th>\n",
       "      <th></th>\n",
       "      <th></th>\n",
       "      <th></th>\n",
       "      <th></th>\n",
       "      <th></th>\n",
       "      <th></th>\n",
       "    </tr>\n",
       "  </thead>\n",
       "  <tbody>\n",
       "    <tr>\n",
       "      <th>1</th>\n",
       "      <td>3357.0</td>\n",
       "      <td>0.250463</td>\n",
       "      <td>0.165572</td>\n",
       "      <td>0.0</td>\n",
       "      <td>0.124254</td>\n",
       "      <td>0.202848</td>\n",
       "      <td>0.346253</td>\n",
       "      <td>1.000000</td>\n",
       "    </tr>\n",
       "    <tr>\n",
       "      <th>2</th>\n",
       "      <td>7720.0</td>\n",
       "      <td>0.337552</td>\n",
       "      <td>0.231254</td>\n",
       "      <td>0.0</td>\n",
       "      <td>0.151878</td>\n",
       "      <td>0.277652</td>\n",
       "      <td>0.482324</td>\n",
       "      <td>1.000000</td>\n",
       "    </tr>\n",
       "    <tr>\n",
       "      <th>3</th>\n",
       "      <td>7336.0</td>\n",
       "      <td>0.285598</td>\n",
       "      <td>0.174946</td>\n",
       "      <td>0.0</td>\n",
       "      <td>0.149607</td>\n",
       "      <td>0.257366</td>\n",
       "      <td>0.387594</td>\n",
       "      <td>1.000000</td>\n",
       "    </tr>\n",
       "    <tr>\n",
       "      <th>4</th>\n",
       "      <td>13796.0</td>\n",
       "      <td>0.372550</td>\n",
       "      <td>0.173757</td>\n",
       "      <td>0.0</td>\n",
       "      <td>0.239655</td>\n",
       "      <td>0.365901</td>\n",
       "      <td>0.489956</td>\n",
       "      <td>1.000000</td>\n",
       "    </tr>\n",
       "    <tr>\n",
       "      <th>5</th>\n",
       "      <td>13035.0</td>\n",
       "      <td>0.326419</td>\n",
       "      <td>0.187255</td>\n",
       "      <td>0.0</td>\n",
       "      <td>0.182413</td>\n",
       "      <td>0.291769</td>\n",
       "      <td>0.435082</td>\n",
       "      <td>1.000000</td>\n",
       "    </tr>\n",
       "    <tr>\n",
       "      <th>6</th>\n",
       "      <td>8575.0</td>\n",
       "      <td>0.384228</td>\n",
       "      <td>0.184870</td>\n",
       "      <td>0.0</td>\n",
       "      <td>0.244125</td>\n",
       "      <td>0.376875</td>\n",
       "      <td>0.516715</td>\n",
       "      <td>1.000000</td>\n",
       "    </tr>\n",
       "    <tr>\n",
       "      <th>7</th>\n",
       "      <td>3501.0</td>\n",
       "      <td>0.325035</td>\n",
       "      <td>0.164600</td>\n",
       "      <td>0.0</td>\n",
       "      <td>0.207595</td>\n",
       "      <td>0.305213</td>\n",
       "      <td>0.424664</td>\n",
       "      <td>1.000000</td>\n",
       "    </tr>\n",
       "    <tr>\n",
       "      <th>8</th>\n",
       "      <td>2655.0</td>\n",
       "      <td>0.282720</td>\n",
       "      <td>0.153571</td>\n",
       "      <td>0.0</td>\n",
       "      <td>0.166192</td>\n",
       "      <td>0.263421</td>\n",
       "      <td>0.367643</td>\n",
       "      <td>1.000000</td>\n",
       "    </tr>\n",
       "    <tr>\n",
       "      <th>9</th>\n",
       "      <td>10512.0</td>\n",
       "      <td>0.316568</td>\n",
       "      <td>0.184451</td>\n",
       "      <td>0.0</td>\n",
       "      <td>0.165360</td>\n",
       "      <td>0.281406</td>\n",
       "      <td>0.447516</td>\n",
       "      <td>1.000000</td>\n",
       "    </tr>\n",
       "    <tr>\n",
       "      <th>10</th>\n",
       "      <td>2732.0</td>\n",
       "      <td>0.290601</td>\n",
       "      <td>0.144935</td>\n",
       "      <td>0.0</td>\n",
       "      <td>0.181004</td>\n",
       "      <td>0.274871</td>\n",
       "      <td>0.381997</td>\n",
       "      <td>0.899768</td>\n",
       "    </tr>\n",
       "  </tbody>\n",
       "</table>\n",
       "</div>"
      ],
      "text/plain": [
       "          count      mean       std  min       25%       50%       75%  \\\n",
       "region                                                                   \n",
       "1        3357.0  0.250463  0.165572  0.0  0.124254  0.202848  0.346253   \n",
       "2        7720.0  0.337552  0.231254  0.0  0.151878  0.277652  0.482324   \n",
       "3        7336.0  0.285598  0.174946  0.0  0.149607  0.257366  0.387594   \n",
       "4       13796.0  0.372550  0.173757  0.0  0.239655  0.365901  0.489956   \n",
       "5       13035.0  0.326419  0.187255  0.0  0.182413  0.291769  0.435082   \n",
       "6        8575.0  0.384228  0.184870  0.0  0.244125  0.376875  0.516715   \n",
       "7        3501.0  0.325035  0.164600  0.0  0.207595  0.305213  0.424664   \n",
       "8        2655.0  0.282720  0.153571  0.0  0.166192  0.263421  0.367643   \n",
       "9       10512.0  0.316568  0.184451  0.0  0.165360  0.281406  0.447516   \n",
       "10       2732.0  0.290601  0.144935  0.0  0.181004  0.274871  0.381997   \n",
       "\n",
       "             max  \n",
       "region            \n",
       "1       1.000000  \n",
       "2       1.000000  \n",
       "3       1.000000  \n",
       "4       1.000000  \n",
       "5       1.000000  \n",
       "6       1.000000  \n",
       "7       1.000000  \n",
       "8       1.000000  \n",
       "9       1.000000  \n",
       "10      0.899768  "
      ]
     },
     "execution_count": 219,
     "metadata": {},
     "output_type": "execute_result"
    }
   ],
   "source": [
    "env.groupby('region')['low_inc_pct'].describe()"
   ]
  },
  {
   "cell_type": "code",
   "execution_count": 220,
   "id": "3c62ef29",
   "metadata": {
    "scrolled": false
   },
   "outputs": [
    {
     "name": "stderr",
     "output_type": "stream",
     "text": [
      "C:\\Users\\Vishnu\\anaconda3\\lib\\site-packages\\seaborn\\_decorators.py:36: FutureWarning: Pass the following variables as keyword args: x, y. From version 0.12, the only valid positional argument will be `data`, and passing other arguments without an explicit keyword will result in an error or misinterpretation.\n",
      "  warnings.warn(\n"
     ]
    },
    {
     "data": {
      "image/png": "[encoded data removed]",
      "text/plain": [
       "<Figure size 720x720 with 1 Axes>"
      ]
     },
     "metadata": {
      "needs_background": "light"
     },
     "output_type": "display_data"
    }
   ],
   "source": [
    "plt.figure(figsize = (10,10))\n",
    "sns.boxplot(env['region'], env['low_inc_pct']);"
   ]
  },
  {
   "cell_type": "code",
   "execution_count": 221,
   "id": "d741abce",
   "metadata": {},
   "outputs": [
    {
     "data": {
      "text/html": [
       "<div>\n",
       "<style scoped>\n",
       "    .dataframe tbody tr th:only-of-type {\n",
       "        vertical-align: middle;\n",
       "    }\n",
       "\n",
       "    .dataframe tbody tr th {\n",
       "        vertical-align: top;\n",
       "    }\n",
       "\n",
       "    .dataframe thead th {\n",
       "        text-align: right;\n",
       "    }\n",
       "</style>\n",
       "<table border=\"1\" class=\"dataframe\">\n",
       "  <thead>\n",
       "    <tr style=\"text-align: right;\">\n",
       "      <th></th>\n",
       "      <th>count</th>\n",
       "      <th>mean</th>\n",
       "      <th>std</th>\n",
       "      <th>min</th>\n",
       "      <th>25%</th>\n",
       "      <th>50%</th>\n",
       "      <th>75%</th>\n",
       "      <th>max</th>\n",
       "    </tr>\n",
       "    <tr>\n",
       "      <th>region</th>\n",
       "      <th></th>\n",
       "      <th></th>\n",
       "      <th></th>\n",
       "      <th></th>\n",
       "      <th></th>\n",
       "      <th></th>\n",
       "      <th></th>\n",
       "      <th></th>\n",
       "    </tr>\n",
       "  </thead>\n",
       "  <tbody>\n",
       "    <tr>\n",
       "      <th>1</th>\n",
       "      <td>3357.0</td>\n",
       "      <td>0.095830</td>\n",
       "      <td>0.084439</td>\n",
       "      <td>0.0</td>\n",
       "      <td>0.039526</td>\n",
       "      <td>0.068520</td>\n",
       "      <td>0.123308</td>\n",
       "      <td>0.682091</td>\n",
       "    </tr>\n",
       "    <tr>\n",
       "      <th>2</th>\n",
       "      <td>7720.0</td>\n",
       "      <td>0.141107</td>\n",
       "      <td>0.108308</td>\n",
       "      <td>0.0</td>\n",
       "      <td>0.058510</td>\n",
       "      <td>0.110078</td>\n",
       "      <td>0.202080</td>\n",
       "      <td>1.000000</td>\n",
       "    </tr>\n",
       "    <tr>\n",
       "      <th>3</th>\n",
       "      <td>7336.0</td>\n",
       "      <td>0.104290</td>\n",
       "      <td>0.077163</td>\n",
       "      <td>0.0</td>\n",
       "      <td>0.049131</td>\n",
       "      <td>0.087125</td>\n",
       "      <td>0.140071</td>\n",
       "      <td>0.816566</td>\n",
       "    </tr>\n",
       "    <tr>\n",
       "      <th>4</th>\n",
       "      <td>13796.0</td>\n",
       "      <td>0.134261</td>\n",
       "      <td>0.086435</td>\n",
       "      <td>0.0</td>\n",
       "      <td>0.065710</td>\n",
       "      <td>0.122087</td>\n",
       "      <td>0.188349</td>\n",
       "      <td>0.658599</td>\n",
       "    </tr>\n",
       "    <tr>\n",
       "      <th>5</th>\n",
       "      <td>13035.0</td>\n",
       "      <td>0.105151</td>\n",
       "      <td>0.082770</td>\n",
       "      <td>0.0</td>\n",
       "      <td>0.048840</td>\n",
       "      <td>0.083747</td>\n",
       "      <td>0.136313</td>\n",
       "      <td>0.718519</td>\n",
       "    </tr>\n",
       "    <tr>\n",
       "      <th>6</th>\n",
       "      <td>8575.0</td>\n",
       "      <td>0.166429</td>\n",
       "      <td>0.123381</td>\n",
       "      <td>0.0</td>\n",
       "      <td>0.073478</td>\n",
       "      <td>0.138011</td>\n",
       "      <td>0.230334</td>\n",
       "      <td>1.000000</td>\n",
       "    </tr>\n",
       "    <tr>\n",
       "      <th>7</th>\n",
       "      <td>3501.0</td>\n",
       "      <td>0.099734</td>\n",
       "      <td>0.076555</td>\n",
       "      <td>0.0</td>\n",
       "      <td>0.047594</td>\n",
       "      <td>0.080039</td>\n",
       "      <td>0.129673</td>\n",
       "      <td>0.559540</td>\n",
       "    </tr>\n",
       "    <tr>\n",
       "      <th>8</th>\n",
       "      <td>2655.0</td>\n",
       "      <td>0.081900</td>\n",
       "      <td>0.070590</td>\n",
       "      <td>0.0</td>\n",
       "      <td>0.034266</td>\n",
       "      <td>0.062393</td>\n",
       "      <td>0.107016</td>\n",
       "      <td>0.541935</td>\n",
       "    </tr>\n",
       "    <tr>\n",
       "      <th>9</th>\n",
       "      <td>10512.0</td>\n",
       "      <td>0.163782</td>\n",
       "      <td>0.140750</td>\n",
       "      <td>0.0</td>\n",
       "      <td>0.053873</td>\n",
       "      <td>0.115214</td>\n",
       "      <td>0.244028</td>\n",
       "      <td>0.762928</td>\n",
       "    </tr>\n",
       "    <tr>\n",
       "      <th>10</th>\n",
       "      <td>2732.0</td>\n",
       "      <td>0.091184</td>\n",
       "      <td>0.072574</td>\n",
       "      <td>0.0</td>\n",
       "      <td>0.042255</td>\n",
       "      <td>0.075532</td>\n",
       "      <td>0.116414</td>\n",
       "      <td>0.647379</td>\n",
       "    </tr>\n",
       "  </tbody>\n",
       "</table>\n",
       "</div>"
      ],
      "text/plain": [
       "          count      mean       std  min       25%       50%       75%  \\\n",
       "region                                                                   \n",
       "1        3357.0  0.095830  0.084439  0.0  0.039526  0.068520  0.123308   \n",
       "2        7720.0  0.141107  0.108308  0.0  0.058510  0.110078  0.202080   \n",
       "3        7336.0  0.104290  0.077163  0.0  0.049131  0.087125  0.140071   \n",
       "4       13796.0  0.134261  0.086435  0.0  0.065710  0.122087  0.188349   \n",
       "5       13035.0  0.105151  0.082770  0.0  0.048840  0.083747  0.136313   \n",
       "6        8575.0  0.166429  0.123381  0.0  0.073478  0.138011  0.230334   \n",
       "7        3501.0  0.099734  0.076555  0.0  0.047594  0.080039  0.129673   \n",
       "8        2655.0  0.081900  0.070590  0.0  0.034266  0.062393  0.107016   \n",
       "9       10512.0  0.163782  0.140750  0.0  0.053873  0.115214  0.244028   \n",
       "10       2732.0  0.091184  0.072574  0.0  0.042255  0.075532  0.116414   \n",
       "\n",
       "             max  \n",
       "region            \n",
       "1       0.682091  \n",
       "2       1.000000  \n",
       "3       0.816566  \n",
       "4       0.658599  \n",
       "5       0.718519  \n",
       "6       1.000000  \n",
       "7       0.559540  \n",
       "8       0.541935  \n",
       "9       0.762928  \n",
       "10      0.647379  "
      ]
     },
     "execution_count": 221,
     "metadata": {},
     "output_type": "execute_result"
    }
   ],
   "source": [
    "env.groupby('region')['sub_hs_pct'].describe()"
   ]
  },
  {
   "cell_type": "code",
   "execution_count": 222,
   "id": "507c980c",
   "metadata": {},
   "outputs": [
    {
     "name": "stderr",
     "output_type": "stream",
     "text": [
      "C:\\Users\\Vishnu\\anaconda3\\lib\\site-packages\\seaborn\\_decorators.py:36: FutureWarning: Pass the following variables as keyword args: x, y. From version 0.12, the only valid positional argument will be `data`, and passing other arguments without an explicit keyword will result in an error or misinterpretation.\n",
      "  warnings.warn(\n"
     ]
    },
    {
     "data": {
      "image/png": "[encoded data removed]",
      "text/plain": [
       "<Figure size 720x720 with 1 Axes>"
      ]
     },
     "metadata": {
      "needs_background": "light"
     },
     "output_type": "display_data"
    }
   ],
   "source": [
    "plt.figure(figsize = (10,10))\n",
    "sns.boxplot(env['region'], env['sub_hs_pct']);"
   ]
  },
  {
   "cell_type": "code",
   "execution_count": 223,
   "id": "0a76eb25",
   "metadata": {},
   "outputs": [
    {
     "data": {
      "text/html": [
       "<div>\n",
       "<style scoped>\n",
       "    .dataframe tbody tr th:only-of-type {\n",
       "        vertical-align: middle;\n",
       "    }\n",
       "\n",
       "    .dataframe tbody tr th {\n",
       "        vertical-align: top;\n",
       "    }\n",
       "\n",
       "    .dataframe thead th {\n",
       "        text-align: right;\n",
       "    }\n",
       "</style>\n",
       "<table border=\"1\" class=\"dataframe\">\n",
       "  <thead>\n",
       "    <tr style=\"text-align: right;\">\n",
       "      <th></th>\n",
       "      <th>count</th>\n",
       "      <th>mean</th>\n",
       "      <th>std</th>\n",
       "      <th>min</th>\n",
       "      <th>25%</th>\n",
       "      <th>50%</th>\n",
       "      <th>75%</th>\n",
       "      <th>max</th>\n",
       "    </tr>\n",
       "    <tr>\n",
       "      <th>region</th>\n",
       "      <th></th>\n",
       "      <th></th>\n",
       "      <th></th>\n",
       "      <th></th>\n",
       "      <th></th>\n",
       "      <th></th>\n",
       "      <th></th>\n",
       "      <th></th>\n",
       "    </tr>\n",
       "  </thead>\n",
       "  <tbody>\n",
       "    <tr>\n",
       "      <th>1</th>\n",
       "      <td>3357.0</td>\n",
       "      <td>0.047498</td>\n",
       "      <td>0.070564</td>\n",
       "      <td>0.0</td>\n",
       "      <td>0.003891</td>\n",
       "      <td>0.018587</td>\n",
       "      <td>0.058182</td>\n",
       "      <td>0.498041</td>\n",
       "    </tr>\n",
       "    <tr>\n",
       "      <th>2</th>\n",
       "      <td>7720.0</td>\n",
       "      <td>0.148595</td>\n",
       "      <td>0.221809</td>\n",
       "      <td>0.0</td>\n",
       "      <td>0.012359</td>\n",
       "      <td>0.046281</td>\n",
       "      <td>0.167791</td>\n",
       "      <td>1.000000</td>\n",
       "    </tr>\n",
       "    <tr>\n",
       "      <th>3</th>\n",
       "      <td>7336.0</td>\n",
       "      <td>0.025237</td>\n",
       "      <td>0.046304</td>\n",
       "      <td>0.0</td>\n",
       "      <td>0.000000</td>\n",
       "      <td>0.008727</td>\n",
       "      <td>0.029332</td>\n",
       "      <td>0.782994</td>\n",
       "    </tr>\n",
       "    <tr>\n",
       "      <th>4</th>\n",
       "      <td>13796.0</td>\n",
       "      <td>0.033589</td>\n",
       "      <td>0.067230</td>\n",
       "      <td>0.0</td>\n",
       "      <td>0.000000</td>\n",
       "      <td>0.010623</td>\n",
       "      <td>0.034115</td>\n",
       "      <td>1.000000</td>\n",
       "    </tr>\n",
       "    <tr>\n",
       "      <th>5</th>\n",
       "      <td>13035.0</td>\n",
       "      <td>0.024283</td>\n",
       "      <td>0.046511</td>\n",
       "      <td>0.0</td>\n",
       "      <td>0.000000</td>\n",
       "      <td>0.006777</td>\n",
       "      <td>0.025796</td>\n",
       "      <td>0.560000</td>\n",
       "    </tr>\n",
       "    <tr>\n",
       "      <th>6</th>\n",
       "      <td>8575.0</td>\n",
       "      <td>0.061817</td>\n",
       "      <td>0.092574</td>\n",
       "      <td>0.0</td>\n",
       "      <td>0.006199</td>\n",
       "      <td>0.026420</td>\n",
       "      <td>0.077331</td>\n",
       "      <td>0.788929</td>\n",
       "    </tr>\n",
       "    <tr>\n",
       "      <th>7</th>\n",
       "      <td>3501.0</td>\n",
       "      <td>0.019535</td>\n",
       "      <td>0.039510</td>\n",
       "      <td>0.0</td>\n",
       "      <td>0.000000</td>\n",
       "      <td>0.005928</td>\n",
       "      <td>0.021277</td>\n",
       "      <td>0.647059</td>\n",
       "    </tr>\n",
       "    <tr>\n",
       "      <th>8</th>\n",
       "      <td>2655.0</td>\n",
       "      <td>0.020974</td>\n",
       "      <td>0.034372</td>\n",
       "      <td>0.0</td>\n",
       "      <td>0.000000</td>\n",
       "      <td>0.008134</td>\n",
       "      <td>0.024174</td>\n",
       "      <td>0.309010</td>\n",
       "    </tr>\n",
       "    <tr>\n",
       "      <th>9</th>\n",
       "      <td>10512.0</td>\n",
       "      <td>0.085248</td>\n",
       "      <td>0.091191</td>\n",
       "      <td>0.0</td>\n",
       "      <td>0.020389</td>\n",
       "      <td>0.055575</td>\n",
       "      <td>0.121755</td>\n",
       "      <td>1.000000</td>\n",
       "    </tr>\n",
       "    <tr>\n",
       "      <th>10</th>\n",
       "      <td>2732.0</td>\n",
       "      <td>0.030517</td>\n",
       "      <td>0.042720</td>\n",
       "      <td>0.0</td>\n",
       "      <td>0.003867</td>\n",
       "      <td>0.015105</td>\n",
       "      <td>0.041130</td>\n",
       "      <td>0.384896</td>\n",
       "    </tr>\n",
       "  </tbody>\n",
       "</table>\n",
       "</div>"
      ],
      "text/plain": [
       "          count      mean       std  min       25%       50%       75%  \\\n",
       "region                                                                   \n",
       "1        3357.0  0.047498  0.070564  0.0  0.003891  0.018587  0.058182   \n",
       "2        7720.0  0.148595  0.221809  0.0  0.012359  0.046281  0.167791   \n",
       "3        7336.0  0.025237  0.046304  0.0  0.000000  0.008727  0.029332   \n",
       "4       13796.0  0.033589  0.067230  0.0  0.000000  0.010623  0.034115   \n",
       "5       13035.0  0.024283  0.046511  0.0  0.000000  0.006777  0.025796   \n",
       "6        8575.0  0.061817  0.092574  0.0  0.006199  0.026420  0.077331   \n",
       "7        3501.0  0.019535  0.039510  0.0  0.000000  0.005928  0.021277   \n",
       "8        2655.0  0.020974  0.034372  0.0  0.000000  0.008134  0.024174   \n",
       "9       10512.0  0.085248  0.091191  0.0  0.020389  0.055575  0.121755   \n",
       "10       2732.0  0.030517  0.042720  0.0  0.003867  0.015105  0.041130   \n",
       "\n",
       "             max  \n",
       "region            \n",
       "1       0.498041  \n",
       "2       1.000000  \n",
       "3       0.782994  \n",
       "4       1.000000  \n",
       "5       0.560000  \n",
       "6       0.788929  \n",
       "7       0.647059  \n",
       "8       0.309010  \n",
       "9       1.000000  \n",
       "10      0.384896  "
      ]
     },
     "execution_count": 223,
     "metadata": {},
     "output_type": "execute_result"
    }
   ],
   "source": [
    "env.groupby('region')['ling_iso_pct'].describe()"
   ]
  },
  {
   "cell_type": "code",
   "execution_count": 224,
   "id": "269cf66b",
   "metadata": {
    "scrolled": false
   },
   "outputs": [
    {
     "name": "stderr",
     "output_type": "stream",
     "text": [
      "C:\\Users\\Vishnu\\anaconda3\\lib\\site-packages\\seaborn\\_decorators.py:36: FutureWarning: Pass the following variables as keyword args: x, y. From version 0.12, the only valid positional argument will be `data`, and passing other arguments without an explicit keyword will result in an error or misinterpretation.\n",
      "  warnings.warn(\n"
     ]
    },
    {
     "data": {
      "image/png": "[encoded data removed]",
      "text/plain": [
       "<Figure size 720x720 with 1 Axes>"
      ]
     },
     "metadata": {
      "needs_background": "light"
     },
     "output_type": "display_data"
    }
   ],
   "source": [
    "plt.figure(figsize = (10,10))\n",
    "sns.boxplot(env['region'], env['ling_iso_pct']);"
   ]
  },
  {
   "cell_type": "code",
   "execution_count": 225,
   "id": "7173dad1",
   "metadata": {},
   "outputs": [
    {
     "data": {
      "text/html": [
       "<div>\n",
       "<style scoped>\n",
       "    .dataframe tbody tr th:only-of-type {\n",
       "        vertical-align: middle;\n",
       "    }\n",
       "\n",
       "    .dataframe tbody tr th {\n",
       "        vertical-align: top;\n",
       "    }\n",
       "\n",
       "    .dataframe thead th {\n",
       "        text-align: right;\n",
       "    }\n",
       "</style>\n",
       "<table border=\"1\" class=\"dataframe\">\n",
       "  <thead>\n",
       "    <tr style=\"text-align: right;\">\n",
       "      <th></th>\n",
       "      <th>count</th>\n",
       "      <th>mean</th>\n",
       "      <th>std</th>\n",
       "      <th>min</th>\n",
       "      <th>25%</th>\n",
       "      <th>50%</th>\n",
       "      <th>75%</th>\n",
       "      <th>max</th>\n",
       "    </tr>\n",
       "    <tr>\n",
       "      <th>region</th>\n",
       "      <th></th>\n",
       "      <th></th>\n",
       "      <th></th>\n",
       "      <th></th>\n",
       "      <th></th>\n",
       "      <th></th>\n",
       "      <th></th>\n",
       "      <th></th>\n",
       "    </tr>\n",
       "  </thead>\n",
       "  <tbody>\n",
       "    <tr>\n",
       "      <th>1</th>\n",
       "      <td>3357.0</td>\n",
       "      <td>0.050642</td>\n",
       "      <td>0.021941</td>\n",
       "      <td>0.0</td>\n",
       "      <td>0.036499</td>\n",
       "      <td>0.048406</td>\n",
       "      <td>0.063154</td>\n",
       "      <td>0.187500</td>\n",
       "    </tr>\n",
       "    <tr>\n",
       "      <th>2</th>\n",
       "      <td>7720.0</td>\n",
       "      <td>0.056379</td>\n",
       "      <td>0.027759</td>\n",
       "      <td>0.0</td>\n",
       "      <td>0.038504</td>\n",
       "      <td>0.053069</td>\n",
       "      <td>0.070366</td>\n",
       "      <td>0.323529</td>\n",
       "    </tr>\n",
       "    <tr>\n",
       "      <th>3</th>\n",
       "      <td>7336.0</td>\n",
       "      <td>0.057013</td>\n",
       "      <td>0.025086</td>\n",
       "      <td>0.0</td>\n",
       "      <td>0.040899</td>\n",
       "      <td>0.054150</td>\n",
       "      <td>0.070472</td>\n",
       "      <td>0.365672</td>\n",
       "    </tr>\n",
       "    <tr>\n",
       "      <th>4</th>\n",
       "      <td>13796.0</td>\n",
       "      <td>0.057061</td>\n",
       "      <td>0.026480</td>\n",
       "      <td>0.0</td>\n",
       "      <td>0.039753</td>\n",
       "      <td>0.055263</td>\n",
       "      <td>0.071818</td>\n",
       "      <td>0.251805</td>\n",
       "    </tr>\n",
       "    <tr>\n",
       "      <th>5</th>\n",
       "      <td>13035.0</td>\n",
       "      <td>0.059481</td>\n",
       "      <td>0.024981</td>\n",
       "      <td>0.0</td>\n",
       "      <td>0.043633</td>\n",
       "      <td>0.057079</td>\n",
       "      <td>0.072866</td>\n",
       "      <td>0.301959</td>\n",
       "    </tr>\n",
       "    <tr>\n",
       "      <th>6</th>\n",
       "      <td>8575.0</td>\n",
       "      <td>0.066549</td>\n",
       "      <td>0.027284</td>\n",
       "      <td>0.0</td>\n",
       "      <td>0.048417</td>\n",
       "      <td>0.064567</td>\n",
       "      <td>0.082406</td>\n",
       "      <td>0.224619</td>\n",
       "    </tr>\n",
       "    <tr>\n",
       "      <th>7</th>\n",
       "      <td>3501.0</td>\n",
       "      <td>0.062602</td>\n",
       "      <td>0.023289</td>\n",
       "      <td>0.0</td>\n",
       "      <td>0.047704</td>\n",
       "      <td>0.060653</td>\n",
       "      <td>0.075157</td>\n",
       "      <td>0.214760</td>\n",
       "    </tr>\n",
       "    <tr>\n",
       "      <th>8</th>\n",
       "      <td>2655.0</td>\n",
       "      <td>0.063344</td>\n",
       "      <td>0.027195</td>\n",
       "      <td>0.0</td>\n",
       "      <td>0.044974</td>\n",
       "      <td>0.061159</td>\n",
       "      <td>0.080054</td>\n",
       "      <td>0.242812</td>\n",
       "    </tr>\n",
       "    <tr>\n",
       "      <th>9</th>\n",
       "      <td>10512.0</td>\n",
       "      <td>0.059997</td>\n",
       "      <td>0.027258</td>\n",
       "      <td>0.0</td>\n",
       "      <td>0.041871</td>\n",
       "      <td>0.058543</td>\n",
       "      <td>0.076270</td>\n",
       "      <td>0.320000</td>\n",
       "    </tr>\n",
       "    <tr>\n",
       "      <th>10</th>\n",
       "      <td>2732.0</td>\n",
       "      <td>0.059092</td>\n",
       "      <td>0.024014</td>\n",
       "      <td>0.0</td>\n",
       "      <td>0.043572</td>\n",
       "      <td>0.057763</td>\n",
       "      <td>0.073176</td>\n",
       "      <td>0.210911</td>\n",
       "    </tr>\n",
       "  </tbody>\n",
       "</table>\n",
       "</div>"
      ],
      "text/plain": [
       "          count      mean       std  min       25%       50%       75%  \\\n",
       "region                                                                   \n",
       "1        3357.0  0.050642  0.021941  0.0  0.036499  0.048406  0.063154   \n",
       "2        7720.0  0.056379  0.027759  0.0  0.038504  0.053069  0.070366   \n",
       "3        7336.0  0.057013  0.025086  0.0  0.040899  0.054150  0.070472   \n",
       "4       13796.0  0.057061  0.026480  0.0  0.039753  0.055263  0.071818   \n",
       "5       13035.0  0.059481  0.024981  0.0  0.043633  0.057079  0.072866   \n",
       "6        8575.0  0.066549  0.027284  0.0  0.048417  0.064567  0.082406   \n",
       "7        3501.0  0.062602  0.023289  0.0  0.047704  0.060653  0.075157   \n",
       "8        2655.0  0.063344  0.027195  0.0  0.044974  0.061159  0.080054   \n",
       "9       10512.0  0.059997  0.027258  0.0  0.041871  0.058543  0.076270   \n",
       "10       2732.0  0.059092  0.024014  0.0  0.043572  0.057763  0.073176   \n",
       "\n",
       "             max  \n",
       "region            \n",
       "1       0.187500  \n",
       "2       0.323529  \n",
       "3       0.365672  \n",
       "4       0.251805  \n",
       "5       0.301959  \n",
       "6       0.224619  \n",
       "7       0.214760  \n",
       "8       0.242812  \n",
       "9       0.320000  \n",
       "10      0.210911  "
      ]
     },
     "execution_count": 225,
     "metadata": {},
     "output_type": "execute_result"
    }
   ],
   "source": [
    "env.groupby('region')['under_5_pct'].describe()"
   ]
  },
  {
   "cell_type": "code",
   "execution_count": 226,
   "id": "f3cd5864",
   "metadata": {},
   "outputs": [
    {
     "name": "stderr",
     "output_type": "stream",
     "text": [
      "C:\\Users\\Vishnu\\anaconda3\\lib\\site-packages\\seaborn\\_decorators.py:36: FutureWarning: Pass the following variables as keyword args: x, y. From version 0.12, the only valid positional argument will be `data`, and passing other arguments without an explicit keyword will result in an error or misinterpretation.\n",
      "  warnings.warn(\n"
     ]
    },
    {
     "data": {
      "image/png": "[encoded data removed]",
      "text/plain": [
       "<Figure size 720x720 with 1 Axes>"
      ]
     },
     "metadata": {
      "needs_background": "light"
     },
     "output_type": "display_data"
    }
   ],
   "source": [
    "plt.figure(figsize = (10,10))\n",
    "sns.boxplot(env['region'], env['under_5_pct']);"
   ]
  },
  {
   "cell_type": "code",
   "execution_count": 227,
   "id": "5d7752d6",
   "metadata": {},
   "outputs": [
    {
     "data": {
      "text/html": [
       "<div>\n",
       "<style scoped>\n",
       "    .dataframe tbody tr th:only-of-type {\n",
       "        vertical-align: middle;\n",
       "    }\n",
       "\n",
       "    .dataframe tbody tr th {\n",
       "        vertical-align: top;\n",
       "    }\n",
       "\n",
       "    .dataframe thead th {\n",
       "        text-align: right;\n",
       "    }\n",
       "</style>\n",
       "<table border=\"1\" class=\"dataframe\">\n",
       "  <thead>\n",
       "    <tr style=\"text-align: right;\">\n",
       "      <th></th>\n",
       "      <th>count</th>\n",
       "      <th>mean</th>\n",
       "      <th>std</th>\n",
       "      <th>min</th>\n",
       "      <th>25%</th>\n",
       "      <th>50%</th>\n",
       "      <th>75%</th>\n",
       "      <th>max</th>\n",
       "    </tr>\n",
       "    <tr>\n",
       "      <th>region</th>\n",
       "      <th></th>\n",
       "      <th></th>\n",
       "      <th></th>\n",
       "      <th></th>\n",
       "      <th></th>\n",
       "      <th></th>\n",
       "      <th></th>\n",
       "      <th></th>\n",
       "    </tr>\n",
       "  </thead>\n",
       "  <tbody>\n",
       "    <tr>\n",
       "      <th>1</th>\n",
       "      <td>3357.0</td>\n",
       "      <td>0.172922</td>\n",
       "      <td>0.067576</td>\n",
       "      <td>0.0</td>\n",
       "      <td>0.129906</td>\n",
       "      <td>0.168621</td>\n",
       "      <td>0.209515</td>\n",
       "      <td>0.687500</td>\n",
       "    </tr>\n",
       "    <tr>\n",
       "      <th>2</th>\n",
       "      <td>7720.0</td>\n",
       "      <td>0.167339</td>\n",
       "      <td>0.073310</td>\n",
       "      <td>0.0</td>\n",
       "      <td>0.121859</td>\n",
       "      <td>0.161279</td>\n",
       "      <td>0.201897</td>\n",
       "      <td>0.922115</td>\n",
       "    </tr>\n",
       "    <tr>\n",
       "      <th>3</th>\n",
       "      <td>7336.0</td>\n",
       "      <td>0.169327</td>\n",
       "      <td>0.071154</td>\n",
       "      <td>0.0</td>\n",
       "      <td>0.121902</td>\n",
       "      <td>0.168222</td>\n",
       "      <td>0.211648</td>\n",
       "      <td>0.892591</td>\n",
       "    </tr>\n",
       "    <tr>\n",
       "      <th>4</th>\n",
       "      <td>13796.0</td>\n",
       "      <td>0.180047</td>\n",
       "      <td>0.099941</td>\n",
       "      <td>0.0</td>\n",
       "      <td>0.123457</td>\n",
       "      <td>0.164664</td>\n",
       "      <td>0.208599</td>\n",
       "      <td>0.880767</td>\n",
       "    </tr>\n",
       "    <tr>\n",
       "      <th>5</th>\n",
       "      <td>13035.0</td>\n",
       "      <td>0.163847</td>\n",
       "      <td>0.064726</td>\n",
       "      <td>0.0</td>\n",
       "      <td>0.120619</td>\n",
       "      <td>0.162038</td>\n",
       "      <td>0.200664</td>\n",
       "      <td>0.572774</td>\n",
       "    </tr>\n",
       "    <tr>\n",
       "      <th>6</th>\n",
       "      <td>8575.0</td>\n",
       "      <td>0.144939</td>\n",
       "      <td>0.066823</td>\n",
       "      <td>0.0</td>\n",
       "      <td>0.098758</td>\n",
       "      <td>0.139508</td>\n",
       "      <td>0.182667</td>\n",
       "      <td>0.846806</td>\n",
       "    </tr>\n",
       "    <tr>\n",
       "      <th>7</th>\n",
       "      <td>3501.0</td>\n",
       "      <td>0.167188</td>\n",
       "      <td>0.060169</td>\n",
       "      <td>0.0</td>\n",
       "      <td>0.126801</td>\n",
       "      <td>0.168394</td>\n",
       "      <td>0.206292</td>\n",
       "      <td>0.454112</td>\n",
       "    </tr>\n",
       "    <tr>\n",
       "      <th>8</th>\n",
       "      <td>2655.0</td>\n",
       "      <td>0.149077</td>\n",
       "      <td>0.071086</td>\n",
       "      <td>0.0</td>\n",
       "      <td>0.096407</td>\n",
       "      <td>0.142208</td>\n",
       "      <td>0.191289</td>\n",
       "      <td>0.827849</td>\n",
       "    </tr>\n",
       "    <tr>\n",
       "      <th>9</th>\n",
       "      <td>10512.0</td>\n",
       "      <td>0.155936</td>\n",
       "      <td>0.099230</td>\n",
       "      <td>0.0</td>\n",
       "      <td>0.095235</td>\n",
       "      <td>0.135481</td>\n",
       "      <td>0.189959</td>\n",
       "      <td>0.912525</td>\n",
       "    </tr>\n",
       "    <tr>\n",
       "      <th>10</th>\n",
       "      <td>2732.0</td>\n",
       "      <td>0.162935</td>\n",
       "      <td>0.071009</td>\n",
       "      <td>0.0</td>\n",
       "      <td>0.112932</td>\n",
       "      <td>0.151433</td>\n",
       "      <td>0.201811</td>\n",
       "      <td>0.516578</td>\n",
       "    </tr>\n",
       "  </tbody>\n",
       "</table>\n",
       "</div>"
      ],
      "text/plain": [
       "          count      mean       std  min       25%       50%       75%  \\\n",
       "region                                                                   \n",
       "1        3357.0  0.172922  0.067576  0.0  0.129906  0.168621  0.209515   \n",
       "2        7720.0  0.167339  0.073310  0.0  0.121859  0.161279  0.201897   \n",
       "3        7336.0  0.169327  0.071154  0.0  0.121902  0.168222  0.211648   \n",
       "4       13796.0  0.180047  0.099941  0.0  0.123457  0.164664  0.208599   \n",
       "5       13035.0  0.163847  0.064726  0.0  0.120619  0.162038  0.200664   \n",
       "6        8575.0  0.144939  0.066823  0.0  0.098758  0.139508  0.182667   \n",
       "7        3501.0  0.167188  0.060169  0.0  0.126801  0.168394  0.206292   \n",
       "8        2655.0  0.149077  0.071086  0.0  0.096407  0.142208  0.191289   \n",
       "9       10512.0  0.155936  0.099230  0.0  0.095235  0.135481  0.189959   \n",
       "10       2732.0  0.162935  0.071009  0.0  0.112932  0.151433  0.201811   \n",
       "\n",
       "             max  \n",
       "region            \n",
       "1       0.687500  \n",
       "2       0.922115  \n",
       "3       0.892591  \n",
       "4       0.880767  \n",
       "5       0.572774  \n",
       "6       0.846806  \n",
       "7       0.454112  \n",
       "8       0.827849  \n",
       "9       0.912525  \n",
       "10      0.516578  "
      ]
     },
     "execution_count": 227,
     "metadata": {},
     "output_type": "execute_result"
    }
   ],
   "source": [
    "env.groupby('region')['over_64_pct'].describe()"
   ]
  },
  {
   "cell_type": "code",
   "execution_count": 228,
   "id": "8960bd6c",
   "metadata": {},
   "outputs": [
    {
     "name": "stderr",
     "output_type": "stream",
     "text": [
      "C:\\Users\\Vishnu\\anaconda3\\lib\\site-packages\\seaborn\\_decorators.py:36: FutureWarning: Pass the following variables as keyword args: x, y. From version 0.12, the only valid positional argument will be `data`, and passing other arguments without an explicit keyword will result in an error or misinterpretation.\n",
      "  warnings.warn(\n"
     ]
    },
    {
     "data": {
      "image/png": "[encoded data removed]",
      "text/plain": [
       "<Figure size 720x720 with 1 Axes>"
      ]
     },
     "metadata": {
      "needs_background": "light"
     },
     "output_type": "display_data"
    }
   ],
   "source": [
    "plt.figure(figsize = (10,10))\n",
    "sns.boxplot(env['region'], env['over_64_pct']);"
   ]
  },
  {
   "cell_type": "code",
   "execution_count": 229,
   "id": "66fcd878",
   "metadata": {},
   "outputs": [
    {
     "data": {
      "text/html": [
       "<div>\n",
       "<style scoped>\n",
       "    .dataframe tbody tr th:only-of-type {\n",
       "        vertical-align: middle;\n",
       "    }\n",
       "\n",
       "    .dataframe tbody tr th {\n",
       "        vertical-align: top;\n",
       "    }\n",
       "\n",
       "    .dataframe thead th {\n",
       "        text-align: right;\n",
       "    }\n",
       "</style>\n",
       "<table border=\"1\" class=\"dataframe\">\n",
       "  <thead>\n",
       "    <tr style=\"text-align: right;\">\n",
       "      <th></th>\n",
       "      <th>count</th>\n",
       "      <th>mean</th>\n",
       "      <th>std</th>\n",
       "      <th>min</th>\n",
       "      <th>25%</th>\n",
       "      <th>50%</th>\n",
       "      <th>75%</th>\n",
       "      <th>max</th>\n",
       "    </tr>\n",
       "    <tr>\n",
       "      <th>region</th>\n",
       "      <th></th>\n",
       "      <th></th>\n",
       "      <th></th>\n",
       "      <th></th>\n",
       "      <th></th>\n",
       "      <th></th>\n",
       "      <th></th>\n",
       "      <th></th>\n",
       "    </tr>\n",
       "  </thead>\n",
       "  <tbody>\n",
       "    <tr>\n",
       "      <th>1</th>\n",
       "      <td>3357.0</td>\n",
       "      <td>0.462093</td>\n",
       "      <td>0.221880</td>\n",
       "      <td>0.0</td>\n",
       "      <td>0.282438</td>\n",
       "      <td>0.442815</td>\n",
       "      <td>0.646154</td>\n",
       "      <td>1.000000</td>\n",
       "    </tr>\n",
       "    <tr>\n",
       "      <th>2</th>\n",
       "      <td>7720.0</td>\n",
       "      <td>0.490736</td>\n",
       "      <td>0.270499</td>\n",
       "      <td>0.0</td>\n",
       "      <td>0.268462</td>\n",
       "      <td>0.502460</td>\n",
       "      <td>0.726739</td>\n",
       "      <td>1.000000</td>\n",
       "    </tr>\n",
       "    <tr>\n",
       "      <th>3</th>\n",
       "      <td>7336.0</td>\n",
       "      <td>0.388812</td>\n",
       "      <td>0.274680</td>\n",
       "      <td>0.0</td>\n",
       "      <td>0.150264</td>\n",
       "      <td>0.343042</td>\n",
       "      <td>0.620892</td>\n",
       "      <td>1.000000</td>\n",
       "    </tr>\n",
       "    <tr>\n",
       "      <th>4</th>\n",
       "      <td>13796.0</td>\n",
       "      <td>0.174125</td>\n",
       "      <td>0.182977</td>\n",
       "      <td>0.0</td>\n",
       "      <td>0.036176</td>\n",
       "      <td>0.116595</td>\n",
       "      <td>0.238914</td>\n",
       "      <td>0.977667</td>\n",
       "    </tr>\n",
       "    <tr>\n",
       "      <th>5</th>\n",
       "      <td>13035.0</td>\n",
       "      <td>0.418714</td>\n",
       "      <td>0.264194</td>\n",
       "      <td>0.0</td>\n",
       "      <td>0.197972</td>\n",
       "      <td>0.386496</td>\n",
       "      <td>0.635658</td>\n",
       "      <td>1.000000</td>\n",
       "    </tr>\n",
       "    <tr>\n",
       "      <th>6</th>\n",
       "      <td>8575.0</td>\n",
       "      <td>0.205053</td>\n",
       "      <td>0.215849</td>\n",
       "      <td>0.0</td>\n",
       "      <td>0.032029</td>\n",
       "      <td>0.128637</td>\n",
       "      <td>0.309729</td>\n",
       "      <td>1.000000</td>\n",
       "    </tr>\n",
       "    <tr>\n",
       "      <th>7</th>\n",
       "      <td>3501.0</td>\n",
       "      <td>0.375756</td>\n",
       "      <td>0.253535</td>\n",
       "      <td>0.0</td>\n",
       "      <td>0.147860</td>\n",
       "      <td>0.368461</td>\n",
       "      <td>0.574307</td>\n",
       "      <td>1.000000</td>\n",
       "    </tr>\n",
       "    <tr>\n",
       "      <th>8</th>\n",
       "      <td>2655.0</td>\n",
       "      <td>0.232575</td>\n",
       "      <td>0.228561</td>\n",
       "      <td>0.0</td>\n",
       "      <td>0.034925</td>\n",
       "      <td>0.158046</td>\n",
       "      <td>0.384829</td>\n",
       "      <td>0.949060</td>\n",
       "    </tr>\n",
       "    <tr>\n",
       "      <th>9</th>\n",
       "      <td>10512.0</td>\n",
       "      <td>0.261193</td>\n",
       "      <td>0.254783</td>\n",
       "      <td>0.0</td>\n",
       "      <td>0.030849</td>\n",
       "      <td>0.176574</td>\n",
       "      <td>0.452385</td>\n",
       "      <td>0.976869</td>\n",
       "    </tr>\n",
       "    <tr>\n",
       "      <th>10</th>\n",
       "      <td>2732.0</td>\n",
       "      <td>0.238071</td>\n",
       "      <td>0.210261</td>\n",
       "      <td>0.0</td>\n",
       "      <td>0.068020</td>\n",
       "      <td>0.174205</td>\n",
       "      <td>0.352924</td>\n",
       "      <td>1.000000</td>\n",
       "    </tr>\n",
       "  </tbody>\n",
       "</table>\n",
       "</div>"
      ],
      "text/plain": [
       "          count      mean       std  min       25%       50%       75%  \\\n",
       "region                                                                   \n",
       "1        3357.0  0.462093  0.221880  0.0  0.282438  0.442815  0.646154   \n",
       "2        7720.0  0.490736  0.270499  0.0  0.268462  0.502460  0.726739   \n",
       "3        7336.0  0.388812  0.274680  0.0  0.150264  0.343042  0.620892   \n",
       "4       13796.0  0.174125  0.182977  0.0  0.036176  0.116595  0.238914   \n",
       "5       13035.0  0.418714  0.264194  0.0  0.197972  0.386496  0.635658   \n",
       "6        8575.0  0.205053  0.215849  0.0  0.032029  0.128637  0.309729   \n",
       "7        3501.0  0.375756  0.253535  0.0  0.147860  0.368461  0.574307   \n",
       "8        2655.0  0.232575  0.228561  0.0  0.034925  0.158046  0.384829   \n",
       "9       10512.0  0.261193  0.254783  0.0  0.030849  0.176574  0.452385   \n",
       "10       2732.0  0.238071  0.210261  0.0  0.068020  0.174205  0.352924   \n",
       "\n",
       "             max  \n",
       "region            \n",
       "1       1.000000  \n",
       "2       1.000000  \n",
       "3       1.000000  \n",
       "4       0.977667  \n",
       "5       1.000000  \n",
       "6       1.000000  \n",
       "7       1.000000  \n",
       "8       0.949060  \n",
       "9       0.976869  \n",
       "10      1.000000  "
      ]
     },
     "execution_count": 229,
     "metadata": {},
     "output_type": "execute_result"
    }
   ],
   "source": [
    "env.groupby('region')['pre_1960_pct'].describe()"
   ]
  },
  {
   "cell_type": "code",
   "execution_count": 230,
   "id": "358c8704",
   "metadata": {
    "scrolled": false
   },
   "outputs": [
    {
     "name": "stderr",
     "output_type": "stream",
     "text": [
      "C:\\Users\\Vishnu\\anaconda3\\lib\\site-packages\\seaborn\\_decorators.py:36: FutureWarning: Pass the following variables as keyword args: x, y. From version 0.12, the only valid positional argument will be `data`, and passing other arguments without an explicit keyword will result in an error or misinterpretation.\n",
      "  warnings.warn(\n"
     ]
    },
    {
     "data": {
      "image/png": "[encoded data removed]",
      "text/plain": [
       "<Figure size 720x720 with 1 Axes>"
      ]
     },
     "metadata": {
      "needs_background": "light"
     },
     "output_type": "display_data"
    }
   ],
   "source": [
    "plt.figure(figsize = (10,10))\n",
    "sns.boxplot(env['region'], env['pre_1960_pct']);"
   ]
  },
  {
   "cell_type": "code",
   "execution_count": 231,
   "id": "50ccf97d",
   "metadata": {},
   "outputs": [
    {
     "data": {
      "text/html": [
       "<div>\n",
       "<style scoped>\n",
       "    .dataframe tbody tr th:only-of-type {\n",
       "        vertical-align: middle;\n",
       "    }\n",
       "\n",
       "    .dataframe tbody tr th {\n",
       "        vertical-align: top;\n",
       "    }\n",
       "\n",
       "    .dataframe thead th {\n",
       "        text-align: right;\n",
       "    }\n",
       "</style>\n",
       "<table border=\"1\" class=\"dataframe\">\n",
       "  <thead>\n",
       "    <tr style=\"text-align: right;\">\n",
       "      <th></th>\n",
       "      <th>count</th>\n",
       "      <th>mean</th>\n",
       "      <th>std</th>\n",
       "      <th>min</th>\n",
       "      <th>25%</th>\n",
       "      <th>50%</th>\n",
       "      <th>75%</th>\n",
       "      <th>max</th>\n",
       "    </tr>\n",
       "    <tr>\n",
       "      <th>region</th>\n",
       "      <th></th>\n",
       "      <th></th>\n",
       "      <th></th>\n",
       "      <th></th>\n",
       "      <th></th>\n",
       "      <th></th>\n",
       "      <th></th>\n",
       "      <th></th>\n",
       "    </tr>\n",
       "  </thead>\n",
       "  <tbody>\n",
       "    <tr>\n",
       "      <th>1</th>\n",
       "      <td>3357.0</td>\n",
       "      <td>0.052061</td>\n",
       "      <td>0.037905</td>\n",
       "      <td>0.0</td>\n",
       "      <td>0.029085</td>\n",
       "      <td>0.043679</td>\n",
       "      <td>0.063924</td>\n",
       "      <td>0.564103</td>\n",
       "    </tr>\n",
       "    <tr>\n",
       "      <th>2</th>\n",
       "      <td>7720.0</td>\n",
       "      <td>0.071591</td>\n",
       "      <td>0.065095</td>\n",
       "      <td>0.0</td>\n",
       "      <td>0.034006</td>\n",
       "      <td>0.052705</td>\n",
       "      <td>0.083849</td>\n",
       "      <td>0.720982</td>\n",
       "    </tr>\n",
       "    <tr>\n",
       "      <th>3</th>\n",
       "      <td>7336.0</td>\n",
       "      <td>0.056520</td>\n",
       "      <td>0.041817</td>\n",
       "      <td>0.0</td>\n",
       "      <td>0.029727</td>\n",
       "      <td>0.045876</td>\n",
       "      <td>0.070743</td>\n",
       "      <td>0.473684</td>\n",
       "    </tr>\n",
       "    <tr>\n",
       "      <th>4</th>\n",
       "      <td>13796.0</td>\n",
       "      <td>0.062106</td>\n",
       "      <td>0.044008</td>\n",
       "      <td>0.0</td>\n",
       "      <td>0.032362</td>\n",
       "      <td>0.052165</td>\n",
       "      <td>0.079743</td>\n",
       "      <td>0.555556</td>\n",
       "    </tr>\n",
       "    <tr>\n",
       "      <th>5</th>\n",
       "      <td>13035.0</td>\n",
       "      <td>0.060703</td>\n",
       "      <td>0.054025</td>\n",
       "      <td>0.0</td>\n",
       "      <td>0.027726</td>\n",
       "      <td>0.044872</td>\n",
       "      <td>0.073719</td>\n",
       "      <td>1.000000</td>\n",
       "    </tr>\n",
       "    <tr>\n",
       "      <th>6</th>\n",
       "      <td>8575.0</td>\n",
       "      <td>0.057641</td>\n",
       "      <td>0.040382</td>\n",
       "      <td>0.0</td>\n",
       "      <td>0.030730</td>\n",
       "      <td>0.048963</td>\n",
       "      <td>0.073720</td>\n",
       "      <td>0.546554</td>\n",
       "    </tr>\n",
       "    <tr>\n",
       "      <th>7</th>\n",
       "      <td>3501.0</td>\n",
       "      <td>0.043925</td>\n",
       "      <td>0.034490</td>\n",
       "      <td>0.0</td>\n",
       "      <td>0.021394</td>\n",
       "      <td>0.034848</td>\n",
       "      <td>0.056471</td>\n",
       "      <td>0.363462</td>\n",
       "    </tr>\n",
       "    <tr>\n",
       "      <th>8</th>\n",
       "      <td>2655.0</td>\n",
       "      <td>0.041323</td>\n",
       "      <td>0.032441</td>\n",
       "      <td>0.0</td>\n",
       "      <td>0.021085</td>\n",
       "      <td>0.035398</td>\n",
       "      <td>0.052577</td>\n",
       "      <td>0.356401</td>\n",
       "    </tr>\n",
       "    <tr>\n",
       "      <th>9</th>\n",
       "      <td>10512.0</td>\n",
       "      <td>0.062025</td>\n",
       "      <td>0.040456</td>\n",
       "      <td>0.0</td>\n",
       "      <td>0.035422</td>\n",
       "      <td>0.053749</td>\n",
       "      <td>0.079115</td>\n",
       "      <td>1.000000</td>\n",
       "    </tr>\n",
       "    <tr>\n",
       "      <th>10</th>\n",
       "      <td>2732.0</td>\n",
       "      <td>0.054147</td>\n",
       "      <td>0.033371</td>\n",
       "      <td>0.0</td>\n",
       "      <td>0.032028</td>\n",
       "      <td>0.047706</td>\n",
       "      <td>0.068146</td>\n",
       "      <td>0.333333</td>\n",
       "    </tr>\n",
       "  </tbody>\n",
       "</table>\n",
       "</div>"
      ],
      "text/plain": [
       "          count      mean       std  min       25%       50%       75%  \\\n",
       "region                                                                   \n",
       "1        3357.0  0.052061  0.037905  0.0  0.029085  0.043679  0.063924   \n",
       "2        7720.0  0.071591  0.065095  0.0  0.034006  0.052705  0.083849   \n",
       "3        7336.0  0.056520  0.041817  0.0  0.029727  0.045876  0.070743   \n",
       "4       13796.0  0.062106  0.044008  0.0  0.032362  0.052165  0.079743   \n",
       "5       13035.0  0.060703  0.054025  0.0  0.027726  0.044872  0.073719   \n",
       "6        8575.0  0.057641  0.040382  0.0  0.030730  0.048963  0.073720   \n",
       "7        3501.0  0.043925  0.034490  0.0  0.021394  0.034848  0.056471   \n",
       "8        2655.0  0.041323  0.032441  0.0  0.021085  0.035398  0.052577   \n",
       "9       10512.0  0.062025  0.040456  0.0  0.035422  0.053749  0.079115   \n",
       "10       2732.0  0.054147  0.033371  0.0  0.032028  0.047706  0.068146   \n",
       "\n",
       "             max  \n",
       "region            \n",
       "1       0.564103  \n",
       "2       0.720982  \n",
       "3       0.473684  \n",
       "4       0.555556  \n",
       "5       1.000000  \n",
       "6       0.546554  \n",
       "7       0.363462  \n",
       "8       0.356401  \n",
       "9       1.000000  \n",
       "10      0.333333  "
      ]
     },
     "execution_count": 231,
     "metadata": {},
     "output_type": "execute_result"
    }
   ],
   "source": [
    "env.groupby('region')['unemp_pct'].describe()"
   ]
  },
  {
   "cell_type": "code",
   "execution_count": 232,
   "id": "05aec3c0",
   "metadata": {
    "scrolled": false
   },
   "outputs": [
    {
     "name": "stderr",
     "output_type": "stream",
     "text": [
      "C:\\Users\\Vishnu\\anaconda3\\lib\\site-packages\\seaborn\\_decorators.py:36: FutureWarning: Pass the following variables as keyword args: x, y. From version 0.12, the only valid positional argument will be `data`, and passing other arguments without an explicit keyword will result in an error or misinterpretation.\n",
      "  warnings.warn(\n"
     ]
    },
    {
     "data": {
      "image/png": "[encoded data removed]",
      "text/plain": [
       "<Figure size 720x720 with 1 Axes>"
      ]
     },
     "metadata": {
      "needs_background": "light"
     },
     "output_type": "display_data"
    }
   ],
   "source": [
    "plt.figure(figsize = (10,10))\n",
    "sns.boxplot(env['region'], env['unemp_pct']);"
   ]
  },
  {
   "cell_type": "markdown",
   "id": "5adabf92",
   "metadata": {},
   "source": [
    "Environmental factors boxplot"
   ]
  },
  {
   "cell_type": "code",
   "execution_count": 233,
   "id": "d4b62e22",
   "metadata": {},
   "outputs": [
    {
     "data": {
      "text/plain": [
       "count    73219.000000\n",
       "mean        28.511629\n",
       "std         10.711776\n",
       "min          8.000000\n",
       "25%         20.000000\n",
       "50%         30.000000\n",
       "75%         30.000000\n",
       "max       1000.000000\n",
       "Name: cancer, dtype: float64"
      ]
     },
     "execution_count": 233,
     "metadata": {},
     "output_type": "execute_result"
    }
   ],
   "source": [
    "env['cancer'].describe()"
   ]
  },
  {
   "cell_type": "code",
   "execution_count": 234,
   "id": "24ee9110",
   "metadata": {
    "scrolled": false
   },
   "outputs": [
    {
     "data": {
      "image/png": "[encoded data removed]",
      "text/plain": [
       "<Figure size 720x720 with 1 Axes>"
      ]
     },
     "metadata": {
      "needs_background": "light"
     },
     "output_type": "display_data"
    }
   ],
   "source": [
    "plt.figure(figsize = (10,10))\n",
    "plt.boxplot(env['cancer']);"
   ]
  },
  {
   "cell_type": "code",
   "execution_count": null,
   "id": "9584b5c3",
   "metadata": {},
   "outputs": [],
   "source": []
  },
  {
   "cell_type": "code",
   "execution_count": 235,
   "id": "393ec605",
   "metadata": {},
   "outputs": [
    {
     "data": {
      "image/png": "[encoded data removed]",
      "text/plain": [
       "<Figure size 432x288 with 1 Axes>"
      ]
     },
     "metadata": {
      "needs_background": "light"
     },
     "output_type": "display_data"
    }
   ],
   "source": [
    "plt.hist(env['cancer']);"
   ]
  },
  {
   "cell_type": "code",
   "execution_count": 236,
   "id": "dd89c86b",
   "metadata": {},
   "outputs": [
    {
     "data": {
      "text/plain": [
       "count    73219.000000\n",
       "mean         0.299111\n",
       "std          0.238228\n",
       "min          0.000002\n",
       "25%          0.139305\n",
       "50%          0.244791\n",
       "75%          0.383705\n",
       "max          1.927320\n",
       "Name: diesel_pm, dtype: float64"
      ]
     },
     "execution_count": 236,
     "metadata": {},
     "output_type": "execute_result"
    }
   ],
   "source": [
    "env['diesel_pm'].describe()"
   ]
  },
  {
   "cell_type": "code",
   "execution_count": 237,
   "id": "19de2c5c",
   "metadata": {},
   "outputs": [],
   "source": [
    "colors = ['pink']"
   ]
  },
  {
   "cell_type": "code",
   "execution_count": 238,
   "id": "76cda814",
   "metadata": {
    "scrolled": false
   },
   "outputs": [
    {
     "data": {
      "image/png": "[encoded data removed]",
      "text/plain": [
       "<Figure size 720x720 with 1 Axes>"
      ]
     },
     "metadata": {
      "needs_background": "light"
     },
     "output_type": "display_data"
    }
   ],
   "source": [
    "plt.figure(figsize = (10,10))\n",
    "plt.boxplot(env['diesel_pm'], patch_artist=True);"
   ]
  },
  {
   "cell_type": "code",
   "execution_count": 239,
   "id": "c1763d9e",
   "metadata": {
    "scrolled": true
   },
   "outputs": [
    {
     "data": {
      "image/png": "[encoded data removed]",
      "text/plain": [
       "<Figure size 432x288 with 1 Axes>"
      ]
     },
     "metadata": {
      "needs_background": "light"
     },
     "output_type": "display_data"
    }
   ],
   "source": [
    "plt.hist(env['diesel_pm']);"
   ]
  },
  {
   "cell_type": "code",
   "execution_count": 240,
   "id": "60971c61",
   "metadata": {},
   "outputs": [
    {
     "data": {
      "text/plain": [
       "count    73219.000000\n",
       "mean         0.360005\n",
       "std          0.133762\n",
       "min          0.070000\n",
       "25%          0.300000\n",
       "50%          0.400000\n",
       "75%          0.400000\n",
       "max          5.000000\n",
       "Name: resp_index, dtype: float64"
      ]
     },
     "execution_count": 240,
     "metadata": {},
     "output_type": "execute_result"
    }
   ],
   "source": [
    "env['resp_index'].describe()"
   ]
  },
  {
   "cell_type": "code",
   "execution_count": 241,
   "id": "d6a3ab19",
   "metadata": {
    "scrolled": false
   },
   "outputs": [
    {
     "data": {
      "image/png": "[encoded data removed]",
      "text/plain": [
       "<Figure size 720x720 with 1 Axes>"
      ]
     },
     "metadata": {
      "needs_background": "light"
     },
     "output_type": "display_data"
    }
   ],
   "source": [
    "plt.figure(figsize = (10,10))\n",
    "plt.boxplot(env['resp_index'], patch_artist=True);"
   ]
  },
  {
   "cell_type": "code",
   "execution_count": 242,
   "id": "2836502b",
   "metadata": {},
   "outputs": [
    {
     "data": {
      "image/png": "[encoded data removed]",
      "text/plain": [
       "<Figure size 432x288 with 1 Axes>"
      ]
     },
     "metadata": {
      "needs_background": "light"
     },
     "output_type": "display_data"
    }
   ],
   "source": [
    "plt.hist(env['resp_index']);"
   ]
  },
  {
   "cell_type": "code",
   "execution_count": 243,
   "id": "78ad1eca",
   "metadata": {},
   "outputs": [
    {
     "data": {
      "text/plain": [
       "count    73219.000000\n",
       "mean         0.135981\n",
       "std          0.273878\n",
       "min          0.001130\n",
       "25%          0.027083\n",
       "50%          0.061822\n",
       "75%          0.133559\n",
       "max          8.059139\n",
       "Name: npl_prox, dtype: float64"
      ]
     },
     "execution_count": 243,
     "metadata": {},
     "output_type": "execute_result"
    }
   ],
   "source": [
    "env['npl_prox'].describe()"
   ]
  },
  {
   "cell_type": "code",
   "execution_count": 244,
   "id": "824b4527",
   "metadata": {},
   "outputs": [
    {
     "data": {
      "image/png": "[encoded data removed]",
      "text/plain": [
       "<Figure size 720x720 with 1 Axes>"
      ]
     },
     "metadata": {
      "needs_background": "light"
     },
     "output_type": "display_data"
    }
   ],
   "source": [
    "plt.figure(figsize = (10,10))\n",
    "plt.boxplot(env['npl_prox'], patch_artist=True);"
   ]
  },
  {
   "cell_type": "code",
   "execution_count": 245,
   "id": "9554072e",
   "metadata": {},
   "outputs": [
    {
     "data": {
      "image/png": "[encoded data removed]",
      "text/plain": [
       "<Figure size 432x288 with 1 Axes>"
      ]
     },
     "metadata": {
      "needs_background": "light"
     },
     "output_type": "display_data"
    }
   ],
   "source": [
    "plt.hist(env['npl_prox']);"
   ]
  },
  {
   "cell_type": "code",
   "execution_count": 246,
   "id": "ec848011",
   "metadata": {},
   "outputs": [
    {
     "data": {
      "text/plain": [
       "count    73219.000000\n",
       "mean         0.800404\n",
       "std          1.105838\n",
       "min          0.001413\n",
       "25%          0.148238\n",
       "50%          0.366442\n",
       "75%          1.033092\n",
       "max         17.607654\n",
       "Name: rmp_prox, dtype: float64"
      ]
     },
     "execution_count": 246,
     "metadata": {},
     "output_type": "execute_result"
    }
   ],
   "source": [
    "env['rmp_prox'].describe()"
   ]
  },
  {
   "cell_type": "code",
   "execution_count": 247,
   "id": "7c4794d8",
   "metadata": {
    "scrolled": false
   },
   "outputs": [
    {
     "data": {
      "image/png": "[encoded data removed]",
      "text/plain": [
       "<Figure size 720x720 with 1 Axes>"
      ]
     },
     "metadata": {
      "needs_background": "light"
     },
     "output_type": "display_data"
    }
   ],
   "source": [
    "plt.figure(figsize = (10,10))\n",
    "plt.boxplot(env['rmp_prox'], patch_artist=True);"
   ]
  },
  {
   "cell_type": "code",
   "execution_count": 248,
   "id": "f0666c5b",
   "metadata": {},
   "outputs": [
    {
     "data": {
      "image/png": "[encoded data removed]",
      "text/plain": [
       "<Figure size 432x288 with 1 Axes>"
      ]
     },
     "metadata": {
      "needs_background": "light"
     },
     "output_type": "display_data"
    }
   ],
   "source": [
    "plt.hist(env['rmp_prox']);"
   ]
  },
  {
   "cell_type": "code",
   "execution_count": 249,
   "id": "da621c60",
   "metadata": {},
   "outputs": [
    {
     "data": {
      "text/plain": [
       "count    73219.000000\n",
       "mean         2.254717\n",
       "std          3.906192\n",
       "min          0.001280\n",
       "25%          0.160165\n",
       "50%          0.791039\n",
       "75%          2.646130\n",
       "max         57.751593\n",
       "Name: waste_prox, dtype: float64"
      ]
     },
     "execution_count": 249,
     "metadata": {},
     "output_type": "execute_result"
    }
   ],
   "source": [
    "env['waste_prox'].describe()"
   ]
  },
  {
   "cell_type": "code",
   "execution_count": 250,
   "id": "11d3de15",
   "metadata": {
    "scrolled": false
   },
   "outputs": [
    {
     "data": {
      "image/png": "[encoded data removed]",
      "text/plain": [
       "<Figure size 720x720 with 1 Axes>"
      ]
     },
     "metadata": {
      "needs_background": "light"
     },
     "output_type": "display_data"
    }
   ],
   "source": [
    "plt.figure(figsize = (10,10))\n",
    "plt.boxplot( env['waste_prox'], patch_artist=True);"
   ]
  },
  {
   "cell_type": "code",
   "execution_count": 251,
   "id": "590526f8",
   "metadata": {},
   "outputs": [
    {
     "data": {
      "image/png": "[encoded data removed]",
      "text/plain": [
       "<Figure size 432x288 with 1 Axes>"
      ]
     },
     "metadata": {
      "needs_background": "light"
     },
     "output_type": "display_data"
    }
   ],
   "source": [
    "plt.hist(env['waste_prox']);"
   ]
  },
  {
   "cell_type": "code",
   "execution_count": 252,
   "id": "8bd809c0",
   "metadata": {},
   "outputs": [
    {
     "data": {
      "text/plain": [
       "count    73219.000000\n",
       "mean         4.295767\n",
       "std          7.265454\n",
       "min          0.000000\n",
       "25%          0.395179\n",
       "50%          1.821258\n",
       "75%          4.883952\n",
       "max        154.788486\n",
       "Name: undgrd_stor, dtype: float64"
      ]
     },
     "execution_count": 252,
     "metadata": {},
     "output_type": "execute_result"
    }
   ],
   "source": [
    "env['undgrd_stor'].describe()"
   ]
  },
  {
   "cell_type": "code",
   "execution_count": 253,
   "id": "cd54d8b9",
   "metadata": {
    "scrolled": false
   },
   "outputs": [
    {
     "data": {
      "image/png": "[encoded data removed]",
      "text/plain": [
       "<Figure size 720x720 with 1 Axes>"
      ]
     },
     "metadata": {
      "needs_background": "light"
     },
     "output_type": "display_data"
    }
   ],
   "source": [
    "plt.figure(figsize = (10,10))\n",
    "plt.boxplot(env['undgrd_stor'], patch_artist=True);"
   ]
  },
  {
   "cell_type": "code",
   "execution_count": 254,
   "id": "b4b41d4e",
   "metadata": {
    "scrolled": true
   },
   "outputs": [
    {
     "data": {
      "image/png": "[encoded data removed]",
      "text/plain": [
       "<Figure size 432x288 with 1 Axes>"
      ]
     },
     "metadata": {
      "needs_background": "light"
     },
     "output_type": "display_data"
    }
   ],
   "source": [
    "plt.hist(env['undgrd_stor']);"
   ]
  },
  {
   "cell_type": "markdown",
   "id": "1efed684",
   "metadata": {},
   "source": [
    "Demographic Index"
   ]
  },
  {
   "cell_type": "code",
   "execution_count": 255,
   "id": "0d69bcf5",
   "metadata": {},
   "outputs": [
    {
     "data": {
      "text/plain": [
       "count    73219.000000\n",
       "mean      4479.741215\n",
       "std       2313.963476\n",
       "min         31.000000\n",
       "25%       2941.000000\n",
       "50%       4144.000000\n",
       "75%       5570.000000\n",
       "max      72041.000000\n",
       "Name: pop, dtype: float64"
      ]
     },
     "execution_count": 255,
     "metadata": {},
     "output_type": "execute_result"
    }
   ],
   "source": [
    "env['pop'].describe()"
   ]
  },
  {
   "cell_type": "code",
   "execution_count": 256,
   "id": "1d3d9192",
   "metadata": {},
   "outputs": [
    {
     "data": {
      "image/png": "[encoded data removed]",
      "text/plain": [
       "<Figure size 720x720 with 1 Axes>"
      ]
     },
     "metadata": {
      "needs_background": "light"
     },
     "output_type": "display_data"
    }
   ],
   "source": [
    "plt.figure(figsize = (10,10))\n",
    "plt.boxplot(env['pop'], patch_artist=True);"
   ]
  },
  {
   "cell_type": "code",
   "execution_count": 257,
   "id": "39239b0f",
   "metadata": {},
   "outputs": [
    {
     "data": {
      "image/png": "[encoded data removed]",
      "text/plain": [
       "<Figure size 432x288 with 1 Axes>"
      ]
     },
     "metadata": {
      "needs_background": "light"
     },
     "output_type": "display_data"
    }
   ],
   "source": [
    "plt.hist(env['pop']);"
   ]
  },
  {
   "cell_type": "code",
   "execution_count": 258,
   "id": "f6599792",
   "metadata": {},
   "outputs": [
    {
     "data": {
      "text/plain": [
       "count    73219.000000\n",
       "mean         0.394099\n",
       "std          0.304841\n",
       "min          0.000000\n",
       "25%          0.130104\n",
       "50%          0.309403\n",
       "75%          0.628146\n",
       "max          1.000000\n",
       "Name: poc_pct, dtype: float64"
      ]
     },
     "execution_count": 258,
     "metadata": {},
     "output_type": "execute_result"
    }
   ],
   "source": [
    "env['poc_pct'].describe()"
   ]
  },
  {
   "cell_type": "code",
   "execution_count": 259,
   "id": "687a4481",
   "metadata": {
    "scrolled": false
   },
   "outputs": [
    {
     "data": {
      "image/png": "[encoded data removed]",
      "text/plain": [
       "<Figure size 720x720 with 1 Axes>"
      ]
     },
     "metadata": {
      "needs_background": "light"
     },
     "output_type": "display_data"
    }
   ],
   "source": [
    "plt.figure(figsize = (10,10))\n",
    "plt.boxplot(env['poc_pct'], patch_artist=True);"
   ]
  },
  {
   "cell_type": "code",
   "execution_count": 260,
   "id": "b1f7608c",
   "metadata": {},
   "outputs": [
    {
     "data": {
      "image/png": "[encoded data removed]",
      "text/plain": [
       "<Figure size 432x288 with 1 Axes>"
      ]
     },
     "metadata": {
      "needs_background": "light"
     },
     "output_type": "display_data"
    }
   ],
   "source": [
    "plt.hist(env['poc_pct']);"
   ]
  },
  {
   "cell_type": "code",
   "execution_count": 261,
   "id": "fafdfc7b",
   "metadata": {},
   "outputs": [
    {
     "data": {
      "text/plain": [
       "count    73219.000000\n",
       "mean         0.331081\n",
       "std          0.187236\n",
       "min          0.000000\n",
       "25%          0.182592\n",
       "50%          0.303790\n",
       "75%          0.452309\n",
       "max          1.000000\n",
       "Name: low_inc_pct, dtype: float64"
      ]
     },
     "execution_count": 261,
     "metadata": {},
     "output_type": "execute_result"
    }
   ],
   "source": [
    "env['low_inc_pct'].describe()"
   ]
  },
  {
   "cell_type": "code",
   "execution_count": 262,
   "id": "30a7b2b4",
   "metadata": {
    "scrolled": false
   },
   "outputs": [
    {
     "data": {
      "image/png": "[encoded data removed]",
      "text/plain": [
       "<Figure size 720x720 with 1 Axes>"
      ]
     },
     "metadata": {
      "needs_background": "light"
     },
     "output_type": "display_data"
    }
   ],
   "source": [
    "plt.figure(figsize = (10,10))\n",
    "plt.boxplot(env['low_inc_pct'], patch_artist=True);"
   ]
  },
  {
   "cell_type": "code",
   "execution_count": 263,
   "id": "80560158",
   "metadata": {},
   "outputs": [
    {
     "data": {
      "image/png": "[encoded data removed]",
      "text/plain": [
       "<Figure size 432x288 with 1 Axes>"
      ]
     },
     "metadata": {
      "needs_background": "light"
     },
     "output_type": "display_data"
    }
   ],
   "source": [
    "plt.hist(env['low_inc_pct']);"
   ]
  },
  {
   "cell_type": "code",
   "execution_count": 264,
   "id": "2e9c4d65",
   "metadata": {},
   "outputs": [
    {
     "data": {
      "text/plain": [
       "count    73219.000000\n",
       "mean         0.127884\n",
       "std          0.103999\n",
       "min          0.000000\n",
       "25%          0.052842\n",
       "50%          0.099011\n",
       "75%          0.173580\n",
       "max          1.000000\n",
       "Name: sub_hs_pct, dtype: float64"
      ]
     },
     "execution_count": 264,
     "metadata": {},
     "output_type": "execute_result"
    }
   ],
   "source": [
    "env['sub_hs_pct'].describe()"
   ]
  },
  {
   "cell_type": "code",
   "execution_count": 265,
   "id": "7981d6ec",
   "metadata": {
    "scrolled": false
   },
   "outputs": [
    {
     "data": {
      "image/png": "[encoded data removed]",
      "text/plain": [
       "<Figure size 720x720 with 1 Axes>"
      ]
     },
     "metadata": {
      "needs_background": "light"
     },
     "output_type": "display_data"
    }
   ],
   "source": [
    "plt.figure(figsize = (10,10))\n",
    "plt.boxplot(env['sub_hs_pct'], patch_artist=True);"
   ]
  },
  {
   "cell_type": "code",
   "execution_count": 266,
   "id": "95605fa6",
   "metadata": {},
   "outputs": [
    {
     "data": {
      "image/png": "[encoded data removed]",
      "text/plain": [
       "<Figure size 432x288 with 1 Axes>"
      ]
     },
     "metadata": {
      "needs_background": "light"
     },
     "output_type": "display_data"
    }
   ],
   "source": [
    "plt.hist(env['sub_hs_pct']);"
   ]
  },
  {
   "cell_type": "code",
   "execution_count": 267,
   "id": "8b3c780c",
   "metadata": {},
   "outputs": [
    {
     "data": {
      "text/plain": [
       "count    73219.000000\n",
       "mean         0.053338\n",
       "std          0.103814\n",
       "min          0.000000\n",
       "25%          0.000000\n",
       "50%          0.016507\n",
       "75%          0.055862\n",
       "max          1.000000\n",
       "Name: ling_iso_pct, dtype: float64"
      ]
     },
     "execution_count": 267,
     "metadata": {},
     "output_type": "execute_result"
    }
   ],
   "source": [
    "env['ling_iso_pct'].describe()"
   ]
  },
  {
   "cell_type": "code",
   "execution_count": 268,
   "id": "be84a7bf",
   "metadata": {
    "scrolled": true
   },
   "outputs": [
    {
     "data": {
      "image/png": "[encoded data removed]",
      "text/plain": [
       "<Figure size 720x720 with 1 Axes>"
      ]
     },
     "metadata": {
      "needs_background": "light"
     },
     "output_type": "display_data"
    }
   ],
   "source": [
    "plt.figure(figsize = (10,10))\n",
    "plt.boxplot(env['ling_iso_pct'], patch_artist=True);"
   ]
  },
  {
   "cell_type": "code",
   "execution_count": 269,
   "id": "a3bb65e3",
   "metadata": {},
   "outputs": [
    {
     "data": {
      "image/png": "[encoded data removed]",
      "text/plain": [
       "<Figure size 432x288 with 1 Axes>"
      ]
     },
     "metadata": {
      "needs_background": "light"
     },
     "output_type": "display_data"
    }
   ],
   "source": [
    "plt.hist(env['ling_iso_pct']);"
   ]
  },
  {
   "cell_type": "code",
   "execution_count": 270,
   "id": "f9c161f1",
   "metadata": {},
   "outputs": [
    {
     "data": {
      "text/plain": [
       "count    73219.000000\n",
       "mean         0.059222\n",
       "std          0.026282\n",
       "min          0.000000\n",
       "25%          0.042103\n",
       "50%          0.057013\n",
       "75%          0.073895\n",
       "max          0.365672\n",
       "Name: under_5_pct, dtype: float64"
      ]
     },
     "execution_count": 270,
     "metadata": {},
     "output_type": "execute_result"
    }
   ],
   "source": [
    "env['under_5_pct'].describe()"
   ]
  },
  {
   "cell_type": "code",
   "execution_count": 271,
   "id": "28d7f91c",
   "metadata": {
    "scrolled": false
   },
   "outputs": [
    {
     "data": {
      "image/png": "[encoded data removed]",
      "text/plain": [
       "<Figure size 720x720 with 1 Axes>"
      ]
     },
     "metadata": {
      "needs_background": "light"
     },
     "output_type": "display_data"
    }
   ],
   "source": [
    "plt.figure(figsize = (10,10))\n",
    "plt.boxplot(env['under_5_pct'], patch_artist=True);"
   ]
  },
  {
   "cell_type": "code",
   "execution_count": 272,
   "id": "472aeac1",
   "metadata": {},
   "outputs": [
    {
     "data": {
      "image/png": "[encoded data removed]",
      "text/plain": [
       "<Figure size 432x288 with 1 Axes>"
      ]
     },
     "metadata": {
      "needs_background": "light"
     },
     "output_type": "display_data"
    }
   ],
   "source": [
    "plt.hist(env['under_5_pct']);"
   ]
  },
  {
   "cell_type": "code",
   "execution_count": 273,
   "id": "267ba106",
   "metadata": {},
   "outputs": [
    {
     "data": {
      "text/plain": [
       "count    73219.000000\n",
       "mean         0.164473\n",
       "std          0.080672\n",
       "min          0.000000\n",
       "25%          0.113605\n",
       "50%          0.156958\n",
       "75%          0.200876\n",
       "max          0.922115\n",
       "Name: over_64_pct, dtype: float64"
      ]
     },
     "execution_count": 273,
     "metadata": {},
     "output_type": "execute_result"
    }
   ],
   "source": [
    "env['over_64_pct'].describe()"
   ]
  },
  {
   "cell_type": "code",
   "execution_count": 274,
   "id": "12176d68",
   "metadata": {
    "scrolled": false
   },
   "outputs": [
    {
     "data": {
      "image/png": "[encoded data removed]",
      "text/plain": [
       "<Figure size 720x720 with 1 Axes>"
      ]
     },
     "metadata": {
      "needs_background": "light"
     },
     "output_type": "display_data"
    }
   ],
   "source": [
    "plt.figure(figsize = (10,10))\n",
    "plt.boxplot(env['over_64_pct'], patch_artist=True);"
   ]
  },
  {
   "cell_type": "code",
   "execution_count": 275,
   "id": "72d92896",
   "metadata": {},
   "outputs": [
    {
     "data": {
      "image/png": "[encoded data removed]",
      "text/plain": [
       "<Figure size 432x288 with 1 Axes>"
      ]
     },
     "metadata": {
      "needs_background": "light"
     },
     "output_type": "display_data"
    }
   ],
   "source": [
    "plt.hist(env['over_64_pct']);"
   ]
  },
  {
   "cell_type": "code",
   "execution_count": 276,
   "id": "e3ea7963",
   "metadata": {},
   "outputs": [
    {
     "data": {
      "text/plain": [
       "count    73219.000000\n",
       "mean         0.059382\n",
       "std          0.046701\n",
       "min          0.000000\n",
       "25%          0.030141\n",
       "50%          0.047967\n",
       "75%          0.074039\n",
       "max          1.000000\n",
       "Name: unemp_pct, dtype: float64"
      ]
     },
     "execution_count": 276,
     "metadata": {},
     "output_type": "execute_result"
    }
   ],
   "source": [
    "env['unemp_pct'].describe()"
   ]
  },
  {
   "cell_type": "code",
   "execution_count": 277,
   "id": "ac28ea91",
   "metadata": {
    "scrolled": false
   },
   "outputs": [
    {
     "data": {
      "image/png": "[encoded data removed]",
      "text/plain": [
       "<Figure size 720x720 with 1 Axes>"
      ]
     },
     "metadata": {
      "needs_background": "light"
     },
     "output_type": "display_data"
    }
   ],
   "source": [
    "plt.figure(figsize = (10,10))\n",
    "plt.boxplot(env['unemp_pct'], patch_artist=True);"
   ]
  },
  {
   "cell_type": "code",
   "execution_count": 278,
   "id": "305e9f35",
   "metadata": {},
   "outputs": [
    {
     "data": {
      "image/png": "[encoded data removed]",
      "text/plain": [
       "<Figure size 432x288 with 1 Axes>"
      ]
     },
     "metadata": {
      "needs_background": "light"
     },
     "output_type": "display_data"
    }
   ],
   "source": [
    "plt.hist(env['unemp_pct']);"
   ]
  },
  {
   "cell_type": "code",
   "execution_count": 279,
   "id": "1102798a",
   "metadata": {},
   "outputs": [
    {
     "data": {
      "text/plain": [
       "count    73219.000000\n",
       "mean         0.316033\n",
       "std          0.265660\n",
       "min          0.000000\n",
       "25%          0.078189\n",
       "50%          0.250330\n",
       "75%          0.511885\n",
       "max          1.000000\n",
       "Name: pre_1960_pct, dtype: float64"
      ]
     },
     "execution_count": 279,
     "metadata": {},
     "output_type": "execute_result"
    }
   ],
   "source": [
    "env['pre_1960_pct'].describe()"
   ]
  },
  {
   "cell_type": "code",
   "execution_count": 280,
   "id": "c0e37b34",
   "metadata": {
    "scrolled": false
   },
   "outputs": [
    {
     "data": {
      "image/png": "[encoded data removed]",
      "text/plain": [
       "<Figure size 720x720 with 1 Axes>"
      ]
     },
     "metadata": {
      "needs_background": "light"
     },
     "output_type": "display_data"
    }
   ],
   "source": [
    "plt.figure(figsize = (10,10))\n",
    "plt.boxplot(env['pre_1960_pct'], patch_artist=True);"
   ]
  },
  {
   "cell_type": "code",
   "execution_count": 281,
   "id": "916e9b30",
   "metadata": {
    "scrolled": true
   },
   "outputs": [
    {
     "data": {
      "image/png": "[encoded data removed]",
      "text/plain": [
       "<Figure size 432x288 with 1 Axes>"
      ]
     },
     "metadata": {
      "needs_background": "light"
     },
     "output_type": "display_data"
    }
   ],
   "source": [
    "plt.hist(env['pre_1960_pct']);"
   ]
  },
  {
   "cell_type": "markdown",
   "id": "623196b5-a468-4ce2-b10d-06a4c882716a",
   "metadata": {},
   "source": [
    "---\n",
    "\n",
    "## Imputing"
   ]
  },
  {
   "cell_type": "code",
   "execution_count": 282,
   "id": "6c240b80",
   "metadata": {},
   "outputs": [],
   "source": [
    "cols_to_impute = ['traffic_prox', 'ozone', 'pm_25']"
   ]
  },
  {
   "cell_type": "code",
   "execution_count": 283,
   "id": "a5e2943d-704d-4778-9b55-ebc65e8373fc",
   "metadata": {},
   "outputs": [
    {
     "data": {
      "image/png": "[encoded data removed]",
      "text/plain": [
       "<Figure size 864x1152 with 3 Axes>"
      ]
     },
     "metadata": {
      "needs_background": "light"
     },
     "output_type": "display_data"
    }
   ],
   "source": [
    "plt.figure(figsize = (12,16))\n",
    "\n",
    "for i in range(3):\n",
    "    plt.subplot(3,1,i+1)\n",
    "    col_name = cols_to_impute[i]\n",
    "    plt.title(f'{col_name}', size = 20)\n",
    "    plt.hist(env[col_name], bins = 40)\n",
    "    plt.axvline(env[col_name].mean(), color = 'red')\n",
    "    "
   ]
  },
  {
   "cell_type": "code",
   "execution_count": 284,
   "id": "a398f6b0-af76-476f-96f5-ba91f01b0098",
   "metadata": {},
   "outputs": [],
   "source": [
    "# may want to one-hot-encode region to impute using regression \n",
    "X = env.drop(columns = ['cancer', 'st_name', 'st_abbrev'])\n",
    "y = env['cancer']"
   ]
  },
  {
   "cell_type": "code",
   "execution_count": 285,
   "id": "8d51e717-5438-49e5-9f6e-43f0091f5fbc",
   "metadata": {},
   "outputs": [],
   "source": [
    "X_train, X_val, Y_train, Y_val = train_test_split(X,y, test_size = 0.2, random_state = 13)"
   ]
  },
  {
   "cell_type": "code",
   "execution_count": 286,
   "id": "afa2755e-5efb-46a4-9a8f-f58234bc6a24",
   "metadata": {},
   "outputs": [],
   "source": [
    "it = IterativeImputer(estimator = LinearRegression())\n",
    "X_train_missing = it.fit_transform(X_train)\n",
    "X_val_missing = it.transform(X_val)\n",
    "\n",
    "X_train_imputed = pd.DataFrame(X_train_missing, columns = it.get_feature_names_out())\n",
    "X_val_imputed = pd.DataFrame(X_val_missing, columns = it.get_feature_names_out())"
   ]
  },
  {
   "cell_type": "code",
   "execution_count": 287,
   "id": "96533e08-677e-47af-85d0-81d817391691",
   "metadata": {},
   "outputs": [],
   "source": [
    "X_imputed = pd.concat([X_train_imputed, X_val_imputed])"
   ]
  },
  {
   "cell_type": "code",
   "execution_count": 288,
   "id": "45f78012",
   "metadata": {},
   "outputs": [
    {
     "data": {
      "text/html": [
       "<div>\n",
       "<style scoped>\n",
       "    .dataframe tbody tr th:only-of-type {\n",
       "        vertical-align: middle;\n",
       "    }\n",
       "\n",
       "    .dataframe tbody tr th {\n",
       "        vertical-align: top;\n",
       "    }\n",
       "\n",
       "    .dataframe thead th {\n",
       "        text-align: right;\n",
       "    }\n",
       "</style>\n",
       "<table border=\"1\" class=\"dataframe\">\n",
       "  <thead>\n",
       "    <tr style=\"text-align: right;\">\n",
       "      <th></th>\n",
       "      <th>region</th>\n",
       "      <th>pop</th>\n",
       "      <th>poc_pct</th>\n",
       "      <th>low_inc_pct</th>\n",
       "      <th>sub_hs_pct</th>\n",
       "      <th>ling_iso_pct</th>\n",
       "      <th>under_5_pct</th>\n",
       "      <th>over_64_pct</th>\n",
       "      <th>unemp_pct</th>\n",
       "      <th>pre_1960_pct</th>\n",
       "      <th>diesel_pm</th>\n",
       "      <th>resp_index</th>\n",
       "      <th>traffic_prox</th>\n",
       "      <th>npl_prox</th>\n",
       "      <th>rmp_prox</th>\n",
       "      <th>waste_prox</th>\n",
       "      <th>ozone</th>\n",
       "      <th>pm_25</th>\n",
       "      <th>undgrd_stor</th>\n",
       "    </tr>\n",
       "  </thead>\n",
       "  <tbody>\n",
       "    <tr>\n",
       "      <th>0</th>\n",
       "      <td>2.0</td>\n",
       "      <td>4045.0</td>\n",
       "      <td>0.401236</td>\n",
       "      <td>0.259727</td>\n",
       "      <td>0.143237</td>\n",
       "      <td>0.044361</td>\n",
       "      <td>0.038072</td>\n",
       "      <td>0.164400</td>\n",
       "      <td>0.060688</td>\n",
       "      <td>0.361671</td>\n",
       "      <td>0.305874</td>\n",
       "      <td>0.3</td>\n",
       "      <td>244.094471</td>\n",
       "      <td>0.125307</td>\n",
       "      <td>0.086791</td>\n",
       "      <td>1.313213</td>\n",
       "      <td>43.804595</td>\n",
       "      <td>7.439898</td>\n",
       "      <td>1.680509</td>\n",
       "    </tr>\n",
       "    <tr>\n",
       "      <th>1</th>\n",
       "      <td>2.0</td>\n",
       "      <td>5118.0</td>\n",
       "      <td>0.161782</td>\n",
       "      <td>0.127372</td>\n",
       "      <td>0.033595</td>\n",
       "      <td>0.037461</td>\n",
       "      <td>0.052755</td>\n",
       "      <td>0.203204</td>\n",
       "      <td>0.036295</td>\n",
       "      <td>0.547035</td>\n",
       "      <td>0.277527</td>\n",
       "      <td>0.3</td>\n",
       "      <td>402.408271</td>\n",
       "      <td>0.092864</td>\n",
       "      <td>0.228712</td>\n",
       "      <td>0.414198</td>\n",
       "      <td>42.045325</td>\n",
       "      <td>7.491417</td>\n",
       "      <td>10.711699</td>\n",
       "    </tr>\n",
       "    <tr>\n",
       "      <th>2</th>\n",
       "      <td>3.0</td>\n",
       "      <td>2550.0</td>\n",
       "      <td>0.506667</td>\n",
       "      <td>0.643683</td>\n",
       "      <td>0.226740</td>\n",
       "      <td>0.021075</td>\n",
       "      <td>0.151765</td>\n",
       "      <td>0.049020</td>\n",
       "      <td>0.099571</td>\n",
       "      <td>0.302785</td>\n",
       "      <td>0.254800</td>\n",
       "      <td>0.3</td>\n",
       "      <td>885.145986</td>\n",
       "      <td>0.172876</td>\n",
       "      <td>1.160913</td>\n",
       "      <td>0.825702</td>\n",
       "      <td>44.921961</td>\n",
       "      <td>7.734490</td>\n",
       "      <td>1.203185</td>\n",
       "    </tr>\n",
       "    <tr>\n",
       "      <th>3</th>\n",
       "      <td>6.0</td>\n",
       "      <td>2637.0</td>\n",
       "      <td>0.098976</td>\n",
       "      <td>0.511407</td>\n",
       "      <td>0.250522</td>\n",
       "      <td>0.035680</td>\n",
       "      <td>0.086841</td>\n",
       "      <td>0.139173</td>\n",
       "      <td>0.033569</td>\n",
       "      <td>0.098077</td>\n",
       "      <td>0.060401</td>\n",
       "      <td>0.5</td>\n",
       "      <td>0.026620</td>\n",
       "      <td>0.408759</td>\n",
       "      <td>0.128420</td>\n",
       "      <td>0.028133</td>\n",
       "      <td>38.430395</td>\n",
       "      <td>8.820738</td>\n",
       "      <td>0.024831</td>\n",
       "    </tr>\n",
       "    <tr>\n",
       "      <th>4</th>\n",
       "      <td>7.0</td>\n",
       "      <td>4208.0</td>\n",
       "      <td>0.284696</td>\n",
       "      <td>0.321530</td>\n",
       "      <td>0.049782</td>\n",
       "      <td>0.028432</td>\n",
       "      <td>0.060837</td>\n",
       "      <td>0.123099</td>\n",
       "      <td>0.070169</td>\n",
       "      <td>0.874308</td>\n",
       "      <td>0.579414</td>\n",
       "      <td>0.5</td>\n",
       "      <td>1055.238398</td>\n",
       "      <td>0.116735</td>\n",
       "      <td>0.517442</td>\n",
       "      <td>3.335104</td>\n",
       "      <td>48.547152</td>\n",
       "      <td>9.451945</td>\n",
       "      <td>3.032293</td>\n",
       "    </tr>\n",
       "    <tr>\n",
       "      <th>...</th>\n",
       "      <td>...</td>\n",
       "      <td>...</td>\n",
       "      <td>...</td>\n",
       "      <td>...</td>\n",
       "      <td>...</td>\n",
       "      <td>...</td>\n",
       "      <td>...</td>\n",
       "      <td>...</td>\n",
       "      <td>...</td>\n",
       "      <td>...</td>\n",
       "      <td>...</td>\n",
       "      <td>...</td>\n",
       "      <td>...</td>\n",
       "      <td>...</td>\n",
       "      <td>...</td>\n",
       "      <td>...</td>\n",
       "      <td>...</td>\n",
       "      <td>...</td>\n",
       "      <td>...</td>\n",
       "    </tr>\n",
       "    <tr>\n",
       "      <th>14639</th>\n",
       "      <td>6.0</td>\n",
       "      <td>4072.0</td>\n",
       "      <td>0.421169</td>\n",
       "      <td>0.430723</td>\n",
       "      <td>0.224621</td>\n",
       "      <td>0.029172</td>\n",
       "      <td>0.095776</td>\n",
       "      <td>0.154715</td>\n",
       "      <td>0.081924</td>\n",
       "      <td>0.439952</td>\n",
       "      <td>0.113892</td>\n",
       "      <td>0.4</td>\n",
       "      <td>48.350477</td>\n",
       "      <td>0.029632</td>\n",
       "      <td>0.871878</td>\n",
       "      <td>0.040546</td>\n",
       "      <td>39.027198</td>\n",
       "      <td>9.488393</td>\n",
       "      <td>1.539221</td>\n",
       "    </tr>\n",
       "    <tr>\n",
       "      <th>14640</th>\n",
       "      <td>1.0</td>\n",
       "      <td>5151.0</td>\n",
       "      <td>0.055911</td>\n",
       "      <td>0.143394</td>\n",
       "      <td>0.073560</td>\n",
       "      <td>0.010501</td>\n",
       "      <td>0.039410</td>\n",
       "      <td>0.221510</td>\n",
       "      <td>0.060544</td>\n",
       "      <td>0.248111</td>\n",
       "      <td>0.123280</td>\n",
       "      <td>0.2</td>\n",
       "      <td>117.476119</td>\n",
       "      <td>0.042640</td>\n",
       "      <td>0.045132</td>\n",
       "      <td>0.892260</td>\n",
       "      <td>41.704182</td>\n",
       "      <td>6.029829</td>\n",
       "      <td>0.850917</td>\n",
       "    </tr>\n",
       "    <tr>\n",
       "      <th>14641</th>\n",
       "      <td>5.0</td>\n",
       "      <td>2834.0</td>\n",
       "      <td>0.938250</td>\n",
       "      <td>0.418630</td>\n",
       "      <td>0.063304</td>\n",
       "      <td>0.004596</td>\n",
       "      <td>0.087509</td>\n",
       "      <td>0.086097</td>\n",
       "      <td>0.105263</td>\n",
       "      <td>0.821567</td>\n",
       "      <td>0.324143</td>\n",
       "      <td>0.3</td>\n",
       "      <td>1445.048769</td>\n",
       "      <td>0.144207</td>\n",
       "      <td>0.577823</td>\n",
       "      <td>1.428223</td>\n",
       "      <td>45.089852</td>\n",
       "      <td>9.920975</td>\n",
       "      <td>30.780750</td>\n",
       "    </tr>\n",
       "    <tr>\n",
       "      <th>14642</th>\n",
       "      <td>5.0</td>\n",
       "      <td>6648.0</td>\n",
       "      <td>0.340704</td>\n",
       "      <td>0.458847</td>\n",
       "      <td>0.081584</td>\n",
       "      <td>0.006780</td>\n",
       "      <td>0.096871</td>\n",
       "      <td>0.101384</td>\n",
       "      <td>0.054037</td>\n",
       "      <td>0.231471</td>\n",
       "      <td>0.345399</td>\n",
       "      <td>0.3</td>\n",
       "      <td>394.387992</td>\n",
       "      <td>0.236663</td>\n",
       "      <td>1.607285</td>\n",
       "      <td>0.945679</td>\n",
       "      <td>47.107778</td>\n",
       "      <td>10.104725</td>\n",
       "      <td>1.763924</td>\n",
       "    </tr>\n",
       "    <tr>\n",
       "      <th>14643</th>\n",
       "      <td>6.0</td>\n",
       "      <td>6930.0</td>\n",
       "      <td>0.756854</td>\n",
       "      <td>0.386308</td>\n",
       "      <td>0.050120</td>\n",
       "      <td>0.057232</td>\n",
       "      <td>0.091775</td>\n",
       "      <td>0.097403</td>\n",
       "      <td>0.029067</td>\n",
       "      <td>0.021336</td>\n",
       "      <td>0.257484</td>\n",
       "      <td>0.4</td>\n",
       "      <td>485.731514</td>\n",
       "      <td>0.344056</td>\n",
       "      <td>0.497793</td>\n",
       "      <td>0.636159</td>\n",
       "      <td>39.867061</td>\n",
       "      <td>9.380495</td>\n",
       "      <td>1.475515</td>\n",
       "    </tr>\n",
       "  </tbody>\n",
       "</table>\n",
       "<p>73219 rows × 19 columns</p>\n",
       "</div>"
      ],
      "text/plain": [
       "       region     pop   poc_pct  low_inc_pct  sub_hs_pct  ling_iso_pct  \\\n",
       "0         2.0  4045.0  0.401236     0.259727    0.143237      0.044361   \n",
       "1         2.0  5118.0  0.161782     0.127372    0.033595      0.037461   \n",
       "2         3.0  2550.0  0.506667     0.643683    0.226740      0.021075   \n",
       "3         6.0  2637.0  0.098976     0.511407    0.250522      0.035680   \n",
       "4         7.0  4208.0  0.284696     0.321530    0.049782      0.028432   \n",
       "...       ...     ...       ...          ...         ...           ...   \n",
       "14639     6.0  4072.0  0.421169     0.430723    0.224621      0.029172   \n",
       "14640     1.0  5151.0  0.055911     0.143394    0.073560      0.010501   \n",
       "14641     5.0  2834.0  0.938250     0.418630    0.063304      0.004596   \n",
       "14642     5.0  6648.0  0.340704     0.458847    0.081584      0.006780   \n",
       "14643     6.0  6930.0  0.756854     0.386308    0.050120      0.057232   \n",
       "\n",
       "       under_5_pct  over_64_pct  unemp_pct  pre_1960_pct  diesel_pm  \\\n",
       "0         0.038072     0.164400   0.060688      0.361671   0.305874   \n",
       "1         0.052755     0.203204   0.036295      0.547035   0.277527   \n",
       "2         0.151765     0.049020   0.099571      0.302785   0.254800   \n",
       "3         0.086841     0.139173   0.033569      0.098077   0.060401   \n",
       "4         0.060837     0.123099   0.070169      0.874308   0.579414   \n",
       "...            ...          ...        ...           ...        ...   \n",
       "14639     0.095776     0.154715   0.081924      0.439952   0.113892   \n",
       "14640     0.039410     0.221510   0.060544      0.248111   0.123280   \n",
       "14641     0.087509     0.086097   0.105263      0.821567   0.324143   \n",
       "14642     0.096871     0.101384   0.054037      0.231471   0.345399   \n",
       "14643     0.091775     0.097403   0.029067      0.021336   0.257484   \n",
       "\n",
       "       resp_index  traffic_prox  npl_prox  rmp_prox  waste_prox      ozone  \\\n",
       "0             0.3    244.094471  0.125307  0.086791    1.313213  43.804595   \n",
       "1             0.3    402.408271  0.092864  0.228712    0.414198  42.045325   \n",
       "2             0.3    885.145986  0.172876  1.160913    0.825702  44.921961   \n",
       "3             0.5      0.026620  0.408759  0.128420    0.028133  38.430395   \n",
       "4             0.5   1055.238398  0.116735  0.517442    3.335104  48.547152   \n",
       "...           ...           ...       ...       ...         ...        ...   \n",
       "14639         0.4     48.350477  0.029632  0.871878    0.040546  39.027198   \n",
       "14640         0.2    117.476119  0.042640  0.045132    0.892260  41.704182   \n",
       "14641         0.3   1445.048769  0.144207  0.577823    1.428223  45.089852   \n",
       "14642         0.3    394.387992  0.236663  1.607285    0.945679  47.107778   \n",
       "14643         0.4    485.731514  0.344056  0.497793    0.636159  39.867061   \n",
       "\n",
       "           pm_25  undgrd_stor  \n",
       "0       7.439898     1.680509  \n",
       "1       7.491417    10.711699  \n",
       "2       7.734490     1.203185  \n",
       "3       8.820738     0.024831  \n",
       "4       9.451945     3.032293  \n",
       "...          ...          ...  \n",
       "14639   9.488393     1.539221  \n",
       "14640   6.029829     0.850917  \n",
       "14641   9.920975    30.780750  \n",
       "14642  10.104725     1.763924  \n",
       "14643   9.380495     1.475515  \n",
       "\n",
       "[73219 rows x 19 columns]"
      ]
     },
     "execution_count": 288,
     "metadata": {},
     "output_type": "execute_result"
    }
   ],
   "source": [
    "X_imputed"
   ]
  },
  {
   "cell_type": "code",
   "execution_count": 289,
   "id": "bf9a988d-c8c8-47c5-90a2-f4682d07fb26",
   "metadata": {},
   "outputs": [
    {
     "data": {
      "image/png": "[encoded data removed]",
      "text/plain": [
       "<Figure size 864x1152 with 3 Axes>"
      ]
     },
     "metadata": {
      "needs_background": "light"
     },
     "output_type": "display_data"
    }
   ],
   "source": [
    "cols_to_impute_2 = ['traffic_prox', 'ozone', 'pm_25']\n",
    "\n",
    "plt.figure(figsize = (12,16))\n",
    "\n",
    "for i in range(3):\n",
    "    plt.subplot(3,1,i+1)\n",
    "    col_name = cols_to_impute_2[i]\n",
    "    plt.title(f'{col_name}', size = 20)\n",
    "    plt.hist(X_imputed[col_name], bins = 40)\n",
    "    plt.axvline(X_imputed[col_name].mean(), color = 'red')\n",
    "    "
   ]
  },
  {
   "cell_type": "markdown",
   "id": "38979095-f62b-4da7-9cd4-9a80aafe31eb",
   "metadata": {},
   "source": [
    "---\n",
    "\n",
    "## For the Team"
   ]
  },
  {
   "cell_type": "markdown",
   "id": "05948cce-01d7-4115-9079-484b2f1337fb",
   "metadata": {},
   "source": [
    "Below is code showing that if we drop the null values outside of `waste_water`, we eliminate Puerto Rico, Hawaii, and Alaska from the entire dataset. These three territories seem to only be missing `ozone` and `pm_25` data."
   ]
  },
  {
   "cell_type": "code",
   "execution_count": 290,
   "id": "aa0625f7-81aa-4130-9c50-9dfed2605949",
   "metadata": {},
   "outputs": [
    {
     "ename": "KeyError",
     "evalue": "\"['waste_water'] not found in axis\"",
     "output_type": "error",
     "traceback": [
      "\u001b[1;31m---------------------------------------------------------------------------\u001b[0m",
      "\u001b[1;31mKeyError\u001b[0m                                  Traceback (most recent call last)",
      "Input \u001b[1;32mIn [290]\u001b[0m, in \u001b[0;36m<cell line: 6>\u001b[1;34m()\u001b[0m\n\u001b[0;32m      1\u001b[0m \u001b[38;5;66;03m# collect rows where there are any missing values\u001b[39;00m\n\u001b[0;32m      2\u001b[0m \u001b[38;5;66;03m# besides waste_water with 20,000 missing values\u001b[39;00m\n\u001b[0;32m      3\u001b[0m \n\u001b[0;32m      4\u001b[0m \u001b[38;5;66;03m# na_rows are the incdices of null values\u001b[39;00m\n\u001b[0;32m      5\u001b[0m \u001b[38;5;66;03m# has_na is the dataset containing null\u001b[39;00m\n\u001b[1;32m----> 6\u001b[0m na_rows \u001b[38;5;241m=\u001b[39m \u001b[43menv\u001b[49m\u001b[38;5;241;43m.\u001b[39;49m\u001b[43mselect_dtypes\u001b[49m\u001b[43m(\u001b[49m\u001b[43minclude\u001b[49m\u001b[43m \u001b[49m\u001b[38;5;241;43m=\u001b[39;49m\u001b[43m \u001b[49m\u001b[38;5;124;43m'\u001b[39;49m\u001b[38;5;124;43mnumber\u001b[39;49m\u001b[38;5;124;43m'\u001b[39;49m\u001b[43m)\u001b[49m\u001b[38;5;241;43m.\u001b[39;49m\u001b[43mdrop\u001b[49m\u001b[43m(\u001b[49m\u001b[43mcolumns\u001b[49m\u001b[43m \u001b[49m\u001b[38;5;241;43m=\u001b[39;49m\u001b[43m \u001b[49m\u001b[43m[\u001b[49m\u001b[38;5;124;43m'\u001b[39;49m\u001b[38;5;124;43mwaste_water\u001b[39;49m\u001b[38;5;124;43m'\u001b[39;49m\u001b[43m]\u001b[49m\u001b[43m)\u001b[49m\u001b[38;5;241m.\u001b[39misna()\u001b[38;5;241m.\u001b[39many(axis \u001b[38;5;241m=\u001b[39m \u001b[38;5;241m1\u001b[39m)\n\u001b[0;32m      7\u001b[0m has_na \u001b[38;5;241m=\u001b[39m env[na_rows]\n",
      "File \u001b[1;32m~\\anaconda3\\lib\\site-packages\\pandas\\util\\_decorators.py:311\u001b[0m, in \u001b[0;36mdeprecate_nonkeyword_arguments.<locals>.decorate.<locals>.wrapper\u001b[1;34m(*args, **kwargs)\u001b[0m\n\u001b[0;32m    305\u001b[0m \u001b[38;5;28;01mif\u001b[39;00m \u001b[38;5;28mlen\u001b[39m(args) \u001b[38;5;241m>\u001b[39m num_allow_args:\n\u001b[0;32m    306\u001b[0m     warnings\u001b[38;5;241m.\u001b[39mwarn(\n\u001b[0;32m    307\u001b[0m         msg\u001b[38;5;241m.\u001b[39mformat(arguments\u001b[38;5;241m=\u001b[39marguments),\n\u001b[0;32m    308\u001b[0m         \u001b[38;5;167;01mFutureWarning\u001b[39;00m,\n\u001b[0;32m    309\u001b[0m         stacklevel\u001b[38;5;241m=\u001b[39mstacklevel,\n\u001b[0;32m    310\u001b[0m     )\n\u001b[1;32m--> 311\u001b[0m \u001b[38;5;28;01mreturn\u001b[39;00m func(\u001b[38;5;241m*\u001b[39margs, \u001b[38;5;241m*\u001b[39m\u001b[38;5;241m*\u001b[39mkwargs)\n",
      "File \u001b[1;32m~\\anaconda3\\lib\\site-packages\\pandas\\core\\frame.py:4954\u001b[0m, in \u001b[0;36mDataFrame.drop\u001b[1;34m(self, labels, axis, index, columns, level, inplace, errors)\u001b[0m\n\u001b[0;32m   4806\u001b[0m \u001b[38;5;129m@deprecate_nonkeyword_arguments\u001b[39m(version\u001b[38;5;241m=\u001b[39m\u001b[38;5;28;01mNone\u001b[39;00m, allowed_args\u001b[38;5;241m=\u001b[39m[\u001b[38;5;124m\"\u001b[39m\u001b[38;5;124mself\u001b[39m\u001b[38;5;124m\"\u001b[39m, \u001b[38;5;124m\"\u001b[39m\u001b[38;5;124mlabels\u001b[39m\u001b[38;5;124m\"\u001b[39m])\n\u001b[0;32m   4807\u001b[0m \u001b[38;5;28;01mdef\u001b[39;00m \u001b[38;5;21mdrop\u001b[39m(\n\u001b[0;32m   4808\u001b[0m     \u001b[38;5;28mself\u001b[39m,\n\u001b[1;32m   (...)\u001b[0m\n\u001b[0;32m   4815\u001b[0m     errors: \u001b[38;5;28mstr\u001b[39m \u001b[38;5;241m=\u001b[39m \u001b[38;5;124m\"\u001b[39m\u001b[38;5;124mraise\u001b[39m\u001b[38;5;124m\"\u001b[39m,\n\u001b[0;32m   4816\u001b[0m ):\n\u001b[0;32m   4817\u001b[0m     \u001b[38;5;124;03m\"\"\"\u001b[39;00m\n\u001b[0;32m   4818\u001b[0m \u001b[38;5;124;03m    Drop specified labels from rows or columns.\u001b[39;00m\n\u001b[0;32m   4819\u001b[0m \n\u001b[1;32m   (...)\u001b[0m\n\u001b[0;32m   4952\u001b[0m \u001b[38;5;124;03m            weight  1.0     0.8\u001b[39;00m\n\u001b[0;32m   4953\u001b[0m \u001b[38;5;124;03m    \"\"\"\u001b[39;00m\n\u001b[1;32m-> 4954\u001b[0m     \u001b[38;5;28;01mreturn\u001b[39;00m \u001b[38;5;28;43msuper\u001b[39;49m\u001b[43m(\u001b[49m\u001b[43m)\u001b[49m\u001b[38;5;241;43m.\u001b[39;49m\u001b[43mdrop\u001b[49m\u001b[43m(\u001b[49m\n\u001b[0;32m   4955\u001b[0m \u001b[43m        \u001b[49m\u001b[43mlabels\u001b[49m\u001b[38;5;241;43m=\u001b[39;49m\u001b[43mlabels\u001b[49m\u001b[43m,\u001b[49m\n\u001b[0;32m   4956\u001b[0m \u001b[43m        \u001b[49m\u001b[43maxis\u001b[49m\u001b[38;5;241;43m=\u001b[39;49m\u001b[43maxis\u001b[49m\u001b[43m,\u001b[49m\n\u001b[0;32m   4957\u001b[0m \u001b[43m        \u001b[49m\u001b[43mindex\u001b[49m\u001b[38;5;241;43m=\u001b[39;49m\u001b[43mindex\u001b[49m\u001b[43m,\u001b[49m\n\u001b[0;32m   4958\u001b[0m \u001b[43m        \u001b[49m\u001b[43mcolumns\u001b[49m\u001b[38;5;241;43m=\u001b[39;49m\u001b[43mcolumns\u001b[49m\u001b[43m,\u001b[49m\n\u001b[0;32m   4959\u001b[0m \u001b[43m        \u001b[49m\u001b[43mlevel\u001b[49m\u001b[38;5;241;43m=\u001b[39;49m\u001b[43mlevel\u001b[49m\u001b[43m,\u001b[49m\n\u001b[0;32m   4960\u001b[0m \u001b[43m        \u001b[49m\u001b[43minplace\u001b[49m\u001b[38;5;241;43m=\u001b[39;49m\u001b[43minplace\u001b[49m\u001b[43m,\u001b[49m\n\u001b[0;32m   4961\u001b[0m \u001b[43m        \u001b[49m\u001b[43merrors\u001b[49m\u001b[38;5;241;43m=\u001b[39;49m\u001b[43merrors\u001b[49m\u001b[43m,\u001b[49m\n\u001b[0;32m   4962\u001b[0m \u001b[43m    \u001b[49m\u001b[43m)\u001b[49m\n",
      "File \u001b[1;32m~\\anaconda3\\lib\\site-packages\\pandas\\core\\generic.py:4267\u001b[0m, in \u001b[0;36mNDFrame.drop\u001b[1;34m(self, labels, axis, index, columns, level, inplace, errors)\u001b[0m\n\u001b[0;32m   4265\u001b[0m \u001b[38;5;28;01mfor\u001b[39;00m axis, labels \u001b[38;5;129;01min\u001b[39;00m axes\u001b[38;5;241m.\u001b[39mitems():\n\u001b[0;32m   4266\u001b[0m     \u001b[38;5;28;01mif\u001b[39;00m labels \u001b[38;5;129;01mis\u001b[39;00m \u001b[38;5;129;01mnot\u001b[39;00m \u001b[38;5;28;01mNone\u001b[39;00m:\n\u001b[1;32m-> 4267\u001b[0m         obj \u001b[38;5;241m=\u001b[39m \u001b[43mobj\u001b[49m\u001b[38;5;241;43m.\u001b[39;49m\u001b[43m_drop_axis\u001b[49m\u001b[43m(\u001b[49m\u001b[43mlabels\u001b[49m\u001b[43m,\u001b[49m\u001b[43m \u001b[49m\u001b[43maxis\u001b[49m\u001b[43m,\u001b[49m\u001b[43m \u001b[49m\u001b[43mlevel\u001b[49m\u001b[38;5;241;43m=\u001b[39;49m\u001b[43mlevel\u001b[49m\u001b[43m,\u001b[49m\u001b[43m \u001b[49m\u001b[43merrors\u001b[49m\u001b[38;5;241;43m=\u001b[39;49m\u001b[43merrors\u001b[49m\u001b[43m)\u001b[49m\n\u001b[0;32m   4269\u001b[0m \u001b[38;5;28;01mif\u001b[39;00m inplace:\n\u001b[0;32m   4270\u001b[0m     \u001b[38;5;28mself\u001b[39m\u001b[38;5;241m.\u001b[39m_update_inplace(obj)\n",
      "File \u001b[1;32m~\\anaconda3\\lib\\site-packages\\pandas\\core\\generic.py:4311\u001b[0m, in \u001b[0;36mNDFrame._drop_axis\u001b[1;34m(self, labels, axis, level, errors, consolidate, only_slice)\u001b[0m\n\u001b[0;32m   4309\u001b[0m         new_axis \u001b[38;5;241m=\u001b[39m axis\u001b[38;5;241m.\u001b[39mdrop(labels, level\u001b[38;5;241m=\u001b[39mlevel, errors\u001b[38;5;241m=\u001b[39merrors)\n\u001b[0;32m   4310\u001b[0m     \u001b[38;5;28;01melse\u001b[39;00m:\n\u001b[1;32m-> 4311\u001b[0m         new_axis \u001b[38;5;241m=\u001b[39m \u001b[43maxis\u001b[49m\u001b[38;5;241;43m.\u001b[39;49m\u001b[43mdrop\u001b[49m\u001b[43m(\u001b[49m\u001b[43mlabels\u001b[49m\u001b[43m,\u001b[49m\u001b[43m \u001b[49m\u001b[43merrors\u001b[49m\u001b[38;5;241;43m=\u001b[39;49m\u001b[43merrors\u001b[49m\u001b[43m)\u001b[49m\n\u001b[0;32m   4312\u001b[0m     indexer \u001b[38;5;241m=\u001b[39m axis\u001b[38;5;241m.\u001b[39mget_indexer(new_axis)\n\u001b[0;32m   4314\u001b[0m \u001b[38;5;66;03m# Case for non-unique axis\u001b[39;00m\n\u001b[0;32m   4315\u001b[0m \u001b[38;5;28;01melse\u001b[39;00m:\n",
      "File \u001b[1;32m~\\anaconda3\\lib\\site-packages\\pandas\\core\\indexes\\base.py:6644\u001b[0m, in \u001b[0;36mIndex.drop\u001b[1;34m(self, labels, errors)\u001b[0m\n\u001b[0;32m   6642\u001b[0m \u001b[38;5;28;01mif\u001b[39;00m mask\u001b[38;5;241m.\u001b[39many():\n\u001b[0;32m   6643\u001b[0m     \u001b[38;5;28;01mif\u001b[39;00m errors \u001b[38;5;241m!=\u001b[39m \u001b[38;5;124m\"\u001b[39m\u001b[38;5;124mignore\u001b[39m\u001b[38;5;124m\"\u001b[39m:\n\u001b[1;32m-> 6644\u001b[0m         \u001b[38;5;28;01mraise\u001b[39;00m \u001b[38;5;167;01mKeyError\u001b[39;00m(\u001b[38;5;124mf\u001b[39m\u001b[38;5;124m\"\u001b[39m\u001b[38;5;132;01m{\u001b[39;00m\u001b[38;5;28mlist\u001b[39m(labels[mask])\u001b[38;5;132;01m}\u001b[39;00m\u001b[38;5;124m not found in axis\u001b[39m\u001b[38;5;124m\"\u001b[39m)\n\u001b[0;32m   6645\u001b[0m     indexer \u001b[38;5;241m=\u001b[39m indexer[\u001b[38;5;241m~\u001b[39mmask]\n\u001b[0;32m   6646\u001b[0m \u001b[38;5;28;01mreturn\u001b[39;00m \u001b[38;5;28mself\u001b[39m\u001b[38;5;241m.\u001b[39mdelete(indexer)\n",
      "\u001b[1;31mKeyError\u001b[0m: \"['waste_water'] not found in axis\""
     ]
    }
   ],
   "source": [
    "# collect rows where there are any missing values\n",
    "# besides waste_water with 20,000 missing values\n",
    "\n",
    "# na_rows are the incdices of null values\n",
    "# has_na is the dataset containing null\n",
    "na_rows = env.select_dtypes(include = 'number').drop(columns = ['waste_water']).isna().any(axis = 1)\n",
    "has_na = env[na_rows]"
   ]
  },
  {
   "cell_type": "code",
   "execution_count": 291,
   "id": "0db473d9-f6bf-4202-98c3-ddfd234b9c97",
   "metadata": {},
   "outputs": [
    {
     "ename": "NameError",
     "evalue": "name 'has_na' is not defined",
     "output_type": "error",
     "traceback": [
      "\u001b[1;31m---------------------------------------------------------------------------\u001b[0m",
      "\u001b[1;31mNameError\u001b[0m                                 Traceback (most recent call last)",
      "Input \u001b[1;32mIn [291]\u001b[0m, in \u001b[0;36m<cell line: 2>\u001b[1;34m()\u001b[0m\n\u001b[0;32m      1\u001b[0m \u001b[38;5;66;03m# 10 states with the most null values in the dataset currently\u001b[39;00m\n\u001b[1;32m----> 2\u001b[0m null_states \u001b[38;5;241m=\u001b[39m \u001b[43mhas_na\u001b[49m[\u001b[38;5;124m'\u001b[39m\u001b[38;5;124mst_abbrev\u001b[39m\u001b[38;5;124m'\u001b[39m]\u001b[38;5;241m.\u001b[39mvalue_counts()\u001b[38;5;241m.\u001b[39mhead(\u001b[38;5;241m10\u001b[39m)\u001b[38;5;241m.\u001b[39mindex\n\u001b[0;32m      3\u001b[0m has_na[\u001b[38;5;124m'\u001b[39m\u001b[38;5;124mst_abbrev\u001b[39m\u001b[38;5;124m'\u001b[39m]\u001b[38;5;241m.\u001b[39mvalue_counts()\u001b[38;5;241m.\u001b[39mhead(\u001b[38;5;241m10\u001b[39m)\n",
      "\u001b[1;31mNameError\u001b[0m: name 'has_na' is not defined"
     ]
    }
   ],
   "source": [
    "# 10 states with the most null values in the dataset currently\n",
    "null_states = has_na['st_abbrev'].value_counts().head(10).index\n",
    "has_na['st_abbrev'].value_counts().head(10)"
   ]
  },
  {
   "cell_type": "code",
   "execution_count": 292,
   "id": "b368a5d4-c737-4e49-a0db-76ba1fa75ec6",
   "metadata": {},
   "outputs": [
    {
     "ename": "NameError",
     "evalue": "name 'null_states' is not defined",
     "output_type": "error",
     "traceback": [
      "\u001b[1;31m---------------------------------------------------------------------------\u001b[0m",
      "\u001b[1;31mNameError\u001b[0m                                 Traceback (most recent call last)",
      "Input \u001b[1;32mIn [292]\u001b[0m, in \u001b[0;36m<cell line: 2>\u001b[1;34m()\u001b[0m\n\u001b[0;32m      1\u001b[0m \u001b[38;5;66;03m# the total number of appearances of these states in the entire dataset\u001b[39;00m\n\u001b[1;32m----> 2\u001b[0m env[\u001b[38;5;124m'\u001b[39m\u001b[38;5;124mst_abbrev\u001b[39m\u001b[38;5;124m'\u001b[39m]\u001b[38;5;241m.\u001b[39mvalue_counts()[\u001b[43mnull_states\u001b[49m]\n",
      "\u001b[1;31mNameError\u001b[0m: name 'null_states' is not defined"
     ]
    }
   ],
   "source": [
    "# the total number of appearances of these states in the entire dataset\n",
    "env['st_abbrev'].value_counts()[null_states]"
   ]
  },
  {
   "cell_type": "markdown",
   "id": "6d871ab8-8a7a-4902-8717-89e9145cad36",
   "metadata": {},
   "source": [
    "Another thing to note about these three groups is that their nulls are primarily located in in the `ozone` and `pm_25` columns."
   ]
  },
  {
   "cell_type": "code",
   "execution_count": 293,
   "id": "f4566a11-8518-4ce4-a69e-49c70c7c4fff",
   "metadata": {
    "scrolled": true
   },
   "outputs": [
    {
     "name": "stdout",
     "output_type": "stream",
     "text": [
      "PR\n",
      "st_name           0\n",
      "st_abbrev         0\n",
      "region            0\n",
      "pop               0\n",
      "poc_pct           0\n",
      "low_inc_pct       0\n",
      "sub_hs_pct        0\n",
      "ling_iso_pct      0\n",
      "under_5_pct       0\n",
      "over_64_pct       0\n",
      "unemp_pct         0\n",
      "pre_1960_pct      0\n",
      "diesel_pm         0\n",
      "cancer            0\n",
      "resp_index        0\n",
      "traffic_prox      7\n",
      "npl_prox          0\n",
      "rmp_prox          0\n",
      "waste_prox        0\n",
      "ozone           884\n",
      "pm_25           884\n",
      "undgrd_stor       0\n",
      "dtype: int64 \n",
      "\n",
      "\n",
      "HI\n",
      "st_name           0\n",
      "st_abbrev         0\n",
      "region            0\n",
      "pop               0\n",
      "poc_pct           0\n",
      "low_inc_pct       0\n",
      "sub_hs_pct        0\n",
      "ling_iso_pct      0\n",
      "under_5_pct       0\n",
      "over_64_pct       0\n",
      "unemp_pct         0\n",
      "pre_1960_pct      0\n",
      "diesel_pm         0\n",
      "cancer            0\n",
      "resp_index        0\n",
      "traffic_prox      9\n",
      "npl_prox          0\n",
      "rmp_prox          0\n",
      "waste_prox        0\n",
      "ozone           313\n",
      "pm_25           313\n",
      "undgrd_stor       0\n",
      "dtype: int64 \n",
      "\n",
      "\n",
      "AK\n",
      "st_name           0\n",
      "st_abbrev         0\n",
      "region            0\n",
      "pop               0\n",
      "poc_pct           0\n",
      "low_inc_pct       0\n",
      "sub_hs_pct        0\n",
      "ling_iso_pct      0\n",
      "under_5_pct       0\n",
      "over_64_pct       0\n",
      "unemp_pct         0\n",
      "pre_1960_pct      0\n",
      "diesel_pm         0\n",
      "cancer            0\n",
      "resp_index        0\n",
      "traffic_prox     32\n",
      "npl_prox          0\n",
      "rmp_prox          0\n",
      "waste_prox        0\n",
      "ozone           166\n",
      "pm_25           166\n",
      "undgrd_stor       0\n",
      "dtype: int64 \n",
      "\n",
      "\n"
     ]
    }
   ],
   "source": [
    "for territory in ['PR', 'HI', 'AK']:\n",
    "    print(territory)\n",
    "    print(env[env['st_abbrev'] == territory].isnull().sum(), '\\n\\n')"
   ]
  },
  {
   "cell_type": "markdown",
   "id": "1354b9aa",
   "metadata": {},
   "source": [
    "----"
   ]
  },
  {
   "cell_type": "code",
   "execution_count": null,
   "id": "075b565f",
   "metadata": {},
   "outputs": [],
   "source": []
  }
 ],
 "metadata": {
  "kernelspec": {
   "display_name": "Python 3 (ipykernel)",
   "language": "python",
   "name": "python3"
  },
  "language_info": {
   "codemirror_mode": {
    "name": "ipython",
    "version": 3
   },
   "file_extension": ".py",
   "mimetype": "text/x-python",
   "name": "python",
   "nbconvert_exporter": "python",
   "pygments_lexer": "ipython3",
   "version": "3.9.12"
  }
 },
 "nbformat": 4,
 "nbformat_minor": 5
}
