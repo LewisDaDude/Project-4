{
 "cells": [
  {
   "cell_type": "markdown",
   "id": "2267d5bb",
   "metadata": {},
   "source": [
    "### Import"
   ]
  },
  {
   "cell_type": "code",
   "execution_count": 1,
   "id": "6f84932d",
   "metadata": {},
   "outputs": [],
   "source": [
    "import pandas as pd\n",
    "import numpy as np\n",
    "import seaborn as sns\n",
    "import matplotlib.pyplot as plt\n",
    "\n",
    "from sklearn.model_selection import train_test_split \n",
    "from sklearn.impute import SimpleImputer\n",
    "\n",
    "from sklearn.experimental import enable_iterative_imputer \n",
    "from sklearn.impute import IterativeImputer\n",
    "from sklearn.linear_model import LinearRegression"
   ]
  },
  {
   "cell_type": "code",
   "execution_count": 2,
   "id": "142c5769",
   "metadata": {},
   "outputs": [
    {
     "name": "stderr",
     "output_type": "stream",
     "text": [
      "C:\\Users\\Vishnu\\AppData\\Local\\Temp\\ipykernel_2868\\2867063085.py:1: DtypeWarning: Columns (128,129,130,131) have mixed types. Specify dtype option on import or set low_memory=False.\n",
      "  df = pd.read_csv('./EJSCREEN_2021_StatePctile_Tracts.csv')\n"
     ]
    },
    {
     "data": {
      "text/html": [
       "<div>\n",
       "<style scoped>\n",
       "    .dataframe tbody tr th:only-of-type {\n",
       "        vertical-align: middle;\n",
       "    }\n",
       "\n",
       "    .dataframe tbody tr th {\n",
       "        vertical-align: top;\n",
       "    }\n",
       "\n",
       "    .dataframe thead th {\n",
       "        text-align: right;\n",
       "    }\n",
       "</style>\n",
       "<table border=\"1\" class=\"dataframe\">\n",
       "  <thead>\n",
       "    <tr style=\"text-align: right;\">\n",
       "      <th></th>\n",
       "      <th>OBJECTID</th>\n",
       "      <th>ID</th>\n",
       "      <th>STATE_NAME</th>\n",
       "      <th>ST_ABBREV</th>\n",
       "      <th>REGION</th>\n",
       "      <th>ACSTOTPOP</th>\n",
       "      <th>MINORPCT</th>\n",
       "      <th>B_MINORPCT</th>\n",
       "      <th>P_MINORPCT</th>\n",
       "      <th>LOWINCPCT</th>\n",
       "      <th>...</th>\n",
       "      <th>T_PTSDF</th>\n",
       "      <th>T_PTSDF_D2</th>\n",
       "      <th>T_OZONE</th>\n",
       "      <th>T_OZONE_D2</th>\n",
       "      <th>T_PM25</th>\n",
       "      <th>T_PM25_D2</th>\n",
       "      <th>T_UST</th>\n",
       "      <th>T_UST_D2</th>\n",
       "      <th>Shape_Length</th>\n",
       "      <th>Shape_Area</th>\n",
       "    </tr>\n",
       "  </thead>\n",
       "  <tbody>\n",
       "    <tr>\n",
       "      <th>0</th>\n",
       "      <td>1</td>\n",
       "      <td>1001020100</td>\n",
       "      <td>Alabama</td>\n",
       "      <td>AL</td>\n",
       "      <td>4</td>\n",
       "      <td>1993</td>\n",
       "      <td>0.167587</td>\n",
       "      <td>4</td>\n",
       "      <td>30.0</td>\n",
       "      <td>0.274962</td>\n",
       "      <td>...</td>\n",
       "      <td>0.5 facilities/km distance (54%ile)</td>\n",
       "      <td>33%ile</td>\n",
       "      <td>37 ppb (24%ile)</td>\n",
       "      <td>49%ile</td>\n",
       "      <td>9.15 ug/m3 (75%ile)</td>\n",
       "      <td>48%ile</td>\n",
       "      <td>0.41 facilities/sq km area (35%ile)</td>\n",
       "      <td>44%ile</td>\n",
       "      <td>19197.315791</td>\n",
       "      <td>1.387495e+07</td>\n",
       "    </tr>\n",
       "    <tr>\n",
       "      <th>1</th>\n",
       "      <td>2</td>\n",
       "      <td>1001020200</td>\n",
       "      <td>Alabama</td>\n",
       "      <td>AL</td>\n",
       "      <td>4</td>\n",
       "      <td>1959</td>\n",
       "      <td>0.617152</td>\n",
       "      <td>9</td>\n",
       "      <td>82.0</td>\n",
       "      <td>0.435927</td>\n",
       "      <td>...</td>\n",
       "      <td>0.82 facilities/km distance (65%ile)</td>\n",
       "      <td>78%ile</td>\n",
       "      <td>37 ppb (25%ile)</td>\n",
       "      <td>73%ile</td>\n",
       "      <td>9.18 ug/m3 (76%ile)</td>\n",
       "      <td>73%ile</td>\n",
       "      <td>2.5 facilities/sq km area (77%ile)</td>\n",
       "      <td>79%ile</td>\n",
       "      <td>11652.054724</td>\n",
       "      <td>4.694106e+06</td>\n",
       "    </tr>\n",
       "    <tr>\n",
       "      <th>2</th>\n",
       "      <td>3</td>\n",
       "      <td>1001020300</td>\n",
       "      <td>Alabama</td>\n",
       "      <td>AL</td>\n",
       "      <td>4</td>\n",
       "      <td>3507</td>\n",
       "      <td>0.348446</td>\n",
       "      <td>7</td>\n",
       "      <td>62.0</td>\n",
       "      <td>0.293128</td>\n",
       "      <td>...</td>\n",
       "      <td>1.3 facilities/km distance (77%ile)</td>\n",
       "      <td>31%ile</td>\n",
       "      <td>37.1 ppb (26%ile)</td>\n",
       "      <td>56%ile</td>\n",
       "      <td>9.21 ug/m3 (77%ile)</td>\n",
       "      <td>55%ile</td>\n",
       "      <td>2 facilities/sq km area (71%ile)</td>\n",
       "      <td>33%ile</td>\n",
       "      <td>12474.647834</td>\n",
       "      <td>7.550455e+06</td>\n",
       "    </tr>\n",
       "    <tr>\n",
       "      <th>3</th>\n",
       "      <td>4</td>\n",
       "      <td>1001020400</td>\n",
       "      <td>Alabama</td>\n",
       "      <td>AL</td>\n",
       "      <td>4</td>\n",
       "      <td>3878</td>\n",
       "      <td>0.103146</td>\n",
       "      <td>2</td>\n",
       "      <td>15.0</td>\n",
       "      <td>0.216864</td>\n",
       "      <td>...</td>\n",
       "      <td>2.1 facilities/km distance (89%ile)</td>\n",
       "      <td>4%ile</td>\n",
       "      <td>37.1 ppb (27%ile)</td>\n",
       "      <td>26%ile</td>\n",
       "      <td>9.23 ug/m3 (78%ile)</td>\n",
       "      <td>23%ile</td>\n",
       "      <td>3.4 facilities/sq km area (84%ile)</td>\n",
       "      <td>2%ile</td>\n",
       "      <td>14839.595823</td>\n",
       "      <td>9.007288e+06</td>\n",
       "    </tr>\n",
       "    <tr>\n",
       "      <th>4</th>\n",
       "      <td>5</td>\n",
       "      <td>1001020500</td>\n",
       "      <td>Alabama</td>\n",
       "      <td>AL</td>\n",
       "      <td>4</td>\n",
       "      <td>10596</td>\n",
       "      <td>0.290959</td>\n",
       "      <td>6</td>\n",
       "      <td>54.0</td>\n",
       "      <td>0.203222</td>\n",
       "      <td>...</td>\n",
       "      <td>1.1 facilities/km distance (72%ile)</td>\n",
       "      <td>6%ile</td>\n",
       "      <td>37.1 ppb (28%ile)</td>\n",
       "      <td>14%ile</td>\n",
       "      <td>9.24 ug/m3 (79%ile)</td>\n",
       "      <td>11%ile</td>\n",
       "      <td>2.2 facilities/sq km area (74%ile)</td>\n",
       "      <td>2%ile</td>\n",
       "      <td>20306.660651</td>\n",
       "      <td>1.613176e+07</td>\n",
       "    </tr>\n",
       "  </tbody>\n",
       "</table>\n",
       "<p>5 rows × 136 columns</p>\n",
       "</div>"
      ],
      "text/plain": [
       "   OBJECTID          ID STATE_NAME ST_ABBREV  REGION  ACSTOTPOP  MINORPCT  \\\n",
       "0         1  1001020100    Alabama        AL       4       1993  0.167587   \n",
       "1         2  1001020200    Alabama        AL       4       1959  0.617152   \n",
       "2         3  1001020300    Alabama        AL       4       3507  0.348446   \n",
       "3         4  1001020400    Alabama        AL       4       3878  0.103146   \n",
       "4         5  1001020500    Alabama        AL       4      10596  0.290959   \n",
       "\n",
       "   B_MINORPCT  P_MINORPCT  LOWINCPCT  ...  \\\n",
       "0           4        30.0   0.274962  ...   \n",
       "1           9        82.0   0.435927  ...   \n",
       "2           7        62.0   0.293128  ...   \n",
       "3           2        15.0   0.216864  ...   \n",
       "4           6        54.0   0.203222  ...   \n",
       "\n",
       "                                T_PTSDF  T_PTSDF_D2            T_OZONE  \\\n",
       "0   0.5 facilities/km distance (54%ile)      33%ile    37 ppb (24%ile)   \n",
       "1  0.82 facilities/km distance (65%ile)      78%ile    37 ppb (25%ile)   \n",
       "2   1.3 facilities/km distance (77%ile)      31%ile  37.1 ppb (26%ile)   \n",
       "3   2.1 facilities/km distance (89%ile)       4%ile  37.1 ppb (27%ile)   \n",
       "4   1.1 facilities/km distance (72%ile)       6%ile  37.1 ppb (28%ile)   \n",
       "\n",
       "   T_OZONE_D2               T_PM25  T_PM25_D2  \\\n",
       "0      49%ile  9.15 ug/m3 (75%ile)     48%ile   \n",
       "1      73%ile  9.18 ug/m3 (76%ile)     73%ile   \n",
       "2      56%ile  9.21 ug/m3 (77%ile)     55%ile   \n",
       "3      26%ile  9.23 ug/m3 (78%ile)     23%ile   \n",
       "4      14%ile  9.24 ug/m3 (79%ile)     11%ile   \n",
       "\n",
       "                                 T_UST  T_UST_D2  Shape_Length    Shape_Area  \n",
       "0  0.41 facilities/sq km area (35%ile)    44%ile  19197.315791  1.387495e+07  \n",
       "1   2.5 facilities/sq km area (77%ile)    79%ile  11652.054724  4.694106e+06  \n",
       "2     2 facilities/sq km area (71%ile)    33%ile  12474.647834  7.550455e+06  \n",
       "3   3.4 facilities/sq km area (84%ile)     2%ile  14839.595823  9.007288e+06  \n",
       "4   2.2 facilities/sq km area (74%ile)     2%ile  20306.660651  1.613176e+07  \n",
       "\n",
       "[5 rows x 136 columns]"
      ]
     },
     "execution_count": 2,
     "metadata": {},
     "output_type": "execute_result"
    }
   ],
   "source": [
    "df = pd.read_csv('./EJSCREEN_2021_StatePctile_Tracts.csv')\n",
    "df.head()"
   ]
  },
  {
   "cell_type": "code",
   "execution_count": 3,
   "id": "75a958cf",
   "metadata": {},
   "outputs": [
    {
     "data": {
      "text/plain": [
       "(74001, 136)"
      ]
     },
     "execution_count": 3,
     "metadata": {},
     "output_type": "execute_result"
    }
   ],
   "source": [
    "df.shape"
   ]
  },
  {
   "cell_type": "markdown",
   "id": "053df519",
   "metadata": {},
   "source": [
    "### Data Cleaning"
   ]
  },
  {
   "cell_type": "code",
   "execution_count": 4,
   "id": "363d0519",
   "metadata": {},
   "outputs": [
    {
     "data": {
      "text/plain": [
       "OBJECTID           0\n",
       "ID                 0\n",
       "STATE_NAME         0\n",
       "ST_ABBREV          0\n",
       "REGION             0\n",
       "                ... \n",
       "T_PM25_D2       1718\n",
       "T_UST              0\n",
       "T_UST_D2           0\n",
       "Shape_Length       0\n",
       "Shape_Area         0\n",
       "Length: 136, dtype: int64"
      ]
     },
     "execution_count": 4,
     "metadata": {},
     "output_type": "execute_result"
    }
   ],
   "source": [
    "df.isnull().sum()"
   ]
  },
  {
   "cell_type": "code",
   "execution_count": 5,
   "id": "a09374cc",
   "metadata": {},
   "outputs": [],
   "source": [
    "my_list = [i for i in df.columns if (i.startswith(\"B_\") or i.startswith('P_') or i.startswith(\"T_\") or i.startswith(\"D_\"))]\n",
    "\n",
    "df.drop(columns = my_list, inplace = True)"
   ]
  },
  {
   "cell_type": "code",
   "execution_count": 7,
   "id": "93b8f2d5",
   "metadata": {},
   "outputs": [
    {
     "data": {
      "text/plain": [
       "Index(['OBJECTID', 'ID', 'STATE_NAME', 'ST_ABBREV', 'REGION', 'ACSTOTPOP',\n",
       "       'MINORPCT', 'LOWINCPCT', 'LESSHSPCT', 'LINGISOPCT', 'UNDER5PCT',\n",
       "       'OVER64PCT', 'UNEMPPCT', 'VULEOPCT', 'PRE1960PCT', 'DSLPM', 'CANCER',\n",
       "       'RESP', 'PTRAF', 'PWDIS', 'PNPL', 'PRMP', 'PTSDF', 'OZONE', 'PM25',\n",
       "       'UST', 'Shape_Length', 'Shape_Area'],\n",
       "      dtype='object')"
      ]
     },
     "execution_count": 7,
     "metadata": {},
     "output_type": "execute_result"
    }
   ],
   "source": [
    "df.columns"
   ]
  },
  {
   "cell_type": "code",
   "execution_count": 9,
   "id": "83a13c3d",
   "metadata": {},
   "outputs": [
    {
     "data": {
      "text/plain": [
       "OBJECTID            0\n",
       "ID                  0\n",
       "STATE_NAME          0\n",
       "ST_ABBREV           0\n",
       "REGION              0\n",
       "ACSTOTPOP           0\n",
       "MINORPCT            0\n",
       "LOWINCPCT           0\n",
       "LESSHSPCT           0\n",
       "LINGISOPCT          0\n",
       "UNDER5PCT           0\n",
       "OVER64PCT           0\n",
       "UNEMPPCT            0\n",
       "VULEOPCT            0\n",
       "PRE1960PCT          0\n",
       "DSLPM             581\n",
       "CANCER            581\n",
       "RESP              581\n",
       "PTRAF            2678\n",
       "PWDIS           19979\n",
       "PNPL                0\n",
       "PRMP                0\n",
       "PTSDF               0\n",
       "OZONE            1718\n",
       "PM25             1718\n",
       "UST                 0\n",
       "Shape_Length        0\n",
       "Shape_Area          0\n",
       "dtype: int64"
      ]
     },
     "execution_count": 9,
     "metadata": {},
     "output_type": "execute_result"
    }
   ],
   "source": [
    "df.isnull().sum()"
   ]
  },
  {
   "cell_type": "code",
   "execution_count": 13,
   "id": "31547b13",
   "metadata": {},
   "outputs": [],
   "source": [
    "df.dropna(subset = ['CANCER','OZONE', 'PM25', 'PTRAF'], inplace = True)"
   ]
  },
  {
   "cell_type": "code",
   "execution_count": 14,
   "id": "e980734f",
   "metadata": {},
   "outputs": [
    {
     "data": {
      "text/plain": [
       "OBJECTID            0\n",
       "ID                  0\n",
       "STATE_NAME          0\n",
       "ST_ABBREV           0\n",
       "REGION              0\n",
       "ACSTOTPOP           0\n",
       "MINORPCT            0\n",
       "LOWINCPCT           0\n",
       "LESSHSPCT           0\n",
       "LINGISOPCT          0\n",
       "UNDER5PCT           0\n",
       "OVER64PCT           0\n",
       "UNEMPPCT            0\n",
       "VULEOPCT            0\n",
       "PRE1960PCT          0\n",
       "DSLPM               0\n",
       "CANCER              0\n",
       "RESP                0\n",
       "PTRAF               0\n",
       "PWDIS           18447\n",
       "PNPL                0\n",
       "PRMP                0\n",
       "PTSDF               0\n",
       "OZONE               0\n",
       "PM25                0\n",
       "UST                 0\n",
       "Shape_Length        0\n",
       "Shape_Area          0\n",
       "dtype: int64"
      ]
     },
     "execution_count": 14,
     "metadata": {},
     "output_type": "execute_result"
    }
   ],
   "source": [
    "df.isnull().sum()"
   ]
  },
  {
   "cell_type": "code",
   "execution_count": 15,
   "id": "5755f351",
   "metadata": {},
   "outputs": [],
   "source": [
    "df.drop([29244], inplace = True)"
   ]
  },
  {
   "cell_type": "code",
   "execution_count": 16,
   "id": "f52a8843",
   "metadata": {},
   "outputs": [
    {
     "data": {
      "text/html": [
       "<div>\n",
       "<style scoped>\n",
       "    .dataframe tbody tr th:only-of-type {\n",
       "        vertical-align: middle;\n",
       "    }\n",
       "\n",
       "    .dataframe tbody tr th {\n",
       "        vertical-align: top;\n",
       "    }\n",
       "\n",
       "    .dataframe thead th {\n",
       "        text-align: right;\n",
       "    }\n",
       "</style>\n",
       "<table border=\"1\" class=\"dataframe\">\n",
       "  <thead>\n",
       "    <tr style=\"text-align: right;\">\n",
       "      <th></th>\n",
       "      <th>ACSTOTPOP</th>\n",
       "      <th>MINORPCT</th>\n",
       "      <th>LOWINCPCT</th>\n",
       "      <th>LESSHSPCT</th>\n",
       "      <th>LINGISOPCT</th>\n",
       "      <th>UNDER5PCT</th>\n",
       "      <th>OVER64PCT</th>\n",
       "      <th>UNEMPPCT</th>\n",
       "      <th>VULEOPCT</th>\n",
       "      <th>PRE1960PCT</th>\n",
       "      <th>...</th>\n",
       "      <th>PTRAF</th>\n",
       "      <th>PWDIS</th>\n",
       "      <th>PNPL</th>\n",
       "      <th>PRMP</th>\n",
       "      <th>PTSDF</th>\n",
       "      <th>OZONE</th>\n",
       "      <th>PM25</th>\n",
       "      <th>UST</th>\n",
       "      <th>Shape_Length</th>\n",
       "      <th>Shape_Area</th>\n",
       "    </tr>\n",
       "  </thead>\n",
       "  <tbody>\n",
       "    <tr>\n",
       "      <th>106</th>\n",
       "      <td>0</td>\n",
       "      <td>0.0</td>\n",
       "      <td>0.0</td>\n",
       "      <td>0.0</td>\n",
       "      <td>0.0</td>\n",
       "      <td>0.0</td>\n",
       "      <td>0.0</td>\n",
       "      <td>0.0</td>\n",
       "      <td>0.0</td>\n",
       "      <td>0.0</td>\n",
       "      <td>...</td>\n",
       "      <td>273.356438</td>\n",
       "      <td>NaN</td>\n",
       "      <td>0.191795</td>\n",
       "      <td>0.713762</td>\n",
       "      <td>0.266671</td>\n",
       "      <td>40.234862</td>\n",
       "      <td>9.086799</td>\n",
       "      <td>0.000000</td>\n",
       "      <td>41156.771145</td>\n",
       "      <td>9.104656e+07</td>\n",
       "    </tr>\n",
       "    <tr>\n",
       "      <th>1063</th>\n",
       "      <td>0</td>\n",
       "      <td>0.0</td>\n",
       "      <td>0.0</td>\n",
       "      <td>0.0</td>\n",
       "      <td>0.0</td>\n",
       "      <td>0.0</td>\n",
       "      <td>0.0</td>\n",
       "      <td>0.0</td>\n",
       "      <td>0.0</td>\n",
       "      <td>0.0</td>\n",
       "      <td>...</td>\n",
       "      <td>104.972995</td>\n",
       "      <td>3.755846e-04</td>\n",
       "      <td>0.037987</td>\n",
       "      <td>0.158071</td>\n",
       "      <td>0.584650</td>\n",
       "      <td>41.572090</td>\n",
       "      <td>9.719191</td>\n",
       "      <td>0.000000</td>\n",
       "      <td>52092.977874</td>\n",
       "      <td>5.187702e+07</td>\n",
       "    </tr>\n",
       "    <tr>\n",
       "      <th>1857</th>\n",
       "      <td>0</td>\n",
       "      <td>0.0</td>\n",
       "      <td>0.0</td>\n",
       "      <td>0.0</td>\n",
       "      <td>0.0</td>\n",
       "      <td>0.0</td>\n",
       "      <td>0.0</td>\n",
       "      <td>0.0</td>\n",
       "      <td>0.0</td>\n",
       "      <td>0.0</td>\n",
       "      <td>...</td>\n",
       "      <td>402.454515</td>\n",
       "      <td>6.650353e-02</td>\n",
       "      <td>0.239563</td>\n",
       "      <td>3.564415</td>\n",
       "      <td>9.807980</td>\n",
       "      <td>55.347314</td>\n",
       "      <td>8.718053</td>\n",
       "      <td>2.137686</td>\n",
       "      <td>21780.509943</td>\n",
       "      <td>1.959499e+07</td>\n",
       "    </tr>\n",
       "    <tr>\n",
       "      <th>3357</th>\n",
       "      <td>0</td>\n",
       "      <td>0.0</td>\n",
       "      <td>0.0</td>\n",
       "      <td>0.0</td>\n",
       "      <td>0.0</td>\n",
       "      <td>0.0</td>\n",
       "      <td>0.0</td>\n",
       "      <td>0.0</td>\n",
       "      <td>0.0</td>\n",
       "      <td>0.0</td>\n",
       "      <td>...</td>\n",
       "      <td>605.291133</td>\n",
       "      <td>1.419884e-03</td>\n",
       "      <td>0.052764</td>\n",
       "      <td>0.780088</td>\n",
       "      <td>0.187152</td>\n",
       "      <td>41.881613</td>\n",
       "      <td>9.889648</td>\n",
       "      <td>1.692986</td>\n",
       "      <td>15275.826741</td>\n",
       "      <td>7.708539e+06</td>\n",
       "    </tr>\n",
       "    <tr>\n",
       "      <th>7058</th>\n",
       "      <td>0</td>\n",
       "      <td>0.0</td>\n",
       "      <td>0.0</td>\n",
       "      <td>0.0</td>\n",
       "      <td>0.0</td>\n",
       "      <td>0.0</td>\n",
       "      <td>0.0</td>\n",
       "      <td>0.0</td>\n",
       "      <td>0.0</td>\n",
       "      <td>0.0</td>\n",
       "      <td>...</td>\n",
       "      <td>591.649350</td>\n",
       "      <td>NaN</td>\n",
       "      <td>0.095236</td>\n",
       "      <td>3.497021</td>\n",
       "      <td>23.817809</td>\n",
       "      <td>40.848822</td>\n",
       "      <td>12.246520</td>\n",
       "      <td>4.049071</td>\n",
       "      <td>12611.742985</td>\n",
       "      <td>7.728197e+06</td>\n",
       "    </tr>\n",
       "    <tr>\n",
       "      <th>...</th>\n",
       "      <td>...</td>\n",
       "      <td>...</td>\n",
       "      <td>...</td>\n",
       "      <td>...</td>\n",
       "      <td>...</td>\n",
       "      <td>...</td>\n",
       "      <td>...</td>\n",
       "      <td>...</td>\n",
       "      <td>...</td>\n",
       "      <td>...</td>\n",
       "      <td>...</td>\n",
       "      <td>...</td>\n",
       "      <td>...</td>\n",
       "      <td>...</td>\n",
       "      <td>...</td>\n",
       "      <td>...</td>\n",
       "      <td>...</td>\n",
       "      <td>...</td>\n",
       "      <td>...</td>\n",
       "      <td>...</td>\n",
       "      <td>...</td>\n",
       "    </tr>\n",
       "    <tr>\n",
       "      <th>68516</th>\n",
       "      <td>0</td>\n",
       "      <td>0.0</td>\n",
       "      <td>0.0</td>\n",
       "      <td>0.0</td>\n",
       "      <td>0.0</td>\n",
       "      <td>0.0</td>\n",
       "      <td>0.0</td>\n",
       "      <td>0.0</td>\n",
       "      <td>0.0</td>\n",
       "      <td>0.0</td>\n",
       "      <td>...</td>\n",
       "      <td>1585.301891</td>\n",
       "      <td>1.214895e-04</td>\n",
       "      <td>0.109969</td>\n",
       "      <td>1.154310</td>\n",
       "      <td>1.729746</td>\n",
       "      <td>42.125963</td>\n",
       "      <td>8.271328</td>\n",
       "      <td>1.073730</td>\n",
       "      <td>36788.657699</td>\n",
       "      <td>6.019987e+07</td>\n",
       "    </tr>\n",
       "    <tr>\n",
       "      <th>69050</th>\n",
       "      <td>0</td>\n",
       "      <td>0.0</td>\n",
       "      <td>0.0</td>\n",
       "      <td>0.0</td>\n",
       "      <td>0.0</td>\n",
       "      <td>0.0</td>\n",
       "      <td>0.0</td>\n",
       "      <td>0.0</td>\n",
       "      <td>0.0</td>\n",
       "      <td>0.0</td>\n",
       "      <td>...</td>\n",
       "      <td>10.550050</td>\n",
       "      <td>1.006749e-02</td>\n",
       "      <td>0.086103</td>\n",
       "      <td>1.218309</td>\n",
       "      <td>0.729035</td>\n",
       "      <td>40.657580</td>\n",
       "      <td>7.966296</td>\n",
       "      <td>0.594785</td>\n",
       "      <td>20062.117590</td>\n",
       "      <td>9.852903e+06</td>\n",
       "    </tr>\n",
       "    <tr>\n",
       "      <th>69279</th>\n",
       "      <td>0</td>\n",
       "      <td>0.0</td>\n",
       "      <td>0.0</td>\n",
       "      <td>0.0</td>\n",
       "      <td>0.0</td>\n",
       "      <td>0.0</td>\n",
       "      <td>0.0</td>\n",
       "      <td>0.0</td>\n",
       "      <td>0.0</td>\n",
       "      <td>0.0</td>\n",
       "      <td>...</td>\n",
       "      <td>1644.875730</td>\n",
       "      <td>3.028407e-04</td>\n",
       "      <td>0.166771</td>\n",
       "      <td>1.302046</td>\n",
       "      <td>2.478779</td>\n",
       "      <td>39.978442</td>\n",
       "      <td>6.927951</td>\n",
       "      <td>8.504964</td>\n",
       "      <td>7743.617277</td>\n",
       "      <td>3.520204e+06</td>\n",
       "    </tr>\n",
       "    <tr>\n",
       "      <th>69280</th>\n",
       "      <td>0</td>\n",
       "      <td>0.0</td>\n",
       "      <td>0.0</td>\n",
       "      <td>0.0</td>\n",
       "      <td>0.0</td>\n",
       "      <td>0.0</td>\n",
       "      <td>0.0</td>\n",
       "      <td>0.0</td>\n",
       "      <td>0.0</td>\n",
       "      <td>0.0</td>\n",
       "      <td>...</td>\n",
       "      <td>285.992935</td>\n",
       "      <td>NaN</td>\n",
       "      <td>0.184778</td>\n",
       "      <td>0.455815</td>\n",
       "      <td>0.199947</td>\n",
       "      <td>40.333394</td>\n",
       "      <td>6.870835</td>\n",
       "      <td>1.370031</td>\n",
       "      <td>15411.869887</td>\n",
       "      <td>9.527962e+06</td>\n",
       "    </tr>\n",
       "    <tr>\n",
       "      <th>69620</th>\n",
       "      <td>0</td>\n",
       "      <td>0.0</td>\n",
       "      <td>0.0</td>\n",
       "      <td>0.0</td>\n",
       "      <td>0.0</td>\n",
       "      <td>0.0</td>\n",
       "      <td>0.0</td>\n",
       "      <td>0.0</td>\n",
       "      <td>0.0</td>\n",
       "      <td>0.0</td>\n",
       "      <td>...</td>\n",
       "      <td>1.159921</td>\n",
       "      <td>1.081994e-07</td>\n",
       "      <td>3.538702</td>\n",
       "      <td>0.466449</td>\n",
       "      <td>0.613842</td>\n",
       "      <td>43.324602</td>\n",
       "      <td>9.439409</td>\n",
       "      <td>0.005754</td>\n",
       "      <td>229431.973938</td>\n",
       "      <td>2.462967e+09</td>\n",
       "    </tr>\n",
       "  </tbody>\n",
       "</table>\n",
       "<p>108 rows × 23 columns</p>\n",
       "</div>"
      ],
      "text/plain": [
       "       ACSTOTPOP  MINORPCT  LOWINCPCT  LESSHSPCT  LINGISOPCT  UNDER5PCT  \\\n",
       "106            0       0.0        0.0        0.0         0.0        0.0   \n",
       "1063           0       0.0        0.0        0.0         0.0        0.0   \n",
       "1857           0       0.0        0.0        0.0         0.0        0.0   \n",
       "3357           0       0.0        0.0        0.0         0.0        0.0   \n",
       "7058           0       0.0        0.0        0.0         0.0        0.0   \n",
       "...          ...       ...        ...        ...         ...        ...   \n",
       "68516          0       0.0        0.0        0.0         0.0        0.0   \n",
       "69050          0       0.0        0.0        0.0         0.0        0.0   \n",
       "69279          0       0.0        0.0        0.0         0.0        0.0   \n",
       "69280          0       0.0        0.0        0.0         0.0        0.0   \n",
       "69620          0       0.0        0.0        0.0         0.0        0.0   \n",
       "\n",
       "       OVER64PCT  UNEMPPCT  VULEOPCT  PRE1960PCT  ...        PTRAF  \\\n",
       "106          0.0       0.0       0.0         0.0  ...   273.356438   \n",
       "1063         0.0       0.0       0.0         0.0  ...   104.972995   \n",
       "1857         0.0       0.0       0.0         0.0  ...   402.454515   \n",
       "3357         0.0       0.0       0.0         0.0  ...   605.291133   \n",
       "7058         0.0       0.0       0.0         0.0  ...   591.649350   \n",
       "...          ...       ...       ...         ...  ...          ...   \n",
       "68516        0.0       0.0       0.0         0.0  ...  1585.301891   \n",
       "69050        0.0       0.0       0.0         0.0  ...    10.550050   \n",
       "69279        0.0       0.0       0.0         0.0  ...  1644.875730   \n",
       "69280        0.0       0.0       0.0         0.0  ...   285.992935   \n",
       "69620        0.0       0.0       0.0         0.0  ...     1.159921   \n",
       "\n",
       "              PWDIS      PNPL      PRMP      PTSDF      OZONE       PM25  \\\n",
       "106             NaN  0.191795  0.713762   0.266671  40.234862   9.086799   \n",
       "1063   3.755846e-04  0.037987  0.158071   0.584650  41.572090   9.719191   \n",
       "1857   6.650353e-02  0.239563  3.564415   9.807980  55.347314   8.718053   \n",
       "3357   1.419884e-03  0.052764  0.780088   0.187152  41.881613   9.889648   \n",
       "7058            NaN  0.095236  3.497021  23.817809  40.848822  12.246520   \n",
       "...             ...       ...       ...        ...        ...        ...   \n",
       "68516  1.214895e-04  0.109969  1.154310   1.729746  42.125963   8.271328   \n",
       "69050  1.006749e-02  0.086103  1.218309   0.729035  40.657580   7.966296   \n",
       "69279  3.028407e-04  0.166771  1.302046   2.478779  39.978442   6.927951   \n",
       "69280           NaN  0.184778  0.455815   0.199947  40.333394   6.870835   \n",
       "69620  1.081994e-07  3.538702  0.466449   0.613842  43.324602   9.439409   \n",
       "\n",
       "            UST   Shape_Length    Shape_Area  \n",
       "106    0.000000   41156.771145  9.104656e+07  \n",
       "1063   0.000000   52092.977874  5.187702e+07  \n",
       "1857   2.137686   21780.509943  1.959499e+07  \n",
       "3357   1.692986   15275.826741  7.708539e+06  \n",
       "7058   4.049071   12611.742985  7.728197e+06  \n",
       "...         ...            ...           ...  \n",
       "68516  1.073730   36788.657699  6.019987e+07  \n",
       "69050  0.594785   20062.117590  9.852903e+06  \n",
       "69279  8.504964    7743.617277  3.520204e+06  \n",
       "69280  1.370031   15411.869887  9.527962e+06  \n",
       "69620  0.005754  229431.973938  2.462967e+09  \n",
       "\n",
       "[108 rows x 23 columns]"
      ]
     },
     "execution_count": 16,
     "metadata": {},
     "output_type": "execute_result"
    }
   ],
   "source": [
    "df.shape\n",
    "no_pop = df[df['ACSTOTPOP'] == 0]\n",
    "no_pop.iloc[:,5:]"
   ]
  },
  {
   "cell_type": "code",
   "execution_count": 17,
   "id": "7f9363e8",
   "metadata": {},
   "outputs": [],
   "source": [
    "no_pop = df[df['ACSTOTPOP'] == 0]\n",
    "no_pop.iloc[:,5:]\n",
    "\n",
    "nulls_in_row = no_pop.iloc[:,5:].isnull().sum(axis = 1)\n",
    "zeros_in_row = (no_pop.iloc[:,5:] == 0).sum(axis = 1)\n",
    "\n",
    "df.drop(index = (nulls_in_row + zeros_in_row == 34).index, inplace = True)"
   ]
  },
  {
   "cell_type": "code",
   "execution_count": 18,
   "id": "58e4bc9e",
   "metadata": {},
   "outputs": [
    {
     "data": {
      "text/plain": [
       "(69875, 28)"
      ]
     },
     "execution_count": 18,
     "metadata": {},
     "output_type": "execute_result"
    }
   ],
   "source": [
    "df.shape"
   ]
  },
  {
   "cell_type": "markdown",
   "id": "61a736f7",
   "metadata": {},
   "source": [
    "### Train/Test Split for Imputers"
   ]
  },
  {
   "cell_type": "code",
   "execution_count": 19,
   "id": "3400997d",
   "metadata": {},
   "outputs": [],
   "source": [
    "X = df.drop(columns = ['CANCER', 'STATE_NAME', 'ST_ABBREV', 'ID', 'OBJECTID'])\n",
    "y = df['CANCER']\n",
    "\n",
    "X_train, X_val, Y_train, Y_val = train_test_split(X,y, test_size = 0.2, random_state = 13)"
   ]
  },
  {
   "cell_type": "code",
   "execution_count": 20,
   "id": "4c51980e",
   "metadata": {},
   "outputs": [],
   "source": [
    "it = IterativeImputer(estimator = LinearRegression())\n",
    "X_train_missing = it.fit_transform(X_train)\n",
    "X_val_missing = it.transform(X_val)\n",
    "###it_inc_missing = pd.DataFrame(X_train, columns = ['PWDIS'])\n",
    "X_train_imputed = pd.DataFrame(X_train_missing, columns = it.get_feature_names_out())\n",
    "X_val_imputed = pd.DataFrame(X_val_missing, columns = it.get_feature_names_out())"
   ]
  },
  {
   "cell_type": "code",
   "execution_count": 21,
   "id": "f9edd378",
   "metadata": {},
   "outputs": [
    {
     "data": {
      "text/plain": [
       "REGION          0\n",
       "ACSTOTPOP       0\n",
       "MINORPCT        0\n",
       "LOWINCPCT       0\n",
       "LESSHSPCT       0\n",
       "LINGISOPCT      0\n",
       "UNDER5PCT       0\n",
       "OVER64PCT       0\n",
       "UNEMPPCT        0\n",
       "VULEOPCT        0\n",
       "PRE1960PCT      0\n",
       "DSLPM           0\n",
       "RESP            0\n",
       "PTRAF           0\n",
       "PWDIS           0\n",
       "PNPL            0\n",
       "PRMP            0\n",
       "PTSDF           0\n",
       "OZONE           0\n",
       "PM25            0\n",
       "UST             0\n",
       "Shape_Length    0\n",
       "Shape_Area      0\n",
       "dtype: int64"
      ]
     },
     "execution_count": 21,
     "metadata": {},
     "output_type": "execute_result"
    }
   ],
   "source": [
    "X_train_imputed.isnull().sum()"
   ]
  },
  {
   "cell_type": "code",
   "execution_count": 22,
   "id": "a55751fa",
   "metadata": {},
   "outputs": [
    {
     "data": {
      "text/plain": [
       "REGION          0\n",
       "ACSTOTPOP       0\n",
       "MINORPCT        0\n",
       "LOWINCPCT       0\n",
       "LESSHSPCT       0\n",
       "LINGISOPCT      0\n",
       "UNDER5PCT       0\n",
       "OVER64PCT       0\n",
       "UNEMPPCT        0\n",
       "VULEOPCT        0\n",
       "PRE1960PCT      0\n",
       "DSLPM           0\n",
       "RESP            0\n",
       "PTRAF           0\n",
       "PWDIS           0\n",
       "PNPL            0\n",
       "PRMP            0\n",
       "PTSDF           0\n",
       "OZONE           0\n",
       "PM25            0\n",
       "UST             0\n",
       "Shape_Length    0\n",
       "Shape_Area      0\n",
       "dtype: int64"
      ]
     },
     "execution_count": 22,
     "metadata": {},
     "output_type": "execute_result"
    }
   ],
   "source": [
    "X_val_imputed.isnull().sum()"
   ]
  },
  {
   "cell_type": "code",
   "execution_count": 23,
   "id": "c40d9740",
   "metadata": {},
   "outputs": [],
   "source": [
    "X_imputed = pd.concat([X_train_imputed, X_val_imputed])"
   ]
  },
  {
   "cell_type": "code",
   "execution_count": 24,
   "id": "2ef5f6fd",
   "metadata": {},
   "outputs": [],
   "source": [
    "X_imputed['STATE_NAME'] = df['STATE_NAME']\n",
    "X_imputed['ST_ABBREV'] = df['ST_ABBREV']"
   ]
  },
  {
   "cell_type": "code",
   "execution_count": 25,
   "id": "a50fb548",
   "metadata": {},
   "outputs": [
    {
     "data": {
      "text/plain": [
       "REGION             0\n",
       "ACSTOTPOP          0\n",
       "MINORPCT           0\n",
       "LOWINCPCT          0\n",
       "LESSHSPCT          0\n",
       "LINGISOPCT         0\n",
       "UNDER5PCT          0\n",
       "OVER64PCT          0\n",
       "UNEMPPCT           0\n",
       "VULEOPCT           0\n",
       "PRE1960PCT         0\n",
       "DSLPM              0\n",
       "RESP               0\n",
       "PTRAF              0\n",
       "PWDIS              0\n",
       "PNPL               0\n",
       "PRMP               0\n",
       "PTSDF              0\n",
       "OZONE              0\n",
       "PM25               0\n",
       "UST                0\n",
       "Shape_Length       0\n",
       "Shape_Area         0\n",
       "STATE_NAME      2955\n",
       "ST_ABBREV       2955\n",
       "dtype: int64"
      ]
     },
     "execution_count": 25,
     "metadata": {},
     "output_type": "execute_result"
    }
   ],
   "source": [
    "X_imputed.isnull().sum()"
   ]
  },
  {
   "cell_type": "markdown",
   "id": "0c5b0d28",
   "metadata": {},
   "source": [
    "### Data Visualization"
   ]
  },
  {
   "cell_type": "code",
   "execution_count": 26,
   "id": "c0863359",
   "metadata": {
    "scrolled": true
   },
   "outputs": [
    {
     "data": {
      "image/png": "[encoded data removed]",
      "text/plain": [
       "<Figure size 432x288 with 1 Axes>"
      ]
     },
     "metadata": {
      "needs_background": "light"
     },
     "output_type": "display_data"
    }
   ],
   "source": [
    "plt.hist(X_train_imputed['PWDIS'], bins = 10);"
   ]
  },
  {
   "cell_type": "code",
   "execution_count": 28,
   "id": "4e011e40",
   "metadata": {},
   "outputs": [
    {
     "name": "stderr",
     "output_type": "stream",
     "text": [
      "C:\\Users\\Vishnu\\anaconda3\\lib\\site-packages\\seaborn\\_decorators.py:36: FutureWarning: Pass the following variable as a keyword arg: x. From version 0.12, the only valid positional argument will be `data`, and passing other arguments without an explicit keyword will result in an error or misinterpretation.\n",
      "  warnings.warn(\n"
     ]
    },
    {
     "data": {
      "text/plain": [
       "<AxesSubplot:xlabel='PWDIS'>"
      ]
     },
     "execution_count": 28,
     "metadata": {},
     "output_type": "execute_result"
    },
    {
     "data": {
      "image/png": "[encoded data removed]",
      "text/plain": [
       "<Figure size 432x288 with 1 Axes>"
      ]
     },
     "metadata": {
      "needs_background": "light"
     },
     "output_type": "display_data"
    }
   ],
   "source": [
    "sns.boxplot(X_train_imputed['PWDIS'])"
   ]
  }
 ],
 "metadata": {
  "kernelspec": {
   "display_name": "Python 3 (ipykernel)",
   "language": "python",
   "name": "python3"
  },
  "language_info": {
   "codemirror_mode": {
    "name": "ipython",
    "version": 3
   },
   "file_extension": ".py",
   "mimetype": "text/x-python",
   "name": "python",
   "nbconvert_exporter": "python",
   "pygments_lexer": "ipython3",
   "version": "3.9.12"
  }
 },
 "nbformat": 4,
 "nbformat_minor": 5
}
