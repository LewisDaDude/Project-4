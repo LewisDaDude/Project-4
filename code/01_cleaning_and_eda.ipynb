{
 "cells": [
  {
   "cell_type": "code",
   "execution_count": 1,
   "id": "890ccf74-4cdf-4a40-ad88-f5da2eceb29f",
   "metadata": {},
   "outputs": [],
   "source": [
    "# to do's:\n",
    "# drop waste water discharge\n",
    "# drop demographic index (it is a product of low income and minority)\n",
    "# maybe drop 70,000 population size and 2000 cancer rate (puerto rico)"
   ]
  },
  {
   "cell_type": "markdown",
   "id": "5c113bbf-9067-4c8e-80cd-77cd9d306e3d",
   "metadata": {},
   "source": [
    "## Imports and Functions"
   ]
  },
  {
   "cell_type": "code",
   "execution_count": 2,
   "id": "2c58fbea-8a0f-4d17-8349-cd485df9102a",
   "metadata": {},
   "outputs": [],
   "source": [
    "import numpy as np\n",
    "import pandas as pd\n",
    "import matplotlib.pyplot as plt\n",
    "import seaborn as sns\n",
    "\n",
    "from sklearn.model_selection import train_test_split\n",
    "\n",
    "# imputation\n",
    "from sklearn.experimental import enable_iterative_imputer \n",
    "from sklearn.impute import IterativeImputer\n",
    "from sklearn.linear_model import LinearRegression"
   ]
  },
  {
   "cell_type": "code",
   "execution_count": 3,
   "id": "4d35038a-bade-446c-b87d-411e0f58e473",
   "metadata": {},
   "outputs": [],
   "source": [
    "def clean_col(col_name):\n",
    "    '''\n",
    "    Rename columns to be more Pythonic:\n",
    "    - lowercase\n",
    "    - underscore between words\n",
    "    - replace some language with more descriptive examples\n",
    "    \n",
    "    Return revised column name.\n",
    "    '''\n",
    "    col_name = col_name.lower()\n",
    "    col_name = col_name.replace('pct','_pct')\n",
    "    col_name = col_name.replace('state','st')\n",
    "    col_name = col_name.replace('acstot','')\n",
    "    col_name = col_name.replace('minor','poc')\n",
    "    col_name = col_name.replace('less','sub_')\n",
    "    col_name = col_name.replace('lowinc','low_inc')\n",
    "    col_name = col_name.replace('ling','ling_')\n",
    "    col_name = col_name.replace('under5','under_5')\n",
    "    col_name = col_name.replace('over64','over_64')\n",
    "    col_name = col_name.replace('vuleo_pct','dem_index')\n",
    "    col_name = col_name.replace('pre1960','pre_1960')\n",
    "    col_name = col_name.replace('ptraf','traffic_prox')\n",
    "    col_name = col_name.replace('dslpm','diesel_pm')\n",
    "    col_name = col_name.replace('pnpl','npl_prox')\n",
    "    col_name = col_name.replace('prmp','rmp_prox')\n",
    "    col_name = col_name.replace('ptsdf','waste_prox')\n",
    "    col_name = col_name.replace('resp','resp_index')\n",
    "    col_name = col_name.replace('pwdis','waste_water')\n",
    "    col_name = col_name.replace('25','_25')\n",
    "    col_name = col_name.replace('ust','undgrd_stor')\n",
    "    \n",
    "    return col_name"
   ]
  },
  {
   "cell_type": "markdown",
   "id": "383e3b90-adab-4fe3-93ac-c4ab86062590",
   "metadata": {},
   "source": [
    "---\n",
    "## Basic Cleaning\n",
    "\n",
    "#### Cleaning Column Names"
   ]
  },
  {
   "cell_type": "code",
   "execution_count": 4,
   "id": "e2bfefee-3d6b-45f9-b523-d4caa79d96fa",
   "metadata": {},
   "outputs": [
    {
     "name": "stderr",
     "output_type": "stream",
     "text": [
      "C:\\Users\\John\\AppData\\Local\\Temp\\ipykernel_7968\\1401447621.py:1: DtypeWarning: Columns (128,129,130,131) have mixed types. Specify dtype option on import or set low_memory=False.\n",
      "  raw_data = pd.read_csv('../data/EJSCREEN_2021_StatePctile_Tracts.csv')\n"
     ]
    }
   ],
   "source": [
    "raw_data = pd.read_csv('../data/EJSCREEN_2021_StatePctile_Tracts.csv')"
   ]
  },
  {
   "cell_type": "markdown",
   "id": "f90e464d-31d4-4cae-ada9-731631c32e5e",
   "metadata": {},
   "source": [
    "Columns beginning with `B_` and `T_` provide information for creating specialized images. This is not necessary for our exploratory data analysis so we will drop these columns. Columns beginning with `P_` and `D_` contain percentile and index data. These can be reconstructed from other columns without much difficulty, so we will drop these as well.\n",
    "\n",
    "There is also identification and shape data that we do not need for eda. These columns are located in the first two and last two columns. We will drop these columns, too."
   ]
  },
  {
   "cell_type": "code",
   "execution_count": 5,
   "id": "d5771b7a-6999-491d-8a1f-2dbd94166f3c",
   "metadata": {},
   "outputs": [
    {
     "data": {
      "text/plain": [
       "['STATE_NAME',\n",
       " 'ST_ABBREV',\n",
       " 'REGION',\n",
       " 'ACSTOTPOP',\n",
       " 'MINORPCT',\n",
       " 'LOWINCPCT',\n",
       " 'LESSHSPCT',\n",
       " 'LINGISOPCT',\n",
       " 'UNDER5PCT',\n",
       " 'OVER64PCT',\n",
       " 'UNEMPPCT',\n",
       " 'VULEOPCT',\n",
       " 'PRE1960PCT',\n",
       " 'DSLPM',\n",
       " 'CANCER',\n",
       " 'RESP',\n",
       " 'PTRAF',\n",
       " 'PWDIS',\n",
       " 'PNPL',\n",
       " 'PRMP',\n",
       " 'PTSDF',\n",
       " 'OZONE',\n",
       " 'PM25',\n",
       " 'UST']"
      ]
     },
     "execution_count": 5,
     "metadata": {},
     "output_type": "execute_result"
    }
   ],
   "source": [
    "# initial columns of interest\n",
    "# cut columns related to image data, clean the rest\n",
    "init_cols = [col for col in raw_data.columns if col[:2] not in 'P_B_T_D_']\n",
    "\n",
    "# drop OBJECTID - repeated index col\n",
    "# drop Shape cols\n",
    "init_cols = init_cols[2:-2]\n",
    "init_cols"
   ]
  },
  {
   "cell_type": "markdown",
   "id": "5e7aa5c3-acdf-42bf-b864-fa84daa88a30",
   "metadata": {},
   "source": [
    "Below we change the column labels to lower case and include an underscore to between the `PCT` (representing percent) to make the columns a bit more readable."
   ]
  },
  {
   "cell_type": "code",
   "execution_count": 6,
   "id": "49a25eb7-4c6f-4847-9ef8-22c6ce5fa796",
   "metadata": {},
   "outputs": [],
   "source": [
    "env = raw_data[init_cols].copy()\n",
    "env.columns = [clean_col(col) for col in env.columns]"
   ]
  },
  {
   "cell_type": "markdown",
   "id": "e09bf4e7-a8d1-4731-ba0b-c4599f58e0b4",
   "metadata": {},
   "source": [
    "To check the results, we list out the revised column names."
   ]
  },
  {
   "cell_type": "code",
   "execution_count": 7,
   "id": "e3322910-9236-4c68-8ae2-5cc7706e1640",
   "metadata": {},
   "outputs": [
    {
     "data": {
      "text/plain": [
       "Index(['st_name', 'st_abbrev', 'region', 'pop', 'poc_pct', 'low_inc_pct',\n",
       "       'sub_hs_pct', 'ling_iso_pct', 'under_5_pct', 'over_64_pct', 'unemp_pct',\n",
       "       'dem_index', 'pre_1960_pct', 'diesel_pm', 'cancer', 'resp_index',\n",
       "       'traffic_prox', 'waste_water', 'npl_prox', 'rmp_prox', 'waste_prox',\n",
       "       'ozone', 'pm_25', 'undgrd_stor'],\n",
       "      dtype='object')"
      ]
     },
     "execution_count": 7,
     "metadata": {},
     "output_type": "execute_result"
    }
   ],
   "source": [
    "env.columns"
   ]
  },
  {
   "cell_type": "markdown",
   "id": "782e2928-094c-4ecd-805a-655cdc1d38f3",
   "metadata": {},
   "source": [
    "#### Dealing with Missing Data"
   ]
  },
  {
   "cell_type": "markdown",
   "id": "ff117acc-bc46-4d4c-9c60-5d65195db994",
   "metadata": {},
   "source": [
    "There are few hundred rows of data where the numeric entries consist entirely of zeros or missing values. These rows will be impossible to work with and should be removed."
   ]
  },
  {
   "cell_type": "code",
   "execution_count": 8,
   "id": "6c226215-176c-4862-adbe-dadacca86050",
   "metadata": {},
   "outputs": [],
   "source": [
    "# drop rows containing no information (consisting of ALL zeros and nulls)\n",
    "\n",
    "# identify location of first and last numeric columns\n",
    "pop_index = env.columns.get_loc('pop')\n",
    "stor_index = env.columns.get_loc('undgrd_stor')\n",
    "\n",
    "# count nulls within a row\n",
    "nulls_in_row = env.iloc[:,pop_index:stor_index+1].isnull().sum(axis = 1)\n",
    "# count zeros within a row\n",
    "zeros_in_row = (env.iloc[:,pop_index:stor_index+1] == 0).sum(axis = 1)\n",
    "\n",
    "# if zeros and nulls sum to number of numeric columns, drop the row\n",
    "total_num_cols = env.iloc[:,pop_index:stor_index+1].shape[1]\n",
    "env.drop(index = env[nulls_in_row + zeros_in_row == total_num_cols].index, inplace = True)"
   ]
  },
  {
   "cell_type": "markdown",
   "id": "cdcf36ee-c4ff-420f-879d-1e209d2098e5",
   "metadata": {},
   "source": [
    "One of our major goals is to predict the air toxics cancer risk given by the `cancer` column. Since this column is especially valuable to us, we want to avoid imputing missing values within it. Below we see it contains 246 missing values."
   ]
  },
  {
   "cell_type": "code",
   "execution_count": 9,
   "id": "2ffed361-9c0a-48d8-aacf-64ac87a36a74",
   "metadata": {},
   "outputs": [
    {
     "data": {
      "text/plain": [
       "st_name             0\n",
       "st_abbrev           0\n",
       "region              0\n",
       "pop                 0\n",
       "poc_pct             0\n",
       "low_inc_pct         0\n",
       "sub_hs_pct          0\n",
       "ling_iso_pct        0\n",
       "under_5_pct         0\n",
       "over_64_pct         0\n",
       "unemp_pct           0\n",
       "dem_index           0\n",
       "pre_1960_pct        0\n",
       "diesel_pm         246\n",
       "cancer            246\n",
       "resp_index        246\n",
       "traffic_prox     2343\n",
       "waste_water     19644\n",
       "npl_prox            0\n",
       "rmp_prox            0\n",
       "waste_prox          0\n",
       "ozone            1383\n",
       "pm_25            1383\n",
       "undgrd_stor         0\n",
       "dtype: int64"
      ]
     },
     "execution_count": 9,
     "metadata": {},
     "output_type": "execute_result"
    }
   ],
   "source": [
    "env.isnull().sum()"
   ]
  },
  {
   "cell_type": "markdown",
   "id": "9fe7f8e0-8e82-45d2-a593-6ccfa3aad864",
   "metadata": {},
   "source": [
    "Before we drop the rows missing `cancer` data, we check to see if the entries seem genuinely random and that we are not introducing any blatant bias to our dataset. Since the states of these entries seem reasonably distributed, it feels fair to assume they are random."
   ]
  },
  {
   "cell_type": "code",
   "execution_count": 10,
   "id": "f69809ab-22ef-44e7-912b-bc09707a75a4",
   "metadata": {},
   "outputs": [
    {
     "data": {
      "text/plain": [
       "New York          31\n",
       "Florida           26\n",
       "California        18\n",
       "Texas             16\n",
       "Michigan          13\n",
       "Virginia          12\n",
       "Louisiana         12\n",
       "North Carolina    10\n",
       "Tennessee          8\n",
       "Colorado           7\n",
       "Pennsylvania       7\n",
       "Georgia            7\n",
       "Nevada             7\n",
       "South Carolina     6\n",
       "Illinois           6\n",
       "Arizona            6\n",
       "Massachusetts      5\n",
       "Kentucky           5\n",
       "Mississippi        4\n",
       "Maryland           4\n",
       "Kansas             4\n",
       "New Hampshire      3\n",
       "Utah               3\n",
       "Ohio               3\n",
       "Oregon             3\n",
       "Washington         3\n",
       "Wisconsin          3\n",
       "New Jersey         2\n",
       "Iowa               2\n",
       "Missouri           2\n",
       "Vermont            1\n",
       "Alabama            1\n",
       "New Mexico         1\n",
       "Minnesota          1\n",
       "Indiana            1\n",
       "Delaware           1\n",
       "Connecticut        1\n",
       "Wyoming            1\n",
       "Name: st_name, dtype: int64"
      ]
     },
     "execution_count": 10,
     "metadata": {},
     "output_type": "execute_result"
    }
   ],
   "source": [
    "env.loc[env['cancer'].isna(), 'st_name'].value_counts()"
   ]
  },
  {
   "cell_type": "code",
   "execution_count": 11,
   "id": "f96bbcd9-9ca2-452c-92f3-09b7d7310361",
   "metadata": {},
   "outputs": [],
   "source": [
    "env.dropna(subset = ['cancer'], inplace = True)"
   ]
  },
  {
   "cell_type": "markdown",
   "id": "ef79994e-3438-4c87-91a0-56a59dffd73f",
   "metadata": {},
   "source": [
    "Conveniently, dropping the rows with missing `cancer` values coincided with rows missing `diesel_pm` and `resp_index`."
   ]
  },
  {
   "cell_type": "code",
   "execution_count": 12,
   "id": "061dd2dc-2186-471b-aa30-da459fdb55af",
   "metadata": {},
   "outputs": [
    {
     "data": {
      "text/plain": [
       "st_name             0\n",
       "st_abbrev           0\n",
       "region              0\n",
       "pop                 0\n",
       "poc_pct             0\n",
       "low_inc_pct         0\n",
       "sub_hs_pct          0\n",
       "ling_iso_pct        0\n",
       "under_5_pct         0\n",
       "over_64_pct         0\n",
       "unemp_pct           0\n",
       "dem_index           0\n",
       "pre_1960_pct        0\n",
       "diesel_pm           0\n",
       "cancer              0\n",
       "resp_index          0\n",
       "traffic_prox     2103\n",
       "waste_water     19401\n",
       "npl_prox            0\n",
       "rmp_prox            0\n",
       "waste_prox          0\n",
       "ozone            1383\n",
       "pm_25            1383\n",
       "undgrd_stor         0\n",
       "dtype: int64"
      ]
     },
     "execution_count": 12,
     "metadata": {},
     "output_type": "execute_result"
    }
   ],
   "source": [
    "env.isnull().sum()"
   ]
  },
  {
   "cell_type": "markdown",
   "id": "7a56d407-50f6-4edb-9dfa-3a23797acb64",
   "metadata": {},
   "source": [
    "#### Population"
   ]
  },
  {
   "cell_type": "markdown",
   "id": "7a9fb81c-2b72-4d2d-8306-8dd82a37fd19",
   "metadata": {},
   "source": [
    "Another thing to be cautious of is that several columns are based on percentages of the population. These percentages can be somewhat deceptive for rows containing lower populations. For example, 100% of the population being minority feels more meaningful when the population size is 2416 than if the population size is 8. For this reason we want to filter out rows with especially small population sizes.\n",
    "\n",
    "Additionally, each row represents a Census tract. Census tracts generally have a population size above 1,200. Rows with a population size below 1,200 correspond to tribal data. We do not want to eliminate the tribal data, especially with the history of environmental injustice towards indigenous people. For this reason, we will set a population size of 30 as a lower bound for the data. This way, we can feel more confident in interpreting percentages and still keep as much of the tribal data as possible.\n",
    "\n",
    "Below we verify that the data corresponding to population sizes below 30 is reasonably distributed across all states."
   ]
  },
  {
   "cell_type": "code",
   "execution_count": 13,
   "id": "e5c18a08-535d-45ff-83e7-26611805875e",
   "metadata": {},
   "outputs": [
    {
     "data": {
      "text/plain": [
       "New York          34\n",
       "Florida           19\n",
       "California        18\n",
       "Texas             15\n",
       "Pennsylvania      15\n",
       "Puerto Rico       10\n",
       "Virginia          10\n",
       "Tennessee          9\n",
       "Hawaii             8\n",
       "Kansas             6\n",
       "Michigan           6\n",
       "North Carolina     5\n",
       "Massachusetts      4\n",
       "Missouri           4\n",
       "Louisiana          4\n",
       "Arizona            4\n",
       "Ohio               3\n",
       "Alabama            3\n",
       "Kentucky           3\n",
       "Maryland           2\n",
       "New Jersey         2\n",
       "Indiana            2\n",
       "Georgia            2\n",
       "Rhode Island       1\n",
       "Washington         1\n",
       "Arkansas           1\n",
       "South Carolina     1\n",
       "Montana            1\n",
       "Idaho              1\n",
       "Nebraska           1\n",
       "Oklahoma           1\n",
       "Alaska             1\n",
       "Illinois           1\n",
       "Nevada             1\n",
       "Oregon             1\n",
       "Name: st_name, dtype: int64"
      ]
     },
     "execution_count": 13,
     "metadata": {},
     "output_type": "execute_result"
    }
   ],
   "source": [
    "env.loc[env['pop'] < 30, 'st_name'].value_counts()"
   ]
  },
  {
   "cell_type": "code",
   "execution_count": 14,
   "id": "e283359b-797c-4a15-945d-b7c101e623c0",
   "metadata": {},
   "outputs": [],
   "source": [
    "# drop tracts with population less then 30\n",
    "env = env[env['pop'] >= 30]"
   ]
  },
  {
   "cell_type": "markdown",
   "id": "bb706d05-b002-4eca-8307-4d8bb7661c43",
   "metadata": {},
   "source": [
    "#### Some of the Missing Data is Not Random"
   ]
  },
  {
   "cell_type": "markdown",
   "id": "e8ba8020-02f6-4c3e-bca4-c1146257e677",
   "metadata": {},
   "source": [
    "Below is code showing that if we drop the null values outside of `waste_water`, we eliminate Puerto Rico, Hawaii, and Alaska from the entire dataset. These three territories seem to all be missing `ozone` and `pm_25` data."
   ]
  },
  {
   "cell_type": "code",
   "execution_count": 15,
   "id": "f83c9a85-9150-423a-b8c2-b3e9c5e101a7",
   "metadata": {},
   "outputs": [],
   "source": [
    "# collect rows where there are any missing values\n",
    "# besides waste_water with 20,000 missing values\n",
    "\n",
    "# na_rows are the incdices of null values\n",
    "# has_na is the dataset containing null\n",
    "na_rows = env.select_dtypes(include = 'number').drop(columns = ['waste_water']).isna().any(axis = 1)\n",
    "has_na = env[na_rows]"
   ]
  },
  {
   "cell_type": "code",
   "execution_count": 16,
   "id": "48607597-7721-4250-86c1-d569383a1dc2",
   "metadata": {},
   "outputs": [
    {
     "data": {
      "text/plain": [
       "PR    885\n",
       "HI    313\n",
       "AK    166\n",
       "TX    121\n",
       "KY    120\n",
       "MI    118\n",
       "NC    105\n",
       "OH     86\n",
       "NY     80\n",
       "ME     79\n",
       "Name: st_abbrev, dtype: int64"
      ]
     },
     "execution_count": 16,
     "metadata": {},
     "output_type": "execute_result"
    }
   ],
   "source": [
    "# 10 states with the most null values in the dataset currently\n",
    "null_states = has_na['st_abbrev'].value_counts().head(10).index\n",
    "has_na['st_abbrev'].value_counts().head(10)"
   ]
  },
  {
   "cell_type": "code",
   "execution_count": 17,
   "id": "f3b38d0e-581d-4e9e-8f7c-67f89b347d3d",
   "metadata": {},
   "outputs": [
    {
     "data": {
      "text/plain": [
       "PR     885\n",
       "HI     313\n",
       "AK     166\n",
       "TX    5223\n",
       "KY    1107\n",
       "MI    2750\n",
       "NC    2169\n",
       "OH    2940\n",
       "NY    4836\n",
       "ME     351\n",
       "Name: st_abbrev, dtype: int64"
      ]
     },
     "execution_count": 17,
     "metadata": {},
     "output_type": "execute_result"
    }
   ],
   "source": [
    "# the total number of appearances of these states in the entire dataset\n",
    "env['st_abbrev'].value_counts()[null_states]"
   ]
  },
  {
   "cell_type": "markdown",
   "id": "f6f4efdd-715a-4c43-bceb-2827b457d2f3",
   "metadata": {},
   "source": [
    "Another thing to note about these three groups is that their nulls are primarily located in in the `ozone` and `pm_25` columns."
   ]
  },
  {
   "cell_type": "code",
   "execution_count": 18,
   "id": "a6ebca85-1903-46f9-8215-b2a8d65cb8cf",
   "metadata": {},
   "outputs": [
    {
     "name": "stdout",
     "output_type": "stream",
     "text": [
      "PR\n",
      "st_name           0\n",
      "st_abbrev         0\n",
      "region            0\n",
      "pop               0\n",
      "poc_pct           0\n",
      "low_inc_pct       0\n",
      "sub_hs_pct        0\n",
      "ling_iso_pct      0\n",
      "under_5_pct       0\n",
      "over_64_pct       0\n",
      "unemp_pct         0\n",
      "dem_index         0\n",
      "pre_1960_pct      0\n",
      "diesel_pm         0\n",
      "cancer            0\n",
      "resp_index        0\n",
      "traffic_prox      7\n",
      "waste_water     116\n",
      "npl_prox          0\n",
      "rmp_prox          0\n",
      "waste_prox        0\n",
      "ozone           885\n",
      "pm_25           885\n",
      "undgrd_stor       0\n",
      "dtype: int64 \n",
      "\n",
      "\n",
      "HI\n",
      "st_name           0\n",
      "st_abbrev         0\n",
      "region            0\n",
      "pop               0\n",
      "poc_pct           0\n",
      "low_inc_pct       0\n",
      "sub_hs_pct        0\n",
      "ling_iso_pct      0\n",
      "under_5_pct       0\n",
      "over_64_pct       0\n",
      "unemp_pct         0\n",
      "dem_index         0\n",
      "pre_1960_pct      0\n",
      "diesel_pm         0\n",
      "cancer            0\n",
      "resp_index        0\n",
      "traffic_prox      9\n",
      "waste_water     117\n",
      "npl_prox          0\n",
      "rmp_prox          0\n",
      "waste_prox        0\n",
      "ozone           313\n",
      "pm_25           313\n",
      "undgrd_stor       0\n",
      "dtype: int64 \n",
      "\n",
      "\n",
      "AK\n",
      "st_name           0\n",
      "st_abbrev         0\n",
      "region            0\n",
      "pop               0\n",
      "poc_pct           0\n",
      "low_inc_pct       0\n",
      "sub_hs_pct        0\n",
      "ling_iso_pct      0\n",
      "under_5_pct       0\n",
      "over_64_pct       0\n",
      "unemp_pct         0\n",
      "dem_index         0\n",
      "pre_1960_pct      0\n",
      "diesel_pm         0\n",
      "cancer            0\n",
      "resp_index        0\n",
      "traffic_prox     32\n",
      "waste_water     166\n",
      "npl_prox          0\n",
      "rmp_prox          0\n",
      "waste_prox        0\n",
      "ozone           166\n",
      "pm_25           166\n",
      "undgrd_stor       0\n",
      "dtype: int64 \n",
      "\n",
      "\n"
     ]
    }
   ],
   "source": [
    "for territory in ['PR', 'HI', 'AK']:\n",
    "    print(territory)\n",
    "    print(env[env['st_abbrev'] == territory].isnull().sum(), '\\n\\n')"
   ]
  },
  {
   "cell_type": "markdown",
   "id": "939c31dd-6208-44b1-80bf-f76787cb7345",
   "metadata": {},
   "source": [
    "#### Dropping Columns"
   ]
  },
  {
   "cell_type": "code",
   "execution_count": 19,
   "id": "3f980ce3-6914-410a-a4e0-d06c7d5c0e92",
   "metadata": {},
   "outputs": [],
   "source": [
    "# drop waste_water column - unrelated to air toxins cancer\n",
    "# drop demographic index column - product of poc_pct and low_inc_pct\n",
    "env.drop(columns = ['waste_water', 'dem_index'], inplace = True)"
   ]
  },
  {
   "cell_type": "markdown",
   "id": "623196b5-a468-4ce2-b10d-06a4c882716a",
   "metadata": {},
   "source": [
    "---\n",
    "\n",
    "## Imputing"
   ]
  },
  {
   "cell_type": "code",
   "execution_count": 20,
   "id": "a5e2943d-704d-4778-9b55-ebc65e8373fc",
   "metadata": {},
   "outputs": [
    {
     "data": {
      "image/png": "[encoded data removed]",
      "text/plain": [
       "<Figure size 864x1152 with 3 Axes>"
      ]
     },
     "metadata": {
      "needs_background": "light"
     },
     "output_type": "display_data"
    }
   ],
   "source": [
    "cols_to_impute = ['traffic_prox', 'ozone', 'pm_25']\n",
    "\n",
    "plt.figure(figsize = (12,16))\n",
    "\n",
    "for i in range(3):\n",
    "    plt.subplot(3,1,i+1)\n",
    "    col_name = cols_to_impute[i]\n",
    "    plt.title(f'{col_name}', size = 20)\n",
    "    plt.hist(env[col_name], bins = 40)\n",
    "    plt.axvline(env[col_name].mean(), color = 'red')"
   ]
  },
  {
   "cell_type": "code",
   "execution_count": 21,
   "id": "a398f6b0-af76-476f-96f5-ba91f01b0098",
   "metadata": {},
   "outputs": [],
   "source": [
    "# may want to one-hot-encode region to impute using regression \n",
    "X = env.drop(columns = ['cancer', 'st_name', 'st_abbrev'])\n",
    "y = env['cancer']"
   ]
  },
  {
   "cell_type": "code",
   "execution_count": 22,
   "id": "8d51e717-5438-49e5-9f6e-43f0091f5fbc",
   "metadata": {},
   "outputs": [],
   "source": [
    "X_train, X_val, Y_train, Y_val = train_test_split(X,y, test_size = 0.2, random_state = 13)"
   ]
  },
  {
   "cell_type": "code",
   "execution_count": 23,
   "id": "afa2755e-5efb-46a4-9a8f-f58234bc6a24",
   "metadata": {},
   "outputs": [],
   "source": [
    "it = IterativeImputer(estimator = LinearRegression())\n",
    "X_train_missing = it.fit_transform(X_train)\n",
    "X_val_missing = it.transform(X_val)\n",
    "\n",
    "X_train_imputed = pd.DataFrame(X_train_missing, columns = it.get_feature_names_out())\n",
    "X_val_imputed = pd.DataFrame(X_val_missing, columns = it.get_feature_names_out())"
   ]
  },
  {
   "cell_type": "code",
   "execution_count": 24,
   "id": "96533e08-677e-47af-85d0-81d817391691",
   "metadata": {},
   "outputs": [],
   "source": [
    "X_imputed = pd.concat([X_train_imputed, X_val_imputed])"
   ]
  },
  {
   "cell_type": "code",
   "execution_count": 25,
   "id": "bf9a988d-c8c8-47c5-90a2-f4682d07fb26",
   "metadata": {},
   "outputs": [
    {
     "data": {
      "image/png": "[encoded data removed]",
      "text/plain": [
       "<Figure size 864x1152 with 3 Axes>"
      ]
     },
     "metadata": {
      "needs_background": "light"
     },
     "output_type": "display_data"
    }
   ],
   "source": [
    "cols_to_impute = ['traffic_prox', 'ozone', 'pm_25']\n",
    "\n",
    "plt.figure(figsize = (12,16))\n",
    "\n",
    "for i in range(3):\n",
    "    plt.subplot(3,1,i+1)\n",
    "    col_name = cols_to_impute[i]\n",
    "    plt.title(f'{col_name}', size = 20)\n",
    "    plt.hist(X_imputed[col_name], bins = 40)\n",
    "    plt.axvline(X_imputed[col_name].mean(), color = 'red')\n",
    "    "
   ]
  }
 ],
 "metadata": {
  "kernelspec": {
   "display_name": "Python 3 (ipykernel)",
   "language": "python",
   "name": "python3"
  },
  "language_info": {
   "codemirror_mode": {
    "name": "ipython",
    "version": 3
   },
   "file_extension": ".py",
   "mimetype": "text/x-python",
   "name": "python",
   "nbconvert_exporter": "python",
   "pygments_lexer": "ipython3",
   "version": "3.9.12"
  }
 },
 "nbformat": 4,
 "nbformat_minor": 5
}
