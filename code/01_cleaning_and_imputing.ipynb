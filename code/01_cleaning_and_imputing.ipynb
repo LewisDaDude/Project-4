{
 "cells": [
  {
   "cell_type": "markdown",
   "id": "f3c0e1fa-5a31-4df2-9b40-e70d5d3399dd",
   "metadata": {},
   "source": [
    "# Cleaning and Imputation\n",
    "\n",
    "---\n"
   ]
  },
  {
   "cell_type": "markdown",
   "id": "5c113bbf-9067-4c8e-80cd-77cd9d306e3d",
   "metadata": {},
   "source": [
    "## Imports and Functions"
   ]
  },
  {
   "cell_type": "code",
   "execution_count": 104,
   "id": "2c58fbea-8a0f-4d17-8349-cd485df9102a",
   "metadata": {},
   "outputs": [],
   "source": [
    "import numpy as np\n",
    "import pandas as pd\n",
    "import matplotlib.pyplot as plt\n",
    "import seaborn as sns\n",
    "\n",
    "from sklearn.model_selection import train_test_split\n",
    "\n",
    "from sklearn.linear_model import LinearRegression\n",
    "from sklearn.experimental import enable_iterative_imputer \n",
    "from sklearn.impute import IterativeImputer\n",
    "from sklearn.preprocessing import OneHotEncoder\n",
    "from sklearn.compose import make_column_transformer\n",
    "\n",
    "from matplotlib.lines import Line2D"
   ]
  },
  {
   "cell_type": "code",
   "execution_count": 2,
   "id": "4d35038a-bade-446c-b87d-411e0f58e473",
   "metadata": {},
   "outputs": [],
   "source": [
    "def clean_col(col_name):\n",
    "    '''\n",
    "    Rename column label to be more Pythonic:\n",
    "    - lowercase\n",
    "    - underscore between words\n",
    "    - replace some language with more descriptive words\n",
    "    \n",
    "    Return revised column name.\n",
    "    '''\n",
    "    col_name = col_name.lower()\n",
    "    col_name = col_name.replace('pct','_pct')\n",
    "    col_name = col_name.replace('state','st')\n",
    "    col_name = col_name.replace('acstot','')\n",
    "    col_name = col_name.replace('minor','poc')\n",
    "    col_name = col_name.replace('less','sub_')\n",
    "    col_name = col_name.replace('lowinc','low_inc')\n",
    "    col_name = col_name.replace('ling','ling_')\n",
    "    col_name = col_name.replace('under5','under_5')\n",
    "    col_name = col_name.replace('over64','over_64')\n",
    "    col_name = col_name.replace('vuleo_pct','dem_index')\n",
    "    col_name = col_name.replace('pre1960','pre_1960')\n",
    "    col_name = col_name.replace('ptraf','traffic_prox')\n",
    "    col_name = col_name.replace('dslpm','diesel_pm')\n",
    "    col_name = col_name.replace('pnpl','npl_prox')\n",
    "    col_name = col_name.replace('prmp','rmp_prox')\n",
    "    col_name = col_name.replace('ptsdf','waste_prox')\n",
    "    col_name = col_name.replace('resp','resp_index')\n",
    "    col_name = col_name.replace('pwdis','waste_water')\n",
    "    col_name = col_name.replace('25','_25')\n",
    "    col_name = col_name.replace('ust','undgrd_stor')\n",
    "    \n",
    "    return col_name"
   ]
  },
  {
   "cell_type": "markdown",
   "id": "383e3b90-adab-4fe3-93ac-c4ab86062590",
   "metadata": {},
   "source": [
    "---\n",
    "## Cleaning"
   ]
  },
  {
   "cell_type": "markdown",
   "id": "fe4e472c-3be0-45fb-b6ef-fee0b1043537",
   "metadata": {},
   "source": [
    "#### Renaming columns"
   ]
  },
  {
   "cell_type": "code",
   "execution_count": 3,
   "id": "e2bfefee-3d6b-45f9-b523-d4caa79d96fa",
   "metadata": {},
   "outputs": [
    {
     "name": "stderr",
     "output_type": "stream",
     "text": [
<<<<<<< Updated upstream
      "C:\\Users\\John\\AppData\\Local\\Temp\\ipykernel_10712\\1401447621.py:1: DtypeWarning: Columns (128,129,130,131) have mixed types. Specify dtype option on import or set low_memory=False.\n",
=======
      "C:\\Users\\Vishnu\\AppData\\Local\\Temp\\ipykernel_8880\\1401447621.py:1: DtypeWarning: Columns (128,129,130,131) have mixed types. Specify dtype option on import or set low_memory=False.\n",
>>>>>>> Stashed changes
      "  raw_data = pd.read_csv('../data/EJSCREEN_2021_StatePctile_Tracts.csv')\n"
     ]
    }
   ],
   "source": [
    "raw_data = pd.read_csv('../data/EJSCREEN_2021_StatePctile_Tracts.csv')"
   ]
  },
  {
   "cell_type": "markdown",
   "id": "f90e464d-31d4-4cae-ada9-731631c32e5e",
   "metadata": {},
   "source": [
    "Columns beginning with `B_` and `T_` provide information for creating specialized images. This is not necessary for our exploratory data analysis so we will drop these columns. Columns beginning with `P_` and `D_` contain percentile and index data. These can be reconstructed from other columns without much difficulty, so we will drop these as well.\n",
    "\n",
    "There is also identification data in the first two columns that we do not need for data analysis. We will drop these columns, too."
   ]
  },
  {
   "cell_type": "code",
   "execution_count": 4,
   "id": "d5771b7a-6999-491d-8a1f-2dbd94166f3c",
   "metadata": {
    "scrolled": true
   },
   "outputs": [
    {
     "data": {
      "text/plain": [
       "['STATE_NAME',\n",
       " 'ST_ABBREV',\n",
       " 'REGION',\n",
       " 'ACSTOTPOP',\n",
       " 'MINORPCT',\n",
       " 'LOWINCPCT',\n",
       " 'LESSHSPCT',\n",
       " 'LINGISOPCT',\n",
       " 'UNDER5PCT',\n",
       " 'OVER64PCT',\n",
       " 'UNEMPPCT',\n",
       " 'VULEOPCT',\n",
       " 'PRE1960PCT',\n",
       " 'DSLPM',\n",
       " 'CANCER',\n",
       " 'RESP',\n",
       " 'PTRAF',\n",
       " 'PWDIS',\n",
       " 'PNPL',\n",
       " 'PRMP',\n",
       " 'PTSDF',\n",
       " 'OZONE',\n",
       " 'PM25',\n",
       " 'UST',\n",
       " 'Shape_Length',\n",
       " 'Shape_Area']"
      ]
     },
     "execution_count": 4,
     "metadata": {},
     "output_type": "execute_result"
    }
   ],
   "source": [
    "# initial columns of interest\n",
    "# cut columns related to image data, clean the rest\n",
    "init_cols = [col for col in raw_data.columns if col[:2] not in 'P_B_T_D_']\n",
    "\n",
    "# drop OBJECTID - repeated index col\n",
    "init_cols = init_cols[2:]\n",
    "init_cols"
   ]
  },
  {
   "cell_type": "markdown",
   "id": "5e7aa5c3-acdf-42bf-b864-fa84daa88a30",
   "metadata": {},
   "source": [
    "Below use our `clean_col` function to rename the column labels to be more clear and Pythonic (replace spaces with underscores, use more descriptive language, and put the letters in lowercase form)."
   ]
  },
  {
   "cell_type": "code",
   "execution_count": 5,
   "id": "49a25eb7-4c6f-4847-9ef8-22c6ce5fa796",
   "metadata": {},
   "outputs": [],
   "source": [
    "env = raw_data[init_cols].copy()\n",
    "env.columns = [clean_col(col) for col in env.columns]"
   ]
  },
  {
   "cell_type": "markdown",
   "id": "e09bf4e7-a8d1-4731-ba0b-c4599f58e0b4",
   "metadata": {},
   "source": [
    "To check the results, we list out the revised column names."
   ]
  },
  {
   "cell_type": "code",
   "execution_count": 6,
   "id": "e3322910-9236-4c68-8ae2-5cc7706e1640",
   "metadata": {},
   "outputs": [
    {
     "data": {
      "text/plain": [
       "Index(['st_name', 'st_abbrev', 'region', 'pop', 'poc_pct', 'low_inc_pct',\n",
       "       'sub_hs_pct', 'ling_iso_pct', 'under_5_pct', 'over_64_pct', 'unemp_pct',\n",
       "       'dem_index', 'pre_1960_pct', 'diesel_pm', 'cancer', 'resp_index',\n",
       "       'traffic_prox', 'waste_water', 'npl_prox', 'rmp_prox', 'waste_prox',\n",
       "       'ozone', 'pm_25', 'undgrd_stor', 'shape_length', 'shape_area'],\n",
       "      dtype='object')"
      ]
     },
     "execution_count": 6,
     "metadata": {},
     "output_type": "execute_result"
    }
   ],
   "source": [
    "env.columns"
   ]
  },
  {
   "cell_type": "markdown",
   "id": "4d51049e-b6fc-4997-9bba-c14ab08e144a",
   "metadata": {},
   "source": [
    "#### Removing Empty Rows"
   ]
  },
  {
   "cell_type": "markdown",
   "id": "ff117acc-bc46-4d4c-9c60-5d65195db994",
   "metadata": {},
   "source": [
    "There are few hundred rows of data where the numeric entries consist entirely of zeros or missing values. These rows will be impossible to work with and should be removed."
   ]
  },
  {
   "cell_type": "code",
   "execution_count": 7,
   "id": "6c226215-176c-4862-adbe-dadacca86050",
   "metadata": {},
   "outputs": [],
   "source": [
    "# drop rows containing no information (consisting of ALL zeros and nulls)\n",
    "\n",
    "# identify location of first and last numeric columns\n",
    "pop_index = env.columns.get_loc('pop')\n",
    "stor_index = env.columns.get_loc('undgrd_stor')\n",
    "\n",
    "# count nulls within a row\n",
    "nulls_in_row = env.iloc[:,pop_index:stor_index+1].isnull().sum(axis = 1)\n",
    "# count zeros within a row\n",
    "zeros_in_row = (env.iloc[:,pop_index:stor_index+1] == 0).sum(axis = 1)\n",
    "\n",
    "# if zeros and nulls sum to number of numeric columns, drop the row\n",
    "total_num_cols = env.iloc[:,pop_index:stor_index+1].shape[1]\n",
    "env.drop(index = env[nulls_in_row + zeros_in_row == total_num_cols].index, inplace = True)"
   ]
  },
  {
   "cell_type": "markdown",
   "id": "41aec014-4e73-4e9b-8a03-d0ffa4a0995d",
   "metadata": {},
   "source": [
    "#### Dropping Missing Cancer Data"
   ]
  },
  {
   "cell_type": "markdown",
   "id": "cdcf36ee-c4ff-420f-879d-1e209d2098e5",
   "metadata": {},
   "source": [
    "One of our major goals is to predict the air toxics cancer risk given by the `cancer` column. Since this column is especially valuable to us, we want to avoid imputing missing values within it. Below we see it contains 246 missing values."
   ]
  },
  {
   "cell_type": "code",
   "execution_count": 8,
   "id": "2ffed361-9c0a-48d8-aacf-64ac87a36a74",
   "metadata": {},
   "outputs": [
    {
     "data": {
      "text/plain": [
       "st_name             0\n",
       "st_abbrev           0\n",
       "region              0\n",
       "pop                 0\n",
       "poc_pct             0\n",
       "low_inc_pct         0\n",
       "sub_hs_pct          0\n",
       "ling_iso_pct        0\n",
       "under_5_pct         0\n",
       "over_64_pct         0\n",
       "unemp_pct           0\n",
       "dem_index           0\n",
       "pre_1960_pct        0\n",
       "diesel_pm         246\n",
       "cancer            246\n",
       "resp_index        246\n",
       "traffic_prox     2343\n",
       "waste_water     19644\n",
       "npl_prox            0\n",
       "rmp_prox            0\n",
       "waste_prox          0\n",
       "ozone            1383\n",
       "pm_25            1383\n",
       "undgrd_stor         0\n",
       "shape_length        0\n",
       "shape_area          0\n",
       "dtype: int64"
      ]
     },
     "execution_count": 8,
     "metadata": {},
     "output_type": "execute_result"
    }
   ],
   "source": [
    "env.isnull().sum()"
   ]
  },
  {
   "cell_type": "markdown",
   "id": "9fe7f8e0-8e82-45d2-a593-6ccfa3aad864",
   "metadata": {},
   "source": [
    "Before we drop the rows missing `cancer` data, we must check to see if the entries seem genuinely random and that we are not introducing any blatant bias to our dataset."
   ]
  },
  {
   "cell_type": "code",
   "execution_count": 9,
   "id": "f35688cc-ec86-4a35-9929-bbbe16bc9ce1",
   "metadata": {},
   "outputs": [
    {
     "name": "stdout",
     "output_type": "stream",
     "text": [
      "There are 246 rows with missing cancer rates data.\n",
      "There are 231 rows with missing cancer rates data and population data.\n"
     ]
    }
   ],
   "source": [
    "# rows missing cancer data\n",
    "na_cancer = env.loc[env['cancer'].isna()]\n",
    "\n",
    "print(f'There are {na_cancer.shape[0]} rows with missing cancer rates data.')\n",
    "print(f\"There are {(na_cancer['pop'] == 0).sum()} rows with missing cancer rates data and population data.\")"
   ]
  },
  {
   "cell_type": "markdown",
   "id": "80f2b757-cc65-4fd5-8e00-072601fff2e1",
   "metadata": {},
   "source": [
    "Above we see that nearly all of the rows missing cancer data also have a population of zero. In fact, these rows missing cancer values almost all have numerous values zeros (shown below). It seems reasonable to drop all 246 of these rows."
   ]
  },
  {
   "cell_type": "code",
   "execution_count": 10,
   "id": "dc493cd3-6a2d-42db-a416-5f77677ffebd",
   "metadata": {},
   "outputs": [
    {
     "data": {
      "text/html": [
       "<div>\n",
       "<style scoped>\n",
       "    .dataframe tbody tr th:only-of-type {\n",
       "        vertical-align: middle;\n",
       "    }\n",
       "\n",
       "    .dataframe tbody tr th {\n",
       "        vertical-align: top;\n",
       "    }\n",
       "\n",
       "    .dataframe thead th {\n",
       "        text-align: right;\n",
       "    }\n",
       "</style>\n",
       "<table border=\"1\" class=\"dataframe\">\n",
       "  <thead>\n",
       "    <tr style=\"text-align: right;\">\n",
       "      <th></th>\n",
       "      <th>region</th>\n",
       "      <th>pop</th>\n",
       "      <th>poc_pct</th>\n",
       "      <th>low_inc_pct</th>\n",
       "      <th>sub_hs_pct</th>\n",
       "      <th>ling_iso_pct</th>\n",
       "      <th>under_5_pct</th>\n",
       "      <th>over_64_pct</th>\n",
       "      <th>unemp_pct</th>\n",
       "      <th>dem_index</th>\n",
       "      <th>...</th>\n",
       "      <th>traffic_prox</th>\n",
       "      <th>waste_water</th>\n",
       "      <th>npl_prox</th>\n",
       "      <th>rmp_prox</th>\n",
       "      <th>waste_prox</th>\n",
       "      <th>ozone</th>\n",
       "      <th>pm_25</th>\n",
       "      <th>undgrd_stor</th>\n",
       "      <th>shape_length</th>\n",
       "      <th>shape_area</th>\n",
       "    </tr>\n",
       "  </thead>\n",
       "  <tbody>\n",
       "    <tr>\n",
       "      <th>count</th>\n",
       "      <td>246.000000</td>\n",
       "      <td>246.000000</td>\n",
       "      <td>246.000000</td>\n",
       "      <td>246.000000</td>\n",
       "      <td>246.000000</td>\n",
       "      <td>246.000000</td>\n",
       "      <td>246.000000</td>\n",
       "      <td>246.000000</td>\n",
       "      <td>246.000000</td>\n",
       "      <td>246.000000</td>\n",
       "      <td>...</td>\n",
       "      <td>6.000000</td>\n",
       "      <td>3.000000e+00</td>\n",
       "      <td>246.000000</td>\n",
       "      <td>246.000000</td>\n",
       "      <td>246.000000</td>\n",
       "      <td>246.000000</td>\n",
       "      <td>246.000000</td>\n",
       "      <td>246.000000</td>\n",
       "      <td>246.000000</td>\n",
       "      <td>2.460000e+02</td>\n",
       "    </tr>\n",
       "    <tr>\n",
       "      <th>mean</th>\n",
       "      <td>4.910569</td>\n",
       "      <td>43.890244</td>\n",
       "      <td>0.042488</td>\n",
       "      <td>0.021509</td>\n",
       "      <td>0.008462</td>\n",
       "      <td>0.000606</td>\n",
       "      <td>0.002056</td>\n",
       "      <td>0.008651</td>\n",
       "      <td>0.008465</td>\n",
       "      <td>0.031998</td>\n",
       "      <td>...</td>\n",
       "      <td>1664.390494</td>\n",
       "      <td>1.673835e-06</td>\n",
       "      <td>0.002365</td>\n",
       "      <td>0.018999</td>\n",
       "      <td>0.063761</td>\n",
       "      <td>41.701752</td>\n",
       "      <td>8.337682</td>\n",
       "      <td>0.064098</td>\n",
       "      <td>55041.854449</td>\n",
       "      <td>2.782879e+08</td>\n",
       "    </tr>\n",
       "    <tr>\n",
       "      <th>std</th>\n",
       "      <td>2.410887</td>\n",
       "      <td>321.187567</td>\n",
       "      <td>0.181458</td>\n",
       "      <td>0.136748</td>\n",
       "      <td>0.052922</td>\n",
       "      <td>0.009503</td>\n",
       "      <td>0.018557</td>\n",
       "      <td>0.070131</td>\n",
       "      <td>0.077078</td>\n",
       "      <td>0.139287</td>\n",
       "      <td>...</td>\n",
       "      <td>4039.846715</td>\n",
       "      <td>1.733399e-06</td>\n",
       "      <td>0.021045</td>\n",
       "      <td>0.143617</td>\n",
       "      <td>0.633274</td>\n",
       "      <td>7.298773</td>\n",
       "      <td>1.523231</td>\n",
       "      <td>0.532157</td>\n",
       "      <td>92903.832197</td>\n",
       "      <td>1.268873e+09</td>\n",
       "    </tr>\n",
       "    <tr>\n",
       "      <th>min</th>\n",
       "      <td>1.000000</td>\n",
       "      <td>0.000000</td>\n",
       "      <td>0.000000</td>\n",
       "      <td>0.000000</td>\n",
       "      <td>0.000000</td>\n",
       "      <td>0.000000</td>\n",
       "      <td>0.000000</td>\n",
       "      <td>0.000000</td>\n",
       "      <td>0.000000</td>\n",
       "      <td>0.000000</td>\n",
       "      <td>...</td>\n",
       "      <td>0.128077</td>\n",
       "      <td>5.716715e-07</td>\n",
       "      <td>0.000000</td>\n",
       "      <td>0.000000</td>\n",
       "      <td>0.000000</td>\n",
       "      <td>26.797583</td>\n",
       "      <td>4.282411</td>\n",
       "      <td>0.000000</td>\n",
       "      <td>1797.428238</td>\n",
       "      <td>1.313539e+05</td>\n",
       "    </tr>\n",
       "    <tr>\n",
       "      <th>25%</th>\n",
       "      <td>3.000000</td>\n",
       "      <td>0.000000</td>\n",
       "      <td>0.000000</td>\n",
       "      <td>0.000000</td>\n",
       "      <td>0.000000</td>\n",
       "      <td>0.000000</td>\n",
       "      <td>0.000000</td>\n",
       "      <td>0.000000</td>\n",
       "      <td>0.000000</td>\n",
       "      <td>0.000000</td>\n",
       "      <td>...</td>\n",
       "      <td>5.885549</td>\n",
       "      <td>6.748299e-07</td>\n",
       "      <td>0.000000</td>\n",
       "      <td>0.000000</td>\n",
       "      <td>0.000000</td>\n",
       "      <td>37.400371</td>\n",
       "      <td>7.345422</td>\n",
       "      <td>0.000000</td>\n",
       "      <td>11189.223043</td>\n",
       "      <td>4.923604e+06</td>\n",
       "    </tr>\n",
       "    <tr>\n",
       "      <th>50%</th>\n",
       "      <td>4.000000</td>\n",
       "      <td>0.000000</td>\n",
       "      <td>0.000000</td>\n",
       "      <td>0.000000</td>\n",
       "      <td>0.000000</td>\n",
       "      <td>0.000000</td>\n",
       "      <td>0.000000</td>\n",
       "      <td>0.000000</td>\n",
       "      <td>0.000000</td>\n",
       "      <td>0.000000</td>\n",
       "      <td>...</td>\n",
       "      <td>8.390268</td>\n",
       "      <td>7.779884e-07</td>\n",
       "      <td>0.000000</td>\n",
       "      <td>0.000000</td>\n",
       "      <td>0.000000</td>\n",
       "      <td>41.667395</td>\n",
       "      <td>8.346472</td>\n",
       "      <td>0.000000</td>\n",
       "      <td>18972.747032</td>\n",
       "      <td>1.301009e+07</td>\n",
       "    </tr>\n",
       "    <tr>\n",
       "      <th>75%</th>\n",
       "      <td>6.000000</td>\n",
       "      <td>0.000000</td>\n",
       "      <td>0.000000</td>\n",
       "      <td>0.000000</td>\n",
       "      <td>0.000000</td>\n",
       "      <td>0.000000</td>\n",
       "      <td>0.000000</td>\n",
       "      <td>0.000000</td>\n",
       "      <td>0.000000</td>\n",
       "      <td>0.000000</td>\n",
       "      <td>...</td>\n",
       "      <td>42.436614</td>\n",
       "      <td>2.224916e-06</td>\n",
       "      <td>0.000000</td>\n",
       "      <td>0.000000</td>\n",
       "      <td>0.000000</td>\n",
       "      <td>44.712277</td>\n",
       "      <td>9.139091</td>\n",
       "      <td>0.000000</td>\n",
       "      <td>62662.813232</td>\n",
       "      <td>1.237268e+08</td>\n",
       "    </tr>\n",
       "    <tr>\n",
       "      <th>max</th>\n",
       "      <td>10.000000</td>\n",
       "      <td>4291.000000</td>\n",
       "      <td>1.000000</td>\n",
       "      <td>1.000000</td>\n",
       "      <td>0.420664</td>\n",
       "      <td>0.149051</td>\n",
       "      <td>0.241667</td>\n",
       "      <td>0.903061</td>\n",
       "      <td>1.000000</td>\n",
       "      <td>1.000000</td>\n",
       "      <td>...</td>\n",
       "      <td>9910.598316</td>\n",
       "      <td>3.671844e-06</td>\n",
       "      <td>0.239815</td>\n",
       "      <td>1.371522</td>\n",
       "      <td>9.362956</td>\n",
       "      <td>73.565369</td>\n",
       "      <td>13.042804</td>\n",
       "      <td>6.636750</td>\n",
       "      <td>722509.794497</td>\n",
       "      <td>1.718428e+10</td>\n",
       "    </tr>\n",
       "  </tbody>\n",
       "</table>\n",
       "<p>8 rows × 24 columns</p>\n",
       "</div>"
      ],
      "text/plain": [
       "           region          pop     poc_pct  low_inc_pct  sub_hs_pct  \\\n",
       "count  246.000000   246.000000  246.000000   246.000000  246.000000   \n",
       "mean     4.910569    43.890244    0.042488     0.021509    0.008462   \n",
       "std      2.410887   321.187567    0.181458     0.136748    0.052922   \n",
       "min      1.000000     0.000000    0.000000     0.000000    0.000000   \n",
       "25%      3.000000     0.000000    0.000000     0.000000    0.000000   \n",
       "50%      4.000000     0.000000    0.000000     0.000000    0.000000   \n",
       "75%      6.000000     0.000000    0.000000     0.000000    0.000000   \n",
       "max     10.000000  4291.000000    1.000000     1.000000    0.420664   \n",
       "\n",
       "       ling_iso_pct  under_5_pct  over_64_pct   unemp_pct   dem_index  ...  \\\n",
       "count    246.000000   246.000000   246.000000  246.000000  246.000000  ...   \n",
       "mean       0.000606     0.002056     0.008651    0.008465    0.031998  ...   \n",
       "std        0.009503     0.018557     0.070131    0.077078    0.139287  ...   \n",
       "min        0.000000     0.000000     0.000000    0.000000    0.000000  ...   \n",
       "25%        0.000000     0.000000     0.000000    0.000000    0.000000  ...   \n",
       "50%        0.000000     0.000000     0.000000    0.000000    0.000000  ...   \n",
       "75%        0.000000     0.000000     0.000000    0.000000    0.000000  ...   \n",
       "max        0.149051     0.241667     0.903061    1.000000    1.000000  ...   \n",
       "\n",
       "       traffic_prox   waste_water    npl_prox    rmp_prox  waste_prox  \\\n",
       "count      6.000000  3.000000e+00  246.000000  246.000000  246.000000   \n",
       "mean    1664.390494  1.673835e-06    0.002365    0.018999    0.063761   \n",
       "std     4039.846715  1.733399e-06    0.021045    0.143617    0.633274   \n",
       "min        0.128077  5.716715e-07    0.000000    0.000000    0.000000   \n",
       "25%        5.885549  6.748299e-07    0.000000    0.000000    0.000000   \n",
       "50%        8.390268  7.779884e-07    0.000000    0.000000    0.000000   \n",
       "75%       42.436614  2.224916e-06    0.000000    0.000000    0.000000   \n",
       "max     9910.598316  3.671844e-06    0.239815    1.371522    9.362956   \n",
       "\n",
       "            ozone       pm_25  undgrd_stor   shape_length    shape_area  \n",
       "count  246.000000  246.000000   246.000000     246.000000  2.460000e+02  \n",
       "mean    41.701752    8.337682     0.064098   55041.854449  2.782879e+08  \n",
       "std      7.298773    1.523231     0.532157   92903.832197  1.268873e+09  \n",
       "min     26.797583    4.282411     0.000000    1797.428238  1.313539e+05  \n",
       "25%     37.400371    7.345422     0.000000   11189.223043  4.923604e+06  \n",
       "50%     41.667395    8.346472     0.000000   18972.747032  1.301009e+07  \n",
       "75%     44.712277    9.139091     0.000000   62662.813232  1.237268e+08  \n",
       "max     73.565369   13.042804     6.636750  722509.794497  1.718428e+10  \n",
       "\n",
       "[8 rows x 24 columns]"
      ]
     },
     "execution_count": 10,
     "metadata": {},
     "output_type": "execute_result"
    }
   ],
   "source": [
    "na_cancer.describe()"
   ]
  },
  {
   "cell_type": "markdown",
   "id": "ce571a17-57b9-4aba-972e-353a5ad0c226",
   "metadata": {},
   "source": [
    "We can also see that these rows are relatively evenly distributed across the different states, so we are not singling any stat out by dropping these rows."
   ]
  },
  {
   "cell_type": "code",
   "execution_count": 11,
   "id": "f69809ab-22ef-44e7-912b-bc09707a75a4",
   "metadata": {},
   "outputs": [
    {
     "data": {
      "text/plain": [
       "New York          31\n",
       "Florida           26\n",
       "California        18\n",
       "Texas             16\n",
       "Michigan          13\n",
       "Virginia          12\n",
       "Louisiana         12\n",
       "North Carolina    10\n",
       "Tennessee          8\n",
       "Colorado           7\n",
       "Pennsylvania       7\n",
       "Georgia            7\n",
       "Nevada             7\n",
       "South Carolina     6\n",
       "Illinois           6\n",
       "Arizona            6\n",
       "Massachusetts      5\n",
       "Kentucky           5\n",
       "Mississippi        4\n",
       "Maryland           4\n",
       "Kansas             4\n",
       "New Hampshire      3\n",
       "Utah               3\n",
       "Ohio               3\n",
       "Oregon             3\n",
       "Washington         3\n",
       "Wisconsin          3\n",
       "New Jersey         2\n",
       "Iowa               2\n",
       "Missouri           2\n",
       "Vermont            1\n",
       "Alabama            1\n",
       "New Mexico         1\n",
       "Minnesota          1\n",
       "Indiana            1\n",
       "Delaware           1\n",
       "Connecticut        1\n",
       "Wyoming            1\n",
       "Name: st_name, dtype: int64"
      ]
     },
     "execution_count": 11,
     "metadata": {},
     "output_type": "execute_result"
    }
   ],
   "source": [
    "na_cancer['st_name'].value_counts()"
   ]
  },
  {
   "cell_type": "code",
   "execution_count": 12,
   "id": "f96bbcd9-9ca2-452c-92f3-09b7d7310361",
   "metadata": {},
   "outputs": [],
   "source": [
    "env.dropna(subset = ['cancer'], inplace = True)"
   ]
  },
  {
   "cell_type": "markdown",
   "id": "ef79994e-3438-4c87-91a0-56a59dffd73f",
   "metadata": {},
   "source": [
    "Conveniently, dropping the rows with missing `cancer` values also dealth with all of the missing `diesel_pm` and `resp_index` values.."
   ]
  },
  {
   "cell_type": "code",
   "execution_count": 13,
   "id": "fa5f6a73-fec9-4ca2-95c6-051e030b7d13",
   "metadata": {},
   "outputs": [
    {
     "data": {
      "text/plain": [
       "st_name             0\n",
       "st_abbrev           0\n",
       "region              0\n",
       "pop                 0\n",
       "poc_pct             0\n",
       "low_inc_pct         0\n",
       "sub_hs_pct          0\n",
       "ling_iso_pct        0\n",
       "under_5_pct         0\n",
       "over_64_pct         0\n",
       "unemp_pct           0\n",
       "dem_index           0\n",
       "pre_1960_pct        0\n",
       "diesel_pm           0\n",
       "cancer              0\n",
       "resp_index          0\n",
       "traffic_prox     2103\n",
       "waste_water     19401\n",
       "npl_prox            0\n",
       "rmp_prox            0\n",
       "waste_prox          0\n",
       "ozone            1383\n",
       "pm_25            1383\n",
       "undgrd_stor         0\n",
       "shape_length        0\n",
       "shape_area          0\n",
       "dtype: int64"
      ]
     },
     "execution_count": 13,
     "metadata": {},
     "output_type": "execute_result"
    }
   ],
   "source": [
    "env.isnull().sum()"
   ]
  },
  {
   "cell_type": "markdown",
   "id": "b81ae0f3-1fb9-4c42-a01e-8dd87047b537",
   "metadata": {},
   "source": [
    "#### Removing `waste_water` and `dem_index`"
   ]
  },
  {
   "cell_type": "markdown",
   "id": "4659c02b-0b2f-4160-9c66-fe7f4fb93041",
   "metadata": {},
   "source": [
    "Above we see there is a heavy density of null values remaining in the `waste_water` column. In addition to this, our target `cancer` column is defined in terms of air toxic cancer risk. Because this column seems like difficult to salvage and it is not immediately related to our target, we will drop it from our dataset.\n",
    "\n",
    "Another column that we will drop is `dem_index` as it is simply the product of the `poc_pct` and `low_inc_pct` columns."
   ]
  },
  {
   "cell_type": "code",
   "execution_count": 14,
   "id": "55dfd552-8725-4628-8bf2-1ca0deeb8735",
   "metadata": {},
   "outputs": [],
   "source": [
    "env.drop(columns = ['waste_water', 'dem_index'], inplace = True)"
   ]
  },
  {
   "cell_type": "markdown",
   "id": "57c478cc-23d7-4e14-99f5-f6751dec8a2a",
   "metadata": {},
   "source": [
    "#### Puerto Rico, Hawaii, and Alaska"
   ]
  },
  {
   "cell_type": "markdown",
   "id": "2a137b6e-bb6e-48e8-a5e7-a9d002d51651",
   "metadata": {},
   "source": [
    "It would be convenient if we could drop the remaning null values from our dataset since they represent a fairly small fraction of our dataset."
   ]
  },
  {
   "cell_type": "code",
   "execution_count": 15,
   "id": "15ac4de2-a76e-4731-a6b7-379660821740",
   "metadata": {},
   "outputs": [
    {
     "data": {
      "text/plain": [
       "(73420, 24)"
      ]
     },
     "execution_count": 15,
     "metadata": {},
     "output_type": "execute_result"
    }
   ],
   "source": [
    "env.shape"
   ]
  },
  {
   "cell_type": "markdown",
   "id": "7f9ca666-7137-4fae-93ea-1bce47fcda5b",
   "metadata": {},
   "source": [
    "Unfortunately, the remaining null values (specifically `ozone` and `pm_25`) are not completely random and dropping these null values would completely eliminate Puerto Rico, Hawaii, and Alaska from our dataset.\n",
    "\n",
    "Below we look at the top 10 state appearances across all of the rows containing null values. When we compare this to the state appearances across all rows (with and without null values), we see the counts between the two groups agree for Puerto Rico, Hawaii, and Alaska. In other words, blindly dropping the null values would drop all of the data for these states and territories. "
   ]
  },
  {
   "cell_type": "code",
   "execution_count": 16,
   "id": "baae8c88-a182-4c73-870f-c37990236c3f",
   "metadata": {},
   "outputs": [],
   "source": [
    "# collect rows where there are any missing values\n",
    "\n",
    "# na_rows are the incdices of null values\n",
    "na_rows = env.select_dtypes(include = 'number').isna().any(axis = 1)\n",
    "\n",
    "# has_na is the dataset containing null\n",
    "has_na = env[na_rows]"
   ]
  },
  {
   "cell_type": "code",
   "execution_count": 17,
   "id": "94257903-660d-4c0f-b6a7-05645623af11",
   "metadata": {},
   "outputs": [
    {
     "data": {
      "text/plain": [
       "PR    895\n",
       "HI    321\n",
       "AK    167\n",
       "KY    122\n",
       "TX    122\n",
       "MI    118\n",
       "NC    106\n",
       "OH     86\n",
       "NY     81\n",
       "ME     79\n",
       "Name: st_abbrev, dtype: int64"
      ]
     },
     "execution_count": 17,
     "metadata": {},
     "output_type": "execute_result"
    }
   ],
   "source": [
    "# 10 states with the most null values in the dataset currently\n",
    "null_states = has_na['st_abbrev'].value_counts().head(10)\n",
    "null_states"
   ]
  },
  {
   "cell_type": "code",
   "execution_count": 18,
   "id": "1018cd22-bc4c-4d7f-bbee-25eb8579b06d",
   "metadata": {},
   "outputs": [
    {
     "data": {
      "text/plain": [
       "PR     895\n",
       "HI     321\n",
       "AK     167\n",
       "KY    1110\n",
       "TX    5238\n",
       "MI    2756\n",
       "NC    2174\n",
       "OH    2943\n",
       "NY    4870\n",
       "ME     351\n",
       "Name: st_abbrev, dtype: int64"
      ]
     },
     "execution_count": 18,
     "metadata": {},
     "output_type": "execute_result"
    }
   ],
   "source": [
    "# the total number of appearances of these states in the entire dataset\n",
    "env['st_abbrev'].value_counts()[null_states.index]"
   ]
  },
  {
   "cell_type": "markdown",
   "id": "cd82b4e0-a98f-493f-b0be-7e3fce76b9f9",
   "metadata": {},
   "source": [
    "Another thing to note about these three groups is that their nulls are almost exclusively located in in the `ozone` and `pm_25` columns."
   ]
  },
  {
   "cell_type": "code",
   "execution_count": 19,
   "id": "c2b9f5b4-6b28-42e3-8f05-27cbeae0d57a",
   "metadata": {
    "tags": []
   },
   "outputs": [
    {
     "name": "stdout",
     "output_type": "stream",
     "text": [
      "PR\n",
      "st_name           0\n",
      "st_abbrev         0\n",
      "region            0\n",
      "pop               0\n",
      "poc_pct           0\n",
      "low_inc_pct       0\n",
      "sub_hs_pct        0\n",
      "ling_iso_pct      0\n",
      "under_5_pct       0\n",
      "over_64_pct       0\n",
      "unemp_pct         0\n",
      "pre_1960_pct      0\n",
      "diesel_pm         0\n",
      "cancer            0\n",
      "resp_index        0\n",
      "traffic_prox      7\n",
      "npl_prox          0\n",
      "rmp_prox          0\n",
      "waste_prox        0\n",
      "ozone           895\n",
      "pm_25           895\n",
      "undgrd_stor       0\n",
      "shape_length      0\n",
      "shape_area        0\n",
      "dtype: int64 \n",
      "\n",
      "\n",
      "HI\n",
      "st_name           0\n",
      "st_abbrev         0\n",
      "region            0\n",
      "pop               0\n",
      "poc_pct           0\n",
      "low_inc_pct       0\n",
      "sub_hs_pct        0\n",
      "ling_iso_pct      0\n",
      "under_5_pct       0\n",
      "over_64_pct       0\n",
      "unemp_pct         0\n",
      "pre_1960_pct      0\n",
      "diesel_pm         0\n",
      "cancer            0\n",
      "resp_index        0\n",
      "traffic_prox     10\n",
      "npl_prox          0\n",
      "rmp_prox          0\n",
      "waste_prox        0\n",
      "ozone           321\n",
      "pm_25           321\n",
      "undgrd_stor       0\n",
      "shape_length      0\n",
      "shape_area        0\n",
      "dtype: int64 \n",
      "\n",
      "\n",
      "AK\n",
      "st_name           0\n",
      "st_abbrev         0\n",
      "region            0\n",
      "pop               0\n",
      "poc_pct           0\n",
      "low_inc_pct       0\n",
      "sub_hs_pct        0\n",
      "ling_iso_pct      0\n",
      "under_5_pct       0\n",
      "over_64_pct       0\n",
      "unemp_pct         0\n",
      "pre_1960_pct      0\n",
      "diesel_pm         0\n",
      "cancer            0\n",
      "resp_index        0\n",
      "traffic_prox     33\n",
      "npl_prox          0\n",
      "rmp_prox          0\n",
      "waste_prox        0\n",
      "ozone           167\n",
      "pm_25           167\n",
      "undgrd_stor       0\n",
      "shape_length      0\n",
      "shape_area        0\n",
      "dtype: int64 \n",
      "\n",
      "\n"
     ]
    }
   ],
   "source": [
    "# print out the number of null values in each column for PR, HI, and AK\n",
    "for territory in ['PR', 'HI', 'AK']:\n",
    "    print(territory)\n",
    "    print(env[env['st_abbrev'] == territory].isnull().sum(), '\\n\\n')"
   ]
  },
  {
   "cell_type": "markdown",
   "id": "c85683f4-44c1-4c0b-b465-59bd1f90197a",
   "metadata": {},
   "source": [
    "#### Percentages and Population Size"
   ]
  },
  {
   "cell_type": "markdown",
   "id": "7a9fb81c-2b72-4d2d-8306-8dd82a37fd19",
   "metadata": {},
   "source": [
    "Something else to be cautious of is that several columns are based on percentages of the population. These percentages can be somewhat deceptive for rows containing lower populations. For example, 100% of the population being minority feels more meaningful when the population size is 2416 than if the population size is 8. For this reason we want to remove rows with especially small population sizes.\n",
    "\n",
    "Additionally, each row represents a Census tract. Census tracts generally have a population size above 1,200. Rows with a population size below 1,200 correspond to tribal data. We do not want to eliminate the tribal data, especially with the history of environmental injustice towards indigenous people. For this reason, we will set a population size of 30 as a lower bound for the data. This way, we can feel more confident in interpreting percentages and still keep as much of the tribal data as possible.\n",
    "\n",
    "Below we verify that the data corresponding to population sizes below 30 is reasonably distributed across all states."
   ]
  },
  {
   "cell_type": "code",
   "execution_count": 20,
   "id": "e5c18a08-535d-45ff-83e7-26611805875e",
   "metadata": {},
   "outputs": [
    {
     "data": {
      "text/plain": [
       "New York          34\n",
       "Florida           19\n",
       "California        18\n",
       "Texas             15\n",
       "Pennsylvania      15\n",
       "Puerto Rico       10\n",
       "Virginia          10\n",
       "Tennessee          9\n",
       "Hawaii             8\n",
       "Kansas             6\n",
       "Michigan           6\n",
       "North Carolina     5\n",
       "Massachusetts      4\n",
       "Missouri           4\n",
       "Louisiana          4\n",
       "Arizona            4\n",
       "Ohio               3\n",
       "Alabama            3\n",
       "Kentucky           3\n",
       "Maryland           2\n",
       "New Jersey         2\n",
       "Indiana            2\n",
       "Georgia            2\n",
       "Rhode Island       1\n",
       "Washington         1\n",
       "Arkansas           1\n",
       "South Carolina     1\n",
       "Montana            1\n",
       "Idaho              1\n",
       "Nebraska           1\n",
       "Oklahoma           1\n",
       "Alaska             1\n",
       "Illinois           1\n",
       "Nevada             1\n",
       "Oregon             1\n",
       "Name: st_name, dtype: int64"
      ]
     },
     "execution_count": 20,
     "metadata": {},
     "output_type": "execute_result"
    }
   ],
   "source": [
    "env.loc[env['pop'] <= 30, 'st_name'].value_counts()"
   ]
  },
  {
   "cell_type": "code",
   "execution_count": 21,
   "id": "adb1ccd3",
   "metadata": {},
   "outputs": [],
   "source": [
    "env = env[env['pop']>=30]"
   ]
  },
  {
   "cell_type": "markdown",
   "id": "e75894ac-8985-4bf6-9628-6aa72e3044ae",
   "metadata": {},
   "source": [
    "#### Removing Rows with Too Many Zeros"
   ]
  },
  {
   "cell_type": "markdown",
   "id": "13c2eec0-94b8-4d68-8e1c-3501f55712e7",
   "metadata": {},
   "source": [
    "Earlier when we examined rows with a population size of zero, we saw that many of them also had zeros in other demographic columns. The demographic columns are primarily percentages, so values of zero within these columns are possible but highly unlikely (especially in places with large populations). It is likely the case that some of the zeros are really just missing values.\n",
    "\n",
    "Below we show the Census tracts containing six values of zero. Notice that the first California tract a population of 6,372. It is hard to imagine that there are no unemployed or elderly people."
   ]
  },
  {
   "cell_type": "code",
   "execution_count": 22,
   "id": "1647c8e4",
   "metadata": {},
   "outputs": [],
   "source": [
    "# subset the data along the demographic columns\n",
    "dem_info = env.loc[:,'pop':'unemp_pct']"
   ]
  },
  {
   "cell_type": "code",
   "execution_count": 23,
   "id": "a59f4991-4026-46ae-85f0-46fc40055193",
   "metadata": {},
   "outputs": [
    {
     "data": {
      "text/html": [
       "<div>\n",
       "<style scoped>\n",
       "    .dataframe tbody tr th:only-of-type {\n",
       "        vertical-align: middle;\n",
       "    }\n",
       "\n",
       "    .dataframe tbody tr th {\n",
       "        vertical-align: top;\n",
       "    }\n",
       "\n",
       "    .dataframe thead th {\n",
       "        text-align: right;\n",
       "    }\n",
       "</style>\n",
       "<table border=\"1\" class=\"dataframe\">\n",
       "  <thead>\n",
       "    <tr style=\"text-align: right;\">\n",
       "      <th></th>\n",
       "      <th>9303</th>\n",
       "      <th>27390</th>\n",
       "      <th>12257</th>\n",
       "      <th>48572</th>\n",
       "      <th>45064</th>\n",
       "      <th>48574</th>\n",
       "      <th>29408</th>\n",
       "      <th>48676</th>\n",
       "      <th>18616</th>\n",
       "      <th>69328</th>\n",
       "    </tr>\n",
       "  </thead>\n",
       "  <tbody>\n",
       "    <tr>\n",
       "      <th>st_name</th>\n",
       "      <td>California</td>\n",
       "      <td>Kentucky</td>\n",
       "      <td>Colorado</td>\n",
       "      <td>North Carolina</td>\n",
       "      <td>New York</td>\n",
       "      <td>North Carolina</td>\n",
       "      <td>Louisiana</td>\n",
       "      <td>North Carolina</td>\n",
       "      <td>Georgia</td>\n",
       "      <td>Virginia</td>\n",
       "    </tr>\n",
       "    <tr>\n",
       "      <th>st_abbrev</th>\n",
       "      <td>CA</td>\n",
       "      <td>KY</td>\n",
       "      <td>CO</td>\n",
       "      <td>NC</td>\n",
       "      <td>NY</td>\n",
       "      <td>NC</td>\n",
       "      <td>LA</td>\n",
       "      <td>NC</td>\n",
       "      <td>GA</td>\n",
       "      <td>VA</td>\n",
       "    </tr>\n",
       "    <tr>\n",
       "      <th>region</th>\n",
       "      <td>9</td>\n",
       "      <td>4</td>\n",
       "      <td>8</td>\n",
       "      <td>4</td>\n",
       "      <td>2</td>\n",
       "      <td>4</td>\n",
       "      <td>6</td>\n",
       "      <td>4</td>\n",
       "      <td>4</td>\n",
       "      <td>3</td>\n",
       "    </tr>\n",
       "    <tr>\n",
       "      <th>pop</th>\n",
       "      <td>6372</td>\n",
       "      <td>4641</td>\n",
       "      <td>4329</td>\n",
       "      <td>3801</td>\n",
       "      <td>2969</td>\n",
       "      <td>2697</td>\n",
       "      <td>1918</td>\n",
       "      <td>1727</td>\n",
       "      <td>737</td>\n",
       "      <td>686</td>\n",
       "    </tr>\n",
       "    <tr>\n",
       "      <th>poc_pct</th>\n",
       "      <td>0.537665</td>\n",
       "      <td>0.382892</td>\n",
       "      <td>0.236082</td>\n",
       "      <td>0.416206</td>\n",
       "      <td>0.134725</td>\n",
       "      <td>0.342974</td>\n",
       "      <td>0.513034</td>\n",
       "      <td>0.525767</td>\n",
       "      <td>0.489824</td>\n",
       "      <td>0.629738</td>\n",
       "    </tr>\n",
       "    <tr>\n",
       "      <th>low_inc_pct</th>\n",
       "      <td>0.0</td>\n",
       "      <td>0.0</td>\n",
       "      <td>0.0</td>\n",
       "      <td>0.0</td>\n",
       "      <td>0.0</td>\n",
       "      <td>0.0</td>\n",
       "      <td>0.0</td>\n",
       "      <td>0.0</td>\n",
       "      <td>0.0</td>\n",
       "      <td>0.0</td>\n",
       "    </tr>\n",
       "    <tr>\n",
       "      <th>sub_hs_pct</th>\n",
       "      <td>0.0</td>\n",
       "      <td>0.0</td>\n",
       "      <td>0.0</td>\n",
       "      <td>0.0</td>\n",
       "      <td>0.0</td>\n",
       "      <td>0.0</td>\n",
       "      <td>0.0</td>\n",
       "      <td>0.0</td>\n",
       "      <td>0.0</td>\n",
       "      <td>0.0</td>\n",
       "    </tr>\n",
       "    <tr>\n",
       "      <th>ling_iso_pct</th>\n",
       "      <td>0.0</td>\n",
       "      <td>0.0</td>\n",
       "      <td>0.0</td>\n",
       "      <td>0.0</td>\n",
       "      <td>0.0</td>\n",
       "      <td>0.0</td>\n",
       "      <td>0.0</td>\n",
       "      <td>0.0</td>\n",
       "      <td>0.0</td>\n",
       "      <td>0.0</td>\n",
       "    </tr>\n",
       "    <tr>\n",
       "      <th>under_5_pct</th>\n",
       "      <td>0.0</td>\n",
       "      <td>0.0</td>\n",
       "      <td>0.0</td>\n",
       "      <td>0.0</td>\n",
       "      <td>0.0</td>\n",
       "      <td>0.0</td>\n",
       "      <td>0.0</td>\n",
       "      <td>0.0</td>\n",
       "      <td>0.0</td>\n",
       "      <td>0.0</td>\n",
       "    </tr>\n",
       "    <tr>\n",
       "      <th>over_64_pct</th>\n",
       "      <td>0.0</td>\n",
       "      <td>0.0</td>\n",
       "      <td>0.0</td>\n",
       "      <td>0.0</td>\n",
       "      <td>0.0</td>\n",
       "      <td>0.0</td>\n",
       "      <td>0.0</td>\n",
       "      <td>0.0</td>\n",
       "      <td>0.0</td>\n",
       "      <td>0.0</td>\n",
       "    </tr>\n",
       "    <tr>\n",
       "      <th>unemp_pct</th>\n",
       "      <td>0.0</td>\n",
       "      <td>0.0</td>\n",
       "      <td>0.0</td>\n",
       "      <td>0.0</td>\n",
       "      <td>0.0</td>\n",
       "      <td>0.0</td>\n",
       "      <td>0.0</td>\n",
       "      <td>0.0</td>\n",
       "      <td>0.0</td>\n",
       "      <td>0.0</td>\n",
       "    </tr>\n",
       "    <tr>\n",
       "      <th>pre_1960_pct</th>\n",
       "      <td>0.0</td>\n",
       "      <td>0.0</td>\n",
       "      <td>0.0</td>\n",
       "      <td>0.0</td>\n",
       "      <td>0.0</td>\n",
       "      <td>0.0</td>\n",
       "      <td>1.0</td>\n",
       "      <td>0.0</td>\n",
       "      <td>0.0</td>\n",
       "      <td>0.0</td>\n",
       "    </tr>\n",
       "    <tr>\n",
       "      <th>diesel_pm</th>\n",
       "      <td>0.694723</td>\n",
       "      <td>0.134652</td>\n",
       "      <td>0.052611</td>\n",
       "      <td>0.161659</td>\n",
       "      <td>0.115106</td>\n",
       "      <td>0.131334</td>\n",
       "      <td>0.093551</td>\n",
       "      <td>0.278133</td>\n",
       "      <td>0.089567</td>\n",
       "      <td>0.33206</td>\n",
       "    </tr>\n",
       "    <tr>\n",
       "      <th>cancer</th>\n",
       "      <td>30.0</td>\n",
       "      <td>30.0</td>\n",
       "      <td>10.0</td>\n",
       "      <td>30.0</td>\n",
       "      <td>20.0</td>\n",
       "      <td>30.0</td>\n",
       "      <td>30.0</td>\n",
       "      <td>40.0</td>\n",
       "      <td>40.0</td>\n",
       "      <td>30.0</td>\n",
       "    </tr>\n",
       "    <tr>\n",
       "      <th>resp_index</th>\n",
       "      <td>0.4</td>\n",
       "      <td>0.4</td>\n",
       "      <td>0.1</td>\n",
       "      <td>0.6</td>\n",
       "      <td>0.2</td>\n",
       "      <td>0.4</td>\n",
       "      <td>0.5</td>\n",
       "      <td>0.4</td>\n",
       "      <td>0.6</td>\n",
       "      <td>0.3</td>\n",
       "    </tr>\n",
       "    <tr>\n",
       "      <th>traffic_prox</th>\n",
       "      <td>3036.588829</td>\n",
       "      <td>10.38603</td>\n",
       "      <td>0.032538</td>\n",
       "      <td>61.28812</td>\n",
       "      <td>150.226875</td>\n",
       "      <td>191.818276</td>\n",
       "      <td>4.28874</td>\n",
       "      <td>469.159597</td>\n",
       "      <td>2.947631</td>\n",
       "      <td>939.139919</td>\n",
       "    </tr>\n",
       "    <tr>\n",
       "      <th>npl_prox</th>\n",
       "      <td>0.013948</td>\n",
       "      <td>0.014444</td>\n",
       "      <td>0.016854</td>\n",
       "      <td>0.087657</td>\n",
       "      <td>0.049709</td>\n",
       "      <td>0.113248</td>\n",
       "      <td>0.040032</td>\n",
       "      <td>0.05773</td>\n",
       "      <td>0.011782</td>\n",
       "      <td>4.702068</td>\n",
       "    </tr>\n",
       "    <tr>\n",
       "      <th>rmp_prox</th>\n",
       "      <td>3.1946</td>\n",
       "      <td>0.083657</td>\n",
       "      <td>0.454469</td>\n",
       "      <td>0.594368</td>\n",
       "      <td>0.232659</td>\n",
       "      <td>0.38506</td>\n",
       "      <td>0.038883</td>\n",
       "      <td>0.854175</td>\n",
       "      <td>0.556932</td>\n",
       "      <td>1.350324</td>\n",
       "    </tr>\n",
       "    <tr>\n",
       "      <th>waste_prox</th>\n",
       "      <td>22.473111</td>\n",
       "      <td>0.971601</td>\n",
       "      <td>0.136303</td>\n",
       "      <td>0.810008</td>\n",
       "      <td>2.49434</td>\n",
       "      <td>0.38506</td>\n",
       "      <td>0.643867</td>\n",
       "      <td>1.1585</td>\n",
       "      <td>0.368344</td>\n",
       "      <td>3.898159</td>\n",
       "    </tr>\n",
       "    <tr>\n",
       "      <th>ozone</th>\n",
       "      <td>40.687878</td>\n",
       "      <td>42.358053</td>\n",
       "      <td>56.623387</td>\n",
       "      <td>41.39781</td>\n",
       "      <td>39.985032</td>\n",
       "      <td>41.468152</td>\n",
       "      <td>35.629014</td>\n",
       "      <td>42.105603</td>\n",
       "      <td>36.638444</td>\n",
       "      <td>39.451952</td>\n",
       "    </tr>\n",
       "    <tr>\n",
       "      <th>pm_25</th>\n",
       "      <td>9.953601</td>\n",
       "      <td>8.472164</td>\n",
       "      <td>5.85</td>\n",
       "      <td>7.473247</td>\n",
       "      <td>6.376586</td>\n",
       "      <td>7.442204</td>\n",
       "      <td>9.374798</td>\n",
       "      <td>8.561725</td>\n",
       "      <td>8.702466</td>\n",
       "      <td>6.927472</td>\n",
       "    </tr>\n",
       "    <tr>\n",
       "      <th>undgrd_stor</th>\n",
       "      <td>2.812983</td>\n",
       "      <td>0.0</td>\n",
       "      <td>0.137574</td>\n",
       "      <td>0.0</td>\n",
       "      <td>3.450239</td>\n",
       "      <td>0.0</td>\n",
       "      <td>0.0</td>\n",
       "      <td>25.02905</td>\n",
       "      <td>0.005778</td>\n",
       "      <td>0.909898</td>\n",
       "    </tr>\n",
       "    <tr>\n",
       "      <th>shape_length</th>\n",
       "      <td>11537.681086</td>\n",
       "      <td>18041.142339</td>\n",
       "      <td>50489.276432</td>\n",
       "      <td>19837.369869</td>\n",
       "      <td>6185.768082</td>\n",
       "      <td>16390.178583</td>\n",
       "      <td>113665.921105</td>\n",
       "      <td>3295.425268</td>\n",
       "      <td>132028.435985</td>\n",
       "      <td>12261.350178</td>\n",
       "    </tr>\n",
       "    <tr>\n",
       "      <th>shape_area</th>\n",
       "      <td>2570544.217985</td>\n",
       "      <td>11084500.764633</td>\n",
       "      <td>80521189.874987</td>\n",
       "      <td>9531762.389093</td>\n",
       "      <td>1602146.793671</td>\n",
       "      <td>7818385.007978</td>\n",
       "      <td>551885662.192461</td>\n",
       "      <td>642402.939863</td>\n",
       "      <td>428915924.21692</td>\n",
       "      <td>5854747.348034</td>\n",
       "    </tr>\n",
       "  </tbody>\n",
       "</table>\n",
       "</div>"
      ],
      "text/plain": [
       "                       9303             27390            12257  \\\n",
       "st_name           California         Kentucky         Colorado   \n",
       "st_abbrev                 CA               KY               CO   \n",
       "region                     9                4                8   \n",
       "pop                     6372             4641             4329   \n",
       "poc_pct             0.537665         0.382892         0.236082   \n",
       "low_inc_pct              0.0              0.0              0.0   \n",
       "sub_hs_pct               0.0              0.0              0.0   \n",
       "ling_iso_pct             0.0              0.0              0.0   \n",
       "under_5_pct              0.0              0.0              0.0   \n",
       "over_64_pct              0.0              0.0              0.0   \n",
       "unemp_pct                0.0              0.0              0.0   \n",
       "pre_1960_pct             0.0              0.0              0.0   \n",
       "diesel_pm           0.694723         0.134652         0.052611   \n",
       "cancer                  30.0             30.0             10.0   \n",
       "resp_index               0.4              0.4              0.1   \n",
       "traffic_prox     3036.588829         10.38603         0.032538   \n",
       "npl_prox            0.013948         0.014444         0.016854   \n",
       "rmp_prox              3.1946         0.083657         0.454469   \n",
       "waste_prox         22.473111         0.971601         0.136303   \n",
       "ozone              40.687878        42.358053        56.623387   \n",
       "pm_25               9.953601         8.472164             5.85   \n",
       "undgrd_stor         2.812983              0.0         0.137574   \n",
       "shape_length    11537.681086     18041.142339     50489.276432   \n",
       "shape_area    2570544.217985  11084500.764633  80521189.874987   \n",
       "\n",
       "                       48572           45064           48574  \\\n",
       "st_name       North Carolina        New York  North Carolina   \n",
       "st_abbrev                 NC              NY              NC   \n",
       "region                     4               2               4   \n",
       "pop                     3801            2969            2697   \n",
       "poc_pct             0.416206        0.134725        0.342974   \n",
       "low_inc_pct              0.0             0.0             0.0   \n",
       "sub_hs_pct               0.0             0.0             0.0   \n",
       "ling_iso_pct             0.0             0.0             0.0   \n",
       "under_5_pct              0.0             0.0             0.0   \n",
       "over_64_pct              0.0             0.0             0.0   \n",
       "unemp_pct                0.0             0.0             0.0   \n",
       "pre_1960_pct             0.0             0.0             0.0   \n",
       "diesel_pm           0.161659        0.115106        0.131334   \n",
       "cancer                  30.0            20.0            30.0   \n",
       "resp_index               0.6             0.2             0.4   \n",
       "traffic_prox        61.28812      150.226875      191.818276   \n",
       "npl_prox            0.087657        0.049709        0.113248   \n",
       "rmp_prox            0.594368        0.232659         0.38506   \n",
       "waste_prox          0.810008         2.49434         0.38506   \n",
       "ozone               41.39781       39.985032       41.468152   \n",
       "pm_25               7.473247        6.376586        7.442204   \n",
       "undgrd_stor              0.0        3.450239             0.0   \n",
       "shape_length    19837.369869     6185.768082    16390.178583   \n",
       "shape_area    9531762.389093  1602146.793671  7818385.007978   \n",
       "\n",
       "                         29408           48676            18616  \\\n",
       "st_name              Louisiana  North Carolina          Georgia   \n",
       "st_abbrev                   LA              NC               GA   \n",
       "region                       6               4                4   \n",
       "pop                       1918            1727              737   \n",
       "poc_pct               0.513034        0.525767         0.489824   \n",
       "low_inc_pct                0.0             0.0              0.0   \n",
       "sub_hs_pct                 0.0             0.0              0.0   \n",
       "ling_iso_pct               0.0             0.0              0.0   \n",
       "under_5_pct                0.0             0.0              0.0   \n",
       "over_64_pct                0.0             0.0              0.0   \n",
       "unemp_pct                  0.0             0.0              0.0   \n",
       "pre_1960_pct               1.0             0.0              0.0   \n",
       "diesel_pm             0.093551        0.278133         0.089567   \n",
       "cancer                    30.0            40.0             40.0   \n",
       "resp_index                 0.5             0.4              0.6   \n",
       "traffic_prox           4.28874      469.159597         2.947631   \n",
       "npl_prox              0.040032         0.05773         0.011782   \n",
       "rmp_prox              0.038883        0.854175         0.556932   \n",
       "waste_prox            0.643867          1.1585         0.368344   \n",
       "ozone                35.629014       42.105603        36.638444   \n",
       "pm_25                 9.374798        8.561725         8.702466   \n",
       "undgrd_stor                0.0        25.02905         0.005778   \n",
       "shape_length     113665.921105     3295.425268    132028.435985   \n",
       "shape_area    551885662.192461   642402.939863  428915924.21692   \n",
       "\n",
       "                       69328  \n",
       "st_name             Virginia  \n",
       "st_abbrev                 VA  \n",
       "region                     3  \n",
       "pop                      686  \n",
       "poc_pct             0.629738  \n",
       "low_inc_pct              0.0  \n",
       "sub_hs_pct               0.0  \n",
       "ling_iso_pct             0.0  \n",
       "under_5_pct              0.0  \n",
       "over_64_pct              0.0  \n",
       "unemp_pct                0.0  \n",
       "pre_1960_pct             0.0  \n",
       "diesel_pm            0.33206  \n",
       "cancer                  30.0  \n",
       "resp_index               0.3  \n",
       "traffic_prox      939.139919  \n",
       "npl_prox            4.702068  \n",
       "rmp_prox            1.350324  \n",
       "waste_prox          3.898159  \n",
       "ozone              39.451952  \n",
       "pm_25               6.927472  \n",
       "undgrd_stor         0.909898  \n",
       "shape_length    12261.350178  \n",
       "shape_area    5854747.348034  "
      ]
     },
     "execution_count": 23,
     "metadata": {},
     "output_type": "execute_result"
    }
   ],
   "source": [
    "env[(dem_info == 0).sum(axis = 1) == 6].sort_values(by = 'pop', ascending = False).head(10).T"
   ]
  },
  {
   "cell_type": "markdown",
   "id": "acc75246-bd7e-4084-865c-1766e7b3d4b5",
   "metadata": {},
   "source": [
    "Unfortunately, because we cannot accurately determine when these zeros are genuine zeros or missing values, we do not have a great way to correct this problem. Our approach will be to simply remove rows with too many zeros in the demographic columns.\n",
    "\n",
    "Looking at the value counts of the number of zeros that appear in each row, it seems safe to remove all of the rows containing five or more zeros."
   ]
  },
  {
   "cell_type": "code",
   "execution_count": 24,
   "id": "e760a6d6-544f-48d1-ad13-7dfb80994c1e",
   "metadata": {},
   "outputs": [
    {
     "data": {
      "text/plain": [
       "7        1\n",
       "6       27\n",
       "5       57\n",
       "4      131\n",
       "3       96\n",
       "2      495\n",
       "1    18658\n",
       "0    53755\n",
       "dtype: int64"
      ]
     },
     "execution_count": 24,
     "metadata": {},
     "output_type": "execute_result"
    }
   ],
   "source": [
    "# sum the number of zeros in each row\n",
    "# then determine the appearances of each coun\n",
    "(dem_info == 0).sum(axis = 1).value_counts(ascending = True).sort_index(ascending = False)"
   ]
  },
  {
   "cell_type": "code",
   "execution_count": 25,
   "id": "d20fc084-41f2-4937-af56-34005cd39f18",
   "metadata": {},
   "outputs": [],
   "source": [
    "# remove rows with 5 or more zeros\n",
    "env = env[(dem_info == 0).sum(axis = 1) < 5]"
   ]
  },
  {
   "cell_type": "markdown",
   "id": "fee20e97-6edf-456b-8fad-1253a921901e",
   "metadata": {},
   "source": [
    "#### Cancer Outlier"
   ]
  },
  {
   "cell_type": "markdown",
   "id": "755e3fe9-c6af-4473-95e7-c837eaaedcc4",
   "metadata": {},
   "source": [
    "There is one major outlier in the cancer column containing a value of 2,000."
   ]
  },
  {
   "cell_type": "code",
   "execution_count": 26,
   "id": "748c321a-e59e-4e66-9a99-d9d0ac8c5772",
   "metadata": {},
   "outputs": [
    {
     "data": {
      "image/png": "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\n",
      "text/plain": [
       "<Figure size 432x288 with 1 Axes>"
      ]
     },
     "metadata": {
      "needs_background": "light"
     },
     "output_type": "display_data"
    }
   ],
   "source": [
    "sns.boxplot(x = env['cancer']);"
   ]
  },
  {
   "cell_type": "markdown",
   "id": "f726a1e7-b906-4863-98b1-d5efdf38d103",
   "metadata": {},
   "source": [
    "This outlier comes from a Census tract in Puerto Rico with high POC and low income percentages, but otherwise typical values in the other columns. After further research, we were unable to find any indication that areas in Puerto Rico have extremely high instances of cancer, and therefore it is possible that this observation is an error.\n",
    "\n",
    "The next largest cancer rate we see in the data is a value of 1,000 that comes from a Census tract in Louisiana. There is an infamous area there known as ‘Cancer Alley’ with extraordinarily high cancer rates. Therefore this observation may be reasonable to leave in our dataset."
   ]
  },
  {
   "cell_type": "code",
   "execution_count": 27,
   "id": "6753b005-18f6-46b8-b208-7126c68cf83b",
   "metadata": {},
   "outputs": [],
   "source": [
    "# drop the cancer \n",
    "env = env[env['cancer'] < 1500]"
   ]
  },
  {
   "cell_type": "markdown",
   "id": "1f403163-4b5c-4228-be41-9f00f12d424c",
   "metadata": {},
   "source": [
    "We will now save this DataFrame to a csv file for future reference."
   ]
  },
  {
   "cell_type": "code",
   "execution_count": 28,
   "id": "f88f6c5a-4717-42d1-958a-e46573981e96",
   "metadata": {},
   "outputs": [],
   "source": [
    "env.to_csv('../data/cleaned_ejscreen.csv', index = True)"
   ]
  },
  {
   "cell_type": "markdown",
   "id": "8a9619a0-305f-4183-9da6-f2b14df7724a",
   "metadata": {},
   "source": [
    "---\n",
    "\n",
    "## Imputing"
   ]
  },
  {
   "cell_type": "markdown",
   "id": "a32f6559-19cc-49bb-a21d-b28a2135490d",
   "metadata": {},
   "source": [
    "#### Transforming the Data"
   ]
  },
  {
   "cell_type": "markdown",
   "id": "7cc78215-37e7-4ef2-830e-fdd901368ae3",
   "metadata": {},
   "source": [
    "We have dealt with all of the null values except for those in the `traffic_prox`, `ozone`, and `pm_25` columns. Let us now resort to imputing these missing values in all three columns using iterative imputer"
   ]
  },
  {
   "cell_type": "code",
   "execution_count": 29,
   "id": "1c418cef-879d-4268-903a-5adcc2280cf1",
   "metadata": {},
   "outputs": [],
   "source": [
    "cols_to_impute = ['traffic_prox', 'ozone', 'pm_25']"
   ]
  },
  {
   "cell_type": "code",
   "execution_count": 30,
<<<<<<< Updated upstream
=======
   "id": "541037db-0620-47cb-ae1b-1c1a04b6d911",
   "metadata": {},
   "outputs": [
    {
     "data": {
      "image/png": "iVBORw0KGgoAAAANSUhEUgAAAtIAAAOaCAYAAAC1FrUfAAAAOXRFWHRTb2Z0d2FyZQBNYXRwbG90bGliIHZlcnNpb24zLjUuMSwgaHR0cHM6Ly9tYXRwbG90bGliLm9yZy/YYfK9AAAACXBIWXMAAAsTAAALEwEAmpwYAABOqklEQVR4nO39fdydZX3ne3++JYpoi4AEShNqsKZaYCpKNoN175aKlnRwDPfeMk1nLLGlOy2bdrTTGRvavcd25s7saDs+MC3McPuQoFZMaS3ZIlYaSx2nCAbBIiAlhQgpSOIDirZig7/7j3Vku7iyklw51nVlXbnyeb9e63We63cex7mO9ZDkm3Md6zxTVUiSJEk6MN8z6QFIkiRJhyKDtCRJktTBIC1JkiR1MEhLkiRJHQzSkiRJUgeDtCRJktTBIC1Jc0CS70+yIcn2JE8mqSTHtG1HJ7k8ybYku9q2M5Kc09Z/e7Kjl6TD04JJD0CS5pokS4AHgA1V9bqD9LDrgZ8CPgBsBQr4Vtv2FuCXgA8D7wWeBL4IHHOQxiZJGsEgLUkTluTpwCuBP6+qfzWiyauAv6mqfz6l39eBHwG+NPujlCRN5dQOSZq872fw9/HDe9n+A8AjU4tV9fdV9fmqMkhL0gQYpCVpSJtv/EC7u6rNQd59e93wvOQkZyW5PslXWm1J28dPJrkqyd1Jvp7kH5J8LsmbkjxjyuNtA74w4vHWJ7kpSQEBfmJo202t717nSCc5Lsna9rh/n+RrST6bZF2SZ3W8LuvbYz0vyb9J8vkk32pzut+W5OgRfba129FJ3trW/3F4vEnOTfLR9hp+K8nftDE+e6jNsa3vE0nOnPIY37P7dUry2gN9XpI0Dqd2SNJT3cRg7vHrgc8Cfzq07Q6+Oy/5pcBlwCeBdwPHA99u234DeCHwV8D1wDOAlwG/DZyT5BVV9WRr+3ZgyYjH2/1YNwFvYhC217dt2/b1BJKcAvwF8FzgNuBKBgdOfhj4NeC/At/c1z724W3AjwMbgeuA84A3AP9Lkv+5qr41pf3TgY8DxwEfA75O+49Kkl9qY/sm8EfADuAcBq/fP0/ysqp6rKq+mmQl8N+BDyZ5SVV9ve3/TcBPAOur6n2dz0mS+lSVN2/evHkbujEItsUgnE3ddk7bVsAv7aX/84CMqP/H1u9npvt4bXsBN+1jLL89pf4/Wv2yEX2OB57R8Zqsb/v8EvDcofr3AH/ctv1fU/psa/U/B541ZdtzgScYBOsXTtl2Ret31ZT6G1v9A+3+TzL44eXdU/fvzZs3bwfj5tQOSepzR1X9t1Ebqur+qqoRm97elufN1qDa1IcfY3BE+80jxval2vOo8YF4R1XtnopCVX0H+HfAd4Bf2EufX6+qqUfAX8vgaPXvV9Xnp2z7LeBx4OeSHDlU/13go8DKJGuA9zP4FuBnRuxfkmadQVqS+ty6tw1JnpXkN5N8us1N/k6b67z7R4GLZnFcZ7fln7WQO9P+cmqhqu4HHgKW7D739ZBvAX89Yj8vacuPj9jfV4HbGUyJeeFQvYCLGPwo8/8GTgJeX1V3HvCzkKQZ4BxpSerzxVHFJE9jEA7PAj4HfBDYCfxja/Im4MhRfWfIMW35d7O0/0f3Uv8ig+kazwYeG6rv2MvR+d0/JtzjbCRT6scMF6tqZ5JPACuBLzM4r7YkTYRBWpL6jAqHACsYhOg9LuaS5CQGQXo2PdaWs3XU+0Tg3hH172/Lr02p7+112t3u+4G7Rmw/adT+2o8OVzI4un88cDnwv+97yJI0O5zaIUl72n1GjSM6+j6/Lf94xLaf6BvOAflUW56XZDb+jt/jOSR5HnAysK2qHpvmfm5vy3NG7O8Y4AwG00LuGar/EHAVgyP8LwE+AfxiC9eSdNAZpCVpT19lcCT1Bzv6bmvLc4aLLWzu8eO/mVZVtzE47d4ZDE4j9xRJnjP1XNYH6PVJnju0v+9h8CPA7wHecwD7eR+D6S6/muT5U7b9R+Bo4H1V9UR7nKczmCbzvcCqqnoI+JcMpndcNWIfkjTrnNohSVNU1TeS3MLg3MjvB/6GwVHqTdPo/v8AW4F/k+SfMDjy+oMMLvN9PX3h/EC9lsH5p/9Tkv+trQdYCvwUgx/wbevc9/8A7kjyQQbTLs4DXsTgfNVvme5OqmpbkjcAfwB8JslGBkeaf4LBObo/z1P/I/AW4EzgrVV1Q9vH3yV5HYPX/JokP1ZV30aSDhKPSEvSaD/HIPguZzCv+T/y3TNN7FU7DdvLgT8ETgP+NfCjrf9BufJeVT3AYKxvAb4P+BXgYgYh/j8zuPBJr18D/r8Mjri/HlgIvAN4+YGeVq+qrmAQxD8F/G/AvwFOYHCE+6VV9RWAJP+8PdYWYM2UfXyYwUVizmz9JOmgyegfU0uS9F1J1gOrgFOqattkRyNJc4NHpCVJkqQOBmlJkiSpgz82lKTDUPuR3pJpNL2jqv50VgcjSYco50hL0mEoyU1M77zWe1xYRpI0YJCWJEmSOkxrake7ytQ7gdMZXKTgFxhcIvaDDL4a3Ab8i6r6amt/GYNTLT0J/Ouq+rNWPxNYDxwFfAR4fVVVkiOBqxmcvujLwM/s71fhxx9/fC1ZsmS6z/Pgu7ddQfcFL5jsOCRJkjSW22677UtVtXBqfbpzpN8BfLSqXtOuLvVM4DeBzVW1LskaBuf2/I0kpwIrGZw/9QeAP0/yw1X1JHAlsJrBOUM/wuD8rDcwCN1frarnt0u9vhn4mX0NaMmSJWzZsmWaw5+Ac84ZLG+6aZKjkCRJ0piSfGFUfb9n7UhyNPDjwLsAqurbVfUYsALY0JptAC5o6yuAa6rqiXZRgK3AWUlOAo6uqptrMJ/k6il9du/rWuDcJDmQJyhJkiQdTNM5/d3zGFy29T1Jbk/yziTPAk6sqkcA2vKE1n4R8NBQ/+2ttqitT60/pU9V7WJw2dnndD0jSZIk6SCYTpBewOBSs1dW1YuBbzLlEq1TjDqSXPuo76vPU3ecrE6yJcmWnTt37nvUkiRJ0iyaTpDeDmyvqlva/WsZBOtH23QN2nLHUPuTh/ovBh5u9cUj6k/pk2QB8GzgK1MHUlVXVdWyqlq2cOEe870lSZKkg2a/Qbqqvgg8lGT36SfOBe4GNgGrWm0VcF1b3wSsTHJkklOApcCtbfrH40nObvOfL5rSZ/e+XgN8vDwvnyRJkuaw6Z6141eB97czdtwP/DyDEL4xycXAg8CFAFV1V5KNDML2LuDSdsYOgEv47unvbmg3GPyQ8b1JtjI4Er1yzOclSZIkzappBemqugNYNmLTuXtpvxZYO6K+hcG5qKfWv0UL4pIkSdKhYDpzpCVJkiRNYZCWJEmSOhikJUmSpA7T/bGhhixZc/1+21xz/5cBWDml7bZ158/KmCRJknRweURakiRJ6mCQliRJkjoYpCVJkqQOBmlJkiSpg0FakiRJ6mCQliRJkjoYpCVJkqQOBmlJkiSpg0FakiRJ6mCQliRJkjoYpCVJkqQOBmlJkiSpg0FakiRJ6mCQliRJkjoYpCVJkqQOBmlJkiSpg0FakiRJ6mCQliRJkjoYpCVJkqQOBmlJkiSpg0FakiRJ6mCQliRJkjoYpCVJkqQOBmlJkiSpg0FakiRJ6mCQliRJkjoYpCVJkqQOBmlJkiSpg0FakiRJ6jCtIJ1kW5I7k9yRZEurHZfkxiT3teWxQ+0vS7I1yb1Jzhuqn9n2szXJ5UnS6kcm+WCr35JkyQw/T0mSJGlGHcgR6Z+sqjOqalm7vwbYXFVLgc3tPklOBVYCpwHLgSuSHNH6XAmsBpa22/JWvxj4alU9H3gb8Ob+pyRJkiTNvnGmdqwANrT1DcAFQ/VrquqJqnoA2AqcleQk4OiqurmqCrh6Sp/d+7oWOHf30WpJkiRpLppukC7gY0luS7K61U6sqkcA2vKEVl8EPDTUd3urLWrrU+tP6VNVu4CvAc85sKciSZIkHTwLptnuZVX1cJITgBuTfH4fbUcdSa591PfV56k7HoT41QA/+IM/uO8RS5IkSbNoWkekq+rhttwBfAg4C3i0TdegLXe05tuBk4e6LwYebvXFI+pP6ZNkAfBs4CsjxnFVVS2rqmULFy6cztAlSZKkWbHfIJ3kWUm+b/c68FPA54BNwKrWbBVwXVvfBKxsZ+I4hcGPCm9t0z8eT3J2m/980ZQ+u/f1GuDjbR61JEmSNCdNZ2rHicCH2m//FgB/WFUfTfJpYGOSi4EHgQsBququJBuBu4FdwKVV9WTb1yXAeuAo4IZ2A3gX8N4kWxkciV45A89NkiRJmjX7DdJVdT/wohH1LwPn7qXPWmDtiPoW4PQR9W/RgrgkSZJ0KPDKhpIkSVIHg7QkSZLUwSAtSZIkdTBIS5IkSR0M0pIkSVIHg7QkSZLUwSAtSZIkdTBIS5IkSR0M0pIkSVIHg7QkSZLUwSAtSZIkdTBIS5IkSR0M0pIkSVIHg7QkSZLUwSAtSZIkdTBIS5IkSR0M0pIkSVIHg7QkSZLUwSAtSZIkdTBIS5IkSR0M0pIkSVIHg7QkSZLUwSAtSZIkdTBIS5IkSR0M0pIkSVIHg7QkSZLUwSAtSZIkdTBIS5IkSR0M0pIkSVIHg7QkSZLUwSAtSZIkdTBIS5IkSR0M0pIkSVKHaQfpJEckuT3Jh9v945LcmOS+tjx2qO1lSbYmuTfJeUP1M5Pc2bZdniStfmSSD7b6LUmWzOBzlCRJkmbcgRyRfj1wz9D9NcDmqloKbG73SXIqsBI4DVgOXJHkiNbnSmA1sLTdlrf6xcBXq+r5wNuAN3c9G0mSJOkgmVaQTrIYOB9451B5BbChrW8ALhiqX1NVT1TVA8BW4KwkJwFHV9XNVVXA1VP67N7XtcC5u49WS5IkSXPRdI9Ivx14I/CdodqJVfUIQFue0OqLgIeG2m1vtUVtfWr9KX2qahfwNeA5030SkiRJ0sG23yCd5FXAjqq6bZr7HHUkufZR31efqWNZnWRLki07d+6c5nAkSZKkmTedI9IvA16dZBtwDfDyJO8DHm3TNWjLHa39duDkof6LgYdbffGI+lP6JFkAPBv4ytSBVNVVVbWsqpYtXLhwWk9QkiRJmg37DdJVdVlVLa6qJQx+RPjxqnotsAlY1ZqtAq5r65uAle1MHKcw+FHhrW36x+NJzm7zny+a0mf3vl7THmOPI9KSJEnSXLFgjL7rgI1JLgYeBC4EqKq7kmwE7gZ2AZdW1ZOtzyXAeuAo4IZ2A3gX8N4kWxkciV45xrgkSZKkWXdAQbqqbgJuautfBs7dS7u1wNoR9S3A6SPq36IFcUmSJOlQ4JUNJUmSpA4GaUmSJKmDQVqSJEnqYJCWJEmSOhikJUmSpA4GaUmSJKmDQVqSJEnqYJCWJEmSOhikJUmSpA4GaUmSJKmDQVqSJEnqYJCWJEmSOhikJUmSpA4GaUmSJKmDQVqSJEnqYJCWJEmSOhikJUmSpA4GaUmSJKmDQVqSJEnqYJCWJEmSOhikJUmSpA4GaUmSJKmDQVqSJEnqYJCWJEmSOhikJUmSpA4GaUmSJKmDQVqSJEnqYJCWJEmSOhikJUmSpA4GaUmSJKmDQVqSJEnqYJCWJEmSOhikJUmSpA77DdJJnpHk1iSfTXJXkt9p9eOS3JjkvrY8dqjPZUm2Jrk3yXlD9TOT3Nm2XZ4krX5kkg+2+i1JlszCc5UkSZJmzHSOSD8BvLyqXgScASxPcjawBthcVUuBze0+SU4FVgKnAcuBK5Ic0fZ1JbAaWNpuy1v9YuCrVfV84G3Am8d/apIkSdLs2W+QroFvtLtPa7cCVgAbWn0DcEFbXwFcU1VPVNUDwFbgrCQnAUdX1c1VVcDVU/rs3te1wLm7j1ZLkiRJc9G05kgnOSLJHcAO4MaqugU4saoeAWjLE1rzRcBDQ923t9qitj61/pQ+VbUL+BrwnI7nI0mSJB0U0wrSVfVkVZ0BLGZwdPn0fTQfdSS59lHfV5+n7jhZnWRLki07d+7cz6glSZKk2XNAZ+2oqseAmxjMbX60TdegLXe0ZtuBk4e6LQYebvXFI+pP6ZNkAfBs4CsjHv+qqlpWVcsWLlx4IEOXJEmSZtR0ztqxMMkxbf0o4BXA54FNwKrWbBVwXVvfBKxsZ+I4hcGPCm9t0z8eT3J2m/980ZQ+u/f1GuDjbR61JEmSNCctmEabk4AN7cwb3wNsrKoPJ7kZ2JjkYuBB4EKAqroryUbgbmAXcGlVPdn2dQmwHjgKuKHdAN4FvDfJVgZHolfOxJOTJEmSZst+g3RV/TXw4hH1LwPn7qXPWmDtiPoWYI/51VX1LVoQlyRJkg4FXtlQkiRJ6mCQliRJkjoYpCVJkqQOBmlJkiSpg0FakiRJ6mCQliRJkjoYpCVJkqQOBmlJkiSpg0FakiRJ6mCQliRJkjoYpCVJkqQOBmlJkiSpg0FakiRJ6mCQliRJkjoYpCVJkqQOBmlJkiSpg0FakiRJ6mCQliRJkjoYpCVJkqQOBmlJkiSpg0FakiRJ6mCQliRJkjoYpCVJkqQOBmlJkiSpg0FakiRJ6mCQliRJkjoYpCVJkqQOBmlJkiSpg0FakiRJ6mCQliRJkjoYpCVJkqQOBmlJkiSpg0FakiRJ6rDfIJ3k5CR/keSeJHcleX2rH5fkxiT3teWxQ30uS7I1yb1Jzhuqn5nkzrbt8iRp9SOTfLDVb0myZBaeqyRJkjRjpnNEehfw61X1I8DZwKVJTgXWAJuraimwud2nbVsJnAYsB65IckTb15XAamBpuy1v9YuBr1bV84G3AW+egecmSZIkzZr9BumqeqSqPtPWHwfuARYBK4ANrdkG4IK2vgK4pqqeqKoHgK3AWUlOAo6uqpurqoCrp/TZva9rgXN3H62WJEmS5qIDmiPdply8GLgFOLGqHoFB2AZOaM0WAQ8Nddveaova+tT6U/pU1S7ga8BzDmRskiRJ0sE07SCd5HuBPwbeUFVf31fTEbXaR31ffaaOYXWSLUm27Ny5c39DliRJkmbNtIJ0kqcxCNHvr6o/aeVH23QN2nJHq28HTh7qvhh4uNUXj6g/pU+SBcCzga9MHUdVXVVVy6pq2cKFC6czdEmSJGlWTOesHQHeBdxTVW8d2rQJWNXWVwHXDdVXtjNxnMLgR4W3tukfjyc5u+3zoil9du/rNcDH2zxqSZIkaU5aMI02LwN+DrgzyR2t9pvAOmBjkouBB4ELAarqriQbgbsZnPHj0qp6svW7BFgPHAXc0G4wCOrvTbKVwZHoleM9LUmSJGl27TdIV9UnGT2HGeDcvfRZC6wdUd8CnD6i/i1aEJckSZIOBV7ZUJIkSepgkJYkSZI6GKQlSZKkDgZpSZIkqYNBWpIkSepgkJYkSZI6GKQlSZKkDgZpSZIkqYNBWpIkSepgkJYkSZI6GKQlSZKkDgZpSZIkqYNBWpIkSepgkJYkSZI6GKQlSZKkDgZpSZIkqYNBWpIkSepgkJYkSZI6GKQlSZKkDgZpSZIkqYNBWpIkSepgkJYkSZI6GKQlSZKkDgZpSZIkqYNBWpIkSepgkJYkSZI6GKQlSZKkDgZpSZIkqYNBWpIkSepgkJYkSZI6GKQlSZKkDgZpSZIkqYNBWpIkSeqw3yCd5N1JdiT53FDtuCQ3JrmvLY8d2nZZkq1J7k1y3lD9zCR3tm2XJ0mrH5nkg61+S5IlM/wcJUmSpBk3nSPS64HlU2prgM1VtRTY3O6T5FRgJXBa63NFkiNanyuB1cDSdtu9z4uBr1bV84G3AW/ufTKSJEnSwbLfIF1VnwC+MqW8AtjQ1jcAFwzVr6mqJ6rqAWArcFaSk4Cjq+rmqirg6il9du/rWuDc3UerJUmSpLmqd470iVX1CEBbntDqi4CHhtptb7VFbX1q/Sl9qmoX8DXgOZ3jkiRJkg6Kmf6x4agjybWP+r767LnzZHWSLUm27Ny5s3OIkiRJ0vh6g/SjbboGbbmj1bcDJw+1Www83OqLR9Sf0ifJAuDZ7DmVBICquqqqllXVsoULF3YOXZIkSRpfb5DeBKxq66uA64bqK9uZOE5h8KPCW9v0j8eTnN3mP180pc/ufb0G+HibRy1JkiTNWQv21yDJB4BzgOOTbAfeBKwDNia5GHgQuBCgqu5KshG4G9gFXFpVT7ZdXcLgDCBHATe0G8C7gPcm2crgSPTKGXlmkiRJ0izab5Cuqp/dy6Zz99J+LbB2RH0LcPqI+rdoQVySJEk6VHhlQ0mSJKmDQVqSJEnqYJCWJEmSOhikJUmSpA4GaUmSJKmDQVqSJEnqYJCWJEmSOuz3PNKaWUvWXN/dd9u682dwJJIkSRqHR6QlSZKkDgZpSZIkqYNBWpIkSepgkJYkSZI6GKQlSZKkDgZpSZIkqYNBWpIkSepgkJYkSZI6GKQlSZKkDgZpSZIkqYNBWpIkSepgkJYkSZI6GKQlSZKkDgZpSZIkqYNBWpIkSepgkJYkSZI6GKQlSZKkDgZpSZIkqcOCSQ9A07dkzfXdfbetO38GRyJJkiSPSEuSJEkdDNKSJElSB4O0JEmS1MEgLUmSJHUwSEuSJEkdPGvHYcIzfkiSJM2sOXNEOsnyJPcm2ZpkzaTHI0mSJO3LnDgineQI4A+AVwLbgU8n2VRVd092ZILxjmaDR7QlSdL8NCeCNHAWsLWq7gdIcg2wAjBIzwNOK5EkSfPRXAnSi4CHhu5vB/7phMaiOWTco+GTYPiXJOnwMFeCdEbUao9GyWpgdbv7jST3zuqo9u544Ev7avDS3StvftWsD0ZzS9683yb7/fxI++FnSOPyM6RxHI6fn+eOKs6VIL0dOHno/mLg4amNquoq4KqDNai9SbKlqpZNehw6NPn50bj8DGlcfoY0Dj8/3zVXztrxaWBpklOSPB1YCWya8JgkSZKkvZoTR6SraleSXwH+DDgCeHdV3TXhYUmSJEl7NSeCNEBVfQT4yKTHMU0Tn16iQ5qfH43Lz5DG5WdI4/Dz06Rqj9/0SZIkSdqPuTJHWpIkSTqkGKQPgJcx125J3p1kR5LPDdWOS3Jjkvva8tihbZe1z829Sc4bqp+Z5M627fIkafUjk3yw1W9JsuSgPkHNuiQnJ/mLJPckuSvJ61vdz5H2K8kzktya5LPt8/M7re7nRwckyRFJbk/y4Xbfz9ABMEhP09BlzH8aOBX42SSnTnZUmqD1wPIptTXA5qpaCmxu92mfk5XAaa3PFe3zBHAlg3OjL2233fu8GPhqVT0feBuw/7NT61CzC/j1qvoR4Gzg0vZZ8XOk6XgCeHlVvQg4A1ie5Gz8/OjAvR64Z+i+n6EDYJCevv/3MuZV9W1g92XMdRiqqk8AX5lSXgFsaOsbgAuG6tdU1RNV9QCwFTgryUnA0VV1cw1+rHD1lD6793UtcO7u/+FrfqiqR6rqM239cQb/kC3Cz5GmoQa+0e4+rd0KPz86AEkWA+cD7xwq+xk6AAbp6Rt1GfNFExqL5qYTq+oRGIQk4IRW39tnZ1Fbn1p/Sp+q2gV8DXjOrI1cE9W+7nwxcAt+jjRN7Sv5O4AdwI1V5edHB+rtwBuB7wzV/AwdAIP09E3rMubSCHv77OzrM+Xn7TCR5HuBPwbeUFVf31fTETU/R4exqnqyqs5gcDXgs5Kcvo/mfn70FEleBeyoqtum22VE7bD/DBmkp29alzHXYe3R9hUXbbmj1ff22dne1qfWn9InyQLg2ew5lUSHuCRPYxCi319Vf9LKfo50QKrqMeAmBvNS/fxoul4GvDrJNgbTVV+e5H34GTogBunp8zLm2p9NwKq2vgq4bqi+sv16+RQGP8S4tX1l9niSs9ucsYum9Nm9r9cAHy9P+j6vtPf8XcA9VfXWoU1+jrRfSRYmOaatHwW8Avg8fn40TVV1WVUtrqolDDLNx6vqtfgZOjBV5W2aN+CfAX8D/C3wW5Mej7eJfhY+ADwC/COD/3FfzGDe12bgvrY8bqj9b7XPzb3ATw/VlwGfa9t+n+9eJOkZwB8x+DHHrcDzJv2cvc34Z+h/ZvAV518Dd7TbP/Nz5G2an58fBW5vn5/PAf++1f38eOv5PJ0DfNjP0IHfvLKhJEmS1MGpHZIkSVIHg7QkSZLUwSAtSZIkdTBIS5IkSR0M0pIkSVIHg7QkSZLUwSAtSZIkdTBIS5IkSR0M0pIkSVIHg7QkSZLUwSAtSZIkdTBIS5IkSR0M0pIkSVIHg7QkSZLUwSAtSZIkdTBIS5IkSR0M0pIkSVIHg7QkSZLUwSAtSROW5F8k+USSryX5hyR3JrksyZFDbdYnqX3ctk3Z55FJ1iT56yR/n+TrSf57kn8x4vGXtH2sb+vXJPlSkm8l2ZLkVfsY+88m+YskX23t70nyfw6PXZLmq1TVpMcgSYetJP8JuAz4EnAt8A3gp4HTgL8EXllV/5jkAuCMEbv4J8D/CtxTVae2fT4d+BjwE8DngQ8DzwReA5wA/N9V9ZtDY1gCPADc1B73fuBm4DjgZ4CnAa+oqr+YMvZ3Ab8AbG+P9xhwNvBjbV+vrKpdXS+MJB0CDNKSNCFJXgr8FfAQcFZVfbHVFwAfAl4F/FZV/ae99F8MfAp4DvCTVfWpVr8M+E/ADcCrd4fZJCcAtwLPBV5WVX/V6ksYBGmA366q3xl6jPOAjwI3VNU/G6q/DnhPG+e/qqp/GNr228CbgDdU1Ts6Xx5JmvMM0pI0IUn+f8AvAr9UVVdN2fbDwD3AF6rqeSP6fh/w34EfBf5FVV07tO0+4IeAU6vq81P6XQy8E3hPVf1Cqy1hEKS/APxQVT05pc8XgGdV1fFDtduB04GFVfXYlPZHAI8C91fVWdN+QSTpELNg0gOQpMPYS9ry41M3VNXfJNkOnJLkmOGw2oLqRuBFwBunhOjvA54P/N3UED3lsV48YtsdU0N08xDw0qHHeGZ77C8Bb0gy6rk9AfzIqA2SNF8YpCVpcp7dlo/sZfsjwA+2do8N1f8AWA78t6r63Y59AhwzYttjI2oAu3jqj9OPBQIsZDCFQ5IOS561Q5Im52tt+f172X7SlHYkeSPwSwzmLV86E/vssLvv7VWVfd3GeAxJmvMM0pI0Obe35TlTNyR5PrAYeGD3tI4krwHWAZ9lMC96j2kYVfU48LfAoiRLRzzmT7blZ3oHXVXfAO4CTktyXO9+JOlQZ5CWpMl5d1v+n0kW7i62OdC/x+Dv6He12tnAe4GHgVe1wLyv/Qb43bav3fs9Hvi/pjx2r7cCTwfeneSYqRuTHJvkJXv0kqR5xDnSkjQhVfVXSd4CvBH4XJJrgW8yOI/06cAngd1zoN8NPAO4BfjFET/we6yq3t7Wf6/tYwXw2SQfYXAe6QsZnEf6LVX1yTHH/u4kZwL/B/C3Sf4MeJDBuadPAX6cwenxfnmcx5GkuczT30nShCVZCfwKgzNhPI3B1Iw/BP5zVX2rtdnG4PzPe/OFqloytM9nAP8G+JcMToW3i8GUkD+oqg9MefwlDE5/t6GqXjdifDcBPzFqznO76uEvA2cx+AHjVxgE6o8B79vLmUMkaV4wSEuSJEkdnCMtSZIkdTBIS5IkSR0M0pIkSVIHg7QkSZLUwSAtSZIkdThkzyN9/PHH15IlSyY9DEmz6d57B8sXvGCy45AkHdZuu+22L1XVwqn1QzZIL1myhC1btkx6GJJm0znnDJY33TTJUUiSDnNJvjCq7tQOSZIkqYNBWpIkSepgkJYkSZI6GKQlSZKkDgZpSZIkqYNBWpIkSepgkJYkSZI6GKQlSZKkDgZpSZIkqYNBWpIkSepwyF4iXNL8sWTN9SPr19z/ZQBW7mU7wLZ158/KmCRJ2h+PSEuSJEkdDNKSJElSB4O0JEmS1MEgLUmSJHUwSEuSJEkdDNKSJElSB4O0JEmS1MEgLUmSJHUwSEuSJEkdDNKSJElSB4O0JEmS1MEgLUmSJHUwSEuSJEkdDNKSJElSB4O0JEmS1MEgLUmSJHUwSEuSJEkdDNKSJElSB4O0JEmS1MEgLUmSJHVYMOkBSDr0LVlz/aSHIEnSQecRaUmSJKnDWEE6ya8luSvJ55J8IMkzkhyX5MYk97XlsUPtL0uyNcm9Sc4bqp+Z5M627fIkGWdckiRJ0mzrntqRZBHwr4FTq+ofkmwEVgKnApural2SNcAa4DeSnNq2nwb8APDnSX64qp4ErgRWA58CPgIsB24Y43lJOkyMM61k27rzZ3AkkqTDzbhTOxYARyVZADwTeBhYAWxo2zcAF7T1FcA1VfVEVT0AbAXOSnIScHRV3VxVBVw91EeSJEmak7qDdFX9HfB7wIPAI8DXqupjwIlV9Uhr8whwQuuyCHhoaBfbW21RW59alyRJkuas7iDd5j6vAE5hMFXjWUleu68uI2q1j/qox1ydZEuSLTt37jzQIUuSJEkzZpypHa8AHqiqnVX1j8CfAD8GPNqma9CWO1r77cDJQ/0XM5gKsr2tT63voaquqqplVbVs4cKFYwxdkiRJGs84QfpB4Owkz2xn2TgXuAfYBKxqbVYB17X1TcDKJEcmOQVYCtzapn88nuTstp+LhvpIkiRJc1L3WTuq6pYk1wKfAXYBtwNXAd8LbExyMYOwfWFrf1c7s8fdrf2l7YwdAJcA64GjGJytwzN2SJIkaU4b68qGVfUm4E1Tyk8wODo9qv1aYO2I+hbg9HHGIkmSJB1MXtlQkiRJ6mCQliRJkjoYpCVJkqQOBmlJkiSpg0FakiRJ6mCQliRJkjoYpCVJkqQOBmlJkiSpg0FakiRJ6mCQliRJkjoYpCVJkqQOBmlJkiSpg0FakiRJ6mCQliRJkjoYpCVJkqQOCyY9AEmalCVrru/uu23d+TM4EknSocgj0pIkSVIHg7QkSZLUwSAtSZIkdTBIS5IkSR0M0pIkSVIHg7QkSZLUwSAtSZIkdTBIS5IkSR0M0pIkSVIHg7QkSZLUwSAtSZIkdTBIS5IkSR0M0pIkSVIHg7QkSZLUwSAtSZIkdTBIS5IkSR0M0pIkSVIHg7QkSZLUwSAtSZIkdTBIS5IkSR0M0pIkSVIHg7QkSZLUwSAtSZIkdTBIS5IkSR0M0pIkSVIHg7QkSZLUwSAtSZIkdTBIS5IkSR0M0pIkSVKHsYJ0kmOSXJvk80nuSfLSJMcluTHJfW157FD7y5JsTXJvkvOG6mcmubNtuzxJxhmXJEmSNNvGPSL9DuCjVfVC4EXAPcAaYHNVLQU2t/skORVYCZwGLAeuSHJE28+VwGpgabstH3NckiRJ0qzqDtJJjgZ+HHgXQFV9u6oeA1YAG1qzDcAFbX0FcE1VPVFVDwBbgbOSnAQcXVU3V1UBVw/1kSRJkuakcY5IPw/YCbwnye1J3pnkWcCJVfUIQFue0NovAh4a6r+91Ra19al1SZIkac4aJ0gvAF4CXFlVLwa+SZvGsRej5j3XPup77iBZnWRLki07d+480PFKkiRJM2acIL0d2F5Vt7T71zII1o+26Rq05Y6h9icP9V8MPNzqi0fU91BVV1XVsqpatnDhwjGGLkmSJI2nO0hX1ReBh5K8oJXOBe4GNgGrWm0VcF1b3wSsTHJkklMY/Kjw1jb94/EkZ7ezdVw01EeSJEmakxaM2f9XgfcneTpwP/DzDML5xiQXAw8CFwJU1V1JNjII27uAS6vqybafS4D1wFHADe0mSZIkzVljBemqugNYNmLTuXtpvxZYO6K+BTh9nLFIkiRJB5NXNpQkSZI6GKQlSZKkDgZpSZIkqYNBWpIkSepgkJYkSZI6GKQlSZKkDgZpSZIkqYNBWpIkSepgkJYkSZI6GKQlSZKkDgZpSZIkqYNBWpIkSepgkJYkSZI6GKQlSZKkDgZpSZIkqYNBWpIkSepgkJYkSZI6GKQlSZKkDgZpSZIkqYNBWpIkSepgkJYkSZI6GKQlSZKkDgZpSZIkqcOCSQ9A0sxZsub67r7b1p0/gyORJGn+M0hLAsYL4ZIkHY6c2iFJkiR1MEhLkiRJHQzSkiRJUgeDtCRJktTBIC1JkiR1MEhLkiRJHQzSkiRJUgeDtCRJktTBIC1JkiR1MEhLkiRJHQzSkiRJUgeDtCRJktTBIC1JkiR1MEhLkiRJHQzSkiRJUgeDtCRJktTBIC1JkiR1MEhLkiRJHQzSkiRJUgeDtCRJktTBIC1JkiR1GDtIJzkiye1JPtzuH5fkxiT3teWxQ20vS7I1yb1Jzhuqn5nkzrbt8iQZd1ySJEnSbJqJI9KvB+4Zur8G2FxVS4HN7T5JTgVWAqcBy4ErkhzR+lwJrAaWttvyGRiXJEmSNGvGCtJJFgPnA+8cKq8ANrT1DcAFQ/VrquqJqnoA2AqcleQk4OiqurmqCrh6qI8kSZI0J417RPrtwBuB7wzVTqyqRwDa8oRWXwQ8NNRue6stautT63tIsjrJliRbdu7cOebQJUmSpH7dQTrJq4AdVXXbdLuMqNU+6nsWq66qqmVVtWzhwoXTfFhJkiRp5i0Yo+/LgFcn+WfAM4Cjk7wPeDTJSVX1SJu2saO13w6cPNR/MfBwqy8eUZckSZLmrO4j0lV1WVUtrqolDH5E+PGqei2wCVjVmq0Crmvrm4CVSY5McgqDHxXe2qZ/PJ7k7Ha2jouG+kiSJElz0jhHpPdmHbAxycXAg8CFAFV1V5KNwN3ALuDSqnqy9bkEWA8cBdzQbpIkSdKcNSNBuqpuAm5q618Gzt1Lu7XA2hH1LcDpMzEWSZIk6WCYjSPSksawZM31kx6CJEmaBi8RLkmSJHUwSEuSJEkdDNKSJElSB4O0JEmS1MEgLUmSJHUwSEuSJEkdDNKSJElSB4O0JEmS1MEgLUmSJHUwSEuSJEkdDNKSJElSB4O0JEmS1MEgLUmSJHUwSEuSJEkdDNKSJElSB4O0JEmS1MEgLUmSJHUwSEuSJEkdDNKSJElSB4O0JEmS1MEgLUmSJHUwSEuSJEkdFkx6ANJctGTN9d19t607fwZHornKz4gkySPSkiRJUgeDtCRJktTBIC1JkiR1MEhLkiRJHQzSkiRJUgeDtCRJktTBIC1JkiR1MEhLkiRJHQzSkiRJUgeDtCRJktTBIC1JkiR1MEhLkiRJHQzSkiRJUgeDtCRJktTBIC1JkiR1MEhLkiRJHQzSkiRJUgeDtCRJktTBIC1JkiR1MEhLkiRJHRZMegDSfLNkzfWTHoIkSToIuo9IJzk5yV8kuSfJXUle3+rHJbkxyX1teexQn8uSbE1yb5LzhupnJrmzbbs8ScZ7WpIkSdLsGmdqxy7g16vqR4CzgUuTnAqsATZX1VJgc7tP27YSOA1YDlyR5Ii2ryuB1cDSdls+xrgkSZKkWdcdpKvqkar6TFt/HLgHWASsADa0ZhuAC9r6CuCaqnqiqh4AtgJnJTkJOLqqbq6qAq4e6iNJkiTNSTPyY8MkS4AXA7cAJ1bVIzAI28AJrdki4KGhbttbbVFbn1qXJEmS5qyxg3SS7wX+GHhDVX19X01H1Gof9VGPtTrJliRbdu7ceeCDlSRJkmbIWEE6ydMYhOj3V9WftPKjbboGbbmj1bcDJw91Xww83OqLR9T3UFVXVdWyqlq2cOHCcYYuSZIkjaX79HftzBrvAu6pqrcObdoErALWteV1Q/U/TPJW4AcY/Kjw1qp6MsnjSc5mMDXkIuC/9I5L2s3T0EmSpNk0znmkXwb8HHBnkjta7TcZBOiNSS4GHgQuBKiqu5JsBO5mcMaPS6vqydbvEmA9cBRwQ7tJkiRJc1Z3kK6qTzJ6fjPAuXvpsxZYO6K+BTi9dyySJEnSweYlwiVJkqQOBmlJkiSpg0FakiRJ6mCQliRJkjoYpCVJkqQOBmlJkiSpg0FakiRJ6mCQliRJkjoYpCVJkqQOBmlJkiSpg0FakiRJ6mCQliRJkjosmPQANP8tWXN9d99t686fwZFIc8M4fybAPxeSNFcYpCVJ85r/mZc0W5zaIUmSJHUwSEuSJEkdnNqhOW3cuaSSJEmzxSPSkiRJUgePSEuStBf+UFHSvnhEWpIkSergEWntl/OUJUmS9uQRaUmSJKmDQVqSJEnq4NQOSTrE+AM4SZobPCItSZIkdfCItCRJs2CSP9T2mwfp4PCItCRJktTBIC1JkiR1MEhLkiRJHZwjLUma87wwlKS5yCAtSZp1BmFJ85FTOyRJkqQOBmlJkiSpg0FakiRJ6uAc6cOE8xMlgX8XSNJM8oi0JEmS1MEgLUmSJHVwaschxK9kJUmS5g6PSEuSJEkdPCItSdI8M843mNvWnT+DI5HmN49IS5IkSR0M0pIkSVIHg7QkSZLUwTnSkiTp/zWpM0SNMzd73DE7L1y9PCItSZIkdZgzR6STLAfeARwBvLOq1k14SJIk6SDxWgk6FM2JIJ3kCOAPgFcC24FPJ9lUVXdPdmSj+YddkqT5w9MFqtecCNLAWcDWqrofIMk1wApgTgZpSZIkOHQPrk3qPwDz7T8tcyVILwIeGrq/HfinExqLJEnSvHao/gdgrpkrQTojarVHo2Q1sLrd/UaSe2d1VNqf44EvTXoQmnUTe59funvlza+axMMfbvzzfHjwfT48zMv3OW+e6MM/d1RxrgTp7cDJQ/cXAw9PbVRVVwFXHaxBad+SbKmqZZMeh2aX7/Phwff58OD7fHjwfT545srp7z4NLE1ySpKnAyuBTRMekyRJkrRXc+KIdFXtSvIrwJ8xOP3du6vqrgkPS5IkSdqrORGkAarqI8BHJj0OHRCn2RwefJ8PD77Phwff58OD7/NBkqo9ftMnSZIkaT/myhxpSZIk6ZBikNZ+JXlGkluTfDbJXUl+p9WPS3Jjkvva8thJj1XjS3JEktuTfLjd932eh5JsS3JnkjuSbGk13+t5JskxSa5N8vkk9yR5qe/z/JLkBe3P8e7b15O8wff54DBIazqeAF5eVS8CzgCWJzkbWANsrqqlwOZ2X4e+1wP3DN33fZ6/frKqzhg6TZbv9fzzDuCjVfVC4EUM/mz7Ps8jVXVv+3N8BnAm8PfAh/B9PigM0tqvGvhGu/u0disGl3Hf0OobgAsO/ug0k5IsBs4H3jlU9n0+fPhezyNJjgZ+HHgXQFV9u6oew/d5PjsX+Nuq+gK+zweFQVrT0r7uvwPYAdxYVbcAJ1bVIwBtecIEh6iZ8XbgjcB3hmq+z/NTAR9Lclu7aiz4Xs83zwN2Au9p07XemeRZ+D7PZyuBD7R13+eDwCCtaamqJ9vXRouBs5KcPuEhaYYleRWwo6pum/RYdFC8rKpeAvw0cGmSH5/0gDTjFgAvAa6sqhcD38Sv9+etdkG7VwN/NOmxHE4M0jog7WvBm4DlwKNJTgJoyx2TG5lmwMuAVyfZBlwDvDzJ+/B9npeq6uG23MFgPuVZ+F7PN9uB7e0bRIBrGQRr3+f56aeBz1TVo+2+7/NBYJDWfiVZmOSYtn4U8Arg8wwu476qNVsFXDeRAWpGVNVlVbW4qpYw+Hrw41X1Wnyf550kz0ryfbvXgZ8CPofv9bxSVV8EHkryglY6F7gb3+f56mf57rQO8H0+KLwgi/YryY8y+KHCEQz+87Wxqv5DkucAG4EfBB4ELqyqr0xupJopSc4B/m1Vvcr3ef5J8jwGR6Fh8PX/H1bVWt/r+SfJGQx+PPx04H7g52l/j+P7PG8keSbwEPC8qvpaq/nn+SAwSEuSJEkdnNohSZIkdTBIS5IkSR0M0pIkSVIHg7QkSZLUwSAtSZIkdTBIS5IkSR0M0pIkSVIHg7QkSZLUwSAtSZIkdTBIS5IkSR0M0pIkSVIHg7QkSZLUwSAtSZIkdTBIS5IkSR0M0pIkSVIHg7QkaQ9JXpbkLUk+nWRnkieSPJDknUmev5c+65PUPm4vPNjPQ5Jm04JJD0CSNCf9MbAQ+Cvg/cAu4KXAxcDKJK+sqpv30vcdwGMj6l+ahXFK0sQYpCVJo7wNeG9VPTxcTPKbwFrgKuCf7KXv26tq2+wOT5Imz6kdknQQJVnSpjmsT/LCJH+a5CtJvpnkk0l+akr717X2r0vyyiT/Pck32nSL9yQ5prV7cZIPJ/lq274pyZLecVbVm6eG6ObNwD8Apyd5Tu/+JWk+MEhL0mScAtwMPAf4b8AfAWcCNyT5mRHtXw1cD+wE/itwH/A64E+TnA18ksG3jO8C/gfwz4Hrk8z03/PFYJoHwJN7afPTSX4jyb9NckGSo2d4DJI0Jzi1Q5Im48eB36uqf7e7kOT3GYTr/5rkhqr6+lD7VwPnVtVftrbfA/wZ8ArgI8Dqqnr/0L7eBfwCg0B93QyO+0Lg+4BPVdVje2lzxZT7jye5rKr+YAbHIUkT5xFpSZqMrwH/YbhQVVsY/LDvGOD/M6X9B3aH6Nb2O8B7293PDYfo5uq2PGOGxkuSU4D/wuCI9K+PaPIJ4GeA5wJHAT8E/Nu27feTrJ6psUjSXGCQlqTJ+ExVPT6iflNbvnhKfcuItrvnMN82YtvfteXiAx/anpKcANzA4Ewer6+qv5rapqreXVUbq+rBqvpWVd1fVf8Z+JetydokR8zEeCRpLjBIS9JkPLqX+hfb8tlT6l8b0XbXNLY97QDHtYcWoj8OvIBBiJ46dWOfqurDDIL98cCp445HkuYKg7QkTcaJe6l/f1uOCscHXZKTGBwlPxW4tKou79zVzrZ81kyMS5LmAoO0JE3GS5J834j6OW15+0Ecy0hJFgN/CbwQ+OUDPRI9tJ9nt30UsG3GBihJE2aQlqTJeDbw74cLSZYB/4rB0egPTWJQQ2P5QQYh+oeAi6vqqv20//5Rlw5P8r3AeuAZwJ9X1RentpGkQ5Wnv5OkyfgE8ItJ/imD8z6fxOCMF98D/NKUU99Nwl8CSxj8kPG5SX57RJv1Q1cwfCHwF0luBu4BdgCLgFcymK5yP/CLsztkSTq4DNKSNBkPAL8MrGvLI4HPAP+hqv5skgNrlrTlme02yk18d6rG3zK4bPj/xOCc18cAfw/cC/w+cPlezlIiSYesVNWkxyBJh4122e4HgA1V9brJjkaSNA7nSEuSJEkdDNKSJElSB+dIS9JhIMnr+O685325o6r+dFYHI0nzhHOkJekwkOQm4Cem0dS525I0TQZpSZIkqcMhO7Xj+OOPryVLlkx6GJIOxL33DpYveMFkxyFJ0gG47bbbvlRVC6fWD9kgvWTJErZs2TLpYUg6EOecM1jedNMkRyFJ0gFJ8oVRdc/aIUmSJHUwSEuSJEkdDNKSJElSB4O0JEmS1MEgLUmSJHUwSEuSJEkdDNKSJElSB4O0JEmS1MEgLUmSJHUwSEuSJEkdDtlLhEuaO5asuX5a7a65/8sArJzSftu682d8TJIkzTaPSEuSJEkdDNKSJElSB4O0JEmS1MEgLUmSJHUwSEuSJEkdDNKSJElSB4O0JEmS1MEgLUmSJHUwSEuSJEkdDNKSJElSB4O0JEmS1GHBpAcgSUvWXN/dd9u682dwJJIkTZ9HpCVJkqQO3UE6yQuS3DF0+3qSNyQ5LsmNSe5ry2OH+lyWZGuSe5OcN1Q/M8mdbdvlSTLuE5MkSZJmU3eQrqp7q+qMqjoDOBP4e+BDwBpgc1UtBTa3+yQ5FVgJnAYsB65IckTb3ZXAamBpuy3vHZckSZJ0MMzU1I5zgb+tqi8AK4ANrb4BuKCtrwCuqaonquoBYCtwVpKTgKOr6uaqKuDqoT6SJEnSnDRTQXol8IG2fmJVPQLQlie0+iLgoaE+21ttUVufWpckSZLmrLGDdJKnA68G/mh/TUfUah/1UY+1OsmWJFt27tx5YAOVJEmSZtBMHJH+aeAzVfVou/9om65BW+5o9e3AyUP9FgMPt/riEfU9VNVVVbWsqpYtXLhwBoYuSZIk9ZmJIP2zfHdaB8AmYFVbXwVcN1RfmeTIJKcw+FHhrW36x+NJzm5n67hoqI8kSZI0J411QZYkzwReCfzSUHkdsDHJxcCDwIUAVXVXko3A3cAu4NKqerL1uQRYDxwF3NBukg6icS6KIknS4WisIF1Vfw88Z0rtywzO4jGq/Vpg7Yj6FuD0ccYiSZIkHUxe2VCSJEnqYJCWJEmSOhikJUmSpA4GaUmSJKmDQVqSJEnqYJCWJEmSOhikJUmSpA4GaUmSJKmDQVqSJEnqYJCWJEmSOhikJUmSpA4GaUmSJKmDQVqSJEnqsGDSA5CkcSxZc313323rzp/BkUiSDjcekZYkSZI6GKQlSZKkDgZpSZIkqYNBWpIkSepgkJYkSZI6GKQlSZKkDgZpSZIkqYNBWpIkSepgkJYkSZI6jBWkkxyT5Nokn09yT5KXJjkuyY1J7mvLY4faX5Zka5J7k5w3VD8zyZ1t2+VJMs64JEmSpNk27hHpdwAfraoXAi8C7gHWAJuraimwud0nyanASuA0YDlwRZIj2n6uBFYDS9tt+ZjjkiRJkmZVd5BOcjTw48C7AKrq21X1GLAC2NCabQAuaOsrgGuq6omqegDYCpyV5CTg6Kq6uaoKuHqojyRJkjQnjXNE+nnATuA9SW5P8s4kzwJOrKpHANryhNZ+EfDQUP/trbaorU+tS5IkSXPWOEF6AfAS4MqqejHwTdo0jr0YNe+59lHfcwfJ6iRbkmzZuXPngY5XkiRJmjHjBOntwPaquqXdv5ZBsH60TdegLXcMtT95qP9i4OFWXzyivoequqqqllXVsoULF44xdEmSJGk8C3o7VtUXkzyU5AVVdS9wLnB3u60C1rXlda3LJuAPk7wV+AEGPyq8taqeTPJ4krOBW4CLgP/S/Yykw9iSNddPegiSJB02uoN086vA+5M8Hbgf+HkGR7k3JrkYeBC4EKCq7kqykUHQ3gVcWlVPtv1cAqwHjgJuaDdJkiRpzhorSFfVHcCyEZvO3Uv7tcDaEfUtwOnjjEWSJEk6mLyyoSRJktTBIC1JkiR1MEhLkiRJHQzSkiRJUgeDtCRJktTBIC1JkiR1GPc80pJmmBdVkSTp0OARaUmSJKmDQVqSJEnqYJCWJEmSOhikJUmSpA4GaUmSJKmDQVqSJEnqYJCWJEmSOhikJUmSpA4GaUmSJKmDQVqSJEnqYJCWJEmSOhikJUmSpA4GaUmSJKmDQVqSJEnqYJCWJEmSOhikJUmSpA4GaUmSJKnDWEE6ybYkdya5I8mWVjsuyY1J7mvLY4faX5Zka5J7k5w3VD+z7WdrksuTZJxxSZIkSbNtJo5I/2RVnVFVy9r9NcDmqloKbG73SXIqsBI4DVgOXJHkiNbnSmA1sLTdls/AuCRJkqRZMxtTO1YAG9r6BuCCofo1VfVEVT0AbAXOSnIScHRV3VxVBVw91EeSJEmak8YN0gV8LMltSVa32olV9QhAW57Q6ouAh4b6bm+1RW19an0PSVYn2ZJky86dO8ccuiRJktRvwZj9X1ZVDyc5Abgxyef30XbUvOfaR33PYtVVwFUAy5YtG9lGkiRJOhjGOiJdVQ+35Q7gQ8BZwKNtugZtuaM13w6cPNR9MfBwqy8eUZckSZLmrO4gneRZSb5v9zrwU8DngE3AqtZsFXBdW98ErExyZJJTGPyo8NY2/ePxJGe3s3VcNNRHkiRJmpPGmdpxIvChdqa6BcAfVtVHk3wa2JjkYuBB4EKAqroryUbgbmAXcGlVPdn2dQmwHjgKuKHdJEmSpDmrO0hX1f3Ai0bUvwycu5c+a4G1I+pbgNN7xyJJkiQdbF7ZUJIkSepgkJYkSZI6GKQlSZKkDgZpSZIkqYNBWpIkSepgkJYkSZI6GKQlSZKkDgZpSZIkqYNBWpIkSepgkJYkSZI6GKQlSZKkDgsmPQBJmpQla67v7rtt3fkzOBJJ0qHII9KSJElSB4O0JEmS1MEgLUmSJHUwSEuSJEkdDNKSJElSB4O0JEmS1MEgLUmSJHUwSEuSJEkdDNKSJElSB4O0JEmS1MEgLUmSJHUYO0gnOSLJ7Uk+3O4fl+TGJPe15bFDbS9LsjXJvUnOG6qfmeTOtu3yJBl3XJIkSdJsmokj0q8H7hm6vwbYXFVLgc3tPklOBVYCpwHLgSuSHNH6XAmsBpa22/IZGJckSZI0a8YK0kkWA+cD7xwqrwA2tPUNwAVD9Wuq6omqegDYCpyV5CTg6Kq6uaoKuHqojyRJkjQnjXtE+u3AG4HvDNVOrKpHANryhFZfBDw01G57qy1q61PrkiRJ0pzVHaSTvArYUVW3TbfLiFrtoz7qMVcn2ZJky86dO6f5sJIkSdLMG+eI9MuAVyfZBlwDvDzJ+4BH23QN2nJHa78dOHmo/2Lg4VZfPKK+h6q6qqqWVdWyhQsXjjF0SZIkaTzdQbqqLquqxVW1hMGPCD9eVa8FNgGrWrNVwHVtfROwMsmRSU5h8KPCW9v0j8eTnN3O1nHRUB9JkiRpTlowC/tcB2xMcjHwIHAhQFXdlWQjcDewC7i0qp5sfS4B1gNHATe0m3RIWrLm+kkPQZIkHQQzEqSr6ibgprb+ZeDcvbRbC6wdUd8CnD4TY5Gkg2Gc/zBtW3f+DI5EkjQpXtlQkiRJ6mCQliRJkjoYpCVJkqQOBmlJkiSpg0FakiRJ6mCQliRJkjoYpCVJkqQOBmlJkiSpg0FakiRJ6mCQliRJkjoYpCVJkqQOBmlJkiSpg0FakiRJ6mCQliRJkjoYpCVJkqQOBmlJkiSpg0FakiRJ6mCQliRJkjoYpCVJkqQOBmlJkiSpg0FakiRJ6mCQliRJkjoYpCVJkqQO3UE6yTOS3Jrks0nuSvI7rX5ckhuT3NeWxw71uSzJ1iT3JjlvqH5mkjvbtsuTZLynJUmSJM2uBWP0fQJ4eVV9I8nTgE8muQH4X4HNVbUuyRpgDfAbSU4FVgKnAT8A/HmSH66qJ4ErgdXAp4CPAMuBG8YYmzSWJWuun/QQJEnSHNd9RLoGvtHuPq3dClgBbGj1DcAFbX0FcE1VPVFVDwBbgbOSnAQcXVU3V1UBVw/1kSRJkuakseZIJzkiyR3ADuDGqroFOLGqHgFoyxNa80XAQ0Pdt7faorY+tS5JkiTNWWMF6ap6sqrOABYzOLp8+j6aj5r3XPuo77mDZHWSLUm27Ny584DHK0mSJM2UGTlrR1U9BtzEYG7zo226Bm25ozXbDpw81G0x8HCrLx5RH/U4V1XVsqpatnDhwpkYuiRJktRlnLN2LExyTFs/CngF8HlgE7CqNVsFXNfWNwErkxyZ5BRgKXBrm/7xeJKz29k6LhrqI0mSJM1J45y14yRgQ5IjGATyjVX14SQ3AxuTXAw8CFwIUFV3JdkI3A3sAi5tZ+wAuARYDxzF4GwdnrFDkiRJc1p3kK6qvwZePKL+ZeDcvfRZC6wdUd8C7Gt+tSRJkjSneGVDSZIkqYNBWpIkSepgkJYkSZI6GKQlSZKkDgZpSZIkqYNBWpIkSepgkJYkSZI6GKQlSZKkDgZpSZIkqYNBWpIkSepgkJYkSZI6GKQlSZKkDgZpSZIkqYNBWpIkSepgkJYkSZI6GKQlSZKkDgZpSZIkqYNBWpIkSepgkJYkSZI6LJj0ACTpcLNkzfVj9d+27vwZGokkaRwekZYkSZI6GKQlSZKkDgZpSZIkqUN3kE5ycpK/SHJPkruSvL7Vj0tyY5L72vLYoT6XJdma5N4k5w3Vz0xyZ9t2eZKM97QkSZKk2TXOEeldwK9X1Y8AZwOXJjkVWANsrqqlwOZ2n7ZtJXAasBy4IskRbV9XAquBpe22fIxxSZIkSbOu+6wdVfUI8EhbfzzJPcAiYAVwTmu2AbgJ+I1Wv6aqngAeSLIVOCvJNuDoqroZIMnVwAXADb1jk2D8MyNIkiTty4zMkU6yBHgxcAtwYgvZu8P2Ca3ZIuChoW7bW21RW59alyRJkuassYN0ku8F/hh4Q1V9fV9NR9RqH/VRj7U6yZYkW3bu3Hngg5UkSZJmyFhBOsnTGITo91fVn7Tyo0lOattPAna0+nbg5KHui4GHW33xiPoequqqqlpWVcsWLlw4ztAlSZKksYxz1o4A7wLuqaq3Dm3aBKxq66uA64bqK5McmeQUBj8qvLVN/3g8ydltnxcN9ZEkSZLmpHEuEf4y4OeAO5Pc0Wq/CawDNia5GHgQuBCgqu5KshG4m8EZPy6tqidbv0uA9cBRDH5k6A8NJUmSNKeNc9aOTzJ6fjPAuXvpsxZYO6K+BTi9dyySJEnSweaVDSVJkqQOBmlJkiSpwzhzpKVZ50VVJEnSXOURaUmSJKmDQVqSJEnqYJCWJEmSOhikJUmSpA4GaUmSJKmDQVqSJEnqYJCWJEmSOhikJUmSpA4GaUmSJKmDQVqSJEnqYJCWJEmSOhikJUmSpA4GaUmSJKmDQVqSJEnqYJCWJEmSOiyY9AA0/y1Zc/2khyDNK+P8mdq27vwZHIkkHd48Ii1JkiR1MEhLkiRJHQzSkiRJUgeDtCRJktTBIC1JkiR1GCtIJ3l3kh1JPjdUOy7JjUnua8tjh7ZdlmRrknuTnDdUPzPJnW3b5UkyzrgkSZKk2TbuEen1wPIptTXA5qpaCmxu90lyKrASOK31uSLJEa3PlcBqYGm7Td2nJEmSNKeMFaSr6hPAV6aUVwAb2voG4IKh+jVV9URVPQBsBc5KchJwdFXdXFUFXD3UR5IkSZqTZmOO9IlV9QhAW57Q6ouAh4babW+1RW19al2SJEmasw7mjw1HzXuufdT33EGyOsmWJFt27tw5o4OTJEmSDsRsBOlH23QN2nJHq28HTh5qtxh4uNUXj6jvoaquqqplVbVs4cKFMz5wSZIkabpmI0hvAla19VXAdUP1lUmOTHIKgx8V3tqmfzye5Ox2to6LhvpIkiRJc9KCcTon+QBwDnB8ku3Am4B1wMYkFwMPAhcCVNVdSTYCdwO7gEur6sm2q0sYnAHkKOCGdpMkSZLmrLGCdFX97F42nbuX9muBtSPqW4DTxxmLZs+SNddPegiSZsg4f563rTt/BkciSYc+r2woSZIkdTBIS5IkSR0M0pIkSVIHg7QkSZLUwSAtSZIkdRjrrB2SJM1nnuVE0r4YpCVJmgWGcGn+M0gfJjwXtKTD1aH499+4YzaISweHc6QlSZKkDh6RliTNeYfiUWVJ859HpCVJkqQOHpGWJE2LP56TpKfyiLQkSZLUwSPSkqRZ5xxnSfORR6QlSZKkDh6RPoR4REeSJGnu8Ii0JEmS1MEgLUmSJHVwaockSfOMpyqUDg6PSEuSJEkdDNKSJElSB6d2HGSeeUOSNJc5LUSaPoO0JElSJ//jcXibM0E6yXLgHcARwDurat2EhyRJkg4BfturSZkTQTrJEcAfAK8EtgOfTrKpqu6e7MgkSdJ0GWh1uJkTQRo4C9haVfcDJLkGWAHMySDtXxSSJGlcTgs59M2VIL0IeGjo/nbgn05oLJIkSXPa4XhQby7+52GuBOmMqNUejZLVwOp29xtJ7p3VUe3f8cCXJjyG+c7XeHYd1Nf3pbtX3vyqg/WQk+bnd3b5+s4uX9/Z5et7gPLmA2o+06/vc0cV50qQ3g6cPHR/MfDw1EZVdRVw1cEa1P4k2VJVyyY9jvnM13h2+frOLl/f2eXrO7t8fWeXr+/sOliv71y5IMungaVJTknydGAlsGnCY5IkSZL2ak4cka6qXUl+BfgzBqe/e3dV3TXhYUmSJEl7NSeCNEBVfQT4yKTHcYDmzDSTeczXeHb5+s4uX9/Z5es7u3x9Z5ev7+w6KK9vqvb4TZ8kSZKk/Zgrc6QlSZKkQ4pBegxJjkhye5IPT3os802SY5Jcm+TzSe5J8tL999J0Jfm1JHcl+VySDyR5xqTHdChL8u4kO5J8bqh2XJIbk9zXlsdOcoyHur28xr/b/o746yQfSnLMBId4SBv1+g5t+7dJKsnxkxjbfLC31zfJrya5t/19/JZJje9Qt5e/H85I8qkkdyTZkuSs2Xhsg/R4Xg/cM+lBzFPvAD5aVS8EXoSv84xJsgj418CyqjqdwQ98V052VIe89cDyKbU1wOaqWgpsbvfVbz17vsY3AqdX1Y8CfwNcdrAHNY+sZ8/XlyQnA68EHjzYA5pn1jPl9U3ykwyu4vyjVXUa8HsTGNd8sZ49P79vAX6nqs4A/n27P+MM0p2SLAbOB9456bHMN0mOBn4ceBdAVX27qh6b6KDmnwXAUUkWAM9kxHnbNX1V9QngK1PKK4ANbX0DcMHBHNN8M+o1rqqPVdWudvdTDK5BoA57+QwDvA14IyMukqbp28vrewmwrqqeaG12HPSBzRN7eX0LOLqtP5tZ+nfOIN3v7Qz+cvnOhMcxHz0P2Am8p02deWeSZ016UPNFVf0dgyMfDwKPAF+rqo9NdlTz0olV9QhAW54w4fHMd78A3DDpQcwnSV4N/F1VfXbSY5mnfhj4X5LckuQvk/xPkx7QPPMG4HeTPMTg37xZ+cbKIN0hyauAHVV126THMk8tAF4CXFlVLwa+iV+Lz5g2V3cFcArwA8Czkrx2sqOS+iX5LWAX8P5Jj2W+SPJM4LcYfCWu2bEAOBY4G/h3wMYkmeyQ5pVLgF+rqpOBX6N9yz3TDNJ9Xga8Osk24Brg5UneN9khzSvbge1VdUu7fy2DYK2Z8QrggaraWVX/CPwJ8GMTHtN89GiSkwDa0q9tZ0GSVcCrgH9Vns91Jv0Qg/9sf7b9W7cY+EyS75/oqOaX7cCf1MCtDL7h9gedM2cVg3/fAP4I8MeGc0VVXVZVi6tqCYMfaX28qjyiN0Oq6ovAQ0le0ErnAndPcEjzzYPA2Ume2Y5+nIs/5pwNmxj8RU5bXjfBscxLSZYDvwG8uqr+ftLjmU+q6s6qOqGqlrR/67YDL2l/P2tm/CnwcoAkPww8HfjSJAc0zzwM/ERbfzlw32w8yJy5sqE0xa8C70/ydOB+4OcnPJ55o6puSXIt8BkGX4ffjlfYGkuSDwDnAMcn2Q68CVjH4Kvaixn85+XCyY3w0LeX1/gy4EjgxvaN+Keq6pcnNshD2KjXt6pm5avww9FePr/vBt7dTtn2bWCV36r02cvr+78D72g/qv8WsHpWHtv3TJIkSTpwTu2QJEmSOhikJUmSpA4GaUmSJKmDQVqSJEnqYJCWJEmSOhikJUmSpA4GaUmSJKmDQVqSJEnq8P8HJZmVUE/W1JUAAAAASUVORK5CYII=\n",
      "text/plain": [
       "<Figure size 864x1152 with 3 Axes>"
      ]
     },
     "metadata": {
      "needs_background": "light"
     },
     "output_type": "display_data"
    }
   ],
   "source": [
    "plt.figure(figsize = (12,16))\n",
    "\n",
    "for i in range(3):\n",
    "    plt.subplot(3,1,i+1)\n",
    "    col_name = cols_to_impute[i]\n",
    "    plt.title(f'{col_name}', size = 20)\n",
    "    plt.hist(env[col_name], bins = 40)\n",
    "    plt.axvline(env[col_name].mean(), color = 'red')\n",
    "    "
   ]
  },
  {
   "cell_type": "code",
   "execution_count": 31,
>>>>>>> Stashed changes
   "id": "6fee53c9-da10-44d0-ac82-6b91188565b5",
   "metadata": {},
   "outputs": [
    {
     "data": {
      "text/plain": [
       "Index(['st_name', 'st_abbrev', 'region', 'pop', 'poc_pct', 'low_inc_pct',\n",
       "       'sub_hs_pct', 'ling_iso_pct', 'under_5_pct', 'over_64_pct', 'unemp_pct',\n",
       "       'pre_1960_pct', 'diesel_pm', 'cancer', 'resp_index', 'traffic_prox',\n",
       "       'npl_prox', 'rmp_prox', 'waste_prox', 'ozone', 'pm_25', 'undgrd_stor',\n",
       "       'shape_length', 'shape_area'],\n",
       "      dtype='object')"
      ]
     },
<<<<<<< Updated upstream
     "execution_count": 30,
=======
     "execution_count": 31,
>>>>>>> Stashed changes
     "metadata": {},
     "output_type": "execute_result"
    }
   ],
   "source": [
    "env.columns"
   ]
  },
  {
   "cell_type": "markdown",
   "id": "c3a87deb-209b-4c85-893c-e1c95d11a4ea",
   "metadata": {},
   "source": [
    "We will use a linear regression for our imputation, so let us begin by dropping some columns that seem irrelevant for the columns with missing data. We will also drop the cancer column to avoid data leakage."
   ]
  },
  {
   "cell_type": "code",
   "execution_count": 32,
   "id": "9ec82328-31b0-4fe9-926c-de1648ed8050",
   "metadata": {},
   "outputs": [],
   "source": [
    "X = env.drop(columns = ['cancer', 'st_name', 'st_abbrev', 'shape_length', 'shape_area'])\n",
<<<<<<< Updated upstream
    "y = env['cancer']\n",
    "\n",
=======
    "y = env['cancer']"
   ]
  },
  {
   "cell_type": "code",
   "execution_count": 33,
   "id": "8fd0c5e9-31a0-4665-a48a-52fcdee91709",
   "metadata": {},
   "outputs": [],
   "source": [
>>>>>>> Stashed changes
    "X_train, X_val, y_train, y_val = train_test_split(X, y, test_size = 0.2, random_state = 13)"
   ]
  },
  {
<<<<<<< Updated upstream
   "cell_type": "markdown",
   "id": "92e5a4b8-ab49-4264-a1cb-0f80a15a0175",
=======
   "cell_type": "code",
   "execution_count": 34,
   "id": "d71c7f99-70fa-4b7b-b755-5b69e4f34459",
>>>>>>> Stashed changes
   "metadata": {},
   "source": [
    "Our regions data is categorical despite have numeric values. Before running the iterative imputer, let us one hot encode the `region` column."
   ]
  },
  {
   "cell_type": "code",
<<<<<<< Updated upstream
   "execution_count": 36,
   "id": "d71c7f99-70fa-4b7b-b755-5b69e4f34459",
=======
   "execution_count": 35,
   "id": "5851d5f8-1930-4ce9-91f9-f0ffdbd26cc7",
>>>>>>> Stashed changes
   "metadata": {},
   "outputs": [],
   "source": [
    "# instantiate our transformers:\n",
    "\n",
    "# one-hot encoder for the region column\n",
    "ohe = OneHotEncoder(drop='first'), ['region']\n",
    "\n",
    "# column transformer for apply ohe to only the region column\n",
    "ct = make_column_transformer(ohe, remainder = 'passthrough')\n",
    "\n",
    "# use linear regression for imputation\n",
    "it = IterativeImputer(estimator = LinearRegression())"
   ]
  },
  {
   "cell_type": "code",
<<<<<<< Updated upstream
   "execution_count": 37,
   "id": "5851d5f8-1930-4ce9-91f9-f0ffdbd26cc7",
   "metadata": {},
   "outputs": [],
   "source": [
    "# one-hot encode the region column (with column transformer) in both our train and validation set\n",
    "X_train_ohe = ct.fit_transform(X_train)\n",
    "X_val_ohe = ct.transform(X_val)\n",
    "\n",
    "# apply iterative imputer to our train and validation data (after one-hot encoding)\n",
    "X_train_imputed = it.fit_transform(X_train_ohe)\n",
    "X_val_imputed = it.transform(X_val_ohe)"
   ]
  },
  {
   "cell_type": "markdown",
   "id": "09f563a4-7c6f-463e-8676-0d583cd849aa",
   "metadata": {},
   "source": [
    "#### Saving the Imputed Results to csv"
   ]
  },
  {
   "cell_type": "markdown",
   "id": "37d9b625-6c1c-4d23-b2f1-b089987a58cd",
   "metadata": {},
   "source": [
    "We will also convert our training and validation data to DataFrames to save them as csv files now that they are imputed. This will allow us to access this data more easily across different notebooks. In case we care to refer back to this information we will preserve the indices, state information, and tract shape."
   ]
  },
  {
   "cell_type": "code",
   "execution_count": 39,
=======
   "execution_count": 36,
>>>>>>> Stashed changes
   "id": "a3ecc08e-b5a6-4705-86b6-4434a633ff0b",
   "metadata": {},
   "outputs": [],
   "source": [
    "# convert our train and validation X data to DataFrames (preserving indices)\n",
    "X_train_df = pd.DataFrame(X_train_imputed, columns = ct.get_feature_names_out(), index = y_train.index)\n",
    "X_val_df = pd.DataFrame(X_val_imputed, columns = ct.get_feature_names_out(), index = y_val.index)"
   ]
  },
  {
   "cell_type": "code",
<<<<<<< Updated upstream
   "execution_count": 40,
=======
   "execution_count": 37,
>>>>>>> Stashed changes
   "id": "fa743480-f099-48f2-b55e-4a4afedabc54",
   "metadata": {},
   "outputs": [],
   "source": [
    "# include y cancer column, state information, and tract shape\n",
    "train_imputed = X_train_df.merge(right = env[['cancer', 'st_name', 'st_abbrev', 'shape_length', 'shape_area']],\n",
    "                                how = 'left',\n",
    "                                left_index = True,\n",
    "                                right_index = True).sort_index()\n",
    "\n",
    "# include y cancer column, state information, and tract shape\n",
    "val_imputed = X_val_df.merge(right = env[['cancer', 'st_name', 'st_abbrev', 'shape_length', 'shape_area']],\n",
    "                                how = 'left',\n",
    "                                left_index = True,\n",
    "                                right_index = True).sort_index()"
   ]
  },
  {
   "cell_type": "markdown",
   "id": "d8b837eb-85b1-4bb9-97f5-01d11ca44534",
   "metadata": {},
   "source": [
    "Since the data has been one-hot encoded on a specific column, the columns have been relabeled. Let us revert the columns back to their original form."
   ]
  },
  {
   "cell_type": "code",
<<<<<<< Updated upstream
   "execution_count": 42,
   "id": "617d8e82-8591-48cc-9fae-790001ff09f8",
   "metadata": {},
   "outputs": [
    {
     "data": {
      "text/plain": [
       "Index(['onehotencoder__region_2', 'onehotencoder__region_3',\n",
       "       'onehotencoder__region_4', 'onehotencoder__region_5',\n",
       "       'onehotencoder__region_6', 'onehotencoder__region_7',\n",
       "       'onehotencoder__region_8', 'onehotencoder__region_9',\n",
       "       'onehotencoder__region_10', 'remainder__pop', 'remainder__poc_pct',\n",
       "       'remainder__low_inc_pct', 'remainder__sub_hs_pct',\n",
       "       'remainder__ling_iso_pct', 'remainder__under_5_pct',\n",
       "       'remainder__over_64_pct', 'remainder__unemp_pct',\n",
       "       'remainder__pre_1960_pct', 'remainder__diesel_pm',\n",
       "       'remainder__resp_index', 'remainder__traffic_prox',\n",
       "       'remainder__npl_prox', 'remainder__rmp_prox', 'remainder__waste_prox',\n",
       "       'remainder__ozone', 'remainder__pm_25', 'remainder__undgrd_stor',\n",
       "       'cancer', 'st_name', 'st_abbrev', 'shape_length', 'shape_area'],\n",
       "      dtype='object')"
      ]
     },
     "execution_count": 42,
     "metadata": {},
     "output_type": "execute_result"
    }
   ],
   "source": [
    "# illustrate column names are different than how they started\n",
    "train_imputed.columns"
   ]
  },
  {
   "cell_type": "code",
   "execution_count": 43,
=======
   "execution_count": 38,
>>>>>>> Stashed changes
   "id": "dec6bed7-8dc8-4920-a7c5-089dc3455ae0",
   "metadata": {},
   "outputs": [],
   "source": [
    "# create new labels without 'onehotencoder__' or 'remainder__' prefix\n",
    "new_col_labels = [col.replace('onehotencoder__', '').replace('remainder__', '') for col in train_imputed.columns]\n",
    "\n",
    "# convert column labels in both train and validation sets\n",
    "train_imputed.columns = new_col_labels\n",
    "val_imputed.columns = new_col_labels"
   ]
  },
  {
   "cell_type": "markdown",
   "id": "f7bec3cf-e832-47ea-a71b-35ca0dfa8af4",
   "metadata": {},
   "source": [
    "Finally, we are ready to save our data to csv files."
   ]
  },
  {
   "cell_type": "code",
<<<<<<< Updated upstream
   "execution_count": 44,
=======
   "execution_count": 39,
>>>>>>> Stashed changes
   "id": "de85d21f-da9e-45ef-bcee-e0a38c4c1c91",
   "metadata": {},
   "outputs": [],
   "source": [
    "# save data as csv files\n",
    "# preserve index\n",
    "train_imputed.to_csv('../data/train_cleaned_imputed.csv', index = True)\n",
    "val_imputed.to_csv('../data/val_cleaned_imputed.csv', index = True)"
   ]
  },
  {
   "cell_type": "markdown",
   "id": "06f72974-8a0e-4474-aa85-31c842245a9b",
   "metadata": {},
   "source": [
    "#### Comparing Data With and Without Imputation"
   ]
  },
  {
   "cell_type": "markdown",
   "id": "f66958c0-7458-490a-97e9-52156b40056f",
   "metadata": {},
   "source": [
    "As a final check for our imputation, we will compare the distributions of `traffic_prox`, `ozone`, and `pm_25` to their distributions before imputation. Since we are not doing any modeling yet, we will look at the training and testing data together."
   ]
  },
  {
   "cell_type": "code",
<<<<<<< Updated upstream
   "execution_count": 45,
=======
   "execution_count": 40,
>>>>>>> Stashed changes
   "id": "0d2a1915-e913-4a58-9bba-2fd86ed358c2",
   "metadata": {},
   "outputs": [],
   "source": [
    "env_imputed = pd.concat([train_imputed, val_imputed]).sort_index()"
   ]
  },
  {
   "cell_type": "code",
<<<<<<< Updated upstream
   "execution_count": 140,
=======
   "execution_count": 41,
>>>>>>> Stashed changes
   "id": "dc360991-e418-4826-8efd-389cc8b7b1e4",
   "metadata": {},
   "outputs": [
    {
     "data": {
      "image/png": "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\n",
      "text/plain": [
       "<Figure size 1296x648 with 6 Axes>"
      ]
     },
     "metadata": {
      "needs_background": "light"
     },
     "output_type": "display_data"
    }
   ],
   "source": [
    "# plot 2x3 grid of histograms of the data \n",
    "# not imputed distributions on top, imputed distributions on bottom\n",
    "\n",
    "plt.figure(figsize = (18, 9))\n",
    "\n",
    "i = 1\n",
    "\n",
    "# figure title\n",
    "plt.suptitle('Distributions of Traffic, Ozone, and Particulate Matter Data Before and After Imputation', size = 20)\n",
    "\n",
    "\n",
    "# titles for the three different columns\n",
    "title_dict = {'traffic_prox': 'Traffic Volume and Proximity',\n",
    "             'ozone': 'Maximum Ozone Concentrations',\n",
    "             'pm_25': 'Particulate Matter < 2.5 Microns'}\n",
    "\n",
    "# x labels for the three different columns\n",
    "x_labels = {'traffic_prox': 'Traffic Proximity (vehicles/distance)',\n",
    "           'ozone': 'Summer Seasonal Average Air Concentration (ppb)',\n",
    "           'pm_25': 'Annual Average ($\\mu g/m^3$)'}\n",
    "\n",
    "# iterate over the six columns and plot their histograms\n",
    "for df in [env, env_imputed]:\n",
    "    for col in cols_to_impute:\n",
    "        \n",
    "        # choose color and legend label based on whether the data is env or env_imputed\n",
    "        # using the first column label to determine\n",
    "        hist_color = 'darksalmon'\n",
    "        label = 'Imputed'\n",
    "        \n",
    "        # if first column label matches the environmental dataframe\n",
    "        # change color and label\n",
    "        if df.columns[0] == 'st_name':\n",
    "            hist_color = 'tab:blue'\n",
    "            label = 'Not Imputed'\n",
    "        \n",
    "        # generate subplot with title and axis labels\n",
    "        plt.subplot(2,3,i)\n",
    "        plt.title(f'{title_dict[col]}', size = 15)\n",
    "        plt.xlabel(x_labels[col])\n",
    "        plt.ylabel('Frequency')\n",
    "        \n",
    "        # plot distribution and legend\n",
    "        plt.hist(df[col], color = hist_color, bins = 60, label = label)\n",
    "        plt.legend()\n",
    "        \n",
    "        # adjust horizontal axis on traffic proximity\n",
    "        if col == 'traffic_prox':\n",
    "            plt.xlim([-1_000, 20_000])\n",
    "            plt.xticks([6000 * i for i in range(4)])\n",
    "            \n",
    "        # adjust vertical axis according to the largest value_counts data\n",
    "        largest_bin_count = df[col].value_counts(bins = 60).iloc[0]\n",
    "        \n",
    "        # round largest_value counts to the nearest thousand\n",
    "        y_lim = round(largest_bin_count, -3)\n",
    "\n",
    "        # only use 4 tick marks along the y-axis\n",
    "        plt.ylim([0, 1.1*y_lim])\n",
    "        plt.yticks([0, y_lim* (1/4), y_lim * (2/4), y_lim * (3/4), y_lim])\n",
    "        \n",
    "        # move on to next subplot\n",
    "        i += 1\n",
    "        \n",
    "# adjust subplot spacing\n",
    "plt.subplots_adjust(left=0.1,\n",
    "                    bottom=0.1,\n",
    "                    right=0.9,\n",
    "                    top=0.875,\n",
    "                    wspace=0.3,\n",
    "                    hspace=0.5)\n",
    "    "
   ]
  },
  {
   "cell_type": "markdown",
   "id": "0011b227-a9ff-4622-9a66-ee124eb78077",
   "metadata": {},
   "source": [
    "We see that the distributions are nearly identical the between the two groups (not imputed and imputed)."
   ]
  }
 ],
 "metadata": {
  "kernelspec": {
   "display_name": "Python 3 (ipykernel)",
   "language": "python",
   "name": "python3"
  },
  "language_info": {
   "codemirror_mode": {
    "name": "ipython",
    "version": 3
   },
   "file_extension": ".py",
   "mimetype": "text/x-python",
   "name": "python",
   "nbconvert_exporter": "python",
   "pygments_lexer": "ipython3",
   "version": "3.9.12"
  }
 },
 "nbformat": 4,
 "nbformat_minor": 5
}
