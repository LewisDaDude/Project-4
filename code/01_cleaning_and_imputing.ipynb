{
 "cells": [
  {
   "cell_type": "markdown",
   "id": "f3c0e1fa-5a31-4df2-9b40-e70d5d3399dd",
   "metadata": {},
   "source": [
    "# Cleaning and Imputation\n",
    "\n",
    "---\n"
   ]
  },
  {
   "cell_type": "markdown",
   "id": "5c113bbf-9067-4c8e-80cd-77cd9d306e3d",
   "metadata": {},
   "source": [
    "## Imports and Functions"
   ]
  },
  {
   "cell_type": "code",
   "execution_count": 1,
   "id": "2c58fbea-8a0f-4d17-8349-cd485df9102a",
   "metadata": {},
   "outputs": [],
   "source": [
    "import numpy as np\n",
    "import pandas as pd\n",
    "import matplotlib.pyplot as plt\n",
    "import seaborn as sns\n",
    "\n",
    "from sklearn.model_selection import train_test_split\n",
    "\n",
    "from sklearn.linear_model import LinearRegression\n",
    "from sklearn.experimental import enable_iterative_imputer \n",
    "from sklearn.impute import IterativeImputer\n",
    "from sklearn.preprocessing import OneHotEncoder\n",
    "from sklearn.compose import make_column_transformer\n",
    "\n",
    "from matplotlib.lines import Line2D\n",
    "\n",
    "import random"
   ]
  },
  {
   "cell_type": "code",
   "execution_count": 2,
   "id": "4d35038a-bade-446c-b87d-411e0f58e473",
   "metadata": {},
   "outputs": [],
   "source": [
    "def clean_col(col_name):\n",
    "    '''\n",
    "    Rename column label to be more Pythonic:\n",
    "    - lowercase\n",
    "    - underscore between words\n",
    "    - replace some language with more descriptive words\n",
    "    \n",
    "    Return revised column name.\n",
    "    '''\n",
    "    col_name = col_name.lower()\n",
    "    col_name = col_name.replace('pct','_pct')\n",
    "    col_name = col_name.replace('state','st')\n",
    "    col_name = col_name.replace('acstot','')\n",
    "    col_name = col_name.replace('minor','poc')\n",
    "    col_name = col_name.replace('less','sub_')\n",
    "    col_name = col_name.replace('lowinc','low_inc')\n",
    "    col_name = col_name.replace('ling','ling_')\n",
    "    col_name = col_name.replace('under5','under_5')\n",
    "    col_name = col_name.replace('over64','over_64')\n",
    "    col_name = col_name.replace('vuleo_pct','dem_index')\n",
    "    col_name = col_name.replace('pre1960','pre_1960')\n",
    "    col_name = col_name.replace('ptraf','traffic_prox')\n",
    "    col_name = col_name.replace('dslpm','diesel_pm')\n",
    "    col_name = col_name.replace('pnpl','npl_prox')\n",
    "    col_name = col_name.replace('prmp','rmp_prox')\n",
    "    col_name = col_name.replace('ptsdf','waste_prox')\n",
    "    col_name = col_name.replace('resp','resp_index')\n",
    "    col_name = col_name.replace('pwdis','waste_water')\n",
    "    col_name = col_name.replace('25','_25')\n",
    "    col_name = col_name.replace('ust','undgrd_stor')\n",
    "    \n",
    "    return col_name"
   ]
  },
  {
   "cell_type": "code",
   "execution_count": 3,
   "id": "51fe7117-7153-4e7e-bb44-9764d302bdcb",
   "metadata": {},
   "outputs": [],
   "source": [
    "np.random.seed(13)"
   ]
  },
  {
   "cell_type": "markdown",
   "id": "383e3b90-adab-4fe3-93ac-c4ab86062590",
   "metadata": {},
   "source": [
    "---\n",
    "## Cleaning"
   ]
  },
  {
   "cell_type": "markdown",
   "id": "fe4e472c-3be0-45fb-b6ef-fee0b1043537",
   "metadata": {},
   "source": [
    "#### Renaming columns"
   ]
  },
  {
   "cell_type": "code",
   "execution_count": 4,
   "id": "e2bfefee-3d6b-45f9-b523-d4caa79d96fa",
   "metadata": {},
   "outputs": [
    {
     "name": "stderr",
     "output_type": "stream",
     "text": [
      "C:\\Users\\John\\AppData\\Local\\Temp\\ipykernel_20620\\1401447621.py:1: DtypeWarning: Columns (128,129,130,131) have mixed types. Specify dtype option on import or set low_memory=False.\n",
      "  raw_data = pd.read_csv('../data/EJSCREEN_2021_StatePctile_Tracts.csv')\n"
     ]
    }
   ],
   "source": [
    "raw_data = pd.read_csv('../data/EJSCREEN_2021_StatePctile_Tracts.csv')"
   ]
  },
  {
   "cell_type": "markdown",
   "id": "f90e464d-31d4-4cae-ada9-731631c32e5e",
   "metadata": {},
   "source": [
    "Columns beginning with `B_` and `T_` provide information for creating specialized images. This is not necessary for our exploratory data analysis so we will drop these columns. Columns beginning with `P_` and `D_` contain percentile and index data. These can be reconstructed from other columns without much difficulty, so we will drop these as well.\n",
    "\n",
    "There is also identification data in the first two columns that we do not need for data analysis. We will drop these columns, too."
   ]
  },
  {
   "cell_type": "code",
   "execution_count": 5,
   "id": "d5771b7a-6999-491d-8a1f-2dbd94166f3c",
   "metadata": {
    "scrolled": true
   },
   "outputs": [
    {
     "data": {
      "text/plain": [
       "['STATE_NAME',\n",
       " 'ST_ABBREV',\n",
       " 'REGION',\n",
       " 'ACSTOTPOP',\n",
       " 'MINORPCT',\n",
       " 'LOWINCPCT',\n",
       " 'LESSHSPCT',\n",
       " 'LINGISOPCT',\n",
       " 'UNDER5PCT',\n",
       " 'OVER64PCT',\n",
       " 'UNEMPPCT',\n",
       " 'VULEOPCT',\n",
       " 'PRE1960PCT',\n",
       " 'DSLPM',\n",
       " 'CANCER',\n",
       " 'RESP',\n",
       " 'PTRAF',\n",
       " 'PWDIS',\n",
       " 'PNPL',\n",
       " 'PRMP',\n",
       " 'PTSDF',\n",
       " 'OZONE',\n",
       " 'PM25',\n",
       " 'UST',\n",
       " 'Shape_Length',\n",
       " 'Shape_Area']"
      ]
     },
     "execution_count": 5,
     "metadata": {},
     "output_type": "execute_result"
    }
   ],
   "source": [
    "# initial columns of interest\n",
    "# cut columns related to image data, clean the rest\n",
    "init_cols = [col for col in raw_data.columns if col[:2] not in 'P_B_T_D_']\n",
    "\n",
    "# drop OBJECTID - repeated index col\n",
    "init_cols = init_cols[2:]\n",
    "init_cols"
   ]
  },
  {
   "cell_type": "markdown",
   "id": "5e7aa5c3-acdf-42bf-b864-fa84daa88a30",
   "metadata": {},
   "source": [
    "Below use our `clean_col` function to rename the column labels to be more clear and Pythonic (replace spaces with underscores, use more descriptive language, and put the letters in lowercase form)."
   ]
  },
  {
   "cell_type": "code",
   "execution_count": 6,
   "id": "49a25eb7-4c6f-4847-9ef8-22c6ce5fa796",
   "metadata": {},
   "outputs": [],
   "source": [
    "env = raw_data[init_cols].copy()\n",
    "env.columns = [clean_col(col) for col in env.columns]"
   ]
  },
  {
   "cell_type": "markdown",
   "id": "e09bf4e7-a8d1-4731-ba0b-c4599f58e0b4",
   "metadata": {},
   "source": [
    "To check the results, we list out the revised column names."
   ]
  },
  {
   "cell_type": "code",
   "execution_count": 7,
   "id": "e3322910-9236-4c68-8ae2-5cc7706e1640",
   "metadata": {},
   "outputs": [
    {
     "data": {
      "text/plain": [
       "Index(['st_name', 'st_abbrev', 'region', 'pop', 'poc_pct', 'low_inc_pct',\n",
       "       'sub_hs_pct', 'ling_iso_pct', 'under_5_pct', 'over_64_pct', 'unemp_pct',\n",
       "       'dem_index', 'pre_1960_pct', 'diesel_pm', 'cancer', 'resp_index',\n",
       "       'traffic_prox', 'waste_water', 'npl_prox', 'rmp_prox', 'waste_prox',\n",
       "       'ozone', 'pm_25', 'undgrd_stor', 'shape_length', 'shape_area'],\n",
       "      dtype='object')"
      ]
     },
     "execution_count": 7,
     "metadata": {},
     "output_type": "execute_result"
    }
   ],
   "source": [
    "env.columns"
   ]
  },
  {
   "cell_type": "markdown",
   "id": "4d51049e-b6fc-4997-9bba-c14ab08e144a",
   "metadata": {},
   "source": [
    "#### Removing Empty Rows"
   ]
  },
  {
   "cell_type": "markdown",
   "id": "ff117acc-bc46-4d4c-9c60-5d65195db994",
   "metadata": {},
   "source": [
    "There are few hundred rows of data where the numeric entries consist entirely of zeros or missing values. These rows will be impossible to work with and should be removed."
   ]
  },
  {
   "cell_type": "code",
   "execution_count": 8,
   "id": "6c226215-176c-4862-adbe-dadacca86050",
   "metadata": {},
   "outputs": [],
   "source": [
    "# drop rows containing no information (consisting of ALL zeros and nulls)\n",
    "\n",
    "# identify location of first and last numeric columns\n",
    "pop_index = env.columns.get_loc('pop')\n",
    "stor_index = env.columns.get_loc('undgrd_stor')\n",
    "\n",
    "# count nulls within a row\n",
    "nulls_in_row = env.iloc[:,pop_index:stor_index+1].isnull().sum(axis = 1)\n",
    "# count zeros within a row\n",
    "zeros_in_row = (env.iloc[:,pop_index:stor_index+1] == 0).sum(axis = 1)\n",
    "\n",
    "# if zeros and nulls sum to number of numeric columns, drop the row\n",
    "total_num_cols = env.iloc[:,pop_index:stor_index+1].shape[1]\n",
    "env.drop(index = env[nulls_in_row + zeros_in_row == total_num_cols].index, inplace = True)"
   ]
  },
  {
   "cell_type": "markdown",
   "id": "41aec014-4e73-4e9b-8a03-d0ffa4a0995d",
   "metadata": {},
   "source": [
    "#### Dropping Missing Cancer Data"
   ]
  },
  {
   "cell_type": "markdown",
   "id": "cdcf36ee-c4ff-420f-879d-1e209d2098e5",
   "metadata": {},
   "source": [
    "One of our major goals is to predict the air toxics cancer risk given by the `cancer` column. Since this column is especially valuable to us, we want to avoid imputing missing values within it. Below we see it contains 246 missing values."
   ]
  },
  {
   "cell_type": "code",
   "execution_count": 9,
   "id": "2ffed361-9c0a-48d8-aacf-64ac87a36a74",
   "metadata": {},
   "outputs": [
    {
     "data": {
      "text/plain": [
       "st_name             0\n",
       "st_abbrev           0\n",
       "region              0\n",
       "pop                 0\n",
       "poc_pct             0\n",
       "low_inc_pct         0\n",
       "sub_hs_pct          0\n",
       "ling_iso_pct        0\n",
       "under_5_pct         0\n",
       "over_64_pct         0\n",
       "unemp_pct           0\n",
       "dem_index           0\n",
       "pre_1960_pct        0\n",
       "diesel_pm         246\n",
       "cancer            246\n",
       "resp_index        246\n",
       "traffic_prox     2343\n",
       "waste_water     19644\n",
       "npl_prox            0\n",
       "rmp_prox            0\n",
       "waste_prox          0\n",
       "ozone            1383\n",
       "pm_25            1383\n",
       "undgrd_stor         0\n",
       "shape_length        0\n",
       "shape_area          0\n",
       "dtype: int64"
      ]
     },
     "execution_count": 9,
     "metadata": {},
     "output_type": "execute_result"
    }
   ],
   "source": [
    "env.isnull().sum()"
   ]
  },
  {
   "cell_type": "markdown",
   "id": "9fe7f8e0-8e82-45d2-a593-6ccfa3aad864",
   "metadata": {},
   "source": [
    "Before we drop the rows missing `cancer` data, we must check to see if the entries seem genuinely random and that we are not introducing any blatant bias to our dataset."
   ]
  },
  {
   "cell_type": "code",
   "execution_count": 10,
   "id": "f35688cc-ec86-4a35-9929-bbbe16bc9ce1",
   "metadata": {},
   "outputs": [
    {
     "name": "stdout",
     "output_type": "stream",
     "text": [
      "There are 246 rows with missing cancer rates data.\n",
      "There are 231 rows with missing cancer rates data and population data.\n"
     ]
    }
   ],
   "source": [
    "# rows missing cancer data\n",
    "na_cancer = env.loc[env['cancer'].isna()]\n",
    "\n",
    "print(f'There are {na_cancer.shape[0]} rows with missing cancer rates data.')\n",
    "print(f\"There are {(na_cancer['pop'] == 0).sum()} rows with missing cancer rates data and population data.\")"
   ]
  },
  {
   "cell_type": "markdown",
   "id": "80f2b757-cc65-4fd5-8e00-072601fff2e1",
   "metadata": {},
   "source": [
    "Above we see that nearly all of the rows missing cancer data also have a population of zero. In fact, these rows missing cancer values almost all have numerous values zeros (shown below). It seems reasonable to drop all 246 of these rows."
   ]
  },
  {
   "cell_type": "code",
   "execution_count": 11,
   "id": "dc493cd3-6a2d-42db-a416-5f77677ffebd",
   "metadata": {},
   "outputs": [
    {
     "data": {
      "text/html": [
       "<div>\n",
       "<style scoped>\n",
       "    .dataframe tbody tr th:only-of-type {\n",
       "        vertical-align: middle;\n",
       "    }\n",
       "\n",
       "    .dataframe tbody tr th {\n",
       "        vertical-align: top;\n",
       "    }\n",
       "\n",
       "    .dataframe thead th {\n",
       "        text-align: right;\n",
       "    }\n",
       "</style>\n",
       "<table border=\"1\" class=\"dataframe\">\n",
       "  <thead>\n",
       "    <tr style=\"text-align: right;\">\n",
       "      <th></th>\n",
       "      <th>region</th>\n",
       "      <th>pop</th>\n",
       "      <th>poc_pct</th>\n",
       "      <th>low_inc_pct</th>\n",
       "      <th>sub_hs_pct</th>\n",
       "      <th>ling_iso_pct</th>\n",
       "      <th>under_5_pct</th>\n",
       "      <th>over_64_pct</th>\n",
       "      <th>unemp_pct</th>\n",
       "      <th>dem_index</th>\n",
       "      <th>...</th>\n",
       "      <th>traffic_prox</th>\n",
       "      <th>waste_water</th>\n",
       "      <th>npl_prox</th>\n",
       "      <th>rmp_prox</th>\n",
       "      <th>waste_prox</th>\n",
       "      <th>ozone</th>\n",
       "      <th>pm_25</th>\n",
       "      <th>undgrd_stor</th>\n",
       "      <th>shape_length</th>\n",
       "      <th>shape_area</th>\n",
       "    </tr>\n",
       "  </thead>\n",
       "  <tbody>\n",
       "    <tr>\n",
       "      <th>count</th>\n",
       "      <td>246.000000</td>\n",
       "      <td>246.000000</td>\n",
       "      <td>246.000000</td>\n",
       "      <td>246.000000</td>\n",
       "      <td>246.000000</td>\n",
       "      <td>246.000000</td>\n",
       "      <td>246.000000</td>\n",
       "      <td>246.000000</td>\n",
       "      <td>246.000000</td>\n",
       "      <td>246.000000</td>\n",
       "      <td>...</td>\n",
       "      <td>6.000000</td>\n",
       "      <td>3.000000e+00</td>\n",
       "      <td>246.000000</td>\n",
       "      <td>246.000000</td>\n",
       "      <td>246.000000</td>\n",
       "      <td>246.000000</td>\n",
       "      <td>246.000000</td>\n",
       "      <td>246.000000</td>\n",
       "      <td>246.000000</td>\n",
       "      <td>2.460000e+02</td>\n",
       "    </tr>\n",
       "    <tr>\n",
       "      <th>mean</th>\n",
       "      <td>4.910569</td>\n",
       "      <td>43.890244</td>\n",
       "      <td>0.042488</td>\n",
       "      <td>0.021509</td>\n",
       "      <td>0.008462</td>\n",
       "      <td>0.000606</td>\n",
       "      <td>0.002056</td>\n",
       "      <td>0.008651</td>\n",
       "      <td>0.008465</td>\n",
       "      <td>0.031998</td>\n",
       "      <td>...</td>\n",
       "      <td>1664.390494</td>\n",
       "      <td>1.673835e-06</td>\n",
       "      <td>0.002365</td>\n",
       "      <td>0.018999</td>\n",
       "      <td>0.063761</td>\n",
       "      <td>41.701752</td>\n",
       "      <td>8.337682</td>\n",
       "      <td>0.064098</td>\n",
       "      <td>55041.854449</td>\n",
       "      <td>2.782879e+08</td>\n",
       "    </tr>\n",
       "    <tr>\n",
       "      <th>std</th>\n",
       "      <td>2.410887</td>\n",
       "      <td>321.187567</td>\n",
       "      <td>0.181458</td>\n",
       "      <td>0.136748</td>\n",
       "      <td>0.052922</td>\n",
       "      <td>0.009503</td>\n",
       "      <td>0.018557</td>\n",
       "      <td>0.070131</td>\n",
       "      <td>0.077078</td>\n",
       "      <td>0.139287</td>\n",
       "      <td>...</td>\n",
       "      <td>4039.846715</td>\n",
       "      <td>1.733399e-06</td>\n",
       "      <td>0.021045</td>\n",
       "      <td>0.143617</td>\n",
       "      <td>0.633274</td>\n",
       "      <td>7.298773</td>\n",
       "      <td>1.523231</td>\n",
       "      <td>0.532157</td>\n",
       "      <td>92903.832197</td>\n",
       "      <td>1.268873e+09</td>\n",
       "    </tr>\n",
       "    <tr>\n",
       "      <th>min</th>\n",
       "      <td>1.000000</td>\n",
       "      <td>0.000000</td>\n",
       "      <td>0.000000</td>\n",
       "      <td>0.000000</td>\n",
       "      <td>0.000000</td>\n",
       "      <td>0.000000</td>\n",
       "      <td>0.000000</td>\n",
       "      <td>0.000000</td>\n",
       "      <td>0.000000</td>\n",
       "      <td>0.000000</td>\n",
       "      <td>...</td>\n",
       "      <td>0.128077</td>\n",
       "      <td>5.716715e-07</td>\n",
       "      <td>0.000000</td>\n",
       "      <td>0.000000</td>\n",
       "      <td>0.000000</td>\n",
       "      <td>26.797583</td>\n",
       "      <td>4.282411</td>\n",
       "      <td>0.000000</td>\n",
       "      <td>1797.428238</td>\n",
       "      <td>1.313539e+05</td>\n",
       "    </tr>\n",
       "    <tr>\n",
       "      <th>25%</th>\n",
       "      <td>3.000000</td>\n",
       "      <td>0.000000</td>\n",
       "      <td>0.000000</td>\n",
       "      <td>0.000000</td>\n",
       "      <td>0.000000</td>\n",
       "      <td>0.000000</td>\n",
       "      <td>0.000000</td>\n",
       "      <td>0.000000</td>\n",
       "      <td>0.000000</td>\n",
       "      <td>0.000000</td>\n",
       "      <td>...</td>\n",
       "      <td>5.885549</td>\n",
       "      <td>6.748299e-07</td>\n",
       "      <td>0.000000</td>\n",
       "      <td>0.000000</td>\n",
       "      <td>0.000000</td>\n",
       "      <td>37.400371</td>\n",
       "      <td>7.345422</td>\n",
       "      <td>0.000000</td>\n",
       "      <td>11189.223043</td>\n",
       "      <td>4.923604e+06</td>\n",
       "    </tr>\n",
       "    <tr>\n",
       "      <th>50%</th>\n",
       "      <td>4.000000</td>\n",
       "      <td>0.000000</td>\n",
       "      <td>0.000000</td>\n",
       "      <td>0.000000</td>\n",
       "      <td>0.000000</td>\n",
       "      <td>0.000000</td>\n",
       "      <td>0.000000</td>\n",
       "      <td>0.000000</td>\n",
       "      <td>0.000000</td>\n",
       "      <td>0.000000</td>\n",
       "      <td>...</td>\n",
       "      <td>8.390268</td>\n",
       "      <td>7.779884e-07</td>\n",
       "      <td>0.000000</td>\n",
       "      <td>0.000000</td>\n",
       "      <td>0.000000</td>\n",
       "      <td>41.667395</td>\n",
       "      <td>8.346472</td>\n",
       "      <td>0.000000</td>\n",
       "      <td>18972.747032</td>\n",
       "      <td>1.301009e+07</td>\n",
       "    </tr>\n",
       "    <tr>\n",
       "      <th>75%</th>\n",
       "      <td>6.000000</td>\n",
       "      <td>0.000000</td>\n",
       "      <td>0.000000</td>\n",
       "      <td>0.000000</td>\n",
       "      <td>0.000000</td>\n",
       "      <td>0.000000</td>\n",
       "      <td>0.000000</td>\n",
       "      <td>0.000000</td>\n",
       "      <td>0.000000</td>\n",
       "      <td>0.000000</td>\n",
       "      <td>...</td>\n",
       "      <td>42.436614</td>\n",
       "      <td>2.224916e-06</td>\n",
       "      <td>0.000000</td>\n",
       "      <td>0.000000</td>\n",
       "      <td>0.000000</td>\n",
       "      <td>44.712277</td>\n",
       "      <td>9.139091</td>\n",
       "      <td>0.000000</td>\n",
       "      <td>62662.813232</td>\n",
       "      <td>1.237268e+08</td>\n",
       "    </tr>\n",
       "    <tr>\n",
       "      <th>max</th>\n",
       "      <td>10.000000</td>\n",
       "      <td>4291.000000</td>\n",
       "      <td>1.000000</td>\n",
       "      <td>1.000000</td>\n",
       "      <td>0.420664</td>\n",
       "      <td>0.149051</td>\n",
       "      <td>0.241667</td>\n",
       "      <td>0.903061</td>\n",
       "      <td>1.000000</td>\n",
       "      <td>1.000000</td>\n",
       "      <td>...</td>\n",
       "      <td>9910.598316</td>\n",
       "      <td>3.671844e-06</td>\n",
       "      <td>0.239815</td>\n",
       "      <td>1.371522</td>\n",
       "      <td>9.362956</td>\n",
       "      <td>73.565369</td>\n",
       "      <td>13.042804</td>\n",
       "      <td>6.636750</td>\n",
       "      <td>722509.794497</td>\n",
       "      <td>1.718428e+10</td>\n",
       "    </tr>\n",
       "  </tbody>\n",
       "</table>\n",
       "<p>8 rows × 24 columns</p>\n",
       "</div>"
      ],
      "text/plain": [
       "           region          pop     poc_pct  low_inc_pct  sub_hs_pct  \\\n",
       "count  246.000000   246.000000  246.000000   246.000000  246.000000   \n",
       "mean     4.910569    43.890244    0.042488     0.021509    0.008462   \n",
       "std      2.410887   321.187567    0.181458     0.136748    0.052922   \n",
       "min      1.000000     0.000000    0.000000     0.000000    0.000000   \n",
       "25%      3.000000     0.000000    0.000000     0.000000    0.000000   \n",
       "50%      4.000000     0.000000    0.000000     0.000000    0.000000   \n",
       "75%      6.000000     0.000000    0.000000     0.000000    0.000000   \n",
       "max     10.000000  4291.000000    1.000000     1.000000    0.420664   \n",
       "\n",
       "       ling_iso_pct  under_5_pct  over_64_pct   unemp_pct   dem_index  ...  \\\n",
       "count    246.000000   246.000000   246.000000  246.000000  246.000000  ...   \n",
       "mean       0.000606     0.002056     0.008651    0.008465    0.031998  ...   \n",
       "std        0.009503     0.018557     0.070131    0.077078    0.139287  ...   \n",
       "min        0.000000     0.000000     0.000000    0.000000    0.000000  ...   \n",
       "25%        0.000000     0.000000     0.000000    0.000000    0.000000  ...   \n",
       "50%        0.000000     0.000000     0.000000    0.000000    0.000000  ...   \n",
       "75%        0.000000     0.000000     0.000000    0.000000    0.000000  ...   \n",
       "max        0.149051     0.241667     0.903061    1.000000    1.000000  ...   \n",
       "\n",
       "       traffic_prox   waste_water    npl_prox    rmp_prox  waste_prox  \\\n",
       "count      6.000000  3.000000e+00  246.000000  246.000000  246.000000   \n",
       "mean    1664.390494  1.673835e-06    0.002365    0.018999    0.063761   \n",
       "std     4039.846715  1.733399e-06    0.021045    0.143617    0.633274   \n",
       "min        0.128077  5.716715e-07    0.000000    0.000000    0.000000   \n",
       "25%        5.885549  6.748299e-07    0.000000    0.000000    0.000000   \n",
       "50%        8.390268  7.779884e-07    0.000000    0.000000    0.000000   \n",
       "75%       42.436614  2.224916e-06    0.000000    0.000000    0.000000   \n",
       "max     9910.598316  3.671844e-06    0.239815    1.371522    9.362956   \n",
       "\n",
       "            ozone       pm_25  undgrd_stor   shape_length    shape_area  \n",
       "count  246.000000  246.000000   246.000000     246.000000  2.460000e+02  \n",
       "mean    41.701752    8.337682     0.064098   55041.854449  2.782879e+08  \n",
       "std      7.298773    1.523231     0.532157   92903.832197  1.268873e+09  \n",
       "min     26.797583    4.282411     0.000000    1797.428238  1.313539e+05  \n",
       "25%     37.400371    7.345422     0.000000   11189.223043  4.923604e+06  \n",
       "50%     41.667395    8.346472     0.000000   18972.747032  1.301009e+07  \n",
       "75%     44.712277    9.139091     0.000000   62662.813232  1.237268e+08  \n",
       "max     73.565369   13.042804     6.636750  722509.794497  1.718428e+10  \n",
       "\n",
       "[8 rows x 24 columns]"
      ]
     },
     "execution_count": 11,
     "metadata": {},
     "output_type": "execute_result"
    }
   ],
   "source": [
    "na_cancer.describe()"
   ]
  },
  {
   "cell_type": "markdown",
   "id": "ce571a17-57b9-4aba-972e-353a5ad0c226",
   "metadata": {},
   "source": [
    "We can also see that these rows are relatively evenly distributed across the different states, so we are not singling any stat out by dropping these rows."
   ]
  },
  {
   "cell_type": "code",
   "execution_count": 12,
   "id": "f69809ab-22ef-44e7-912b-bc09707a75a4",
   "metadata": {},
   "outputs": [
    {
     "data": {
      "text/plain": [
       "New York          31\n",
       "Florida           26\n",
       "California        18\n",
       "Texas             16\n",
       "Michigan          13\n",
       "Virginia          12\n",
       "Louisiana         12\n",
       "North Carolina    10\n",
       "Tennessee          8\n",
       "Colorado           7\n",
       "Pennsylvania       7\n",
       "Georgia            7\n",
       "Nevada             7\n",
       "South Carolina     6\n",
       "Illinois           6\n",
       "Arizona            6\n",
       "Massachusetts      5\n",
       "Kentucky           5\n",
       "Mississippi        4\n",
       "Maryland           4\n",
       "Kansas             4\n",
       "New Hampshire      3\n",
       "Utah               3\n",
       "Ohio               3\n",
       "Oregon             3\n",
       "Washington         3\n",
       "Wisconsin          3\n",
       "New Jersey         2\n",
       "Iowa               2\n",
       "Missouri           2\n",
       "Vermont            1\n",
       "Alabama            1\n",
       "New Mexico         1\n",
       "Minnesota          1\n",
       "Indiana            1\n",
       "Delaware           1\n",
       "Connecticut        1\n",
       "Wyoming            1\n",
       "Name: st_name, dtype: int64"
      ]
     },
     "execution_count": 12,
     "metadata": {},
     "output_type": "execute_result"
    }
   ],
   "source": [
    "na_cancer['st_name'].value_counts()"
   ]
  },
  {
   "cell_type": "code",
   "execution_count": 13,
   "id": "f96bbcd9-9ca2-452c-92f3-09b7d7310361",
   "metadata": {},
   "outputs": [],
   "source": [
    "env.dropna(subset = ['cancer'], inplace = True)"
   ]
  },
  {
   "cell_type": "markdown",
   "id": "ef79994e-3438-4c87-91a0-56a59dffd73f",
   "metadata": {},
   "source": [
    "Conveniently, dropping the rows with missing `cancer` values also dealth with all of the missing `diesel_pm` and `resp_index` values.."
   ]
  },
  {
   "cell_type": "code",
   "execution_count": 14,
   "id": "fa5f6a73-fec9-4ca2-95c6-051e030b7d13",
   "metadata": {},
   "outputs": [
    {
     "data": {
      "text/plain": [
       "st_name             0\n",
       "st_abbrev           0\n",
       "region              0\n",
       "pop                 0\n",
       "poc_pct             0\n",
       "low_inc_pct         0\n",
       "sub_hs_pct          0\n",
       "ling_iso_pct        0\n",
       "under_5_pct         0\n",
       "over_64_pct         0\n",
       "unemp_pct           0\n",
       "dem_index           0\n",
       "pre_1960_pct        0\n",
       "diesel_pm           0\n",
       "cancer              0\n",
       "resp_index          0\n",
       "traffic_prox     2103\n",
       "waste_water     19401\n",
       "npl_prox            0\n",
       "rmp_prox            0\n",
       "waste_prox          0\n",
       "ozone            1383\n",
       "pm_25            1383\n",
       "undgrd_stor         0\n",
       "shape_length        0\n",
       "shape_area          0\n",
       "dtype: int64"
      ]
     },
     "execution_count": 14,
     "metadata": {},
     "output_type": "execute_result"
    }
   ],
   "source": [
    "env.isnull().sum()"
   ]
  },
  {
   "cell_type": "markdown",
   "id": "b81ae0f3-1fb9-4c42-a01e-8dd87047b537",
   "metadata": {},
   "source": [
    "#### Removing `waste_water` and `dem_index`"
   ]
  },
  {
   "cell_type": "markdown",
   "id": "4659c02b-0b2f-4160-9c66-fe7f4fb93041",
   "metadata": {},
   "source": [
    "Above we see there is a heavy density of null values remaining in the `waste_water` column. In addition to this, our target `cancer` column is defined in terms of air toxic cancer risk. Because this column seems like difficult to salvage and it is not immediately related to our target, we will drop it from our dataset.\n",
    "\n",
    "Another column that we will drop is `dem_index` as it is simply the product of the `poc_pct` and `low_inc_pct` columns."
   ]
  },
  {
   "cell_type": "code",
   "execution_count": 15,
   "id": "55dfd552-8725-4628-8bf2-1ca0deeb8735",
   "metadata": {},
   "outputs": [],
   "source": [
    "env.drop(columns = ['waste_water', 'dem_index'], inplace = True)"
   ]
  },
  {
   "cell_type": "markdown",
   "id": "57c478cc-23d7-4e14-99f5-f6751dec8a2a",
   "metadata": {},
   "source": [
    "#### Puerto Rico, Hawaii, and Alaska"
   ]
  },
  {
   "cell_type": "markdown",
   "id": "2a137b6e-bb6e-48e8-a5e7-a9d002d51651",
   "metadata": {},
   "source": [
    "It would be convenient if we could drop the remaning null values from our dataset since they represent a fairly small fraction of our dataset."
   ]
  },
  {
   "cell_type": "code",
   "execution_count": 16,
   "id": "15ac4de2-a76e-4731-a6b7-379660821740",
   "metadata": {},
   "outputs": [
    {
     "data": {
      "text/plain": [
       "(73420, 24)"
      ]
     },
     "execution_count": 16,
     "metadata": {},
     "output_type": "execute_result"
    }
   ],
   "source": [
    "env.shape"
   ]
  },
  {
   "cell_type": "markdown",
   "id": "7f9ca666-7137-4fae-93ea-1bce47fcda5b",
   "metadata": {},
   "source": [
    "Unfortunately, the remaining null values (specifically `ozone` and `pm_25`) are not completely random and dropping these null values would completely eliminate Puerto Rico, Hawaii, and Alaska from our dataset.\n",
    "\n",
    "Below we look at the top 10 state appearances across all of the rows containing null values. When we compare this to the state appearances across all rows (with and without null values), we see the counts between the two groups agree for Puerto Rico, Hawaii, and Alaska. In other words, blindly dropping the null values would drop all of the data for these states and territories. "
   ]
  },
  {
   "cell_type": "code",
   "execution_count": 17,
   "id": "baae8c88-a182-4c73-870f-c37990236c3f",
   "metadata": {},
   "outputs": [],
   "source": [
    "# collect rows where there are any missing values\n",
    "\n",
    "# na_rows are the incdices of null values\n",
    "na_rows = env.select_dtypes(include = 'number').isna().any(axis = 1)\n",
    "\n",
    "# has_na is the dataset containing null\n",
    "has_na = env[na_rows]"
   ]
  },
  {
   "cell_type": "code",
   "execution_count": 18,
   "id": "94257903-660d-4c0f-b6a7-05645623af11",
   "metadata": {},
   "outputs": [
    {
     "data": {
      "text/plain": [
       "PR    895\n",
       "HI    321\n",
       "AK    167\n",
       "KY    122\n",
       "TX    122\n",
       "MI    118\n",
       "NC    106\n",
       "OH     86\n",
       "NY     81\n",
       "ME     79\n",
       "Name: st_abbrev, dtype: int64"
      ]
     },
     "execution_count": 18,
     "metadata": {},
     "output_type": "execute_result"
    }
   ],
   "source": [
    "# 10 states with the most null values in the dataset currently\n",
    "null_states = has_na['st_abbrev'].value_counts().head(10)\n",
    "null_states"
   ]
  },
  {
   "cell_type": "code",
   "execution_count": 19,
   "id": "1018cd22-bc4c-4d7f-bbee-25eb8579b06d",
   "metadata": {},
   "outputs": [
    {
     "data": {
      "text/plain": [
       "PR     895\n",
       "HI     321\n",
       "AK     167\n",
       "KY    1110\n",
       "TX    5238\n",
       "MI    2756\n",
       "NC    2174\n",
       "OH    2943\n",
       "NY    4870\n",
       "ME     351\n",
       "Name: st_abbrev, dtype: int64"
      ]
     },
     "execution_count": 19,
     "metadata": {},
     "output_type": "execute_result"
    }
   ],
   "source": [
    "# the total number of appearances of these states in the entire dataset\n",
    "env['st_abbrev'].value_counts()[null_states.index]"
   ]
  },
  {
   "cell_type": "markdown",
   "id": "cd82b4e0-a98f-493f-b0be-7e3fce76b9f9",
   "metadata": {},
   "source": [
    "Another thing to note about these three groups is that their nulls are almost exclusively located in in the `ozone` and `pm_25` columns."
   ]
  },
  {
   "cell_type": "code",
   "execution_count": 20,
   "id": "c2b9f5b4-6b28-42e3-8f05-27cbeae0d57a",
   "metadata": {
    "tags": []
   },
   "outputs": [
    {
     "name": "stdout",
     "output_type": "stream",
     "text": [
      "PR\n",
      "st_name           0\n",
      "st_abbrev         0\n",
      "region            0\n",
      "pop               0\n",
      "poc_pct           0\n",
      "low_inc_pct       0\n",
      "sub_hs_pct        0\n",
      "ling_iso_pct      0\n",
      "under_5_pct       0\n",
      "over_64_pct       0\n",
      "unemp_pct         0\n",
      "pre_1960_pct      0\n",
      "diesel_pm         0\n",
      "cancer            0\n",
      "resp_index        0\n",
      "traffic_prox      7\n",
      "npl_prox          0\n",
      "rmp_prox          0\n",
      "waste_prox        0\n",
      "ozone           895\n",
      "pm_25           895\n",
      "undgrd_stor       0\n",
      "shape_length      0\n",
      "shape_area        0\n",
      "dtype: int64 \n",
      "\n",
      "\n",
      "HI\n",
      "st_name           0\n",
      "st_abbrev         0\n",
      "region            0\n",
      "pop               0\n",
      "poc_pct           0\n",
      "low_inc_pct       0\n",
      "sub_hs_pct        0\n",
      "ling_iso_pct      0\n",
      "under_5_pct       0\n",
      "over_64_pct       0\n",
      "unemp_pct         0\n",
      "pre_1960_pct      0\n",
      "diesel_pm         0\n",
      "cancer            0\n",
      "resp_index        0\n",
      "traffic_prox     10\n",
      "npl_prox          0\n",
      "rmp_prox          0\n",
      "waste_prox        0\n",
      "ozone           321\n",
      "pm_25           321\n",
      "undgrd_stor       0\n",
      "shape_length      0\n",
      "shape_area        0\n",
      "dtype: int64 \n",
      "\n",
      "\n",
      "AK\n",
      "st_name           0\n",
      "st_abbrev         0\n",
      "region            0\n",
      "pop               0\n",
      "poc_pct           0\n",
      "low_inc_pct       0\n",
      "sub_hs_pct        0\n",
      "ling_iso_pct      0\n",
      "under_5_pct       0\n",
      "over_64_pct       0\n",
      "unemp_pct         0\n",
      "pre_1960_pct      0\n",
      "diesel_pm         0\n",
      "cancer            0\n",
      "resp_index        0\n",
      "traffic_prox     33\n",
      "npl_prox          0\n",
      "rmp_prox          0\n",
      "waste_prox        0\n",
      "ozone           167\n",
      "pm_25           167\n",
      "undgrd_stor       0\n",
      "shape_length      0\n",
      "shape_area        0\n",
      "dtype: int64 \n",
      "\n",
      "\n"
     ]
    }
   ],
   "source": [
    "# print out the number of null values in each column for PR, HI, and AK\n",
    "for territory in ['PR', 'HI', 'AK']:\n",
    "    print(territory)\n",
    "    print(env[env['st_abbrev'] == territory].isnull().sum(), '\\n\\n')"
   ]
  },
  {
   "cell_type": "markdown",
   "id": "c85683f4-44c1-4c0b-b465-59bd1f90197a",
   "metadata": {},
   "source": [
    "#### Percentages and Population Size"
   ]
  },
  {
   "cell_type": "markdown",
   "id": "7a9fb81c-2b72-4d2d-8306-8dd82a37fd19",
   "metadata": {},
   "source": [
    "Something else to be cautious of is that several columns are based on percentages of the population. These percentages can be somewhat deceptive for rows containing lower populations. For example, 100% of the population being minority feels more meaningful when the population size is 2416 than if the population size is 8. For this reason we want to remove rows with especially small population sizes.\n",
    "\n",
    "Additionally, each row represents a Census tract. Census tracts generally have a population size above 1,200. Rows with a population size below 1,200 correspond to tribal data. We do not want to eliminate the tribal data, especially with the history of environmental injustice towards indigenous people. For this reason, we will set a population size of 30 as a lower bound for the data. This way, we can feel more confident in interpreting percentages and still keep as much of the tribal data as possible.\n",
    "\n",
    "Below we verify that the data corresponding to population sizes below 30 is reasonably distributed across all states."
   ]
  },
  {
   "cell_type": "code",
   "execution_count": 21,
   "id": "e5c18a08-535d-45ff-83e7-26611805875e",
   "metadata": {},
   "outputs": [
    {
     "data": {
      "text/plain": [
       "New York          34\n",
       "Florida           19\n",
       "California        18\n",
       "Texas             15\n",
       "Pennsylvania      15\n",
       "Puerto Rico       10\n",
       "Virginia          10\n",
       "Tennessee          9\n",
       "Hawaii             8\n",
       "Kansas             6\n",
       "Michigan           6\n",
       "North Carolina     5\n",
       "Massachusetts      4\n",
       "Missouri           4\n",
       "Louisiana          4\n",
       "Arizona            4\n",
       "Ohio               3\n",
       "Alabama            3\n",
       "Kentucky           3\n",
       "Maryland           2\n",
       "New Jersey         2\n",
       "Indiana            2\n",
       "Georgia            2\n",
       "Rhode Island       1\n",
       "Washington         1\n",
       "Arkansas           1\n",
       "South Carolina     1\n",
       "Montana            1\n",
       "Idaho              1\n",
       "Nebraska           1\n",
       "Oklahoma           1\n",
       "Alaska             1\n",
       "Illinois           1\n",
       "Nevada             1\n",
       "Oregon             1\n",
       "Name: st_name, dtype: int64"
      ]
     },
     "execution_count": 21,
     "metadata": {},
     "output_type": "execute_result"
    }
   ],
   "source": [
    "env.loc[env['pop'] <= 30, 'st_name'].value_counts()"
   ]
  },
  {
   "cell_type": "code",
   "execution_count": 22,
   "id": "adb1ccd3",
   "metadata": {},
   "outputs": [],
   "source": [
    "env = env[env['pop']>=30]"
   ]
  },
  {
   "cell_type": "markdown",
   "id": "e75894ac-8985-4bf6-9628-6aa72e3044ae",
   "metadata": {},
   "source": [
    "#### Removing Rows with Too Many Zeros"
   ]
  },
  {
   "cell_type": "markdown",
   "id": "13c2eec0-94b8-4d68-8e1c-3501f55712e7",
   "metadata": {},
   "source": [
    "Earlier when we examined rows with a population size of zero, we saw that many of them also had zeros in other demographic columns. The demographic columns are primarily percentages, so values of zero within these columns are possible but highly unlikely (especially in places with large populations). It is likely the case that some of the zeros are really just missing values.\n",
    "\n",
    "Below we show the Census tracts containing six values of zero. Notice that the first California tract a population of 6,372. It is hard to imagine that there are no unemployed or elderly people."
   ]
  },
  {
   "cell_type": "code",
   "execution_count": 23,
   "id": "1647c8e4",
   "metadata": {},
   "outputs": [],
   "source": [
    "# subset the data along the demographic columns\n",
    "dem_info = env.loc[:,'pop':'unemp_pct']"
   ]
  },
  {
   "cell_type": "code",
   "execution_count": 24,
   "id": "a59f4991-4026-46ae-85f0-46fc40055193",
   "metadata": {},
   "outputs": [
    {
     "data": {
      "text/html": [
       "<div>\n",
       "<style scoped>\n",
       "    .dataframe tbody tr th:only-of-type {\n",
       "        vertical-align: middle;\n",
       "    }\n",
       "\n",
       "    .dataframe tbody tr th {\n",
       "        vertical-align: top;\n",
       "    }\n",
       "\n",
       "    .dataframe thead th {\n",
       "        text-align: right;\n",
       "    }\n",
       "</style>\n",
       "<table border=\"1\" class=\"dataframe\">\n",
       "  <thead>\n",
       "    <tr style=\"text-align: right;\">\n",
       "      <th></th>\n",
       "      <th>9303</th>\n",
       "      <th>27390</th>\n",
       "      <th>12257</th>\n",
       "      <th>48572</th>\n",
       "      <th>45064</th>\n",
       "      <th>48574</th>\n",
       "      <th>29408</th>\n",
       "      <th>48676</th>\n",
       "      <th>18616</th>\n",
       "      <th>69328</th>\n",
       "    </tr>\n",
       "  </thead>\n",
       "  <tbody>\n",
       "    <tr>\n",
       "      <th>st_name</th>\n",
       "      <td>California</td>\n",
       "      <td>Kentucky</td>\n",
       "      <td>Colorado</td>\n",
       "      <td>North Carolina</td>\n",
       "      <td>New York</td>\n",
       "      <td>North Carolina</td>\n",
       "      <td>Louisiana</td>\n",
       "      <td>North Carolina</td>\n",
       "      <td>Georgia</td>\n",
       "      <td>Virginia</td>\n",
       "    </tr>\n",
       "    <tr>\n",
       "      <th>st_abbrev</th>\n",
       "      <td>CA</td>\n",
       "      <td>KY</td>\n",
       "      <td>CO</td>\n",
       "      <td>NC</td>\n",
       "      <td>NY</td>\n",
       "      <td>NC</td>\n",
       "      <td>LA</td>\n",
       "      <td>NC</td>\n",
       "      <td>GA</td>\n",
       "      <td>VA</td>\n",
       "    </tr>\n",
       "    <tr>\n",
       "      <th>region</th>\n",
       "      <td>9</td>\n",
       "      <td>4</td>\n",
       "      <td>8</td>\n",
       "      <td>4</td>\n",
       "      <td>2</td>\n",
       "      <td>4</td>\n",
       "      <td>6</td>\n",
       "      <td>4</td>\n",
       "      <td>4</td>\n",
       "      <td>3</td>\n",
       "    </tr>\n",
       "    <tr>\n",
       "      <th>pop</th>\n",
       "      <td>6372</td>\n",
       "      <td>4641</td>\n",
       "      <td>4329</td>\n",
       "      <td>3801</td>\n",
       "      <td>2969</td>\n",
       "      <td>2697</td>\n",
       "      <td>1918</td>\n",
       "      <td>1727</td>\n",
       "      <td>737</td>\n",
       "      <td>686</td>\n",
       "    </tr>\n",
       "    <tr>\n",
       "      <th>poc_pct</th>\n",
       "      <td>0.537665</td>\n",
       "      <td>0.382892</td>\n",
       "      <td>0.236082</td>\n",
       "      <td>0.416206</td>\n",
       "      <td>0.134725</td>\n",
       "      <td>0.342974</td>\n",
       "      <td>0.513034</td>\n",
       "      <td>0.525767</td>\n",
       "      <td>0.489824</td>\n",
       "      <td>0.629738</td>\n",
       "    </tr>\n",
       "    <tr>\n",
       "      <th>low_inc_pct</th>\n",
       "      <td>0.0</td>\n",
       "      <td>0.0</td>\n",
       "      <td>0.0</td>\n",
       "      <td>0.0</td>\n",
       "      <td>0.0</td>\n",
       "      <td>0.0</td>\n",
       "      <td>0.0</td>\n",
       "      <td>0.0</td>\n",
       "      <td>0.0</td>\n",
       "      <td>0.0</td>\n",
       "    </tr>\n",
       "    <tr>\n",
       "      <th>sub_hs_pct</th>\n",
       "      <td>0.0</td>\n",
       "      <td>0.0</td>\n",
       "      <td>0.0</td>\n",
       "      <td>0.0</td>\n",
       "      <td>0.0</td>\n",
       "      <td>0.0</td>\n",
       "      <td>0.0</td>\n",
       "      <td>0.0</td>\n",
       "      <td>0.0</td>\n",
       "      <td>0.0</td>\n",
       "    </tr>\n",
       "    <tr>\n",
       "      <th>ling_iso_pct</th>\n",
       "      <td>0.0</td>\n",
       "      <td>0.0</td>\n",
       "      <td>0.0</td>\n",
       "      <td>0.0</td>\n",
       "      <td>0.0</td>\n",
       "      <td>0.0</td>\n",
       "      <td>0.0</td>\n",
       "      <td>0.0</td>\n",
       "      <td>0.0</td>\n",
       "      <td>0.0</td>\n",
       "    </tr>\n",
       "    <tr>\n",
       "      <th>under_5_pct</th>\n",
       "      <td>0.0</td>\n",
       "      <td>0.0</td>\n",
       "      <td>0.0</td>\n",
       "      <td>0.0</td>\n",
       "      <td>0.0</td>\n",
       "      <td>0.0</td>\n",
       "      <td>0.0</td>\n",
       "      <td>0.0</td>\n",
       "      <td>0.0</td>\n",
       "      <td>0.0</td>\n",
       "    </tr>\n",
       "    <tr>\n",
       "      <th>over_64_pct</th>\n",
       "      <td>0.0</td>\n",
       "      <td>0.0</td>\n",
       "      <td>0.0</td>\n",
       "      <td>0.0</td>\n",
       "      <td>0.0</td>\n",
       "      <td>0.0</td>\n",
       "      <td>0.0</td>\n",
       "      <td>0.0</td>\n",
       "      <td>0.0</td>\n",
       "      <td>0.0</td>\n",
       "    </tr>\n",
       "    <tr>\n",
       "      <th>unemp_pct</th>\n",
       "      <td>0.0</td>\n",
       "      <td>0.0</td>\n",
       "      <td>0.0</td>\n",
       "      <td>0.0</td>\n",
       "      <td>0.0</td>\n",
       "      <td>0.0</td>\n",
       "      <td>0.0</td>\n",
       "      <td>0.0</td>\n",
       "      <td>0.0</td>\n",
       "      <td>0.0</td>\n",
       "    </tr>\n",
       "    <tr>\n",
       "      <th>pre_1960_pct</th>\n",
       "      <td>0.0</td>\n",
       "      <td>0.0</td>\n",
       "      <td>0.0</td>\n",
       "      <td>0.0</td>\n",
       "      <td>0.0</td>\n",
       "      <td>0.0</td>\n",
       "      <td>1.0</td>\n",
       "      <td>0.0</td>\n",
       "      <td>0.0</td>\n",
       "      <td>0.0</td>\n",
       "    </tr>\n",
       "    <tr>\n",
       "      <th>diesel_pm</th>\n",
       "      <td>0.694723</td>\n",
       "      <td>0.134652</td>\n",
       "      <td>0.052611</td>\n",
       "      <td>0.161659</td>\n",
       "      <td>0.115106</td>\n",
       "      <td>0.131334</td>\n",
       "      <td>0.093551</td>\n",
       "      <td>0.278133</td>\n",
       "      <td>0.089567</td>\n",
       "      <td>0.33206</td>\n",
       "    </tr>\n",
       "    <tr>\n",
       "      <th>cancer</th>\n",
       "      <td>30.0</td>\n",
       "      <td>30.0</td>\n",
       "      <td>10.0</td>\n",
       "      <td>30.0</td>\n",
       "      <td>20.0</td>\n",
       "      <td>30.0</td>\n",
       "      <td>30.0</td>\n",
       "      <td>40.0</td>\n",
       "      <td>40.0</td>\n",
       "      <td>30.0</td>\n",
       "    </tr>\n",
       "    <tr>\n",
       "      <th>resp_index</th>\n",
       "      <td>0.4</td>\n",
       "      <td>0.4</td>\n",
       "      <td>0.1</td>\n",
       "      <td>0.6</td>\n",
       "      <td>0.2</td>\n",
       "      <td>0.4</td>\n",
       "      <td>0.5</td>\n",
       "      <td>0.4</td>\n",
       "      <td>0.6</td>\n",
       "      <td>0.3</td>\n",
       "    </tr>\n",
       "    <tr>\n",
       "      <th>traffic_prox</th>\n",
       "      <td>3036.588829</td>\n",
       "      <td>10.38603</td>\n",
       "      <td>0.032538</td>\n",
       "      <td>61.28812</td>\n",
       "      <td>150.226875</td>\n",
       "      <td>191.818276</td>\n",
       "      <td>4.28874</td>\n",
       "      <td>469.159597</td>\n",
       "      <td>2.947631</td>\n",
       "      <td>939.139919</td>\n",
       "    </tr>\n",
       "    <tr>\n",
       "      <th>npl_prox</th>\n",
       "      <td>0.013948</td>\n",
       "      <td>0.014444</td>\n",
       "      <td>0.016854</td>\n",
       "      <td>0.087657</td>\n",
       "      <td>0.049709</td>\n",
       "      <td>0.113248</td>\n",
       "      <td>0.040032</td>\n",
       "      <td>0.05773</td>\n",
       "      <td>0.011782</td>\n",
       "      <td>4.702068</td>\n",
       "    </tr>\n",
       "    <tr>\n",
       "      <th>rmp_prox</th>\n",
       "      <td>3.1946</td>\n",
       "      <td>0.083657</td>\n",
       "      <td>0.454469</td>\n",
       "      <td>0.594368</td>\n",
       "      <td>0.232659</td>\n",
       "      <td>0.38506</td>\n",
       "      <td>0.038883</td>\n",
       "      <td>0.854175</td>\n",
       "      <td>0.556932</td>\n",
       "      <td>1.350324</td>\n",
       "    </tr>\n",
       "    <tr>\n",
       "      <th>waste_prox</th>\n",
       "      <td>22.473111</td>\n",
       "      <td>0.971601</td>\n",
       "      <td>0.136303</td>\n",
       "      <td>0.810008</td>\n",
       "      <td>2.49434</td>\n",
       "      <td>0.38506</td>\n",
       "      <td>0.643867</td>\n",
       "      <td>1.1585</td>\n",
       "      <td>0.368344</td>\n",
       "      <td>3.898159</td>\n",
       "    </tr>\n",
       "    <tr>\n",
       "      <th>ozone</th>\n",
       "      <td>40.687878</td>\n",
       "      <td>42.358053</td>\n",
       "      <td>56.623387</td>\n",
       "      <td>41.39781</td>\n",
       "      <td>39.985032</td>\n",
       "      <td>41.468152</td>\n",
       "      <td>35.629014</td>\n",
       "      <td>42.105603</td>\n",
       "      <td>36.638444</td>\n",
       "      <td>39.451952</td>\n",
       "    </tr>\n",
       "    <tr>\n",
       "      <th>pm_25</th>\n",
       "      <td>9.953601</td>\n",
       "      <td>8.472164</td>\n",
       "      <td>5.85</td>\n",
       "      <td>7.473247</td>\n",
       "      <td>6.376586</td>\n",
       "      <td>7.442204</td>\n",
       "      <td>9.374798</td>\n",
       "      <td>8.561725</td>\n",
       "      <td>8.702466</td>\n",
       "      <td>6.927472</td>\n",
       "    </tr>\n",
       "    <tr>\n",
       "      <th>undgrd_stor</th>\n",
       "      <td>2.812983</td>\n",
       "      <td>0.0</td>\n",
       "      <td>0.137574</td>\n",
       "      <td>0.0</td>\n",
       "      <td>3.450239</td>\n",
       "      <td>0.0</td>\n",
       "      <td>0.0</td>\n",
       "      <td>25.02905</td>\n",
       "      <td>0.005778</td>\n",
       "      <td>0.909898</td>\n",
       "    </tr>\n",
       "    <tr>\n",
       "      <th>shape_length</th>\n",
       "      <td>11537.681086</td>\n",
       "      <td>18041.142339</td>\n",
       "      <td>50489.276432</td>\n",
       "      <td>19837.369869</td>\n",
       "      <td>6185.768082</td>\n",
       "      <td>16390.178583</td>\n",
       "      <td>113665.921105</td>\n",
       "      <td>3295.425268</td>\n",
       "      <td>132028.435985</td>\n",
       "      <td>12261.350178</td>\n",
       "    </tr>\n",
       "    <tr>\n",
       "      <th>shape_area</th>\n",
       "      <td>2570544.217985</td>\n",
       "      <td>11084500.764633</td>\n",
       "      <td>80521189.874987</td>\n",
       "      <td>9531762.389093</td>\n",
       "      <td>1602146.793671</td>\n",
       "      <td>7818385.007978</td>\n",
       "      <td>551885662.192461</td>\n",
       "      <td>642402.939863</td>\n",
       "      <td>428915924.21692</td>\n",
       "      <td>5854747.348034</td>\n",
       "    </tr>\n",
       "  </tbody>\n",
       "</table>\n",
       "</div>"
      ],
      "text/plain": [
       "                       9303             27390            12257  \\\n",
       "st_name           California         Kentucky         Colorado   \n",
       "st_abbrev                 CA               KY               CO   \n",
       "region                     9                4                8   \n",
       "pop                     6372             4641             4329   \n",
       "poc_pct             0.537665         0.382892         0.236082   \n",
       "low_inc_pct              0.0              0.0              0.0   \n",
       "sub_hs_pct               0.0              0.0              0.0   \n",
       "ling_iso_pct             0.0              0.0              0.0   \n",
       "under_5_pct              0.0              0.0              0.0   \n",
       "over_64_pct              0.0              0.0              0.0   \n",
       "unemp_pct                0.0              0.0              0.0   \n",
       "pre_1960_pct             0.0              0.0              0.0   \n",
       "diesel_pm           0.694723         0.134652         0.052611   \n",
       "cancer                  30.0             30.0             10.0   \n",
       "resp_index               0.4              0.4              0.1   \n",
       "traffic_prox     3036.588829         10.38603         0.032538   \n",
       "npl_prox            0.013948         0.014444         0.016854   \n",
       "rmp_prox              3.1946         0.083657         0.454469   \n",
       "waste_prox         22.473111         0.971601         0.136303   \n",
       "ozone              40.687878        42.358053        56.623387   \n",
       "pm_25               9.953601         8.472164             5.85   \n",
       "undgrd_stor         2.812983              0.0         0.137574   \n",
       "shape_length    11537.681086     18041.142339     50489.276432   \n",
       "shape_area    2570544.217985  11084500.764633  80521189.874987   \n",
       "\n",
       "                       48572           45064           48574  \\\n",
       "st_name       North Carolina        New York  North Carolina   \n",
       "st_abbrev                 NC              NY              NC   \n",
       "region                     4               2               4   \n",
       "pop                     3801            2969            2697   \n",
       "poc_pct             0.416206        0.134725        0.342974   \n",
       "low_inc_pct              0.0             0.0             0.0   \n",
       "sub_hs_pct               0.0             0.0             0.0   \n",
       "ling_iso_pct             0.0             0.0             0.0   \n",
       "under_5_pct              0.0             0.0             0.0   \n",
       "over_64_pct              0.0             0.0             0.0   \n",
       "unemp_pct                0.0             0.0             0.0   \n",
       "pre_1960_pct             0.0             0.0             0.0   \n",
       "diesel_pm           0.161659        0.115106        0.131334   \n",
       "cancer                  30.0            20.0            30.0   \n",
       "resp_index               0.6             0.2             0.4   \n",
       "traffic_prox        61.28812      150.226875      191.818276   \n",
       "npl_prox            0.087657        0.049709        0.113248   \n",
       "rmp_prox            0.594368        0.232659         0.38506   \n",
       "waste_prox          0.810008         2.49434         0.38506   \n",
       "ozone               41.39781       39.985032       41.468152   \n",
       "pm_25               7.473247        6.376586        7.442204   \n",
       "undgrd_stor              0.0        3.450239             0.0   \n",
       "shape_length    19837.369869     6185.768082    16390.178583   \n",
       "shape_area    9531762.389093  1602146.793671  7818385.007978   \n",
       "\n",
       "                         29408           48676            18616  \\\n",
       "st_name              Louisiana  North Carolina          Georgia   \n",
       "st_abbrev                   LA              NC               GA   \n",
       "region                       6               4                4   \n",
       "pop                       1918            1727              737   \n",
       "poc_pct               0.513034        0.525767         0.489824   \n",
       "low_inc_pct                0.0             0.0              0.0   \n",
       "sub_hs_pct                 0.0             0.0              0.0   \n",
       "ling_iso_pct               0.0             0.0              0.0   \n",
       "under_5_pct                0.0             0.0              0.0   \n",
       "over_64_pct                0.0             0.0              0.0   \n",
       "unemp_pct                  0.0             0.0              0.0   \n",
       "pre_1960_pct               1.0             0.0              0.0   \n",
       "diesel_pm             0.093551        0.278133         0.089567   \n",
       "cancer                    30.0            40.0             40.0   \n",
       "resp_index                 0.5             0.4              0.6   \n",
       "traffic_prox           4.28874      469.159597         2.947631   \n",
       "npl_prox              0.040032         0.05773         0.011782   \n",
       "rmp_prox              0.038883        0.854175         0.556932   \n",
       "waste_prox            0.643867          1.1585         0.368344   \n",
       "ozone                35.629014       42.105603        36.638444   \n",
       "pm_25                 9.374798        8.561725         8.702466   \n",
       "undgrd_stor                0.0        25.02905         0.005778   \n",
       "shape_length     113665.921105     3295.425268    132028.435985   \n",
       "shape_area    551885662.192461   642402.939863  428915924.21692   \n",
       "\n",
       "                       69328  \n",
       "st_name             Virginia  \n",
       "st_abbrev                 VA  \n",
       "region                     3  \n",
       "pop                      686  \n",
       "poc_pct             0.629738  \n",
       "low_inc_pct              0.0  \n",
       "sub_hs_pct               0.0  \n",
       "ling_iso_pct             0.0  \n",
       "under_5_pct              0.0  \n",
       "over_64_pct              0.0  \n",
       "unemp_pct                0.0  \n",
       "pre_1960_pct             0.0  \n",
       "diesel_pm            0.33206  \n",
       "cancer                  30.0  \n",
       "resp_index               0.3  \n",
       "traffic_prox      939.139919  \n",
       "npl_prox            4.702068  \n",
       "rmp_prox            1.350324  \n",
       "waste_prox          3.898159  \n",
       "ozone              39.451952  \n",
       "pm_25               6.927472  \n",
       "undgrd_stor         0.909898  \n",
       "shape_length    12261.350178  \n",
       "shape_area    5854747.348034  "
      ]
     },
     "execution_count": 24,
     "metadata": {},
     "output_type": "execute_result"
    }
   ],
   "source": [
    "env[(dem_info == 0).sum(axis = 1) == 6].sort_values(by = 'pop', ascending = False).head(10).T"
   ]
  },
  {
   "cell_type": "markdown",
   "id": "acc75246-bd7e-4084-865c-1766e7b3d4b5",
   "metadata": {},
   "source": [
    "Unfortunately, because we cannot accurately determine when these zeros are genuine zeros or missing values, we do not have a great way to correct this problem. Our approach will be to simply remove rows with too many zeros in the demographic columns.\n",
    "\n",
    "Looking at the value counts of the number of zeros that appear in each row, it seems safe to remove all of the rows containing five or more zeros."
   ]
  },
  {
   "cell_type": "code",
   "execution_count": 25,
   "id": "e760a6d6-544f-48d1-ad13-7dfb80994c1e",
   "metadata": {},
   "outputs": [
    {
     "data": {
      "text/plain": [
       "7        1\n",
       "6       27\n",
       "5       57\n",
       "4      131\n",
       "3       96\n",
       "2      495\n",
       "1    18658\n",
       "0    53755\n",
       "dtype: int64"
      ]
     },
     "execution_count": 25,
     "metadata": {},
     "output_type": "execute_result"
    }
   ],
   "source": [
    "# sum the number of zeros in each row\n",
    "# then determine the appearances of each coun\n",
    "(dem_info == 0).sum(axis = 1).value_counts(ascending = True).sort_index(ascending = False)"
   ]
  },
  {
   "cell_type": "code",
   "execution_count": 26,
   "id": "d20fc084-41f2-4937-af56-34005cd39f18",
   "metadata": {},
   "outputs": [],
   "source": [
    "# remove rows with 5 or more zeros\n",
    "env = env[(dem_info == 0).sum(axis = 1) < 5]"
   ]
  },
  {
   "cell_type": "markdown",
   "id": "fee20e97-6edf-456b-8fad-1253a921901e",
   "metadata": {},
   "source": [
    "#### Cancer Outlier"
   ]
  },
  {
   "cell_type": "markdown",
   "id": "755e3fe9-c6af-4473-95e7-c837eaaedcc4",
   "metadata": {},
   "source": [
    "There is one major outlier in the cancer column containing a value of 2,000."
   ]
  },
  {
   "cell_type": "code",
   "execution_count": 27,
   "id": "748c321a-e59e-4e66-9a99-d9d0ac8c5772",
   "metadata": {},
   "outputs": [
    {
     "data": {
      "image/png": "[encoded data removed]",
      "text/plain": [
       "<Figure size 432x288 with 1 Axes>"
      ]
     },
     "metadata": {
      "needs_background": "light"
     },
     "output_type": "display_data"
    }
   ],
   "source": [
    "sns.boxplot(x = env['cancer']);"
   ]
  },
  {
   "cell_type": "markdown",
   "id": "f726a1e7-b906-4863-98b1-d5efdf38d103",
   "metadata": {},
   "source": [
    "This outlier comes from a Census tract in Puerto Rico with high POC and low income percentages, but otherwise typical values in the other columns. After further research, we were unable to find any indication that areas in Puerto Rico have extremely high instances of cancer, and therefore it is possible that this observation is an error.\n",
    "\n",
    "The next largest cancer rate we see in the data is a value of 1,000 that comes from a Census tract in Louisiana. There is an infamous area there known as ‘Cancer Alley’ with extraordinarily high cancer rates. Therefore this observation may be reasonable to leave in our dataset."
   ]
  },
  {
   "cell_type": "code",
   "execution_count": 28,
   "id": "6753b005-18f6-46b8-b208-7126c68cf83b",
   "metadata": {},
   "outputs": [],
   "source": [
    "# drop the cancer \n",
    "env = env[env['cancer'] < 1500]"
   ]
  },
  {
   "cell_type": "markdown",
   "id": "1f403163-4b5c-4228-be41-9f00f12d424c",
   "metadata": {},
   "source": [
    "We will now save this DataFrame to a csv file for future reference."
   ]
  },
  {
   "cell_type": "code",
   "execution_count": 29,
   "id": "f88f6c5a-4717-42d1-958a-e46573981e96",
   "metadata": {},
   "outputs": [],
   "source": [
    "env.to_csv('../data/cleaned_ejscreen.csv', index = True)"
   ]
  },
  {
   "cell_type": "markdown",
   "id": "8a9619a0-305f-4183-9da6-f2b14df7724a",
   "metadata": {},
   "source": [
    "---\n",
    "\n",
    "## Imputing"
   ]
  },
  {
   "cell_type": "markdown",
   "id": "a32f6559-19cc-49bb-a21d-b28a2135490d",
   "metadata": {},
   "source": [
    "#### Transforming the Data"
   ]
  },
  {
   "cell_type": "markdown",
   "id": "7cc78215-37e7-4ef2-830e-fdd901368ae3",
   "metadata": {},
   "source": [
    "We have dealt with all of the null values except for those in the `traffic_prox`, `ozone`, and `pm_25` columns. Let us now resort to imputing these missing values in all three columns using iterative imputer"
   ]
  },
  {
   "cell_type": "code",
   "execution_count": 30,
   "id": "1c418cef-879d-4268-903a-5adcc2280cf1",
   "metadata": {},
   "outputs": [],
   "source": [
    "cols_to_impute = ['traffic_prox', 'ozone', 'pm_25']"
   ]
  },
  {
   "cell_type": "code",
   "execution_count": 31,
   "id": "6fee53c9-da10-44d0-ac82-6b91188565b5",
   "metadata": {},
   "outputs": [
    {
     "data": {
      "text/plain": [
       "Index(['st_name', 'st_abbrev', 'region', 'pop', 'poc_pct', 'low_inc_pct',\n",
       "       'sub_hs_pct', 'ling_iso_pct', 'under_5_pct', 'over_64_pct', 'unemp_pct',\n",
       "       'pre_1960_pct', 'diesel_pm', 'cancer', 'resp_index', 'traffic_prox',\n",
       "       'npl_prox', 'rmp_prox', 'waste_prox', 'ozone', 'pm_25', 'undgrd_stor',\n",
       "       'shape_length', 'shape_area'],\n",
       "      dtype='object')"
      ]
     },
     "execution_count": 31,
     "metadata": {},
     "output_type": "execute_result"
    }
   ],
   "source": [
    "env.columns"
   ]
  },
  {
   "cell_type": "markdown",
   "id": "c3a87deb-209b-4c85-893c-e1c95d11a4ea",
   "metadata": {},
   "source": [
    "We will use a linear regression for our imputation, so let us begin by dropping some columns that seem irrelevant for the columns with missing data. We will also drop the cancer column to avoid data leakage."
   ]
  },
  {
   "cell_type": "code",
   "execution_count": 32,
   "id": "9ec82328-31b0-4fe9-926c-de1648ed8050",
   "metadata": {},
   "outputs": [],
   "source": [
    "X = env.drop(columns = ['cancer', 'st_name', 'st_abbrev', 'shape_length', 'shape_area'])\n",
    "y = env['cancer']\n",
    "\n",
    "X_train, X_val, y_train, y_val = train_test_split(X, y, test_size = 0.2, random_state = 13)"
   ]
  },
  {
   "cell_type": "markdown",
   "id": "92e5a4b8-ab49-4264-a1cb-0f80a15a0175",
   "metadata": {},
   "source": [
    "Our regions data is categorical despite have numeric values. Before running the iterative imputer, let us one hot encode the `region` column."
   ]
  },
  {
   "cell_type": "code",
   "execution_count": 33,
   "id": "d71c7f99-70fa-4b7b-b755-5b69e4f34459",
   "metadata": {},
   "outputs": [],
   "source": [
    "# instantiate our transformers:\n",
    "\n",
    "# one-hot encoder for the region column\n",
    "ohe = OneHotEncoder(drop='first'), ['region']\n",
    "\n",
    "# column transformer for apply ohe to only the region column\n",
    "ct = make_column_transformer(ohe, remainder = 'passthrough')\n",
    "\n",
    "# use linear regression for imputation\n",
    "it = IterativeImputer(estimator = LinearRegression())"
   ]
  },
  {
   "cell_type": "code",
   "execution_count": 34,
   "id": "5851d5f8-1930-4ce9-91f9-f0ffdbd26cc7",
   "metadata": {},
   "outputs": [],
   "source": [
    "# one-hot encode the region column (with column transformer) in both our train and validation set\n",
    "X_train_ohe = ct.fit_transform(X_train)\n",
    "X_val_ohe = ct.transform(X_val)\n",
    "\n",
    "# apply iterative imputer to our train and validation data (after one-hot encoding)\n",
    "X_train_imputed = it.fit_transform(X_train_ohe)\n",
    "X_val_imputed = it.transform(X_val_ohe)"
   ]
  },
  {
   "cell_type": "markdown",
   "id": "09f563a4-7c6f-463e-8676-0d583cd849aa",
   "metadata": {},
   "source": [
    "#### Saving the Imputed Results to csv"
   ]
  },
  {
   "cell_type": "markdown",
   "id": "37d9b625-6c1c-4d23-b2f1-b089987a58cd",
   "metadata": {},
   "source": [
    "We will also convert our training and validation data to DataFrames to save them as csv files now that they are imputed. This will allow us to access this data more easily across different notebooks. In case we care to refer back to this information we will preserve the indices, state information, and tract shape."
   ]
  },
  {
   "cell_type": "code",
   "execution_count": 35,
   "id": "a3ecc08e-b5a6-4705-86b6-4434a633ff0b",
   "metadata": {},
   "outputs": [],
   "source": [
    "# convert our train and validation X data to DataFrames (preserving indices)\n",
    "X_train_df = pd.DataFrame(X_train_imputed, columns = ct.get_feature_names_out(), index = y_train.index)\n",
    "X_val_df = pd.DataFrame(X_val_imputed, columns = ct.get_feature_names_out(), index = y_val.index)"
   ]
  },
  {
   "cell_type": "code",
   "execution_count": 36,
   "id": "fa743480-f099-48f2-b55e-4a4afedabc54",
   "metadata": {},
   "outputs": [],
   "source": [
    "# include y cancer column, state information, and tract shape\n",
    "train_imputed = X_train_df.merge(right = env[['cancer', 'st_name', 'st_abbrev', 'shape_length', 'shape_area']],\n",
    "                                how = 'left',\n",
    "                                left_index = True,\n",
    "                                right_index = True).sort_index()\n",
    "\n",
    "# include y cancer column, state information, and tract shape\n",
    "val_imputed = X_val_df.merge(right = env[['cancer', 'st_name', 'st_abbrev', 'shape_length', 'shape_area']],\n",
    "                                how = 'left',\n",
    "                                left_index = True,\n",
    "                                right_index = True).sort_index()"
   ]
  },
  {
   "cell_type": "markdown",
   "id": "d8b837eb-85b1-4bb9-97f5-01d11ca44534",
   "metadata": {},
   "source": [
    "Since the data has been one-hot encoded on a specific column, the columns have been relabeled. Let us revert the columns back to their original form."
   ]
  },
  {
   "cell_type": "code",
   "execution_count": 37,
   "id": "617d8e82-8591-48cc-9fae-790001ff09f8",
   "metadata": {},
   "outputs": [
    {
     "data": {
      "text/plain": [
       "Index(['onehotencoder__region_2', 'onehotencoder__region_3',\n",
       "       'onehotencoder__region_4', 'onehotencoder__region_5',\n",
       "       'onehotencoder__region_6', 'onehotencoder__region_7',\n",
       "       'onehotencoder__region_8', 'onehotencoder__region_9',\n",
       "       'onehotencoder__region_10', 'remainder__pop', 'remainder__poc_pct',\n",
       "       'remainder__low_inc_pct', 'remainder__sub_hs_pct',\n",
       "       'remainder__ling_iso_pct', 'remainder__under_5_pct',\n",
       "       'remainder__over_64_pct', 'remainder__unemp_pct',\n",
       "       'remainder__pre_1960_pct', 'remainder__diesel_pm',\n",
       "       'remainder__resp_index', 'remainder__traffic_prox',\n",
       "       'remainder__npl_prox', 'remainder__rmp_prox', 'remainder__waste_prox',\n",
       "       'remainder__ozone', 'remainder__pm_25', 'remainder__undgrd_stor',\n",
       "       'cancer', 'st_name', 'st_abbrev', 'shape_length', 'shape_area'],\n",
       "      dtype='object')"
      ]
     },
     "execution_count": 37,
     "metadata": {},
     "output_type": "execute_result"
    }
   ],
   "source": [
    "# illustrate column names are different than how they started\n",
    "train_imputed.columns"
   ]
  },
  {
   "cell_type": "code",
   "execution_count": 38,
   "id": "dec6bed7-8dc8-4920-a7c5-089dc3455ae0",
   "metadata": {},
   "outputs": [],
   "source": [
    "# create new labels without 'onehotencoder__' or 'remainder__' prefix\n",
    "new_col_labels = [col.replace('onehotencoder__', '').replace('remainder__', '') for col in train_imputed.columns]\n",
    "\n",
    "# convert column labels in both train and validation sets\n",
    "train_imputed.columns = new_col_labels\n",
    "val_imputed.columns = new_col_labels"
   ]
  },
  {
   "cell_type": "markdown",
   "id": "f7bec3cf-e832-47ea-a71b-35ca0dfa8af4",
   "metadata": {},
   "source": [
    "Finally, we are ready to save our data to csv files."
   ]
  },
  {
   "cell_type": "code",
   "execution_count": 39,
   "id": "de85d21f-da9e-45ef-bcee-e0a38c4c1c91",
   "metadata": {},
   "outputs": [],
   "source": [
    "# save data as csv files\n",
    "# preserve index\n",
    "train_imputed.to_csv('../data/train_cleaned_imputed.csv', index = True)\n",
    "val_imputed.to_csv('../data/val_cleaned_imputed.csv', index = True)"
   ]
  },
  {
   "cell_type": "markdown",
   "id": "06f72974-8a0e-4474-aa85-31c842245a9b",
   "metadata": {},
   "source": [
    "#### Comparing Data With and Without Imputation"
   ]
  },
  {
   "cell_type": "markdown",
   "id": "f66958c0-7458-490a-97e9-52156b40056f",
   "metadata": {},
   "source": [
    "As a final check for our imputation, we will compare the distributions of `traffic_prox`, `ozone`, and `pm_25` to their distributions before imputation. Since we are not doing any modeling yet, we will look at the training and testing data together."
   ]
  },
  {
   "cell_type": "code",
   "execution_count": 40,
   "id": "0d2a1915-e913-4a58-9bba-2fd86ed358c2",
   "metadata": {},
   "outputs": [],
   "source": [
    "env_imputed = pd.concat([train_imputed, val_imputed]).sort_index()"
   ]
  },
  {
   "cell_type": "code",
   "execution_count": 41,
   "id": "dc360991-e418-4826-8efd-389cc8b7b1e4",
   "metadata": {},
   "outputs": [
    {
     "data": {
      "image/png": "[encoded data removed]",
      "text/plain": [
       "<Figure size 1296x648 with 6 Axes>"
      ]
     },
     "metadata": {
      "needs_background": "light"
     },
     "output_type": "display_data"
    }
   ],
   "source": [
    "# plot 2x3 grid of histograms of the data \n",
    "# not imputed distributions on top, imputed distributions on bottom\n",
    "\n",
    "plt.figure(figsize = (18, 9))\n",
    "\n",
    "i = 1\n",
    "\n",
    "# figure title\n",
    "plt.suptitle('Distributions of Traffic, Ozone, and Particulate Matter Data Before and After Imputation', size = 20)\n",
    "\n",
    "\n",
    "# titles for the three different columns\n",
    "title_dict = {'traffic_prox': 'Traffic Volume and Proximity',\n",
    "             'ozone': 'Maximum Ozone Concentrations',\n",
    "             'pm_25': 'Particulate Matter < 2.5 Microns'}\n",
    "\n",
    "# x labels for the three different columns\n",
    "x_labels = {'traffic_prox': 'Traffic Proximity (vehicles/distance)',\n",
    "           'ozone': 'Summer Seasonal Average Air Concentration (ppb)',\n",
    "           'pm_25': 'Annual Average ($\\mu g/m^3$)'}\n",
    "\n",
    "# iterate over the six columns and plot their histograms\n",
    "for df in [env, env_imputed]:\n",
    "    for col in cols_to_impute:\n",
    "        \n",
    "        # choose color and legend label based on whether the data is env or env_imputed\n",
    "        # using the first column label to determine\n",
    "        hist_color = 'darksalmon'\n",
    "        label = 'Imputed'\n",
    "        \n",
    "        # if first column label matches the environmental dataframe\n",
    "        # change color and label\n",
    "        if df.columns[0] == 'st_name':\n",
    "            hist_color = 'tab:blue'\n",
    "            label = 'Not Imputed'\n",
    "        \n",
    "        # generate subplot with title and axis labels\n",
    "        plt.subplot(2,3,i)\n",
    "        plt.title(f'{title_dict[col]}', size = 15)\n",
    "        plt.xlabel(x_labels[col])\n",
    "        plt.ylabel('Frequency')\n",
    "        \n",
    "        # plot distribution and legend\n",
    "        plt.hist(df[col], color = hist_color, bins = 60, label = label)\n",
    "        plt.legend()\n",
    "        \n",
    "        # adjust horizontal axis on traffic proximity\n",
    "        if col == 'traffic_prox':\n",
    "            plt.xlim([-1_000, 20_000])\n",
    "            plt.xticks([6000 * i for i in range(4)])\n",
    "            \n",
    "        # adjust vertical axis according to the largest value_counts data\n",
    "        largest_bin_count = df[col].value_counts(bins = 60).iloc[0]\n",
    "        \n",
    "        # round largest_value counts to the nearest thousand\n",
    "        y_lim = round(largest_bin_count, -3)\n",
    "\n",
    "        # only use 4 tick marks along the y-axis\n",
    "        plt.ylim([0, 1.1*y_lim])\n",
    "        plt.yticks([0, y_lim* (1/4), y_lim * (2/4), y_lim * (3/4), y_lim])\n",
    "        \n",
    "        # move on to next subplot\n",
    "        i += 1\n",
    "        \n",
    "# adjust subplot spacing\n",
    "plt.subplots_adjust(left=0.1,\n",
    "                    bottom=0.1,\n",
    "                    right=0.9,\n",
    "                    top=0.875,\n",
    "                    wspace=0.3,\n",
    "                    hspace=0.5)\n",
    "\n",
    "plt.tight_layout()\n",
    "plt.savefig('../images/impute_distributions.png')"
   ]
  },
  {
   "cell_type": "markdown",
   "id": "0011b227-a9ff-4622-9a66-ee124eb78077",
   "metadata": {},
   "source": [
    "We see that the distributions are nearly identical the between the two groups (not imputed and imputed)."
   ]
  }
 ],
 "metadata": {
  "kernelspec": {
   "display_name": "Python 3 (ipykernel)",
   "language": "python",
   "name": "python3"
  },
  "language_info": {
   "codemirror_mode": {
    "name": "ipython",
    "version": 3
   },
   "file_extension": ".py",
   "mimetype": "text/x-python",
   "name": "python",
   "nbconvert_exporter": "python",
   "pygments_lexer": "ipython3",
   "version": "3.9.12"
  }
 },
 "nbformat": 4,
 "nbformat_minor": 5
}
