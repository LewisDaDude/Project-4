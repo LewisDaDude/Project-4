{
 "cells": [
  {
   "cell_type": "markdown",
   "id": "5c113bbf-9067-4c8e-80cd-77cd9d306e3d",
   "metadata": {},
   "source": [
    "## Imports and Functions"
   ]
  },
  {
   "cell_type": "code",
   "execution_count": 1,
   "id": "2c58fbea-8a0f-4d17-8349-cd485df9102a",
   "metadata": {},
   "outputs": [],
   "source": [
    "import numpy as np\n",
    "import pandas as pd\n",
    "import matplotlib.pyplot as plt\n",
    "import seaborn as sns\n",
    "\n",
    "from sklearn.model_selection import train_test_split\n",
    "\n",
    "# imputation\n",
    "from sklearn.experimental import enable_iterative_imputer \n",
    "from sklearn.impute import IterativeImputer\n",
    "from sklearn.linear_model import LinearRegression\n",
    "from sklearn.preprocessing import OneHotEncoder\n",
    "from sklearn.compose import make_column_transformer"
   ]
  },
  {
   "cell_type": "code",
   "execution_count": 2,
   "id": "4d35038a-bade-446c-b87d-411e0f58e473",
   "metadata": {},
   "outputs": [],
   "source": [
    "def clean_col(col_name):\n",
    "    '''\n",
    "    Rename columns to be more Pythonic:\n",
    "    - lowercase\n",
    "    - underscore between words\n",
    "    - replace some language with more descriptive examples\n",
    "    \n",
    "    Return revised column name.\n",
    "    '''\n",
    "    col_name = col_name.lower()\n",
    "    col_name = col_name.replace('pct','_pct')\n",
    "    col_name = col_name.replace('state','st')\n",
    "    col_name = col_name.replace('acstot','')\n",
    "    col_name = col_name.replace('minor','poc')\n",
    "    col_name = col_name.replace('less','sub_')\n",
    "    col_name = col_name.replace('lowinc','low_inc')\n",
    "    col_name = col_name.replace('ling','ling_')\n",
    "    col_name = col_name.replace('under5','under_5')\n",
    "    col_name = col_name.replace('over64','over_64')\n",
    "    col_name = col_name.replace('vuleo_pct','dem_index')\n",
    "    col_name = col_name.replace('pre1960','pre_1960')\n",
    "    col_name = col_name.replace('ptraf','traffic_prox')\n",
    "    col_name = col_name.replace('dslpm','diesel_pm')\n",
    "    col_name = col_name.replace('pnpl','npl_prox')\n",
    "    col_name = col_name.replace('prmp','rmp_prox')\n",
    "    col_name = col_name.replace('ptsdf','waste_prox')\n",
    "    col_name = col_name.replace('resp','resp_index')\n",
    "    col_name = col_name.replace('pwdis','waste_water')\n",
    "    col_name = col_name.replace('25','_25')\n",
    "    col_name = col_name.replace('ust','undgrd_stor')\n",
    "    \n",
    "    return col_name\n",
    "    "
   ]
  },
  {
   "cell_type": "markdown",
   "id": "383e3b90-adab-4fe3-93ac-c4ab86062590",
   "metadata": {},
   "source": [
    "---\n",
    "## Basic Cleaning"
   ]
  },
  {
   "cell_type": "code",
   "execution_count": 3,
   "id": "e2bfefee-3d6b-45f9-b523-d4caa79d96fa",
   "metadata": {},
   "outputs": [
    {
     "name": "stderr",
     "output_type": "stream",
     "text": [
      "C:\\Users\\John\\AppData\\Local\\Temp\\ipykernel_14672\\1401447621.py:1: DtypeWarning: Columns (128,129,130,131) have mixed types. Specify dtype option on import or set low_memory=False.\n",
      "  raw_data = pd.read_csv('../data/EJSCREEN_2021_StatePctile_Tracts.csv')\n"
     ]
    }
   ],
   "source": [
    "raw_data = pd.read_csv('../data/EJSCREEN_2021_StatePctile_Tracts.csv')"
   ]
  },
  {
   "cell_type": "markdown",
   "id": "f90e464d-31d4-4cae-ada9-731631c32e5e",
   "metadata": {},
   "source": [
    "Columns beginning with `B_` and `T_` provide information for creating specialized images. This is not necessary for our exploratory data analysis so we will drop these columns. Columns beginning with `P_` and `D_` contain percentile and index data. These can be reconstructed from other columns without much difficulty, so we will drop these as well.\n",
    "\n",
    "There is also identification and shape data that we do not need for eda. These columns are located in the first two and last two columns. We will drop these columns, too."
   ]
  },
  {
   "cell_type": "code",
   "execution_count": 4,
   "id": "d5771b7a-6999-491d-8a1f-2dbd94166f3c",
   "metadata": {
    "scrolled": true
   },
   "outputs": [
    {
     "data": {
      "text/plain": [
       "['STATE_NAME',\n",
       " 'ST_ABBREV',\n",
       " 'REGION',\n",
       " 'ACSTOTPOP',\n",
       " 'MINORPCT',\n",
       " 'LOWINCPCT',\n",
       " 'LESSHSPCT',\n",
       " 'LINGISOPCT',\n",
       " 'UNDER5PCT',\n",
       " 'OVER64PCT',\n",
       " 'UNEMPPCT',\n",
       " 'VULEOPCT',\n",
       " 'PRE1960PCT',\n",
       " 'DSLPM',\n",
       " 'CANCER',\n",
       " 'RESP',\n",
       " 'PTRAF',\n",
       " 'PWDIS',\n",
       " 'PNPL',\n",
       " 'PRMP',\n",
       " 'PTSDF',\n",
       " 'OZONE',\n",
       " 'PM25',\n",
       " 'UST',\n",
       " 'Shape_Length',\n",
       " 'Shape_Area']"
      ]
     },
     "execution_count": 4,
     "metadata": {},
     "output_type": "execute_result"
    }
   ],
   "source": [
    "# initial columns of interest\n",
    "# cut columns related to image data, clean the rest\n",
    "init_cols = [col for col in raw_data.columns if col[:2] not in 'P_B_T_D_']\n",
    "\n",
    "# drop OBJECTID - repeated index col\n",
    "# drop Shape cols\n",
    "init_cols = init_cols[2:]\n",
    "init_cols"
   ]
  },
  {
   "cell_type": "markdown",
   "id": "5e7aa5c3-acdf-42bf-b864-fa84daa88a30",
   "metadata": {},
   "source": [
    "Below we change the column labels to lower case and include an underscore to between the `PCT` (representing percent) to make the columns a bit more readable."
   ]
  },
  {
   "cell_type": "code",
   "execution_count": 5,
   "id": "49a25eb7-4c6f-4847-9ef8-22c6ce5fa796",
   "metadata": {},
   "outputs": [],
   "source": [
    "env = raw_data[init_cols].copy()\n",
    "env.columns = [clean_col(col) for col in env.columns]"
   ]
  },
  {
   "cell_type": "markdown",
   "id": "e09bf4e7-a8d1-4731-ba0b-c4599f58e0b4",
   "metadata": {},
   "source": [
    "To check the results, we list out the revised column names."
   ]
  },
  {
   "cell_type": "code",
   "execution_count": 6,
   "id": "e3322910-9236-4c68-8ae2-5cc7706e1640",
   "metadata": {},
   "outputs": [
    {
     "data": {
      "text/plain": [
       "Index(['st_name', 'st_abbrev', 'region', 'pop', 'poc_pct', 'low_inc_pct',\n",
       "       'sub_hs_pct', 'ling_iso_pct', 'under_5_pct', 'over_64_pct', 'unemp_pct',\n",
       "       'dem_index', 'pre_1960_pct', 'diesel_pm', 'cancer', 'resp_index',\n",
       "       'traffic_prox', 'waste_water', 'npl_prox', 'rmp_prox', 'waste_prox',\n",
       "       'ozone', 'pm_25', 'undgrd_stor', 'shape_length', 'shape_area'],\n",
       "      dtype='object')"
      ]
     },
     "execution_count": 6,
     "metadata": {},
     "output_type": "execute_result"
    }
   ],
   "source": [
    "env.columns"
   ]
  },
  {
   "cell_type": "markdown",
   "id": "ff117acc-bc46-4d4c-9c60-5d65195db994",
   "metadata": {},
   "source": [
    "There are few hundred rows of data where the numeric entries consist entirely of zeros or missing values. These rows will be impossible to work with and should be removed."
   ]
  },
  {
   "cell_type": "code",
   "execution_count": 7,
   "id": "6c226215-176c-4862-adbe-dadacca86050",
   "metadata": {},
   "outputs": [],
   "source": [
    "# drop rows containing no information (consisting of ALL zeros and nulls)\n",
    "\n",
    "# identify location of first and last numeric columns\n",
    "pop_index = env.columns.get_loc('pop')\n",
    "stor_index = env.columns.get_loc('undgrd_stor')\n",
    "\n",
    "# count nulls within a row\n",
    "nulls_in_row = env.iloc[:,pop_index:stor_index+1].isnull().sum(axis = 1)\n",
    "# count zeros within a row\n",
    "zeros_in_row = (env.iloc[:,pop_index:stor_index+1] == 0).sum(axis = 1)\n",
    "\n",
    "# if zeros and nulls sum to number of numeric columns, drop the row\n",
    "total_num_cols = env.iloc[:,pop_index:stor_index+1].shape[1]\n",
    "env.drop(index = env[nulls_in_row + zeros_in_row == total_num_cols].index, inplace = True)"
   ]
  },
  {
   "cell_type": "markdown",
   "id": "cdcf36ee-c4ff-420f-879d-1e209d2098e5",
   "metadata": {},
   "source": [
    "One of our major goals is to predict the air toxics cancer risk given by the `cancer` column. Since this column is especially valuable to us, we want to avoid imputing missing values within it. Below we see it contains 246 missing values."
   ]
  },
  {
   "cell_type": "code",
   "execution_count": 8,
   "id": "2ffed361-9c0a-48d8-aacf-64ac87a36a74",
   "metadata": {},
   "outputs": [
    {
     "data": {
      "text/plain": [
       "st_name             0\n",
       "st_abbrev           0\n",
       "region              0\n",
       "pop                 0\n",
       "poc_pct             0\n",
       "low_inc_pct         0\n",
       "sub_hs_pct          0\n",
       "ling_iso_pct        0\n",
       "under_5_pct         0\n",
       "over_64_pct         0\n",
       "unemp_pct           0\n",
       "dem_index           0\n",
       "pre_1960_pct        0\n",
       "diesel_pm         246\n",
       "cancer            246\n",
       "resp_index        246\n",
       "traffic_prox     2343\n",
       "waste_water     19644\n",
       "npl_prox            0\n",
       "rmp_prox            0\n",
       "waste_prox          0\n",
       "ozone            1383\n",
       "pm_25            1383\n",
       "undgrd_stor         0\n",
       "shape_length        0\n",
       "shape_area          0\n",
       "dtype: int64"
      ]
     },
     "execution_count": 8,
     "metadata": {},
     "output_type": "execute_result"
    }
   ],
   "source": [
    "env.isnull().sum()"
   ]
  },
  {
   "cell_type": "markdown",
   "id": "9fe7f8e0-8e82-45d2-a593-6ccfa3aad864",
   "metadata": {},
   "source": [
    "Before we drop the rows missing `cancer` data, we check to see if the entries seem genuinely random and that we are not introducing any blatant bias to our dataset. Since the states of these entries seem reasonably distributed, it feels fair to assume they are random."
   ]
  },
  {
   "cell_type": "code",
   "execution_count": 9,
   "id": "f69809ab-22ef-44e7-912b-bc09707a75a4",
   "metadata": {},
   "outputs": [
    {
     "data": {
      "text/plain": [
       "New York          31\n",
       "Florida           26\n",
       "California        18\n",
       "Texas             16\n",
       "Michigan          13\n",
       "Virginia          12\n",
       "Louisiana         12\n",
       "North Carolina    10\n",
       "Tennessee          8\n",
       "Colorado           7\n",
       "Pennsylvania       7\n",
       "Georgia            7\n",
       "Nevada             7\n",
       "South Carolina     6\n",
       "Illinois           6\n",
       "Arizona            6\n",
       "Massachusetts      5\n",
       "Kentucky           5\n",
       "Mississippi        4\n",
       "Maryland           4\n",
       "Kansas             4\n",
       "New Hampshire      3\n",
       "Utah               3\n",
       "Ohio               3\n",
       "Oregon             3\n",
       "Washington         3\n",
       "Wisconsin          3\n",
       "New Jersey         2\n",
       "Iowa               2\n",
       "Missouri           2\n",
       "Vermont            1\n",
       "Alabama            1\n",
       "New Mexico         1\n",
       "Minnesota          1\n",
       "Indiana            1\n",
       "Delaware           1\n",
       "Connecticut        1\n",
       "Wyoming            1\n",
       "Name: st_name, dtype: int64"
      ]
     },
     "execution_count": 9,
     "metadata": {},
     "output_type": "execute_result"
    }
   ],
   "source": [
    "env.loc[env['cancer'].isna(), 'st_name'].value_counts()"
   ]
  },
  {
   "cell_type": "code",
   "execution_count": 10,
   "id": "f96bbcd9-9ca2-452c-92f3-09b7d7310361",
   "metadata": {},
   "outputs": [],
   "source": [
    "env.dropna(subset = ['cancer'], inplace = True)"
   ]
  },
  {
   "cell_type": "markdown",
   "id": "ef79994e-3438-4c87-91a0-56a59dffd73f",
   "metadata": {},
   "source": [
    "Conveniently, dropping the rows with missing `cancer` values coincided with rows missing `diesel_pm` and `resp_index`."
   ]
  },
  {
   "cell_type": "markdown",
   "id": "57c478cc-23d7-4e14-99f5-f6751dec8a2a",
   "metadata": {},
   "source": [
    "#### Puerto Rico, Hawaii, and Alaska"
   ]
  },
  {
   "cell_type": "markdown",
   "id": "569922da-e3e1-4c73-956f-8f94319816f0",
   "metadata": {},
   "source": [
    "Below is code showing that if we drop the null values outside of `waste_water`, we eliminate Puerto Rico, Hawaii, and Alaska from the entire dataset. These three territories seem to only be missing `ozone` and `pm_25` data."
   ]
  },
  {
   "cell_type": "code",
   "execution_count": 11,
   "id": "baae8c88-a182-4c73-870f-c37990236c3f",
   "metadata": {},
   "outputs": [],
   "source": [
    "# collect rows where there are any missing values\n",
    "# besides waste_water with 20,000 missing values\n",
    "\n",
    "# na_rows are the incdices of null values\n",
    "# has_na is the dataset containing null\n",
    "na_rows = env.select_dtypes(include = 'number').drop(columns = 'waste_water').isna().any(axis = 1)\n",
    "has_na = env[na_rows]"
   ]
  },
  {
   "cell_type": "code",
   "execution_count": 12,
   "id": "410f7819-c163-4aed-ab28-61c1a84f66d5",
   "metadata": {},
   "outputs": [
    {
     "data": {
      "text/plain": [
       "PR    895\n",
       "HI    321\n",
       "AK    167\n",
       "KY    122\n",
       "TX    122\n",
       "MI    118\n",
       "NC    106\n",
       "OH     86\n",
       "NY     81\n",
       "ME     79\n",
       "Name: st_abbrev, dtype: int64"
      ]
     },
     "execution_count": 12,
     "metadata": {},
     "output_type": "execute_result"
    }
   ],
   "source": [
    "# 10 states with the most null values in the dataset currently\n",
    "null_states = has_na['st_abbrev'].value_counts().head(10).index\n",
    "has_na['st_abbrev'].value_counts().head(10)"
   ]
  },
  {
   "cell_type": "code",
   "execution_count": 13,
   "id": "1018cd22-bc4c-4d7f-bbee-25eb8579b06d",
   "metadata": {},
   "outputs": [
    {
     "data": {
      "text/plain": [
       "PR     895\n",
       "HI     321\n",
       "AK     167\n",
       "KY    1110\n",
       "TX    5238\n",
       "MI    2756\n",
       "NC    2174\n",
       "OH    2943\n",
       "NY    4870\n",
       "ME     351\n",
       "Name: st_abbrev, dtype: int64"
      ]
     },
     "execution_count": 13,
     "metadata": {},
     "output_type": "execute_result"
    }
   ],
   "source": [
    "# the total number of appearances of these states in the entire dataset\n",
    "env['st_abbrev'].value_counts()[null_states]"
   ]
  },
  {
   "cell_type": "markdown",
   "id": "cd82b4e0-a98f-493f-b0be-7e3fce76b9f9",
   "metadata": {},
   "source": [
    "Another thing to note about these three groups is that their nulls are primarily located in in the `ozone` and `pm_25` columns."
   ]
  },
  {
   "cell_type": "code",
   "execution_count": 14,
   "id": "c2b9f5b4-6b28-42e3-8f05-27cbeae0d57a",
   "metadata": {
    "tags": []
   },
   "outputs": [
    {
     "name": "stdout",
     "output_type": "stream",
     "text": [
      "PR\n",
      "st_name           0\n",
      "st_abbrev         0\n",
      "region            0\n",
      "pop               0\n",
      "poc_pct           0\n",
      "low_inc_pct       0\n",
      "sub_hs_pct        0\n",
      "ling_iso_pct      0\n",
      "under_5_pct       0\n",
      "over_64_pct       0\n",
      "unemp_pct         0\n",
      "dem_index         0\n",
      "pre_1960_pct      0\n",
      "diesel_pm         0\n",
      "cancer            0\n",
      "resp_index        0\n",
      "traffic_prox      7\n",
      "waste_water     120\n",
      "npl_prox          0\n",
      "rmp_prox          0\n",
      "waste_prox        0\n",
      "ozone           895\n",
      "pm_25           895\n",
      "undgrd_stor       0\n",
      "shape_length      0\n",
      "shape_area        0\n",
      "dtype: int64 \n",
      "\n",
      "\n",
      "HI\n",
      "st_name           0\n",
      "st_abbrev         0\n",
      "region            0\n",
      "pop               0\n",
      "poc_pct           0\n",
      "low_inc_pct       0\n",
      "sub_hs_pct        0\n",
      "ling_iso_pct      0\n",
      "under_5_pct       0\n",
      "over_64_pct       0\n",
      "unemp_pct         0\n",
      "dem_index         0\n",
      "pre_1960_pct      0\n",
      "diesel_pm         0\n",
      "cancer            0\n",
      "resp_index        0\n",
      "traffic_prox     10\n",
      "waste_water     120\n",
      "npl_prox          0\n",
      "rmp_prox          0\n",
      "waste_prox        0\n",
      "ozone           321\n",
      "pm_25           321\n",
      "undgrd_stor       0\n",
      "shape_length      0\n",
      "shape_area        0\n",
      "dtype: int64 \n",
      "\n",
      "\n",
      "AK\n",
      "st_name           0\n",
      "st_abbrev         0\n",
      "region            0\n",
      "pop               0\n",
      "poc_pct           0\n",
      "low_inc_pct       0\n",
      "sub_hs_pct        0\n",
      "ling_iso_pct      0\n",
      "under_5_pct       0\n",
      "over_64_pct       0\n",
      "unemp_pct         0\n",
      "dem_index         0\n",
      "pre_1960_pct      0\n",
      "diesel_pm         0\n",
      "cancer            0\n",
      "resp_index        0\n",
      "traffic_prox     33\n",
      "waste_water     167\n",
      "npl_prox          0\n",
      "rmp_prox          0\n",
      "waste_prox        0\n",
      "ozone           167\n",
      "pm_25           167\n",
      "undgrd_stor       0\n",
      "shape_length      0\n",
      "shape_area        0\n",
      "dtype: int64 \n",
      "\n",
      "\n"
     ]
    }
   ],
   "source": [
    "for territory in ['PR', 'HI', 'AK']:\n",
    "    print(territory)\n",
    "    print(env[env['st_abbrev'] == territory].isnull().sum(), '\\n\\n')"
   ]
  },
  {
   "cell_type": "markdown",
   "id": "c85683f4-44c1-4c0b-b465-59bd1f90197a",
   "metadata": {},
   "source": [
    "#### Percentages and Population Size"
   ]
  },
  {
   "cell_type": "code",
   "execution_count": 15,
   "id": "061dd2dc-2186-471b-aa30-da459fdb55af",
   "metadata": {},
   "outputs": [
    {
     "data": {
      "text/plain": [
       "st_name             0\n",
       "st_abbrev           0\n",
       "region              0\n",
       "pop                 0\n",
       "poc_pct             0\n",
       "low_inc_pct         0\n",
       "sub_hs_pct          0\n",
       "ling_iso_pct        0\n",
       "under_5_pct         0\n",
       "over_64_pct         0\n",
       "unemp_pct           0\n",
       "dem_index           0\n",
       "pre_1960_pct        0\n",
       "diesel_pm           0\n",
       "cancer              0\n",
       "resp_index          0\n",
       "traffic_prox     2103\n",
       "waste_water     19401\n",
       "npl_prox            0\n",
       "rmp_prox            0\n",
       "waste_prox          0\n",
       "ozone            1383\n",
       "pm_25            1383\n",
       "undgrd_stor         0\n",
       "shape_length        0\n",
       "shape_area          0\n",
       "dtype: int64"
      ]
     },
     "execution_count": 15,
     "metadata": {},
     "output_type": "execute_result"
    }
   ],
   "source": [
    "env.isnull().sum()"
   ]
  },
  {
   "cell_type": "markdown",
   "id": "7a9fb81c-2b72-4d2d-8306-8dd82a37fd19",
   "metadata": {},
   "source": [
    "Another thing to be cautious of is that several columns are based on percentages of the population. These percentages can be somewhat deceptive for rows containing lower populations. For example, 100% of the population being minority feels more meaningful when the population size is 2416 than if the population size is 8. For this reason we want to filter out rows with especially small population sizes.\n",
    "\n",
    "Additionally, each row represents a Census tract. Census tracts generally have a population size above 1,200. Rows with a population size below 1,200 correspond to tribal data. We do not want to eliminate the tribal data, especially with the history of environmental injustice towards indigenous people. For this reason, we will set a population size of 30 as a lower bound for the data. This way, we can feel more confident in interpreting percentages and still keep as much of the tribal data as possible.\n",
    "\n",
    "Below we verify that the data corresponding to population sizes below 30 is reasonably distributed across all states."
   ]
  },
  {
   "cell_type": "code",
   "execution_count": 16,
   "id": "e5c18a08-535d-45ff-83e7-26611805875e",
   "metadata": {},
   "outputs": [
    {
     "data": {
      "text/plain": [
       "New York          34\n",
       "Florida           19\n",
       "California        18\n",
       "Texas             15\n",
       "Pennsylvania      15\n",
       "Puerto Rico       10\n",
       "Virginia          10\n",
       "Tennessee          9\n",
       "Hawaii             8\n",
       "Kansas             6\n",
       "Michigan           6\n",
       "North Carolina     5\n",
       "Massachusetts      4\n",
       "Missouri           4\n",
       "Louisiana          4\n",
       "Arizona            4\n",
       "Ohio               3\n",
       "Alabama            3\n",
       "Kentucky           3\n",
       "Maryland           2\n",
       "New Jersey         2\n",
       "Indiana            2\n",
       "Georgia            2\n",
       "Rhode Island       1\n",
       "Washington         1\n",
       "Arkansas           1\n",
       "South Carolina     1\n",
       "Montana            1\n",
       "Idaho              1\n",
       "Nebraska           1\n",
       "Oklahoma           1\n",
       "Alaska             1\n",
       "Illinois           1\n",
       "Nevada             1\n",
       "Oregon             1\n",
       "Name: st_name, dtype: int64"
      ]
     },
     "execution_count": 16,
     "metadata": {},
     "output_type": "execute_result"
    }
   ],
   "source": [
    "env.loc[env['pop'] <= 30, 'st_name'].value_counts()"
   ]
  },
  {
   "cell_type": "code",
   "execution_count": 17,
   "id": "adb1ccd3",
   "metadata": {},
   "outputs": [],
   "source": [
    "env = env[env['pop']>=30]"
   ]
  },
  {
   "cell_type": "markdown",
   "id": "3f70622f-816a-4bc7-965b-76e56c5484ec",
   "metadata": {},
   "source": [
    "#### Dropping `dem_index`, `waste_water`, and unhelpful rows"
   ]
  },
  {
   "cell_type": "markdown",
   "id": "ae393936-b3bb-40b2-a26c-0fce22bfbfe9",
   "metadata": {},
   "source": [
    "- Demographic index comes from the product of two other columns. We can recreate them\n",
    "- waste_water has too many null values"
   ]
  },
  {
   "cell_type": "code",
   "execution_count": 18,
   "id": "21b642fa-9ed5-4439-a399-dae71e42c10c",
   "metadata": {},
   "outputs": [],
   "source": [
    "env.drop(columns = ['dem_index', 'waste_water'], inplace = True)"
   ]
  },
  {
   "cell_type": "markdown",
   "id": "13c2eec0-94b8-4d68-8e1c-3501f55712e7",
   "metadata": {},
   "source": [
    "There are many rows that contain numerous 0s. It is hard to imagine some of othese census blocks have 0 percentages for some of these values and it just seems more likely that these zeros represent missing data. Unfortunately, we cannot determine which 0s are legitimate and which ones correspond to missing values. Let us drop the rows in which there are too many zeros in the demographic data. "
   ]
  },
  {
   "cell_type": "code",
   "execution_count": 19,
   "id": "1647c8e4",
   "metadata": {},
   "outputs": [],
   "source": [
    "dem_info = env.loc[:,'pop':'unemp_pct']"
   ]
  },
  {
   "cell_type": "code",
   "execution_count": 20,
   "id": "c07a8ebb-bcd7-49fd-b33a-2fca33b25d1e",
   "metadata": {},
   "outputs": [
    {
     "data": {
      "text/plain": [
       "0        1\n",
       "1        1\n",
       "2        1\n",
       "3        0\n",
       "4        0\n",
       "        ..\n",
       "73996    0\n",
       "73997    0\n",
       "73998    0\n",
       "73999    0\n",
       "74000    0\n",
       "Length: 73220, dtype: int64"
      ]
     },
     "execution_count": 20,
     "metadata": {},
     "output_type": "execute_result"
    }
   ],
   "source": [
    "(dem_info == 0).sum(axis = 1)"
   ]
  },
  {
   "cell_type": "code",
   "execution_count": 21,
   "id": "e760a6d6-544f-48d1-ad13-7dfb80994c1e",
   "metadata": {},
   "outputs": [
    {
     "data": {
      "text/plain": [
       "7        1\n",
       "6       27\n",
       "5       57\n",
       "3       96\n",
       "4      131\n",
       "2      495\n",
       "1    18658\n",
       "0    53755\n",
       "dtype: int64"
      ]
     },
     "execution_count": 21,
     "metadata": {},
     "output_type": "execute_result"
    }
   ],
   "source": [
    "(dem_info == 0).sum(axis = 1).value_counts(ascending = True)"
   ]
  },
  {
   "cell_type": "code",
   "execution_count": 22,
   "id": "9b83e414-6c87-474b-8582-b478f924ed11",
   "metadata": {},
   "outputs": [
    {
     "data": {
      "text/html": [
       "<div>\n",
       "<style scoped>\n",
       "    .dataframe tbody tr th:only-of-type {\n",
       "        vertical-align: middle;\n",
       "    }\n",
       "\n",
       "    .dataframe tbody tr th {\n",
       "        vertical-align: top;\n",
       "    }\n",
       "\n",
       "    .dataframe thead th {\n",
       "        text-align: right;\n",
       "    }\n",
       "</style>\n",
       "<table border=\"1\" class=\"dataframe\">\n",
       "  <thead>\n",
       "    <tr style=\"text-align: right;\">\n",
       "      <th></th>\n",
       "      <th>2284</th>\n",
       "      <th>3917</th>\n",
       "      <th>7064</th>\n",
       "      <th>9303</th>\n",
       "      <th>9321</th>\n",
       "      <th>11560</th>\n",
       "      <th>12257</th>\n",
       "      <th>18616</th>\n",
       "      <th>20470</th>\n",
       "      <th>23037</th>\n",
       "    </tr>\n",
       "  </thead>\n",
       "  <tbody>\n",
       "    <tr>\n",
       "      <th>st_name</th>\n",
       "      <td>Arizona</td>\n",
       "      <td>California</td>\n",
       "      <td>California</td>\n",
       "      <td>California</td>\n",
       "      <td>California</td>\n",
       "      <td>California</td>\n",
       "      <td>Colorado</td>\n",
       "      <td>Georgia</td>\n",
       "      <td>Hawaii</td>\n",
       "      <td>Illinois</td>\n",
       "    </tr>\n",
       "    <tr>\n",
       "      <th>st_abbrev</th>\n",
       "      <td>AZ</td>\n",
       "      <td>CA</td>\n",
       "      <td>CA</td>\n",
       "      <td>CA</td>\n",
       "      <td>CA</td>\n",
       "      <td>CA</td>\n",
       "      <td>CO</td>\n",
       "      <td>GA</td>\n",
       "      <td>HI</td>\n",
       "      <td>IL</td>\n",
       "    </tr>\n",
       "    <tr>\n",
       "      <th>region</th>\n",
       "      <td>9</td>\n",
       "      <td>9</td>\n",
       "      <td>9</td>\n",
       "      <td>9</td>\n",
       "      <td>9</td>\n",
       "      <td>9</td>\n",
       "      <td>8</td>\n",
       "      <td>4</td>\n",
       "      <td>9</td>\n",
       "      <td>5</td>\n",
       "    </tr>\n",
       "    <tr>\n",
       "      <th>pop</th>\n",
       "      <td>106</td>\n",
       "      <td>58</td>\n",
       "      <td>33</td>\n",
       "      <td>6372</td>\n",
       "      <td>285</td>\n",
       "      <td>118</td>\n",
       "      <td>4329</td>\n",
       "      <td>737</td>\n",
       "      <td>433</td>\n",
       "      <td>477</td>\n",
       "    </tr>\n",
       "    <tr>\n",
       "      <th>poc_pct</th>\n",
       "      <td>0.792453</td>\n",
       "      <td>0.137931</td>\n",
       "      <td>0.878788</td>\n",
       "      <td>0.537665</td>\n",
       "      <td>0.666667</td>\n",
       "      <td>0.838983</td>\n",
       "      <td>0.236082</td>\n",
       "      <td>0.489824</td>\n",
       "      <td>0.34873</td>\n",
       "      <td>0.51153</td>\n",
       "    </tr>\n",
       "    <tr>\n",
       "      <th>low_inc_pct</th>\n",
       "      <td>0.0</td>\n",
       "      <td>0.0</td>\n",
       "      <td>0.0</td>\n",
       "      <td>0.0</td>\n",
       "      <td>0.0</td>\n",
       "      <td>0.0</td>\n",
       "      <td>0.0</td>\n",
       "      <td>0.0</td>\n",
       "      <td>0.0</td>\n",
       "      <td>0.0</td>\n",
       "    </tr>\n",
       "    <tr>\n",
       "      <th>sub_hs_pct</th>\n",
       "      <td>0.0</td>\n",
       "      <td>0.0</td>\n",
       "      <td>0.0</td>\n",
       "      <td>0.0</td>\n",
       "      <td>0.0</td>\n",
       "      <td>0.0</td>\n",
       "      <td>0.0</td>\n",
       "      <td>0.0</td>\n",
       "      <td>0.0</td>\n",
       "      <td>0.0</td>\n",
       "    </tr>\n",
       "    <tr>\n",
       "      <th>ling_iso_pct</th>\n",
       "      <td>0.0</td>\n",
       "      <td>0.0</td>\n",
       "      <td>0.0</td>\n",
       "      <td>0.0</td>\n",
       "      <td>0.0</td>\n",
       "      <td>0.0</td>\n",
       "      <td>0.0</td>\n",
       "      <td>0.0</td>\n",
       "      <td>0.0</td>\n",
       "      <td>0.0</td>\n",
       "    </tr>\n",
       "    <tr>\n",
       "      <th>under_5_pct</th>\n",
       "      <td>0.0</td>\n",
       "      <td>0.0</td>\n",
       "      <td>0.0</td>\n",
       "      <td>0.0</td>\n",
       "      <td>0.0</td>\n",
       "      <td>0.0</td>\n",
       "      <td>0.0</td>\n",
       "      <td>0.0</td>\n",
       "      <td>0.0</td>\n",
       "      <td>0.0</td>\n",
       "    </tr>\n",
       "    <tr>\n",
       "      <th>over_64_pct</th>\n",
       "      <td>0.0</td>\n",
       "      <td>0.0</td>\n",
       "      <td>0.0</td>\n",
       "      <td>0.0</td>\n",
       "      <td>0.0</td>\n",
       "      <td>0.0</td>\n",
       "      <td>0.0</td>\n",
       "      <td>0.0</td>\n",
       "      <td>0.0</td>\n",
       "      <td>0.0</td>\n",
       "    </tr>\n",
       "    <tr>\n",
       "      <th>unemp_pct</th>\n",
       "      <td>0.0</td>\n",
       "      <td>0.0</td>\n",
       "      <td>0.0</td>\n",
       "      <td>0.0</td>\n",
       "      <td>0.0</td>\n",
       "      <td>0.0</td>\n",
       "      <td>0.0</td>\n",
       "      <td>0.0</td>\n",
       "      <td>0.0</td>\n",
       "      <td>0.0</td>\n",
       "    </tr>\n",
       "    <tr>\n",
       "      <th>pre_1960_pct</th>\n",
       "      <td>0.0</td>\n",
       "      <td>0.555556</td>\n",
       "      <td>0.5</td>\n",
       "      <td>0.0</td>\n",
       "      <td>0.0</td>\n",
       "      <td>0.0</td>\n",
       "      <td>0.0</td>\n",
       "      <td>0.0</td>\n",
       "      <td>0.0</td>\n",
       "      <td>0.0</td>\n",
       "    </tr>\n",
       "    <tr>\n",
       "      <th>diesel_pm</th>\n",
       "      <td>0.21408</td>\n",
       "      <td>0.566663</td>\n",
       "      <td>0.195791</td>\n",
       "      <td>0.694723</td>\n",
       "      <td>0.523915</td>\n",
       "      <td>0.040369</td>\n",
       "      <td>0.052611</td>\n",
       "      <td>0.089567</td>\n",
       "      <td>0.239899</td>\n",
       "      <td>0.318648</td>\n",
       "    </tr>\n",
       "    <tr>\n",
       "      <th>cancer</th>\n",
       "      <td>30.0</td>\n",
       "      <td>30.0</td>\n",
       "      <td>30.0</td>\n",
       "      <td>30.0</td>\n",
       "      <td>30.0</td>\n",
       "      <td>10.0</td>\n",
       "      <td>10.0</td>\n",
       "      <td>40.0</td>\n",
       "      <td>20.0</td>\n",
       "      <td>30.0</td>\n",
       "    </tr>\n",
       "    <tr>\n",
       "      <th>resp_index</th>\n",
       "      <td>0.4</td>\n",
       "      <td>0.4</td>\n",
       "      <td>0.4</td>\n",
       "      <td>0.4</td>\n",
       "      <td>0.4</td>\n",
       "      <td>0.1</td>\n",
       "      <td>0.1</td>\n",
       "      <td>0.6</td>\n",
       "      <td>0.2</td>\n",
       "      <td>0.3</td>\n",
       "    </tr>\n",
       "    <tr>\n",
       "      <th>traffic_prox</th>\n",
       "      <td>2.278367</td>\n",
       "      <td>10918.808336</td>\n",
       "      <td>1747.543814</td>\n",
       "      <td>3036.588829</td>\n",
       "      <td>2574.295163</td>\n",
       "      <td>NaN</td>\n",
       "      <td>0.032538</td>\n",
       "      <td>2.947631</td>\n",
       "      <td>19.428739</td>\n",
       "      <td>230.409552</td>\n",
       "    </tr>\n",
       "    <tr>\n",
       "      <th>npl_prox</th>\n",
       "      <td>0.170715</td>\n",
       "      <td>2.756168</td>\n",
       "      <td>0.112204</td>\n",
       "      <td>0.013948</td>\n",
       "      <td>0.014919</td>\n",
       "      <td>0.009865</td>\n",
       "      <td>0.016854</td>\n",
       "      <td>0.011782</td>\n",
       "      <td>0.131586</td>\n",
       "      <td>0.135898</td>\n",
       "    </tr>\n",
       "    <tr>\n",
       "      <th>rmp_prox</th>\n",
       "      <td>0.718978</td>\n",
       "      <td>1.729929</td>\n",
       "      <td>0.60433</td>\n",
       "      <td>3.1946</td>\n",
       "      <td>1.679323</td>\n",
       "      <td>0.009886</td>\n",
       "      <td>0.454469</td>\n",
       "      <td>0.556932</td>\n",
       "      <td>0.349848</td>\n",
       "      <td>0.667714</td>\n",
       "    </tr>\n",
       "    <tr>\n",
       "      <th>waste_prox</th>\n",
       "      <td>0.166918</td>\n",
       "      <td>10.710291</td>\n",
       "      <td>4.298058</td>\n",
       "      <td>22.473111</td>\n",
       "      <td>11.439791</td>\n",
       "      <td>0.302854</td>\n",
       "      <td>0.136303</td>\n",
       "      <td>0.368344</td>\n",
       "      <td>2.074129</td>\n",
       "      <td>4.390626</td>\n",
       "    </tr>\n",
       "    <tr>\n",
       "      <th>ozone</th>\n",
       "      <td>51.243443</td>\n",
       "      <td>27.669958</td>\n",
       "      <td>60.438103</td>\n",
       "      <td>40.687878</td>\n",
       "      <td>40.937115</td>\n",
       "      <td>31.082715</td>\n",
       "      <td>56.623387</td>\n",
       "      <td>36.638444</td>\n",
       "      <td>NaN</td>\n",
       "      <td>47.037561</td>\n",
       "    </tr>\n",
       "    <tr>\n",
       "      <th>pm_25</th>\n",
       "      <td>8.613781</td>\n",
       "      <td>13.028936</td>\n",
       "      <td>10.409484</td>\n",
       "      <td>9.953601</td>\n",
       "      <td>9.981941</td>\n",
       "      <td>7.480358</td>\n",
       "      <td>5.85</td>\n",
       "      <td>8.702466</td>\n",
       "      <td>NaN</td>\n",
       "      <td>8.989615</td>\n",
       "    </tr>\n",
       "    <tr>\n",
       "      <th>undgrd_stor</th>\n",
       "      <td>0.0</td>\n",
       "      <td>10.673902</td>\n",
       "      <td>1.377898</td>\n",
       "      <td>2.812983</td>\n",
       "      <td>2.556644</td>\n",
       "      <td>0.0</td>\n",
       "      <td>0.137574</td>\n",
       "      <td>0.005778</td>\n",
       "      <td>0.052678</td>\n",
       "      <td>0.0</td>\n",
       "    </tr>\n",
       "    <tr>\n",
       "      <th>shape_length</th>\n",
       "      <td>37048.936105</td>\n",
       "      <td>15146.036375</td>\n",
       "      <td>18963.319739</td>\n",
       "      <td>11537.681086</td>\n",
       "      <td>3298.858136</td>\n",
       "      <td>46816.029654</td>\n",
       "      <td>50489.276432</td>\n",
       "      <td>132028.435985</td>\n",
       "      <td>18657.97546</td>\n",
       "      <td>7641.356113</td>\n",
       "    </tr>\n",
       "    <tr>\n",
       "      <th>shape_area</th>\n",
       "      <td>58728379.445055</td>\n",
       "      <td>8281660.264516</td>\n",
       "      <td>10195022.265187</td>\n",
       "      <td>2570544.217985</td>\n",
       "      <td>628326.240664</td>\n",
       "      <td>96664022.644211</td>\n",
       "      <td>80521189.874987</td>\n",
       "      <td>428915924.21692</td>\n",
       "      <td>13288613.591984</td>\n",
       "      <td>1865603.795357</td>\n",
       "    </tr>\n",
       "  </tbody>\n",
       "</table>\n",
       "</div>"
      ],
      "text/plain": [
       "                        2284            3917             7064   \\\n",
       "st_name               Arizona      California       California   \n",
       "st_abbrev                  AZ              CA               CA   \n",
       "region                      9               9                9   \n",
       "pop                       106              58               33   \n",
       "poc_pct              0.792453        0.137931         0.878788   \n",
       "low_inc_pct               0.0             0.0              0.0   \n",
       "sub_hs_pct                0.0             0.0              0.0   \n",
       "ling_iso_pct              0.0             0.0              0.0   \n",
       "under_5_pct               0.0             0.0              0.0   \n",
       "over_64_pct               0.0             0.0              0.0   \n",
       "unemp_pct                 0.0             0.0              0.0   \n",
       "pre_1960_pct              0.0        0.555556              0.5   \n",
       "diesel_pm             0.21408        0.566663         0.195791   \n",
       "cancer                   30.0            30.0             30.0   \n",
       "resp_index                0.4             0.4              0.4   \n",
       "traffic_prox         2.278367    10918.808336      1747.543814   \n",
       "npl_prox             0.170715        2.756168         0.112204   \n",
       "rmp_prox             0.718978        1.729929          0.60433   \n",
       "waste_prox           0.166918       10.710291         4.298058   \n",
       "ozone               51.243443       27.669958        60.438103   \n",
       "pm_25                8.613781       13.028936        10.409484   \n",
       "undgrd_stor               0.0       10.673902         1.377898   \n",
       "shape_length     37048.936105    15146.036375     18963.319739   \n",
       "shape_area    58728379.445055  8281660.264516  10195022.265187   \n",
       "\n",
       "                       9303           9321             11560            12257  \\\n",
       "st_name           California     California       California         Colorado   \n",
       "st_abbrev                 CA             CA               CA               CO   \n",
       "region                     9              9                9                8   \n",
       "pop                     6372            285              118             4329   \n",
       "poc_pct             0.537665       0.666667         0.838983         0.236082   \n",
       "low_inc_pct              0.0            0.0              0.0              0.0   \n",
       "sub_hs_pct               0.0            0.0              0.0              0.0   \n",
       "ling_iso_pct             0.0            0.0              0.0              0.0   \n",
       "under_5_pct              0.0            0.0              0.0              0.0   \n",
       "over_64_pct              0.0            0.0              0.0              0.0   \n",
       "unemp_pct                0.0            0.0              0.0              0.0   \n",
       "pre_1960_pct             0.0            0.0              0.0              0.0   \n",
       "diesel_pm           0.694723       0.523915         0.040369         0.052611   \n",
       "cancer                  30.0           30.0             10.0             10.0   \n",
       "resp_index               0.4            0.4              0.1              0.1   \n",
       "traffic_prox     3036.588829    2574.295163              NaN         0.032538   \n",
       "npl_prox            0.013948       0.014919         0.009865         0.016854   \n",
       "rmp_prox              3.1946       1.679323         0.009886         0.454469   \n",
       "waste_prox         22.473111      11.439791         0.302854         0.136303   \n",
       "ozone              40.687878      40.937115        31.082715        56.623387   \n",
       "pm_25               9.953601       9.981941         7.480358             5.85   \n",
       "undgrd_stor         2.812983       2.556644              0.0         0.137574   \n",
       "shape_length    11537.681086    3298.858136     46816.029654     50489.276432   \n",
       "shape_area    2570544.217985  628326.240664  96664022.644211  80521189.874987   \n",
       "\n",
       "                        18616            20470           23037  \n",
       "st_name               Georgia           Hawaii        Illinois  \n",
       "st_abbrev                  GA               HI              IL  \n",
       "region                      4                9               5  \n",
       "pop                       737              433             477  \n",
       "poc_pct              0.489824          0.34873         0.51153  \n",
       "low_inc_pct               0.0              0.0             0.0  \n",
       "sub_hs_pct                0.0              0.0             0.0  \n",
       "ling_iso_pct              0.0              0.0             0.0  \n",
       "under_5_pct               0.0              0.0             0.0  \n",
       "over_64_pct               0.0              0.0             0.0  \n",
       "unemp_pct                 0.0              0.0             0.0  \n",
       "pre_1960_pct              0.0              0.0             0.0  \n",
       "diesel_pm            0.089567         0.239899        0.318648  \n",
       "cancer                   40.0             20.0            30.0  \n",
       "resp_index                0.6              0.2             0.3  \n",
       "traffic_prox         2.947631        19.428739      230.409552  \n",
       "npl_prox             0.011782         0.131586        0.135898  \n",
       "rmp_prox             0.556932         0.349848        0.667714  \n",
       "waste_prox           0.368344         2.074129        4.390626  \n",
       "ozone               36.638444              NaN       47.037561  \n",
       "pm_25                8.702466              NaN        8.989615  \n",
       "undgrd_stor          0.005778         0.052678             0.0  \n",
       "shape_length    132028.435985      18657.97546     7641.356113  \n",
       "shape_area    428915924.21692  13288613.591984  1865603.795357  "
      ]
     },
     "execution_count": 22,
     "metadata": {},
     "output_type": "execute_result"
    }
   ],
   "source": [
    "env[(dem_info == 0).sum(axis = 1) == 6].head(10).T"
   ]
  },
  {
   "cell_type": "code",
   "execution_count": 23,
   "id": "1f1a34cc-e501-4188-ac2d-20ad36ede29c",
   "metadata": {},
   "outputs": [
    {
     "data": {
      "text/plain": [
       "(73135, 24)"
      ]
     },
     "execution_count": 23,
     "metadata": {},
     "output_type": "execute_result"
    }
   ],
   "source": [
    "env[(dem_info == 0).sum(axis = 1) < 5].shape # drop"
   ]
  },
  {
   "cell_type": "code",
   "execution_count": 24,
   "id": "b76ef810-119f-49da-969f-79a902959416",
   "metadata": {},
   "outputs": [
    {
     "data": {
      "text/plain": [
       "(73220, 24)"
      ]
     },
     "execution_count": 24,
     "metadata": {},
     "output_type": "execute_result"
    }
   ],
   "source": [
    "env.shape"
   ]
  },
  {
   "cell_type": "code",
   "execution_count": 25,
   "id": "d20fc084-41f2-4937-af56-34005cd39f18",
   "metadata": {},
   "outputs": [],
   "source": [
    "env = env[(dem_info == 0).sum(axis = 1) < 5]"
   ]
  },
  {
   "cell_type": "markdown",
   "id": "fee20e97-6edf-456b-8fad-1253a921901e",
   "metadata": {},
   "source": [
    "#### Cancer Outlier"
   ]
  },
  {
   "cell_type": "markdown",
   "id": "bb69ff37-6620-48bf-b74c-207fa03ca0e0",
   "metadata": {},
   "source": [
    "One outlier we want to remove is the Census tract containing a cancer risk of 2,000. Since cancer will be our target variable, and we could not find any information about this value that is significantly larger than all the other cancer rate values, we will remove this outlier"
   ]
  },
  {
   "cell_type": "code",
   "execution_count": 26,
   "id": "7f3fc964-b11a-40f0-9fe3-5f4a5a460c30",
   "metadata": {},
   "outputs": [
    {
     "data": {
      "text/plain": [
       "(1933.6, 2000.0]        1\n",
       "(1867.2, 1933.6]        0\n",
       "(1800.8, 1867.2]        0\n",
       "(1734.4, 1800.8]        0\n",
       "(1668.0, 1734.4]        0\n",
       "(1601.6, 1668.0]        0\n",
       "(1535.2, 1601.6]        0\n",
       "(1468.8, 1535.2]        0\n",
       "(1402.4, 1468.8]        0\n",
       "(1336.0, 1402.4]        0\n",
       "(1269.6, 1336.0]        0\n",
       "(1203.2, 1269.6]        0\n",
       "(1136.8, 1203.2]        0\n",
       "(1070.4, 1136.8]        0\n",
       "(1004.0, 1070.4]        0\n",
       "(937.6, 1004.0]         1\n",
       "(871.2, 937.6]          0\n",
       "(804.8, 871.2]          0\n",
       "(738.4, 804.8]          0\n",
       "(672.0, 738.4]          1\n",
       "(605.6, 672.0]          0\n",
       "(539.2, 605.6]          0\n",
       "(472.8, 539.2]          0\n",
       "(406.4, 472.8]          0\n",
       "(340.0, 406.4]          2\n",
       "(273.6, 340.0]          5\n",
       "(207.2, 273.6]          0\n",
       "(140.8, 207.2]         27\n",
       "(74.4, 140.8]         234\n",
       "(6.007, 74.4]       72864\n",
       "Name: cancer, dtype: int64"
      ]
     },
     "execution_count": 26,
     "metadata": {},
     "output_type": "execute_result"
    }
   ],
   "source": [
    "env['cancer'].value_counts(bins = 30).sort_index(ascending = False)"
   ]
  },
  {
   "cell_type": "code",
   "execution_count": 27,
   "id": "6753b005-18f6-46b8-b208-7126c68cf83b",
   "metadata": {},
   "outputs": [],
   "source": [
    "env = env[env['cancer'] < 1500]"
   ]
  },
  {
   "cell_type": "code",
   "execution_count": 29,
   "id": "f88f6c5a-4717-42d1-958a-e46573981e96",
   "metadata": {},
   "outputs": [],
   "source": [
    "env.to_csv('../data/cleaned_ejscreen.csv', index = True)"
   ]
  },
  {
   "cell_type": "markdown",
   "id": "8a9619a0-305f-4183-9da6-f2b14df7724a",
   "metadata": {},
   "source": [
    "---\n",
    "\n",
    "## Imputing"
   ]
  },
  {
   "cell_type": "code",
   "execution_count": 30,
   "id": "1c418cef-879d-4268-903a-5adcc2280cf1",
   "metadata": {},
   "outputs": [],
   "source": [
    "cols_to_impute = ['traffic_prox', 'ozone', 'pm_25']"
   ]
  },
  {
   "cell_type": "code",
   "execution_count": 31,
   "id": "541037db-0620-47cb-ae1b-1c1a04b6d911",
   "metadata": {},
   "outputs": [
    {
     "data": {
      "image/png": "[encoded data removed]",
      "text/plain": [
       "<Figure size 864x1152 with 3 Axes>"
      ]
     },
     "metadata": {
      "needs_background": "light"
     },
     "output_type": "display_data"
    }
   ],
   "source": [
    "plt.figure(figsize = (12,16))\n",
    "\n",
    "for i in range(3):\n",
    "    plt.subplot(3,1,i+1)\n",
    "    col_name = cols_to_impute[i]\n",
    "    plt.title(f'{col_name}', size = 20)\n",
    "    plt.hist(env[col_name], bins = 40)\n",
    "    plt.axvline(env[col_name].mean(), color = 'red')\n",
    "    "
   ]
  },
  {
   "cell_type": "code",
   "execution_count": 32,
   "id": "6fee53c9-da10-44d0-ac82-6b91188565b5",
   "metadata": {},
   "outputs": [
    {
     "data": {
      "text/plain": [
       "Index(['st_name', 'st_abbrev', 'region', 'pop', 'poc_pct', 'low_inc_pct',\n",
       "       'sub_hs_pct', 'ling_iso_pct', 'under_5_pct', 'over_64_pct', 'unemp_pct',\n",
       "       'pre_1960_pct', 'diesel_pm', 'cancer', 'resp_index', 'traffic_prox',\n",
       "       'npl_prox', 'rmp_prox', 'waste_prox', 'ozone', 'pm_25', 'undgrd_stor',\n",
       "       'shape_length', 'shape_area'],\n",
       "      dtype='object')"
      ]
     },
     "execution_count": 32,
     "metadata": {},
     "output_type": "execute_result"
    }
   ],
   "source": [
    "env.columns"
   ]
  },
  {
   "cell_type": "code",
   "execution_count": 33,
   "id": "9ec82328-31b0-4fe9-926c-de1648ed8050",
   "metadata": {},
   "outputs": [],
   "source": [
    "# may want to one-hot-encode region to impute using regression \n",
    "X = env.drop(columns = ['cancer', 'st_name', 'st_abbrev', 'shape_length', 'shape_area'])\n",
    "y = env['cancer']"
   ]
  },
  {
   "cell_type": "code",
   "execution_count": 34,
   "id": "8fd0c5e9-31a0-4665-a48a-52fcdee91709",
   "metadata": {},
   "outputs": [],
   "source": [
    "X_train, X_val, y_train, y_val = train_test_split(X, y, test_size = 0.2, random_state = 13)"
   ]
  },
  {
   "cell_type": "code",
   "execution_count": 35,
   "id": "d71c7f99-70fa-4b7b-b755-5b69e4f34459",
   "metadata": {},
   "outputs": [],
   "source": [
    "ohe = OneHotEncoder(drop='first'), ['region']\n",
    "ct = make_column_transformer(ohe, remainder = 'passthrough')\n",
    "it = IterativeImputer(estimator = LinearRegression())"
   ]
  },
  {
   "cell_type": "code",
   "execution_count": 36,
   "id": "5851d5f8-1930-4ce9-91f9-f0ffdbd26cc7",
   "metadata": {},
   "outputs": [],
   "source": [
    "X_train_ohe = ct.fit_transform(X_train)\n",
    "X_val_ohe = ct.transform(X_val)\n",
    "\n",
    "X_train_imputed = it.fit_transform(X_train_ohe)\n",
    "X_val_imputed = it.transform(X_val_ohe)"
   ]
  },
  {
   "cell_type": "code",
   "execution_count": 37,
   "id": "a3ecc08e-b5a6-4705-86b6-4434a633ff0b",
   "metadata": {},
   "outputs": [],
   "source": [
    "X_train_df = pd.DataFrame(X_train_imputed, columns = ct.get_feature_names_out(), index = y_train.index)\n",
    "X_val_df = pd.DataFrame(X_val_imputed, columns = ct.get_feature_names_out(), index = y_val.index)"
   ]
  },
  {
   "cell_type": "code",
   "execution_count": 38,
   "id": "fa743480-f099-48f2-b55e-4a4afedabc54",
   "metadata": {},
   "outputs": [],
   "source": [
    "train_imputed = X_train_df.merge(right = env[['cancer', 'st_name', 'st_abbrev', 'shape_length', 'shape_area']],\n",
    "                                how = 'left',\n",
    "                                left_index = True,\n",
    "                                right_index = True).sort_index()\n",
    "\n",
    "val_imputed = X_val_df.merge(right = env[['cancer', 'st_name', 'st_abbrev', 'shape_length', 'shape_area']],\n",
    "                                how = 'left',\n",
    "                                left_index = True,\n",
    "                                right_index = True).sort_index()"
   ]
  },
  {
   "cell_type": "code",
   "execution_count": 39,
   "id": "dec6bed7-8dc8-4920-a7c5-089dc3455ae0",
   "metadata": {},
   "outputs": [],
   "source": [
    "new_col_labels = [col.replace('onehotencoder__', '').replace('remainder__', '') for col in train_imputed.columns]\n",
    "\n",
    "train_imputed.columns = new_col_labels\n",
    "val_imputed.columns = new_col_labels"
   ]
  },
  {
   "cell_type": "code",
   "execution_count": 40,
   "id": "de85d21f-da9e-45ef-bcee-e0a38c4c1c91",
   "metadata": {},
   "outputs": [],
   "source": [
    "train_imputed.to_csv('../data/train_cleaned_imputed.csv', index = True)\n",
    "val_imputed.to_csv('../data/val_cleaned_imputed.csv', index = True)"
   ]
  },
  {
   "cell_type": "markdown",
   "id": "06f72974-8a0e-4474-aa85-31c842245a9b",
   "metadata": {},
   "source": [
    "## Comparing Data With and Without Imputation"
   ]
  },
  {
   "cell_type": "code",
   "execution_count": 43,
   "id": "0d2a1915-e913-4a58-9bba-2fd86ed358c2",
   "metadata": {},
   "outputs": [],
   "source": [
    "X_imputed = pd.concat([train_imputed, val_imputed]).sort_index()"
   ]
  },
  {
   "cell_type": "code",
   "execution_count": 44,
   "id": "dc360991-e418-4826-8efd-389cc8b7b1e4",
   "metadata": {},
   "outputs": [
    {
     "data": {
      "image/png": "[encoded data removed]",
      "text/plain": [
       "<Figure size 864x1152 with 3 Axes>"
      ]
     },
     "metadata": {
      "needs_background": "light"
     },
     "output_type": "display_data"
    }
   ],
   "source": [
    "cols_to_impute_2 = ['traffic_prox', 'ozone', 'pm_25']\n",
    "\n",
    "plt.figure(figsize = (12,16))\n",
    "\n",
    "for i in range(3):\n",
    "    plt.subplot(3,1,i+1)\n",
    "    col_name = cols_to_impute_2[i]\n",
    "    plt.title(f'{col_name}', size = 20)\n",
    "    plt.hist(X_imputed[col_name], bins = 40)\n",
    "    plt.axvline(X_imputed[col_name].mean(), color = 'red')\n",
    "    "
   ]
  }
 ],
 "metadata": {
  "kernelspec": {
   "display_name": "Python 3 (ipykernel)",
   "language": "python",
   "name": "python3"
  },
  "language_info": {
   "codemirror_mode": {
    "name": "ipython",
    "version": 3
   },
   "file_extension": ".py",
   "mimetype": "text/x-python",
   "name": "python",
   "nbconvert_exporter": "python",
   "pygments_lexer": "ipython3",
   "version": "3.9.12"
  }
 },
 "nbformat": 4,
 "nbformat_minor": 5
}
