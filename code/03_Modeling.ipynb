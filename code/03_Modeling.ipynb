{
 "cells": [
  {
   "cell_type": "markdown",
   "id": "d00225a9",
   "metadata": {},
   "source": [
    "## Imports "
   ]
  },
  {
   "cell_type": "code",
   "execution_count": 1,
   "id": "73aab4b0",
   "metadata": {},
   "outputs": [],
   "source": [
    "import numpy as np\n",
    "import pandas as pd\n",
    "import matplotlib.pyplot as plt\n",
    "import seaborn as sns\n",
    "\n",
    "from sklearn.model_selection import train_test_split, GridSearchCV, cross_val_score\n",
    "from sklearn.experimental import enable_iterative_imputer \n",
    "from sklearn.impute import IterativeImputer\n",
    "\n",
    "from sklearn.preprocessing import StandardScaler\n",
    "from sklearn.preprocessing import OneHotEncoder\n",
    "from sklearn.preprocessing import PolynomialFeatures\n",
    "from sklearn.compose import make_column_transformer\n",
    "\n",
    "from sklearn.linear_model import LinearRegression, LassoCV, RidgeCV, Lasso, Ridge, ElasticNet, ElasticNetCV\n",
    "from sklearn.metrics import mean_squared_error, r2_score, mean_squared_error\n",
    "from sklearn.neighbors import KNeighborsRegressor\n",
    "\n",
    "from sklearn.pipeline import Pipeline\n",
    "from statsmodels.stats.outliers_influence import variance_inflation_factor\n",
    "from sklearn.tree import DecisionTreeRegressor\n",
    "from sklearn.ensemble import AdaBoostRegressor, GradientBoostingRegressor, BaggingRegressor, RandomForestRegressor\n",
    "\n",
    "import random\n"
   ]
  },
  {
   "cell_type": "code",
   "execution_count": 2,
   "id": "56c4539d",
   "metadata": {},
   "outputs": [],
   "source": [
    "np.random.seed(13)"
   ]
  },
  {
   "cell_type": "code",
   "execution_count": 3,
   "id": "faa5e42c",
   "metadata": {},
   "outputs": [],
   "source": [
    "env = pd.read_csv('../data/cleaned_ejscreen.csv', index_col = ['Unnamed: 0'])\n",
    "train = pd.read_csv('../data/train_cleaned_imputed.csv', index_col = ['Unnamed: 0'])\n",
    "val = pd.read_csv('../data/val_cleaned_imputed.csv', index_col = ['Unnamed: 0'])"
   ]
  },
  {
   "cell_type": "markdown",
   "id": "35e75010",
   "metadata": {},
   "source": [
    "The data was split between train and test for X. The y variables included the target variable, cancer."
   ]
  },
  {
   "cell_type": "code",
   "execution_count": 4,
   "id": "a7ba2cc2",
   "metadata": {},
   "outputs": [],
   "source": [
    "y_train = train['cancer']\n",
    "y_val = val['cancer']\n",
    "X_train = train.drop(columns = ['cancer', 'st_name', 'st_abbrev', 'shape_length', 'shape_area'])\n",
    "X_val = val.drop(columns = ['cancer', 'st_name', 'st_abbrev', 'shape_length', 'shape_area'])"
   ]
  },
  {
   "cell_type": "code",
   "execution_count": 5,
   "id": "84fad3d4",
   "metadata": {
    "scrolled": true
   },
   "outputs": [
    {
     "data": {
      "text/html": [
       "<div>\n",
       "<style scoped>\n",
       "    .dataframe tbody tr th:only-of-type {\n",
       "        vertical-align: middle;\n",
       "    }\n",
       "\n",
       "    .dataframe tbody tr th {\n",
       "        vertical-align: top;\n",
       "    }\n",
       "\n",
       "    .dataframe thead th {\n",
       "        text-align: right;\n",
       "    }\n",
       "</style>\n",
       "<table border=\"1\" class=\"dataframe\">\n",
       "  <thead>\n",
       "    <tr style=\"text-align: right;\">\n",
       "      <th></th>\n",
       "      <th>region_2</th>\n",
       "      <th>region_3</th>\n",
       "      <th>region_4</th>\n",
       "      <th>region_5</th>\n",
       "      <th>region_6</th>\n",
       "      <th>region_7</th>\n",
       "      <th>region_8</th>\n",
       "      <th>region_9</th>\n",
       "      <th>region_10</th>\n",
       "      <th>pop</th>\n",
       "      <th>...</th>\n",
       "      <th>pre_1960_pct</th>\n",
       "      <th>diesel_pm</th>\n",
       "      <th>resp_index</th>\n",
       "      <th>traffic_prox</th>\n",
       "      <th>npl_prox</th>\n",
       "      <th>rmp_prox</th>\n",
       "      <th>waste_prox</th>\n",
       "      <th>ozone</th>\n",
       "      <th>pm_25</th>\n",
       "      <th>undgrd_stor</th>\n",
       "    </tr>\n",
       "  </thead>\n",
       "  <tbody>\n",
       "    <tr>\n",
       "      <th>0</th>\n",
       "      <td>0.0</td>\n",
       "      <td>0.0</td>\n",
       "      <td>1.0</td>\n",
       "      <td>0.0</td>\n",
       "      <td>0.0</td>\n",
       "      <td>0.0</td>\n",
       "      <td>0.0</td>\n",
       "      <td>0.0</td>\n",
       "      <td>0.0</td>\n",
       "      <td>1993.0</td>\n",
       "      <td>...</td>\n",
       "      <td>0.179310</td>\n",
       "      <td>0.175377</td>\n",
       "      <td>0.5</td>\n",
       "      <td>35.919960</td>\n",
       "      <td>0.066752</td>\n",
       "      <td>0.077960</td>\n",
       "      <td>0.500305</td>\n",
       "      <td>37.010497</td>\n",
       "      <td>9.152519</td>\n",
       "      <td>0.412039</td>\n",
       "    </tr>\n",
       "    <tr>\n",
       "      <th>1</th>\n",
       "      <td>0.0</td>\n",
       "      <td>0.0</td>\n",
       "      <td>1.0</td>\n",
       "      <td>0.0</td>\n",
       "      <td>0.0</td>\n",
       "      <td>0.0</td>\n",
       "      <td>0.0</td>\n",
       "      <td>0.0</td>\n",
       "      <td>0.0</td>\n",
       "      <td>1959.0</td>\n",
       "      <td>...</td>\n",
       "      <td>0.197619</td>\n",
       "      <td>0.193126</td>\n",
       "      <td>0.5</td>\n",
       "      <td>159.744710</td>\n",
       "      <td>0.072665</td>\n",
       "      <td>0.082735</td>\n",
       "      <td>0.818620</td>\n",
       "      <td>37.038957</td>\n",
       "      <td>9.183280</td>\n",
       "      <td>2.461319</td>\n",
       "    </tr>\n",
       "    <tr>\n",
       "      <th>4</th>\n",
       "      <td>0.0</td>\n",
       "      <td>0.0</td>\n",
       "      <td>1.0</td>\n",
       "      <td>0.0</td>\n",
       "      <td>0.0</td>\n",
       "      <td>0.0</td>\n",
       "      <td>0.0</td>\n",
       "      <td>0.0</td>\n",
       "      <td>0.0</td>\n",
       "      <td>10596.0</td>\n",
       "      <td>...</td>\n",
       "      <td>0.000000</td>\n",
       "      <td>0.301774</td>\n",
       "      <td>0.5</td>\n",
       "      <td>220.210382</td>\n",
       "      <td>0.093815</td>\n",
       "      <td>0.090465</td>\n",
       "      <td>1.082545</td>\n",
       "      <td>37.123515</td>\n",
       "      <td>9.242796</td>\n",
       "      <td>2.222632</td>\n",
       "    </tr>\n",
       "    <tr>\n",
       "      <th>5</th>\n",
       "      <td>0.0</td>\n",
       "      <td>0.0</td>\n",
       "      <td>1.0</td>\n",
       "      <td>0.0</td>\n",
       "      <td>0.0</td>\n",
       "      <td>0.0</td>\n",
       "      <td>0.0</td>\n",
       "      <td>0.0</td>\n",
       "      <td>0.0</td>\n",
       "      <td>3668.0</td>\n",
       "      <td>...</td>\n",
       "      <td>0.077994</td>\n",
       "      <td>0.195934</td>\n",
       "      <td>0.6</td>\n",
       "      <td>259.619080</td>\n",
       "      <td>0.084657</td>\n",
       "      <td>0.109214</td>\n",
       "      <td>0.629107</td>\n",
       "      <td>37.053841</td>\n",
       "      <td>9.169609</td>\n",
       "      <td>1.536412</td>\n",
       "    </tr>\n",
       "    <tr>\n",
       "      <th>10</th>\n",
       "      <td>0.0</td>\n",
       "      <td>0.0</td>\n",
       "      <td>1.0</td>\n",
       "      <td>0.0</td>\n",
       "      <td>0.0</td>\n",
       "      <td>0.0</td>\n",
       "      <td>0.0</td>\n",
       "      <td>0.0</td>\n",
       "      <td>0.0</td>\n",
       "      <td>2527.0</td>\n",
       "      <td>...</td>\n",
       "      <td>0.125966</td>\n",
       "      <td>0.093180</td>\n",
       "      <td>0.5</td>\n",
       "      <td>4.616101</td>\n",
       "      <td>0.024373</td>\n",
       "      <td>0.214272</td>\n",
       "      <td>0.039555</td>\n",
       "      <td>36.647373</td>\n",
       "      <td>8.861050</td>\n",
       "      <td>0.023569</td>\n",
       "    </tr>\n",
       "    <tr>\n",
       "      <th>...</th>\n",
       "      <td>...</td>\n",
       "      <td>...</td>\n",
       "      <td>...</td>\n",
       "      <td>...</td>\n",
       "      <td>...</td>\n",
       "      <td>...</td>\n",
       "      <td>...</td>\n",
       "      <td>...</td>\n",
       "      <td>...</td>\n",
       "      <td>...</td>\n",
       "      <td>...</td>\n",
       "      <td>...</td>\n",
       "      <td>...</td>\n",
       "      <td>...</td>\n",
       "      <td>...</td>\n",
       "      <td>...</td>\n",
       "      <td>...</td>\n",
       "      <td>...</td>\n",
       "      <td>...</td>\n",
       "      <td>...</td>\n",
       "      <td>...</td>\n",
       "    </tr>\n",
       "    <tr>\n",
       "      <th>73994</th>\n",
       "      <td>1.0</td>\n",
       "      <td>0.0</td>\n",
       "      <td>0.0</td>\n",
       "      <td>0.0</td>\n",
       "      <td>0.0</td>\n",
       "      <td>0.0</td>\n",
       "      <td>0.0</td>\n",
       "      <td>0.0</td>\n",
       "      <td>0.0</td>\n",
       "      <td>3896.0</td>\n",
       "      <td>...</td>\n",
       "      <td>0.049822</td>\n",
       "      <td>0.017346</td>\n",
       "      <td>0.2</td>\n",
       "      <td>52.118846</td>\n",
       "      <td>0.056337</td>\n",
       "      <td>0.941757</td>\n",
       "      <td>3.441846</td>\n",
       "      <td>34.548454</td>\n",
       "      <td>6.615363</td>\n",
       "      <td>0.000000</td>\n",
       "    </tr>\n",
       "    <tr>\n",
       "      <th>73995</th>\n",
       "      <td>1.0</td>\n",
       "      <td>0.0</td>\n",
       "      <td>0.0</td>\n",
       "      <td>0.0</td>\n",
       "      <td>0.0</td>\n",
       "      <td>0.0</td>\n",
       "      <td>0.0</td>\n",
       "      <td>0.0</td>\n",
       "      <td>0.0</td>\n",
       "      <td>2905.0</td>\n",
       "      <td>...</td>\n",
       "      <td>0.168224</td>\n",
       "      <td>0.019568</td>\n",
       "      <td>0.2</td>\n",
       "      <td>628.068823</td>\n",
       "      <td>0.062411</td>\n",
       "      <td>1.279270</td>\n",
       "      <td>2.415616</td>\n",
       "      <td>34.271760</td>\n",
       "      <td>6.431964</td>\n",
       "      <td>6.885760</td>\n",
       "    </tr>\n",
       "    <tr>\n",
       "      <th>73996</th>\n",
       "      <td>1.0</td>\n",
       "      <td>0.0</td>\n",
       "      <td>0.0</td>\n",
       "      <td>0.0</td>\n",
       "      <td>0.0</td>\n",
       "      <td>0.0</td>\n",
       "      <td>0.0</td>\n",
       "      <td>0.0</td>\n",
       "      <td>0.0</td>\n",
       "      <td>6113.0</td>\n",
       "      <td>...</td>\n",
       "      <td>0.008955</td>\n",
       "      <td>0.019051</td>\n",
       "      <td>0.2</td>\n",
       "      <td>124.806305</td>\n",
       "      <td>0.056280</td>\n",
       "      <td>0.726861</td>\n",
       "      <td>1.591806</td>\n",
       "      <td>34.673908</td>\n",
       "      <td>6.516401</td>\n",
       "      <td>0.000000</td>\n",
       "    </tr>\n",
       "    <tr>\n",
       "      <th>73997</th>\n",
       "      <td>1.0</td>\n",
       "      <td>0.0</td>\n",
       "      <td>0.0</td>\n",
       "      <td>0.0</td>\n",
       "      <td>0.0</td>\n",
       "      <td>0.0</td>\n",
       "      <td>0.0</td>\n",
       "      <td>0.0</td>\n",
       "      <td>0.0</td>\n",
       "      <td>2388.0</td>\n",
       "      <td>...</td>\n",
       "      <td>0.058632</td>\n",
       "      <td>0.020953</td>\n",
       "      <td>0.2</td>\n",
       "      <td>980.891997</td>\n",
       "      <td>0.058924</td>\n",
       "      <td>0.850649</td>\n",
       "      <td>1.486320</td>\n",
       "      <td>36.420725</td>\n",
       "      <td>6.814729</td>\n",
       "      <td>0.000000</td>\n",
       "    </tr>\n",
       "    <tr>\n",
       "      <th>74000</th>\n",
       "      <td>1.0</td>\n",
       "      <td>0.0</td>\n",
       "      <td>0.0</td>\n",
       "      <td>0.0</td>\n",
       "      <td>0.0</td>\n",
       "      <td>0.0</td>\n",
       "      <td>0.0</td>\n",
       "      <td>0.0</td>\n",
       "      <td>0.0</td>\n",
       "      <td>2225.0</td>\n",
       "      <td>...</td>\n",
       "      <td>0.118585</td>\n",
       "      <td>0.024788</td>\n",
       "      <td>0.2</td>\n",
       "      <td>217.770653</td>\n",
       "      <td>0.058567</td>\n",
       "      <td>0.565497</td>\n",
       "      <td>0.561430</td>\n",
       "      <td>34.460835</td>\n",
       "      <td>6.384740</td>\n",
       "      <td>0.000000</td>\n",
       "    </tr>\n",
       "  </tbody>\n",
       "</table>\n",
       "<p>58507 rows × 27 columns</p>\n",
       "</div>"
      ],
      "text/plain": [
       "       region_2  region_3  region_4  region_5  region_6  region_7  region_8  \\\n",
       "0           0.0       0.0       1.0       0.0       0.0       0.0       0.0   \n",
       "1           0.0       0.0       1.0       0.0       0.0       0.0       0.0   \n",
       "4           0.0       0.0       1.0       0.0       0.0       0.0       0.0   \n",
       "5           0.0       0.0       1.0       0.0       0.0       0.0       0.0   \n",
       "10          0.0       0.0       1.0       0.0       0.0       0.0       0.0   \n",
       "...         ...       ...       ...       ...       ...       ...       ...   \n",
       "73994       1.0       0.0       0.0       0.0       0.0       0.0       0.0   \n",
       "73995       1.0       0.0       0.0       0.0       0.0       0.0       0.0   \n",
       "73996       1.0       0.0       0.0       0.0       0.0       0.0       0.0   \n",
       "73997       1.0       0.0       0.0       0.0       0.0       0.0       0.0   \n",
       "74000       1.0       0.0       0.0       0.0       0.0       0.0       0.0   \n",
       "\n",
       "       region_9  region_10      pop  ...  pre_1960_pct  diesel_pm  resp_index  \\\n",
       "0           0.0        0.0   1993.0  ...      0.179310   0.175377         0.5   \n",
       "1           0.0        0.0   1959.0  ...      0.197619   0.193126         0.5   \n",
       "4           0.0        0.0  10596.0  ...      0.000000   0.301774         0.5   \n",
       "5           0.0        0.0   3668.0  ...      0.077994   0.195934         0.6   \n",
       "10          0.0        0.0   2527.0  ...      0.125966   0.093180         0.5   \n",
       "...         ...        ...      ...  ...           ...        ...         ...   \n",
       "73994       0.0        0.0   3896.0  ...      0.049822   0.017346         0.2   \n",
       "73995       0.0        0.0   2905.0  ...      0.168224   0.019568         0.2   \n",
       "73996       0.0        0.0   6113.0  ...      0.008955   0.019051         0.2   \n",
       "73997       0.0        0.0   2388.0  ...      0.058632   0.020953         0.2   \n",
       "74000       0.0        0.0   2225.0  ...      0.118585   0.024788         0.2   \n",
       "\n",
       "       traffic_prox  npl_prox  rmp_prox  waste_prox      ozone     pm_25  \\\n",
       "0         35.919960  0.066752  0.077960    0.500305  37.010497  9.152519   \n",
       "1        159.744710  0.072665  0.082735    0.818620  37.038957  9.183280   \n",
       "4        220.210382  0.093815  0.090465    1.082545  37.123515  9.242796   \n",
       "5        259.619080  0.084657  0.109214    0.629107  37.053841  9.169609   \n",
       "10         4.616101  0.024373  0.214272    0.039555  36.647373  8.861050   \n",
       "...             ...       ...       ...         ...        ...       ...   \n",
       "73994     52.118846  0.056337  0.941757    3.441846  34.548454  6.615363   \n",
       "73995    628.068823  0.062411  1.279270    2.415616  34.271760  6.431964   \n",
       "73996    124.806305  0.056280  0.726861    1.591806  34.673908  6.516401   \n",
       "73997    980.891997  0.058924  0.850649    1.486320  36.420725  6.814729   \n",
       "74000    217.770653  0.058567  0.565497    0.561430  34.460835  6.384740   \n",
       "\n",
       "       undgrd_stor  \n",
       "0         0.412039  \n",
       "1         2.461319  \n",
       "4         2.222632  \n",
       "5         1.536412  \n",
       "10        0.023569  \n",
       "...            ...  \n",
       "73994     0.000000  \n",
       "73995     6.885760  \n",
       "73996     0.000000  \n",
       "73997     0.000000  \n",
       "74000     0.000000  \n",
       "\n",
       "[58507 rows x 27 columns]"
      ]
     },
     "execution_count": 5,
     "metadata": {},
     "output_type": "execute_result"
    }
   ],
   "source": [
    "X_train"
   ]
  },
  {
   "cell_type": "code",
   "execution_count": 6,
   "id": "c2dcba02",
   "metadata": {
    "scrolled": true
   },
   "outputs": [
    {
     "data": {
      "text/html": [
       "<div>\n",
       "<style scoped>\n",
       "    .dataframe tbody tr th:only-of-type {\n",
       "        vertical-align: middle;\n",
       "    }\n",
       "\n",
       "    .dataframe tbody tr th {\n",
       "        vertical-align: top;\n",
       "    }\n",
       "\n",
       "    .dataframe thead th {\n",
       "        text-align: right;\n",
       "    }\n",
       "</style>\n",
       "<table border=\"1\" class=\"dataframe\">\n",
       "  <thead>\n",
       "    <tr style=\"text-align: right;\">\n",
       "      <th></th>\n",
       "      <th>region_2</th>\n",
       "      <th>region_3</th>\n",
       "      <th>region_4</th>\n",
       "      <th>region_5</th>\n",
       "      <th>region_6</th>\n",
       "      <th>region_7</th>\n",
       "      <th>region_8</th>\n",
       "      <th>region_9</th>\n",
       "      <th>region_10</th>\n",
       "      <th>pop</th>\n",
       "      <th>...</th>\n",
       "      <th>pre_1960_pct</th>\n",
       "      <th>diesel_pm</th>\n",
       "      <th>resp_index</th>\n",
       "      <th>traffic_prox</th>\n",
       "      <th>npl_prox</th>\n",
       "      <th>rmp_prox</th>\n",
       "      <th>waste_prox</th>\n",
       "      <th>ozone</th>\n",
       "      <th>pm_25</th>\n",
       "      <th>undgrd_stor</th>\n",
       "    </tr>\n",
       "  </thead>\n",
       "  <tbody>\n",
       "    <tr>\n",
       "      <th>2</th>\n",
       "      <td>0.0</td>\n",
       "      <td>0.0</td>\n",
       "      <td>1.0</td>\n",
       "      <td>0.0</td>\n",
       "      <td>0.0</td>\n",
       "      <td>0.0</td>\n",
       "      <td>0.0</td>\n",
       "      <td>0.0</td>\n",
       "      <td>0.0</td>\n",
       "      <td>3507.0</td>\n",
       "      <td>...</td>\n",
       "      <td>0.059524</td>\n",
       "      <td>0.224637</td>\n",
       "      <td>0.5</td>\n",
       "      <td>169.977159</td>\n",
       "      <td>0.075655</td>\n",
       "      <td>0.082532</td>\n",
       "      <td>1.299859</td>\n",
       "      <td>37.069151</td>\n",
       "      <td>9.207049</td>\n",
       "      <td>1.987063</td>\n",
       "    </tr>\n",
       "    <tr>\n",
       "      <th>3</th>\n",
       "      <td>0.0</td>\n",
       "      <td>0.0</td>\n",
       "      <td>1.0</td>\n",
       "      <td>0.0</td>\n",
       "      <td>0.0</td>\n",
       "      <td>0.0</td>\n",
       "      <td>0.0</td>\n",
       "      <td>0.0</td>\n",
       "      <td>0.0</td>\n",
       "      <td>3878.0</td>\n",
       "      <td>...</td>\n",
       "      <td>0.112721</td>\n",
       "      <td>0.270230</td>\n",
       "      <td>0.5</td>\n",
       "      <td>500.544361</td>\n",
       "      <td>0.084317</td>\n",
       "      <td>0.087633</td>\n",
       "      <td>2.056273</td>\n",
       "      <td>37.087437</td>\n",
       "      <td>9.231752</td>\n",
       "      <td>3.362111</td>\n",
       "    </tr>\n",
       "    <tr>\n",
       "      <th>6</th>\n",
       "      <td>0.0</td>\n",
       "      <td>0.0</td>\n",
       "      <td>1.0</td>\n",
       "      <td>0.0</td>\n",
       "      <td>0.0</td>\n",
       "      <td>0.0</td>\n",
       "      <td>0.0</td>\n",
       "      <td>0.0</td>\n",
       "      <td>0.0</td>\n",
       "      <td>3586.0</td>\n",
       "      <td>...</td>\n",
       "      <td>0.067845</td>\n",
       "      <td>0.233105</td>\n",
       "      <td>0.6</td>\n",
       "      <td>296.979644</td>\n",
       "      <td>0.102866</td>\n",
       "      <td>0.114030</td>\n",
       "      <td>1.556946</td>\n",
       "      <td>37.115158</td>\n",
       "      <td>9.223953</td>\n",
       "      <td>1.676221</td>\n",
       "    </tr>\n",
       "    <tr>\n",
       "      <th>7</th>\n",
       "      <td>0.0</td>\n",
       "      <td>0.0</td>\n",
       "      <td>1.0</td>\n",
       "      <td>0.0</td>\n",
       "      <td>0.0</td>\n",
       "      <td>0.0</td>\n",
       "      <td>0.0</td>\n",
       "      <td>0.0</td>\n",
       "      <td>0.0</td>\n",
       "      <td>3196.0</td>\n",
       "      <td>...</td>\n",
       "      <td>0.064590</td>\n",
       "      <td>0.147923</td>\n",
       "      <td>0.5</td>\n",
       "      <td>26.555117</td>\n",
       "      <td>0.065579</td>\n",
       "      <td>0.133369</td>\n",
       "      <td>0.166820</td>\n",
       "      <td>36.916234</td>\n",
       "      <td>9.081288</td>\n",
       "      <td>0.112757</td>\n",
       "    </tr>\n",
       "    <tr>\n",
       "      <th>8</th>\n",
       "      <td>0.0</td>\n",
       "      <td>0.0</td>\n",
       "      <td>1.0</td>\n",
       "      <td>0.0</td>\n",
       "      <td>0.0</td>\n",
       "      <td>0.0</td>\n",
       "      <td>0.0</td>\n",
       "      <td>0.0</td>\n",
       "      <td>0.0</td>\n",
       "      <td>11142.0</td>\n",
       "      <td>...</td>\n",
       "      <td>0.037439</td>\n",
       "      <td>0.155188</td>\n",
       "      <td>0.5</td>\n",
       "      <td>154.358653</td>\n",
       "      <td>0.052522</td>\n",
       "      <td>0.065001</td>\n",
       "      <td>0.210598</td>\n",
       "      <td>36.919522</td>\n",
       "      <td>9.091731</td>\n",
       "      <td>0.323415</td>\n",
       "    </tr>\n",
       "    <tr>\n",
       "      <th>...</th>\n",
       "      <td>...</td>\n",
       "      <td>...</td>\n",
       "      <td>...</td>\n",
       "      <td>...</td>\n",
       "      <td>...</td>\n",
       "      <td>...</td>\n",
       "      <td>...</td>\n",
       "      <td>...</td>\n",
       "      <td>...</td>\n",
       "      <td>...</td>\n",
       "      <td>...</td>\n",
       "      <td>...</td>\n",
       "      <td>...</td>\n",
       "      <td>...</td>\n",
       "      <td>...</td>\n",
       "      <td>...</td>\n",
       "      <td>...</td>\n",
       "      <td>...</td>\n",
       "      <td>...</td>\n",
       "      <td>...</td>\n",
       "      <td>...</td>\n",
       "    </tr>\n",
       "    <tr>\n",
       "      <th>73976</th>\n",
       "      <td>1.0</td>\n",
       "      <td>0.0</td>\n",
       "      <td>0.0</td>\n",
       "      <td>0.0</td>\n",
       "      <td>0.0</td>\n",
       "      <td>0.0</td>\n",
       "      <td>0.0</td>\n",
       "      <td>0.0</td>\n",
       "      <td>0.0</td>\n",
       "      <td>5083.0</td>\n",
       "      <td>...</td>\n",
       "      <td>0.034151</td>\n",
       "      <td>0.016408</td>\n",
       "      <td>0.2</td>\n",
       "      <td>22.323445</td>\n",
       "      <td>0.039304</td>\n",
       "      <td>0.439392</td>\n",
       "      <td>0.078719</td>\n",
       "      <td>34.824629</td>\n",
       "      <td>6.316954</td>\n",
       "      <td>0.000000</td>\n",
       "    </tr>\n",
       "    <tr>\n",
       "      <th>73977</th>\n",
       "      <td>1.0</td>\n",
       "      <td>0.0</td>\n",
       "      <td>0.0</td>\n",
       "      <td>0.0</td>\n",
       "      <td>0.0</td>\n",
       "      <td>0.0</td>\n",
       "      <td>0.0</td>\n",
       "      <td>0.0</td>\n",
       "      <td>0.0</td>\n",
       "      <td>1679.0</td>\n",
       "      <td>...</td>\n",
       "      <td>0.138028</td>\n",
       "      <td>0.014011</td>\n",
       "      <td>0.2</td>\n",
       "      <td>74.419880</td>\n",
       "      <td>0.039345</td>\n",
       "      <td>0.280571</td>\n",
       "      <td>0.074537</td>\n",
       "      <td>36.801449</td>\n",
       "      <td>6.853247</td>\n",
       "      <td>0.000000</td>\n",
       "    </tr>\n",
       "    <tr>\n",
       "      <th>73978</th>\n",
       "      <td>1.0</td>\n",
       "      <td>0.0</td>\n",
       "      <td>0.0</td>\n",
       "      <td>0.0</td>\n",
       "      <td>0.0</td>\n",
       "      <td>0.0</td>\n",
       "      <td>0.0</td>\n",
       "      <td>0.0</td>\n",
       "      <td>0.0</td>\n",
       "      <td>2775.0</td>\n",
       "      <td>...</td>\n",
       "      <td>0.198540</td>\n",
       "      <td>0.017406</td>\n",
       "      <td>0.2</td>\n",
       "      <td>25.012447</td>\n",
       "      <td>0.045491</td>\n",
       "      <td>0.468922</td>\n",
       "      <td>0.101837</td>\n",
       "      <td>36.265901</td>\n",
       "      <td>6.884414</td>\n",
       "      <td>0.000000</td>\n",
       "    </tr>\n",
       "    <tr>\n",
       "      <th>73998</th>\n",
       "      <td>1.0</td>\n",
       "      <td>0.0</td>\n",
       "      <td>0.0</td>\n",
       "      <td>0.0</td>\n",
       "      <td>0.0</td>\n",
       "      <td>0.0</td>\n",
       "      <td>0.0</td>\n",
       "      <td>0.0</td>\n",
       "      <td>0.0</td>\n",
       "      <td>2126.0</td>\n",
       "      <td>...</td>\n",
       "      <td>0.100000</td>\n",
       "      <td>0.017332</td>\n",
       "      <td>0.2</td>\n",
       "      <td>247.918471</td>\n",
       "      <td>0.056189</td>\n",
       "      <td>0.585214</td>\n",
       "      <td>0.961161</td>\n",
       "      <td>36.428793</td>\n",
       "      <td>6.562776</td>\n",
       "      <td>0.000000</td>\n",
       "    </tr>\n",
       "    <tr>\n",
       "      <th>73999</th>\n",
       "      <td>1.0</td>\n",
       "      <td>0.0</td>\n",
       "      <td>0.0</td>\n",
       "      <td>0.0</td>\n",
       "      <td>0.0</td>\n",
       "      <td>0.0</td>\n",
       "      <td>0.0</td>\n",
       "      <td>0.0</td>\n",
       "      <td>0.0</td>\n",
       "      <td>4397.0</td>\n",
       "      <td>...</td>\n",
       "      <td>0.029136</td>\n",
       "      <td>0.018709</td>\n",
       "      <td>0.2</td>\n",
       "      <td>94.823564</td>\n",
       "      <td>0.065705</td>\n",
       "      <td>1.565644</td>\n",
       "      <td>0.762340</td>\n",
       "      <td>36.970416</td>\n",
       "      <td>6.638544</td>\n",
       "      <td>0.123067</td>\n",
       "    </tr>\n",
       "  </tbody>\n",
       "</table>\n",
       "<p>14627 rows × 27 columns</p>\n",
       "</div>"
      ],
      "text/plain": [
       "       region_2  region_3  region_4  region_5  region_6  region_7  region_8  \\\n",
       "2           0.0       0.0       1.0       0.0       0.0       0.0       0.0   \n",
       "3           0.0       0.0       1.0       0.0       0.0       0.0       0.0   \n",
       "6           0.0       0.0       1.0       0.0       0.0       0.0       0.0   \n",
       "7           0.0       0.0       1.0       0.0       0.0       0.0       0.0   \n",
       "8           0.0       0.0       1.0       0.0       0.0       0.0       0.0   \n",
       "...         ...       ...       ...       ...       ...       ...       ...   \n",
       "73976       1.0       0.0       0.0       0.0       0.0       0.0       0.0   \n",
       "73977       1.0       0.0       0.0       0.0       0.0       0.0       0.0   \n",
       "73978       1.0       0.0       0.0       0.0       0.0       0.0       0.0   \n",
       "73998       1.0       0.0       0.0       0.0       0.0       0.0       0.0   \n",
       "73999       1.0       0.0       0.0       0.0       0.0       0.0       0.0   \n",
       "\n",
       "       region_9  region_10      pop  ...  pre_1960_pct  diesel_pm  resp_index  \\\n",
       "2           0.0        0.0   3507.0  ...      0.059524   0.224637         0.5   \n",
       "3           0.0        0.0   3878.0  ...      0.112721   0.270230         0.5   \n",
       "6           0.0        0.0   3586.0  ...      0.067845   0.233105         0.6   \n",
       "7           0.0        0.0   3196.0  ...      0.064590   0.147923         0.5   \n",
       "8           0.0        0.0  11142.0  ...      0.037439   0.155188         0.5   \n",
       "...         ...        ...      ...  ...           ...        ...         ...   \n",
       "73976       0.0        0.0   5083.0  ...      0.034151   0.016408         0.2   \n",
       "73977       0.0        0.0   1679.0  ...      0.138028   0.014011         0.2   \n",
       "73978       0.0        0.0   2775.0  ...      0.198540   0.017406         0.2   \n",
       "73998       0.0        0.0   2126.0  ...      0.100000   0.017332         0.2   \n",
       "73999       0.0        0.0   4397.0  ...      0.029136   0.018709         0.2   \n",
       "\n",
       "       traffic_prox  npl_prox  rmp_prox  waste_prox      ozone     pm_25  \\\n",
       "2        169.977159  0.075655  0.082532    1.299859  37.069151  9.207049   \n",
       "3        500.544361  0.084317  0.087633    2.056273  37.087437  9.231752   \n",
       "6        296.979644  0.102866  0.114030    1.556946  37.115158  9.223953   \n",
       "7         26.555117  0.065579  0.133369    0.166820  36.916234  9.081288   \n",
       "8        154.358653  0.052522  0.065001    0.210598  36.919522  9.091731   \n",
       "...             ...       ...       ...         ...        ...       ...   \n",
       "73976     22.323445  0.039304  0.439392    0.078719  34.824629  6.316954   \n",
       "73977     74.419880  0.039345  0.280571    0.074537  36.801449  6.853247   \n",
       "73978     25.012447  0.045491  0.468922    0.101837  36.265901  6.884414   \n",
       "73998    247.918471  0.056189  0.585214    0.961161  36.428793  6.562776   \n",
       "73999     94.823564  0.065705  1.565644    0.762340  36.970416  6.638544   \n",
       "\n",
       "       undgrd_stor  \n",
       "2         1.987063  \n",
       "3         3.362111  \n",
       "6         1.676221  \n",
       "7         0.112757  \n",
       "8         0.323415  \n",
       "...            ...  \n",
       "73976     0.000000  \n",
       "73977     0.000000  \n",
       "73978     0.000000  \n",
       "73998     0.000000  \n",
       "73999     0.123067  \n",
       "\n",
       "[14627 rows x 27 columns]"
      ]
     },
     "execution_count": 6,
     "metadata": {},
     "output_type": "execute_result"
    }
   ],
   "source": [
    "X_val"
   ]
  },
  {
   "cell_type": "markdown",
   "id": "ad991021",
   "metadata": {},
   "source": [
    "## Modeling"
   ]
  },
  {
   "cell_type": "markdown",
   "id": "4ff07a9e",
   "metadata": {},
   "source": [
    "### Baseline Model"
   ]
  },
  {
   "cell_type": "markdown",
   "id": "4c82ad20",
   "metadata": {},
   "source": [
    "The y_train mean was 28.635"
   ]
  },
  {
   "cell_type": "code",
   "execution_count": 20,
   "id": "4f1b292d",
   "metadata": {},
   "outputs": [
    {
     "data": {
      "text/plain": [
       "28.484574495359528"
      ]
     },
     "execution_count": 20,
     "metadata": {},
     "output_type": "execute_result"
    }
   ],
   "source": [
    "y_train.mean()"
   ]
  },
  {
   "cell_type": "markdown",
   "id": "56183f42",
   "metadata": {},
   "source": [
    "The baseline mean was filled with the entire y_val dataset to be used as a baseline model. The r2 score was calculated and it was 0."
   ]
  },
  {
   "cell_type": "code",
   "execution_count": 25,
   "id": "8a47c3a0",
   "metadata": {
    "scrolled": true
   },
   "outputs": [],
   "source": [
    "pred_base = np.full(y_val.shape, y_train.mean())"
   ]
  },
  {
   "cell_type": "code",
   "execution_count": 27,
   "id": "e56662c6",
   "metadata": {},
   "outputs": [
    {
     "data": {
      "text/plain": [
       "0"
      ]
     },
     "execution_count": 27,
     "metadata": {},
     "output_type": "execute_result"
    }
   ],
   "source": [
    "round(r2_score(y_val,pred_base))"
   ]
  },
  {
   "cell_type": "markdown",
   "id": "e6ff4d16",
   "metadata": {},
   "source": [
    "### Modeling with Demographic and Enviromental Features"
   ]
  },
  {
   "cell_type": "markdown",
   "id": "0b773722",
   "metadata": {},
   "source": [
    "For the modeling section, it was split between two comparisions, one in which we included the demographic and environmental features and then another modeling section with same models looking at only the environmental features. "
   ]
  },
  {
   "cell_type": "markdown",
   "id": "aec627c6",
   "metadata": {},
   "source": [
    "### Linear Regression"
   ]
  },
  {
   "cell_type": "markdown",
   "id": "8e0d2f03",
   "metadata": {},
   "source": [
    "For the linear regression, As shown from the graph below, the cancer data is really right skewed and not resembing a normal distribution. A logarithmic was performed on both y train and the y val to try and normalize the distribution a little more. "
   ]
  },
  {
   "cell_type": "code",
   "execution_count": 108,
   "id": "aa162fc8",
   "metadata": {},
   "outputs": [
    {
     "data": {
      "image/png": "[encoded data removed]",
      "text/plain": [
       "<Figure size 432x288 with 1 Axes>"
      ]
     },
     "metadata": {
      "needs_background": "light"
     },
     "output_type": "display_data"
    }
   ],
   "source": [
    "plt.hist(env['cancer'], bins = 100)\n",
    "plt.title('Distribution of Air Toxics Cancer Rate')\n",
    "plt.xlabel('Air Toxics Cancer Rate')\n",
    "plt.ylabel('Frequency');"
   ]
  },
  {
   "cell_type": "code",
   "execution_count": 109,
   "id": "4dca163e",
   "metadata": {},
   "outputs": [],
   "source": [
    "y_train_log = np.log(y_train)\n",
    "y_val_log = np.log(y_val)"
   ]
  },
  {
   "cell_type": "markdown",
   "id": "b5527cc3",
   "metadata": {},
   "source": [
    "A histogram was made to see the new distrubtion for both X_train and y_val."
   ]
  },
  {
   "cell_type": "code",
   "execution_count": 110,
   "id": "fe3d39e6",
   "metadata": {
    "scrolled": true
   },
   "outputs": [
    {
     "data": {
      "image/png": "[encoded data removed]",
      "text/plain": [
       "<Figure size 432x288 with 1 Axes>"
      ]
     },
     "metadata": {
      "needs_background": "light"
     },
     "output_type": "display_data"
    }
   ],
   "source": [
    "plt.hist(y_train_log)\n",
    "plt.xlabel('Air Toxic Cancer Rate')\n",
    "plt.ylabel('Frequency')\n",
    "plt.title('Natural Logarithmic of y_train');"
   ]
  },
  {
   "cell_type": "code",
   "execution_count": 111,
   "id": "7be9edad",
   "metadata": {},
   "outputs": [
    {
     "data": {
      "image/png": "[encoded data removed]",
      "text/plain": [
       "<Figure size 432x288 with 1 Axes>"
      ]
     },
     "metadata": {
      "needs_background": "light"
     },
     "output_type": "display_data"
    }
   ],
   "source": [
    "plt.hist(y_val_log)\n",
    "plt.xlabel('Air Toxic Cancer Rate')\n",
    "plt.ylabel('Frequency')\n",
    "plt.title('Natural Logarithmic of y_val');"
   ]
  },
  {
   "cell_type": "markdown",
   "id": "9083797b",
   "metadata": {},
   "source": [
    "A gridsearch with pipeline was made for the linear regression model. In the pipeline, we included polynomial features, standard scaler, and Linear Regression. In the parameters, the degree for the polynomial features was 2. Multiple Degree numbers were tested. Degree = 2 provided the best results. Then a gridsearch was conducted with the pipeline and parameters."
   ]
  },
  {
   "cell_type": "code",
   "execution_count": 112,
   "id": "f7409ab0",
   "metadata": {
    "scrolled": true
   },
   "outputs": [
    {
     "data": {
      "text/html": [
       "<style>#sk-container-id-15 {color: black;background-color: white;}#sk-container-id-15 pre{padding: 0;}#sk-container-id-15 div.sk-toggleable {background-color: white;}#sk-container-id-15 label.sk-toggleable__label {cursor: pointer;display: block;width: 100%;margin-bottom: 0;padding: 0.3em;box-sizing: border-box;text-align: center;}#sk-container-id-15 label.sk-toggleable__label-arrow:before {content: \"▸\";float: left;margin-right: 0.25em;color: #696969;}#sk-container-id-15 label.sk-toggleable__label-arrow:hover:before {color: black;}#sk-container-id-15 div.sk-estimator:hover label.sk-toggleable__label-arrow:before {color: black;}#sk-container-id-15 div.sk-toggleable__content {max-height: 0;max-width: 0;overflow: hidden;text-align: left;background-color: #f0f8ff;}#sk-container-id-15 div.sk-toggleable__content pre {margin: 0.2em;color: black;border-radius: 0.25em;background-color: #f0f8ff;}#sk-container-id-15 input.sk-toggleable__control:checked~div.sk-toggleable__content {max-height: 200px;max-width: 100%;overflow: auto;}#sk-container-id-15 input.sk-toggleable__control:checked~label.sk-toggleable__label-arrow:before {content: \"▾\";}#sk-container-id-15 div.sk-estimator input.sk-toggleable__control:checked~label.sk-toggleable__label {background-color: #d4ebff;}#sk-container-id-15 div.sk-label input.sk-toggleable__control:checked~label.sk-toggleable__label {background-color: #d4ebff;}#sk-container-id-15 input.sk-hidden--visually {border: 0;clip: rect(1px 1px 1px 1px);clip: rect(1px, 1px, 1px, 1px);height: 1px;margin: -1px;overflow: hidden;padding: 0;position: absolute;width: 1px;}#sk-container-id-15 div.sk-estimator {font-family: monospace;background-color: #f0f8ff;border: 1px dotted black;border-radius: 0.25em;box-sizing: border-box;margin-bottom: 0.5em;}#sk-container-id-15 div.sk-estimator:hover {background-color: #d4ebff;}#sk-container-id-15 div.sk-parallel-item::after {content: \"\";width: 100%;border-bottom: 1px solid gray;flex-grow: 1;}#sk-container-id-15 div.sk-label:hover label.sk-toggleable__label {background-color: #d4ebff;}#sk-container-id-15 div.sk-serial::before {content: \"\";position: absolute;border-left: 1px solid gray;box-sizing: border-box;top: 0;bottom: 0;left: 50%;z-index: 0;}#sk-container-id-15 div.sk-serial {display: flex;flex-direction: column;align-items: center;background-color: white;padding-right: 0.2em;padding-left: 0.2em;position: relative;}#sk-container-id-15 div.sk-item {position: relative;z-index: 1;}#sk-container-id-15 div.sk-parallel {display: flex;align-items: stretch;justify-content: center;background-color: white;position: relative;}#sk-container-id-15 div.sk-item::before, #sk-container-id-15 div.sk-parallel-item::before {content: \"\";position: absolute;border-left: 1px solid gray;box-sizing: border-box;top: 0;bottom: 0;left: 50%;z-index: -1;}#sk-container-id-15 div.sk-parallel-item {display: flex;flex-direction: column;z-index: 1;position: relative;background-color: white;}#sk-container-id-15 div.sk-parallel-item:first-child::after {align-self: flex-end;width: 50%;}#sk-container-id-15 div.sk-parallel-item:last-child::after {align-self: flex-start;width: 50%;}#sk-container-id-15 div.sk-parallel-item:only-child::after {width: 0;}#sk-container-id-15 div.sk-dashed-wrapped {border: 1px dashed gray;margin: 0 0.4em 0.5em 0.4em;box-sizing: border-box;padding-bottom: 0.4em;background-color: white;}#sk-container-id-15 div.sk-label label {font-family: monospace;font-weight: bold;display: inline-block;line-height: 1.2em;}#sk-container-id-15 div.sk-label-container {text-align: center;}#sk-container-id-15 div.sk-container {/* jupyter's `normalize.less` sets `[hidden] { display: none; }` but bootstrap.min.css set `[hidden] { display: none !important; }` so we also need the `!important` here to be able to override the default hidden behavior on the sphinx rendered scikit-learn.org. See: https://github.com/scikit-learn/scikit-learn/issues/21755 */display: inline-block !important;position: relative;}#sk-container-id-15 div.sk-text-repr-fallback {display: none;}</style><div id=\"sk-container-id-15\" class=\"sk-top-container\"><div class=\"sk-text-repr-fallback\"><pre>GridSearchCV(estimator=Pipeline(steps=[(&#x27;poly&#x27;, PolynomialFeatures()),\n",
       "                                       (&#x27;ss&#x27;, StandardScaler()),\n",
       "                                       (&#x27;lr&#x27;, LinearRegression())]),\n",
       "             n_jobs=-1, param_grid=[{&#x27;poly__degree&#x27;: [2]}])</pre><b>In a Jupyter environment, please rerun this cell to show the HTML representation or trust the notebook. <br />On GitHub, the HTML representation is unable to render, please try loading this page with nbviewer.org.</b></div><div class=\"sk-container\" hidden><div class=\"sk-item sk-dashed-wrapped\"><div class=\"sk-label-container\"><div class=\"sk-label sk-toggleable\"><input class=\"sk-toggleable__control sk-hidden--visually\" id=\"sk-estimator-id-64\" type=\"checkbox\" ><label for=\"sk-estimator-id-64\" class=\"sk-toggleable__label sk-toggleable__label-arrow\">GridSearchCV</label><div class=\"sk-toggleable__content\"><pre>GridSearchCV(estimator=Pipeline(steps=[(&#x27;poly&#x27;, PolynomialFeatures()),\n",
       "                                       (&#x27;ss&#x27;, StandardScaler()),\n",
       "                                       (&#x27;lr&#x27;, LinearRegression())]),\n",
       "             n_jobs=-1, param_grid=[{&#x27;poly__degree&#x27;: [2]}])</pre></div></div></div><div class=\"sk-parallel\"><div class=\"sk-parallel-item\"><div class=\"sk-item\"><div class=\"sk-label-container\"><div class=\"sk-label sk-toggleable\"><input class=\"sk-toggleable__control sk-hidden--visually\" id=\"sk-estimator-id-65\" type=\"checkbox\" ><label for=\"sk-estimator-id-65\" class=\"sk-toggleable__label sk-toggleable__label-arrow\">estimator: Pipeline</label><div class=\"sk-toggleable__content\"><pre>Pipeline(steps=[(&#x27;poly&#x27;, PolynomialFeatures()), (&#x27;ss&#x27;, StandardScaler()),\n",
       "                (&#x27;lr&#x27;, LinearRegression())])</pre></div></div></div><div class=\"sk-serial\"><div class=\"sk-item\"><div class=\"sk-serial\"><div class=\"sk-item\"><div class=\"sk-estimator sk-toggleable\"><input class=\"sk-toggleable__control sk-hidden--visually\" id=\"sk-estimator-id-66\" type=\"checkbox\" ><label for=\"sk-estimator-id-66\" class=\"sk-toggleable__label sk-toggleable__label-arrow\">PolynomialFeatures</label><div class=\"sk-toggleable__content\"><pre>PolynomialFeatures()</pre></div></div></div><div class=\"sk-item\"><div class=\"sk-estimator sk-toggleable\"><input class=\"sk-toggleable__control sk-hidden--visually\" id=\"sk-estimator-id-67\" type=\"checkbox\" ><label for=\"sk-estimator-id-67\" class=\"sk-toggleable__label sk-toggleable__label-arrow\">StandardScaler</label><div class=\"sk-toggleable__content\"><pre>StandardScaler()</pre></div></div></div><div class=\"sk-item\"><div class=\"sk-estimator sk-toggleable\"><input class=\"sk-toggleable__control sk-hidden--visually\" id=\"sk-estimator-id-68\" type=\"checkbox\" ><label for=\"sk-estimator-id-68\" class=\"sk-toggleable__label sk-toggleable__label-arrow\">LinearRegression</label><div class=\"sk-toggleable__content\"><pre>LinearRegression()</pre></div></div></div></div></div></div></div></div></div></div></div></div>"
      ],
      "text/plain": [
       "GridSearchCV(estimator=Pipeline(steps=[('poly', PolynomialFeatures()),\n",
       "                                       ('ss', StandardScaler()),\n",
       "                                       ('lr', LinearRegression())]),\n",
       "             n_jobs=-1, param_grid=[{'poly__degree': [2]}])"
      ]
     },
     "execution_count": 112,
     "metadata": {},
     "output_type": "execute_result"
    }
   ],
   "source": [
    "lin_pipe = Pipeline([\n",
    "    ('poly', PolynomialFeatures()),\n",
    "    ('ss', StandardScaler()),\n",
    "    ('lr', LinearRegression())\n",
    "])\n",
    "\n",
    "lin_params = [\n",
    "    {\n",
    "     'poly__degree':[2]   \n",
    "    }\n",
    "]\n",
    "\n",
    "lr_gs = GridSearchCV(lin_pipe, param_grid = lin_params ,verbose = 0, n_jobs = -1)\n",
    "lr_gs.fit(X_train, y_train_log)"
   ]
  },
  {
   "cell_type": "markdown",
   "id": "79312e1f",
   "metadata": {},
   "source": [
    "After the gridsearch, predictions were made using linear regression for the X_train and X_val."
   ]
  },
  {
   "cell_type": "code",
   "execution_count": 113,
   "id": "3c77ada6",
   "metadata": {
    "scrolled": true
   },
   "outputs": [],
   "source": [
    "linear_train_preds = lr_gs.predict(X_train)\n",
    "linear_val_preds = lr_gs.predict(X_val)"
   ]
  },
  {
   "cell_type": "markdown",
   "id": "1f7fd17d",
   "metadata": {},
   "source": [
    "The R squared values for both the train and test scores, came to be around 0.7, the tests show no overfitting or underfitting. Next, we looked at the RMSE and saw train score being 7.13 and test score of 10.98. "
   ]
  },
  {
   "cell_type": "code",
   "execution_count": 114,
   "id": "fbfdd372",
   "metadata": {},
   "outputs": [
    {
     "name": "stdout",
     "output_type": "stream",
     "text": [
      "Linear Regression Train R squared: 0.7068455225817258\n",
      "Linear Regression Validation R squared: 0.7034093263692789\n",
      "\n",
      "\n",
      "LinearRegression Train RMSE: 7.134959453380073\n",
      "LinearRegression Validation RMSE: 10.982586939394714\n"
     ]
    }
   ],
   "source": [
    "print('Linear Regression Train R squared:', lr_gs.score(X_train, y_train_log))\n",
    "print('Linear Regression Validation R squared:', lr_gs.score(X_val, y_val_log))\n",
    "\n",
    "print('\\n')\n",
    "\n",
    "print('LinearRegression Train RMSE:', mean_squared_error(y_train, np.exp(linear_train_preds), squared = False))\n",
    "print('LinearRegression Validation RMSE:', mean_squared_error(y_val, np.exp(linear_val_preds), squared = False))"
   ]
  },
  {
   "cell_type": "markdown",
   "id": "5a8ec2b1",
   "metadata": {},
   "source": [
    "A plot was plotted to look at the residuals. This plot looks at the observed values between the fitted values. The data points were found to between -100 to 700. "
   ]
  },
  {
   "cell_type": "code",
   "execution_count": 115,
   "id": "6db162fc",
   "metadata": {},
   "outputs": [
    {
     "data": {
      "image/png": "[encoded data removed]",
      "text/plain": [
       "<Figure size 432x288 with 1 Axes>"
      ]
     },
     "metadata": {
      "needs_background": "light"
     },
     "output_type": "display_data"
    }
   ],
   "source": [
    "residuals = y_train - np.exp(linear_train_preds)\n",
    "plt.title('residuals vs initial_preds')\n",
    "plt.xlabel('lin_pred')\n",
    "plt.ylabel('residual')\n",
    "plt.scatter(np.exp(linear_train_preds), residuals);\n",
    "plt.axhline(residuals.mean(), color = 'orange');"
   ]
  },
  {
   "cell_type": "markdown",
   "id": "31894c52",
   "metadata": {},
   "source": [
    "### Linear Regression with Regularization"
   ]
  },
  {
   "cell_type": "markdown",
   "id": "4a9e8bc9",
   "metadata": {},
   "source": [
    "After conducting a linear regression, A lasso regularization was done. Another gridsearch was done in which the pipeline had : standard Scaler, polynomial features, and then lasso. The polynomial feature was chosen to degree of 2, to be consistent with linear regression, but also had the best results when it came to r squared values. In the paramters for lasso, alpha was provided with multiple values. a best parameter was done to find the optimal alpha which was 0.001 and best score of 0.5254. "
   ]
  },
  {
   "cell_type": "code",
   "execution_count": 116,
   "id": "49df41eb",
   "metadata": {},
   "outputs": [
    {
     "data": {
      "text/html": [
       "<style>#sk-container-id-16 {color: black;background-color: white;}#sk-container-id-16 pre{padding: 0;}#sk-container-id-16 div.sk-toggleable {background-color: white;}#sk-container-id-16 label.sk-toggleable__label {cursor: pointer;display: block;width: 100%;margin-bottom: 0;padding: 0.3em;box-sizing: border-box;text-align: center;}#sk-container-id-16 label.sk-toggleable__label-arrow:before {content: \"▸\";float: left;margin-right: 0.25em;color: #696969;}#sk-container-id-16 label.sk-toggleable__label-arrow:hover:before {color: black;}#sk-container-id-16 div.sk-estimator:hover label.sk-toggleable__label-arrow:before {color: black;}#sk-container-id-16 div.sk-toggleable__content {max-height: 0;max-width: 0;overflow: hidden;text-align: left;background-color: #f0f8ff;}#sk-container-id-16 div.sk-toggleable__content pre {margin: 0.2em;color: black;border-radius: 0.25em;background-color: #f0f8ff;}#sk-container-id-16 input.sk-toggleable__control:checked~div.sk-toggleable__content {max-height: 200px;max-width: 100%;overflow: auto;}#sk-container-id-16 input.sk-toggleable__control:checked~label.sk-toggleable__label-arrow:before {content: \"▾\";}#sk-container-id-16 div.sk-estimator input.sk-toggleable__control:checked~label.sk-toggleable__label {background-color: #d4ebff;}#sk-container-id-16 div.sk-label input.sk-toggleable__control:checked~label.sk-toggleable__label {background-color: #d4ebff;}#sk-container-id-16 input.sk-hidden--visually {border: 0;clip: rect(1px 1px 1px 1px);clip: rect(1px, 1px, 1px, 1px);height: 1px;margin: -1px;overflow: hidden;padding: 0;position: absolute;width: 1px;}#sk-container-id-16 div.sk-estimator {font-family: monospace;background-color: #f0f8ff;border: 1px dotted black;border-radius: 0.25em;box-sizing: border-box;margin-bottom: 0.5em;}#sk-container-id-16 div.sk-estimator:hover {background-color: #d4ebff;}#sk-container-id-16 div.sk-parallel-item::after {content: \"\";width: 100%;border-bottom: 1px solid gray;flex-grow: 1;}#sk-container-id-16 div.sk-label:hover label.sk-toggleable__label {background-color: #d4ebff;}#sk-container-id-16 div.sk-serial::before {content: \"\";position: absolute;border-left: 1px solid gray;box-sizing: border-box;top: 0;bottom: 0;left: 50%;z-index: 0;}#sk-container-id-16 div.sk-serial {display: flex;flex-direction: column;align-items: center;background-color: white;padding-right: 0.2em;padding-left: 0.2em;position: relative;}#sk-container-id-16 div.sk-item {position: relative;z-index: 1;}#sk-container-id-16 div.sk-parallel {display: flex;align-items: stretch;justify-content: center;background-color: white;position: relative;}#sk-container-id-16 div.sk-item::before, #sk-container-id-16 div.sk-parallel-item::before {content: \"\";position: absolute;border-left: 1px solid gray;box-sizing: border-box;top: 0;bottom: 0;left: 50%;z-index: -1;}#sk-container-id-16 div.sk-parallel-item {display: flex;flex-direction: column;z-index: 1;position: relative;background-color: white;}#sk-container-id-16 div.sk-parallel-item:first-child::after {align-self: flex-end;width: 50%;}#sk-container-id-16 div.sk-parallel-item:last-child::after {align-self: flex-start;width: 50%;}#sk-container-id-16 div.sk-parallel-item:only-child::after {width: 0;}#sk-container-id-16 div.sk-dashed-wrapped {border: 1px dashed gray;margin: 0 0.4em 0.5em 0.4em;box-sizing: border-box;padding-bottom: 0.4em;background-color: white;}#sk-container-id-16 div.sk-label label {font-family: monospace;font-weight: bold;display: inline-block;line-height: 1.2em;}#sk-container-id-16 div.sk-label-container {text-align: center;}#sk-container-id-16 div.sk-container {/* jupyter's `normalize.less` sets `[hidden] { display: none; }` but bootstrap.min.css set `[hidden] { display: none !important; }` so we also need the `!important` here to be able to override the default hidden behavior on the sphinx rendered scikit-learn.org. See: https://github.com/scikit-learn/scikit-learn/issues/21755 */display: inline-block !important;position: relative;}#sk-container-id-16 div.sk-text-repr-fallback {display: none;}</style><div id=\"sk-container-id-16\" class=\"sk-top-container\"><div class=\"sk-text-repr-fallback\"><pre>GridSearchCV(estimator=Pipeline(steps=[(&#x27;poly&#x27;, PolynomialFeatures()),\n",
       "                                       (&#x27;ss&#x27;, StandardScaler()),\n",
       "                                       (&#x27;model&#x27;, Lasso())]),\n",
       "             n_jobs=-1,\n",
       "             param_grid=[{&#x27;model__alpha&#x27;: [0.001, 0.01, 0.1, 1, 10, 100,\n",
       "                                           1000]}])</pre><b>In a Jupyter environment, please rerun this cell to show the HTML representation or trust the notebook. <br />On GitHub, the HTML representation is unable to render, please try loading this page with nbviewer.org.</b></div><div class=\"sk-container\" hidden><div class=\"sk-item sk-dashed-wrapped\"><div class=\"sk-label-container\"><div class=\"sk-label sk-toggleable\"><input class=\"sk-toggleable__control sk-hidden--visually\" id=\"sk-estimator-id-69\" type=\"checkbox\" ><label for=\"sk-estimator-id-69\" class=\"sk-toggleable__label sk-toggleable__label-arrow\">GridSearchCV</label><div class=\"sk-toggleable__content\"><pre>GridSearchCV(estimator=Pipeline(steps=[(&#x27;poly&#x27;, PolynomialFeatures()),\n",
       "                                       (&#x27;ss&#x27;, StandardScaler()),\n",
       "                                       (&#x27;model&#x27;, Lasso())]),\n",
       "             n_jobs=-1,\n",
       "             param_grid=[{&#x27;model__alpha&#x27;: [0.001, 0.01, 0.1, 1, 10, 100,\n",
       "                                           1000]}])</pre></div></div></div><div class=\"sk-parallel\"><div class=\"sk-parallel-item\"><div class=\"sk-item\"><div class=\"sk-label-container\"><div class=\"sk-label sk-toggleable\"><input class=\"sk-toggleable__control sk-hidden--visually\" id=\"sk-estimator-id-70\" type=\"checkbox\" ><label for=\"sk-estimator-id-70\" class=\"sk-toggleable__label sk-toggleable__label-arrow\">estimator: Pipeline</label><div class=\"sk-toggleable__content\"><pre>Pipeline(steps=[(&#x27;poly&#x27;, PolynomialFeatures()), (&#x27;ss&#x27;, StandardScaler()),\n",
       "                (&#x27;model&#x27;, Lasso())])</pre></div></div></div><div class=\"sk-serial\"><div class=\"sk-item\"><div class=\"sk-serial\"><div class=\"sk-item\"><div class=\"sk-estimator sk-toggleable\"><input class=\"sk-toggleable__control sk-hidden--visually\" id=\"sk-estimator-id-71\" type=\"checkbox\" ><label for=\"sk-estimator-id-71\" class=\"sk-toggleable__label sk-toggleable__label-arrow\">PolynomialFeatures</label><div class=\"sk-toggleable__content\"><pre>PolynomialFeatures()</pre></div></div></div><div class=\"sk-item\"><div class=\"sk-estimator sk-toggleable\"><input class=\"sk-toggleable__control sk-hidden--visually\" id=\"sk-estimator-id-72\" type=\"checkbox\" ><label for=\"sk-estimator-id-72\" class=\"sk-toggleable__label sk-toggleable__label-arrow\">StandardScaler</label><div class=\"sk-toggleable__content\"><pre>StandardScaler()</pre></div></div></div><div class=\"sk-item\"><div class=\"sk-estimator sk-toggleable\"><input class=\"sk-toggleable__control sk-hidden--visually\" id=\"sk-estimator-id-73\" type=\"checkbox\" ><label for=\"sk-estimator-id-73\" class=\"sk-toggleable__label sk-toggleable__label-arrow\">Lasso</label><div class=\"sk-toggleable__content\"><pre>Lasso()</pre></div></div></div></div></div></div></div></div></div></div></div></div>"
      ],
      "text/plain": [
       "GridSearchCV(estimator=Pipeline(steps=[('poly', PolynomialFeatures()),\n",
       "                                       ('ss', StandardScaler()),\n",
       "                                       ('model', Lasso())]),\n",
       "             n_jobs=-1,\n",
       "             param_grid=[{'model__alpha': [0.001, 0.01, 0.1, 1, 10, 100,\n",
       "                                           1000]}])"
      ]
     },
     "execution_count": 116,
     "metadata": {},
     "output_type": "execute_result"
    }
   ],
   "source": [
    "lasso_pipe = Pipeline([\n",
    "    ('poly', PolynomialFeatures(degree = 2)),\n",
    "    ('ss', StandardScaler()),\n",
    "    ('model', Lasso())\n",
    "])\n",
    "lasso_params = [\n",
    "    {\n",
    "        'model__alpha': [0.001, 0.01, 0.1, 1, 10, 100, 1000]\n",
    "    }\n",
    "]\n",
    "\n",
    "lasso_gs = GridSearchCV(lasso_pipe, param_grid = lasso_params,verbose = 0, n_jobs = -1)\n",
    "lasso_gs.fit(X_train, y_train_log)"
   ]
  },
  {
   "cell_type": "code",
   "execution_count": 117,
   "id": "ccacfed5",
   "metadata": {},
   "outputs": [
    {
     "name": "stdout",
     "output_type": "stream",
     "text": [
      "{'model__alpha': 0.001}\n",
      "0.5254063111411031\n"
     ]
    }
   ],
   "source": [
    "lasso_train_preds = lasso_gs.predict(X_train)\n",
    "lasso_val_preds = lasso_gs.predict(X_val)\n",
    "actual_values = y_val\n",
    "print(lasso_gs.best_params_)\n",
    "print(lasso_gs.best_score_)"
   ]
  },
  {
   "cell_type": "markdown",
   "id": "80478266",
   "metadata": {},
   "source": [
    "The R squared value for training set for lasso was 0.6808 and the validation score was 0.677. The scores are lower than linear regression. But we see no overfitting in the model. The RMSE for the training set was 7.27 and the testing set was 11.15. The RMSE is higher compared to the Linear Regression model. "
   ]
  },
  {
   "cell_type": "code",
   "execution_count": 118,
   "id": "be4728f9",
   "metadata": {},
   "outputs": [
    {
     "name": "stdout",
     "output_type": "stream",
     "text": [
      "Lasso Train R squared: 0.6808206446469416\n",
      "Lasso Validation R squared: 0.677240709567018\n",
      "\n",
      "\n",
      "Lasso Train RMSE: 7.274003805608064\n",
      "Lasso Validation RMSE: 11.157543643339187\n"
     ]
    }
   ],
   "source": [
    "print('Lasso Train R squared:', lasso_gs.score(X_train, y_train_log))\n",
    "print('Lasso Validation R squared:', lasso_gs.score(X_val, y_val_log))\n",
    "\n",
    "print('\\n')\n",
    "\n",
    "print('Lasso Train RMSE:', mean_squared_error(y_train, np.exp(lasso_train_preds), squared = False))\n",
    "print('Lasso Validation RMSE:', mean_squared_error(y_val, np.exp(lasso_val_preds), squared = False))"
   ]
  },
  {
   "cell_type": "markdown",
   "id": "7cc84198",
   "metadata": {},
   "source": [
    "The plot below looks at the lasso predicted values and the actual values. As we can see there are larger number of points accumuated near the 0-80 for the predicted values."
   ]
  },
  {
   "cell_type": "code",
   "execution_count": 119,
   "id": "9ec8f26e",
   "metadata": {},
   "outputs": [
    {
     "data": {
      "image/png": "[encoded data removed]",
      "text/plain": [
       "<Figure size 576x432 with 1 Axes>"
      ]
     },
     "metadata": {
      "needs_background": "light"
     },
     "output_type": "display_data"
    }
   ],
   "source": [
    "plt.figure(figsize=(8,6))\n",
    "plt.scatter(np.exp(lasso_val_preds), actual_values)\n",
    "plt.xlabel('Predicted')\n",
    "plt.ylabel('Actual')\n",
    "plt.title('Lasso Regression');"
   ]
  },
  {
   "cell_type": "markdown",
   "id": "7be17601",
   "metadata": {},
   "source": [
    "### Ridge Model"
   ]
  },
  {
   "cell_type": "markdown",
   "id": "bf4a8e47",
   "metadata": {},
   "source": [
    "A ridge regression was done. Another gridsearch was done in which the pipeline had : standard scaler, polynomial features, and ridge. The polynomial feature was chosen to degree of 2, to be consistent with linear regression, but also had the best results when it came to R squared values. In the paramters for ridge, alpha was provided with multiple values. a best parameter was done to find the optimal alpha which was 3430.469 and best score of 0.5714. "
   ]
  },
  {
   "cell_type": "code",
   "execution_count": 120,
   "id": "e50e2249",
   "metadata": {},
   "outputs": [
    {
     "data": {
      "text/html": [
       "<style>#sk-container-id-17 {color: black;background-color: white;}#sk-container-id-17 pre{padding: 0;}#sk-container-id-17 div.sk-toggleable {background-color: white;}#sk-container-id-17 label.sk-toggleable__label {cursor: pointer;display: block;width: 100%;margin-bottom: 0;padding: 0.3em;box-sizing: border-box;text-align: center;}#sk-container-id-17 label.sk-toggleable__label-arrow:before {content: \"▸\";float: left;margin-right: 0.25em;color: #696969;}#sk-container-id-17 label.sk-toggleable__label-arrow:hover:before {color: black;}#sk-container-id-17 div.sk-estimator:hover label.sk-toggleable__label-arrow:before {color: black;}#sk-container-id-17 div.sk-toggleable__content {max-height: 0;max-width: 0;overflow: hidden;text-align: left;background-color: #f0f8ff;}#sk-container-id-17 div.sk-toggleable__content pre {margin: 0.2em;color: black;border-radius: 0.25em;background-color: #f0f8ff;}#sk-container-id-17 input.sk-toggleable__control:checked~div.sk-toggleable__content {max-height: 200px;max-width: 100%;overflow: auto;}#sk-container-id-17 input.sk-toggleable__control:checked~label.sk-toggleable__label-arrow:before {content: \"▾\";}#sk-container-id-17 div.sk-estimator input.sk-toggleable__control:checked~label.sk-toggleable__label {background-color: #d4ebff;}#sk-container-id-17 div.sk-label input.sk-toggleable__control:checked~label.sk-toggleable__label {background-color: #d4ebff;}#sk-container-id-17 input.sk-hidden--visually {border: 0;clip: rect(1px 1px 1px 1px);clip: rect(1px, 1px, 1px, 1px);height: 1px;margin: -1px;overflow: hidden;padding: 0;position: absolute;width: 1px;}#sk-container-id-17 div.sk-estimator {font-family: monospace;background-color: #f0f8ff;border: 1px dotted black;border-radius: 0.25em;box-sizing: border-box;margin-bottom: 0.5em;}#sk-container-id-17 div.sk-estimator:hover {background-color: #d4ebff;}#sk-container-id-17 div.sk-parallel-item::after {content: \"\";width: 100%;border-bottom: 1px solid gray;flex-grow: 1;}#sk-container-id-17 div.sk-label:hover label.sk-toggleable__label {background-color: #d4ebff;}#sk-container-id-17 div.sk-serial::before {content: \"\";position: absolute;border-left: 1px solid gray;box-sizing: border-box;top: 0;bottom: 0;left: 50%;z-index: 0;}#sk-container-id-17 div.sk-serial {display: flex;flex-direction: column;align-items: center;background-color: white;padding-right: 0.2em;padding-left: 0.2em;position: relative;}#sk-container-id-17 div.sk-item {position: relative;z-index: 1;}#sk-container-id-17 div.sk-parallel {display: flex;align-items: stretch;justify-content: center;background-color: white;position: relative;}#sk-container-id-17 div.sk-item::before, #sk-container-id-17 div.sk-parallel-item::before {content: \"\";position: absolute;border-left: 1px solid gray;box-sizing: border-box;top: 0;bottom: 0;left: 50%;z-index: -1;}#sk-container-id-17 div.sk-parallel-item {display: flex;flex-direction: column;z-index: 1;position: relative;background-color: white;}#sk-container-id-17 div.sk-parallel-item:first-child::after {align-self: flex-end;width: 50%;}#sk-container-id-17 div.sk-parallel-item:last-child::after {align-self: flex-start;width: 50%;}#sk-container-id-17 div.sk-parallel-item:only-child::after {width: 0;}#sk-container-id-17 div.sk-dashed-wrapped {border: 1px dashed gray;margin: 0 0.4em 0.5em 0.4em;box-sizing: border-box;padding-bottom: 0.4em;background-color: white;}#sk-container-id-17 div.sk-label label {font-family: monospace;font-weight: bold;display: inline-block;line-height: 1.2em;}#sk-container-id-17 div.sk-label-container {text-align: center;}#sk-container-id-17 div.sk-container {/* jupyter's `normalize.less` sets `[hidden] { display: none; }` but bootstrap.min.css set `[hidden] { display: none !important; }` so we also need the `!important` here to be able to override the default hidden behavior on the sphinx rendered scikit-learn.org. See: https://github.com/scikit-learn/scikit-learn/issues/21755 */display: inline-block !important;position: relative;}#sk-container-id-17 div.sk-text-repr-fallback {display: none;}</style><div id=\"sk-container-id-17\" class=\"sk-top-container\"><div class=\"sk-text-repr-fallback\"><pre>GridSearchCV(cv=10,\n",
       "             estimator=Pipeline(steps=[(&#x27;poly&#x27;, PolynomialFeatures()),\n",
       "                                       (&#x27;ss&#x27;, StandardScaler()),\n",
       "                                       (&#x27;model&#x27;, Ridge())]),\n",
       "             n_jobs=-1,\n",
       "             param_grid=[{&#x27;model__alpha&#x27;: array([1.00000000e+00, 1.12332403e+00, 1.26185688e+00, 1.41747416e+00,\n",
       "       1.59228279e+00, 1.78864953e+00, 2.00923300e+00, 2.25701972e+00,\n",
       "       2.53536449e+00, 2.84803587e+00, 3.19926714e+00, 3.59381366e+00,\n",
       "       4.0370...\n",
       "       6.89261210e+03, 7.74263683e+03, 8.69749003e+03, 9.77009957e+03,\n",
       "       1.09749877e+04, 1.23284674e+04, 1.38488637e+04, 1.55567614e+04,\n",
       "       1.74752840e+04, 1.96304065e+04, 2.20513074e+04, 2.47707636e+04,\n",
       "       2.78255940e+04, 3.12571585e+04, 3.51119173e+04, 3.94420606e+04,\n",
       "       4.43062146e+04, 4.97702356e+04, 5.59081018e+04, 6.28029144e+04,\n",
       "       7.05480231e+04, 7.92482898e+04, 8.90215085e+04, 1.00000000e+05])}])</pre><b>In a Jupyter environment, please rerun this cell to show the HTML representation or trust the notebook. <br />On GitHub, the HTML representation is unable to render, please try loading this page with nbviewer.org.</b></div><div class=\"sk-container\" hidden><div class=\"sk-item sk-dashed-wrapped\"><div class=\"sk-label-container\"><div class=\"sk-label sk-toggleable\"><input class=\"sk-toggleable__control sk-hidden--visually\" id=\"sk-estimator-id-74\" type=\"checkbox\" ><label for=\"sk-estimator-id-74\" class=\"sk-toggleable__label sk-toggleable__label-arrow\">GridSearchCV</label><div class=\"sk-toggleable__content\"><pre>GridSearchCV(cv=10,\n",
       "             estimator=Pipeline(steps=[(&#x27;poly&#x27;, PolynomialFeatures()),\n",
       "                                       (&#x27;ss&#x27;, StandardScaler()),\n",
       "                                       (&#x27;model&#x27;, Ridge())]),\n",
       "             n_jobs=-1,\n",
       "             param_grid=[{&#x27;model__alpha&#x27;: array([1.00000000e+00, 1.12332403e+00, 1.26185688e+00, 1.41747416e+00,\n",
       "       1.59228279e+00, 1.78864953e+00, 2.00923300e+00, 2.25701972e+00,\n",
       "       2.53536449e+00, 2.84803587e+00, 3.19926714e+00, 3.59381366e+00,\n",
       "       4.0370...\n",
       "       6.89261210e+03, 7.74263683e+03, 8.69749003e+03, 9.77009957e+03,\n",
       "       1.09749877e+04, 1.23284674e+04, 1.38488637e+04, 1.55567614e+04,\n",
       "       1.74752840e+04, 1.96304065e+04, 2.20513074e+04, 2.47707636e+04,\n",
       "       2.78255940e+04, 3.12571585e+04, 3.51119173e+04, 3.94420606e+04,\n",
       "       4.43062146e+04, 4.97702356e+04, 5.59081018e+04, 6.28029144e+04,\n",
       "       7.05480231e+04, 7.92482898e+04, 8.90215085e+04, 1.00000000e+05])}])</pre></div></div></div><div class=\"sk-parallel\"><div class=\"sk-parallel-item\"><div class=\"sk-item\"><div class=\"sk-label-container\"><div class=\"sk-label sk-toggleable\"><input class=\"sk-toggleable__control sk-hidden--visually\" id=\"sk-estimator-id-75\" type=\"checkbox\" ><label for=\"sk-estimator-id-75\" class=\"sk-toggleable__label sk-toggleable__label-arrow\">estimator: Pipeline</label><div class=\"sk-toggleable__content\"><pre>Pipeline(steps=[(&#x27;poly&#x27;, PolynomialFeatures()), (&#x27;ss&#x27;, StandardScaler()),\n",
       "                (&#x27;model&#x27;, Ridge())])</pre></div></div></div><div class=\"sk-serial\"><div class=\"sk-item\"><div class=\"sk-serial\"><div class=\"sk-item\"><div class=\"sk-estimator sk-toggleable\"><input class=\"sk-toggleable__control sk-hidden--visually\" id=\"sk-estimator-id-76\" type=\"checkbox\" ><label for=\"sk-estimator-id-76\" class=\"sk-toggleable__label sk-toggleable__label-arrow\">PolynomialFeatures</label><div class=\"sk-toggleable__content\"><pre>PolynomialFeatures()</pre></div></div></div><div class=\"sk-item\"><div class=\"sk-estimator sk-toggleable\"><input class=\"sk-toggleable__control sk-hidden--visually\" id=\"sk-estimator-id-77\" type=\"checkbox\" ><label for=\"sk-estimator-id-77\" class=\"sk-toggleable__label sk-toggleable__label-arrow\">StandardScaler</label><div class=\"sk-toggleable__content\"><pre>StandardScaler()</pre></div></div></div><div class=\"sk-item\"><div class=\"sk-estimator sk-toggleable\"><input class=\"sk-toggleable__control sk-hidden--visually\" id=\"sk-estimator-id-78\" type=\"checkbox\" ><label for=\"sk-estimator-id-78\" class=\"sk-toggleable__label sk-toggleable__label-arrow\">Ridge</label><div class=\"sk-toggleable__content\"><pre>Ridge()</pre></div></div></div></div></div></div></div></div></div></div></div></div>"
      ],
      "text/plain": [
       "GridSearchCV(cv=10,\n",
       "             estimator=Pipeline(steps=[('poly', PolynomialFeatures()),\n",
       "                                       ('ss', StandardScaler()),\n",
       "                                       ('model', Ridge())]),\n",
       "             n_jobs=-1,\n",
       "             param_grid=[{'model__alpha': array([1.00000000e+00, 1.12332403e+00, 1.26185688e+00, 1.41747416e+00,\n",
       "       1.59228279e+00, 1.78864953e+00, 2.00923300e+00, 2.25701972e+00,\n",
       "       2.53536449e+00, 2.84803587e+00, 3.19926714e+00, 3.59381366e+00,\n",
       "       4.0370...\n",
       "       6.89261210e+03, 7.74263683e+03, 8.69749003e+03, 9.77009957e+03,\n",
       "       1.09749877e+04, 1.23284674e+04, 1.38488637e+04, 1.55567614e+04,\n",
       "       1.74752840e+04, 1.96304065e+04, 2.20513074e+04, 2.47707636e+04,\n",
       "       2.78255940e+04, 3.12571585e+04, 3.51119173e+04, 3.94420606e+04,\n",
       "       4.43062146e+04, 4.97702356e+04, 5.59081018e+04, 6.28029144e+04,\n",
       "       7.05480231e+04, 7.92482898e+04, 8.90215085e+04, 1.00000000e+05])}])"
      ]
     },
     "execution_count": 120,
     "metadata": {},
     "output_type": "execute_result"
    }
   ],
   "source": [
    "ridge_pipe = Pipeline([\n",
    "    ('poly', PolynomialFeatures(degree = 2)),\n",
    "    ('ss', StandardScaler()),\n",
    "    ('model', Ridge()),\n",
    "])\n",
    "\n",
    "ridge_params = [{\n",
    "    'model__alpha': np.logspace(0, 5, 100, 1000)\n",
    "}]\n",
    "\n",
    "ridge_gs = GridSearchCV(ridge_pipe, param_grid = ridge_params, cv = 10, n_jobs = -1)\n",
    "\n",
    "ridge_gs.fit(X_train, y_train_log)"
   ]
  },
  {
   "cell_type": "code",
   "execution_count": 121,
   "id": "03a7bda2",
   "metadata": {},
   "outputs": [
    {
     "name": "stdout",
     "output_type": "stream",
     "text": [
      "{'model__alpha': 3430.4692863149194}\n",
      "0.5714663768779833\n"
     ]
    }
   ],
   "source": [
    "ridge_train_preds = ridge_gs.predict(X_train)\n",
    "ridge_val_preds = ridge_gs.predict(X_val)\n",
    "actual_values = y_val\n",
    "print(ridge_gs.best_params_)\n",
    "print(ridge_gs.best_score_)"
   ]
  },
  {
   "cell_type": "markdown",
   "id": "bc50d953",
   "metadata": {},
   "source": [
    "The R squared values for the training set for ridge was 0.68 and the val set was 0.675. The RMSE score for the training was 7.24 and the val score was 11.13."
   ]
  },
  {
   "cell_type": "code",
   "execution_count": 122,
   "id": "2c78e918",
   "metadata": {
    "scrolled": true
   },
   "outputs": [
    {
     "name": "stdout",
     "output_type": "stream",
     "text": [
      "Ridge Train R squared: 0.680786909058223\n",
      "Ridge Validation R squared: 0.6754270740988404\n",
      "\n",
      "\n",
      "Ridge Train RMSE: 7.240468513433397\n",
      "Ridge Validation RMSE: 11.128208934953344\n"
     ]
    }
   ],
   "source": [
    "print('Ridge Train R squared:', ridge_gs.score(X_train, y_train_log))\n",
    "print('Ridge Validation R squared:', ridge_gs.score(X_val, y_val_log))\n",
    "\n",
    "print('\\n')\n",
    "\n",
    "print('Ridge Train RMSE:', mean_squared_error(y_train, np.exp(ridge_train_preds), squared = False))\n",
    "print('Ridge Validation RMSE:', mean_squared_error(y_val, np.exp(ridge_val_preds), squared = False))"
   ]
  },
  {
   "cell_type": "markdown",
   "id": "2950e9f4",
   "metadata": {},
   "source": [
    "The plot below looks at the ridge predicted values and the actual values. As we can see there are larger number of points accumuated near the 0-60 for the predicted values."
   ]
  },
  {
   "cell_type": "code",
   "execution_count": 123,
   "id": "c701d604",
   "metadata": {},
   "outputs": [
    {
     "data": {
      "image/png": "[encoded data removed]",
      "text/plain": [
       "<Figure size 576x432 with 1 Axes>"
      ]
     },
     "metadata": {
      "needs_background": "light"
     },
     "output_type": "display_data"
    }
   ],
   "source": [
    "plt.figure(figsize=(8,6))\n",
    "plt.scatter(np.exp(ridge_val_preds), actual_values)\n",
    "plt.xlabel('Predicted')\n",
    "plt.ylabel('Actual')\n",
    "plt.title('Ridge Regression');"
   ]
  },
  {
   "cell_type": "markdown",
   "id": "05b82666",
   "metadata": {},
   "source": [
    "### ElasticNet"
   ]
  },
  {
   "cell_type": "markdown",
   "id": "e5bf5369",
   "metadata": {},
   "source": [
    "An ElasticNet regression was done. Another gridsearch was done in which the pipeline had : standard scaler, polynomial features, and then elasticnet. The polynomial feature was chosen to degree of 2, to be consistent with linear regression, but also had the best results when it came to r squared values. In the paramters for elasticnet, alpha was provided with multiple values and then l1 ratio was included to be 0.1. The best parameter for alpha was 1, best l1 ratio 0.1 and the best score was 0.299. "
   ]
  },
  {
   "cell_type": "code",
   "execution_count": 39,
   "id": "7bcd7baa",
   "metadata": {
    "scrolled": true
   },
   "outputs": [
    {
     "name": "stdout",
     "output_type": "stream",
     "text": [
      "Fitting 5 folds for each of 3 candidates, totalling 15 fits\n"
     ]
    },
    {
     "data": {
      "text/html": [
       "<style>#sk-container-id-7 {color: black;background-color: white;}#sk-container-id-7 pre{padding: 0;}#sk-container-id-7 div.sk-toggleable {background-color: white;}#sk-container-id-7 label.sk-toggleable__label {cursor: pointer;display: block;width: 100%;margin-bottom: 0;padding: 0.3em;box-sizing: border-box;text-align: center;}#sk-container-id-7 label.sk-toggleable__label-arrow:before {content: \"▸\";float: left;margin-right: 0.25em;color: #696969;}#sk-container-id-7 label.sk-toggleable__label-arrow:hover:before {color: black;}#sk-container-id-7 div.sk-estimator:hover label.sk-toggleable__label-arrow:before {color: black;}#sk-container-id-7 div.sk-toggleable__content {max-height: 0;max-width: 0;overflow: hidden;text-align: left;background-color: #f0f8ff;}#sk-container-id-7 div.sk-toggleable__content pre {margin: 0.2em;color: black;border-radius: 0.25em;background-color: #f0f8ff;}#sk-container-id-7 input.sk-toggleable__control:checked~div.sk-toggleable__content {max-height: 200px;max-width: 100%;overflow: auto;}#sk-container-id-7 input.sk-toggleable__control:checked~label.sk-toggleable__label-arrow:before {content: \"▾\";}#sk-container-id-7 div.sk-estimator input.sk-toggleable__control:checked~label.sk-toggleable__label {background-color: #d4ebff;}#sk-container-id-7 div.sk-label input.sk-toggleable__control:checked~label.sk-toggleable__label {background-color: #d4ebff;}#sk-container-id-7 input.sk-hidden--visually {border: 0;clip: rect(1px 1px 1px 1px);clip: rect(1px, 1px, 1px, 1px);height: 1px;margin: -1px;overflow: hidden;padding: 0;position: absolute;width: 1px;}#sk-container-id-7 div.sk-estimator {font-family: monospace;background-color: #f0f8ff;border: 1px dotted black;border-radius: 0.25em;box-sizing: border-box;margin-bottom: 0.5em;}#sk-container-id-7 div.sk-estimator:hover {background-color: #d4ebff;}#sk-container-id-7 div.sk-parallel-item::after {content: \"\";width: 100%;border-bottom: 1px solid gray;flex-grow: 1;}#sk-container-id-7 div.sk-label:hover label.sk-toggleable__label {background-color: #d4ebff;}#sk-container-id-7 div.sk-serial::before {content: \"\";position: absolute;border-left: 1px solid gray;box-sizing: border-box;top: 0;bottom: 0;left: 50%;z-index: 0;}#sk-container-id-7 div.sk-serial {display: flex;flex-direction: column;align-items: center;background-color: white;padding-right: 0.2em;padding-left: 0.2em;position: relative;}#sk-container-id-7 div.sk-item {position: relative;z-index: 1;}#sk-container-id-7 div.sk-parallel {display: flex;align-items: stretch;justify-content: center;background-color: white;position: relative;}#sk-container-id-7 div.sk-item::before, #sk-container-id-7 div.sk-parallel-item::before {content: \"\";position: absolute;border-left: 1px solid gray;box-sizing: border-box;top: 0;bottom: 0;left: 50%;z-index: -1;}#sk-container-id-7 div.sk-parallel-item {display: flex;flex-direction: column;z-index: 1;position: relative;background-color: white;}#sk-container-id-7 div.sk-parallel-item:first-child::after {align-self: flex-end;width: 50%;}#sk-container-id-7 div.sk-parallel-item:last-child::after {align-self: flex-start;width: 50%;}#sk-container-id-7 div.sk-parallel-item:only-child::after {width: 0;}#sk-container-id-7 div.sk-dashed-wrapped {border: 1px dashed gray;margin: 0 0.4em 0.5em 0.4em;box-sizing: border-box;padding-bottom: 0.4em;background-color: white;}#sk-container-id-7 div.sk-label label {font-family: monospace;font-weight: bold;display: inline-block;line-height: 1.2em;}#sk-container-id-7 div.sk-label-container {text-align: center;}#sk-container-id-7 div.sk-container {/* jupyter's `normalize.less` sets `[hidden] { display: none; }` but bootstrap.min.css set `[hidden] { display: none !important; }` so we also need the `!important` here to be able to override the default hidden behavior on the sphinx rendered scikit-learn.org. See: https://github.com/scikit-learn/scikit-learn/issues/21755 */display: inline-block !important;position: relative;}#sk-container-id-7 div.sk-text-repr-fallback {display: none;}</style><div id=\"sk-container-id-7\" class=\"sk-top-container\"><div class=\"sk-text-repr-fallback\"><pre>GridSearchCV(cv=5,\n",
       "             estimator=Pipeline(steps=[(&#x27;poly&#x27;, PolynomialFeatures()),\n",
       "                                       (&#x27;ss&#x27;, StandardScaler()),\n",
       "                                       (&#x27;enet&#x27;, ElasticNet())]),\n",
       "             param_grid={&#x27;enet__alpha&#x27;: [1, 100, 1000],\n",
       "                         &#x27;enet__l1_ratio&#x27;: [0.1]},\n",
       "             verbose=1)</pre><b>In a Jupyter environment, please rerun this cell to show the HTML representation or trust the notebook. <br />On GitHub, the HTML representation is unable to render, please try loading this page with nbviewer.org.</b></div><div class=\"sk-container\" hidden><div class=\"sk-item sk-dashed-wrapped\"><div class=\"sk-label-container\"><div class=\"sk-label sk-toggleable\"><input class=\"sk-toggleable__control sk-hidden--visually\" id=\"sk-estimator-id-31\" type=\"checkbox\" ><label for=\"sk-estimator-id-31\" class=\"sk-toggleable__label sk-toggleable__label-arrow\">GridSearchCV</label><div class=\"sk-toggleable__content\"><pre>GridSearchCV(cv=5,\n",
       "             estimator=Pipeline(steps=[(&#x27;poly&#x27;, PolynomialFeatures()),\n",
       "                                       (&#x27;ss&#x27;, StandardScaler()),\n",
       "                                       (&#x27;enet&#x27;, ElasticNet())]),\n",
       "             param_grid={&#x27;enet__alpha&#x27;: [1, 100, 1000],\n",
       "                         &#x27;enet__l1_ratio&#x27;: [0.1]},\n",
       "             verbose=1)</pre></div></div></div><div class=\"sk-parallel\"><div class=\"sk-parallel-item\"><div class=\"sk-item\"><div class=\"sk-label-container\"><div class=\"sk-label sk-toggleable\"><input class=\"sk-toggleable__control sk-hidden--visually\" id=\"sk-estimator-id-32\" type=\"checkbox\" ><label for=\"sk-estimator-id-32\" class=\"sk-toggleable__label sk-toggleable__label-arrow\">estimator: Pipeline</label><div class=\"sk-toggleable__content\"><pre>Pipeline(steps=[(&#x27;poly&#x27;, PolynomialFeatures()), (&#x27;ss&#x27;, StandardScaler()),\n",
       "                (&#x27;enet&#x27;, ElasticNet())])</pre></div></div></div><div class=\"sk-serial\"><div class=\"sk-item\"><div class=\"sk-serial\"><div class=\"sk-item\"><div class=\"sk-estimator sk-toggleable\"><input class=\"sk-toggleable__control sk-hidden--visually\" id=\"sk-estimator-id-33\" type=\"checkbox\" ><label for=\"sk-estimator-id-33\" class=\"sk-toggleable__label sk-toggleable__label-arrow\">PolynomialFeatures</label><div class=\"sk-toggleable__content\"><pre>PolynomialFeatures()</pre></div></div></div><div class=\"sk-item\"><div class=\"sk-estimator sk-toggleable\"><input class=\"sk-toggleable__control sk-hidden--visually\" id=\"sk-estimator-id-34\" type=\"checkbox\" ><label for=\"sk-estimator-id-34\" class=\"sk-toggleable__label sk-toggleable__label-arrow\">StandardScaler</label><div class=\"sk-toggleable__content\"><pre>StandardScaler()</pre></div></div></div><div class=\"sk-item\"><div class=\"sk-estimator sk-toggleable\"><input class=\"sk-toggleable__control sk-hidden--visually\" id=\"sk-estimator-id-35\" type=\"checkbox\" ><label for=\"sk-estimator-id-35\" class=\"sk-toggleable__label sk-toggleable__label-arrow\">ElasticNet</label><div class=\"sk-toggleable__content\"><pre>ElasticNet()</pre></div></div></div></div></div></div></div></div></div></div></div></div>"
      ],
      "text/plain": [
       "GridSearchCV(cv=5,\n",
       "             estimator=Pipeline(steps=[('poly', PolynomialFeatures()),\n",
       "                                       ('ss', StandardScaler()),\n",
       "                                       ('enet', ElasticNet())]),\n",
       "             param_grid={'enet__alpha': [1, 100, 1000],\n",
       "                         'enet__l1_ratio': [0.1]},\n",
       "             verbose=1)"
      ]
     },
     "execution_count": 39,
     "metadata": {},
     "output_type": "execute_result"
    }
   ],
   "source": [
    "elast_pipe = Pipeline([\n",
    "    ('poly', PolynomialFeatures(degree = 2)),\n",
    "    ('ss', StandardScaler()),\n",
    "    ('enet', ElasticNet())\n",
    "])\n",
    "\n",
    "elast_params = {\n",
    "    'enet__alpha': [1, 100, 1000],\n",
    "    'enet__l1_ratio': [0.1],\n",
    "    \n",
    "}\n",
    "\n",
    "elast_gs = GridSearchCV(elast_pipe, param_grid = elast_params, cv = 5, verbose = 1)\n",
    "elast_gs.fit(X_train, y_train_log)"
   ]
  },
  {
   "cell_type": "code",
   "execution_count": 40,
   "id": "01eaf89d",
   "metadata": {},
   "outputs": [
    {
     "name": "stdout",
     "output_type": "stream",
     "text": [
      "{'enet__alpha': 1, 'enet__l1_ratio': 0.1}\n",
      "0.2990846669779248\n"
     ]
    }
   ],
   "source": [
    "elast_train_preds = elast_gs.predict(X_train)\n",
    "elast_val_preds = elast_gs.predict(X_val)\n",
    "actual_values = y_val\n",
    "print(elast_gs.best_params_)\n",
    "print(elast_gs.best_score_)"
   ]
  },
  {
   "cell_type": "markdown",
   "id": "73f470a0",
   "metadata": {},
   "source": [
    "The R squared values for the training set for elasticnet was 0.316 and the val set was 0.311. The RMSE score for the training was 8.769 and the val score was 12.37."
   ]
  },
  {
   "cell_type": "code",
   "execution_count": 41,
   "id": "40ddd4ba",
   "metadata": {},
   "outputs": [
    {
     "name": "stdout",
     "output_type": "stream",
     "text": [
      "ElasticNet Train R squared: 0.31667054449835186\n",
      "ElasticNet Validation R squared: 0.31089742552100275\n",
      "\n",
      "\n",
      "ElasticNet Train RMSE: 8.769397208199793\n",
      "ElasticNet Validation RMSE: 12.371205343683387\n"
     ]
    }
   ],
   "source": [
    "print('ElasticNet Train R squared:', elast_gs.score(X_train, y_train_log))\n",
    "print('ElasticNet Validation R squared:', elast_gs.score(X_val, y_val_log))\n",
    "\n",
    "print('\\n')\n",
    "\n",
    "print('ElasticNet Train RMSE:', mean_squared_error(y_train,np.exp(elast_train_preds), squared = False))\n",
    "print('ElasticNet Validation RMSE:', mean_squared_error(y_val, np.exp(elast_val_preds), squared = False))"
   ]
  },
  {
   "cell_type": "markdown",
   "id": "f26a771f",
   "metadata": {},
   "source": [
    "The plot below looks at the elasticnet predicted values and the actual values. As we can see there are larger number of points accumuated near the 0-50 for the predicted values."
   ]
  },
  {
   "cell_type": "code",
   "execution_count": 93,
   "id": "c06ea2ba",
   "metadata": {},
   "outputs": [
    {
     "data": {
      "image/png": "[encoded data removed]",
      "text/plain": [
       "<Figure size 576x432 with 1 Axes>"
      ]
     },
     "metadata": {
      "needs_background": "light"
     },
     "output_type": "display_data"
    }
   ],
   "source": [
    "plt.figure(figsize=(8,6))\n",
    "plt.scatter(np.exp(elast_val_preds), actual_values)\n",
    "plt.xlabel('Predicted')\n",
    "plt.ylabel('Actual')\n",
    "plt.title('ElasticNet Regression');"
   ]
  },
  {
   "cell_type": "markdown",
   "id": "0e062bba",
   "metadata": {},
   "source": [
    "After comparing all the four linear regressions and regularizations, Linear Regression did the best in R squared score. It had a high R Squared score at .7."
   ]
  },
  {
   "cell_type": "markdown",
   "id": "1856c5ef",
   "metadata": {},
   "source": [
    "### K Nearest Neighbors"
   ]
  },
  {
   "cell_type": "markdown",
   "id": "d37bcd5d",
   "metadata": {},
   "source": [
    "A pipeline and gridsearch was done for KNN Neighbor. the pipeline includes standardscaler and KNeighborregressor. The parameters for KNN were between 8,10, 12. The best parameters for KNN was 12. "
   ]
  },
  {
   "cell_type": "code",
   "execution_count": 88,
   "id": "344c6e17",
   "metadata": {},
   "outputs": [
    {
     "data": {
      "text/html": [
       "<style>#sk-container-id-14 {color: black;background-color: white;}#sk-container-id-14 pre{padding: 0;}#sk-container-id-14 div.sk-toggleable {background-color: white;}#sk-container-id-14 label.sk-toggleable__label {cursor: pointer;display: block;width: 100%;margin-bottom: 0;padding: 0.3em;box-sizing: border-box;text-align: center;}#sk-container-id-14 label.sk-toggleable__label-arrow:before {content: \"▸\";float: left;margin-right: 0.25em;color: #696969;}#sk-container-id-14 label.sk-toggleable__label-arrow:hover:before {color: black;}#sk-container-id-14 div.sk-estimator:hover label.sk-toggleable__label-arrow:before {color: black;}#sk-container-id-14 div.sk-toggleable__content {max-height: 0;max-width: 0;overflow: hidden;text-align: left;background-color: #f0f8ff;}#sk-container-id-14 div.sk-toggleable__content pre {margin: 0.2em;color: black;border-radius: 0.25em;background-color: #f0f8ff;}#sk-container-id-14 input.sk-toggleable__control:checked~div.sk-toggleable__content {max-height: 200px;max-width: 100%;overflow: auto;}#sk-container-id-14 input.sk-toggleable__control:checked~label.sk-toggleable__label-arrow:before {content: \"▾\";}#sk-container-id-14 div.sk-estimator input.sk-toggleable__control:checked~label.sk-toggleable__label {background-color: #d4ebff;}#sk-container-id-14 div.sk-label input.sk-toggleable__control:checked~label.sk-toggleable__label {background-color: #d4ebff;}#sk-container-id-14 input.sk-hidden--visually {border: 0;clip: rect(1px 1px 1px 1px);clip: rect(1px, 1px, 1px, 1px);height: 1px;margin: -1px;overflow: hidden;padding: 0;position: absolute;width: 1px;}#sk-container-id-14 div.sk-estimator {font-family: monospace;background-color: #f0f8ff;border: 1px dotted black;border-radius: 0.25em;box-sizing: border-box;margin-bottom: 0.5em;}#sk-container-id-14 div.sk-estimator:hover {background-color: #d4ebff;}#sk-container-id-14 div.sk-parallel-item::after {content: \"\";width: 100%;border-bottom: 1px solid gray;flex-grow: 1;}#sk-container-id-14 div.sk-label:hover label.sk-toggleable__label {background-color: #d4ebff;}#sk-container-id-14 div.sk-serial::before {content: \"\";position: absolute;border-left: 1px solid gray;box-sizing: border-box;top: 0;bottom: 0;left: 50%;z-index: 0;}#sk-container-id-14 div.sk-serial {display: flex;flex-direction: column;align-items: center;background-color: white;padding-right: 0.2em;padding-left: 0.2em;position: relative;}#sk-container-id-14 div.sk-item {position: relative;z-index: 1;}#sk-container-id-14 div.sk-parallel {display: flex;align-items: stretch;justify-content: center;background-color: white;position: relative;}#sk-container-id-14 div.sk-item::before, #sk-container-id-14 div.sk-parallel-item::before {content: \"\";position: absolute;border-left: 1px solid gray;box-sizing: border-box;top: 0;bottom: 0;left: 50%;z-index: -1;}#sk-container-id-14 div.sk-parallel-item {display: flex;flex-direction: column;z-index: 1;position: relative;background-color: white;}#sk-container-id-14 div.sk-parallel-item:first-child::after {align-self: flex-end;width: 50%;}#sk-container-id-14 div.sk-parallel-item:last-child::after {align-self: flex-start;width: 50%;}#sk-container-id-14 div.sk-parallel-item:only-child::after {width: 0;}#sk-container-id-14 div.sk-dashed-wrapped {border: 1px dashed gray;margin: 0 0.4em 0.5em 0.4em;box-sizing: border-box;padding-bottom: 0.4em;background-color: white;}#sk-container-id-14 div.sk-label label {font-family: monospace;font-weight: bold;display: inline-block;line-height: 1.2em;}#sk-container-id-14 div.sk-label-container {text-align: center;}#sk-container-id-14 div.sk-container {/* jupyter's `normalize.less` sets `[hidden] { display: none; }` but bootstrap.min.css set `[hidden] { display: none !important; }` so we also need the `!important` here to be able to override the default hidden behavior on the sphinx rendered scikit-learn.org. See: https://github.com/scikit-learn/scikit-learn/issues/21755 */display: inline-block !important;position: relative;}#sk-container-id-14 div.sk-text-repr-fallback {display: none;}</style><div id=\"sk-container-id-14\" class=\"sk-top-container\"><div class=\"sk-text-repr-fallback\"><pre>GridSearchCV(estimator=Pipeline(steps=[(&#x27;ss&#x27;, StandardScaler()),\n",
       "                                       (&#x27;knn&#x27;, KNeighborsRegressor())]),\n",
       "             param_grid={&#x27;knn__n_neighbors&#x27;: [8, 10, 12]})</pre><b>In a Jupyter environment, please rerun this cell to show the HTML representation or trust the notebook. <br />On GitHub, the HTML representation is unable to render, please try loading this page with nbviewer.org.</b></div><div class=\"sk-container\" hidden><div class=\"sk-item sk-dashed-wrapped\"><div class=\"sk-label-container\"><div class=\"sk-label sk-toggleable\"><input class=\"sk-toggleable__control sk-hidden--visually\" id=\"sk-estimator-id-60\" type=\"checkbox\" ><label for=\"sk-estimator-id-60\" class=\"sk-toggleable__label sk-toggleable__label-arrow\">GridSearchCV</label><div class=\"sk-toggleable__content\"><pre>GridSearchCV(estimator=Pipeline(steps=[(&#x27;ss&#x27;, StandardScaler()),\n",
       "                                       (&#x27;knn&#x27;, KNeighborsRegressor())]),\n",
       "             param_grid={&#x27;knn__n_neighbors&#x27;: [8, 10, 12]})</pre></div></div></div><div class=\"sk-parallel\"><div class=\"sk-parallel-item\"><div class=\"sk-item\"><div class=\"sk-label-container\"><div class=\"sk-label sk-toggleable\"><input class=\"sk-toggleable__control sk-hidden--visually\" id=\"sk-estimator-id-61\" type=\"checkbox\" ><label for=\"sk-estimator-id-61\" class=\"sk-toggleable__label sk-toggleable__label-arrow\">estimator: Pipeline</label><div class=\"sk-toggleable__content\"><pre>Pipeline(steps=[(&#x27;ss&#x27;, StandardScaler()), (&#x27;knn&#x27;, KNeighborsRegressor())])</pre></div></div></div><div class=\"sk-serial\"><div class=\"sk-item\"><div class=\"sk-serial\"><div class=\"sk-item\"><div class=\"sk-estimator sk-toggleable\"><input class=\"sk-toggleable__control sk-hidden--visually\" id=\"sk-estimator-id-62\" type=\"checkbox\" ><label for=\"sk-estimator-id-62\" class=\"sk-toggleable__label sk-toggleable__label-arrow\">StandardScaler</label><div class=\"sk-toggleable__content\"><pre>StandardScaler()</pre></div></div></div><div class=\"sk-item\"><div class=\"sk-estimator sk-toggleable\"><input class=\"sk-toggleable__control sk-hidden--visually\" id=\"sk-estimator-id-63\" type=\"checkbox\" ><label for=\"sk-estimator-id-63\" class=\"sk-toggleable__label sk-toggleable__label-arrow\">KNeighborsRegressor</label><div class=\"sk-toggleable__content\"><pre>KNeighborsRegressor()</pre></div></div></div></div></div></div></div></div></div></div></div></div>"
      ],
      "text/plain": [
       "GridSearchCV(estimator=Pipeline(steps=[('ss', StandardScaler()),\n",
       "                                       ('knn', KNeighborsRegressor())]),\n",
       "             param_grid={'knn__n_neighbors': [8, 10, 12]})"
      ]
     },
     "execution_count": 88,
     "metadata": {},
     "output_type": "execute_result"
    }
   ],
   "source": [
    "knn_pipe = Pipeline([\n",
    "    ('ss', StandardScaler()),\n",
    "    ('knn', KNeighborsRegressor())\n",
    "])\n",
    "\n",
    "knn_params = {\n",
    "    'knn__n_neighbors': [8,10, 12]\n",
    "}\n",
    "\n",
    "knn_gs = GridSearchCV(knn_pipe, param_grid = knn_params)\n",
    "\n",
    "knn_gs.fit(X_train, y_train)"
   ]
  },
  {
   "cell_type": "code",
   "execution_count": 89,
   "id": "b45c7282",
   "metadata": {},
   "outputs": [
    {
     "data": {
      "text/plain": [
       "{'knn__n_neighbors': 12}"
      ]
     },
     "execution_count": 89,
     "metadata": {},
     "output_type": "execute_result"
    }
   ],
   "source": [
    "knn_train_preds = knn_gs.predict(X_train)\n",
    "knn_val_preds = knn_gs.predict(X_val)\n",
    "knn_gs.best_params_"
   ]
  },
  {
   "cell_type": "markdown",
   "id": "738e219d",
   "metadata": {},
   "source": [
    "The r^2 value for train was 0.625 and the val was 0.375. As we can see, the train did alright, but the val scored very low. This indicates that the model is overfitting. When looking at the RMSE for the train was 6.11 and the RMSE for the val was 10.45"
   ]
  },
  {
   "cell_type": "code",
   "execution_count": 58,
   "id": "5dbd7023",
   "metadata": {},
   "outputs": [
    {
     "name": "stdout",
     "output_type": "stream",
     "text": [
      "KNN Train R squared: 0.6254313627109128\n",
      "KNN Validation R squared: 0.3751825263294801\n",
      "\n",
      "\n",
      "KNN Train RMSE: 6.1132026896893645\n",
      "KNN Validation RMSE: 10.455960526780421\n"
     ]
    }
   ],
   "source": [
    "print('KNN Train R squared:', knn_gs.score(X_train, y_train))\n",
    "print('KNN Validation R squared:', knn_gs.score(X_val, y_val))\n",
    "\n",
    "print('\\n')\n",
    "\n",
    "print('KNN Train RMSE:', mean_squared_error(y_train, knn_train_preds, squared = False))\n",
    "print('KNN Validation RMSE:', mean_squared_error(y_val, knn_val_preds, squared = False))"
   ]
  },
  {
   "cell_type": "markdown",
   "id": "b1f79d8f",
   "metadata": {},
   "source": [
    "### Decision Tree"
   ]
  },
  {
   "cell_type": "markdown",
   "id": "9f8db186",
   "metadata": {},
   "source": [
    "A decision tree was done, in which a random state was included to keep the results similar. Three paramters were looked at which include max_depth, max_features, and min_samples_split. The max depth looks at maximum depth of the tree. min_samples_split looks at the minimum number of splits to split a node. The max_features looks at number of features for best split. The best paramters that were found were 3 for max_depth, 0.65 for max_features, and 2 for min_samples_split\n",
    "\n",
    "https://scikit-learn.org/stable/modules/generated/sklearn.tree.DecisionTreeClassifier.html"
   ]
  },
  {
   "cell_type": "code",
   "execution_count": 62,
   "id": "d5a823a6",
   "metadata": {},
   "outputs": [
    {
     "data": {
      "text/html": [
       "<style>#sk-container-id-7 {color: black;background-color: white;}#sk-container-id-7 pre{padding: 0;}#sk-container-id-7 div.sk-toggleable {background-color: white;}#sk-container-id-7 label.sk-toggleable__label {cursor: pointer;display: block;width: 100%;margin-bottom: 0;padding: 0.3em;box-sizing: border-box;text-align: center;}#sk-container-id-7 label.sk-toggleable__label-arrow:before {content: \"▸\";float: left;margin-right: 0.25em;color: #696969;}#sk-container-id-7 label.sk-toggleable__label-arrow:hover:before {color: black;}#sk-container-id-7 div.sk-estimator:hover label.sk-toggleable__label-arrow:before {color: black;}#sk-container-id-7 div.sk-toggleable__content {max-height: 0;max-width: 0;overflow: hidden;text-align: left;background-color: #f0f8ff;}#sk-container-id-7 div.sk-toggleable__content pre {margin: 0.2em;color: black;border-radius: 0.25em;background-color: #f0f8ff;}#sk-container-id-7 input.sk-toggleable__control:checked~div.sk-toggleable__content {max-height: 200px;max-width: 100%;overflow: auto;}#sk-container-id-7 input.sk-toggleable__control:checked~label.sk-toggleable__label-arrow:before {content: \"▾\";}#sk-container-id-7 div.sk-estimator input.sk-toggleable__control:checked~label.sk-toggleable__label {background-color: #d4ebff;}#sk-container-id-7 div.sk-label input.sk-toggleable__control:checked~label.sk-toggleable__label {background-color: #d4ebff;}#sk-container-id-7 input.sk-hidden--visually {border: 0;clip: rect(1px 1px 1px 1px);clip: rect(1px, 1px, 1px, 1px);height: 1px;margin: -1px;overflow: hidden;padding: 0;position: absolute;width: 1px;}#sk-container-id-7 div.sk-estimator {font-family: monospace;background-color: #f0f8ff;border: 1px dotted black;border-radius: 0.25em;box-sizing: border-box;margin-bottom: 0.5em;}#sk-container-id-7 div.sk-estimator:hover {background-color: #d4ebff;}#sk-container-id-7 div.sk-parallel-item::after {content: \"\";width: 100%;border-bottom: 1px solid gray;flex-grow: 1;}#sk-container-id-7 div.sk-label:hover label.sk-toggleable__label {background-color: #d4ebff;}#sk-container-id-7 div.sk-serial::before {content: \"\";position: absolute;border-left: 1px solid gray;box-sizing: border-box;top: 0;bottom: 0;left: 50%;z-index: 0;}#sk-container-id-7 div.sk-serial {display: flex;flex-direction: column;align-items: center;background-color: white;padding-right: 0.2em;padding-left: 0.2em;position: relative;}#sk-container-id-7 div.sk-item {position: relative;z-index: 1;}#sk-container-id-7 div.sk-parallel {display: flex;align-items: stretch;justify-content: center;background-color: white;position: relative;}#sk-container-id-7 div.sk-item::before, #sk-container-id-7 div.sk-parallel-item::before {content: \"\";position: absolute;border-left: 1px solid gray;box-sizing: border-box;top: 0;bottom: 0;left: 50%;z-index: -1;}#sk-container-id-7 div.sk-parallel-item {display: flex;flex-direction: column;z-index: 1;position: relative;background-color: white;}#sk-container-id-7 div.sk-parallel-item:first-child::after {align-self: flex-end;width: 50%;}#sk-container-id-7 div.sk-parallel-item:last-child::after {align-self: flex-start;width: 50%;}#sk-container-id-7 div.sk-parallel-item:only-child::after {width: 0;}#sk-container-id-7 div.sk-dashed-wrapped {border: 1px dashed gray;margin: 0 0.4em 0.5em 0.4em;box-sizing: border-box;padding-bottom: 0.4em;background-color: white;}#sk-container-id-7 div.sk-label label {font-family: monospace;font-weight: bold;display: inline-block;line-height: 1.2em;}#sk-container-id-7 div.sk-label-container {text-align: center;}#sk-container-id-7 div.sk-container {/* jupyter's `normalize.less` sets `[hidden] { display: none; }` but bootstrap.min.css set `[hidden] { display: none !important; }` so we also need the `!important` here to be able to override the default hidden behavior on the sphinx rendered scikit-learn.org. See: https://github.com/scikit-learn/scikit-learn/issues/21755 */display: inline-block !important;position: relative;}#sk-container-id-7 div.sk-text-repr-fallback {display: none;}</style><div id=\"sk-container-id-7\" class=\"sk-top-container\"><div class=\"sk-text-repr-fallback\"><pre>GridSearchCV(estimator=Pipeline(steps=[(&#x27;dt&#x27;,\n",
       "                                        DecisionTreeRegressor(random_state=13))]),\n",
       "             param_grid={&#x27;dt__max_depth&#x27;: [3, 5, 7, 10],\n",
       "                         &#x27;dt__max_features&#x27;: [0.65, 0.75, 0.85, 1],\n",
       "                         &#x27;dt__min_samples_split&#x27;: [2, 4, 5]})</pre><b>In a Jupyter environment, please rerun this cell to show the HTML representation or trust the notebook. <br />On GitHub, the HTML representation is unable to render, please try loading this page with nbviewer.org.</b></div><div class=\"sk-container\" hidden><div class=\"sk-item sk-dashed-wrapped\"><div class=\"sk-label-container\"><div class=\"sk-label sk-toggleable\"><input class=\"sk-toggleable__control sk-hidden--visually\" id=\"sk-estimator-id-29\" type=\"checkbox\" ><label for=\"sk-estimator-id-29\" class=\"sk-toggleable__label sk-toggleable__label-arrow\">GridSearchCV</label><div class=\"sk-toggleable__content\"><pre>GridSearchCV(estimator=Pipeline(steps=[(&#x27;dt&#x27;,\n",
       "                                        DecisionTreeRegressor(random_state=13))]),\n",
       "             param_grid={&#x27;dt__max_depth&#x27;: [3, 5, 7, 10],\n",
       "                         &#x27;dt__max_features&#x27;: [0.65, 0.75, 0.85, 1],\n",
       "                         &#x27;dt__min_samples_split&#x27;: [2, 4, 5]})</pre></div></div></div><div class=\"sk-parallel\"><div class=\"sk-parallel-item\"><div class=\"sk-item\"><div class=\"sk-label-container\"><div class=\"sk-label sk-toggleable\"><input class=\"sk-toggleable__control sk-hidden--visually\" id=\"sk-estimator-id-30\" type=\"checkbox\" ><label for=\"sk-estimator-id-30\" class=\"sk-toggleable__label sk-toggleable__label-arrow\">estimator: Pipeline</label><div class=\"sk-toggleable__content\"><pre>Pipeline(steps=[(&#x27;dt&#x27;, DecisionTreeRegressor(random_state=13))])</pre></div></div></div><div class=\"sk-serial\"><div class=\"sk-item\"><div class=\"sk-serial\"><div class=\"sk-item\"><div class=\"sk-estimator sk-toggleable\"><input class=\"sk-toggleable__control sk-hidden--visually\" id=\"sk-estimator-id-31\" type=\"checkbox\" ><label for=\"sk-estimator-id-31\" class=\"sk-toggleable__label sk-toggleable__label-arrow\">DecisionTreeRegressor</label><div class=\"sk-toggleable__content\"><pre>DecisionTreeRegressor(random_state=13)</pre></div></div></div></div></div></div></div></div></div></div></div></div>"
      ],
      "text/plain": [
       "GridSearchCV(estimator=Pipeline(steps=[('dt',\n",
       "                                        DecisionTreeRegressor(random_state=13))]),\n",
       "             param_grid={'dt__max_depth': [3, 5, 7, 10],\n",
       "                         'dt__max_features': [0.65, 0.75, 0.85, 1],\n",
       "                         'dt__min_samples_split': [2, 4, 5]})"
      ]
     },
     "execution_count": 62,
     "metadata": {},
     "output_type": "execute_result"
    }
   ],
   "source": [
    "dt_pipe = Pipeline([\n",
    "    ('dt', DecisionTreeRegressor(random_state = 13))\n",
    "])\n",
    "\n",
    "dt_params = {\n",
    "    'dt__max_depth': [3, 5, 7, 10],\n",
    "    'dt__max_features': [0.65, 0.75, 0.85, 1],\n",
    "    'dt__min_samples_split': [2, 4, 5],\n",
    "}\n",
    "\n",
    "dt_gs = GridSearchCV(dt_pipe, param_grid = dt_params)\n",
    "\n",
    "#fit model\n",
    "dt_gs.fit(X_train, y_train)"
   ]
  },
  {
   "cell_type": "code",
   "execution_count": 64,
   "id": "dd974341",
   "metadata": {},
   "outputs": [
    {
     "data": {
      "text/plain": [
       "{'dt__max_depth': 3, 'dt__max_features': 0.65, 'dt__min_samples_split': 2}"
      ]
     },
     "execution_count": 64,
     "metadata": {},
     "output_type": "execute_result"
    }
   ],
   "source": [
    "#train model\n",
    "dt_train_preds = dt_gs.predict(X_train)\n",
    "dt_val_preds = dt_gs.predict(X_val)\n",
    "#best params\n",
    "dt_gs.best_params_"
   ]
  },
  {
   "cell_type": "markdown",
   "id": "6512267d",
   "metadata": {},
   "source": [
    "The R squared value for the train was 0.4247 and for val was 0.2548. The scores are relatively low and we see some overfitting occuring due to the val score being lower than the training score. The RMSE for the train set was 7.57 and for the val set was 11.418 "
   ]
  },
  {
   "cell_type": "code",
   "execution_count": 65,
   "id": "9f7b1eef",
   "metadata": {},
   "outputs": [
    {
     "name": "stdout",
     "output_type": "stream",
     "text": [
      "Decision Tree Train R squared: 0.4247346814703339\n",
      "Decision Tree Validation R squared: 0.25483951789373427\n",
      "\n",
      "\n",
      "Decision Tree Train RMSE: 7.575951506694904\n",
      "Decision Tree Validation RMSE: 11.418584214892437\n"
     ]
    }
   ],
   "source": [
    "#return metrics\n",
    "print('Decision Tree Train R squared:', dt_gs.score(X_train, y_train))\n",
    "print('Decision Tree Validation R squared:', dt_gs.score(X_val, y_val))\n",
    "\n",
    "print('\\n')\n",
    "\n",
    "print('Decision Tree Train RMSE:', mean_squared_error(y_train, dt_train_preds, squared = False))\n",
    "print('Decision Tree Validation RMSE:', mean_squared_error(y_val, dt_val_preds, squared = False))"
   ]
  },
  {
   "cell_type": "markdown",
   "id": "a618e098",
   "metadata": {},
   "source": [
    "### Bagging Regressor"
   ]
  },
  {
   "cell_type": "markdown",
   "id": "9dd7e0b9",
   "metadata": {},
   "source": [
    "To be consistent for each of the models, the random_state was put at 13. The parameters that were used for bagging regressor were n_estimators looks at the base estimators, max_samples looks at the number of samples to train for each estimator, and max features looks at number of featured to train for the base estimator. The best paramters were 0.75 for max_features, 0.75 for max_samples, and 15 for n_estimators. "
   ]
  },
  {
   "cell_type": "code",
   "execution_count": 54,
   "id": "da79c8e8",
   "metadata": {},
   "outputs": [
    {
     "data": {
      "text/html": [
       "<style>#sk-container-id-9 {color: black;background-color: white;}#sk-container-id-9 pre{padding: 0;}#sk-container-id-9 div.sk-toggleable {background-color: white;}#sk-container-id-9 label.sk-toggleable__label {cursor: pointer;display: block;width: 100%;margin-bottom: 0;padding: 0.3em;box-sizing: border-box;text-align: center;}#sk-container-id-9 label.sk-toggleable__label-arrow:before {content: \"▸\";float: left;margin-right: 0.25em;color: #696969;}#sk-container-id-9 label.sk-toggleable__label-arrow:hover:before {color: black;}#sk-container-id-9 div.sk-estimator:hover label.sk-toggleable__label-arrow:before {color: black;}#sk-container-id-9 div.sk-toggleable__content {max-height: 0;max-width: 0;overflow: hidden;text-align: left;background-color: #f0f8ff;}#sk-container-id-9 div.sk-toggleable__content pre {margin: 0.2em;color: black;border-radius: 0.25em;background-color: #f0f8ff;}#sk-container-id-9 input.sk-toggleable__control:checked~div.sk-toggleable__content {max-height: 200px;max-width: 100%;overflow: auto;}#sk-container-id-9 input.sk-toggleable__control:checked~label.sk-toggleable__label-arrow:before {content: \"▾\";}#sk-container-id-9 div.sk-estimator input.sk-toggleable__control:checked~label.sk-toggleable__label {background-color: #d4ebff;}#sk-container-id-9 div.sk-label input.sk-toggleable__control:checked~label.sk-toggleable__label {background-color: #d4ebff;}#sk-container-id-9 input.sk-hidden--visually {border: 0;clip: rect(1px 1px 1px 1px);clip: rect(1px, 1px, 1px, 1px);height: 1px;margin: -1px;overflow: hidden;padding: 0;position: absolute;width: 1px;}#sk-container-id-9 div.sk-estimator {font-family: monospace;background-color: #f0f8ff;border: 1px dotted black;border-radius: 0.25em;box-sizing: border-box;margin-bottom: 0.5em;}#sk-container-id-9 div.sk-estimator:hover {background-color: #d4ebff;}#sk-container-id-9 div.sk-parallel-item::after {content: \"\";width: 100%;border-bottom: 1px solid gray;flex-grow: 1;}#sk-container-id-9 div.sk-label:hover label.sk-toggleable__label {background-color: #d4ebff;}#sk-container-id-9 div.sk-serial::before {content: \"\";position: absolute;border-left: 1px solid gray;box-sizing: border-box;top: 0;bottom: 0;left: 50%;z-index: 0;}#sk-container-id-9 div.sk-serial {display: flex;flex-direction: column;align-items: center;background-color: white;padding-right: 0.2em;padding-left: 0.2em;position: relative;}#sk-container-id-9 div.sk-item {position: relative;z-index: 1;}#sk-container-id-9 div.sk-parallel {display: flex;align-items: stretch;justify-content: center;background-color: white;position: relative;}#sk-container-id-9 div.sk-item::before, #sk-container-id-9 div.sk-parallel-item::before {content: \"\";position: absolute;border-left: 1px solid gray;box-sizing: border-box;top: 0;bottom: 0;left: 50%;z-index: -1;}#sk-container-id-9 div.sk-parallel-item {display: flex;flex-direction: column;z-index: 1;position: relative;background-color: white;}#sk-container-id-9 div.sk-parallel-item:first-child::after {align-self: flex-end;width: 50%;}#sk-container-id-9 div.sk-parallel-item:last-child::after {align-self: flex-start;width: 50%;}#sk-container-id-9 div.sk-parallel-item:only-child::after {width: 0;}#sk-container-id-9 div.sk-dashed-wrapped {border: 1px dashed gray;margin: 0 0.4em 0.5em 0.4em;box-sizing: border-box;padding-bottom: 0.4em;background-color: white;}#sk-container-id-9 div.sk-label label {font-family: monospace;font-weight: bold;display: inline-block;line-height: 1.2em;}#sk-container-id-9 div.sk-label-container {text-align: center;}#sk-container-id-9 div.sk-container {/* jupyter's `normalize.less` sets `[hidden] { display: none; }` but bootstrap.min.css set `[hidden] { display: none !important; }` so we also need the `!important` here to be able to override the default hidden behavior on the sphinx rendered scikit-learn.org. See: https://github.com/scikit-learn/scikit-learn/issues/21755 */display: inline-block !important;position: relative;}#sk-container-id-9 div.sk-text-repr-fallback {display: none;}</style><div id=\"sk-container-id-9\" class=\"sk-top-container\"><div class=\"sk-text-repr-fallback\"><pre>GridSearchCV(estimator=Pipeline(steps=[(&#x27;bag&#x27;,\n",
       "                                        BaggingRegressor(random_state=13))]),\n",
       "             param_grid={&#x27;bag__max_features&#x27;: [0.65, 0.75, 0.85],\n",
       "                         &#x27;bag__max_samples&#x27;: [0.65, 0.75, 0.85],\n",
       "                         &#x27;bag__n_estimators&#x27;: [11, 13, 15]})</pre><b>In a Jupyter environment, please rerun this cell to show the HTML representation or trust the notebook. <br />On GitHub, the HTML representation is unable to render, please try loading this page with nbviewer.org.</b></div><div class=\"sk-container\" hidden><div class=\"sk-item sk-dashed-wrapped\"><div class=\"sk-label-container\"><div class=\"sk-label sk-toggleable\"><input class=\"sk-toggleable__control sk-hidden--visually\" id=\"sk-estimator-id-39\" type=\"checkbox\" ><label for=\"sk-estimator-id-39\" class=\"sk-toggleable__label sk-toggleable__label-arrow\">GridSearchCV</label><div class=\"sk-toggleable__content\"><pre>GridSearchCV(estimator=Pipeline(steps=[(&#x27;bag&#x27;,\n",
       "                                        BaggingRegressor(random_state=13))]),\n",
       "             param_grid={&#x27;bag__max_features&#x27;: [0.65, 0.75, 0.85],\n",
       "                         &#x27;bag__max_samples&#x27;: [0.65, 0.75, 0.85],\n",
       "                         &#x27;bag__n_estimators&#x27;: [11, 13, 15]})</pre></div></div></div><div class=\"sk-parallel\"><div class=\"sk-parallel-item\"><div class=\"sk-item\"><div class=\"sk-label-container\"><div class=\"sk-label sk-toggleable\"><input class=\"sk-toggleable__control sk-hidden--visually\" id=\"sk-estimator-id-40\" type=\"checkbox\" ><label for=\"sk-estimator-id-40\" class=\"sk-toggleable__label sk-toggleable__label-arrow\">estimator: Pipeline</label><div class=\"sk-toggleable__content\"><pre>Pipeline(steps=[(&#x27;bag&#x27;, BaggingRegressor(random_state=13))])</pre></div></div></div><div class=\"sk-serial\"><div class=\"sk-item\"><div class=\"sk-serial\"><div class=\"sk-item\"><div class=\"sk-estimator sk-toggleable\"><input class=\"sk-toggleable__control sk-hidden--visually\" id=\"sk-estimator-id-41\" type=\"checkbox\" ><label for=\"sk-estimator-id-41\" class=\"sk-toggleable__label sk-toggleable__label-arrow\">BaggingRegressor</label><div class=\"sk-toggleable__content\"><pre>BaggingRegressor(random_state=13)</pre></div></div></div></div></div></div></div></div></div></div></div></div>"
      ],
      "text/plain": [
       "GridSearchCV(estimator=Pipeline(steps=[('bag',\n",
       "                                        BaggingRegressor(random_state=13))]),\n",
       "             param_grid={'bag__max_features': [0.65, 0.75, 0.85],\n",
       "                         'bag__max_samples': [0.65, 0.75, 0.85],\n",
       "                         'bag__n_estimators': [11, 13, 15]})"
      ]
     },
     "execution_count": 54,
     "metadata": {},
     "output_type": "execute_result"
    }
   ],
   "source": [
    "bag_pipe = Pipeline([\n",
    "    ('bag', BaggingRegressor(random_state = 13))\n",
    "])\n",
    "\n",
    "bag_params = {\n",
    "    'bag__n_estimators': [11,13,15],\n",
    "    'bag__max_samples': [0.65, 0.75, 0.85],\n",
    "    'bag__max_features': [0.65, 0.75, 0.85],\n",
    "}\n",
    "\n",
    "bag_gs = GridSearchCV(bag_pipe, param_grid = bag_params)\n",
    "\n",
    "bag_gs.fit(X_train, y_train)"
   ]
  },
  {
   "cell_type": "code",
   "execution_count": 55,
   "id": "136346cf",
   "metadata": {},
   "outputs": [
    {
     "data": {
      "text/plain": [
       "{'bag__max_features': 0.65, 'bag__max_samples': 0.85, 'bag__n_estimators': 15}"
      ]
     },
     "execution_count": 55,
     "metadata": {},
     "output_type": "execute_result"
    }
   ],
   "source": [
    "bag_train_preds = bag_gs.predict(X_train)\n",
    "bag_val_preds = bag_gs.predict(X_val)\n",
    "bag_gs.best_params_"
   ]
  },
  {
   "cell_type": "markdown",
   "id": "6ac02122",
   "metadata": {},
   "source": [
    "The R squared value for train set was 0.91 and the val set was 0.47. This model had a high train score, but a low val score. This indicates the model is overfitting. The RMSE for the train was 2.85 and the val was 9.62 "
   ]
  },
  {
   "cell_type": "code",
   "execution_count": 56,
   "id": "26cf3cb1",
   "metadata": {},
   "outputs": [
    {
     "name": "stdout",
     "output_type": "stream",
     "text": [
      "Bag Train R squared: 0.9184257001740104\n",
      "Bag Validation R squared: 0.4709290718648731\n",
      "\n",
      "\n",
      "Bag Train RMSE: 2.852855451832009\n",
      "Bag Validation RMSE: 9.621533600688716\n"
     ]
    }
   ],
   "source": [
    "print('Bag Train R squared:', bag_gs.score(X_train, y_train))\n",
    "print('Bag Validation R squared:', bag_gs.score(X_val, y_val))\n",
    "\n",
    "print('\\n')\n",
    "\n",
    "print('Bag Train RMSE:', mean_squared_error(y_train, bag_train_preds, squared = False))\n",
    "print('Bag Validation RMSE:', mean_squared_error(y_val, bag_val_preds, squared = False))"
   ]
  },
  {
   "cell_type": "markdown",
   "id": "187acb32",
   "metadata": {},
   "source": [
    "### RandomForest"
   ]
  },
  {
   "cell_type": "markdown",
   "id": "10b9c11c",
   "metadata": {},
   "source": [
    "RandomForest was done with the parameters including: n_estimators which is the number of trees, max_depth is the maximum depth of trees, max_features is the number of features for the best split, and max_samples is the number of samples to train based of each estimator. The best paramters were 9 for max_depth, sqrt for max_features, 0.85 for max_samples, and 150 for n_estimators.\n",
    "\n",
    "https://scikit-learn.org/stable/modules/generated/sklearn.ensemble.RandomForestRegressor.html?highlight=randomforest#sklearn.ensemble.RandomForestRegressor"
   ]
  },
  {
   "cell_type": "code",
   "execution_count": 93,
   "id": "70752bc7",
   "metadata": {},
   "outputs": [
    {
     "data": {
      "text/html": [
       "<style>#sk-container-id-11 {color: black;background-color: white;}#sk-container-id-11 pre{padding: 0;}#sk-container-id-11 div.sk-toggleable {background-color: white;}#sk-container-id-11 label.sk-toggleable__label {cursor: pointer;display: block;width: 100%;margin-bottom: 0;padding: 0.3em;box-sizing: border-box;text-align: center;}#sk-container-id-11 label.sk-toggleable__label-arrow:before {content: \"▸\";float: left;margin-right: 0.25em;color: #696969;}#sk-container-id-11 label.sk-toggleable__label-arrow:hover:before {color: black;}#sk-container-id-11 div.sk-estimator:hover label.sk-toggleable__label-arrow:before {color: black;}#sk-container-id-11 div.sk-toggleable__content {max-height: 0;max-width: 0;overflow: hidden;text-align: left;background-color: #f0f8ff;}#sk-container-id-11 div.sk-toggleable__content pre {margin: 0.2em;color: black;border-radius: 0.25em;background-color: #f0f8ff;}#sk-container-id-11 input.sk-toggleable__control:checked~div.sk-toggleable__content {max-height: 200px;max-width: 100%;overflow: auto;}#sk-container-id-11 input.sk-toggleable__control:checked~label.sk-toggleable__label-arrow:before {content: \"▾\";}#sk-container-id-11 div.sk-estimator input.sk-toggleable__control:checked~label.sk-toggleable__label {background-color: #d4ebff;}#sk-container-id-11 div.sk-label input.sk-toggleable__control:checked~label.sk-toggleable__label {background-color: #d4ebff;}#sk-container-id-11 input.sk-hidden--visually {border: 0;clip: rect(1px 1px 1px 1px);clip: rect(1px, 1px, 1px, 1px);height: 1px;margin: -1px;overflow: hidden;padding: 0;position: absolute;width: 1px;}#sk-container-id-11 div.sk-estimator {font-family: monospace;background-color: #f0f8ff;border: 1px dotted black;border-radius: 0.25em;box-sizing: border-box;margin-bottom: 0.5em;}#sk-container-id-11 div.sk-estimator:hover {background-color: #d4ebff;}#sk-container-id-11 div.sk-parallel-item::after {content: \"\";width: 100%;border-bottom: 1px solid gray;flex-grow: 1;}#sk-container-id-11 div.sk-label:hover label.sk-toggleable__label {background-color: #d4ebff;}#sk-container-id-11 div.sk-serial::before {content: \"\";position: absolute;border-left: 1px solid gray;box-sizing: border-box;top: 0;bottom: 0;left: 50%;z-index: 0;}#sk-container-id-11 div.sk-serial {display: flex;flex-direction: column;align-items: center;background-color: white;padding-right: 0.2em;padding-left: 0.2em;position: relative;}#sk-container-id-11 div.sk-item {position: relative;z-index: 1;}#sk-container-id-11 div.sk-parallel {display: flex;align-items: stretch;justify-content: center;background-color: white;position: relative;}#sk-container-id-11 div.sk-item::before, #sk-container-id-11 div.sk-parallel-item::before {content: \"\";position: absolute;border-left: 1px solid gray;box-sizing: border-box;top: 0;bottom: 0;left: 50%;z-index: -1;}#sk-container-id-11 div.sk-parallel-item {display: flex;flex-direction: column;z-index: 1;position: relative;background-color: white;}#sk-container-id-11 div.sk-parallel-item:first-child::after {align-self: flex-end;width: 50%;}#sk-container-id-11 div.sk-parallel-item:last-child::after {align-self: flex-start;width: 50%;}#sk-container-id-11 div.sk-parallel-item:only-child::after {width: 0;}#sk-container-id-11 div.sk-dashed-wrapped {border: 1px dashed gray;margin: 0 0.4em 0.5em 0.4em;box-sizing: border-box;padding-bottom: 0.4em;background-color: white;}#sk-container-id-11 div.sk-label label {font-family: monospace;font-weight: bold;display: inline-block;line-height: 1.2em;}#sk-container-id-11 div.sk-label-container {text-align: center;}#sk-container-id-11 div.sk-container {/* jupyter's `normalize.less` sets `[hidden] { display: none; }` but bootstrap.min.css set `[hidden] { display: none !important; }` so we also need the `!important` here to be able to override the default hidden behavior on the sphinx rendered scikit-learn.org. See: https://github.com/scikit-learn/scikit-learn/issues/21755 */display: inline-block !important;position: relative;}#sk-container-id-11 div.sk-text-repr-fallback {display: none;}</style><div id=\"sk-container-id-11\" class=\"sk-top-container\"><div class=\"sk-text-repr-fallback\"><pre>GridSearchCV(estimator=Pipeline(steps=[(&#x27;rf&#x27;,\n",
       "                                        RandomForestRegressor(random_state=13))]),\n",
       "             param_grid={&#x27;rf__max_depth&#x27;: [5, 7, 9],\n",
       "                         &#x27;rf__max_features&#x27;: [&#x27;sqrt&#x27;, 1],\n",
       "                         &#x27;rf__max_samples&#x27;: [0.65, 0.75, 0.85],\n",
       "                         &#x27;rf__n_estimators&#x27;: [50, 75, 100, 150]})</pre><b>In a Jupyter environment, please rerun this cell to show the HTML representation or trust the notebook. <br />On GitHub, the HTML representation is unable to render, please try loading this page with nbviewer.org.</b></div><div class=\"sk-container\" hidden><div class=\"sk-item sk-dashed-wrapped\"><div class=\"sk-label-container\"><div class=\"sk-label sk-toggleable\"><input class=\"sk-toggleable__control sk-hidden--visually\" id=\"sk-estimator-id-45\" type=\"checkbox\" ><label for=\"sk-estimator-id-45\" class=\"sk-toggleable__label sk-toggleable__label-arrow\">GridSearchCV</label><div class=\"sk-toggleable__content\"><pre>GridSearchCV(estimator=Pipeline(steps=[(&#x27;rf&#x27;,\n",
       "                                        RandomForestRegressor(random_state=13))]),\n",
       "             param_grid={&#x27;rf__max_depth&#x27;: [5, 7, 9],\n",
       "                         &#x27;rf__max_features&#x27;: [&#x27;sqrt&#x27;, 1],\n",
       "                         &#x27;rf__max_samples&#x27;: [0.65, 0.75, 0.85],\n",
       "                         &#x27;rf__n_estimators&#x27;: [50, 75, 100, 150]})</pre></div></div></div><div class=\"sk-parallel\"><div class=\"sk-parallel-item\"><div class=\"sk-item\"><div class=\"sk-label-container\"><div class=\"sk-label sk-toggleable\"><input class=\"sk-toggleable__control sk-hidden--visually\" id=\"sk-estimator-id-46\" type=\"checkbox\" ><label for=\"sk-estimator-id-46\" class=\"sk-toggleable__label sk-toggleable__label-arrow\">estimator: Pipeline</label><div class=\"sk-toggleable__content\"><pre>Pipeline(steps=[(&#x27;rf&#x27;, RandomForestRegressor(random_state=13))])</pre></div></div></div><div class=\"sk-serial\"><div class=\"sk-item\"><div class=\"sk-serial\"><div class=\"sk-item\"><div class=\"sk-estimator sk-toggleable\"><input class=\"sk-toggleable__control sk-hidden--visually\" id=\"sk-estimator-id-47\" type=\"checkbox\" ><label for=\"sk-estimator-id-47\" class=\"sk-toggleable__label sk-toggleable__label-arrow\">RandomForestRegressor</label><div class=\"sk-toggleable__content\"><pre>RandomForestRegressor(random_state=13)</pre></div></div></div></div></div></div></div></div></div></div></div></div>"
      ],
      "text/plain": [
       "GridSearchCV(estimator=Pipeline(steps=[('rf',\n",
       "                                        RandomForestRegressor(random_state=13))]),\n",
       "             param_grid={'rf__max_depth': [5, 7, 9],\n",
       "                         'rf__max_features': ['sqrt', 1],\n",
       "                         'rf__max_samples': [0.65, 0.75, 0.85],\n",
       "                         'rf__n_estimators': [50, 75, 100, 150]})"
      ]
     },
     "execution_count": 93,
     "metadata": {},
     "output_type": "execute_result"
    }
   ],
   "source": [
    "rf_pipe = Pipeline([\n",
    "    ('rf', RandomForestRegressor(random_state = 13))\n",
    "])\n",
    "\n",
    "rf_params = {\n",
    "    'rf__n_estimators': [50, 75, 100, 150],\n",
    "    'rf__max_depth': [5, 7, 9],\n",
    "    'rf__max_features': ['sqrt', 1],\n",
    "    'rf__max_samples': [0.65, 0.75, 0.85],\n",
    "}\n",
    "\n",
    "rf_gs = GridSearchCV(rf_pipe, param_grid = rf_params)\n",
    "\n",
    "rf_gs.fit(X_train, y_train)"
   ]
  },
  {
   "cell_type": "code",
   "execution_count": 96,
   "id": "772470f5",
   "metadata": {},
   "outputs": [
    {
     "data": {
      "text/plain": [
       "{'rf__max_depth': 9,\n",
       " 'rf__max_features': 'sqrt',\n",
       " 'rf__max_samples': 0.85,\n",
       " 'rf__n_estimators': 150}"
      ]
     },
     "execution_count": 96,
     "metadata": {},
     "output_type": "execute_result"
    }
   ],
   "source": [
    "rf_train_preds = rf_gs.predict(X_train)\n",
    "rf_val_preds = rf_gs.predict(X_val)\n",
    "rf_gs.best_params_"
   ]
  },
  {
   "cell_type": "markdown",
   "id": "a2d4cc4a",
   "metadata": {},
   "source": [
    "The R squared for the train was 0.66 and for the val set it was 0.355. Based off of these scores, it can be seen that the model is overfitting. The RMSE for train was 5.82 and for the val it was 10.617. "
   ]
  },
  {
   "cell_type": "code",
   "execution_count": 97,
   "id": "ba89f925",
   "metadata": {},
   "outputs": [
    {
     "name": "stdout",
     "output_type": "stream",
     "text": [
      "Random Forest Train R squared: 0.6604483364750824\n",
      "Random Fores Validation R squared: 0.35576022582434996\n",
      "\n",
      "\n",
      "Random Forest Train RMSE: 5.820442742101381\n",
      "Random Forest Validation RMSE: 10.617227387897044\n"
     ]
    }
   ],
   "source": [
    "print('Random Forest Train R squared:', rf_gs.score(X_train, y_train))\n",
    "print('Random Fores Validation R squared:', rf_gs.score(X_val, y_val))\n",
    "\n",
    "print('\\n')\n",
    "\n",
    "print('Random Forest Train RMSE:', mean_squared_error(y_train, rf_train_preds, squared = False))\n",
    "print('Random Forest Validation RMSE:', mean_squared_error(y_val, rf_val_preds, squared = False))"
   ]
  },
  {
   "cell_type": "markdown",
   "id": "21069846",
   "metadata": {},
   "source": [
    "### AdaBoost"
   ]
  },
  {
   "cell_type": "markdown",
   "id": "2597a2e8",
   "metadata": {},
   "source": [
    "In the adaboost regressors the parameters used were n_estimators, learning_rate looks at providing a weight to each regressor after each iteration to boost it, random_state was kept at 13 for consistency, and then loss updates the weight after each boosting. The best parameters from adaboost were 0.75 for learning rate, loss was linear, and estimators was 25."
   ]
  },
  {
   "cell_type": "code",
   "execution_count": 177,
   "id": "30304921",
   "metadata": {},
   "outputs": [
    {
     "data": {
      "text/html": [
       "<style>#sk-container-id-30 {color: black;background-color: white;}#sk-container-id-30 pre{padding: 0;}#sk-container-id-30 div.sk-toggleable {background-color: white;}#sk-container-id-30 label.sk-toggleable__label {cursor: pointer;display: block;width: 100%;margin-bottom: 0;padding: 0.3em;box-sizing: border-box;text-align: center;}#sk-container-id-30 label.sk-toggleable__label-arrow:before {content: \"▸\";float: left;margin-right: 0.25em;color: #696969;}#sk-container-id-30 label.sk-toggleable__label-arrow:hover:before {color: black;}#sk-container-id-30 div.sk-estimator:hover label.sk-toggleable__label-arrow:before {color: black;}#sk-container-id-30 div.sk-toggleable__content {max-height: 0;max-width: 0;overflow: hidden;text-align: left;background-color: #f0f8ff;}#sk-container-id-30 div.sk-toggleable__content pre {margin: 0.2em;color: black;border-radius: 0.25em;background-color: #f0f8ff;}#sk-container-id-30 input.sk-toggleable__control:checked~div.sk-toggleable__content {max-height: 200px;max-width: 100%;overflow: auto;}#sk-container-id-30 input.sk-toggleable__control:checked~label.sk-toggleable__label-arrow:before {content: \"▾\";}#sk-container-id-30 div.sk-estimator input.sk-toggleable__control:checked~label.sk-toggleable__label {background-color: #d4ebff;}#sk-container-id-30 div.sk-label input.sk-toggleable__control:checked~label.sk-toggleable__label {background-color: #d4ebff;}#sk-container-id-30 input.sk-hidden--visually {border: 0;clip: rect(1px 1px 1px 1px);clip: rect(1px, 1px, 1px, 1px);height: 1px;margin: -1px;overflow: hidden;padding: 0;position: absolute;width: 1px;}#sk-container-id-30 div.sk-estimator {font-family: monospace;background-color: #f0f8ff;border: 1px dotted black;border-radius: 0.25em;box-sizing: border-box;margin-bottom: 0.5em;}#sk-container-id-30 div.sk-estimator:hover {background-color: #d4ebff;}#sk-container-id-30 div.sk-parallel-item::after {content: \"\";width: 100%;border-bottom: 1px solid gray;flex-grow: 1;}#sk-container-id-30 div.sk-label:hover label.sk-toggleable__label {background-color: #d4ebff;}#sk-container-id-30 div.sk-serial::before {content: \"\";position: absolute;border-left: 1px solid gray;box-sizing: border-box;top: 0;bottom: 0;left: 50%;z-index: 0;}#sk-container-id-30 div.sk-serial {display: flex;flex-direction: column;align-items: center;background-color: white;padding-right: 0.2em;padding-left: 0.2em;position: relative;}#sk-container-id-30 div.sk-item {position: relative;z-index: 1;}#sk-container-id-30 div.sk-parallel {display: flex;align-items: stretch;justify-content: center;background-color: white;position: relative;}#sk-container-id-30 div.sk-item::before, #sk-container-id-30 div.sk-parallel-item::before {content: \"\";position: absolute;border-left: 1px solid gray;box-sizing: border-box;top: 0;bottom: 0;left: 50%;z-index: -1;}#sk-container-id-30 div.sk-parallel-item {display: flex;flex-direction: column;z-index: 1;position: relative;background-color: white;}#sk-container-id-30 div.sk-parallel-item:first-child::after {align-self: flex-end;width: 50%;}#sk-container-id-30 div.sk-parallel-item:last-child::after {align-self: flex-start;width: 50%;}#sk-container-id-30 div.sk-parallel-item:only-child::after {width: 0;}#sk-container-id-30 div.sk-dashed-wrapped {border: 1px dashed gray;margin: 0 0.4em 0.5em 0.4em;box-sizing: border-box;padding-bottom: 0.4em;background-color: white;}#sk-container-id-30 div.sk-label label {font-family: monospace;font-weight: bold;display: inline-block;line-height: 1.2em;}#sk-container-id-30 div.sk-label-container {text-align: center;}#sk-container-id-30 div.sk-container {/* jupyter's `normalize.less` sets `[hidden] { display: none; }` but bootstrap.min.css set `[hidden] { display: none !important; }` so we also need the `!important` here to be able to override the default hidden behavior on the sphinx rendered scikit-learn.org. See: https://github.com/scikit-learn/scikit-learn/issues/21755 */display: inline-block !important;position: relative;}#sk-container-id-30 div.sk-text-repr-fallback {display: none;}</style><div id=\"sk-container-id-30\" class=\"sk-top-container\"><div class=\"sk-text-repr-fallback\"><pre>GridSearchCV(estimator=Pipeline(steps=[(&#x27;ada&#x27;,\n",
       "                                        AdaBoostRegressor(random_state=13))]),\n",
       "             param_grid={&#x27;ada__learning_rate&#x27;: [0.75, 1, 1.25],\n",
       "                         &#x27;ada__loss&#x27;: [&#x27;linear&#x27;, &#x27;square&#x27;, &#x27;exponential&#x27;],\n",
       "                         &#x27;ada__n_estimators&#x27;: [25, 50, 60],\n",
       "                         &#x27;ada__random_state&#x27;: [13]})</pre><b>In a Jupyter environment, please rerun this cell to show the HTML representation or trust the notebook. <br />On GitHub, the HTML representation is unable to render, please try loading this page with nbviewer.org.</b></div><div class=\"sk-container\" hidden><div class=\"sk-item sk-dashed-wrapped\"><div class=\"sk-label-container\"><div class=\"sk-label sk-toggleable\"><input class=\"sk-toggleable__control sk-hidden--visually\" id=\"sk-estimator-id-121\" type=\"checkbox\" ><label for=\"sk-estimator-id-121\" class=\"sk-toggleable__label sk-toggleable__label-arrow\">GridSearchCV</label><div class=\"sk-toggleable__content\"><pre>GridSearchCV(estimator=Pipeline(steps=[(&#x27;ada&#x27;,\n",
       "                                        AdaBoostRegressor(random_state=13))]),\n",
       "             param_grid={&#x27;ada__learning_rate&#x27;: [0.75, 1, 1.25],\n",
       "                         &#x27;ada__loss&#x27;: [&#x27;linear&#x27;, &#x27;square&#x27;, &#x27;exponential&#x27;],\n",
       "                         &#x27;ada__n_estimators&#x27;: [25, 50, 60],\n",
       "                         &#x27;ada__random_state&#x27;: [13]})</pre></div></div></div><div class=\"sk-parallel\"><div class=\"sk-parallel-item\"><div class=\"sk-item\"><div class=\"sk-label-container\"><div class=\"sk-label sk-toggleable\"><input class=\"sk-toggleable__control sk-hidden--visually\" id=\"sk-estimator-id-122\" type=\"checkbox\" ><label for=\"sk-estimator-id-122\" class=\"sk-toggleable__label sk-toggleable__label-arrow\">estimator: Pipeline</label><div class=\"sk-toggleable__content\"><pre>Pipeline(steps=[(&#x27;ada&#x27;, AdaBoostRegressor(random_state=13))])</pre></div></div></div><div class=\"sk-serial\"><div class=\"sk-item\"><div class=\"sk-serial\"><div class=\"sk-item\"><div class=\"sk-estimator sk-toggleable\"><input class=\"sk-toggleable__control sk-hidden--visually\" id=\"sk-estimator-id-123\" type=\"checkbox\" ><label for=\"sk-estimator-id-123\" class=\"sk-toggleable__label sk-toggleable__label-arrow\">AdaBoostRegressor</label><div class=\"sk-toggleable__content\"><pre>AdaBoostRegressor(random_state=13)</pre></div></div></div></div></div></div></div></div></div></div></div></div>"
      ],
      "text/plain": [
       "GridSearchCV(estimator=Pipeline(steps=[('ada',\n",
       "                                        AdaBoostRegressor(random_state=13))]),\n",
       "             param_grid={'ada__learning_rate': [0.75, 1, 1.25],\n",
       "                         'ada__loss': ['linear', 'square', 'exponential'],\n",
       "                         'ada__n_estimators': [25, 50, 60],\n",
       "                         'ada__random_state': [13]})"
      ]
     },
     "execution_count": 177,
     "metadata": {},
     "output_type": "execute_result"
    }
   ],
   "source": [
    "ada_pipe = Pipeline([\n",
    "    ('ada', AdaBoostRegressor(random_state = 13))\n",
    "])\n",
    "\n",
    "ada_params = {\n",
    "    'ada__n_estimators': [25, 50, 60],\n",
    "    'ada__learning_rate': [0.75, 1, 1.25],\n",
    "    'ada__loss': ['linear', 'square', 'exponential']\n",
    "}\n",
    "\n",
    "ada_gs = GridSearchCV(ada_pipe, param_grid = ada_params)\n",
    "\n",
    "ada_gs.fit(X_train, y_train)"
   ]
  },
  {
   "cell_type": "code",
   "execution_count": 178,
   "id": "a75f1c03",
   "metadata": {},
   "outputs": [
    {
     "name": "stdout",
     "output_type": "stream",
     "text": [
      "{'ada__learning_rate': 0.75, 'ada__loss': 'linear', 'ada__n_estimators': 25, 'ada__random_state': 13}\n"
     ]
    }
   ],
   "source": [
    "#best params\n",
    "print(ada_gs.best_params_)\n",
    "\n",
    "#train model\n",
    "ada_train_preds = ada_gs.predict(X_train)\n",
    "ada_val_preds = ada_gs.predict(X_val)"
   ]
  },
  {
   "cell_type": "markdown",
   "id": "a5be05a2",
   "metadata": {},
   "source": [
    "The R squared value for the train was 0.293 and the val score was 0.13. Both values were low when it came to the R squared values. The RMSE for train was 8.39 and for the val it was 12.315."
   ]
  },
  {
   "cell_type": "code",
   "execution_count": 101,
   "id": "3e858529",
   "metadata": {},
   "outputs": [
    {
     "name": "stdout",
     "output_type": "stream",
     "text": [
      "AdaBoostRegressor R squared: 0.29372144365749875\n",
      "AdaBoostRegressor Validation R squared: 0.1332262552930642\n",
      "\n",
      "\n",
      "AdaBoostRegressor Train RMSE: 8.39442784292361\n",
      "AdaBoostRegressor Validation RMSE: 12.315164735620654\n"
     ]
    }
   ],
   "source": [
    "#return metrics\n",
    "print('AdaBoostRegressor R squared:', ada_gs.score(X_train, y_train))\n",
    "print('AdaBoostRegressor Validation R squared:', ada_gs.score(X_val, y_val))\n",
    "\n",
    "print('\\n')\n",
    "\n",
    "print('AdaBoostRegressor Train RMSE:', mean_squared_error(y_train, ada_train_preds, squared = False))\n",
    "print('AdaBoostRegressor Validation RMSE:', mean_squared_error(y_val, ada_val_preds, squared = False))"
   ]
  },
  {
   "cell_type": "markdown",
   "id": "d219ca77",
   "metadata": {},
   "source": [
    "### Gradient Boost"
   ]
  },
  {
   "cell_type": "markdown",
   "id": "86390065",
   "metadata": {},
   "source": [
    "In the Gradient boost regressors the parameters used were max_depth, n_estimators, learning_rate, and min_sample_splits. The best parameters were learning rate of 0.1, max_depth of 2, min_sample_splt of 2, and n_estimators 100."
   ]
  },
  {
   "cell_type": "code",
   "execution_count": 102,
   "id": "dd67dc32",
   "metadata": {},
   "outputs": [
    {
     "name": "stdout",
     "output_type": "stream",
     "text": [
      "Fitting 3 folds for each of 36 candidates, totalling 108 fits\n"
     ]
    },
    {
     "name": "stderr",
     "output_type": "stream",
     "text": [
      "C:\\Users\\Vishnu\\anaconda3\\lib\\site-packages\\sklearn\\model_selection\\_validation.py:378: FitFailedWarning: \n",
      "54 fits failed out of a total of 108.\n",
      "The score on these train-test partitions for these parameters will be set to nan.\n",
      "If these failures are not expected, you can try to debug them by setting error_score='raise'.\n",
      "\n",
      "Below are more details about the failures:\n",
      "--------------------------------------------------------------------------------\n",
      "54 fits failed with the following error:\n",
      "Traceback (most recent call last):\n",
      "  File \"C:\\Users\\Vishnu\\anaconda3\\lib\\site-packages\\sklearn\\model_selection\\_validation.py\", line 686, in _fit_and_score\n",
      "    estimator.fit(X_train, y_train, **fit_params)\n",
      "  File \"C:\\Users\\Vishnu\\anaconda3\\lib\\site-packages\\sklearn\\pipeline.py\", line 382, in fit\n",
      "    self._final_estimator.fit(Xt, y, **fit_params_last_step)\n",
      "  File \"C:\\Users\\Vishnu\\anaconda3\\lib\\site-packages\\sklearn\\ensemble\\_gb.py\", line 668, in fit\n",
      "    n_stages = self._fit_stages(\n",
      "  File \"C:\\Users\\Vishnu\\anaconda3\\lib\\site-packages\\sklearn\\ensemble\\_gb.py\", line 745, in _fit_stages\n",
      "    raw_predictions = self._fit_stage(\n",
      "  File \"C:\\Users\\Vishnu\\anaconda3\\lib\\site-packages\\sklearn\\ensemble\\_gb.py\", line 247, in _fit_stage\n",
      "    tree.fit(X, residual, sample_weight=sample_weight, check_input=False)\n",
      "  File \"C:\\Users\\Vishnu\\anaconda3\\lib\\site-packages\\sklearn\\tree\\_classes.py\", line 1342, in fit\n",
      "    super().fit(\n",
      "  File \"C:\\Users\\Vishnu\\anaconda3\\lib\\site-packages\\sklearn\\tree\\_classes.py\", line 265, in fit\n",
      "    check_scalar(\n",
      "  File \"C:\\Users\\Vishnu\\anaconda3\\lib\\site-packages\\sklearn\\utils\\validation.py\", line 1480, in check_scalar\n",
      "    raise ValueError(\n",
      "ValueError: min_samples_split == 1, must be >= 2.\n",
      "\n",
      "  warnings.warn(some_fits_failed_message, FitFailedWarning)\n",
      "C:\\Users\\Vishnu\\anaconda3\\lib\\site-packages\\sklearn\\model_selection\\_search.py:953: UserWarning: One or more of the test scores are non-finite: [        nan         nan         nan  0.16451963  0.01927579 -0.01681767\n",
      "         nan         nan         nan -0.13239859 -0.16411902 -0.23182267\n",
      "         nan         nan         nan  0.06897808  0.01356823 -0.08035069\n",
      "         nan         nan         nan -0.30075403 -0.53375054 -0.60259322\n",
      "         nan         nan         nan  0.4303733   0.39897385  0.35102192\n",
      "         nan         nan         nan  0.40332921  0.36243578  0.31527434]\n",
      "  warnings.warn(\n"
     ]
    },
    {
     "data": {
      "text/html": [
       "<style>#sk-container-id-13 {color: black;background-color: white;}#sk-container-id-13 pre{padding: 0;}#sk-container-id-13 div.sk-toggleable {background-color: white;}#sk-container-id-13 label.sk-toggleable__label {cursor: pointer;display: block;width: 100%;margin-bottom: 0;padding: 0.3em;box-sizing: border-box;text-align: center;}#sk-container-id-13 label.sk-toggleable__label-arrow:before {content: \"▸\";float: left;margin-right: 0.25em;color: #696969;}#sk-container-id-13 label.sk-toggleable__label-arrow:hover:before {color: black;}#sk-container-id-13 div.sk-estimator:hover label.sk-toggleable__label-arrow:before {color: black;}#sk-container-id-13 div.sk-toggleable__content {max-height: 0;max-width: 0;overflow: hidden;text-align: left;background-color: #f0f8ff;}#sk-container-id-13 div.sk-toggleable__content pre {margin: 0.2em;color: black;border-radius: 0.25em;background-color: #f0f8ff;}#sk-container-id-13 input.sk-toggleable__control:checked~div.sk-toggleable__content {max-height: 200px;max-width: 100%;overflow: auto;}#sk-container-id-13 input.sk-toggleable__control:checked~label.sk-toggleable__label-arrow:before {content: \"▾\";}#sk-container-id-13 div.sk-estimator input.sk-toggleable__control:checked~label.sk-toggleable__label {background-color: #d4ebff;}#sk-container-id-13 div.sk-label input.sk-toggleable__control:checked~label.sk-toggleable__label {background-color: #d4ebff;}#sk-container-id-13 input.sk-hidden--visually {border: 0;clip: rect(1px 1px 1px 1px);clip: rect(1px, 1px, 1px, 1px);height: 1px;margin: -1px;overflow: hidden;padding: 0;position: absolute;width: 1px;}#sk-container-id-13 div.sk-estimator {font-family: monospace;background-color: #f0f8ff;border: 1px dotted black;border-radius: 0.25em;box-sizing: border-box;margin-bottom: 0.5em;}#sk-container-id-13 div.sk-estimator:hover {background-color: #d4ebff;}#sk-container-id-13 div.sk-parallel-item::after {content: \"\";width: 100%;border-bottom: 1px solid gray;flex-grow: 1;}#sk-container-id-13 div.sk-label:hover label.sk-toggleable__label {background-color: #d4ebff;}#sk-container-id-13 div.sk-serial::before {content: \"\";position: absolute;border-left: 1px solid gray;box-sizing: border-box;top: 0;bottom: 0;left: 50%;z-index: 0;}#sk-container-id-13 div.sk-serial {display: flex;flex-direction: column;align-items: center;background-color: white;padding-right: 0.2em;padding-left: 0.2em;position: relative;}#sk-container-id-13 div.sk-item {position: relative;z-index: 1;}#sk-container-id-13 div.sk-parallel {display: flex;align-items: stretch;justify-content: center;background-color: white;position: relative;}#sk-container-id-13 div.sk-item::before, #sk-container-id-13 div.sk-parallel-item::before {content: \"\";position: absolute;border-left: 1px solid gray;box-sizing: border-box;top: 0;bottom: 0;left: 50%;z-index: -1;}#sk-container-id-13 div.sk-parallel-item {display: flex;flex-direction: column;z-index: 1;position: relative;background-color: white;}#sk-container-id-13 div.sk-parallel-item:first-child::after {align-self: flex-end;width: 50%;}#sk-container-id-13 div.sk-parallel-item:last-child::after {align-self: flex-start;width: 50%;}#sk-container-id-13 div.sk-parallel-item:only-child::after {width: 0;}#sk-container-id-13 div.sk-dashed-wrapped {border: 1px dashed gray;margin: 0 0.4em 0.5em 0.4em;box-sizing: border-box;padding-bottom: 0.4em;background-color: white;}#sk-container-id-13 div.sk-label label {font-family: monospace;font-weight: bold;display: inline-block;line-height: 1.2em;}#sk-container-id-13 div.sk-label-container {text-align: center;}#sk-container-id-13 div.sk-container {/* jupyter's `normalize.less` sets `[hidden] { display: none; }` but bootstrap.min.css set `[hidden] { display: none !important; }` so we also need the `!important` here to be able to override the default hidden behavior on the sphinx rendered scikit-learn.org. See: https://github.com/scikit-learn/scikit-learn/issues/21755 */display: inline-block !important;position: relative;}#sk-container-id-13 div.sk-text-repr-fallback {display: none;}</style><div id=\"sk-container-id-13\" class=\"sk-top-container\"><div class=\"sk-text-repr-fallback\"><pre>GridSearchCV(cv=3,\n",
       "             estimator=Pipeline(steps=[(&#x27;ss&#x27;, StandardScaler()),\n",
       "                                       (&#x27;g_boost&#x27;,\n",
       "                                        GradientBoostingRegressor(random_state=13))]),\n",
       "             param_grid={&#x27;g_boost__learning_rate&#x27;: [0.8, 1.0, 0.1],\n",
       "                         &#x27;g_boost__max_depth&#x27;: [2, 3],\n",
       "                         &#x27;g_boost__min_samples_split&#x27;: [1, 2],\n",
       "                         &#x27;g_boost__n_estimators&#x27;: [100, 250, 500]},\n",
       "             verbose=1)</pre><b>In a Jupyter environment, please rerun this cell to show the HTML representation or trust the notebook. <br />On GitHub, the HTML representation is unable to render, please try loading this page with nbviewer.org.</b></div><div class=\"sk-container\" hidden><div class=\"sk-item sk-dashed-wrapped\"><div class=\"sk-label-container\"><div class=\"sk-label sk-toggleable\"><input class=\"sk-toggleable__control sk-hidden--visually\" id=\"sk-estimator-id-51\" type=\"checkbox\" ><label for=\"sk-estimator-id-51\" class=\"sk-toggleable__label sk-toggleable__label-arrow\">GridSearchCV</label><div class=\"sk-toggleable__content\"><pre>GridSearchCV(cv=3,\n",
       "             estimator=Pipeline(steps=[(&#x27;ss&#x27;, StandardScaler()),\n",
       "                                       (&#x27;g_boost&#x27;,\n",
       "                                        GradientBoostingRegressor(random_state=13))]),\n",
       "             param_grid={&#x27;g_boost__learning_rate&#x27;: [0.8, 1.0, 0.1],\n",
       "                         &#x27;g_boost__max_depth&#x27;: [2, 3],\n",
       "                         &#x27;g_boost__min_samples_split&#x27;: [1, 2],\n",
       "                         &#x27;g_boost__n_estimators&#x27;: [100, 250, 500]},\n",
       "             verbose=1)</pre></div></div></div><div class=\"sk-parallel\"><div class=\"sk-parallel-item\"><div class=\"sk-item\"><div class=\"sk-label-container\"><div class=\"sk-label sk-toggleable\"><input class=\"sk-toggleable__control sk-hidden--visually\" id=\"sk-estimator-id-52\" type=\"checkbox\" ><label for=\"sk-estimator-id-52\" class=\"sk-toggleable__label sk-toggleable__label-arrow\">estimator: Pipeline</label><div class=\"sk-toggleable__content\"><pre>Pipeline(steps=[(&#x27;ss&#x27;, StandardScaler()),\n",
       "                (&#x27;g_boost&#x27;, GradientBoostingRegressor(random_state=13))])</pre></div></div></div><div class=\"sk-serial\"><div class=\"sk-item\"><div class=\"sk-serial\"><div class=\"sk-item\"><div class=\"sk-estimator sk-toggleable\"><input class=\"sk-toggleable__control sk-hidden--visually\" id=\"sk-estimator-id-53\" type=\"checkbox\" ><label for=\"sk-estimator-id-53\" class=\"sk-toggleable__label sk-toggleable__label-arrow\">StandardScaler</label><div class=\"sk-toggleable__content\"><pre>StandardScaler()</pre></div></div></div><div class=\"sk-item\"><div class=\"sk-estimator sk-toggleable\"><input class=\"sk-toggleable__control sk-hidden--visually\" id=\"sk-estimator-id-54\" type=\"checkbox\" ><label for=\"sk-estimator-id-54\" class=\"sk-toggleable__label sk-toggleable__label-arrow\">GradientBoostingRegressor</label><div class=\"sk-toggleable__content\"><pre>GradientBoostingRegressor(random_state=13)</pre></div></div></div></div></div></div></div></div></div></div></div></div>"
      ],
      "text/plain": [
       "GridSearchCV(cv=3,\n",
       "             estimator=Pipeline(steps=[('ss', StandardScaler()),\n",
       "                                       ('g_boost',\n",
       "                                        GradientBoostingRegressor(random_state=13))]),\n",
       "             param_grid={'g_boost__learning_rate': [0.8, 1.0, 0.1],\n",
       "                         'g_boost__max_depth': [2, 3],\n",
       "                         'g_boost__min_samples_split': [1, 2],\n",
       "                         'g_boost__n_estimators': [100, 250, 500]},\n",
       "             verbose=1)"
      ]
     },
     "execution_count": 102,
     "metadata": {},
     "output_type": "execute_result"
    }
   ],
   "source": [
    "gboost_pipe = Pipeline([\n",
    "    ('ss', StandardScaler()),\n",
    "    ('g_boost', GradientBoostingRegressor(random_state = 13)),\n",
    "])\n",
    "\n",
    "gboost_params = {\n",
    "    'g_boost__max_depth': [2,3],\n",
    "    'g_boost__n_estimators' : [100, 250, 500],\n",
    "    'g_boost__learning_rate' : [0.8, 1.0, 0.1],\n",
    "    'g_boost__min_samples_split': [1, 2]\n",
    "}\n",
    "\n",
    "gb_gs = GridSearchCV(gboost_pipe, param_grid = gboost_params, cv = 3, verbose = 1)\n",
    "gb_gs.fit(X_train, y_train)\n"
   ]
  },
  {
   "cell_type": "code",
   "execution_count": 103,
   "id": "341f0c16",
   "metadata": {},
   "outputs": [
    {
     "name": "stdout",
     "output_type": "stream",
     "text": [
      "0.5303459637929149\n",
      "0.3135783806636132\n",
      "{'g_boost__learning_rate': 0.1, 'g_boost__max_depth': 2, 'g_boost__min_samples_split': 2, 'g_boost__n_estimators': 100}\n",
      "0.43037329533853974\n"
     ]
    }
   ],
   "source": [
    "gb_train_preds = gb_gs.predict(X_train)\n",
    "gb_val_preds = gb_gs.predict(X_val)\n",
    "print(gb_gs.best_params_)\n",
    "print(gb_gs.best_score_)"
   ]
  },
  {
   "cell_type": "markdown",
   "id": "8263bba7",
   "metadata": {},
   "source": [
    "The R squared value for the train was 0.538 and the val score was 0.313. There is some overfitting occuring in which the val is way lower than the train score by almost 0.2. The RMSE for train was 6.845 and for the val it was 10.959."
   ]
  },
  {
   "cell_type": "code",
   "execution_count": 105,
   "id": "ba2133bd",
   "metadata": {
    "scrolled": true
   },
   "outputs": [
    {
     "name": "stdout",
     "output_type": "stream",
     "text": [
      "GradientBoostRegressor R squared: 0.5303459637929149\n",
      "GradientBoostRegressor Validation R squared: 0.3135783806636132\n",
      "\n",
      "\n",
      "GradientBoostRegressor Train RMSE: 6.845294221524877\n",
      "GradientBoostRegressor Validation RMSE: 10.959300328618818\n"
     ]
    }
   ],
   "source": [
    "#return metrics\n",
    "print('GradientBoostRegressor R squared:', gb_gs.score(X_train, y_train))\n",
    "print('GradientBoostRegressor Validation R squared:', gb_gs.score(X_val, y_val))\n",
    "\n",
    "print('\\n')\n",
    "\n",
    "print('GradientBoostRegressor Train RMSE:', mean_squared_error(y_train, gb_train_preds, squared = False))\n",
    "print('GradientBoostRegressor Validation RMSE:', mean_squared_error(y_val, gb_val_preds, squared = False))"
   ]
  },
  {
   "cell_type": "markdown",
   "id": "8b0f80b0",
   "metadata": {},
   "source": [
    "Discussion: After looking at each of the model's R Squared values, Linear Regression did the best with a high R squared score."
   ]
  },
  {
   "cell_type": "markdown",
   "id": "14944c9e",
   "metadata": {},
   "source": [
    "### Modeling with only Environmental Factors"
   ]
  },
  {
   "cell_type": "markdown",
   "id": "7459e27f",
   "metadata": {},
   "source": [
    "Now this modeling section will look at only the environmental features. The demographic features were dropped from the X_train and X_val datasets"
   ]
  },
  {
   "cell_type": "code",
   "execution_count": 20,
   "id": "659648c3",
   "metadata": {
    "scrolled": true
   },
   "outputs": [
    {
     "data": {
      "text/html": [
       "<div>\n",
       "<style scoped>\n",
       "    .dataframe tbody tr th:only-of-type {\n",
       "        vertical-align: middle;\n",
       "    }\n",
       "\n",
       "    .dataframe tbody tr th {\n",
       "        vertical-align: top;\n",
       "    }\n",
       "\n",
       "    .dataframe thead th {\n",
       "        text-align: right;\n",
       "    }\n",
       "</style>\n",
       "<table border=\"1\" class=\"dataframe\">\n",
       "  <thead>\n",
       "    <tr style=\"text-align: right;\">\n",
       "      <th></th>\n",
       "      <th>pre_1960_pct</th>\n",
       "      <th>diesel_pm</th>\n",
       "      <th>resp_index</th>\n",
       "      <th>traffic_prox</th>\n",
       "      <th>npl_prox</th>\n",
       "      <th>rmp_prox</th>\n",
       "      <th>waste_prox</th>\n",
       "      <th>ozone</th>\n",
       "      <th>pm_25</th>\n",
       "      <th>undgrd_stor</th>\n",
       "    </tr>\n",
       "  </thead>\n",
       "  <tbody>\n",
       "    <tr>\n",
       "      <th>0</th>\n",
       "      <td>0.179310</td>\n",
       "      <td>0.175377</td>\n",
       "      <td>0.5</td>\n",
       "      <td>35.919960</td>\n",
       "      <td>0.066752</td>\n",
       "      <td>0.077960</td>\n",
       "      <td>0.500305</td>\n",
       "      <td>37.010497</td>\n",
       "      <td>9.152519</td>\n",
       "      <td>0.412039</td>\n",
       "    </tr>\n",
       "    <tr>\n",
       "      <th>1</th>\n",
       "      <td>0.197619</td>\n",
       "      <td>0.193126</td>\n",
       "      <td>0.5</td>\n",
       "      <td>159.744710</td>\n",
       "      <td>0.072665</td>\n",
       "      <td>0.082735</td>\n",
       "      <td>0.818620</td>\n",
       "      <td>37.038957</td>\n",
       "      <td>9.183280</td>\n",
       "      <td>2.461319</td>\n",
       "    </tr>\n",
       "    <tr>\n",
       "      <th>4</th>\n",
       "      <td>0.000000</td>\n",
       "      <td>0.301774</td>\n",
       "      <td>0.5</td>\n",
       "      <td>220.210382</td>\n",
       "      <td>0.093815</td>\n",
       "      <td>0.090465</td>\n",
       "      <td>1.082545</td>\n",
       "      <td>37.123515</td>\n",
       "      <td>9.242796</td>\n",
       "      <td>2.222632</td>\n",
       "    </tr>\n",
       "    <tr>\n",
       "      <th>5</th>\n",
       "      <td>0.077994</td>\n",
       "      <td>0.195934</td>\n",
       "      <td>0.6</td>\n",
       "      <td>259.619080</td>\n",
       "      <td>0.084657</td>\n",
       "      <td>0.109214</td>\n",
       "      <td>0.629107</td>\n",
       "      <td>37.053841</td>\n",
       "      <td>9.169609</td>\n",
       "      <td>1.536412</td>\n",
       "    </tr>\n",
       "    <tr>\n",
       "      <th>10</th>\n",
       "      <td>0.125966</td>\n",
       "      <td>0.093180</td>\n",
       "      <td>0.5</td>\n",
       "      <td>4.616101</td>\n",
       "      <td>0.024373</td>\n",
       "      <td>0.214272</td>\n",
       "      <td>0.039555</td>\n",
       "      <td>36.647373</td>\n",
       "      <td>8.861050</td>\n",
       "      <td>0.023569</td>\n",
       "    </tr>\n",
       "    <tr>\n",
       "      <th>...</th>\n",
       "      <td>...</td>\n",
       "      <td>...</td>\n",
       "      <td>...</td>\n",
       "      <td>...</td>\n",
       "      <td>...</td>\n",
       "      <td>...</td>\n",
       "      <td>...</td>\n",
       "      <td>...</td>\n",
       "      <td>...</td>\n",
       "      <td>...</td>\n",
       "    </tr>\n",
       "    <tr>\n",
       "      <th>73994</th>\n",
       "      <td>0.049822</td>\n",
       "      <td>0.017346</td>\n",
       "      <td>0.2</td>\n",
       "      <td>52.118846</td>\n",
       "      <td>0.056337</td>\n",
       "      <td>0.941757</td>\n",
       "      <td>3.441846</td>\n",
       "      <td>34.548454</td>\n",
       "      <td>6.615363</td>\n",
       "      <td>0.000000</td>\n",
       "    </tr>\n",
       "    <tr>\n",
       "      <th>73995</th>\n",
       "      <td>0.168224</td>\n",
       "      <td>0.019568</td>\n",
       "      <td>0.2</td>\n",
       "      <td>628.068823</td>\n",
       "      <td>0.062411</td>\n",
       "      <td>1.279270</td>\n",
       "      <td>2.415616</td>\n",
       "      <td>34.271760</td>\n",
       "      <td>6.431964</td>\n",
       "      <td>6.885760</td>\n",
       "    </tr>\n",
       "    <tr>\n",
       "      <th>73996</th>\n",
       "      <td>0.008955</td>\n",
       "      <td>0.019051</td>\n",
       "      <td>0.2</td>\n",
       "      <td>124.806305</td>\n",
       "      <td>0.056280</td>\n",
       "      <td>0.726861</td>\n",
       "      <td>1.591806</td>\n",
       "      <td>34.673908</td>\n",
       "      <td>6.516401</td>\n",
       "      <td>0.000000</td>\n",
       "    </tr>\n",
       "    <tr>\n",
       "      <th>73997</th>\n",
       "      <td>0.058632</td>\n",
       "      <td>0.020953</td>\n",
       "      <td>0.2</td>\n",
       "      <td>980.891997</td>\n",
       "      <td>0.058924</td>\n",
       "      <td>0.850649</td>\n",
       "      <td>1.486320</td>\n",
       "      <td>36.420725</td>\n",
       "      <td>6.814729</td>\n",
       "      <td>0.000000</td>\n",
       "    </tr>\n",
       "    <tr>\n",
       "      <th>74000</th>\n",
       "      <td>0.118585</td>\n",
       "      <td>0.024788</td>\n",
       "      <td>0.2</td>\n",
       "      <td>217.770653</td>\n",
       "      <td>0.058567</td>\n",
       "      <td>0.565497</td>\n",
       "      <td>0.561430</td>\n",
       "      <td>34.460835</td>\n",
       "      <td>6.384740</td>\n",
       "      <td>0.000000</td>\n",
       "    </tr>\n",
       "  </tbody>\n",
       "</table>\n",
       "<p>58507 rows × 10 columns</p>\n",
       "</div>"
      ],
      "text/plain": [
       "       pre_1960_pct  diesel_pm  resp_index  traffic_prox  npl_prox  rmp_prox  \\\n",
       "0          0.179310   0.175377         0.5     35.919960  0.066752  0.077960   \n",
       "1          0.197619   0.193126         0.5    159.744710  0.072665  0.082735   \n",
       "4          0.000000   0.301774         0.5    220.210382  0.093815  0.090465   \n",
       "5          0.077994   0.195934         0.6    259.619080  0.084657  0.109214   \n",
       "10         0.125966   0.093180         0.5      4.616101  0.024373  0.214272   \n",
       "...             ...        ...         ...           ...       ...       ...   \n",
       "73994      0.049822   0.017346         0.2     52.118846  0.056337  0.941757   \n",
       "73995      0.168224   0.019568         0.2    628.068823  0.062411  1.279270   \n",
       "73996      0.008955   0.019051         0.2    124.806305  0.056280  0.726861   \n",
       "73997      0.058632   0.020953         0.2    980.891997  0.058924  0.850649   \n",
       "74000      0.118585   0.024788         0.2    217.770653  0.058567  0.565497   \n",
       "\n",
       "       waste_prox      ozone     pm_25  undgrd_stor  \n",
       "0        0.500305  37.010497  9.152519     0.412039  \n",
       "1        0.818620  37.038957  9.183280     2.461319  \n",
       "4        1.082545  37.123515  9.242796     2.222632  \n",
       "5        0.629107  37.053841  9.169609     1.536412  \n",
       "10       0.039555  36.647373  8.861050     0.023569  \n",
       "...           ...        ...       ...          ...  \n",
       "73994    3.441846  34.548454  6.615363     0.000000  \n",
       "73995    2.415616  34.271760  6.431964     6.885760  \n",
       "73996    1.591806  34.673908  6.516401     0.000000  \n",
       "73997    1.486320  36.420725  6.814729     0.000000  \n",
       "74000    0.561430  34.460835  6.384740     0.000000  \n",
       "\n",
       "[58507 rows x 10 columns]"
      ]
     },
     "execution_count": 20,
     "metadata": {},
     "output_type": "execute_result"
    }
   ],
   "source": [
    "X_train.loc[:,'pre_1960_pct':]"
   ]
  },
  {
   "cell_type": "code",
   "execution_count": 21,
   "id": "6ed3238e",
   "metadata": {},
   "outputs": [],
   "source": [
    "X_env_train = X_train.loc[:,'pre_1960_pct':]\n",
    "X_env_val = X_val.loc[:,'pre_1960_pct':]"
   ]
  },
  {
   "cell_type": "markdown",
   "id": "69bb1725",
   "metadata": {},
   "source": [
    "### Linear Regression"
   ]
  },
  {
   "cell_type": "markdown",
   "id": "6a8e7bda",
   "metadata": {},
   "source": [
    "A gridsearch with pipeline was made for the linear regression model. In the pipeline, we included polynomial features, standard scaler, and Linear Regression. In the parameters, the degree for the polynomial features was 2. Multiple Degree numbers were tested. Degree = 2 provided the best results. Then a gridsearch was conducted with the pipeline and parameters. The difference between the two models were the features that were included in the X_train and X_val. The best score for the linear regression model was 0.498"
   ]
  },
  {
   "cell_type": "code",
   "execution_count": 22,
   "id": "98f33eb3",
   "metadata": {},
   "outputs": [
    {
     "data": {
      "text/html": [
       "<style>#sk-container-id-3 {color: black;background-color: white;}#sk-container-id-3 pre{padding: 0;}#sk-container-id-3 div.sk-toggleable {background-color: white;}#sk-container-id-3 label.sk-toggleable__label {cursor: pointer;display: block;width: 100%;margin-bottom: 0;padding: 0.3em;box-sizing: border-box;text-align: center;}#sk-container-id-3 label.sk-toggleable__label-arrow:before {content: \"▸\";float: left;margin-right: 0.25em;color: #696969;}#sk-container-id-3 label.sk-toggleable__label-arrow:hover:before {color: black;}#sk-container-id-3 div.sk-estimator:hover label.sk-toggleable__label-arrow:before {color: black;}#sk-container-id-3 div.sk-toggleable__content {max-height: 0;max-width: 0;overflow: hidden;text-align: left;background-color: #f0f8ff;}#sk-container-id-3 div.sk-toggleable__content pre {margin: 0.2em;color: black;border-radius: 0.25em;background-color: #f0f8ff;}#sk-container-id-3 input.sk-toggleable__control:checked~div.sk-toggleable__content {max-height: 200px;max-width: 100%;overflow: auto;}#sk-container-id-3 input.sk-toggleable__control:checked~label.sk-toggleable__label-arrow:before {content: \"▾\";}#sk-container-id-3 div.sk-estimator input.sk-toggleable__control:checked~label.sk-toggleable__label {background-color: #d4ebff;}#sk-container-id-3 div.sk-label input.sk-toggleable__control:checked~label.sk-toggleable__label {background-color: #d4ebff;}#sk-container-id-3 input.sk-hidden--visually {border: 0;clip: rect(1px 1px 1px 1px);clip: rect(1px, 1px, 1px, 1px);height: 1px;margin: -1px;overflow: hidden;padding: 0;position: absolute;width: 1px;}#sk-container-id-3 div.sk-estimator {font-family: monospace;background-color: #f0f8ff;border: 1px dotted black;border-radius: 0.25em;box-sizing: border-box;margin-bottom: 0.5em;}#sk-container-id-3 div.sk-estimator:hover {background-color: #d4ebff;}#sk-container-id-3 div.sk-parallel-item::after {content: \"\";width: 100%;border-bottom: 1px solid gray;flex-grow: 1;}#sk-container-id-3 div.sk-label:hover label.sk-toggleable__label {background-color: #d4ebff;}#sk-container-id-3 div.sk-serial::before {content: \"\";position: absolute;border-left: 1px solid gray;box-sizing: border-box;top: 0;bottom: 0;left: 50%;z-index: 0;}#sk-container-id-3 div.sk-serial {display: flex;flex-direction: column;align-items: center;background-color: white;padding-right: 0.2em;padding-left: 0.2em;position: relative;}#sk-container-id-3 div.sk-item {position: relative;z-index: 1;}#sk-container-id-3 div.sk-parallel {display: flex;align-items: stretch;justify-content: center;background-color: white;position: relative;}#sk-container-id-3 div.sk-item::before, #sk-container-id-3 div.sk-parallel-item::before {content: \"\";position: absolute;border-left: 1px solid gray;box-sizing: border-box;top: 0;bottom: 0;left: 50%;z-index: -1;}#sk-container-id-3 div.sk-parallel-item {display: flex;flex-direction: column;z-index: 1;position: relative;background-color: white;}#sk-container-id-3 div.sk-parallel-item:first-child::after {align-self: flex-end;width: 50%;}#sk-container-id-3 div.sk-parallel-item:last-child::after {align-self: flex-start;width: 50%;}#sk-container-id-3 div.sk-parallel-item:only-child::after {width: 0;}#sk-container-id-3 div.sk-dashed-wrapped {border: 1px dashed gray;margin: 0 0.4em 0.5em 0.4em;box-sizing: border-box;padding-bottom: 0.4em;background-color: white;}#sk-container-id-3 div.sk-label label {font-family: monospace;font-weight: bold;display: inline-block;line-height: 1.2em;}#sk-container-id-3 div.sk-label-container {text-align: center;}#sk-container-id-3 div.sk-container {/* jupyter's `normalize.less` sets `[hidden] { display: none; }` but bootstrap.min.css set `[hidden] { display: none !important; }` so we also need the `!important` here to be able to override the default hidden behavior on the sphinx rendered scikit-learn.org. See: https://github.com/scikit-learn/scikit-learn/issues/21755 */display: inline-block !important;position: relative;}#sk-container-id-3 div.sk-text-repr-fallback {display: none;}</style><div id=\"sk-container-id-3\" class=\"sk-top-container\"><div class=\"sk-text-repr-fallback\"><pre>GridSearchCV(estimator=Pipeline(steps=[(&#x27;poly&#x27;, PolynomialFeatures()),\n",
       "                                       (&#x27;ss&#x27;, StandardScaler()),\n",
       "                                       (&#x27;lr&#x27;, LinearRegression())]),\n",
       "             n_jobs=-1, param_grid=[{&#x27;poly__degree&#x27;: [2]}])</pre><b>In a Jupyter environment, please rerun this cell to show the HTML representation or trust the notebook. <br />On GitHub, the HTML representation is unable to render, please try loading this page with nbviewer.org.</b></div><div class=\"sk-container\" hidden><div class=\"sk-item sk-dashed-wrapped\"><div class=\"sk-label-container\"><div class=\"sk-label sk-toggleable\"><input class=\"sk-toggleable__control sk-hidden--visually\" id=\"sk-estimator-id-11\" type=\"checkbox\" ><label for=\"sk-estimator-id-11\" class=\"sk-toggleable__label sk-toggleable__label-arrow\">GridSearchCV</label><div class=\"sk-toggleable__content\"><pre>GridSearchCV(estimator=Pipeline(steps=[(&#x27;poly&#x27;, PolynomialFeatures()),\n",
       "                                       (&#x27;ss&#x27;, StandardScaler()),\n",
       "                                       (&#x27;lr&#x27;, LinearRegression())]),\n",
       "             n_jobs=-1, param_grid=[{&#x27;poly__degree&#x27;: [2]}])</pre></div></div></div><div class=\"sk-parallel\"><div class=\"sk-parallel-item\"><div class=\"sk-item\"><div class=\"sk-label-container\"><div class=\"sk-label sk-toggleable\"><input class=\"sk-toggleable__control sk-hidden--visually\" id=\"sk-estimator-id-12\" type=\"checkbox\" ><label for=\"sk-estimator-id-12\" class=\"sk-toggleable__label sk-toggleable__label-arrow\">estimator: Pipeline</label><div class=\"sk-toggleable__content\"><pre>Pipeline(steps=[(&#x27;poly&#x27;, PolynomialFeatures()), (&#x27;ss&#x27;, StandardScaler()),\n",
       "                (&#x27;lr&#x27;, LinearRegression())])</pre></div></div></div><div class=\"sk-serial\"><div class=\"sk-item\"><div class=\"sk-serial\"><div class=\"sk-item\"><div class=\"sk-estimator sk-toggleable\"><input class=\"sk-toggleable__control sk-hidden--visually\" id=\"sk-estimator-id-13\" type=\"checkbox\" ><label for=\"sk-estimator-id-13\" class=\"sk-toggleable__label sk-toggleable__label-arrow\">PolynomialFeatures</label><div class=\"sk-toggleable__content\"><pre>PolynomialFeatures()</pre></div></div></div><div class=\"sk-item\"><div class=\"sk-estimator sk-toggleable\"><input class=\"sk-toggleable__control sk-hidden--visually\" id=\"sk-estimator-id-14\" type=\"checkbox\" ><label for=\"sk-estimator-id-14\" class=\"sk-toggleable__label sk-toggleable__label-arrow\">StandardScaler</label><div class=\"sk-toggleable__content\"><pre>StandardScaler()</pre></div></div></div><div class=\"sk-item\"><div class=\"sk-estimator sk-toggleable\"><input class=\"sk-toggleable__control sk-hidden--visually\" id=\"sk-estimator-id-15\" type=\"checkbox\" ><label for=\"sk-estimator-id-15\" class=\"sk-toggleable__label sk-toggleable__label-arrow\">LinearRegression</label><div class=\"sk-toggleable__content\"><pre>LinearRegression()</pre></div></div></div></div></div></div></div></div></div></div></div></div>"
      ],
      "text/plain": [
       "GridSearchCV(estimator=Pipeline(steps=[('poly', PolynomialFeatures()),\n",
       "                                       ('ss', StandardScaler()),\n",
       "                                       ('lr', LinearRegression())]),\n",
       "             n_jobs=-1, param_grid=[{'poly__degree': [2]}])"
      ]
     },
     "execution_count": 22,
     "metadata": {},
     "output_type": "execute_result"
    }
   ],
   "source": [
    "lin_pipe = Pipeline([\n",
    "    ('poly', PolynomialFeatures()),\n",
    "    ('ss', StandardScaler()),\n",
    "    ('lr', LinearRegression())\n",
    "])\n",
    "\n",
    "lin_params = [\n",
    "    {\n",
    "     'poly__degree':[2]   \n",
    "    }\n",
    "]\n",
    "\n",
    "lr_gs = GridSearchCV(lin_pipe, param_grid = lin_params ,verbose = 0, n_jobs = -1)\n",
    "lr_gs.fit(X_env_train, y_train_log)"
   ]
  },
  {
   "cell_type": "code",
   "execution_count": 23,
   "id": "f24b3d9c",
   "metadata": {
    "scrolled": true
   },
   "outputs": [
    {
     "name": "stdout",
     "output_type": "stream",
     "text": [
      "{'poly__degree': 2}\n",
      "0.4981966793717939\n"
     ]
    }
   ],
   "source": [
    "linenv_train_preds = lr_gs.predict(X_env_train)\n",
    "linenv_val_preds = lr_gs.predict(X_env_val)\n",
    "print(lr_gs.best_params_)\n",
    "print(lr_gs.best_score_)"
   ]
  },
  {
   "cell_type": "markdown",
   "id": "5a58531e",
   "metadata": {},
   "source": [
    "When finding the R squared values for the train score was 0.63 and the test score was 0.63, the tests show no overfitting or underfitting. Next, we looked at the RMSE and saw train score being 7.72 and test score of 11.41. "
   ]
  },
  {
   "cell_type": "code",
   "execution_count": 24,
   "id": "d5c40d2c",
   "metadata": {},
   "outputs": [
    {
     "name": "stdout",
     "output_type": "stream",
     "text": [
      "Linear Regression Train R squared: 0.6313016922990355\n",
      "Linear Regression Validation R squared: 0.6320876466794915\n",
      "\n",
      "\n",
      "LinearRegression Train RMSE: 7.7229407372666286\n",
      "LinearRegression Validation RMSE: 11.418961225822649\n"
     ]
    }
   ],
   "source": [
    "print('Linear Regression Train R squared:', lr_gs.score(X_env_train, y_train_log))\n",
    "print('Linear Regression Validation R squared:', lr_gs.score(X_env_val, y_val_log))\n",
    "\n",
    "print('\\n')\n",
    "\n",
    "print('LinearRegression Train RMSE:', mean_squared_error(y_train, np.exp(linenv_train_preds), squared = False))\n",
    "print('LinearRegression Validation RMSE:', mean_squared_error(y_val, np.exp(linenv_val_preds), squared = False))"
   ]
  },
  {
   "cell_type": "markdown",
   "id": "a726dfa9",
   "metadata": {},
   "source": [
    "A plot was plotted to look at the residuals. This plot looks at the observed values between the fitted values. The data points were found to between -100 to 700. "
   ]
  },
  {
   "cell_type": "code",
   "execution_count": 25,
   "id": "63c72110",
   "metadata": {},
   "outputs": [
    {
     "data": {
      "image/png": "[encoded data removed]",
      "text/plain": [
       "<Figure size 432x288 with 1 Axes>"
      ]
     },
     "metadata": {
      "needs_background": "light"
     },
     "output_type": "display_data"
    }
   ],
   "source": [
    "residuals = y_train - np.exp(linenv_train_preds)\n",
    "plt.title('residuals vs initial_preds')\n",
    "plt.xlabel('lin_pred')\n",
    "plt.ylabel('residual')\n",
    "plt.scatter(np.exp(linenv_train_preds), residuals);\n",
    "plt.axhline(residuals.mean(), color = 'orange');"
   ]
  },
  {
   "cell_type": "markdown",
   "id": "05f6ff90",
   "metadata": {},
   "source": [
    "### Linear Regression with Regularization"
   ]
  },
  {
   "cell_type": "markdown",
   "id": "aaf19051",
   "metadata": {},
   "source": [
    "After conducting a linear regression, A lasso regularization was done. Another gridsearch was done in which the pipeline had : standard Scaler, polynomial features, and then lasso. The polynomial feature was chosen to degree of 2, to be consistent with linear regression, but also had the best results when it came to r squared values. In the paramters for lasso, alpha was provided with multiple values. a best parameter was done to find the optimal alpha which was 0.001 and best score of 0.56724. "
   ]
  },
  {
   "cell_type": "code",
   "execution_count": 27,
   "id": "a852a71f",
   "metadata": {},
   "outputs": [
    {
     "data": {
      "text/html": [
       "<style>#sk-container-id-4 {color: black;background-color: white;}#sk-container-id-4 pre{padding: 0;}#sk-container-id-4 div.sk-toggleable {background-color: white;}#sk-container-id-4 label.sk-toggleable__label {cursor: pointer;display: block;width: 100%;margin-bottom: 0;padding: 0.3em;box-sizing: border-box;text-align: center;}#sk-container-id-4 label.sk-toggleable__label-arrow:before {content: \"▸\";float: left;margin-right: 0.25em;color: #696969;}#sk-container-id-4 label.sk-toggleable__label-arrow:hover:before {color: black;}#sk-container-id-4 div.sk-estimator:hover label.sk-toggleable__label-arrow:before {color: black;}#sk-container-id-4 div.sk-toggleable__content {max-height: 0;max-width: 0;overflow: hidden;text-align: left;background-color: #f0f8ff;}#sk-container-id-4 div.sk-toggleable__content pre {margin: 0.2em;color: black;border-radius: 0.25em;background-color: #f0f8ff;}#sk-container-id-4 input.sk-toggleable__control:checked~div.sk-toggleable__content {max-height: 200px;max-width: 100%;overflow: auto;}#sk-container-id-4 input.sk-toggleable__control:checked~label.sk-toggleable__label-arrow:before {content: \"▾\";}#sk-container-id-4 div.sk-estimator input.sk-toggleable__control:checked~label.sk-toggleable__label {background-color: #d4ebff;}#sk-container-id-4 div.sk-label input.sk-toggleable__control:checked~label.sk-toggleable__label {background-color: #d4ebff;}#sk-container-id-4 input.sk-hidden--visually {border: 0;clip: rect(1px 1px 1px 1px);clip: rect(1px, 1px, 1px, 1px);height: 1px;margin: -1px;overflow: hidden;padding: 0;position: absolute;width: 1px;}#sk-container-id-4 div.sk-estimator {font-family: monospace;background-color: #f0f8ff;border: 1px dotted black;border-radius: 0.25em;box-sizing: border-box;margin-bottom: 0.5em;}#sk-container-id-4 div.sk-estimator:hover {background-color: #d4ebff;}#sk-container-id-4 div.sk-parallel-item::after {content: \"\";width: 100%;border-bottom: 1px solid gray;flex-grow: 1;}#sk-container-id-4 div.sk-label:hover label.sk-toggleable__label {background-color: #d4ebff;}#sk-container-id-4 div.sk-serial::before {content: \"\";position: absolute;border-left: 1px solid gray;box-sizing: border-box;top: 0;bottom: 0;left: 50%;z-index: 0;}#sk-container-id-4 div.sk-serial {display: flex;flex-direction: column;align-items: center;background-color: white;padding-right: 0.2em;padding-left: 0.2em;position: relative;}#sk-container-id-4 div.sk-item {position: relative;z-index: 1;}#sk-container-id-4 div.sk-parallel {display: flex;align-items: stretch;justify-content: center;background-color: white;position: relative;}#sk-container-id-4 div.sk-item::before, #sk-container-id-4 div.sk-parallel-item::before {content: \"\";position: absolute;border-left: 1px solid gray;box-sizing: border-box;top: 0;bottom: 0;left: 50%;z-index: -1;}#sk-container-id-4 div.sk-parallel-item {display: flex;flex-direction: column;z-index: 1;position: relative;background-color: white;}#sk-container-id-4 div.sk-parallel-item:first-child::after {align-self: flex-end;width: 50%;}#sk-container-id-4 div.sk-parallel-item:last-child::after {align-self: flex-start;width: 50%;}#sk-container-id-4 div.sk-parallel-item:only-child::after {width: 0;}#sk-container-id-4 div.sk-dashed-wrapped {border: 1px dashed gray;margin: 0 0.4em 0.5em 0.4em;box-sizing: border-box;padding-bottom: 0.4em;background-color: white;}#sk-container-id-4 div.sk-label label {font-family: monospace;font-weight: bold;display: inline-block;line-height: 1.2em;}#sk-container-id-4 div.sk-label-container {text-align: center;}#sk-container-id-4 div.sk-container {/* jupyter's `normalize.less` sets `[hidden] { display: none; }` but bootstrap.min.css set `[hidden] { display: none !important; }` so we also need the `!important` here to be able to override the default hidden behavior on the sphinx rendered scikit-learn.org. See: https://github.com/scikit-learn/scikit-learn/issues/21755 */display: inline-block !important;position: relative;}#sk-container-id-4 div.sk-text-repr-fallback {display: none;}</style><div id=\"sk-container-id-4\" class=\"sk-top-container\"><div class=\"sk-text-repr-fallback\"><pre>GridSearchCV(estimator=Pipeline(steps=[(&#x27;poly&#x27;, PolynomialFeatures()),\n",
       "                                       (&#x27;ss&#x27;, StandardScaler()),\n",
       "                                       (&#x27;model&#x27;, Lasso())]),\n",
       "             n_jobs=-1,\n",
       "             param_grid=[{&#x27;model__alpha&#x27;: [0.001, 0.01, 0.1, 1, 10, 100,\n",
       "                                           1000]}])</pre><b>In a Jupyter environment, please rerun this cell to show the HTML representation or trust the notebook. <br />On GitHub, the HTML representation is unable to render, please try loading this page with nbviewer.org.</b></div><div class=\"sk-container\" hidden><div class=\"sk-item sk-dashed-wrapped\"><div class=\"sk-label-container\"><div class=\"sk-label sk-toggleable\"><input class=\"sk-toggleable__control sk-hidden--visually\" id=\"sk-estimator-id-16\" type=\"checkbox\" ><label for=\"sk-estimator-id-16\" class=\"sk-toggleable__label sk-toggleable__label-arrow\">GridSearchCV</label><div class=\"sk-toggleable__content\"><pre>GridSearchCV(estimator=Pipeline(steps=[(&#x27;poly&#x27;, PolynomialFeatures()),\n",
       "                                       (&#x27;ss&#x27;, StandardScaler()),\n",
       "                                       (&#x27;model&#x27;, Lasso())]),\n",
       "             n_jobs=-1,\n",
       "             param_grid=[{&#x27;model__alpha&#x27;: [0.001, 0.01, 0.1, 1, 10, 100,\n",
       "                                           1000]}])</pre></div></div></div><div class=\"sk-parallel\"><div class=\"sk-parallel-item\"><div class=\"sk-item\"><div class=\"sk-label-container\"><div class=\"sk-label sk-toggleable\"><input class=\"sk-toggleable__control sk-hidden--visually\" id=\"sk-estimator-id-17\" type=\"checkbox\" ><label for=\"sk-estimator-id-17\" class=\"sk-toggleable__label sk-toggleable__label-arrow\">estimator: Pipeline</label><div class=\"sk-toggleable__content\"><pre>Pipeline(steps=[(&#x27;poly&#x27;, PolynomialFeatures()), (&#x27;ss&#x27;, StandardScaler()),\n",
       "                (&#x27;model&#x27;, Lasso())])</pre></div></div></div><div class=\"sk-serial\"><div class=\"sk-item\"><div class=\"sk-serial\"><div class=\"sk-item\"><div class=\"sk-estimator sk-toggleable\"><input class=\"sk-toggleable__control sk-hidden--visually\" id=\"sk-estimator-id-18\" type=\"checkbox\" ><label for=\"sk-estimator-id-18\" class=\"sk-toggleable__label sk-toggleable__label-arrow\">PolynomialFeatures</label><div class=\"sk-toggleable__content\"><pre>PolynomialFeatures()</pre></div></div></div><div class=\"sk-item\"><div class=\"sk-estimator sk-toggleable\"><input class=\"sk-toggleable__control sk-hidden--visually\" id=\"sk-estimator-id-19\" type=\"checkbox\" ><label for=\"sk-estimator-id-19\" class=\"sk-toggleable__label sk-toggleable__label-arrow\">StandardScaler</label><div class=\"sk-toggleable__content\"><pre>StandardScaler()</pre></div></div></div><div class=\"sk-item\"><div class=\"sk-estimator sk-toggleable\"><input class=\"sk-toggleable__control sk-hidden--visually\" id=\"sk-estimator-id-20\" type=\"checkbox\" ><label for=\"sk-estimator-id-20\" class=\"sk-toggleable__label sk-toggleable__label-arrow\">Lasso</label><div class=\"sk-toggleable__content\"><pre>Lasso()</pre></div></div></div></div></div></div></div></div></div></div></div></div>"
      ],
      "text/plain": [
       "GridSearchCV(estimator=Pipeline(steps=[('poly', PolynomialFeatures()),\n",
       "                                       ('ss', StandardScaler()),\n",
       "                                       ('model', Lasso())]),\n",
       "             n_jobs=-1,\n",
       "             param_grid=[{'model__alpha': [0.001, 0.01, 0.1, 1, 10, 100,\n",
       "                                           1000]}])"
      ]
     },
     "execution_count": 27,
     "metadata": {},
     "output_type": "execute_result"
    }
   ],
   "source": [
    "lasso_pipe = Pipeline([\n",
    "    ('poly', PolynomialFeatures(degree = 2)),\n",
    "    ('ss', StandardScaler()),\n",
    "    ('model', Lasso())\n",
    "])\n",
    "lasso_params = [\n",
    "    {\n",
    "        'model__alpha': [0.001, 0.01, 0.1, 1, 10, 100, 1000]\n",
    "    }\n",
    "]\n",
    "\n",
    "lasso_gs = GridSearchCV(lasso_pipe, param_grid = lasso_params,verbose = 0, n_jobs = -1)\n",
    "lasso_gs.fit(X_env_train, y_train_log)"
   ]
  },
  {
   "cell_type": "code",
   "execution_count": 28,
   "id": "9ef9b5cd",
   "metadata": {},
   "outputs": [
    {
     "name": "stdout",
     "output_type": "stream",
     "text": [
      "{'model__alpha': 0.001}\n",
      "0.5672426003347777\n"
     ]
    }
   ],
   "source": [
    "lasso_train_preds = lasso_gs.predict(X_env_train)\n",
    "lasso_val_preds = lasso_gs.predict(X_env_val)\n",
    "actual_values = y_val\n",
    "print(lasso_gs.best_params_)\n",
    "print(lasso_gs.best_score_)"
   ]
  },
  {
   "cell_type": "markdown",
   "id": "32d0d8bc",
   "metadata": {},
   "source": [
    "When finding the r^2 values for the train score was 0.62 and the test score was 0.62, the tests show no overfitting or underfitting. Next, we looked at the RMSE and saw train score being 7.75 and test score of 11.48. "
   ]
  },
  {
   "cell_type": "code",
   "execution_count": 29,
   "id": "29f6e237",
   "metadata": {},
   "outputs": [
    {
     "name": "stdout",
     "output_type": "stream",
     "text": [
      "Lasso Train R squared: 0.6241099604025764\n",
      "Lasso Validation R squared: 0.6233454186993066\n",
      "\n",
      "\n",
      "Lasso Train RMSE: 7.7504938148218985\n",
      "Lasso Validation RMSE: 11.483124991409511\n"
     ]
    }
   ],
   "source": [
    "print('Lasso Train R squared:', lasso_gs.score(X_env_train, y_train_log))\n",
    "print('Lasso Validation R squared:', lasso_gs.score(X_env_val, y_val_log))\n",
    "\n",
    "print('\\n')\n",
    "\n",
    "print('Lasso Train RMSE:', mean_squared_error(y_train, np.exp(lasso_train_preds), squared = False))\n",
    "print('Lasso Validation RMSE:', mean_squared_error(y_val, np.exp(lasso_val_preds), squared = False))"
   ]
  },
  {
   "cell_type": "markdown",
   "id": "c9e5c896",
   "metadata": {},
   "source": [
    "The plot below looks at the lasso predicted values and the actual values. As we can see there are larger number of points accumuated near the 0-80 for the predicted values. Then we see a small section of points around 140-160."
   ]
  },
  {
   "cell_type": "code",
   "execution_count": 92,
   "id": "c1005e1b",
   "metadata": {},
   "outputs": [
    {
     "data": {
      "image/png": "[encoded data removed]",
      "text/plain": [
       "<Figure size 432x288 with 1 Axes>"
      ]
     },
     "metadata": {
      "needs_background": "light"
     },
     "output_type": "display_data"
    }
   ],
   "source": [
    "plt.scatter(np.exp(lasso_val_preds), actual_values)\n",
    "plt.xlabel('Predicted')\n",
    "plt.ylabel('Actual')\n",
    "plt.title('Lasso Regression');"
   ]
  },
  {
   "cell_type": "markdown",
   "id": "34bf1f29",
   "metadata": {},
   "source": [
    "### Ridge Model"
   ]
  },
  {
   "cell_type": "markdown",
   "id": "1eea5b1f",
   "metadata": {},
   "source": [
    "A ridge regression was done. Another gridsearch was done in which the pipeline had : standard Scaler, polynomial features, and then ridge. The polynomial feature was chosen to degree of 2, to be consistent with linear regression, but also had the best results when it came to r squared values. In the paramters for ridge, alpha was provided with multiple values. a best parameter was done to find the optimal alpha which was 335.160 and best score of 0.5647. "
   ]
  },
  {
   "cell_type": "code",
   "execution_count": 31,
   "id": "c1078839",
   "metadata": {},
   "outputs": [
    {
     "data": {
      "text/html": [
       "<style>#sk-container-id-5 {color: black;background-color: white;}#sk-container-id-5 pre{padding: 0;}#sk-container-id-5 div.sk-toggleable {background-color: white;}#sk-container-id-5 label.sk-toggleable__label {cursor: pointer;display: block;width: 100%;margin-bottom: 0;padding: 0.3em;box-sizing: border-box;text-align: center;}#sk-container-id-5 label.sk-toggleable__label-arrow:before {content: \"▸\";float: left;margin-right: 0.25em;color: #696969;}#sk-container-id-5 label.sk-toggleable__label-arrow:hover:before {color: black;}#sk-container-id-5 div.sk-estimator:hover label.sk-toggleable__label-arrow:before {color: black;}#sk-container-id-5 div.sk-toggleable__content {max-height: 0;max-width: 0;overflow: hidden;text-align: left;background-color: #f0f8ff;}#sk-container-id-5 div.sk-toggleable__content pre {margin: 0.2em;color: black;border-radius: 0.25em;background-color: #f0f8ff;}#sk-container-id-5 input.sk-toggleable__control:checked~div.sk-toggleable__content {max-height: 200px;max-width: 100%;overflow: auto;}#sk-container-id-5 input.sk-toggleable__control:checked~label.sk-toggleable__label-arrow:before {content: \"▾\";}#sk-container-id-5 div.sk-estimator input.sk-toggleable__control:checked~label.sk-toggleable__label {background-color: #d4ebff;}#sk-container-id-5 div.sk-label input.sk-toggleable__control:checked~label.sk-toggleable__label {background-color: #d4ebff;}#sk-container-id-5 input.sk-hidden--visually {border: 0;clip: rect(1px 1px 1px 1px);clip: rect(1px, 1px, 1px, 1px);height: 1px;margin: -1px;overflow: hidden;padding: 0;position: absolute;width: 1px;}#sk-container-id-5 div.sk-estimator {font-family: monospace;background-color: #f0f8ff;border: 1px dotted black;border-radius: 0.25em;box-sizing: border-box;margin-bottom: 0.5em;}#sk-container-id-5 div.sk-estimator:hover {background-color: #d4ebff;}#sk-container-id-5 div.sk-parallel-item::after {content: \"\";width: 100%;border-bottom: 1px solid gray;flex-grow: 1;}#sk-container-id-5 div.sk-label:hover label.sk-toggleable__label {background-color: #d4ebff;}#sk-container-id-5 div.sk-serial::before {content: \"\";position: absolute;border-left: 1px solid gray;box-sizing: border-box;top: 0;bottom: 0;left: 50%;z-index: 0;}#sk-container-id-5 div.sk-serial {display: flex;flex-direction: column;align-items: center;background-color: white;padding-right: 0.2em;padding-left: 0.2em;position: relative;}#sk-container-id-5 div.sk-item {position: relative;z-index: 1;}#sk-container-id-5 div.sk-parallel {display: flex;align-items: stretch;justify-content: center;background-color: white;position: relative;}#sk-container-id-5 div.sk-item::before, #sk-container-id-5 div.sk-parallel-item::before {content: \"\";position: absolute;border-left: 1px solid gray;box-sizing: border-box;top: 0;bottom: 0;left: 50%;z-index: -1;}#sk-container-id-5 div.sk-parallel-item {display: flex;flex-direction: column;z-index: 1;position: relative;background-color: white;}#sk-container-id-5 div.sk-parallel-item:first-child::after {align-self: flex-end;width: 50%;}#sk-container-id-5 div.sk-parallel-item:last-child::after {align-self: flex-start;width: 50%;}#sk-container-id-5 div.sk-parallel-item:only-child::after {width: 0;}#sk-container-id-5 div.sk-dashed-wrapped {border: 1px dashed gray;margin: 0 0.4em 0.5em 0.4em;box-sizing: border-box;padding-bottom: 0.4em;background-color: white;}#sk-container-id-5 div.sk-label label {font-family: monospace;font-weight: bold;display: inline-block;line-height: 1.2em;}#sk-container-id-5 div.sk-label-container {text-align: center;}#sk-container-id-5 div.sk-container {/* jupyter's `normalize.less` sets `[hidden] { display: none; }` but bootstrap.min.css set `[hidden] { display: none !important; }` so we also need the `!important` here to be able to override the default hidden behavior on the sphinx rendered scikit-learn.org. See: https://github.com/scikit-learn/scikit-learn/issues/21755 */display: inline-block !important;position: relative;}#sk-container-id-5 div.sk-text-repr-fallback {display: none;}</style><div id=\"sk-container-id-5\" class=\"sk-top-container\"><div class=\"sk-text-repr-fallback\"><pre>GridSearchCV(cv=10,\n",
       "             estimator=Pipeline(steps=[(&#x27;poly&#x27;, PolynomialFeatures()),\n",
       "                                       (&#x27;ss&#x27;, StandardScaler()),\n",
       "                                       (&#x27;model&#x27;, Ridge())]),\n",
       "             n_jobs=-1,\n",
       "             param_grid=[{&#x27;model__alpha&#x27;: array([1.00000000e+00, 1.12332403e+00, 1.26185688e+00, 1.41747416e+00,\n",
       "       1.59228279e+00, 1.78864953e+00, 2.00923300e+00, 2.25701972e+00,\n",
       "       2.53536449e+00, 2.84803587e+00, 3.19926714e+00, 3.59381366e+00,\n",
       "       4.0370...\n",
       "       6.89261210e+03, 7.74263683e+03, 8.69749003e+03, 9.77009957e+03,\n",
       "       1.09749877e+04, 1.23284674e+04, 1.38488637e+04, 1.55567614e+04,\n",
       "       1.74752840e+04, 1.96304065e+04, 2.20513074e+04, 2.47707636e+04,\n",
       "       2.78255940e+04, 3.12571585e+04, 3.51119173e+04, 3.94420606e+04,\n",
       "       4.43062146e+04, 4.97702356e+04, 5.59081018e+04, 6.28029144e+04,\n",
       "       7.05480231e+04, 7.92482898e+04, 8.90215085e+04, 1.00000000e+05])}])</pre><b>In a Jupyter environment, please rerun this cell to show the HTML representation or trust the notebook. <br />On GitHub, the HTML representation is unable to render, please try loading this page with nbviewer.org.</b></div><div class=\"sk-container\" hidden><div class=\"sk-item sk-dashed-wrapped\"><div class=\"sk-label-container\"><div class=\"sk-label sk-toggleable\"><input class=\"sk-toggleable__control sk-hidden--visually\" id=\"sk-estimator-id-21\" type=\"checkbox\" ><label for=\"sk-estimator-id-21\" class=\"sk-toggleable__label sk-toggleable__label-arrow\">GridSearchCV</label><div class=\"sk-toggleable__content\"><pre>GridSearchCV(cv=10,\n",
       "             estimator=Pipeline(steps=[(&#x27;poly&#x27;, PolynomialFeatures()),\n",
       "                                       (&#x27;ss&#x27;, StandardScaler()),\n",
       "                                       (&#x27;model&#x27;, Ridge())]),\n",
       "             n_jobs=-1,\n",
       "             param_grid=[{&#x27;model__alpha&#x27;: array([1.00000000e+00, 1.12332403e+00, 1.26185688e+00, 1.41747416e+00,\n",
       "       1.59228279e+00, 1.78864953e+00, 2.00923300e+00, 2.25701972e+00,\n",
       "       2.53536449e+00, 2.84803587e+00, 3.19926714e+00, 3.59381366e+00,\n",
       "       4.0370...\n",
       "       6.89261210e+03, 7.74263683e+03, 8.69749003e+03, 9.77009957e+03,\n",
       "       1.09749877e+04, 1.23284674e+04, 1.38488637e+04, 1.55567614e+04,\n",
       "       1.74752840e+04, 1.96304065e+04, 2.20513074e+04, 2.47707636e+04,\n",
       "       2.78255940e+04, 3.12571585e+04, 3.51119173e+04, 3.94420606e+04,\n",
       "       4.43062146e+04, 4.97702356e+04, 5.59081018e+04, 6.28029144e+04,\n",
       "       7.05480231e+04, 7.92482898e+04, 8.90215085e+04, 1.00000000e+05])}])</pre></div></div></div><div class=\"sk-parallel\"><div class=\"sk-parallel-item\"><div class=\"sk-item\"><div class=\"sk-label-container\"><div class=\"sk-label sk-toggleable\"><input class=\"sk-toggleable__control sk-hidden--visually\" id=\"sk-estimator-id-22\" type=\"checkbox\" ><label for=\"sk-estimator-id-22\" class=\"sk-toggleable__label sk-toggleable__label-arrow\">estimator: Pipeline</label><div class=\"sk-toggleable__content\"><pre>Pipeline(steps=[(&#x27;poly&#x27;, PolynomialFeatures()), (&#x27;ss&#x27;, StandardScaler()),\n",
       "                (&#x27;model&#x27;, Ridge())])</pre></div></div></div><div class=\"sk-serial\"><div class=\"sk-item\"><div class=\"sk-serial\"><div class=\"sk-item\"><div class=\"sk-estimator sk-toggleable\"><input class=\"sk-toggleable__control sk-hidden--visually\" id=\"sk-estimator-id-23\" type=\"checkbox\" ><label for=\"sk-estimator-id-23\" class=\"sk-toggleable__label sk-toggleable__label-arrow\">PolynomialFeatures</label><div class=\"sk-toggleable__content\"><pre>PolynomialFeatures()</pre></div></div></div><div class=\"sk-item\"><div class=\"sk-estimator sk-toggleable\"><input class=\"sk-toggleable__control sk-hidden--visually\" id=\"sk-estimator-id-24\" type=\"checkbox\" ><label for=\"sk-estimator-id-24\" class=\"sk-toggleable__label sk-toggleable__label-arrow\">StandardScaler</label><div class=\"sk-toggleable__content\"><pre>StandardScaler()</pre></div></div></div><div class=\"sk-item\"><div class=\"sk-estimator sk-toggleable\"><input class=\"sk-toggleable__control sk-hidden--visually\" id=\"sk-estimator-id-25\" type=\"checkbox\" ><label for=\"sk-estimator-id-25\" class=\"sk-toggleable__label sk-toggleable__label-arrow\">Ridge</label><div class=\"sk-toggleable__content\"><pre>Ridge()</pre></div></div></div></div></div></div></div></div></div></div></div></div>"
      ],
      "text/plain": [
       "GridSearchCV(cv=10,\n",
       "             estimator=Pipeline(steps=[('poly', PolynomialFeatures()),\n",
       "                                       ('ss', StandardScaler()),\n",
       "                                       ('model', Ridge())]),\n",
       "             n_jobs=-1,\n",
       "             param_grid=[{'model__alpha': array([1.00000000e+00, 1.12332403e+00, 1.26185688e+00, 1.41747416e+00,\n",
       "       1.59228279e+00, 1.78864953e+00, 2.00923300e+00, 2.25701972e+00,\n",
       "       2.53536449e+00, 2.84803587e+00, 3.19926714e+00, 3.59381366e+00,\n",
       "       4.0370...\n",
       "       6.89261210e+03, 7.74263683e+03, 8.69749003e+03, 9.77009957e+03,\n",
       "       1.09749877e+04, 1.23284674e+04, 1.38488637e+04, 1.55567614e+04,\n",
       "       1.74752840e+04, 1.96304065e+04, 2.20513074e+04, 2.47707636e+04,\n",
       "       2.78255940e+04, 3.12571585e+04, 3.51119173e+04, 3.94420606e+04,\n",
       "       4.43062146e+04, 4.97702356e+04, 5.59081018e+04, 6.28029144e+04,\n",
       "       7.05480231e+04, 7.92482898e+04, 8.90215085e+04, 1.00000000e+05])}])"
      ]
     },
     "execution_count": 31,
     "metadata": {},
     "output_type": "execute_result"
    }
   ],
   "source": [
    "ridge_pipe = Pipeline([\n",
    "    ('poly', PolynomialFeatures(degree = 2)),\n",
    "    ('ss', StandardScaler()),\n",
    "    ('model', Ridge()),\n",
    "])\n",
    "\n",
    "ridge_params = [{\n",
    "    'model__alpha': np.logspace(0, 5, 100, 1000)\n",
    "}]\n",
    "\n",
    "ridge_gs = GridSearchCV(ridge_pipe, param_grid = ridge_params, cv = 10, n_jobs = -1)\n",
    "\n",
    "ridge_gs.fit(X_env_train, y_train_log)"
   ]
  },
  {
   "cell_type": "code",
   "execution_count": 32,
   "id": "48e6349c",
   "metadata": {},
   "outputs": [
    {
     "name": "stdout",
     "output_type": "stream",
     "text": [
      "{'model__alpha': 335.1602650938841}\n",
      "0.5647739735464051\n"
     ]
    }
   ],
   "source": [
    "ridge_train_preds = ridge_gs.predict(X_env_train)\n",
    "ridge_val_preds = ridge_gs.predict(X_env_val)\n",
    "actual_values = y_val\n",
    "print(ridge_gs.best_params_)\n",
    "print(ridge_gs.best_score_)"
   ]
  },
  {
   "cell_type": "markdown",
   "id": "4673d923",
   "metadata": {},
   "source": [
    "When finding the R squared values for the train score was 0.628 and the test score was 0.628, the tests show no overfitting or underfitting. Next, we looked at the RMSE and saw train score being 7.75 and test score of 11.48. These were simialr results to Linear Regression and Lasso Regression. "
   ]
  },
  {
   "cell_type": "code",
   "execution_count": 33,
   "id": "c83ae0c1",
   "metadata": {},
   "outputs": [
    {
     "name": "stdout",
     "output_type": "stream",
     "text": [
      "Ridge Train R squared: 0.6289026601080678\n",
      "Ridge Validation R squared: 0.6285256525881038\n",
      "\n",
      "\n",
      "Ridge Train RMSE: 7.758657891343572\n",
      "Ridge Validation RMSE: 11.485078117670305\n"
     ]
    }
   ],
   "source": [
    "print('Ridge Train R squared:', ridge_gs.score(X_env_train, y_train_log))\n",
    "print('Ridge Validation R squared:', ridge_gs.score(X_env_val, y_val_log))\n",
    "\n",
    "print('\\n')\n",
    "\n",
    "print('Ridge Train RMSE:', mean_squared_error(y_train, np.exp(ridge_train_preds), squared = False))\n",
    "print('Ridge Validation RMSE:', mean_squared_error(y_val, np.exp(ridge_val_preds), squared = False))"
   ]
  },
  {
   "cell_type": "markdown",
   "id": "99d0434c",
   "metadata": {},
   "source": [
    "The plot below looks at the ridge predicted values and the actual values. As we can see there are larger number of points accumuated near the 0-60 for the predicted values. We have some traces of predicted values around the 125 to 175 as well."
   ]
  },
  {
   "cell_type": "code",
   "execution_count": 90,
   "id": "04394ff4",
   "metadata": {},
   "outputs": [
    {
     "data": {
      "image/png": "[encoded data removed]",
      "text/plain": [
       "<Figure size 576x432 with 1 Axes>"
      ]
     },
     "metadata": {
      "needs_background": "light"
     },
     "output_type": "display_data"
    }
   ],
   "source": [
    "plt.figure(figsize=(8,6))\n",
    "plt.scatter(np.exp(ridge_val_preds), actual_values)\n",
    "plt.xlabel('Predicted')\n",
    "plt.ylabel('Actual')\n",
    "plt.title('Ridge Regression');"
   ]
  },
  {
   "cell_type": "markdown",
   "id": "924f05e4",
   "metadata": {},
   "source": [
    "### ElasticNet"
   ]
  },
  {
   "cell_type": "markdown",
   "id": "2f407d2c",
   "metadata": {},
   "source": [
    "An ElasticNet regression was done. Another gridsearch was done in which the pipeline had : standard Scaler, polynomial features, and then elasticnet. The polynomial feature was chosen to degree of 2, to be consistent with linear regression, but also had the best results when it came to r squared values. In the paramters for elasticnet, alpha was provided with multiple values and then l1 ration was included to be 0.1. a best parameter was done to find the optimal alpha which was 1, best l1 ratio 0.1 and the best score was 0.298. "
   ]
  },
  {
   "cell_type": "code",
   "execution_count": 35,
   "id": "b3ac3ba2",
   "metadata": {
    "scrolled": true
   },
   "outputs": [
    {
     "name": "stdout",
     "output_type": "stream",
     "text": [
      "Fitting 5 folds for each of 3 candidates, totalling 15 fits\n"
     ]
    },
    {
     "data": {
      "text/html": [
       "<style>#sk-container-id-6 {color: black;background-color: white;}#sk-container-id-6 pre{padding: 0;}#sk-container-id-6 div.sk-toggleable {background-color: white;}#sk-container-id-6 label.sk-toggleable__label {cursor: pointer;display: block;width: 100%;margin-bottom: 0;padding: 0.3em;box-sizing: border-box;text-align: center;}#sk-container-id-6 label.sk-toggleable__label-arrow:before {content: \"▸\";float: left;margin-right: 0.25em;color: #696969;}#sk-container-id-6 label.sk-toggleable__label-arrow:hover:before {color: black;}#sk-container-id-6 div.sk-estimator:hover label.sk-toggleable__label-arrow:before {color: black;}#sk-container-id-6 div.sk-toggleable__content {max-height: 0;max-width: 0;overflow: hidden;text-align: left;background-color: #f0f8ff;}#sk-container-id-6 div.sk-toggleable__content pre {margin: 0.2em;color: black;border-radius: 0.25em;background-color: #f0f8ff;}#sk-container-id-6 input.sk-toggleable__control:checked~div.sk-toggleable__content {max-height: 200px;max-width: 100%;overflow: auto;}#sk-container-id-6 input.sk-toggleable__control:checked~label.sk-toggleable__label-arrow:before {content: \"▾\";}#sk-container-id-6 div.sk-estimator input.sk-toggleable__control:checked~label.sk-toggleable__label {background-color: #d4ebff;}#sk-container-id-6 div.sk-label input.sk-toggleable__control:checked~label.sk-toggleable__label {background-color: #d4ebff;}#sk-container-id-6 input.sk-hidden--visually {border: 0;clip: rect(1px 1px 1px 1px);clip: rect(1px, 1px, 1px, 1px);height: 1px;margin: -1px;overflow: hidden;padding: 0;position: absolute;width: 1px;}#sk-container-id-6 div.sk-estimator {font-family: monospace;background-color: #f0f8ff;border: 1px dotted black;border-radius: 0.25em;box-sizing: border-box;margin-bottom: 0.5em;}#sk-container-id-6 div.sk-estimator:hover {background-color: #d4ebff;}#sk-container-id-6 div.sk-parallel-item::after {content: \"\";width: 100%;border-bottom: 1px solid gray;flex-grow: 1;}#sk-container-id-6 div.sk-label:hover label.sk-toggleable__label {background-color: #d4ebff;}#sk-container-id-6 div.sk-serial::before {content: \"\";position: absolute;border-left: 1px solid gray;box-sizing: border-box;top: 0;bottom: 0;left: 50%;z-index: 0;}#sk-container-id-6 div.sk-serial {display: flex;flex-direction: column;align-items: center;background-color: white;padding-right: 0.2em;padding-left: 0.2em;position: relative;}#sk-container-id-6 div.sk-item {position: relative;z-index: 1;}#sk-container-id-6 div.sk-parallel {display: flex;align-items: stretch;justify-content: center;background-color: white;position: relative;}#sk-container-id-6 div.sk-item::before, #sk-container-id-6 div.sk-parallel-item::before {content: \"\";position: absolute;border-left: 1px solid gray;box-sizing: border-box;top: 0;bottom: 0;left: 50%;z-index: -1;}#sk-container-id-6 div.sk-parallel-item {display: flex;flex-direction: column;z-index: 1;position: relative;background-color: white;}#sk-container-id-6 div.sk-parallel-item:first-child::after {align-self: flex-end;width: 50%;}#sk-container-id-6 div.sk-parallel-item:last-child::after {align-self: flex-start;width: 50%;}#sk-container-id-6 div.sk-parallel-item:only-child::after {width: 0;}#sk-container-id-6 div.sk-dashed-wrapped {border: 1px dashed gray;margin: 0 0.4em 0.5em 0.4em;box-sizing: border-box;padding-bottom: 0.4em;background-color: white;}#sk-container-id-6 div.sk-label label {font-family: monospace;font-weight: bold;display: inline-block;line-height: 1.2em;}#sk-container-id-6 div.sk-label-container {text-align: center;}#sk-container-id-6 div.sk-container {/* jupyter's `normalize.less` sets `[hidden] { display: none; }` but bootstrap.min.css set `[hidden] { display: none !important; }` so we also need the `!important` here to be able to override the default hidden behavior on the sphinx rendered scikit-learn.org. See: https://github.com/scikit-learn/scikit-learn/issues/21755 */display: inline-block !important;position: relative;}#sk-container-id-6 div.sk-text-repr-fallback {display: none;}</style><div id=\"sk-container-id-6\" class=\"sk-top-container\"><div class=\"sk-text-repr-fallback\"><pre>GridSearchCV(cv=5,\n",
       "             estimator=Pipeline(steps=[(&#x27;poly&#x27;, PolynomialFeatures()),\n",
       "                                       (&#x27;ss&#x27;, StandardScaler()),\n",
       "                                       (&#x27;enet&#x27;, ElasticNet())]),\n",
       "             param_grid={&#x27;enet__alpha&#x27;: [1, 100, 1000],\n",
       "                         &#x27;enet__l1_ratio&#x27;: [0.1]},\n",
       "             verbose=1)</pre><b>In a Jupyter environment, please rerun this cell to show the HTML representation or trust the notebook. <br />On GitHub, the HTML representation is unable to render, please try loading this page with nbviewer.org.</b></div><div class=\"sk-container\" hidden><div class=\"sk-item sk-dashed-wrapped\"><div class=\"sk-label-container\"><div class=\"sk-label sk-toggleable\"><input class=\"sk-toggleable__control sk-hidden--visually\" id=\"sk-estimator-id-26\" type=\"checkbox\" ><label for=\"sk-estimator-id-26\" class=\"sk-toggleable__label sk-toggleable__label-arrow\">GridSearchCV</label><div class=\"sk-toggleable__content\"><pre>GridSearchCV(cv=5,\n",
       "             estimator=Pipeline(steps=[(&#x27;poly&#x27;, PolynomialFeatures()),\n",
       "                                       (&#x27;ss&#x27;, StandardScaler()),\n",
       "                                       (&#x27;enet&#x27;, ElasticNet())]),\n",
       "             param_grid={&#x27;enet__alpha&#x27;: [1, 100, 1000],\n",
       "                         &#x27;enet__l1_ratio&#x27;: [0.1]},\n",
       "             verbose=1)</pre></div></div></div><div class=\"sk-parallel\"><div class=\"sk-parallel-item\"><div class=\"sk-item\"><div class=\"sk-label-container\"><div class=\"sk-label sk-toggleable\"><input class=\"sk-toggleable__control sk-hidden--visually\" id=\"sk-estimator-id-27\" type=\"checkbox\" ><label for=\"sk-estimator-id-27\" class=\"sk-toggleable__label sk-toggleable__label-arrow\">estimator: Pipeline</label><div class=\"sk-toggleable__content\"><pre>Pipeline(steps=[(&#x27;poly&#x27;, PolynomialFeatures()), (&#x27;ss&#x27;, StandardScaler()),\n",
       "                (&#x27;enet&#x27;, ElasticNet())])</pre></div></div></div><div class=\"sk-serial\"><div class=\"sk-item\"><div class=\"sk-serial\"><div class=\"sk-item\"><div class=\"sk-estimator sk-toggleable\"><input class=\"sk-toggleable__control sk-hidden--visually\" id=\"sk-estimator-id-28\" type=\"checkbox\" ><label for=\"sk-estimator-id-28\" class=\"sk-toggleable__label sk-toggleable__label-arrow\">PolynomialFeatures</label><div class=\"sk-toggleable__content\"><pre>PolynomialFeatures()</pre></div></div></div><div class=\"sk-item\"><div class=\"sk-estimator sk-toggleable\"><input class=\"sk-toggleable__control sk-hidden--visually\" id=\"sk-estimator-id-29\" type=\"checkbox\" ><label for=\"sk-estimator-id-29\" class=\"sk-toggleable__label sk-toggleable__label-arrow\">StandardScaler</label><div class=\"sk-toggleable__content\"><pre>StandardScaler()</pre></div></div></div><div class=\"sk-item\"><div class=\"sk-estimator sk-toggleable\"><input class=\"sk-toggleable__control sk-hidden--visually\" id=\"sk-estimator-id-30\" type=\"checkbox\" ><label for=\"sk-estimator-id-30\" class=\"sk-toggleable__label sk-toggleable__label-arrow\">ElasticNet</label><div class=\"sk-toggleable__content\"><pre>ElasticNet()</pre></div></div></div></div></div></div></div></div></div></div></div></div>"
      ],
      "text/plain": [
       "GridSearchCV(cv=5,\n",
       "             estimator=Pipeline(steps=[('poly', PolynomialFeatures()),\n",
       "                                       ('ss', StandardScaler()),\n",
       "                                       ('enet', ElasticNet())]),\n",
       "             param_grid={'enet__alpha': [1, 100, 1000],\n",
       "                         'enet__l1_ratio': [0.1]},\n",
       "             verbose=1)"
      ]
     },
     "execution_count": 35,
     "metadata": {},
     "output_type": "execute_result"
    }
   ],
   "source": [
    "elast_pipe = Pipeline([\n",
    "    ('poly', PolynomialFeatures(degree = 2)),\n",
    "    ('ss', StandardScaler()),\n",
    "    ('enet', ElasticNet())\n",
    "])\n",
    "\n",
    "elast_params = {\n",
    "    'enet__alpha': [1, 100, 1000],\n",
    "    'enet__l1_ratio': [0.1],\n",
    "    \n",
    "}\n",
    "\n",
    "elast_gs = GridSearchCV(elast_pipe, param_grid = elast_params, cv = 5, verbose = 1)\n",
    "elast_gs.fit(X_env_train, y_train_log)"
   ]
  },
  {
   "cell_type": "code",
   "execution_count": 36,
   "id": "8e899b3c",
   "metadata": {},
   "outputs": [
    {
     "name": "stdout",
     "output_type": "stream",
     "text": [
      "{'enet__alpha': 1, 'enet__l1_ratio': 0.1}\n",
      "0.29902401137017215\n"
     ]
    }
   ],
   "source": [
    "elast_train_preds = elast_gs.predict(X_env_train)\n",
    "elast_val_preds = elast_gs.predict(X_env_val)\n",
    "actual_values = y_val\n",
    "print(elast_gs.best_params_)\n",
    "print(elast_gs.best_score_)"
   ]
  },
  {
   "cell_type": "markdown",
   "id": "87fe8964",
   "metadata": {},
   "source": [
    "When finding the R squared values for the train score was 0.31 and the test score was 0.31, the tests show no overfitting or underfitting. Next, we looked at the RMSE and saw train score being 8.77 and test score of 12.37. This model performed worse when it came to the R squared values and the RMSE of the linear regression models."
   ]
  },
  {
   "cell_type": "code",
   "execution_count": 37,
   "id": "90862e83",
   "metadata": {},
   "outputs": [
    {
     "name": "stdout",
     "output_type": "stream",
     "text": [
      "ElasticNet Train R squared: 0.3166702477608486\n",
      "ElasticNet Validation R squared: 0.3108971413779703\n",
      "\n",
      "\n",
      "ElasticNet Train RMSE: 8.76939857012767\n",
      "ElasticNet Validation RMSE: 12.371206337722798\n"
     ]
    }
   ],
   "source": [
    "print('ElasticNet Train R squared:', elast_gs.score(X_env_train, y_train_log))\n",
    "print('ElasticNet Validation R squared:', elast_gs.score(X_env_val, y_val_log))\n",
    "\n",
    "print('\\n')\n",
    "\n",
    "print('ElasticNet Train RMSE:', mean_squared_error(y_train, np.exp(elast_train_preds), squared = False))\n",
    "print('ElasticNet Validation RMSE:', mean_squared_error(y_val, np.exp(elast_val_preds), squared = False))"
   ]
  },
  {
   "cell_type": "markdown",
   "id": "8e654dec",
   "metadata": {},
   "source": [
    "The plot below looks at the elasticnet predicted values and the actual values. As we can see there are larger number of points accumuated near the 0-50 for the predicted values and one point past 200 as well."
   ]
  },
  {
   "cell_type": "code",
   "execution_count": 91,
   "id": "c66fd7ff",
   "metadata": {
    "scrolled": true
   },
   "outputs": [
    {
     "data": {
      "image/png": "[encoded data removed]",
      "text/plain": [
       "<Figure size 576x432 with 1 Axes>"
      ]
     },
     "metadata": {
      "needs_background": "light"
     },
     "output_type": "display_data"
    }
   ],
   "source": [
    "plt.figure(figsize=(8,6))\n",
    "plt.scatter(np.exp(elast_val_preds), actual_values)\n",
    "plt.xlabel('Predicted')\n",
    "plt.ylabel('Actual')\n",
    "plt.title('ElasticNet Regression');"
   ]
  },
  {
   "cell_type": "markdown",
   "id": "e523f8e0",
   "metadata": {},
   "source": [
    "Whem comparing the linear regression models and each of the regluarization, It can be seen that Linear regression, Lasso, and Ridge had similar results, but Linear Regression did slightly better."
   ]
  },
  {
   "cell_type": "markdown",
   "id": "4df1869d",
   "metadata": {},
   "source": [
    "### K Nearest Neighbor"
   ]
  },
  {
   "cell_type": "markdown",
   "id": "bc69cb85",
   "metadata": {},
   "source": [
    "A pipeline and gridsearch was done for KNN Neighbor. the pipeline inlcudes StandardScaler and KNeighborregressor. The paramters for KNN were between 8,10, 12. The best param that was found for the KNN was 12. "
   ]
  },
  {
   "cell_type": "code",
   "execution_count": 126,
   "id": "ec1ce83c",
   "metadata": {},
   "outputs": [
    {
     "data": {
      "text/html": [
       "<style>#sk-container-id-18 {color: black;background-color: white;}#sk-container-id-18 pre{padding: 0;}#sk-container-id-18 div.sk-toggleable {background-color: white;}#sk-container-id-18 label.sk-toggleable__label {cursor: pointer;display: block;width: 100%;margin-bottom: 0;padding: 0.3em;box-sizing: border-box;text-align: center;}#sk-container-id-18 label.sk-toggleable__label-arrow:before {content: \"▸\";float: left;margin-right: 0.25em;color: #696969;}#sk-container-id-18 label.sk-toggleable__label-arrow:hover:before {color: black;}#sk-container-id-18 div.sk-estimator:hover label.sk-toggleable__label-arrow:before {color: black;}#sk-container-id-18 div.sk-toggleable__content {max-height: 0;max-width: 0;overflow: hidden;text-align: left;background-color: #f0f8ff;}#sk-container-id-18 div.sk-toggleable__content pre {margin: 0.2em;color: black;border-radius: 0.25em;background-color: #f0f8ff;}#sk-container-id-18 input.sk-toggleable__control:checked~div.sk-toggleable__content {max-height: 200px;max-width: 100%;overflow: auto;}#sk-container-id-18 input.sk-toggleable__control:checked~label.sk-toggleable__label-arrow:before {content: \"▾\";}#sk-container-id-18 div.sk-estimator input.sk-toggleable__control:checked~label.sk-toggleable__label {background-color: #d4ebff;}#sk-container-id-18 div.sk-label input.sk-toggleable__control:checked~label.sk-toggleable__label {background-color: #d4ebff;}#sk-container-id-18 input.sk-hidden--visually {border: 0;clip: rect(1px 1px 1px 1px);clip: rect(1px, 1px, 1px, 1px);height: 1px;margin: -1px;overflow: hidden;padding: 0;position: absolute;width: 1px;}#sk-container-id-18 div.sk-estimator {font-family: monospace;background-color: #f0f8ff;border: 1px dotted black;border-radius: 0.25em;box-sizing: border-box;margin-bottom: 0.5em;}#sk-container-id-18 div.sk-estimator:hover {background-color: #d4ebff;}#sk-container-id-18 div.sk-parallel-item::after {content: \"\";width: 100%;border-bottom: 1px solid gray;flex-grow: 1;}#sk-container-id-18 div.sk-label:hover label.sk-toggleable__label {background-color: #d4ebff;}#sk-container-id-18 div.sk-serial::before {content: \"\";position: absolute;border-left: 1px solid gray;box-sizing: border-box;top: 0;bottom: 0;left: 50%;z-index: 0;}#sk-container-id-18 div.sk-serial {display: flex;flex-direction: column;align-items: center;background-color: white;padding-right: 0.2em;padding-left: 0.2em;position: relative;}#sk-container-id-18 div.sk-item {position: relative;z-index: 1;}#sk-container-id-18 div.sk-parallel {display: flex;align-items: stretch;justify-content: center;background-color: white;position: relative;}#sk-container-id-18 div.sk-item::before, #sk-container-id-18 div.sk-parallel-item::before {content: \"\";position: absolute;border-left: 1px solid gray;box-sizing: border-box;top: 0;bottom: 0;left: 50%;z-index: -1;}#sk-container-id-18 div.sk-parallel-item {display: flex;flex-direction: column;z-index: 1;position: relative;background-color: white;}#sk-container-id-18 div.sk-parallel-item:first-child::after {align-self: flex-end;width: 50%;}#sk-container-id-18 div.sk-parallel-item:last-child::after {align-self: flex-start;width: 50%;}#sk-container-id-18 div.sk-parallel-item:only-child::after {width: 0;}#sk-container-id-18 div.sk-dashed-wrapped {border: 1px dashed gray;margin: 0 0.4em 0.5em 0.4em;box-sizing: border-box;padding-bottom: 0.4em;background-color: white;}#sk-container-id-18 div.sk-label label {font-family: monospace;font-weight: bold;display: inline-block;line-height: 1.2em;}#sk-container-id-18 div.sk-label-container {text-align: center;}#sk-container-id-18 div.sk-container {/* jupyter's `normalize.less` sets `[hidden] { display: none; }` but bootstrap.min.css set `[hidden] { display: none !important; }` so we also need the `!important` here to be able to override the default hidden behavior on the sphinx rendered scikit-learn.org. See: https://github.com/scikit-learn/scikit-learn/issues/21755 */display: inline-block !important;position: relative;}#sk-container-id-18 div.sk-text-repr-fallback {display: none;}</style><div id=\"sk-container-id-18\" class=\"sk-top-container\"><div class=\"sk-text-repr-fallback\"><pre>GridSearchCV(estimator=Pipeline(steps=[(&#x27;ss&#x27;, StandardScaler()),\n",
       "                                       (&#x27;knn&#x27;, KNeighborsRegressor())]),\n",
       "             param_grid={&#x27;knn__n_neighbors&#x27;: [8, 10, 12]})</pre><b>In a Jupyter environment, please rerun this cell to show the HTML representation or trust the notebook. <br />On GitHub, the HTML representation is unable to render, please try loading this page with nbviewer.org.</b></div><div class=\"sk-container\" hidden><div class=\"sk-item sk-dashed-wrapped\"><div class=\"sk-label-container\"><div class=\"sk-label sk-toggleable\"><input class=\"sk-toggleable__control sk-hidden--visually\" id=\"sk-estimator-id-75\" type=\"checkbox\" ><label for=\"sk-estimator-id-75\" class=\"sk-toggleable__label sk-toggleable__label-arrow\">GridSearchCV</label><div class=\"sk-toggleable__content\"><pre>GridSearchCV(estimator=Pipeline(steps=[(&#x27;ss&#x27;, StandardScaler()),\n",
       "                                       (&#x27;knn&#x27;, KNeighborsRegressor())]),\n",
       "             param_grid={&#x27;knn__n_neighbors&#x27;: [8, 10, 12]})</pre></div></div></div><div class=\"sk-parallel\"><div class=\"sk-parallel-item\"><div class=\"sk-item\"><div class=\"sk-label-container\"><div class=\"sk-label sk-toggleable\"><input class=\"sk-toggleable__control sk-hidden--visually\" id=\"sk-estimator-id-76\" type=\"checkbox\" ><label for=\"sk-estimator-id-76\" class=\"sk-toggleable__label sk-toggleable__label-arrow\">estimator: Pipeline</label><div class=\"sk-toggleable__content\"><pre>Pipeline(steps=[(&#x27;ss&#x27;, StandardScaler()), (&#x27;knn&#x27;, KNeighborsRegressor())])</pre></div></div></div><div class=\"sk-serial\"><div class=\"sk-item\"><div class=\"sk-serial\"><div class=\"sk-item\"><div class=\"sk-estimator sk-toggleable\"><input class=\"sk-toggleable__control sk-hidden--visually\" id=\"sk-estimator-id-77\" type=\"checkbox\" ><label for=\"sk-estimator-id-77\" class=\"sk-toggleable__label sk-toggleable__label-arrow\">StandardScaler</label><div class=\"sk-toggleable__content\"><pre>StandardScaler()</pre></div></div></div><div class=\"sk-item\"><div class=\"sk-estimator sk-toggleable\"><input class=\"sk-toggleable__control sk-hidden--visually\" id=\"sk-estimator-id-78\" type=\"checkbox\" ><label for=\"sk-estimator-id-78\" class=\"sk-toggleable__label sk-toggleable__label-arrow\">KNeighborsRegressor</label><div class=\"sk-toggleable__content\"><pre>KNeighborsRegressor()</pre></div></div></div></div></div></div></div></div></div></div></div></div>"
      ],
      "text/plain": [
       "GridSearchCV(estimator=Pipeline(steps=[('ss', StandardScaler()),\n",
       "                                       ('knn', KNeighborsRegressor())]),\n",
       "             param_grid={'knn__n_neighbors': [8, 10, 12]})"
      ]
     },
     "execution_count": 126,
     "metadata": {},
     "output_type": "execute_result"
    }
   ],
   "source": [
    "knn_pipe = Pipeline([\n",
    "    ('ss', StandardScaler()),\n",
    "    ('knn', KNeighborsRegressor())\n",
    "])\n",
    "\n",
    "knn_params = {\n",
    "    'knn__n_neighbors': [8,10, 12]\n",
    "}\n",
    "\n",
    "knn_gs = GridSearchCV(knn_pipe, param_grid = knn_params)\n",
    "\n",
    "knn_gs.fit(X_env_train, y_train)"
   ]
  },
  {
   "cell_type": "code",
   "execution_count": 127,
   "id": "3df558ba",
   "metadata": {},
   "outputs": [
    {
     "data": {
      "text/plain": [
       "{'knn__n_neighbors': 12}"
      ]
     },
     "execution_count": 127,
     "metadata": {},
     "output_type": "execute_result"
    }
   ],
   "source": [
    "knn_train_preds = knn_gs.predict(X_env_train)\n",
    "knn_val_preds = knn_gs.predict(X_env_val)\n",
    "knn_gs.best_params_"
   ]
  },
  {
   "cell_type": "markdown",
   "id": "52c4d51a",
   "metadata": {},
   "source": [
    "When finding the R squared values for the train score was 0.62 and the test score was 0.37, the tests shows signs of overfitting. Next, we looked at the RMSE and saw train score being 6.118 and test score of 10.49. "
   ]
  },
  {
   "cell_type": "code",
   "execution_count": 128,
   "id": "8aa4601f",
   "metadata": {},
   "outputs": [
    {
     "name": "stdout",
     "output_type": "stream",
     "text": [
      "KNN Train R squared: 0.6247927629909882\n",
      "KNN Validation R squared: 0.3713421820052467\n",
      "\n",
      "\n",
      "KNN Train RMSE: 6.118411650911307\n",
      "KNN Validation RMSE: 10.488044277956329\n"
     ]
    }
   ],
   "source": [
    "print('KNN Train R squared:', knn_gs.score(X_env_train, y_train))\n",
    "print('KNN Validation R squared:', knn_gs.score(X_env_val, y_val))\n",
    "\n",
    "print('\\n')\n",
    "\n",
    "print('KNN Train RMSE:', mean_squared_error(y_train, knn_train_preds, squared = False))\n",
    "print('KNN Validation RMSE:', mean_squared_error(y_val, knn_val_preds, squared = False))"
   ]
  },
  {
   "cell_type": "markdown",
   "id": "c36bb302",
   "metadata": {},
   "source": [
    "### Decision Tree"
   ]
  },
  {
   "cell_type": "markdown",
   "id": "765d0ebd",
   "metadata": {},
   "source": [
    "A decision tree was done, in which a random state was included to keep the results similar. Three paramters were looked at which include max_depth, max_features, and min_samples_split. The max depth looks at maximum depth of the tree. min_samples_split looks at the minimum number of splits to split a node. The max_features looks at number of features for best split. The best paramters that were found were 5 for max_depth, 0.85 for max_features, and 2 for min_samples_split"
   ]
  },
  {
   "cell_type": "code",
   "execution_count": 129,
   "id": "eceb161b",
   "metadata": {},
   "outputs": [
    {
     "data": {
      "text/html": [
       "<style>#sk-container-id-19 {color: black;background-color: white;}#sk-container-id-19 pre{padding: 0;}#sk-container-id-19 div.sk-toggleable {background-color: white;}#sk-container-id-19 label.sk-toggleable__label {cursor: pointer;display: block;width: 100%;margin-bottom: 0;padding: 0.3em;box-sizing: border-box;text-align: center;}#sk-container-id-19 label.sk-toggleable__label-arrow:before {content: \"▸\";float: left;margin-right: 0.25em;color: #696969;}#sk-container-id-19 label.sk-toggleable__label-arrow:hover:before {color: black;}#sk-container-id-19 div.sk-estimator:hover label.sk-toggleable__label-arrow:before {color: black;}#sk-container-id-19 div.sk-toggleable__content {max-height: 0;max-width: 0;overflow: hidden;text-align: left;background-color: #f0f8ff;}#sk-container-id-19 div.sk-toggleable__content pre {margin: 0.2em;color: black;border-radius: 0.25em;background-color: #f0f8ff;}#sk-container-id-19 input.sk-toggleable__control:checked~div.sk-toggleable__content {max-height: 200px;max-width: 100%;overflow: auto;}#sk-container-id-19 input.sk-toggleable__control:checked~label.sk-toggleable__label-arrow:before {content: \"▾\";}#sk-container-id-19 div.sk-estimator input.sk-toggleable__control:checked~label.sk-toggleable__label {background-color: #d4ebff;}#sk-container-id-19 div.sk-label input.sk-toggleable__control:checked~label.sk-toggleable__label {background-color: #d4ebff;}#sk-container-id-19 input.sk-hidden--visually {border: 0;clip: rect(1px 1px 1px 1px);clip: rect(1px, 1px, 1px, 1px);height: 1px;margin: -1px;overflow: hidden;padding: 0;position: absolute;width: 1px;}#sk-container-id-19 div.sk-estimator {font-family: monospace;background-color: #f0f8ff;border: 1px dotted black;border-radius: 0.25em;box-sizing: border-box;margin-bottom: 0.5em;}#sk-container-id-19 div.sk-estimator:hover {background-color: #d4ebff;}#sk-container-id-19 div.sk-parallel-item::after {content: \"\";width: 100%;border-bottom: 1px solid gray;flex-grow: 1;}#sk-container-id-19 div.sk-label:hover label.sk-toggleable__label {background-color: #d4ebff;}#sk-container-id-19 div.sk-serial::before {content: \"\";position: absolute;border-left: 1px solid gray;box-sizing: border-box;top: 0;bottom: 0;left: 50%;z-index: 0;}#sk-container-id-19 div.sk-serial {display: flex;flex-direction: column;align-items: center;background-color: white;padding-right: 0.2em;padding-left: 0.2em;position: relative;}#sk-container-id-19 div.sk-item {position: relative;z-index: 1;}#sk-container-id-19 div.sk-parallel {display: flex;align-items: stretch;justify-content: center;background-color: white;position: relative;}#sk-container-id-19 div.sk-item::before, #sk-container-id-19 div.sk-parallel-item::before {content: \"\";position: absolute;border-left: 1px solid gray;box-sizing: border-box;top: 0;bottom: 0;left: 50%;z-index: -1;}#sk-container-id-19 div.sk-parallel-item {display: flex;flex-direction: column;z-index: 1;position: relative;background-color: white;}#sk-container-id-19 div.sk-parallel-item:first-child::after {align-self: flex-end;width: 50%;}#sk-container-id-19 div.sk-parallel-item:last-child::after {align-self: flex-start;width: 50%;}#sk-container-id-19 div.sk-parallel-item:only-child::after {width: 0;}#sk-container-id-19 div.sk-dashed-wrapped {border: 1px dashed gray;margin: 0 0.4em 0.5em 0.4em;box-sizing: border-box;padding-bottom: 0.4em;background-color: white;}#sk-container-id-19 div.sk-label label {font-family: monospace;font-weight: bold;display: inline-block;line-height: 1.2em;}#sk-container-id-19 div.sk-label-container {text-align: center;}#sk-container-id-19 div.sk-container {/* jupyter's `normalize.less` sets `[hidden] { display: none; }` but bootstrap.min.css set `[hidden] { display: none !important; }` so we also need the `!important` here to be able to override the default hidden behavior on the sphinx rendered scikit-learn.org. See: https://github.com/scikit-learn/scikit-learn/issues/21755 */display: inline-block !important;position: relative;}#sk-container-id-19 div.sk-text-repr-fallback {display: none;}</style><div id=\"sk-container-id-19\" class=\"sk-top-container\"><div class=\"sk-text-repr-fallback\"><pre>GridSearchCV(estimator=Pipeline(steps=[(&#x27;dt&#x27;,\n",
       "                                        DecisionTreeRegressor(random_state=13))]),\n",
       "             param_grid={&#x27;dt__max_depth&#x27;: [3, 5, 7, 10],\n",
       "                         &#x27;dt__max_features&#x27;: [0.65, 0.75, 0.85, 1],\n",
       "                         &#x27;dt__min_samples_split&#x27;: [2, 4, 5]})</pre><b>In a Jupyter environment, please rerun this cell to show the HTML representation or trust the notebook. <br />On GitHub, the HTML representation is unable to render, please try loading this page with nbviewer.org.</b></div><div class=\"sk-container\" hidden><div class=\"sk-item sk-dashed-wrapped\"><div class=\"sk-label-container\"><div class=\"sk-label sk-toggleable\"><input class=\"sk-toggleable__control sk-hidden--visually\" id=\"sk-estimator-id-79\" type=\"checkbox\" ><label for=\"sk-estimator-id-79\" class=\"sk-toggleable__label sk-toggleable__label-arrow\">GridSearchCV</label><div class=\"sk-toggleable__content\"><pre>GridSearchCV(estimator=Pipeline(steps=[(&#x27;dt&#x27;,\n",
       "                                        DecisionTreeRegressor(random_state=13))]),\n",
       "             param_grid={&#x27;dt__max_depth&#x27;: [3, 5, 7, 10],\n",
       "                         &#x27;dt__max_features&#x27;: [0.65, 0.75, 0.85, 1],\n",
       "                         &#x27;dt__min_samples_split&#x27;: [2, 4, 5]})</pre></div></div></div><div class=\"sk-parallel\"><div class=\"sk-parallel-item\"><div class=\"sk-item\"><div class=\"sk-label-container\"><div class=\"sk-label sk-toggleable\"><input class=\"sk-toggleable__control sk-hidden--visually\" id=\"sk-estimator-id-80\" type=\"checkbox\" ><label for=\"sk-estimator-id-80\" class=\"sk-toggleable__label sk-toggleable__label-arrow\">estimator: Pipeline</label><div class=\"sk-toggleable__content\"><pre>Pipeline(steps=[(&#x27;dt&#x27;, DecisionTreeRegressor(random_state=13))])</pre></div></div></div><div class=\"sk-serial\"><div class=\"sk-item\"><div class=\"sk-serial\"><div class=\"sk-item\"><div class=\"sk-estimator sk-toggleable\"><input class=\"sk-toggleable__control sk-hidden--visually\" id=\"sk-estimator-id-81\" type=\"checkbox\" ><label for=\"sk-estimator-id-81\" class=\"sk-toggleable__label sk-toggleable__label-arrow\">DecisionTreeRegressor</label><div class=\"sk-toggleable__content\"><pre>DecisionTreeRegressor(random_state=13)</pre></div></div></div></div></div></div></div></div></div></div></div></div>"
      ],
      "text/plain": [
       "GridSearchCV(estimator=Pipeline(steps=[('dt',\n",
       "                                        DecisionTreeRegressor(random_state=13))]),\n",
       "             param_grid={'dt__max_depth': [3, 5, 7, 10],\n",
       "                         'dt__max_features': [0.65, 0.75, 0.85, 1],\n",
       "                         'dt__min_samples_split': [2, 4, 5]})"
      ]
     },
     "execution_count": 129,
     "metadata": {},
     "output_type": "execute_result"
    }
   ],
   "source": [
    "dt_pipe = Pipeline([\n",
    "    ('dt', DecisionTreeRegressor(random_state = 13))\n",
    "])\n",
    "\n",
    "dt_params = {\n",
    "    'dt__max_depth': [3, 5, 7, 10],\n",
    "    'dt__max_features': [0.65, 0.75, 0.85, 1],\n",
    "    'dt__min_samples_split': [2, 4, 5],\n",
    "}\n",
    "\n",
    "dt_gs = GridSearchCV(dt_pipe, param_grid = dt_params)\n",
    "\n",
    "#fit model\n",
    "dt_gs.fit(X_env_train, y_train)"
   ]
  },
  {
   "cell_type": "code",
   "execution_count": 130,
   "id": "f3e5b0bc",
   "metadata": {},
   "outputs": [
    {
     "data": {
      "text/plain": [
       "{'dt__max_depth': 5, 'dt__max_features': 0.85, 'dt__min_samples_split': 2}"
      ]
     },
     "execution_count": 130,
     "metadata": {},
     "output_type": "execute_result"
    }
   ],
   "source": [
    "#train model\n",
    "dt_train_preds = dt_gs.predict(X_env_train)\n",
    "dt_val_preds = dt_gs.predict(X_env_val)\n",
    "#best params\n",
    "dt_gs.best_params_"
   ]
  },
  {
   "cell_type": "markdown",
   "id": "9c675951",
   "metadata": {},
   "source": [
    "When finding the R squared values for the train score was 0.459 and the test score was 0.26, the tests shows signs of overfitting. Next, we looked at the RMSE and saw train score being 7.3427 and test score of 11.383. "
   ]
  },
  {
   "cell_type": "code",
   "execution_count": 131,
   "id": "3968f17a",
   "metadata": {},
   "outputs": [
    {
     "name": "stdout",
     "output_type": "stream",
     "text": [
      "Decision Tree Train R squared: 0.4596019287628853\n",
      "Decision Tree Validation R squared: 0.2594564094421278\n",
      "\n",
      "\n",
      "Decision Tree Train RMSE: 7.342771019461973\n",
      "Decision Tree Validation RMSE: 11.38315541884443\n"
     ]
    }
   ],
   "source": [
    "#return metrics\n",
    "print('Decision Tree Train R squared:', dt_gs.score(X_env_train, y_train))\n",
    "print('Decision Tree Validation R squared:', dt_gs.score(X_env_val, y_val))\n",
    "\n",
    "print('\\n')\n",
    "\n",
    "print('Decision Tree Train RMSE:', mean_squared_error(y_train, dt_train_preds, squared = False))\n",
    "print('Decision Tree Validation RMSE:', mean_squared_error(y_val, dt_val_preds, squared = False))"
   ]
  },
  {
   "cell_type": "markdown",
   "id": "71638936",
   "metadata": {},
   "source": [
    "### Bagging Regressor"
   ]
  },
  {
   "cell_type": "markdown",
   "id": "a2d86c77",
   "metadata": {},
   "source": [
    "The random_state was put at 13. The parameters that were used for bagging regressor were n_estimators looks at the base estimators, max_samples looks at the number of samples to train for each estimator, and max features looks at number of featured to train for the base estimator. The best paramters were 0.65 for max_features, 0.85 for max_samples, and 15 for n_estimators. "
   ]
  },
  {
   "cell_type": "code",
   "execution_count": 139,
   "id": "235a6f9e",
   "metadata": {},
   "outputs": [
    {
     "data": {
      "text/html": [
       "<style>#sk-container-id-22 {color: black;background-color: white;}#sk-container-id-22 pre{padding: 0;}#sk-container-id-22 div.sk-toggleable {background-color: white;}#sk-container-id-22 label.sk-toggleable__label {cursor: pointer;display: block;width: 100%;margin-bottom: 0;padding: 0.3em;box-sizing: border-box;text-align: center;}#sk-container-id-22 label.sk-toggleable__label-arrow:before {content: \"▸\";float: left;margin-right: 0.25em;color: #696969;}#sk-container-id-22 label.sk-toggleable__label-arrow:hover:before {color: black;}#sk-container-id-22 div.sk-estimator:hover label.sk-toggleable__label-arrow:before {color: black;}#sk-container-id-22 div.sk-toggleable__content {max-height: 0;max-width: 0;overflow: hidden;text-align: left;background-color: #f0f8ff;}#sk-container-id-22 div.sk-toggleable__content pre {margin: 0.2em;color: black;border-radius: 0.25em;background-color: #f0f8ff;}#sk-container-id-22 input.sk-toggleable__control:checked~div.sk-toggleable__content {max-height: 200px;max-width: 100%;overflow: auto;}#sk-container-id-22 input.sk-toggleable__control:checked~label.sk-toggleable__label-arrow:before {content: \"▾\";}#sk-container-id-22 div.sk-estimator input.sk-toggleable__control:checked~label.sk-toggleable__label {background-color: #d4ebff;}#sk-container-id-22 div.sk-label input.sk-toggleable__control:checked~label.sk-toggleable__label {background-color: #d4ebff;}#sk-container-id-22 input.sk-hidden--visually {border: 0;clip: rect(1px 1px 1px 1px);clip: rect(1px, 1px, 1px, 1px);height: 1px;margin: -1px;overflow: hidden;padding: 0;position: absolute;width: 1px;}#sk-container-id-22 div.sk-estimator {font-family: monospace;background-color: #f0f8ff;border: 1px dotted black;border-radius: 0.25em;box-sizing: border-box;margin-bottom: 0.5em;}#sk-container-id-22 div.sk-estimator:hover {background-color: #d4ebff;}#sk-container-id-22 div.sk-parallel-item::after {content: \"\";width: 100%;border-bottom: 1px solid gray;flex-grow: 1;}#sk-container-id-22 div.sk-label:hover label.sk-toggleable__label {background-color: #d4ebff;}#sk-container-id-22 div.sk-serial::before {content: \"\";position: absolute;border-left: 1px solid gray;box-sizing: border-box;top: 0;bottom: 0;left: 50%;z-index: 0;}#sk-container-id-22 div.sk-serial {display: flex;flex-direction: column;align-items: center;background-color: white;padding-right: 0.2em;padding-left: 0.2em;position: relative;}#sk-container-id-22 div.sk-item {position: relative;z-index: 1;}#sk-container-id-22 div.sk-parallel {display: flex;align-items: stretch;justify-content: center;background-color: white;position: relative;}#sk-container-id-22 div.sk-item::before, #sk-container-id-22 div.sk-parallel-item::before {content: \"\";position: absolute;border-left: 1px solid gray;box-sizing: border-box;top: 0;bottom: 0;left: 50%;z-index: -1;}#sk-container-id-22 div.sk-parallel-item {display: flex;flex-direction: column;z-index: 1;position: relative;background-color: white;}#sk-container-id-22 div.sk-parallel-item:first-child::after {align-self: flex-end;width: 50%;}#sk-container-id-22 div.sk-parallel-item:last-child::after {align-self: flex-start;width: 50%;}#sk-container-id-22 div.sk-parallel-item:only-child::after {width: 0;}#sk-container-id-22 div.sk-dashed-wrapped {border: 1px dashed gray;margin: 0 0.4em 0.5em 0.4em;box-sizing: border-box;padding-bottom: 0.4em;background-color: white;}#sk-container-id-22 div.sk-label label {font-family: monospace;font-weight: bold;display: inline-block;line-height: 1.2em;}#sk-container-id-22 div.sk-label-container {text-align: center;}#sk-container-id-22 div.sk-container {/* jupyter's `normalize.less` sets `[hidden] { display: none; }` but bootstrap.min.css set `[hidden] { display: none !important; }` so we also need the `!important` here to be able to override the default hidden behavior on the sphinx rendered scikit-learn.org. See: https://github.com/scikit-learn/scikit-learn/issues/21755 */display: inline-block !important;position: relative;}#sk-container-id-22 div.sk-text-repr-fallback {display: none;}</style><div id=\"sk-container-id-22\" class=\"sk-top-container\"><div class=\"sk-text-repr-fallback\"><pre>GridSearchCV(estimator=Pipeline(steps=[(&#x27;bag&#x27;,\n",
       "                                        BaggingRegressor(random_state=13))]),\n",
       "             param_grid={&#x27;bag__max_features&#x27;: [0.65, 0.75, 0.85],\n",
       "                         &#x27;bag__max_samples&#x27;: [0.65, 0.75, 0.85],\n",
       "                         &#x27;bag__n_estimators&#x27;: [11, 13, 15]})</pre><b>In a Jupyter environment, please rerun this cell to show the HTML representation or trust the notebook. <br />On GitHub, the HTML representation is unable to render, please try loading this page with nbviewer.org.</b></div><div class=\"sk-container\" hidden><div class=\"sk-item sk-dashed-wrapped\"><div class=\"sk-label-container\"><div class=\"sk-label sk-toggleable\"><input class=\"sk-toggleable__control sk-hidden--visually\" id=\"sk-estimator-id-88\" type=\"checkbox\" ><label for=\"sk-estimator-id-88\" class=\"sk-toggleable__label sk-toggleable__label-arrow\">GridSearchCV</label><div class=\"sk-toggleable__content\"><pre>GridSearchCV(estimator=Pipeline(steps=[(&#x27;bag&#x27;,\n",
       "                                        BaggingRegressor(random_state=13))]),\n",
       "             param_grid={&#x27;bag__max_features&#x27;: [0.65, 0.75, 0.85],\n",
       "                         &#x27;bag__max_samples&#x27;: [0.65, 0.75, 0.85],\n",
       "                         &#x27;bag__n_estimators&#x27;: [11, 13, 15]})</pre></div></div></div><div class=\"sk-parallel\"><div class=\"sk-parallel-item\"><div class=\"sk-item\"><div class=\"sk-label-container\"><div class=\"sk-label sk-toggleable\"><input class=\"sk-toggleable__control sk-hidden--visually\" id=\"sk-estimator-id-89\" type=\"checkbox\" ><label for=\"sk-estimator-id-89\" class=\"sk-toggleable__label sk-toggleable__label-arrow\">estimator: Pipeline</label><div class=\"sk-toggleable__content\"><pre>Pipeline(steps=[(&#x27;bag&#x27;, BaggingRegressor(random_state=13))])</pre></div></div></div><div class=\"sk-serial\"><div class=\"sk-item\"><div class=\"sk-serial\"><div class=\"sk-item\"><div class=\"sk-estimator sk-toggleable\"><input class=\"sk-toggleable__control sk-hidden--visually\" id=\"sk-estimator-id-90\" type=\"checkbox\" ><label for=\"sk-estimator-id-90\" class=\"sk-toggleable__label sk-toggleable__label-arrow\">BaggingRegressor</label><div class=\"sk-toggleable__content\"><pre>BaggingRegressor(random_state=13)</pre></div></div></div></div></div></div></div></div></div></div></div></div>"
      ],
      "text/plain": [
       "GridSearchCV(estimator=Pipeline(steps=[('bag',\n",
       "                                        BaggingRegressor(random_state=13))]),\n",
       "             param_grid={'bag__max_features': [0.65, 0.75, 0.85],\n",
       "                         'bag__max_samples': [0.65, 0.75, 0.85],\n",
       "                         'bag__n_estimators': [11, 13, 15]})"
      ]
     },
     "execution_count": 139,
     "metadata": {},
     "output_type": "execute_result"
    }
   ],
   "source": [
    "bag_pipe = Pipeline([\n",
    "    ('bag', BaggingRegressor(random_state = 13))\n",
    "])\n",
    "\n",
    "bag_params = {\n",
    "    'bag__n_estimators': [11,13,15],\n",
    "    'bag__max_samples': [0.65, 0.75, 0.85],\n",
    "    'bag__max_features': [0.65, 0.75, 0.85],\n",
    "}\n",
    "\n",
    "bag_gs = GridSearchCV(bag_pipe, param_grid = bag_params)\n",
    "\n",
    "bag_gs.fit(X_env_train, y_train)"
   ]
  },
  {
   "cell_type": "code",
   "execution_count": 140,
   "id": "4c4f4701",
   "metadata": {},
   "outputs": [
    {
     "data": {
      "text/plain": [
       "{'bag__max_features': 0.65, 'bag__max_samples': 0.85, 'bag__n_estimators': 15}"
      ]
     },
     "execution_count": 140,
     "metadata": {},
     "output_type": "execute_result"
    }
   ],
   "source": [
    "bag_train_preds = bag_gs.predict(X_env_train)\n",
    "bag_val_preds = bag_gs.predict(X_env_val)\n",
    "bag_gs.best_params_"
   ]
  },
  {
   "cell_type": "markdown",
   "id": "1e98dfb7",
   "metadata": {},
   "source": [
    "When finding the R squared values for the train score was 0.897 and the test score was 0.394, the tests shows signs of overfitting. Next, we looked at the RMSE and saw train score being 3.193 and test score of 10.296. "
   ]
  },
  {
   "cell_type": "code",
   "execution_count": 141,
   "id": "9a6e13e0",
   "metadata": {},
   "outputs": [
    {
     "name": "stdout",
     "output_type": "stream",
     "text": [
      "Bag Train R squared: 0.8977651472285175\n",
      "Bag Validation R squared: 0.39410993835499875\n",
      "\n",
      "\n",
      "Bag Train RMSE: 3.1937622110946897\n",
      "Bag Validation RMSE: 10.296372978950076\n"
     ]
    }
   ],
   "source": [
    "print('Bag Train R squared:', bag_gs.score(X_env_train, y_train))\n",
    "print('Bag Validation R squared:', bag_gs.score(X_env_val, y_val))\n",
    "\n",
    "print('\\n')\n",
    "\n",
    "print('Bag Train RMSE:', mean_squared_error(y_train, bag_train_preds, squared = False))\n",
    "print('Bag Validation RMSE:', mean_squared_error(y_val, bag_val_preds, squared = False))"
   ]
  },
  {
   "cell_type": "markdown",
   "id": "d981986b",
   "metadata": {},
   "source": [
    "### RandomForest"
   ]
  },
  {
   "cell_type": "markdown",
   "id": "37b35121",
   "metadata": {},
   "source": [
    "RandomForest was done with the parameters including: n_estimators which is the number of trees, max_depth is the maximum depth of trees, max_features is the number of features for the best split, and max_samples is the number of samples to train based of each estimator. The best paramters were 7 for max_depth, sqrt for max_features, 0.65 for max_samples, and 150 for n_estimators"
   ]
  },
  {
   "cell_type": "code",
   "execution_count": 142,
   "id": "1383835a",
   "metadata": {},
   "outputs": [
    {
     "data": {
      "text/html": [
       "<style>#sk-container-id-23 {color: black;background-color: white;}#sk-container-id-23 pre{padding: 0;}#sk-container-id-23 div.sk-toggleable {background-color: white;}#sk-container-id-23 label.sk-toggleable__label {cursor: pointer;display: block;width: 100%;margin-bottom: 0;padding: 0.3em;box-sizing: border-box;text-align: center;}#sk-container-id-23 label.sk-toggleable__label-arrow:before {content: \"▸\";float: left;margin-right: 0.25em;color: #696969;}#sk-container-id-23 label.sk-toggleable__label-arrow:hover:before {color: black;}#sk-container-id-23 div.sk-estimator:hover label.sk-toggleable__label-arrow:before {color: black;}#sk-container-id-23 div.sk-toggleable__content {max-height: 0;max-width: 0;overflow: hidden;text-align: left;background-color: #f0f8ff;}#sk-container-id-23 div.sk-toggleable__content pre {margin: 0.2em;color: black;border-radius: 0.25em;background-color: #f0f8ff;}#sk-container-id-23 input.sk-toggleable__control:checked~div.sk-toggleable__content {max-height: 200px;max-width: 100%;overflow: auto;}#sk-container-id-23 input.sk-toggleable__control:checked~label.sk-toggleable__label-arrow:before {content: \"▾\";}#sk-container-id-23 div.sk-estimator input.sk-toggleable__control:checked~label.sk-toggleable__label {background-color: #d4ebff;}#sk-container-id-23 div.sk-label input.sk-toggleable__control:checked~label.sk-toggleable__label {background-color: #d4ebff;}#sk-container-id-23 input.sk-hidden--visually {border: 0;clip: rect(1px 1px 1px 1px);clip: rect(1px, 1px, 1px, 1px);height: 1px;margin: -1px;overflow: hidden;padding: 0;position: absolute;width: 1px;}#sk-container-id-23 div.sk-estimator {font-family: monospace;background-color: #f0f8ff;border: 1px dotted black;border-radius: 0.25em;box-sizing: border-box;margin-bottom: 0.5em;}#sk-container-id-23 div.sk-estimator:hover {background-color: #d4ebff;}#sk-container-id-23 div.sk-parallel-item::after {content: \"\";width: 100%;border-bottom: 1px solid gray;flex-grow: 1;}#sk-container-id-23 div.sk-label:hover label.sk-toggleable__label {background-color: #d4ebff;}#sk-container-id-23 div.sk-serial::before {content: \"\";position: absolute;border-left: 1px solid gray;box-sizing: border-box;top: 0;bottom: 0;left: 50%;z-index: 0;}#sk-container-id-23 div.sk-serial {display: flex;flex-direction: column;align-items: center;background-color: white;padding-right: 0.2em;padding-left: 0.2em;position: relative;}#sk-container-id-23 div.sk-item {position: relative;z-index: 1;}#sk-container-id-23 div.sk-parallel {display: flex;align-items: stretch;justify-content: center;background-color: white;position: relative;}#sk-container-id-23 div.sk-item::before, #sk-container-id-23 div.sk-parallel-item::before {content: \"\";position: absolute;border-left: 1px solid gray;box-sizing: border-box;top: 0;bottom: 0;left: 50%;z-index: -1;}#sk-container-id-23 div.sk-parallel-item {display: flex;flex-direction: column;z-index: 1;position: relative;background-color: white;}#sk-container-id-23 div.sk-parallel-item:first-child::after {align-self: flex-end;width: 50%;}#sk-container-id-23 div.sk-parallel-item:last-child::after {align-self: flex-start;width: 50%;}#sk-container-id-23 div.sk-parallel-item:only-child::after {width: 0;}#sk-container-id-23 div.sk-dashed-wrapped {border: 1px dashed gray;margin: 0 0.4em 0.5em 0.4em;box-sizing: border-box;padding-bottom: 0.4em;background-color: white;}#sk-container-id-23 div.sk-label label {font-family: monospace;font-weight: bold;display: inline-block;line-height: 1.2em;}#sk-container-id-23 div.sk-label-container {text-align: center;}#sk-container-id-23 div.sk-container {/* jupyter's `normalize.less` sets `[hidden] { display: none; }` but bootstrap.min.css set `[hidden] { display: none !important; }` so we also need the `!important` here to be able to override the default hidden behavior on the sphinx rendered scikit-learn.org. See: https://github.com/scikit-learn/scikit-learn/issues/21755 */display: inline-block !important;position: relative;}#sk-container-id-23 div.sk-text-repr-fallback {display: none;}</style><div id=\"sk-container-id-23\" class=\"sk-top-container\"><div class=\"sk-text-repr-fallback\"><pre>GridSearchCV(estimator=Pipeline(steps=[(&#x27;rf&#x27;,\n",
       "                                        RandomForestRegressor(random_state=13))]),\n",
       "             param_grid={&#x27;rf__max_depth&#x27;: [5, 7, 9],\n",
       "                         &#x27;rf__max_features&#x27;: [&#x27;sqrt&#x27;, 1],\n",
       "                         &#x27;rf__max_samples&#x27;: [0.65, 0.75, 0.85],\n",
       "                         &#x27;rf__n_estimators&#x27;: [50, 75, 100, 150]})</pre><b>In a Jupyter environment, please rerun this cell to show the HTML representation or trust the notebook. <br />On GitHub, the HTML representation is unable to render, please try loading this page with nbviewer.org.</b></div><div class=\"sk-container\" hidden><div class=\"sk-item sk-dashed-wrapped\"><div class=\"sk-label-container\"><div class=\"sk-label sk-toggleable\"><input class=\"sk-toggleable__control sk-hidden--visually\" id=\"sk-estimator-id-91\" type=\"checkbox\" ><label for=\"sk-estimator-id-91\" class=\"sk-toggleable__label sk-toggleable__label-arrow\">GridSearchCV</label><div class=\"sk-toggleable__content\"><pre>GridSearchCV(estimator=Pipeline(steps=[(&#x27;rf&#x27;,\n",
       "                                        RandomForestRegressor(random_state=13))]),\n",
       "             param_grid={&#x27;rf__max_depth&#x27;: [5, 7, 9],\n",
       "                         &#x27;rf__max_features&#x27;: [&#x27;sqrt&#x27;, 1],\n",
       "                         &#x27;rf__max_samples&#x27;: [0.65, 0.75, 0.85],\n",
       "                         &#x27;rf__n_estimators&#x27;: [50, 75, 100, 150]})</pre></div></div></div><div class=\"sk-parallel\"><div class=\"sk-parallel-item\"><div class=\"sk-item\"><div class=\"sk-label-container\"><div class=\"sk-label sk-toggleable\"><input class=\"sk-toggleable__control sk-hidden--visually\" id=\"sk-estimator-id-92\" type=\"checkbox\" ><label for=\"sk-estimator-id-92\" class=\"sk-toggleable__label sk-toggleable__label-arrow\">estimator: Pipeline</label><div class=\"sk-toggleable__content\"><pre>Pipeline(steps=[(&#x27;rf&#x27;, RandomForestRegressor(random_state=13))])</pre></div></div></div><div class=\"sk-serial\"><div class=\"sk-item\"><div class=\"sk-serial\"><div class=\"sk-item\"><div class=\"sk-estimator sk-toggleable\"><input class=\"sk-toggleable__control sk-hidden--visually\" id=\"sk-estimator-id-93\" type=\"checkbox\" ><label for=\"sk-estimator-id-93\" class=\"sk-toggleable__label sk-toggleable__label-arrow\">RandomForestRegressor</label><div class=\"sk-toggleable__content\"><pre>RandomForestRegressor(random_state=13)</pre></div></div></div></div></div></div></div></div></div></div></div></div>"
      ],
      "text/plain": [
       "GridSearchCV(estimator=Pipeline(steps=[('rf',\n",
       "                                        RandomForestRegressor(random_state=13))]),\n",
       "             param_grid={'rf__max_depth': [5, 7, 9],\n",
       "                         'rf__max_features': ['sqrt', 1],\n",
       "                         'rf__max_samples': [0.65, 0.75, 0.85],\n",
       "                         'rf__n_estimators': [50, 75, 100, 150]})"
      ]
     },
     "execution_count": 142,
     "metadata": {},
     "output_type": "execute_result"
    }
   ],
   "source": [
    "rf_pipe = Pipeline([\n",
    "    ('rf', RandomForestRegressor(random_state = 13))\n",
    "])\n",
    "\n",
    "rf_params = {\n",
    "    'rf__n_estimators': [50, 75, 100, 150],\n",
    "    'rf__max_depth': [5, 7, 9],\n",
    "    'rf__max_features': ['sqrt', 1],\n",
    "    'rf__max_samples': [0.65, 0.75, 0.85],\n",
    "}\n",
    "\n",
    "rf_gs = GridSearchCV(rf_pipe, param_grid = rf_params)\n",
    "\n",
    "rf_gs.fit(X_env_train, y_train)"
   ]
  },
  {
   "cell_type": "code",
   "execution_count": 143,
   "id": "49408f50",
   "metadata": {},
   "outputs": [
    {
     "data": {
      "text/plain": [
       "{'rf__max_depth': 7,\n",
       " 'rf__max_features': 'sqrt',\n",
       " 'rf__max_samples': 0.65,\n",
       " 'rf__n_estimators': 150}"
      ]
     },
     "execution_count": 143,
     "metadata": {},
     "output_type": "execute_result"
    }
   ],
   "source": [
    "rf_train_preds = rf_gs.predict(X_env_train)\n",
    "rf_val_preds = rf_gs.predict(X_env_val)\n",
    "rf_gs.best_params_"
   ]
  },
  {
   "cell_type": "markdown",
   "id": "1c81436a",
   "metadata": {},
   "source": [
    "When finding the R squared values for the train score was 0.533 and the test score was 0.294, the tests shows signs of overfitting. Next, we looked at the RMSE and saw train score being 6.819 and test score of 11.096. "
   ]
  },
  {
   "cell_type": "code",
   "execution_count": 144,
   "id": "e21bf80e",
   "metadata": {},
   "outputs": [
    {
     "name": "stdout",
     "output_type": "stream",
     "text": [
      "Random Forest Train R squared: 0.5339457472643556\n",
      "Random Fores Validation R squared: 0.29624382558473894\n",
      "\n",
      "\n",
      "Random Forest Train RMSE: 6.819010005018583\n",
      "Random Forest Validation RMSE: 11.096817940201568\n"
     ]
    }
   ],
   "source": [
    "print('Random Forest Train R squared:', rf_gs.score(X_env_train, y_train))\n",
    "print('Random Fores Validation R squared:', rf_gs.score(X_env_val, y_val))\n",
    "\n",
    "print('\\n')\n",
    "\n",
    "print('Random Forest Train RMSE:', mean_squared_error(y_train, rf_train_preds, squared = False))\n",
    "print('Random Forest Validation RMSE:', mean_squared_error(y_val, rf_val_preds, squared = False))"
   ]
  },
  {
   "cell_type": "markdown",
   "id": "08601b9a",
   "metadata": {},
   "source": [
    "### AdaBoost"
   ]
  },
  {
   "cell_type": "markdown",
   "id": "64f6b19e",
   "metadata": {},
   "source": [
    "In the adaboost regressors the parameters used were n_estimators, learning_rate looks at providing a weight to each regressor after each iteration to boost it, random_state was kept at 13 for consistency, and then loss updates the weight after each boosting. The best parameters from adaboost were 1.25 for learning rate, loss was square, and estimators was 25."
   ]
  },
  {
   "cell_type": "code",
   "execution_count": 75,
   "id": "623c3043",
   "metadata": {},
   "outputs": [
    {
     "data": {
      "text/html": [
       "<style>#sk-container-id-12 {color: black;background-color: white;}#sk-container-id-12 pre{padding: 0;}#sk-container-id-12 div.sk-toggleable {background-color: white;}#sk-container-id-12 label.sk-toggleable__label {cursor: pointer;display: block;width: 100%;margin-bottom: 0;padding: 0.3em;box-sizing: border-box;text-align: center;}#sk-container-id-12 label.sk-toggleable__label-arrow:before {content: \"▸\";float: left;margin-right: 0.25em;color: #696969;}#sk-container-id-12 label.sk-toggleable__label-arrow:hover:before {color: black;}#sk-container-id-12 div.sk-estimator:hover label.sk-toggleable__label-arrow:before {color: black;}#sk-container-id-12 div.sk-toggleable__content {max-height: 0;max-width: 0;overflow: hidden;text-align: left;background-color: #f0f8ff;}#sk-container-id-12 div.sk-toggleable__content pre {margin: 0.2em;color: black;border-radius: 0.25em;background-color: #f0f8ff;}#sk-container-id-12 input.sk-toggleable__control:checked~div.sk-toggleable__content {max-height: 200px;max-width: 100%;overflow: auto;}#sk-container-id-12 input.sk-toggleable__control:checked~label.sk-toggleable__label-arrow:before {content: \"▾\";}#sk-container-id-12 div.sk-estimator input.sk-toggleable__control:checked~label.sk-toggleable__label {background-color: #d4ebff;}#sk-container-id-12 div.sk-label input.sk-toggleable__control:checked~label.sk-toggleable__label {background-color: #d4ebff;}#sk-container-id-12 input.sk-hidden--visually {border: 0;clip: rect(1px 1px 1px 1px);clip: rect(1px, 1px, 1px, 1px);height: 1px;margin: -1px;overflow: hidden;padding: 0;position: absolute;width: 1px;}#sk-container-id-12 div.sk-estimator {font-family: monospace;background-color: #f0f8ff;border: 1px dotted black;border-radius: 0.25em;box-sizing: border-box;margin-bottom: 0.5em;}#sk-container-id-12 div.sk-estimator:hover {background-color: #d4ebff;}#sk-container-id-12 div.sk-parallel-item::after {content: \"\";width: 100%;border-bottom: 1px solid gray;flex-grow: 1;}#sk-container-id-12 div.sk-label:hover label.sk-toggleable__label {background-color: #d4ebff;}#sk-container-id-12 div.sk-serial::before {content: \"\";position: absolute;border-left: 1px solid gray;box-sizing: border-box;top: 0;bottom: 0;left: 50%;z-index: 0;}#sk-container-id-12 div.sk-serial {display: flex;flex-direction: column;align-items: center;background-color: white;padding-right: 0.2em;padding-left: 0.2em;position: relative;}#sk-container-id-12 div.sk-item {position: relative;z-index: 1;}#sk-container-id-12 div.sk-parallel {display: flex;align-items: stretch;justify-content: center;background-color: white;position: relative;}#sk-container-id-12 div.sk-item::before, #sk-container-id-12 div.sk-parallel-item::before {content: \"\";position: absolute;border-left: 1px solid gray;box-sizing: border-box;top: 0;bottom: 0;left: 50%;z-index: -1;}#sk-container-id-12 div.sk-parallel-item {display: flex;flex-direction: column;z-index: 1;position: relative;background-color: white;}#sk-container-id-12 div.sk-parallel-item:first-child::after {align-self: flex-end;width: 50%;}#sk-container-id-12 div.sk-parallel-item:last-child::after {align-self: flex-start;width: 50%;}#sk-container-id-12 div.sk-parallel-item:only-child::after {width: 0;}#sk-container-id-12 div.sk-dashed-wrapped {border: 1px dashed gray;margin: 0 0.4em 0.5em 0.4em;box-sizing: border-box;padding-bottom: 0.4em;background-color: white;}#sk-container-id-12 div.sk-label label {font-family: monospace;font-weight: bold;display: inline-block;line-height: 1.2em;}#sk-container-id-12 div.sk-label-container {text-align: center;}#sk-container-id-12 div.sk-container {/* jupyter's `normalize.less` sets `[hidden] { display: none; }` but bootstrap.min.css set `[hidden] { display: none !important; }` so we also need the `!important` here to be able to override the default hidden behavior on the sphinx rendered scikit-learn.org. See: https://github.com/scikit-learn/scikit-learn/issues/21755 */display: inline-block !important;position: relative;}#sk-container-id-12 div.sk-text-repr-fallback {display: none;}</style><div id=\"sk-container-id-12\" class=\"sk-top-container\"><div class=\"sk-text-repr-fallback\"><pre>GridSearchCV(estimator=Pipeline(steps=[(&#x27;ada&#x27;,\n",
       "                                        AdaBoostRegressor(random_state=13))]),\n",
       "             param_grid={&#x27;ada__learning_rate&#x27;: [0.75, 1, 1.25],\n",
       "                         &#x27;ada__loss&#x27;: [&#x27;linear&#x27;, &#x27;square&#x27;, &#x27;exponential&#x27;],\n",
       "                         &#x27;ada__n_estimators&#x27;: [25, 50, 60],\n",
       "                         &#x27;ada__random_state&#x27;: [13]})</pre><b>In a Jupyter environment, please rerun this cell to show the HTML representation or trust the notebook. <br />On GitHub, the HTML representation is unable to render, please try loading this page with nbviewer.org.</b></div><div class=\"sk-container\" hidden><div class=\"sk-item sk-dashed-wrapped\"><div class=\"sk-label-container\"><div class=\"sk-label sk-toggleable\"><input class=\"sk-toggleable__control sk-hidden--visually\" id=\"sk-estimator-id-52\" type=\"checkbox\" ><label for=\"sk-estimator-id-52\" class=\"sk-toggleable__label sk-toggleable__label-arrow\">GridSearchCV</label><div class=\"sk-toggleable__content\"><pre>GridSearchCV(estimator=Pipeline(steps=[(&#x27;ada&#x27;,\n",
       "                                        AdaBoostRegressor(random_state=13))]),\n",
       "             param_grid={&#x27;ada__learning_rate&#x27;: [0.75, 1, 1.25],\n",
       "                         &#x27;ada__loss&#x27;: [&#x27;linear&#x27;, &#x27;square&#x27;, &#x27;exponential&#x27;],\n",
       "                         &#x27;ada__n_estimators&#x27;: [25, 50, 60],\n",
       "                         &#x27;ada__random_state&#x27;: [13]})</pre></div></div></div><div class=\"sk-parallel\"><div class=\"sk-parallel-item\"><div class=\"sk-item\"><div class=\"sk-label-container\"><div class=\"sk-label sk-toggleable\"><input class=\"sk-toggleable__control sk-hidden--visually\" id=\"sk-estimator-id-53\" type=\"checkbox\" ><label for=\"sk-estimator-id-53\" class=\"sk-toggleable__label sk-toggleable__label-arrow\">estimator: Pipeline</label><div class=\"sk-toggleable__content\"><pre>Pipeline(steps=[(&#x27;ada&#x27;, AdaBoostRegressor(random_state=13))])</pre></div></div></div><div class=\"sk-serial\"><div class=\"sk-item\"><div class=\"sk-serial\"><div class=\"sk-item\"><div class=\"sk-estimator sk-toggleable\"><input class=\"sk-toggleable__control sk-hidden--visually\" id=\"sk-estimator-id-54\" type=\"checkbox\" ><label for=\"sk-estimator-id-54\" class=\"sk-toggleable__label sk-toggleable__label-arrow\">AdaBoostRegressor</label><div class=\"sk-toggleable__content\"><pre>AdaBoostRegressor(random_state=13)</pre></div></div></div></div></div></div></div></div></div></div></div></div>"
      ],
      "text/plain": [
       "GridSearchCV(estimator=Pipeline(steps=[('ada',\n",
       "                                        AdaBoostRegressor(random_state=13))]),\n",
       "             param_grid={'ada__learning_rate': [0.75, 1, 1.25],\n",
       "                         'ada__loss': ['linear', 'square', 'exponential'],\n",
       "                         'ada__n_estimators': [25, 50, 60],\n",
       "                         'ada__random_state': [13]})"
      ]
     },
     "execution_count": 75,
     "metadata": {},
     "output_type": "execute_result"
    }
   ],
   "source": [
    "ada_pipe = Pipeline([\n",
    "    ('ada', AdaBoostRegressor(random_state = 13))\n",
    "])\n",
    "\n",
    "ada_params = {\n",
    "    'ada__n_estimators': [25, 50, 60],\n",
    "    'ada__learning_rate': [0.75, 1, 1.25],\n",
    "    'ada__random_state': [13],\n",
    "    'ada__loss': ['linear', 'square', 'exponential']\n",
    "}\n",
    "\n",
    "ada_gs = GridSearchCV(ada_pipe, param_grid = ada_params)\n",
    "\n",
    "ada_gs.fit(X_env_train, y_train)"
   ]
  },
  {
   "cell_type": "code",
   "execution_count": 76,
   "id": "54416a69",
   "metadata": {},
   "outputs": [
    {
     "name": "stdout",
     "output_type": "stream",
     "text": [
      "{'ada__learning_rate': 1.25, 'ada__loss': 'square', 'ada__n_estimators': 25, 'ada__random_state': 13}\n"
     ]
    }
   ],
   "source": [
    "#best params\n",
    "print(ada_gs.best_params_)\n",
    "\n",
    "#train model\n",
    "ada_train_preds = ada_gs.predict(X_env_train)\n",
    "ada_val_preds = ada_gs.predict(X_env_val)"
   ]
  },
  {
   "cell_type": "markdown",
   "id": "f14ec58a",
   "metadata": {},
   "source": [
    "When finding the R squared values for the train score was 0.0128 and the test score was -0.0017, the tests shows signs of overfitting. Next, we looked at the RMSE and saw train score being 9.924 and test score of 13.229. "
   ]
  },
  {
   "cell_type": "code",
   "execution_count": 77,
   "id": "45fda594",
   "metadata": {},
   "outputs": [
    {
     "name": "stdout",
     "output_type": "stream",
     "text": [
      "AdaBoostRegressor R squared: 0.012816508190007347\n",
      "AdaBoostRegressor Validation R squared: -0.00017691063963209963\n",
      "\n",
      "\n",
      "AdaBoostRegressor Train RMSE: 9.924349088383087\n",
      "AdaBoostRegressor Validation RMSE: 13.2289618498637\n"
     ]
    }
   ],
   "source": [
    "#return metrics\n",
    "print('AdaBoostRegressor R squared:', ada_gs.score(X_env_train, y_train))\n",
    "print('AdaBoostRegressor Validation R squared:', ada_gs.score(X_env_val, y_val))\n",
    "\n",
    "print('\\n')\n",
    "\n",
    "print('AdaBoostRegressor Train RMSE:', mean_squared_error(y_train, ada_train_preds, squared = False))\n",
    "print('AdaBoostRegressor Validation RMSE:', mean_squared_error(y_val, ada_val_preds, squared = False))"
   ]
  },
  {
   "cell_type": "markdown",
   "id": "5cbb1421",
   "metadata": {},
   "source": [
    "### Gradient Boost"
   ]
  },
  {
   "cell_type": "markdown",
   "id": "9d1a3e03",
   "metadata": {},
   "source": [
    "In the Gradient boost regressors the parameters used were max_depth, n_estimators, learning_rate, and min_sample_splits. The best parameters were learning rate of 0.1, max_depth of 2, min_sample_splt of 2, and n_estimators 100."
   ]
  },
  {
   "cell_type": "code",
   "execution_count": 151,
   "id": "b665a5a2",
   "metadata": {},
   "outputs": [
    {
     "name": "stdout",
     "output_type": "stream",
     "text": [
      "Fitting 3 folds for each of 36 candidates, totalling 108 fits\n"
     ]
    },
    {
     "name": "stderr",
     "output_type": "stream",
     "text": [
      "C:\\Users\\Vishnu\\anaconda3\\lib\\site-packages\\sklearn\\model_selection\\_validation.py:378: FitFailedWarning: \n",
      "54 fits failed out of a total of 108.\n",
      "The score on these train-test partitions for these parameters will be set to nan.\n",
      "If these failures are not expected, you can try to debug them by setting error_score='raise'.\n",
      "\n",
      "Below are more details about the failures:\n",
      "--------------------------------------------------------------------------------\n",
      "54 fits failed with the following error:\n",
      "Traceback (most recent call last):\n",
      "  File \"C:\\Users\\Vishnu\\anaconda3\\lib\\site-packages\\sklearn\\model_selection\\_validation.py\", line 686, in _fit_and_score\n",
      "    estimator.fit(X_train, y_train, **fit_params)\n",
      "  File \"C:\\Users\\Vishnu\\anaconda3\\lib\\site-packages\\sklearn\\pipeline.py\", line 382, in fit\n",
      "    self._final_estimator.fit(Xt, y, **fit_params_last_step)\n",
      "  File \"C:\\Users\\Vishnu\\anaconda3\\lib\\site-packages\\sklearn\\ensemble\\_gb.py\", line 668, in fit\n",
      "    n_stages = self._fit_stages(\n",
      "  File \"C:\\Users\\Vishnu\\anaconda3\\lib\\site-packages\\sklearn\\ensemble\\_gb.py\", line 745, in _fit_stages\n",
      "    raw_predictions = self._fit_stage(\n",
      "  File \"C:\\Users\\Vishnu\\anaconda3\\lib\\site-packages\\sklearn\\ensemble\\_gb.py\", line 247, in _fit_stage\n",
      "    tree.fit(X, residual, sample_weight=sample_weight, check_input=False)\n",
      "  File \"C:\\Users\\Vishnu\\anaconda3\\lib\\site-packages\\sklearn\\tree\\_classes.py\", line 1342, in fit\n",
      "    super().fit(\n",
      "  File \"C:\\Users\\Vishnu\\anaconda3\\lib\\site-packages\\sklearn\\tree\\_classes.py\", line 265, in fit\n",
      "    check_scalar(\n",
      "  File \"C:\\Users\\Vishnu\\anaconda3\\lib\\site-packages\\sklearn\\utils\\validation.py\", line 1480, in check_scalar\n",
      "    raise ValueError(\n",
      "ValueError: min_samples_split == 1, must be >= 2.\n",
      "\n",
      "  warnings.warn(some_fits_failed_message, FitFailedWarning)\n",
      "C:\\Users\\Vishnu\\anaconda3\\lib\\site-packages\\sklearn\\model_selection\\_search.py:953: UserWarning: One or more of the test scores are non-finite: [        nan         nan         nan  0.0193917  -0.12919235 -0.23586727\n",
      "         nan         nan         nan -0.03932489 -0.34735613 -0.51776161\n",
      "         nan         nan         nan -0.15771997 -0.28090447 -0.58114421\n",
      "         nan         nan         nan -0.39869201 -0.55443588 -0.60862708\n",
      "         nan         nan         nan  0.40713251  0.38612024  0.2724522\n",
      "         nan         nan         nan  0.36720145  0.32881179  0.25984418]\n",
      "  warnings.warn(\n"
     ]
    },
    {
     "data": {
      "text/html": [
       "<style>#sk-container-id-25 {color: black;background-color: white;}#sk-container-id-25 pre{padding: 0;}#sk-container-id-25 div.sk-toggleable {background-color: white;}#sk-container-id-25 label.sk-toggleable__label {cursor: pointer;display: block;width: 100%;margin-bottom: 0;padding: 0.3em;box-sizing: border-box;text-align: center;}#sk-container-id-25 label.sk-toggleable__label-arrow:before {content: \"▸\";float: left;margin-right: 0.25em;color: #696969;}#sk-container-id-25 label.sk-toggleable__label-arrow:hover:before {color: black;}#sk-container-id-25 div.sk-estimator:hover label.sk-toggleable__label-arrow:before {color: black;}#sk-container-id-25 div.sk-toggleable__content {max-height: 0;max-width: 0;overflow: hidden;text-align: left;background-color: #f0f8ff;}#sk-container-id-25 div.sk-toggleable__content pre {margin: 0.2em;color: black;border-radius: 0.25em;background-color: #f0f8ff;}#sk-container-id-25 input.sk-toggleable__control:checked~div.sk-toggleable__content {max-height: 200px;max-width: 100%;overflow: auto;}#sk-container-id-25 input.sk-toggleable__control:checked~label.sk-toggleable__label-arrow:before {content: \"▾\";}#sk-container-id-25 div.sk-estimator input.sk-toggleable__control:checked~label.sk-toggleable__label {background-color: #d4ebff;}#sk-container-id-25 div.sk-label input.sk-toggleable__control:checked~label.sk-toggleable__label {background-color: #d4ebff;}#sk-container-id-25 input.sk-hidden--visually {border: 0;clip: rect(1px 1px 1px 1px);clip: rect(1px, 1px, 1px, 1px);height: 1px;margin: -1px;overflow: hidden;padding: 0;position: absolute;width: 1px;}#sk-container-id-25 div.sk-estimator {font-family: monospace;background-color: #f0f8ff;border: 1px dotted black;border-radius: 0.25em;box-sizing: border-box;margin-bottom: 0.5em;}#sk-container-id-25 div.sk-estimator:hover {background-color: #d4ebff;}#sk-container-id-25 div.sk-parallel-item::after {content: \"\";width: 100%;border-bottom: 1px solid gray;flex-grow: 1;}#sk-container-id-25 div.sk-label:hover label.sk-toggleable__label {background-color: #d4ebff;}#sk-container-id-25 div.sk-serial::before {content: \"\";position: absolute;border-left: 1px solid gray;box-sizing: border-box;top: 0;bottom: 0;left: 50%;z-index: 0;}#sk-container-id-25 div.sk-serial {display: flex;flex-direction: column;align-items: center;background-color: white;padding-right: 0.2em;padding-left: 0.2em;position: relative;}#sk-container-id-25 div.sk-item {position: relative;z-index: 1;}#sk-container-id-25 div.sk-parallel {display: flex;align-items: stretch;justify-content: center;background-color: white;position: relative;}#sk-container-id-25 div.sk-item::before, #sk-container-id-25 div.sk-parallel-item::before {content: \"\";position: absolute;border-left: 1px solid gray;box-sizing: border-box;top: 0;bottom: 0;left: 50%;z-index: -1;}#sk-container-id-25 div.sk-parallel-item {display: flex;flex-direction: column;z-index: 1;position: relative;background-color: white;}#sk-container-id-25 div.sk-parallel-item:first-child::after {align-self: flex-end;width: 50%;}#sk-container-id-25 div.sk-parallel-item:last-child::after {align-self: flex-start;width: 50%;}#sk-container-id-25 div.sk-parallel-item:only-child::after {width: 0;}#sk-container-id-25 div.sk-dashed-wrapped {border: 1px dashed gray;margin: 0 0.4em 0.5em 0.4em;box-sizing: border-box;padding-bottom: 0.4em;background-color: white;}#sk-container-id-25 div.sk-label label {font-family: monospace;font-weight: bold;display: inline-block;line-height: 1.2em;}#sk-container-id-25 div.sk-label-container {text-align: center;}#sk-container-id-25 div.sk-container {/* jupyter's `normalize.less` sets `[hidden] { display: none; }` but bootstrap.min.css set `[hidden] { display: none !important; }` so we also need the `!important` here to be able to override the default hidden behavior on the sphinx rendered scikit-learn.org. See: https://github.com/scikit-learn/scikit-learn/issues/21755 */display: inline-block !important;position: relative;}#sk-container-id-25 div.sk-text-repr-fallback {display: none;}</style><div id=\"sk-container-id-25\" class=\"sk-top-container\"><div class=\"sk-text-repr-fallback\"><pre>GridSearchCV(cv=3,\n",
       "             estimator=Pipeline(steps=[(&#x27;ss&#x27;, StandardScaler()),\n",
       "                                       (&#x27;g_boost&#x27;,\n",
       "                                        GradientBoostingRegressor(random_state=13))]),\n",
       "             param_grid={&#x27;g_boost__learning_rate&#x27;: [0.8, 1.0, 0.1],\n",
       "                         &#x27;g_boost__max_depth&#x27;: [2, 3],\n",
       "                         &#x27;g_boost__min_samples_split&#x27;: [1, 2],\n",
       "                         &#x27;g_boost__n_estimators&#x27;: [100, 250, 500]},\n",
       "             verbose=1)</pre><b>In a Jupyter environment, please rerun this cell to show the HTML representation or trust the notebook. <br />On GitHub, the HTML representation is unable to render, please try loading this page with nbviewer.org.</b></div><div class=\"sk-container\" hidden><div class=\"sk-item sk-dashed-wrapped\"><div class=\"sk-label-container\"><div class=\"sk-label sk-toggleable\"><input class=\"sk-toggleable__control sk-hidden--visually\" id=\"sk-estimator-id-97\" type=\"checkbox\" ><label for=\"sk-estimator-id-97\" class=\"sk-toggleable__label sk-toggleable__label-arrow\">GridSearchCV</label><div class=\"sk-toggleable__content\"><pre>GridSearchCV(cv=3,\n",
       "             estimator=Pipeline(steps=[(&#x27;ss&#x27;, StandardScaler()),\n",
       "                                       (&#x27;g_boost&#x27;,\n",
       "                                        GradientBoostingRegressor(random_state=13))]),\n",
       "             param_grid={&#x27;g_boost__learning_rate&#x27;: [0.8, 1.0, 0.1],\n",
       "                         &#x27;g_boost__max_depth&#x27;: [2, 3],\n",
       "                         &#x27;g_boost__min_samples_split&#x27;: [1, 2],\n",
       "                         &#x27;g_boost__n_estimators&#x27;: [100, 250, 500]},\n",
       "             verbose=1)</pre></div></div></div><div class=\"sk-parallel\"><div class=\"sk-parallel-item\"><div class=\"sk-item\"><div class=\"sk-label-container\"><div class=\"sk-label sk-toggleable\"><input class=\"sk-toggleable__control sk-hidden--visually\" id=\"sk-estimator-id-98\" type=\"checkbox\" ><label for=\"sk-estimator-id-98\" class=\"sk-toggleable__label sk-toggleable__label-arrow\">estimator: Pipeline</label><div class=\"sk-toggleable__content\"><pre>Pipeline(steps=[(&#x27;ss&#x27;, StandardScaler()),\n",
       "                (&#x27;g_boost&#x27;, GradientBoostingRegressor(random_state=13))])</pre></div></div></div><div class=\"sk-serial\"><div class=\"sk-item\"><div class=\"sk-serial\"><div class=\"sk-item\"><div class=\"sk-estimator sk-toggleable\"><input class=\"sk-toggleable__control sk-hidden--visually\" id=\"sk-estimator-id-99\" type=\"checkbox\" ><label for=\"sk-estimator-id-99\" class=\"sk-toggleable__label sk-toggleable__label-arrow\">StandardScaler</label><div class=\"sk-toggleable__content\"><pre>StandardScaler()</pre></div></div></div><div class=\"sk-item\"><div class=\"sk-estimator sk-toggleable\"><input class=\"sk-toggleable__control sk-hidden--visually\" id=\"sk-estimator-id-100\" type=\"checkbox\" ><label for=\"sk-estimator-id-100\" class=\"sk-toggleable__label sk-toggleable__label-arrow\">GradientBoostingRegressor</label><div class=\"sk-toggleable__content\"><pre>GradientBoostingRegressor(random_state=13)</pre></div></div></div></div></div></div></div></div></div></div></div></div>"
      ],
      "text/plain": [
       "GridSearchCV(cv=3,\n",
       "             estimator=Pipeline(steps=[('ss', StandardScaler()),\n",
       "                                       ('g_boost',\n",
       "                                        GradientBoostingRegressor(random_state=13))]),\n",
       "             param_grid={'g_boost__learning_rate': [0.8, 1.0, 0.1],\n",
       "                         'g_boost__max_depth': [2, 3],\n",
       "                         'g_boost__min_samples_split': [1, 2],\n",
       "                         'g_boost__n_estimators': [100, 250, 500]},\n",
       "             verbose=1)"
      ]
     },
     "execution_count": 151,
     "metadata": {},
     "output_type": "execute_result"
    }
   ],
   "source": [
    "gboost_pipe = Pipeline([\n",
    "    ('ss', StandardScaler()),\n",
    "    ('g_boost', GradientBoostingRegressor(random_state = 13)),\n",
    "])\n",
    "\n",
    "gboost_params = {\n",
    "    'g_boost__max_depth': [2,3],\n",
    "    'g_boost__n_estimators' : [100, 250, 500],\n",
    "    'g_boost__learning_rate' : [0.8, 1.0, 0.1],\n",
    "    'g_boost__min_samples_split': [1, 2]\n",
    "}\n",
    "\n",
    "gb_gs = GridSearchCV(gboost_pipe, param_grid = gboost_params, cv = 3, verbose = 1)\n",
    "gb_gs.fit(X_env_train, y_train)\n"
   ]
  },
  {
   "cell_type": "code",
   "execution_count": 152,
   "id": "1788f441",
   "metadata": {},
   "outputs": [
    {
     "name": "stdout",
     "output_type": "stream",
     "text": [
      "0.4935729417211232\n",
      "0.28530676324731996\n",
      "{'g_boost__learning_rate': 0.1, 'g_boost__max_depth': 2, 'g_boost__min_samples_split': 2, 'g_boost__n_estimators': 100}\n",
      "0.4071325108965822\n"
     ]
    }
   ],
   "source": [
    "print(gb_gs.score(X_env_train, y_train))\n",
    "print(gb_gs.score(X_env_val, y_val))\n",
    "print(gb_gs.best_params_)\n",
    "print(gb_gs.best_score_)"
   ]
  },
  {
   "cell_type": "code",
   "execution_count": 153,
   "id": "05cb527c",
   "metadata": {},
   "outputs": [],
   "source": [
    "gb_train_preds = gb_gs.predict(X_env_train)\n",
    "gb_val_preds = gb_gs.predict(X_env_val)"
   ]
  },
  {
   "cell_type": "markdown",
   "id": "e54ad34b",
   "metadata": {},
   "source": [
    "When finding the R squared values for the train score was 0.4935 and the test score was 0.2853, the tests shows signs of overfitting. Next, we looked at the RMSE and saw train score being 7.1082 and test score of 11.182. "
   ]
  },
  {
   "cell_type": "code",
   "execution_count": 154,
   "id": "a01ec15a",
   "metadata": {},
   "outputs": [
    {
     "name": "stdout",
     "output_type": "stream",
     "text": [
      "GradientBoostRegressor R squared: 0.4935729417211232\n",
      "GradientBoostRegressor Validation R squared: 0.28530676324731996\n",
      "\n",
      "\n",
      "GradientBoostRegressor Train RMSE: 7.108231132594661\n",
      "GradientBoostRegressor Validation RMSE: 11.182713228817217\n"
     ]
    }
   ],
   "source": [
    "#return metrics\n",
    "print('GradientBoostRegressor R squared:', gb_gs.score(X_env_train, y_train))\n",
    "print('GradientBoostRegressor Validation R squared:', gb_gs.score(X_env_val, y_val))\n",
    "\n",
    "print('\\n')\n",
    "\n",
    "print('GradientBoostRegressor Train RMSE:', mean_squared_error(y_train, gb_train_preds, squared = False))\n",
    "print('GradientBoostRegressor Validation RMSE:', mean_squared_error(y_val, gb_val_preds, squared = False))"
   ]
  },
  {
   "cell_type": "markdown",
   "id": "4d27dafc",
   "metadata": {},
   "source": [
    "Conclusion: When looking at all the models for the environmental only features, The best model when it comes to R Squared value  was linear regression in which it had a R squared value of 0.63. When comparing the demographic and environmental features to only environmental features, there was a higher R squared value in the demographic and environmetal feature categories. "
   ]
  }
 ],
 "metadata": {
  "kernelspec": {
   "display_name": "Python 3 (ipykernel)",
   "language": "python",
   "name": "python3"
  },
  "language_info": {
   "codemirror_mode": {
    "name": "ipython",
    "version": 3
   },
   "file_extension": ".py",
   "mimetype": "text/x-python",
   "name": "python",
   "nbconvert_exporter": "python",
   "pygments_lexer": "ipython3",
   "version": "3.9.12"
  }
 },
 "nbformat": 4,
 "nbformat_minor": 5
}
